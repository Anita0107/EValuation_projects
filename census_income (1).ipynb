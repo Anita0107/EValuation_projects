{
 "cells": [
  {
   "cell_type": "markdown",
   "id": "297934d9",
   "metadata": {},
   "source": [
    "Importing dataset"
   ]
  },
  {
   "cell_type": "code",
   "execution_count": 1,
   "id": "c6442048",
   "metadata": {},
   "outputs": [],
   "source": [
    "#Importing Libraries:\n",
    "import numpy as np\n",
    "import pandas as pd"
   ]
  },
  {
   "cell_type": "code",
   "execution_count": 2,
   "id": "6d68ec00",
   "metadata": {},
   "outputs": [
    {
     "data": {
      "text/html": [
       "<div>\n",
       "<style scoped>\n",
       "    .dataframe tbody tr th:only-of-type {\n",
       "        vertical-align: middle;\n",
       "    }\n",
       "\n",
       "    .dataframe tbody tr th {\n",
       "        vertical-align: top;\n",
       "    }\n",
       "\n",
       "    .dataframe thead th {\n",
       "        text-align: right;\n",
       "    }\n",
       "</style>\n",
       "<table border=\"1\" class=\"dataframe\">\n",
       "  <thead>\n",
       "    <tr style=\"text-align: right;\">\n",
       "      <th></th>\n",
       "      <th>Age</th>\n",
       "      <th>Workclass</th>\n",
       "      <th>Fnlwgt</th>\n",
       "      <th>Education</th>\n",
       "      <th>Education_num</th>\n",
       "      <th>Marital_status</th>\n",
       "      <th>Occupation</th>\n",
       "      <th>Relationship</th>\n",
       "      <th>Race</th>\n",
       "      <th>Sex</th>\n",
       "      <th>Capital_gain</th>\n",
       "      <th>Capital_loss</th>\n",
       "      <th>Hours_per_week</th>\n",
       "      <th>Native_country</th>\n",
       "      <th>Income</th>\n",
       "    </tr>\n",
       "  </thead>\n",
       "  <tbody>\n",
       "    <tr>\n",
       "      <th>0</th>\n",
       "      <td>50</td>\n",
       "      <td>Self-emp-not-inc</td>\n",
       "      <td>83311</td>\n",
       "      <td>Bachelors</td>\n",
       "      <td>13</td>\n",
       "      <td>Married-civ-spouse</td>\n",
       "      <td>Exec-managerial</td>\n",
       "      <td>Husband</td>\n",
       "      <td>White</td>\n",
       "      <td>Male</td>\n",
       "      <td>0</td>\n",
       "      <td>0</td>\n",
       "      <td>13</td>\n",
       "      <td>United-States</td>\n",
       "      <td>&lt;=50K</td>\n",
       "    </tr>\n",
       "    <tr>\n",
       "      <th>1</th>\n",
       "      <td>38</td>\n",
       "      <td>Private</td>\n",
       "      <td>215646</td>\n",
       "      <td>HS-grad</td>\n",
       "      <td>9</td>\n",
       "      <td>Divorced</td>\n",
       "      <td>Handlers-cleaners</td>\n",
       "      <td>Not-in-family</td>\n",
       "      <td>White</td>\n",
       "      <td>Male</td>\n",
       "      <td>0</td>\n",
       "      <td>0</td>\n",
       "      <td>40</td>\n",
       "      <td>United-States</td>\n",
       "      <td>&lt;=50K</td>\n",
       "    </tr>\n",
       "    <tr>\n",
       "      <th>2</th>\n",
       "      <td>53</td>\n",
       "      <td>Private</td>\n",
       "      <td>234721</td>\n",
       "      <td>11th</td>\n",
       "      <td>7</td>\n",
       "      <td>Married-civ-spouse</td>\n",
       "      <td>Handlers-cleaners</td>\n",
       "      <td>Husband</td>\n",
       "      <td>Black</td>\n",
       "      <td>Male</td>\n",
       "      <td>0</td>\n",
       "      <td>0</td>\n",
       "      <td>40</td>\n",
       "      <td>United-States</td>\n",
       "      <td>&lt;=50K</td>\n",
       "    </tr>\n",
       "    <tr>\n",
       "      <th>3</th>\n",
       "      <td>28</td>\n",
       "      <td>Private</td>\n",
       "      <td>338409</td>\n",
       "      <td>Bachelors</td>\n",
       "      <td>13</td>\n",
       "      <td>Married-civ-spouse</td>\n",
       "      <td>Prof-specialty</td>\n",
       "      <td>Wife</td>\n",
       "      <td>Black</td>\n",
       "      <td>Female</td>\n",
       "      <td>0</td>\n",
       "      <td>0</td>\n",
       "      <td>40</td>\n",
       "      <td>Cuba</td>\n",
       "      <td>&lt;=50K</td>\n",
       "    </tr>\n",
       "    <tr>\n",
       "      <th>4</th>\n",
       "      <td>37</td>\n",
       "      <td>Private</td>\n",
       "      <td>284582</td>\n",
       "      <td>Masters</td>\n",
       "      <td>14</td>\n",
       "      <td>Married-civ-spouse</td>\n",
       "      <td>Exec-managerial</td>\n",
       "      <td>Wife</td>\n",
       "      <td>White</td>\n",
       "      <td>Female</td>\n",
       "      <td>0</td>\n",
       "      <td>0</td>\n",
       "      <td>40</td>\n",
       "      <td>United-States</td>\n",
       "      <td>&lt;=50K</td>\n",
       "    </tr>\n",
       "  </tbody>\n",
       "</table>\n",
       "</div>"
      ],
      "text/plain": [
       "   Age          Workclass  Fnlwgt   Education  Education_num  \\\n",
       "0   50   Self-emp-not-inc   83311   Bachelors             13   \n",
       "1   38            Private  215646     HS-grad              9   \n",
       "2   53            Private  234721        11th              7   \n",
       "3   28            Private  338409   Bachelors             13   \n",
       "4   37            Private  284582     Masters             14   \n",
       "\n",
       "        Marital_status          Occupation    Relationship    Race      Sex  \\\n",
       "0   Married-civ-spouse     Exec-managerial         Husband   White     Male   \n",
       "1             Divorced   Handlers-cleaners   Not-in-family   White     Male   \n",
       "2   Married-civ-spouse   Handlers-cleaners         Husband   Black     Male   \n",
       "3   Married-civ-spouse      Prof-specialty            Wife   Black   Female   \n",
       "4   Married-civ-spouse     Exec-managerial            Wife   White   Female   \n",
       "\n",
       "   Capital_gain  Capital_loss  Hours_per_week  Native_country  Income  \n",
       "0             0             0              13   United-States   <=50K  \n",
       "1             0             0              40   United-States   <=50K  \n",
       "2             0             0              40   United-States   <=50K  \n",
       "3             0             0              40            Cuba   <=50K  \n",
       "4             0             0              40   United-States   <=50K  "
      ]
     },
     "execution_count": 2,
     "metadata": {},
     "output_type": "execute_result"
    }
   ],
   "source": [
    "#Reading csv file and converting it in dataframe\n",
    "ds= pd.read_csv(\"census_income.csv\")\n",
    "df=pd.DataFrame(ds)\n",
    "df.head()"
   ]
  },
  {
   "cell_type": "markdown",
   "id": "202801ed",
   "metadata": {},
   "source": [
    "Dataset in Dataframe format.\n",
    "Classification Model"
   ]
  },
  {
   "cell_type": "code",
   "execution_count": 3,
   "id": "6564c4b3",
   "metadata": {},
   "outputs": [
    {
     "data": {
      "text/plain": [
       "(32560, 15)"
      ]
     },
     "execution_count": 3,
     "metadata": {},
     "output_type": "execute_result"
    }
   ],
   "source": [
    "# Rows & Columns in dataset:\n",
    "\n",
    "df.shape"
   ]
  },
  {
   "cell_type": "markdown",
   "id": "c3cacacf",
   "metadata": {},
   "source": [
    "Dataset has 32560 Rows and 15 Columns"
   ]
  },
  {
   "cell_type": "code",
   "execution_count": 4,
   "id": "00321065",
   "metadata": {},
   "outputs": [
    {
     "data": {
      "text/plain": [
       "Age                int64\n",
       "Workclass         object\n",
       "Fnlwgt             int64\n",
       "Education         object\n",
       "Education_num      int64\n",
       "Marital_status    object\n",
       "Occupation        object\n",
       "Relationship      object\n",
       "Race              object\n",
       "Sex               object\n",
       "Capital_gain       int64\n",
       "Capital_loss       int64\n",
       "Hours_per_week     int64\n",
       "Native_country    object\n",
       "Income            object\n",
       "dtype: object"
      ]
     },
     "execution_count": 4,
     "metadata": {},
     "output_type": "execute_result"
    }
   ],
   "source": [
    "# Datatype of dataset\n",
    "\n",
    "df.dtypes"
   ]
  },
  {
   "cell_type": "markdown",
   "id": "8881070f",
   "metadata": {},
   "source": [
    "There are 9 Object datatype and 6 numeric datatype.\n",
    "Target label is 'Income' which is object type."
   ]
  },
  {
   "cell_type": "code",
   "execution_count": 5,
   "id": "3767de31",
   "metadata": {},
   "outputs": [
    {
     "name": "stdout",
     "output_type": "stream",
     "text": [
      "<class 'pandas.core.frame.DataFrame'>\n",
      "RangeIndex: 32560 entries, 0 to 32559\n",
      "Data columns (total 15 columns):\n",
      " #   Column          Non-Null Count  Dtype \n",
      "---  ------          --------------  ----- \n",
      " 0   Age             32560 non-null  int64 \n",
      " 1   Workclass       32560 non-null  object\n",
      " 2   Fnlwgt          32560 non-null  int64 \n",
      " 3   Education       32560 non-null  object\n",
      " 4   Education_num   32560 non-null  int64 \n",
      " 5   Marital_status  32560 non-null  object\n",
      " 6   Occupation      32560 non-null  object\n",
      " 7   Relationship    32560 non-null  object\n",
      " 8   Race            32560 non-null  object\n",
      " 9   Sex             32560 non-null  object\n",
      " 10  Capital_gain    32560 non-null  int64 \n",
      " 11  Capital_loss    32560 non-null  int64 \n",
      " 12  Hours_per_week  32560 non-null  int64 \n",
      " 13  Native_country  32560 non-null  object\n",
      " 14  Income          32560 non-null  object\n",
      "dtypes: int64(6), object(9)\n",
      "memory usage: 3.7+ MB\n"
     ]
    }
   ],
   "source": [
    "df.info()"
   ]
  },
  {
   "cell_type": "markdown",
   "id": "1785f73f",
   "metadata": {},
   "source": [
    "No null values and Count of data is 32560 in each column\n",
    "Datatype: 9 are Object and 6 are int64 datatype"
   ]
  },
  {
   "cell_type": "code",
   "execution_count": 6,
   "id": "fd87eb87",
   "metadata": {},
   "outputs": [
    {
     "data": {
      "text/plain": [
       "Age               0\n",
       "Workclass         0\n",
       "Fnlwgt            0\n",
       "Education         0\n",
       "Education_num     0\n",
       "Marital_status    0\n",
       "Occupation        0\n",
       "Relationship      0\n",
       "Race              0\n",
       "Sex               0\n",
       "Capital_gain      0\n",
       "Capital_loss      0\n",
       "Hours_per_week    0\n",
       "Native_country    0\n",
       "Income            0\n",
       "dtype: int64"
      ]
     },
     "execution_count": 6,
     "metadata": {},
     "output_type": "execute_result"
    }
   ],
   "source": [
    "df.isnull().sum()"
   ]
  },
  {
   "cell_type": "markdown",
   "id": "252e3b75",
   "metadata": {},
   "source": [
    "No null present"
   ]
  },
  {
   "cell_type": "code",
   "execution_count": 7,
   "id": "231b7c29",
   "metadata": {},
   "outputs": [
    {
     "name": "stdout",
     "output_type": "stream",
     "text": [
      "Age: [50 38 53 28 37 49 52 31 42 30 23 32 40 34 25 43 54 35 59 56 19 39 20 45\n",
      " 22 48 21 24 57 44 41 29 18 47 46 36 79 27 67 33 76 17 55 61 70 64 71 68\n",
      " 66 51 58 26 60 90 75 65 77 62 63 80 72 74 69 73 81 78 88 82 83 84 85 86\n",
      " 87]\n",
      "Workclass: [' Self-emp-not-inc' ' Private' ' State-gov' ' Federal-gov' ' Local-gov'\n",
      " ' ?' ' Self-emp-inc' ' Without-pay' ' Never-worked']\n",
      "Fnlwgt: [ 83311 215646 234721 ...  34066  84661 257302]\n",
      "Education: [' Bachelors' ' HS-grad' ' 11th' ' Masters' ' 9th' ' Some-college'\n",
      " ' Assoc-acdm' ' Assoc-voc' ' 7th-8th' ' Doctorate' ' Prof-school'\n",
      " ' 5th-6th' ' 10th' ' 1st-4th' ' Preschool' ' 12th']\n",
      "Education_num: [13  9  7 14  5 10 12 11  4 16 15  3  6  2  1  8]\n",
      "Marital_status: [' Married-civ-spouse' ' Divorced' ' Married-spouse-absent'\n",
      " ' Never-married' ' Separated' ' Married-AF-spouse' ' Widowed']\n",
      "Occupation: [' Exec-managerial' ' Handlers-cleaners' ' Prof-specialty'\n",
      " ' Other-service' ' Adm-clerical' ' Sales' ' Craft-repair'\n",
      " ' Transport-moving' ' Farming-fishing' ' Machine-op-inspct'\n",
      " ' Tech-support' ' ?' ' Protective-serv' ' Armed-Forces'\n",
      " ' Priv-house-serv']\n",
      "Relationship: [' Husband' ' Not-in-family' ' Wife' ' Own-child' ' Unmarried'\n",
      " ' Other-relative']\n",
      "Race: [' White' ' Black' ' Asian-Pac-Islander' ' Amer-Indian-Eskimo' ' Other']\n",
      "Sex: [' Male' ' Female']\n",
      "Capital_gain: [    0 14084  5178  5013  2407 14344 15024  7688 34095  4064  4386  7298\n",
      "  1409  3674  1055  3464  2050  2176  2174   594 20051  6849  4101  1111\n",
      "  8614  3411  2597 25236  4650  9386  2463  3103 10605  2964  3325  2580\n",
      "  3471  4865 99999  6514  1471  2329  2105  2885 25124 10520  2202  2961\n",
      " 27828  6767  2228  1506 13550  2635  5556  4787  3781  3137  3818  3942\n",
      "   914   401  2829  2977  4934  2062  2354  5455 15020  1424  3273 22040\n",
      "  4416  3908 10566   991  4931  1086  7430  6497   114  7896  2346  3418\n",
      "  3432  2907  1151  2414  2290 15831 41310  4508  2538  3456  6418  1848\n",
      "  3887  5721  9562  1455  2036  1831 11678  2936  2993  7443  6360  1797\n",
      "  1173  4687  6723  2009  6097  2653  1639 18481  7978  2387  5060]\n",
      "Capital_loss: [   0 2042 1408 1902 1573 1887 1719 1762 1564 2179 1816 1980 1977 1876\n",
      " 1340 2206 1741 1485 2339 2415 1380 1721 2051 2377 1669 2352 1672  653\n",
      " 2392 1504 2001 1590 1651 1628 1848 1740 2002 1579 2258 1602  419 2547\n",
      " 2174 2205 1726 2444 1138 2238  625  213 1539  880 1668 1092 1594 3004\n",
      " 2231 1844  810 2824 2559 2057 1974  974 2149 1825 1735 1258 2129 2603\n",
      " 2282  323 4356 2246 1617 1648 2489 3770 1755 3683 2267 2080 2457  155\n",
      " 3900 2201 1944 2467 2163 2754 2472 1411]\n",
      "Hours_per_week: [13 40 16 45 50 80 30 35 60 20 52 44 15 25 38 43 55 48 58 32 70  2 22 56\n",
      " 41 28 36 24 46 42 12 65  1 10 34 75 98 33 54  8  6 64 19 18 72  5  9 47\n",
      " 37 21 26 14  4 59  7 99 53 39 62 57 78 90 66 11 49 84  3 17 68 27 85 31\n",
      " 51 77 63 23 87 88 73 89 97 94 29 96 67 82 86 91 81 76 92 61 74 95]\n",
      "Native_country: [' United-States' ' Cuba' ' Jamaica' ' India' ' ?' ' Mexico' ' South'\n",
      " ' Puerto-Rico' ' Honduras' ' England' ' Canada' ' Germany' ' Iran'\n",
      " ' Philippines' ' Italy' ' Poland' ' Columbia' ' Cambodia' ' Thailand'\n",
      " ' Ecuador' ' Laos' ' Taiwan' ' Haiti' ' Portugal' ' Dominican-Republic'\n",
      " ' El-Salvador' ' France' ' Guatemala' ' China' ' Japan' ' Yugoslavia'\n",
      " ' Peru' ' Outlying-US(Guam-USVI-etc)' ' Scotland' ' Trinadad&Tobago'\n",
      " ' Greece' ' Nicaragua' ' Vietnam' ' Hong' ' Ireland' ' Hungary'\n",
      " ' Holand-Netherlands']\n",
      "Income: [' <=50K' ' >50K']\n"
     ]
    }
   ],
   "source": [
    "# Checking Unique values of Dataset:\n",
    "\n",
    "column_name =df.columns.values\n",
    "for column in column_name:\n",
    "    print(\"{0}: {1}\".format(column, df[column].unique()))"
   ]
  },
  {
   "cell_type": "markdown",
   "id": "ee4a40c4",
   "metadata": {},
   "source": [
    "Columns Native country, Occupation, Workclass have ' ?' as a value.\n",
    "Need to replace ' ?' with mode values of the respective columns."
   ]
  },
  {
   "cell_type": "code",
   "execution_count": 8,
   "id": "dfcf65aa",
   "metadata": {},
   "outputs": [
    {
     "data": {
      "text/plain": [
       "Index(['Age', 'Workclass', 'Fnlwgt', 'Education', 'Education_num',\n",
       "       'Marital_status', 'Occupation', 'Relationship', 'Race', 'Sex',\n",
       "       'Capital_gain', 'Capital_loss', 'Hours_per_week', 'Native_country',\n",
       "       'Income'],\n",
       "      dtype='object')"
      ]
     },
     "execution_count": 8,
     "metadata": {},
     "output_type": "execute_result"
    }
   ],
   "source": [
    "df.columns"
   ]
  },
  {
   "cell_type": "markdown",
   "id": "1250dfe1",
   "metadata": {},
   "source": [
    "15 columns present in the dataset "
   ]
  },
  {
   "cell_type": "markdown",
   "id": "7bef52ea",
   "metadata": {},
   "source": [
    "# Data Pre-Processing:"
   ]
  },
  {
   "cell_type": "markdown",
   "id": "0842310a",
   "metadata": {},
   "source": [
    "## Filling \" ?\" data with mode values "
   ]
  },
  {
   "cell_type": "code",
   "execution_count": 9,
   "id": "ea4eb466",
   "metadata": {},
   "outputs": [
    {
     "data": {
      "text/plain": [
       "0     Private\n",
       "dtype: object"
      ]
     },
     "execution_count": 9,
     "metadata": {},
     "output_type": "execute_result"
    }
   ],
   "source": [
    "df['Workclass'].mode()"
   ]
  },
  {
   "cell_type": "markdown",
   "id": "d65eac6c",
   "metadata": {},
   "source": [
    "mode value of Workclass is Private"
   ]
  },
  {
   "cell_type": "code",
   "execution_count": 10,
   "id": "64ef55a3",
   "metadata": {},
   "outputs": [
    {
     "data": {
      "text/plain": [
       "0     Prof-specialty\n",
       "dtype: object"
      ]
     },
     "execution_count": 10,
     "metadata": {},
     "output_type": "execute_result"
    }
   ],
   "source": [
    "df['Occupation'].mode()"
   ]
  },
  {
   "cell_type": "markdown",
   "id": "1b68e005",
   "metadata": {},
   "source": [
    "mode value of Occupation is Prof-specialty"
   ]
  },
  {
   "cell_type": "code",
   "execution_count": 11,
   "id": "190d7dda",
   "metadata": {},
   "outputs": [
    {
     "data": {
      "text/plain": [
       "0     United-States\n",
       "dtype: object"
      ]
     },
     "execution_count": 11,
     "metadata": {},
     "output_type": "execute_result"
    }
   ],
   "source": [
    "df['Native_country'].mode()"
   ]
  },
  {
   "cell_type": "markdown",
   "id": "d26d81bd",
   "metadata": {},
   "source": [
    "mode value of Native_country is United-States"
   ]
  },
  {
   "cell_type": "code",
   "execution_count": 12,
   "id": "4ecc5126",
   "metadata": {},
   "outputs": [],
   "source": [
    "# Filling '?' value in dataset with Nan Values:\n",
    "df['Workclass']= df['Workclass'].replace(' ?','Private')\n",
    "df['Occupation']=df['Occupation'].replace(' ?','Prof-specialty')\n",
    "df['Native_country']=df['Native_country'].replace(' ?','United-States')"
   ]
  },
  {
   "cell_type": "markdown",
   "id": "55155a69",
   "metadata": {},
   "source": [
    "'?' value replaced and there are no blank values"
   ]
  },
  {
   "cell_type": "markdown",
   "id": "e6633f80",
   "metadata": {},
   "source": [
    "# EDA: Data Analysis"
   ]
  },
  {
   "cell_type": "code",
   "execution_count": 13,
   "id": "5ff8aac8",
   "metadata": {},
   "outputs": [],
   "source": [
    "#Importing plotting libraries:\n",
    "\n",
    "import seaborn as sns\n",
    "import matplotlib.pyplot as plt\n",
    "import warnings\n",
    "warnings.filterwarnings('ignore')"
   ]
  },
  {
   "cell_type": "markdown",
   "id": "3fa21917",
   "metadata": {},
   "source": [
    "###  Plotting Target Label \"Income\""
   ]
  },
  {
   "cell_type": "code",
   "execution_count": 14,
   "id": "17255b52",
   "metadata": {},
   "outputs": [
    {
     "name": "stdout",
     "output_type": "stream",
     "text": [
      " <=50K    24719\n",
      " >50K      7841\n",
      "Name: Income, dtype: int64\n"
     ]
    },
    {
     "data": {
      "image/png": "[encoded data removed]",
      "text/plain": [
       "<Figure size 432x288 with 1 Axes>"
      ]
     },
     "metadata": {
      "needs_background": "light"
     },
     "output_type": "display_data"
    }
   ],
   "source": [
    "ax=sns.countplot(x=\"Income\", data=df)\n",
    "print(df[\"Income\"].value_counts())"
   ]
  },
  {
   "cell_type": "markdown",
   "id": "678a6142",
   "metadata": {},
   "source": [
    "Count of people earning more than 50k is 7,841 and people earning less than and equal to 50k is 24719.\n",
    "Class Imbalance present."
   ]
  },
  {
   "cell_type": "markdown",
   "id": "efa98f59",
   "metadata": {},
   "source": [
    "## Plotting of Numeric Datatype:"
   ]
  },
  {
   "cell_type": "code",
   "execution_count": 15,
   "id": "d61f9d07",
   "metadata": {},
   "outputs": [
    {
     "data": {
      "text/plain": [
       "<AxesSubplot:xlabel='Fnlwgt', ylabel='Density'>"
      ]
     },
     "execution_count": 15,
     "metadata": {},
     "output_type": "execute_result"
    },
    {
     "data": {
      "image/png": "[encoded data removed]",
      "text/plain": [
       "<Figure size 432x288 with 1 Axes>"
      ]
     },
     "metadata": {
      "needs_background": "light"
     },
     "output_type": "display_data"
    }
   ],
   "source": [
    "sns.distplot(df['Fnlwgt'], kde=True)"
   ]
  },
  {
   "cell_type": "markdown",
   "id": "00834854",
   "metadata": {},
   "source": [
    "Data is not equally distributed and has skewness"
   ]
  },
  {
   "cell_type": "code",
   "execution_count": 16,
   "id": "2e28068c",
   "metadata": {},
   "outputs": [
    {
     "data": {
      "text/plain": [
       "<AxesSubplot:xlabel='Age', ylabel='Density'>"
      ]
     },
     "execution_count": 16,
     "metadata": {},
     "output_type": "execute_result"
    },
    {
     "data": {
      "image/png": "[encoded data removed]",
      "text/plain": [
       "<Figure size 432x288 with 1 Axes>"
      ]
     },
     "metadata": {
      "needs_background": "light"
     },
     "output_type": "display_data"
    }
   ],
   "source": [
    "sns.distplot(df['Age'], kde=True)"
   ]
  },
  {
   "cell_type": "markdown",
   "id": "88598ad2",
   "metadata": {},
   "source": [
    "Data is not equally distributed and has skewness"
   ]
  },
  {
   "cell_type": "code",
   "execution_count": 17,
   "id": "4a8a5cb4",
   "metadata": {},
   "outputs": [
    {
     "data": {
      "text/plain": [
       "<AxesSubplot:xlabel='Education_num', ylabel='Density'>"
      ]
     },
     "execution_count": 17,
     "metadata": {},
     "output_type": "execute_result"
    },
    {
     "data": {
      "image/png": "[encoded data removed]",
      "text/plain": [
       "<Figure size 432x288 with 1 Axes>"
      ]
     },
     "metadata": {
      "needs_background": "light"
     },
     "output_type": "display_data"
    }
   ],
   "source": [
    "sns.distplot(df['Education_num'], kde=True)"
   ]
  },
  {
   "cell_type": "markdown",
   "id": "9e09808e",
   "metadata": {},
   "source": [
    "Data is not equally distributed and has skewness"
   ]
  },
  {
   "cell_type": "code",
   "execution_count": 18,
   "id": "cee6093d",
   "metadata": {},
   "outputs": [
    {
     "data": {
      "text/plain": [
       "<AxesSubplot:xlabel='Capital_gain', ylabel='Density'>"
      ]
     },
     "execution_count": 18,
     "metadata": {},
     "output_type": "execute_result"
    },
    {
     "data": {
      "image/png": "[encoded data removed]",
      "text/plain": [
       "<Figure size 432x288 with 1 Axes>"
      ]
     },
     "metadata": {
      "needs_background": "light"
     },
     "output_type": "display_data"
    }
   ],
   "source": [
    "sns.distplot(df['Capital_gain'], kde=True)"
   ]
  },
  {
   "cell_type": "markdown",
   "id": "da6d9660",
   "metadata": {},
   "source": [
    "Data is not equally distributed and has skewness"
   ]
  },
  {
   "cell_type": "code",
   "execution_count": 19,
   "id": "cfe8f484",
   "metadata": {},
   "outputs": [
    {
     "data": {
      "text/plain": [
       "<AxesSubplot:xlabel='Capital_loss', ylabel='Density'>"
      ]
     },
     "execution_count": 19,
     "metadata": {},
     "output_type": "execute_result"
    },
    {
     "data": {
      "image/png": "[encoded data removed]",
      "text/plain": [
       "<Figure size 432x288 with 1 Axes>"
      ]
     },
     "metadata": {
      "needs_background": "light"
     },
     "output_type": "display_data"
    }
   ],
   "source": [
    "sns.distplot(df['Capital_loss'], kde=True) "
   ]
  },
  {
   "cell_type": "markdown",
   "id": "fd5fb9cc",
   "metadata": {},
   "source": [
    "Data is not equally distributed and has skewness"
   ]
  },
  {
   "cell_type": "code",
   "execution_count": 20,
   "id": "60d337a2",
   "metadata": {},
   "outputs": [
    {
     "data": {
      "text/plain": [
       "<AxesSubplot:xlabel='Hours_per_week', ylabel='Density'>"
      ]
     },
     "execution_count": 20,
     "metadata": {},
     "output_type": "execute_result"
    },
    {
     "data": {
      "image/png": "[encoded data removed]",
      "text/plain": [
       "<Figure size 432x288 with 1 Axes>"
      ]
     },
     "metadata": {
      "needs_background": "light"
     },
     "output_type": "display_data"
    }
   ],
   "source": [
    "sns.distplot(df['Hours_per_week'], kde=True)"
   ]
  },
  {
   "cell_type": "markdown",
   "id": "4e5f33b9",
   "metadata": {},
   "source": [
    "Data is not equally distributed and has skewness"
   ]
  },
  {
   "cell_type": "markdown",
   "id": "99faf970",
   "metadata": {},
   "source": [
    "## Plotting Object datatype"
   ]
  },
  {
   "cell_type": "code",
   "execution_count": 21,
   "id": "bc9659dc",
   "metadata": {},
   "outputs": [
    {
     "name": "stdout",
     "output_type": "stream",
     "text": [
      " Private             22696\n",
      " Self-emp-not-inc     2541\n",
      " Local-gov            2093\n",
      "Private               1836\n",
      " State-gov            1297\n",
      " Self-emp-inc         1116\n",
      " Federal-gov           960\n",
      " Without-pay            14\n",
      " Never-worked            7\n",
      "Name: Workclass, dtype: int64\n"
     ]
    },
    {
     "data": {
      "image/png": "[encoded data removed]",
      "text/plain": [
       "<Figure size 864x288 with 1 Axes>"
      ]
     },
     "metadata": {
      "needs_background": "light"
     },
     "output_type": "display_data"
    }
   ],
   "source": [
    "plt.figure(figsize=(12,4))\n",
    "ax=sns.countplot(x=\"Workclass\", data=df)\n",
    "print(df[\"Workclass\"].value_counts())"
   ]
  },
  {
   "cell_type": "markdown",
   "id": "0ad8add0",
   "metadata": {},
   "source": [
    "Maximum workclasss are in Private sector , without-pay and never-worked count is minimum."
   ]
  },
  {
   "cell_type": "code",
   "execution_count": 22,
   "id": "5d49cb59",
   "metadata": {},
   "outputs": [
    {
     "name": "stdout",
     "output_type": "stream",
     "text": [
      " HS-grad         10501\n",
      " Some-college     7291\n",
      " Bachelors        5354\n",
      " Masters          1723\n",
      " Assoc-voc        1382\n",
      " 11th             1175\n",
      " Assoc-acdm       1067\n",
      " 10th              933\n",
      " 7th-8th           646\n",
      " Prof-school       576\n",
      " 9th               514\n",
      " 12th              433\n",
      " Doctorate         413\n",
      " 5th-6th           333\n",
      " 1st-4th           168\n",
      " Preschool          51\n",
      "Name: Education, dtype: int64\n"
     ]
    },
    {
     "data": {
      "image/png": "[encoded data removed]",
      "text/plain": [
       "<Figure size 1296x288 with 1 Axes>"
      ]
     },
     "metadata": {
      "needs_background": "light"
     },
     "output_type": "display_data"
    }
   ],
   "source": [
    "plt.figure(figsize=(18,4))\n",
    "ax=sns.countplot(x=\"Education\", data=df)\n",
    "print(df[\"Education\"].value_counts())"
   ]
  },
  {
   "cell_type": "markdown",
   "id": "287c2486",
   "metadata": {},
   "source": [
    "Maximum people have completed HS grad and then Some-college."
   ]
  },
  {
   "cell_type": "code",
   "execution_count": 23,
   "id": "fbe14885",
   "metadata": {},
   "outputs": [
    {
     "name": "stdout",
     "output_type": "stream",
     "text": [
      " Married-civ-spouse       14976\n",
      " Never-married            10682\n",
      " Divorced                  4443\n",
      " Separated                 1025\n",
      " Widowed                    993\n",
      " Married-spouse-absent      418\n",
      " Married-AF-spouse           23\n",
      "Name: Marital_status, dtype: int64\n"
     ]
    },
    {
     "data": {
      "image/png": "[encoded data removed]",
      "text/plain": [
       "<Figure size 720x288 with 1 Axes>"
      ]
     },
     "metadata": {
      "needs_background": "light"
     },
     "output_type": "display_data"
    }
   ],
   "source": [
    "plt.figure(figsize=(10,4))\n",
    "ax=sns.countplot(x=\"Marital_status\", data=df)\n",
    "print(df[\"Marital_status\"].value_counts())"
   ]
  },
  {
   "cell_type": "markdown",
   "id": "701260d7",
   "metadata": {},
   "source": [
    "Married-civ-spouse have higher count and after that its Never-married."
   ]
  },
  {
   "cell_type": "code",
   "execution_count": 24,
   "id": "32045eb2",
   "metadata": {},
   "outputs": [
    {
     "name": "stdout",
     "output_type": "stream",
     "text": [
      " Prof-specialty       4140\n",
      " Craft-repair         4099\n",
      " Exec-managerial      4066\n",
      " Adm-clerical         3769\n",
      " Sales                3650\n",
      " Other-service        3295\n",
      " Machine-op-inspct    2002\n",
      "Prof-specialty        1843\n",
      " Transport-moving     1597\n",
      " Handlers-cleaners    1370\n",
      " Farming-fishing       994\n",
      " Tech-support          928\n",
      " Protective-serv       649\n",
      " Priv-house-serv       149\n",
      " Armed-Forces            9\n",
      "Name: Occupation, dtype: int64\n"
     ]
    },
    {
     "data": {
      "image/png": "[encoded data removed]",
      "text/plain": [
       "<Figure size 1584x288 with 1 Axes>"
      ]
     },
     "metadata": {
      "needs_background": "light"
     },
     "output_type": "display_data"
    }
   ],
   "source": [
    "plt.figure(figsize=(22,4))\n",
    "ax=sns.countplot(x=\"Occupation\", data=df)\n",
    "print(df[\"Occupation\"].value_counts())"
   ]
  },
  {
   "cell_type": "markdown",
   "id": "e2c12482",
   "metadata": {},
   "source": [
    "Prof-specialty have higher counts which is 4140."
   ]
  },
  {
   "cell_type": "code",
   "execution_count": 25,
   "id": "c0c95504",
   "metadata": {},
   "outputs": [
    {
     "name": "stdout",
     "output_type": "stream",
     "text": [
      " Husband           13193\n",
      " Not-in-family      8304\n",
      " Own-child          5068\n",
      " Unmarried          3446\n",
      " Wife               1568\n",
      " Other-relative      981\n",
      "Name: Relationship, dtype: int64\n"
     ]
    },
    {
     "data": {
      "image/png": "[encoded data removed]",
      "text/plain": [
       "<Figure size 720x288 with 1 Axes>"
      ]
     },
     "metadata": {
      "needs_background": "light"
     },
     "output_type": "display_data"
    }
   ],
   "source": [
    "plt.figure(figsize=(10,4))\n",
    "ax=sns.countplot(x=\"Relationship\", data=df)\n",
    "print(df[\"Relationship\"].value_counts())"
   ]
  },
  {
   "cell_type": "markdown",
   "id": "b399a2d7",
   "metadata": {},
   "source": [
    "Husband has higher count of 13193 and count of wife is 1568 which is less."
   ]
  },
  {
   "cell_type": "code",
   "execution_count": 26,
   "id": "a4670ae2",
   "metadata": {},
   "outputs": [
    {
     "name": "stdout",
     "output_type": "stream",
     "text": [
      " White                 27815\n",
      " Black                  3124\n",
      " Asian-Pac-Islander     1039\n",
      " Amer-Indian-Eskimo      311\n",
      " Other                   271\n",
      "Name: Race, dtype: int64\n"
     ]
    },
    {
     "data": {
      "image/png": "[encoded data removed]",
      "text/plain": [
       "<Figure size 864x288 with 1 Axes>"
      ]
     },
     "metadata": {
      "needs_background": "light"
     },
     "output_type": "display_data"
    }
   ],
   "source": [
    "plt.figure(figsize=(12,4))\n",
    "ax=sns.countplot(x=\"Race\", data=df)\n",
    "print(df[\"Race\"].value_counts())"
   ]
  },
  {
   "cell_type": "markdown",
   "id": "1cfff87e",
   "metadata": {},
   "source": [
    "White race people are more in count which is 27815."
   ]
  },
  {
   "cell_type": "code",
   "execution_count": 27,
   "id": "8c89abc9",
   "metadata": {},
   "outputs": [
    {
     "name": "stdout",
     "output_type": "stream",
     "text": [
      " Male      21789\n",
      " Female    10771\n",
      "Name: Sex, dtype: int64\n"
     ]
    },
    {
     "data": {
      "image/png": "[encoded data removed]",
      "text/plain": [
       "<Figure size 432x144 with 1 Axes>"
      ]
     },
     "metadata": {
      "needs_background": "light"
     },
     "output_type": "display_data"
    }
   ],
   "source": [
    "plt.figure(figsize=(6,2))\n",
    "ax=sns.countplot(x=\"Sex\", data=df)\n",
    "print(df[\"Sex\"].value_counts())"
   ]
  },
  {
   "cell_type": "markdown",
   "id": "b6215db9",
   "metadata": {},
   "source": [
    "Maximum poeple working are Male which is 21789."
   ]
  },
  {
   "cell_type": "code",
   "execution_count": 28,
   "id": "8e8bca3b",
   "metadata": {},
   "outputs": [
    {
     "name": "stdout",
     "output_type": "stream",
     "text": [
      " United-States                 29169\n",
      " Mexico                          643\n",
      "United-States                    583\n",
      " Philippines                     198\n",
      " Germany                         137\n",
      " Canada                          121\n",
      " Puerto-Rico                     114\n",
      " El-Salvador                     106\n",
      " India                           100\n",
      " Cuba                             95\n",
      " England                          90\n",
      " Jamaica                          81\n",
      " South                            80\n",
      " China                            75\n",
      " Italy                            73\n",
      " Dominican-Republic               70\n",
      " Vietnam                          67\n",
      " Guatemala                        64\n",
      " Japan                            62\n",
      " Poland                           60\n",
      " Columbia                         59\n",
      " Taiwan                           51\n",
      " Haiti                            44\n",
      " Iran                             43\n",
      " Portugal                         37\n",
      " Nicaragua                        34\n",
      " Peru                             31\n",
      " France                           29\n",
      " Greece                           29\n",
      " Ecuador                          28\n",
      " Ireland                          24\n",
      " Hong                             20\n",
      " Cambodia                         19\n",
      " Trinadad&Tobago                  19\n",
      " Laos                             18\n",
      " Thailand                         18\n",
      " Yugoslavia                       16\n",
      " Outlying-US(Guam-USVI-etc)       14\n",
      " Honduras                         13\n",
      " Hungary                          13\n",
      " Scotland                         12\n",
      " Holand-Netherlands                1\n",
      "Name: Native_country, dtype: int64\n"
     ]
    },
    {
     "data": {
      "image/png": "[encoded data removed]",
      "text/plain": [
       "<Figure size 2016x432 with 1 Axes>"
      ]
     },
     "metadata": {
      "needs_background": "light"
     },
     "output_type": "display_data"
    }
   ],
   "source": [
    "plt.figure(figsize=(28,6))\n",
    "ax=sns.countplot(x=\"Native_country\", data=df)\n",
    "print(df[\"Native_country\"].value_counts())"
   ]
  },
  {
   "cell_type": "markdown",
   "id": "d77214d4",
   "metadata": {},
   "source": [
    "Maximum poeple are from United States as its count is more than other countries."
   ]
  },
  {
   "cell_type": "code",
   "execution_count": 29,
   "id": "8248eecb",
   "metadata": {},
   "outputs": [
    {
     "data": {
      "text/plain": [
       "<AxesSubplot:xlabel='count', ylabel='Occupation'>"
      ]
     },
     "execution_count": 29,
     "metadata": {},
     "output_type": "execute_result"
    },
    {
     "data": {
      "image/png": "[encoded data removed]",
      "text/plain": [
       "<Figure size 432x288 with 1 Axes>"
      ]
     },
     "metadata": {
      "needs_background": "light"
     },
     "output_type": "display_data"
    }
   ],
   "source": [
    "sns.countplot(y='Occupation', hue='Income', data = df)"
   ]
  },
  {
   "cell_type": "markdown",
   "id": "aa241c36",
   "metadata": {},
   "source": [
    "People earning <=50K are working as Adm-clerical , other services and  Craft-repair.\n",
    "People earning >50K are working as Exec-Managerial and Prof-speciality."
   ]
  },
  {
   "cell_type": "code",
   "execution_count": 30,
   "id": "833bfdeb",
   "metadata": {},
   "outputs": [
    {
     "data": {
      "text/plain": [
       "<AxesSubplot:xlabel='count', ylabel='Education_num'>"
      ]
     },
     "execution_count": 30,
     "metadata": {},
     "output_type": "execute_result"
    },
    {
     "data": {
      "image/png": "[encoded data removed]",
      "text/plain": [
       "<Figure size 432x288 with 1 Axes>"
      ]
     },
     "metadata": {
      "needs_background": "light"
     },
     "output_type": "display_data"
    }
   ],
   "source": [
    "sns.countplot(y='Education_num', hue='Income', data = df)"
   ]
  },
  {
   "cell_type": "markdown",
   "id": "3246fa04",
   "metadata": {},
   "source": [
    "People earning <=50K have Education_num as 9 \n",
    "People earning >50K have Education_num as 13"
   ]
  },
  {
   "cell_type": "code",
   "execution_count": 31,
   "id": "7363a138",
   "metadata": {},
   "outputs": [
    {
     "data": {
      "text/plain": [
       "<AxesSubplot:xlabel='count', ylabel='Sex'>"
      ]
     },
     "execution_count": 31,
     "metadata": {},
     "output_type": "execute_result"
    },
    {
     "data": {
      "image/png": "[encoded data removed]",
      "text/plain": [
       "<Figure size 432x288 with 1 Axes>"
      ]
     },
     "metadata": {
      "needs_background": "light"
     },
     "output_type": "display_data"
    }
   ],
   "source": [
    "sns.countplot(y='Sex', hue='Income', data = df)"
   ]
  },
  {
   "cell_type": "markdown",
   "id": "2b6ddfe2",
   "metadata": {},
   "source": [
    "People earning <=50K have male in higer count\n",
    "People earning >50K have male in higer count"
   ]
  },
  {
   "cell_type": "code",
   "execution_count": 32,
   "id": "68ca087f",
   "metadata": {},
   "outputs": [
    {
     "data": {
      "text/plain": [
       "<AxesSubplot:xlabel='Count', ylabel='Age'>"
      ]
     },
     "execution_count": 32,
     "metadata": {},
     "output_type": "execute_result"
    },
    {
     "data": {
      "image/png": "[encoded data removed]",
      "text/plain": [
       "<Figure size 432x288 with 1 Axes>"
      ]
     },
     "metadata": {
      "needs_background": "light"
     },
     "output_type": "display_data"
    }
   ],
   "source": [
    "sns.histplot(y='Age', hue='Income', data = df)"
   ]
  },
  {
   "cell_type": "markdown",
   "id": "e067c62a",
   "metadata": {},
   "source": [
    "People earning <=50K are in age group between 20 to 30\n",
    "People earning >50K are in age group between 30 to 40"
   ]
  },
  {
   "cell_type": "code",
   "execution_count": 33,
   "id": "b343761f",
   "metadata": {},
   "outputs": [
    {
     "data": {
      "text/plain": [
       "<AxesSubplot:xlabel='count', ylabel='Relationship'>"
      ]
     },
     "execution_count": 33,
     "metadata": {},
     "output_type": "execute_result"
    },
    {
     "data": {
      "image/png": "[encoded data removed]",
      "text/plain": [
       "<Figure size 432x288 with 1 Axes>"
      ]
     },
     "metadata": {
      "needs_background": "light"
     },
     "output_type": "display_data"
    }
   ],
   "source": [
    "sns.countplot(y='Relationship', hue='Sex', data = df)"
   ]
  },
  {
   "cell_type": "markdown",
   "id": "a93f3fb0",
   "metadata": {},
   "source": [
    "Maximum Male are Husband and maximum female are Not in Family."
   ]
  },
  {
   "cell_type": "markdown",
   "id": "1523fabf",
   "metadata": {},
   "source": [
    "## Label Encoding"
   ]
  },
  {
   "cell_type": "code",
   "execution_count": 34,
   "id": "64665ef7",
   "metadata": {},
   "outputs": [],
   "source": [
    "# Label Encoding for object to numeric datatype:\n",
    "from sklearn.preprocessing import LabelEncoder\n",
    "en= LabelEncoder()\n",
    "for i in df.columns:\n",
    "    if df[i].dtypes==\"object\":\n",
    "        df[i]=en.fit_transform(df[i].values.reshape(-1,1))"
   ]
  },
  {
   "cell_type": "code",
   "execution_count": 35,
   "id": "2de2c92a",
   "metadata": {},
   "outputs": [
    {
     "data": {
      "text/html": [
       "<div>\n",
       "<style scoped>\n",
       "    .dataframe tbody tr th:only-of-type {\n",
       "        vertical-align: middle;\n",
       "    }\n",
       "\n",
       "    .dataframe tbody tr th {\n",
       "        vertical-align: top;\n",
       "    }\n",
       "\n",
       "    .dataframe thead th {\n",
       "        text-align: right;\n",
       "    }\n",
       "</style>\n",
       "<table border=\"1\" class=\"dataframe\">\n",
       "  <thead>\n",
       "    <tr style=\"text-align: right;\">\n",
       "      <th></th>\n",
       "      <th>Age</th>\n",
       "      <th>Workclass</th>\n",
       "      <th>Fnlwgt</th>\n",
       "      <th>Education</th>\n",
       "      <th>Education_num</th>\n",
       "      <th>Marital_status</th>\n",
       "      <th>Occupation</th>\n",
       "      <th>Relationship</th>\n",
       "      <th>Race</th>\n",
       "      <th>Sex</th>\n",
       "      <th>Capital_gain</th>\n",
       "      <th>Capital_loss</th>\n",
       "      <th>Hours_per_week</th>\n",
       "      <th>Native_country</th>\n",
       "      <th>Income</th>\n",
       "    </tr>\n",
       "  </thead>\n",
       "  <tbody>\n",
       "    <tr>\n",
       "      <th>0</th>\n",
       "      <td>50</td>\n",
       "      <td>5</td>\n",
       "      <td>83311</td>\n",
       "      <td>9</td>\n",
       "      <td>13</td>\n",
       "      <td>2</td>\n",
       "      <td>3</td>\n",
       "      <td>0</td>\n",
       "      <td>4</td>\n",
       "      <td>1</td>\n",
       "      <td>0</td>\n",
       "      <td>0</td>\n",
       "      <td>13</td>\n",
       "      <td>38</td>\n",
       "      <td>0</td>\n",
       "    </tr>\n",
       "    <tr>\n",
       "      <th>1</th>\n",
       "      <td>38</td>\n",
       "      <td>3</td>\n",
       "      <td>215646</td>\n",
       "      <td>11</td>\n",
       "      <td>9</td>\n",
       "      <td>0</td>\n",
       "      <td>5</td>\n",
       "      <td>1</td>\n",
       "      <td>4</td>\n",
       "      <td>1</td>\n",
       "      <td>0</td>\n",
       "      <td>0</td>\n",
       "      <td>40</td>\n",
       "      <td>38</td>\n",
       "      <td>0</td>\n",
       "    </tr>\n",
       "    <tr>\n",
       "      <th>2</th>\n",
       "      <td>53</td>\n",
       "      <td>3</td>\n",
       "      <td>234721</td>\n",
       "      <td>1</td>\n",
       "      <td>7</td>\n",
       "      <td>2</td>\n",
       "      <td>5</td>\n",
       "      <td>0</td>\n",
       "      <td>2</td>\n",
       "      <td>1</td>\n",
       "      <td>0</td>\n",
       "      <td>0</td>\n",
       "      <td>40</td>\n",
       "      <td>38</td>\n",
       "      <td>0</td>\n",
       "    </tr>\n",
       "    <tr>\n",
       "      <th>3</th>\n",
       "      <td>28</td>\n",
       "      <td>3</td>\n",
       "      <td>338409</td>\n",
       "      <td>9</td>\n",
       "      <td>13</td>\n",
       "      <td>2</td>\n",
       "      <td>9</td>\n",
       "      <td>5</td>\n",
       "      <td>2</td>\n",
       "      <td>0</td>\n",
       "      <td>0</td>\n",
       "      <td>0</td>\n",
       "      <td>40</td>\n",
       "      <td>4</td>\n",
       "      <td>0</td>\n",
       "    </tr>\n",
       "    <tr>\n",
       "      <th>4</th>\n",
       "      <td>37</td>\n",
       "      <td>3</td>\n",
       "      <td>284582</td>\n",
       "      <td>12</td>\n",
       "      <td>14</td>\n",
       "      <td>2</td>\n",
       "      <td>3</td>\n",
       "      <td>5</td>\n",
       "      <td>4</td>\n",
       "      <td>0</td>\n",
       "      <td>0</td>\n",
       "      <td>0</td>\n",
       "      <td>40</td>\n",
       "      <td>38</td>\n",
       "      <td>0</td>\n",
       "    </tr>\n",
       "  </tbody>\n",
       "</table>\n",
       "</div>"
      ],
      "text/plain": [
       "   Age  Workclass  Fnlwgt  Education  Education_num  Marital_status  \\\n",
       "0   50          5   83311          9             13               2   \n",
       "1   38          3  215646         11              9               0   \n",
       "2   53          3  234721          1              7               2   \n",
       "3   28          3  338409          9             13               2   \n",
       "4   37          3  284582         12             14               2   \n",
       "\n",
       "   Occupation  Relationship  Race  Sex  Capital_gain  Capital_loss  \\\n",
       "0           3             0     4    1             0             0   \n",
       "1           5             1     4    1             0             0   \n",
       "2           5             0     2    1             0             0   \n",
       "3           9             5     2    0             0             0   \n",
       "4           3             5     4    0             0             0   \n",
       "\n",
       "   Hours_per_week  Native_country  Income  \n",
       "0              13              38       0  \n",
       "1              40              38       0  \n",
       "2              40              38       0  \n",
       "3              40               4       0  \n",
       "4              40              38       0  "
      ]
     },
     "execution_count": 35,
     "metadata": {},
     "output_type": "execute_result"
    }
   ],
   "source": [
    "df.head()"
   ]
  },
  {
   "cell_type": "markdown",
   "id": "764e4231",
   "metadata": {},
   "source": [
    "Encoded object to numeric datatype"
   ]
  },
  {
   "cell_type": "markdown",
   "id": "1a6cb4ea",
   "metadata": {},
   "source": [
    "## Using SMOTE for Class Imbalance:"
   ]
  },
  {
   "cell_type": "code",
   "execution_count": 36,
   "id": "40bfe200",
   "metadata": {},
   "outputs": [
    {
     "name": "stdout",
     "output_type": "stream",
     "text": [
      "Requirement already satisfied: scikit-learn in c:\\users\\asus\\anaconda3\\lib\\site-packages (0.24.2)\n",
      "Requirement already satisfied: threadpoolctl>=2.0.0 in c:\\users\\asus\\anaconda3\\lib\\site-packages (from scikit-learn) (2.2.0)\n",
      "Requirement already satisfied: numpy>=1.13.3 in c:\\users\\asus\\anaconda3\\lib\\site-packages (from scikit-learn) (1.20.3)\n",
      "Requirement already satisfied: scipy>=0.19.1 in c:\\users\\asus\\anaconda3\\lib\\site-packages (from scikit-learn) (1.7.1)\n",
      "Requirement already satisfied: joblib>=0.11 in c:\\users\\asus\\anaconda3\\lib\\site-packages (from scikit-learn) (1.1.0)\n",
      "Collecting imbalanced-learn\n",
      "  Downloading imbalanced_learn-0.8.1-py3-none-any.whl (189 kB)\n",
      "Requirement already satisfied: scipy>=0.19.1 in c:\\users\\asus\\anaconda3\\lib\\site-packages (from imbalanced-learn) (1.7.1)\n",
      "Requirement already satisfied: numpy>=1.13.3 in c:\\users\\asus\\anaconda3\\lib\\site-packages (from imbalanced-learn) (1.20.3)\n",
      "Requirement already satisfied: scikit-learn>=0.24 in c:\\users\\asus\\anaconda3\\lib\\site-packages (from imbalanced-learn) (0.24.2)\n",
      "Requirement already satisfied: joblib>=0.11 in c:\\users\\asus\\anaconda3\\lib\\site-packages (from imbalanced-learn) (1.1.0)\n",
      "Requirement already satisfied: threadpoolctl>=2.0.0 in c:\\users\\asus\\anaconda3\\lib\\site-packages (from scikit-learn>=0.24->imbalanced-learn) (2.2.0)\n",
      "Installing collected packages: imbalanced-learn\n",
      "Successfully installed imbalanced-learn-0.8.1\n"
     ]
    }
   ],
   "source": [
    "import sklearn\n",
    "!pip install scikit-learn\n",
    "!pip install -U imbalanced-learn"
   ]
  },
  {
   "cell_type": "code",
   "execution_count": 37,
   "id": "badc1361",
   "metadata": {},
   "outputs": [],
   "source": [
    "# SMOTE method :\n",
    "from imblearn.over_sampling import SMOTE\n",
    "dx=df.drop(['Income'], axis=1)\n",
    "dy=df['Income'].values\n",
    "smt=SMOTE()\n",
    "trainx,trainy=smt.fit_resample(dx,dy)"
   ]
  },
  {
   "cell_type": "markdown",
   "id": "4ad1d797",
   "metadata": {},
   "source": [
    "SMOTE Technique helped to balance the target class."
   ]
  },
  {
   "cell_type": "code",
   "execution_count": 38,
   "id": "62d71a97",
   "metadata": {},
   "outputs": [
    {
     "data": {
      "image/png": "[encoded data removed]",
      "text/plain": [
       "<Figure size 432x288 with 1 Axes>"
      ]
     },
     "metadata": {
      "needs_background": "light"
     },
     "output_type": "display_data"
    }
   ],
   "source": [
    "ax=sns.countplot(trainy)"
   ]
  },
  {
   "cell_type": "markdown",
   "id": "fbf769c5",
   "metadata": {},
   "source": [
    "Class Imbalance is corrected."
   ]
  },
  {
   "cell_type": "code",
   "execution_count": 39,
   "id": "f06a994d",
   "metadata": {},
   "outputs": [
    {
     "data": {
      "text/plain": [
       "0    24719\n",
       "1    24719\n",
       "dtype: int64"
      ]
     },
     "execution_count": 39,
     "metadata": {},
     "output_type": "execute_result"
    }
   ],
   "source": [
    "Income=pd.DataFrame(trainy)\n",
    "Income.value_counts()"
   ]
  },
  {
   "cell_type": "markdown",
   "id": "230a82c3",
   "metadata": {},
   "source": [
    "Now count is 24719 for both the vaule of 0 and 1."
   ]
  },
  {
   "cell_type": "code",
   "execution_count": 40,
   "id": "d1aa14c2",
   "metadata": {},
   "outputs": [
    {
     "data": {
      "text/html": [
       "<div>\n",
       "<style scoped>\n",
       "    .dataframe tbody tr th:only-of-type {\n",
       "        vertical-align: middle;\n",
       "    }\n",
       "\n",
       "    .dataframe tbody tr th {\n",
       "        vertical-align: top;\n",
       "    }\n",
       "\n",
       "    .dataframe thead th {\n",
       "        text-align: right;\n",
       "    }\n",
       "</style>\n",
       "<table border=\"1\" class=\"dataframe\">\n",
       "  <thead>\n",
       "    <tr style=\"text-align: right;\">\n",
       "      <th></th>\n",
       "      <th>Age</th>\n",
       "      <th>Workclass</th>\n",
       "      <th>Fnlwgt</th>\n",
       "      <th>Education</th>\n",
       "      <th>Education_num</th>\n",
       "      <th>Marital_status</th>\n",
       "      <th>Occupation</th>\n",
       "      <th>Relationship</th>\n",
       "      <th>Race</th>\n",
       "      <th>Sex</th>\n",
       "      <th>Capital_gain</th>\n",
       "      <th>Capital_loss</th>\n",
       "      <th>Hours_per_week</th>\n",
       "      <th>Native_country</th>\n",
       "      <th>Income</th>\n",
       "      <th>Incomes</th>\n",
       "    </tr>\n",
       "  </thead>\n",
       "  <tbody>\n",
       "    <tr>\n",
       "      <th>0</th>\n",
       "      <td>50</td>\n",
       "      <td>5</td>\n",
       "      <td>83311</td>\n",
       "      <td>9</td>\n",
       "      <td>13</td>\n",
       "      <td>2</td>\n",
       "      <td>3</td>\n",
       "      <td>0</td>\n",
       "      <td>4</td>\n",
       "      <td>1</td>\n",
       "      <td>0</td>\n",
       "      <td>0</td>\n",
       "      <td>13</td>\n",
       "      <td>38</td>\n",
       "      <td>0</td>\n",
       "      <td>0</td>\n",
       "    </tr>\n",
       "    <tr>\n",
       "      <th>1</th>\n",
       "      <td>38</td>\n",
       "      <td>3</td>\n",
       "      <td>215646</td>\n",
       "      <td>11</td>\n",
       "      <td>9</td>\n",
       "      <td>0</td>\n",
       "      <td>5</td>\n",
       "      <td>1</td>\n",
       "      <td>4</td>\n",
       "      <td>1</td>\n",
       "      <td>0</td>\n",
       "      <td>0</td>\n",
       "      <td>40</td>\n",
       "      <td>38</td>\n",
       "      <td>0</td>\n",
       "      <td>0</td>\n",
       "    </tr>\n",
       "    <tr>\n",
       "      <th>2</th>\n",
       "      <td>53</td>\n",
       "      <td>3</td>\n",
       "      <td>234721</td>\n",
       "      <td>1</td>\n",
       "      <td>7</td>\n",
       "      <td>2</td>\n",
       "      <td>5</td>\n",
       "      <td>0</td>\n",
       "      <td>2</td>\n",
       "      <td>1</td>\n",
       "      <td>0</td>\n",
       "      <td>0</td>\n",
       "      <td>40</td>\n",
       "      <td>38</td>\n",
       "      <td>0</td>\n",
       "      <td>0</td>\n",
       "    </tr>\n",
       "    <tr>\n",
       "      <th>3</th>\n",
       "      <td>28</td>\n",
       "      <td>3</td>\n",
       "      <td>338409</td>\n",
       "      <td>9</td>\n",
       "      <td>13</td>\n",
       "      <td>2</td>\n",
       "      <td>9</td>\n",
       "      <td>5</td>\n",
       "      <td>2</td>\n",
       "      <td>0</td>\n",
       "      <td>0</td>\n",
       "      <td>0</td>\n",
       "      <td>40</td>\n",
       "      <td>4</td>\n",
       "      <td>0</td>\n",
       "      <td>0</td>\n",
       "    </tr>\n",
       "    <tr>\n",
       "      <th>4</th>\n",
       "      <td>37</td>\n",
       "      <td>3</td>\n",
       "      <td>284582</td>\n",
       "      <td>12</td>\n",
       "      <td>14</td>\n",
       "      <td>2</td>\n",
       "      <td>3</td>\n",
       "      <td>5</td>\n",
       "      <td>4</td>\n",
       "      <td>0</td>\n",
       "      <td>0</td>\n",
       "      <td>0</td>\n",
       "      <td>40</td>\n",
       "      <td>38</td>\n",
       "      <td>0</td>\n",
       "      <td>0</td>\n",
       "    </tr>\n",
       "  </tbody>\n",
       "</table>\n",
       "</div>"
      ],
      "text/plain": [
       "   Age  Workclass  Fnlwgt  Education  Education_num  Marital_status  \\\n",
       "0   50          5   83311          9             13               2   \n",
       "1   38          3  215646         11              9               0   \n",
       "2   53          3  234721          1              7               2   \n",
       "3   28          3  338409          9             13               2   \n",
       "4   37          3  284582         12             14               2   \n",
       "\n",
       "   Occupation  Relationship  Race  Sex  Capital_gain  Capital_loss  \\\n",
       "0           3             0     4    1             0             0   \n",
       "1           5             1     4    1             0             0   \n",
       "2           5             0     2    1             0             0   \n",
       "3           9             5     2    0             0             0   \n",
       "4           3             5     4    0             0             0   \n",
       "\n",
       "   Hours_per_week  Native_country  Income  Incomes  \n",
       "0              13              38       0        0  \n",
       "1              40              38       0        0  \n",
       "2              40              38       0        0  \n",
       "3              40               4       0        0  \n",
       "4              40              38       0        0  "
      ]
     },
     "execution_count": 40,
     "metadata": {},
     "output_type": "execute_result"
    }
   ],
   "source": [
    "# Adding New value of Loan_Status in the df dataset as Attritions\n",
    "df['Incomes']=Income\n",
    "df.head()"
   ]
  },
  {
   "cell_type": "markdown",
   "id": "6bde7747",
   "metadata": {},
   "source": [
    "New column named Incomes is added"
   ]
  },
  {
   "cell_type": "markdown",
   "id": "8e9533ed",
   "metadata": {},
   "source": [
    "## Dropping old value of Income"
   ]
  },
  {
   "cell_type": "code",
   "execution_count": 41,
   "id": "e31e4c98",
   "metadata": {},
   "outputs": [
    {
     "data": {
      "text/html": [
       "<div>\n",
       "<style scoped>\n",
       "    .dataframe tbody tr th:only-of-type {\n",
       "        vertical-align: middle;\n",
       "    }\n",
       "\n",
       "    .dataframe tbody tr th {\n",
       "        vertical-align: top;\n",
       "    }\n",
       "\n",
       "    .dataframe thead th {\n",
       "        text-align: right;\n",
       "    }\n",
       "</style>\n",
       "<table border=\"1\" class=\"dataframe\">\n",
       "  <thead>\n",
       "    <tr style=\"text-align: right;\">\n",
       "      <th></th>\n",
       "      <th>Age</th>\n",
       "      <th>Workclass</th>\n",
       "      <th>Fnlwgt</th>\n",
       "      <th>Education</th>\n",
       "      <th>Education_num</th>\n",
       "      <th>Marital_status</th>\n",
       "      <th>Occupation</th>\n",
       "      <th>Relationship</th>\n",
       "      <th>Race</th>\n",
       "      <th>Sex</th>\n",
       "      <th>Capital_gain</th>\n",
       "      <th>Capital_loss</th>\n",
       "      <th>Hours_per_week</th>\n",
       "      <th>Native_country</th>\n",
       "      <th>Incomes</th>\n",
       "    </tr>\n",
       "  </thead>\n",
       "  <tbody>\n",
       "    <tr>\n",
       "      <th>0</th>\n",
       "      <td>50</td>\n",
       "      <td>5</td>\n",
       "      <td>83311</td>\n",
       "      <td>9</td>\n",
       "      <td>13</td>\n",
       "      <td>2</td>\n",
       "      <td>3</td>\n",
       "      <td>0</td>\n",
       "      <td>4</td>\n",
       "      <td>1</td>\n",
       "      <td>0</td>\n",
       "      <td>0</td>\n",
       "      <td>13</td>\n",
       "      <td>38</td>\n",
       "      <td>0</td>\n",
       "    </tr>\n",
       "    <tr>\n",
       "      <th>1</th>\n",
       "      <td>38</td>\n",
       "      <td>3</td>\n",
       "      <td>215646</td>\n",
       "      <td>11</td>\n",
       "      <td>9</td>\n",
       "      <td>0</td>\n",
       "      <td>5</td>\n",
       "      <td>1</td>\n",
       "      <td>4</td>\n",
       "      <td>1</td>\n",
       "      <td>0</td>\n",
       "      <td>0</td>\n",
       "      <td>40</td>\n",
       "      <td>38</td>\n",
       "      <td>0</td>\n",
       "    </tr>\n",
       "    <tr>\n",
       "      <th>2</th>\n",
       "      <td>53</td>\n",
       "      <td>3</td>\n",
       "      <td>234721</td>\n",
       "      <td>1</td>\n",
       "      <td>7</td>\n",
       "      <td>2</td>\n",
       "      <td>5</td>\n",
       "      <td>0</td>\n",
       "      <td>2</td>\n",
       "      <td>1</td>\n",
       "      <td>0</td>\n",
       "      <td>0</td>\n",
       "      <td>40</td>\n",
       "      <td>38</td>\n",
       "      <td>0</td>\n",
       "    </tr>\n",
       "    <tr>\n",
       "      <th>3</th>\n",
       "      <td>28</td>\n",
       "      <td>3</td>\n",
       "      <td>338409</td>\n",
       "      <td>9</td>\n",
       "      <td>13</td>\n",
       "      <td>2</td>\n",
       "      <td>9</td>\n",
       "      <td>5</td>\n",
       "      <td>2</td>\n",
       "      <td>0</td>\n",
       "      <td>0</td>\n",
       "      <td>0</td>\n",
       "      <td>40</td>\n",
       "      <td>4</td>\n",
       "      <td>0</td>\n",
       "    </tr>\n",
       "    <tr>\n",
       "      <th>4</th>\n",
       "      <td>37</td>\n",
       "      <td>3</td>\n",
       "      <td>284582</td>\n",
       "      <td>12</td>\n",
       "      <td>14</td>\n",
       "      <td>2</td>\n",
       "      <td>3</td>\n",
       "      <td>5</td>\n",
       "      <td>4</td>\n",
       "      <td>0</td>\n",
       "      <td>0</td>\n",
       "      <td>0</td>\n",
       "      <td>40</td>\n",
       "      <td>38</td>\n",
       "      <td>0</td>\n",
       "    </tr>\n",
       "  </tbody>\n",
       "</table>\n",
       "</div>"
      ],
      "text/plain": [
       "   Age  Workclass  Fnlwgt  Education  Education_num  Marital_status  \\\n",
       "0   50          5   83311          9             13               2   \n",
       "1   38          3  215646         11              9               0   \n",
       "2   53          3  234721          1              7               2   \n",
       "3   28          3  338409          9             13               2   \n",
       "4   37          3  284582         12             14               2   \n",
       "\n",
       "   Occupation  Relationship  Race  Sex  Capital_gain  Capital_loss  \\\n",
       "0           3             0     4    1             0             0   \n",
       "1           5             1     4    1             0             0   \n",
       "2           5             0     2    1             0             0   \n",
       "3           9             5     2    0             0             0   \n",
       "4           3             5     4    0             0             0   \n",
       "\n",
       "   Hours_per_week  Native_country  Incomes  \n",
       "0              13              38        0  \n",
       "1              40              38        0  \n",
       "2              40              38        0  \n",
       "3              40               4        0  \n",
       "4              40              38        0  "
      ]
     },
     "execution_count": 41,
     "metadata": {},
     "output_type": "execute_result"
    }
   ],
   "source": [
    "df.drop(['Income'],axis=1,inplace=True)\n",
    "df.head()"
   ]
  },
  {
   "cell_type": "markdown",
   "id": "c5424795",
   "metadata": {},
   "source": [
    "Dropped Income column."
   ]
  },
  {
   "cell_type": "markdown",
   "id": "11e12d4e",
   "metadata": {},
   "source": [
    "## Describing the dataset"
   ]
  },
  {
   "cell_type": "code",
   "execution_count": 42,
   "id": "3ecfe780",
   "metadata": {},
   "outputs": [
    {
     "data": {
      "text/html": [
       "<div>\n",
       "<style scoped>\n",
       "    .dataframe tbody tr th:only-of-type {\n",
       "        vertical-align: middle;\n",
       "    }\n",
       "\n",
       "    .dataframe tbody tr th {\n",
       "        vertical-align: top;\n",
       "    }\n",
       "\n",
       "    .dataframe thead th {\n",
       "        text-align: right;\n",
       "    }\n",
       "</style>\n",
       "<table border=\"1\" class=\"dataframe\">\n",
       "  <thead>\n",
       "    <tr style=\"text-align: right;\">\n",
       "      <th></th>\n",
       "      <th>Age</th>\n",
       "      <th>Workclass</th>\n",
       "      <th>Fnlwgt</th>\n",
       "      <th>Education</th>\n",
       "      <th>Education_num</th>\n",
       "      <th>Marital_status</th>\n",
       "      <th>Occupation</th>\n",
       "      <th>Relationship</th>\n",
       "      <th>Race</th>\n",
       "      <th>Sex</th>\n",
       "      <th>Capital_gain</th>\n",
       "      <th>Capital_loss</th>\n",
       "      <th>Hours_per_week</th>\n",
       "      <th>Native_country</th>\n",
       "      <th>Incomes</th>\n",
       "    </tr>\n",
       "  </thead>\n",
       "  <tbody>\n",
       "    <tr>\n",
       "      <th>count</th>\n",
       "      <td>32560.000000</td>\n",
       "      <td>32560.000000</td>\n",
       "      <td>3.256000e+04</td>\n",
       "      <td>32560.000000</td>\n",
       "      <td>32560.000000</td>\n",
       "      <td>32560.000000</td>\n",
       "      <td>32560.000000</td>\n",
       "      <td>32560.000000</td>\n",
       "      <td>32560.000000</td>\n",
       "      <td>32560.000000</td>\n",
       "      <td>32560.000000</td>\n",
       "      <td>32560.000000</td>\n",
       "      <td>32560.000000</td>\n",
       "      <td>32560.000000</td>\n",
       "      <td>32560.000000</td>\n",
       "    </tr>\n",
       "    <tr>\n",
       "      <th>mean</th>\n",
       "      <td>38.581634</td>\n",
       "      <td>3.376290</td>\n",
       "      <td>1.897818e+05</td>\n",
       "      <td>10.298249</td>\n",
       "      <td>10.080590</td>\n",
       "      <td>2.611794</td>\n",
       "      <td>6.421959</td>\n",
       "      <td>1.446376</td>\n",
       "      <td>3.665848</td>\n",
       "      <td>0.669195</td>\n",
       "      <td>1077.615172</td>\n",
       "      <td>87.306511</td>\n",
       "      <td>40.437469</td>\n",
       "      <td>36.470823</td>\n",
       "      <td>0.240817</td>\n",
       "    </tr>\n",
       "    <tr>\n",
       "      <th>std</th>\n",
       "      <td>13.640642</td>\n",
       "      <td>1.581995</td>\n",
       "      <td>1.055498e+05</td>\n",
       "      <td>3.870317</td>\n",
       "      <td>2.572709</td>\n",
       "      <td>1.506225</td>\n",
       "      <td>4.328539</td>\n",
       "      <td>1.606794</td>\n",
       "      <td>0.848817</td>\n",
       "      <td>0.470510</td>\n",
       "      <td>7385.402999</td>\n",
       "      <td>402.966116</td>\n",
       "      <td>12.347618</td>\n",
       "      <td>6.083180</td>\n",
       "      <td>0.427586</td>\n",
       "    </tr>\n",
       "    <tr>\n",
       "      <th>min</th>\n",
       "      <td>17.000000</td>\n",
       "      <td>0.000000</td>\n",
       "      <td>1.228500e+04</td>\n",
       "      <td>0.000000</td>\n",
       "      <td>1.000000</td>\n",
       "      <td>0.000000</td>\n",
       "      <td>0.000000</td>\n",
       "      <td>0.000000</td>\n",
       "      <td>0.000000</td>\n",
       "      <td>0.000000</td>\n",
       "      <td>0.000000</td>\n",
       "      <td>0.000000</td>\n",
       "      <td>1.000000</td>\n",
       "      <td>0.000000</td>\n",
       "      <td>0.000000</td>\n",
       "    </tr>\n",
       "    <tr>\n",
       "      <th>25%</th>\n",
       "      <td>28.000000</td>\n",
       "      <td>3.000000</td>\n",
       "      <td>1.178315e+05</td>\n",
       "      <td>9.000000</td>\n",
       "      <td>9.000000</td>\n",
       "      <td>2.000000</td>\n",
       "      <td>3.000000</td>\n",
       "      <td>0.000000</td>\n",
       "      <td>4.000000</td>\n",
       "      <td>0.000000</td>\n",
       "      <td>0.000000</td>\n",
       "      <td>0.000000</td>\n",
       "      <td>40.000000</td>\n",
       "      <td>38.000000</td>\n",
       "      <td>0.000000</td>\n",
       "    </tr>\n",
       "    <tr>\n",
       "      <th>50%</th>\n",
       "      <td>37.000000</td>\n",
       "      <td>3.000000</td>\n",
       "      <td>1.783630e+05</td>\n",
       "      <td>11.000000</td>\n",
       "      <td>10.000000</td>\n",
       "      <td>2.000000</td>\n",
       "      <td>6.000000</td>\n",
       "      <td>1.000000</td>\n",
       "      <td>4.000000</td>\n",
       "      <td>1.000000</td>\n",
       "      <td>0.000000</td>\n",
       "      <td>0.000000</td>\n",
       "      <td>40.000000</td>\n",
       "      <td>38.000000</td>\n",
       "      <td>0.000000</td>\n",
       "    </tr>\n",
       "    <tr>\n",
       "      <th>75%</th>\n",
       "      <td>48.000000</td>\n",
       "      <td>3.000000</td>\n",
       "      <td>2.370545e+05</td>\n",
       "      <td>12.000000</td>\n",
       "      <td>12.000000</td>\n",
       "      <td>4.000000</td>\n",
       "      <td>10.000000</td>\n",
       "      <td>3.000000</td>\n",
       "      <td>4.000000</td>\n",
       "      <td>1.000000</td>\n",
       "      <td>0.000000</td>\n",
       "      <td>0.000000</td>\n",
       "      <td>45.000000</td>\n",
       "      <td>38.000000</td>\n",
       "      <td>0.000000</td>\n",
       "    </tr>\n",
       "    <tr>\n",
       "      <th>max</th>\n",
       "      <td>90.000000</td>\n",
       "      <td>8.000000</td>\n",
       "      <td>1.484705e+06</td>\n",
       "      <td>15.000000</td>\n",
       "      <td>16.000000</td>\n",
       "      <td>6.000000</td>\n",
       "      <td>14.000000</td>\n",
       "      <td>5.000000</td>\n",
       "      <td>4.000000</td>\n",
       "      <td>1.000000</td>\n",
       "      <td>99999.000000</td>\n",
       "      <td>4356.000000</td>\n",
       "      <td>99.000000</td>\n",
       "      <td>41.000000</td>\n",
       "      <td>1.000000</td>\n",
       "    </tr>\n",
       "  </tbody>\n",
       "</table>\n",
       "</div>"
      ],
      "text/plain": [
       "                Age     Workclass        Fnlwgt     Education  Education_num  \\\n",
       "count  32560.000000  32560.000000  3.256000e+04  32560.000000   32560.000000   \n",
       "mean      38.581634      3.376290  1.897818e+05     10.298249      10.080590   \n",
       "std       13.640642      1.581995  1.055498e+05      3.870317       2.572709   \n",
       "min       17.000000      0.000000  1.228500e+04      0.000000       1.000000   \n",
       "25%       28.000000      3.000000  1.178315e+05      9.000000       9.000000   \n",
       "50%       37.000000      3.000000  1.783630e+05     11.000000      10.000000   \n",
       "75%       48.000000      3.000000  2.370545e+05     12.000000      12.000000   \n",
       "max       90.000000      8.000000  1.484705e+06     15.000000      16.000000   \n",
       "\n",
       "       Marital_status    Occupation  Relationship          Race           Sex  \\\n",
       "count    32560.000000  32560.000000  32560.000000  32560.000000  32560.000000   \n",
       "mean         2.611794      6.421959      1.446376      3.665848      0.669195   \n",
       "std          1.506225      4.328539      1.606794      0.848817      0.470510   \n",
       "min          0.000000      0.000000      0.000000      0.000000      0.000000   \n",
       "25%          2.000000      3.000000      0.000000      4.000000      0.000000   \n",
       "50%          2.000000      6.000000      1.000000      4.000000      1.000000   \n",
       "75%          4.000000     10.000000      3.000000      4.000000      1.000000   \n",
       "max          6.000000     14.000000      5.000000      4.000000      1.000000   \n",
       "\n",
       "       Capital_gain  Capital_loss  Hours_per_week  Native_country  \\\n",
       "count  32560.000000  32560.000000    32560.000000    32560.000000   \n",
       "mean    1077.615172     87.306511       40.437469       36.470823   \n",
       "std     7385.402999    402.966116       12.347618        6.083180   \n",
       "min        0.000000      0.000000        1.000000        0.000000   \n",
       "25%        0.000000      0.000000       40.000000       38.000000   \n",
       "50%        0.000000      0.000000       40.000000       38.000000   \n",
       "75%        0.000000      0.000000       45.000000       38.000000   \n",
       "max    99999.000000   4356.000000       99.000000       41.000000   \n",
       "\n",
       "            Incomes  \n",
       "count  32560.000000  \n",
       "mean       0.240817  \n",
       "std        0.427586  \n",
       "min        0.000000  \n",
       "25%        0.000000  \n",
       "50%        0.000000  \n",
       "75%        0.000000  \n",
       "max        1.000000  "
      ]
     },
     "execution_count": 42,
     "metadata": {},
     "output_type": "execute_result"
    }
   ],
   "source": [
    "df.describe()"
   ]
  },
  {
   "cell_type": "markdown",
   "id": "af1965eb",
   "metadata": {},
   "source": [
    "Key Observations:\n",
    "\n",
    "    1. Mean and Median: Values of mean and median are higher and lower for both so skewness is present. \n",
    "    2. 75% percentile and max: Age,Workclass,Fnlwgt,Education,Education_num,Race,Capital_gain,Capital_loss,Hours_per_week and Native_country have outliers\n",
    "    3. Standard deviation is less than mean so high peak data"
   ]
  },
  {
   "cell_type": "code",
   "execution_count": 43,
   "id": "4dafa03d",
   "metadata": {},
   "outputs": [
    {
     "data": {
      "text/plain": [
       "<AxesSubplot:>"
      ]
     },
     "execution_count": 43,
     "metadata": {},
     "output_type": "execute_result"
    },
    {
     "data": {
      "image/png": "[encoded data removed]",
      "text/plain": [
       "<Figure size 1584x504 with 2 Axes>"
      ]
     },
     "metadata": {
      "needs_background": "light"
     },
     "output_type": "display_data"
    }
   ],
   "source": [
    "import matplotlib.pyplot as plt\n",
    "plt.figure(figsize=(22,7))\n",
    "sns.heatmap(df.describe(),annot=True,linewidths=0.1,linecolor=\"Green\",fmt=\"0.2f\")"
   ]
  },
  {
   "cell_type": "markdown",
   "id": "e9c9f3f8",
   "metadata": {},
   "source": [
    "Heatmap representation of dataset description"
   ]
  },
  {
   "cell_type": "markdown",
   "id": "bc218cc6",
   "metadata": {},
   "source": [
    "## Outliers:"
   ]
  },
  {
   "cell_type": "code",
   "execution_count": 44,
   "id": "46de4dec",
   "metadata": {},
   "outputs": [
    {
     "data": {
      "text/plain": [
       "Age                  AxesSubplot(0.125,0.816017;0.352273x0.0639831)\n",
       "Workclass         AxesSubplot(0.547727,0.816017;0.352273x0.0639831)\n",
       "Fnlwgt               AxesSubplot(0.125,0.739237;0.352273x0.0639831)\n",
       "Education         AxesSubplot(0.547727,0.739237;0.352273x0.0639831)\n",
       "Education_num        AxesSubplot(0.125,0.662458;0.352273x0.0639831)\n",
       "Marital_status    AxesSubplot(0.547727,0.662458;0.352273x0.0639831)\n",
       "Occupation           AxesSubplot(0.125,0.585678;0.352273x0.0639831)\n",
       "Relationship      AxesSubplot(0.547727,0.585678;0.352273x0.0639831)\n",
       "Race                 AxesSubplot(0.125,0.508898;0.352273x0.0639831)\n",
       "Sex               AxesSubplot(0.547727,0.508898;0.352273x0.0639831)\n",
       "Capital_gain         AxesSubplot(0.125,0.432119;0.352273x0.0639831)\n",
       "Capital_loss      AxesSubplot(0.547727,0.432119;0.352273x0.0639831)\n",
       "Hours_per_week       AxesSubplot(0.125,0.355339;0.352273x0.0639831)\n",
       "Native_country    AxesSubplot(0.547727,0.355339;0.352273x0.0639831)\n",
       "Incomes              AxesSubplot(0.125,0.278559;0.352273x0.0639831)\n",
       "dtype: object"
      ]
     },
     "execution_count": 44,
     "metadata": {},
     "output_type": "execute_result"
    },
    {
     "data": {
      "image/png": "[encoded data removed]",
      "text/plain": [
       "<Figure size 1080x1440 with 20 Axes>"
      ]
     },
     "metadata": {
      "needs_background": "light"
     },
     "output_type": "display_data"
    }
   ],
   "source": [
    "#Outliers:\n",
    "\n",
    "df.plot(kind='box',subplots=True,layout=(10,2),figsize=(15,20))"
   ]
  },
  {
   "cell_type": "markdown",
   "id": "a56a0755",
   "metadata": {},
   "source": [
    "Age,Workclass,Fnlwgt,Education,Education_num,Race,Capital_gain,Capital_loss,Hours_per_week and Native_country have outliers"
   ]
  },
  {
   "cell_type": "code",
   "execution_count": 45,
   "id": "b5e143ba",
   "metadata": {},
   "outputs": [
    {
     "data": {
      "text/plain": [
       "(array([    3,     9,    10, ..., 32532, 32550, 32552], dtype=int64),\n",
       " array([13, 12,  8, ...,  8,  8,  8], dtype=int64))"
      ]
     },
     "execution_count": 45,
     "metadata": {},
     "output_type": "execute_result"
    }
   ],
   "source": [
    "# Removing Outliers: \n",
    "\n",
    "from scipy.stats import zscore\n",
    "import numpy as np\n",
    "z=np.abs(zscore(df))\n",
    "threshold=3\n",
    "np.where(z>3)"
   ]
  },
  {
   "cell_type": "code",
   "execution_count": 46,
   "id": "8afd9c8a",
   "metadata": {},
   "outputs": [
    {
     "data": {
      "text/html": [
       "<div>\n",
       "<style scoped>\n",
       "    .dataframe tbody tr th:only-of-type {\n",
       "        vertical-align: middle;\n",
       "    }\n",
       "\n",
       "    .dataframe tbody tr th {\n",
       "        vertical-align: top;\n",
       "    }\n",
       "\n",
       "    .dataframe thead th {\n",
       "        text-align: right;\n",
       "    }\n",
       "</style>\n",
       "<table border=\"1\" class=\"dataframe\">\n",
       "  <thead>\n",
       "    <tr style=\"text-align: right;\">\n",
       "      <th></th>\n",
       "      <th>Age</th>\n",
       "      <th>Workclass</th>\n",
       "      <th>Fnlwgt</th>\n",
       "      <th>Education</th>\n",
       "      <th>Education_num</th>\n",
       "      <th>Marital_status</th>\n",
       "      <th>Occupation</th>\n",
       "      <th>Relationship</th>\n",
       "      <th>Race</th>\n",
       "      <th>Sex</th>\n",
       "      <th>Capital_gain</th>\n",
       "      <th>Capital_loss</th>\n",
       "      <th>Hours_per_week</th>\n",
       "      <th>Native_country</th>\n",
       "      <th>Incomes</th>\n",
       "    </tr>\n",
       "  </thead>\n",
       "  <tbody>\n",
       "    <tr>\n",
       "      <th>0</th>\n",
       "      <td>50</td>\n",
       "      <td>5</td>\n",
       "      <td>83311</td>\n",
       "      <td>9</td>\n",
       "      <td>13</td>\n",
       "      <td>2</td>\n",
       "      <td>3</td>\n",
       "      <td>0</td>\n",
       "      <td>4</td>\n",
       "      <td>1</td>\n",
       "      <td>0</td>\n",
       "      <td>0</td>\n",
       "      <td>13</td>\n",
       "      <td>38</td>\n",
       "      <td>0</td>\n",
       "    </tr>\n",
       "    <tr>\n",
       "      <th>1</th>\n",
       "      <td>38</td>\n",
       "      <td>3</td>\n",
       "      <td>215646</td>\n",
       "      <td>11</td>\n",
       "      <td>9</td>\n",
       "      <td>0</td>\n",
       "      <td>5</td>\n",
       "      <td>1</td>\n",
       "      <td>4</td>\n",
       "      <td>1</td>\n",
       "      <td>0</td>\n",
       "      <td>0</td>\n",
       "      <td>40</td>\n",
       "      <td>38</td>\n",
       "      <td>0</td>\n",
       "    </tr>\n",
       "    <tr>\n",
       "      <th>2</th>\n",
       "      <td>53</td>\n",
       "      <td>3</td>\n",
       "      <td>234721</td>\n",
       "      <td>1</td>\n",
       "      <td>7</td>\n",
       "      <td>2</td>\n",
       "      <td>5</td>\n",
       "      <td>0</td>\n",
       "      <td>2</td>\n",
       "      <td>1</td>\n",
       "      <td>0</td>\n",
       "      <td>0</td>\n",
       "      <td>40</td>\n",
       "      <td>38</td>\n",
       "      <td>0</td>\n",
       "    </tr>\n",
       "    <tr>\n",
       "      <th>4</th>\n",
       "      <td>37</td>\n",
       "      <td>3</td>\n",
       "      <td>284582</td>\n",
       "      <td>12</td>\n",
       "      <td>14</td>\n",
       "      <td>2</td>\n",
       "      <td>3</td>\n",
       "      <td>5</td>\n",
       "      <td>4</td>\n",
       "      <td>0</td>\n",
       "      <td>0</td>\n",
       "      <td>0</td>\n",
       "      <td>40</td>\n",
       "      <td>38</td>\n",
       "      <td>0</td>\n",
       "    </tr>\n",
       "    <tr>\n",
       "      <th>5</th>\n",
       "      <td>49</td>\n",
       "      <td>3</td>\n",
       "      <td>160187</td>\n",
       "      <td>6</td>\n",
       "      <td>5</td>\n",
       "      <td>3</td>\n",
       "      <td>7</td>\n",
       "      <td>1</td>\n",
       "      <td>2</td>\n",
       "      <td>0</td>\n",
       "      <td>0</td>\n",
       "      <td>0</td>\n",
       "      <td>16</td>\n",
       "      <td>22</td>\n",
       "      <td>0</td>\n",
       "    </tr>\n",
       "    <tr>\n",
       "      <th>...</th>\n",
       "      <td>...</td>\n",
       "      <td>...</td>\n",
       "      <td>...</td>\n",
       "      <td>...</td>\n",
       "      <td>...</td>\n",
       "      <td>...</td>\n",
       "      <td>...</td>\n",
       "      <td>...</td>\n",
       "      <td>...</td>\n",
       "      <td>...</td>\n",
       "      <td>...</td>\n",
       "      <td>...</td>\n",
       "      <td>...</td>\n",
       "      <td>...</td>\n",
       "      <td>...</td>\n",
       "    </tr>\n",
       "    <tr>\n",
       "      <th>32555</th>\n",
       "      <td>27</td>\n",
       "      <td>3</td>\n",
       "      <td>257302</td>\n",
       "      <td>7</td>\n",
       "      <td>12</td>\n",
       "      <td>2</td>\n",
       "      <td>12</td>\n",
       "      <td>5</td>\n",
       "      <td>4</td>\n",
       "      <td>0</td>\n",
       "      <td>0</td>\n",
       "      <td>0</td>\n",
       "      <td>38</td>\n",
       "      <td>38</td>\n",
       "      <td>0</td>\n",
       "    </tr>\n",
       "    <tr>\n",
       "      <th>32556</th>\n",
       "      <td>40</td>\n",
       "      <td>3</td>\n",
       "      <td>154374</td>\n",
       "      <td>11</td>\n",
       "      <td>9</td>\n",
       "      <td>2</td>\n",
       "      <td>6</td>\n",
       "      <td>0</td>\n",
       "      <td>4</td>\n",
       "      <td>1</td>\n",
       "      <td>0</td>\n",
       "      <td>0</td>\n",
       "      <td>40</td>\n",
       "      <td>38</td>\n",
       "      <td>1</td>\n",
       "    </tr>\n",
       "    <tr>\n",
       "      <th>32557</th>\n",
       "      <td>58</td>\n",
       "      <td>3</td>\n",
       "      <td>151910</td>\n",
       "      <td>11</td>\n",
       "      <td>9</td>\n",
       "      <td>6</td>\n",
       "      <td>0</td>\n",
       "      <td>4</td>\n",
       "      <td>4</td>\n",
       "      <td>0</td>\n",
       "      <td>0</td>\n",
       "      <td>0</td>\n",
       "      <td>40</td>\n",
       "      <td>38</td>\n",
       "      <td>0</td>\n",
       "    </tr>\n",
       "    <tr>\n",
       "      <th>32558</th>\n",
       "      <td>22</td>\n",
       "      <td>3</td>\n",
       "      <td>201490</td>\n",
       "      <td>11</td>\n",
       "      <td>9</td>\n",
       "      <td>4</td>\n",
       "      <td>0</td>\n",
       "      <td>3</td>\n",
       "      <td>4</td>\n",
       "      <td>1</td>\n",
       "      <td>0</td>\n",
       "      <td>0</td>\n",
       "      <td>20</td>\n",
       "      <td>38</td>\n",
       "      <td>0</td>\n",
       "    </tr>\n",
       "    <tr>\n",
       "      <th>32559</th>\n",
       "      <td>52</td>\n",
       "      <td>4</td>\n",
       "      <td>287927</td>\n",
       "      <td>11</td>\n",
       "      <td>9</td>\n",
       "      <td>2</td>\n",
       "      <td>3</td>\n",
       "      <td>5</td>\n",
       "      <td>4</td>\n",
       "      <td>0</td>\n",
       "      <td>15024</td>\n",
       "      <td>0</td>\n",
       "      <td>40</td>\n",
       "      <td>38</td>\n",
       "      <td>1</td>\n",
       "    </tr>\n",
       "  </tbody>\n",
       "</table>\n",
       "<p>27783 rows × 15 columns</p>\n",
       "</div>"
      ],
      "text/plain": [
       "       Age  Workclass  Fnlwgt  Education  Education_num  Marital_status  \\\n",
       "0       50          5   83311          9             13               2   \n",
       "1       38          3  215646         11              9               0   \n",
       "2       53          3  234721          1              7               2   \n",
       "4       37          3  284582         12             14               2   \n",
       "5       49          3  160187          6              5               3   \n",
       "...    ...        ...     ...        ...            ...             ...   \n",
       "32555   27          3  257302          7             12               2   \n",
       "32556   40          3  154374         11              9               2   \n",
       "32557   58          3  151910         11              9               6   \n",
       "32558   22          3  201490         11              9               4   \n",
       "32559   52          4  287927         11              9               2   \n",
       "\n",
       "       Occupation  Relationship  Race  Sex  Capital_gain  Capital_loss  \\\n",
       "0               3             0     4    1             0             0   \n",
       "1               5             1     4    1             0             0   \n",
       "2               5             0     2    1             0             0   \n",
       "4               3             5     4    0             0             0   \n",
       "5               7             1     2    0             0             0   \n",
       "...           ...           ...   ...  ...           ...           ...   \n",
       "32555          12             5     4    0             0             0   \n",
       "32556           6             0     4    1             0             0   \n",
       "32557           0             4     4    0             0             0   \n",
       "32558           0             3     4    1             0             0   \n",
       "32559           3             5     4    0         15024             0   \n",
       "\n",
       "       Hours_per_week  Native_country  Incomes  \n",
       "0                  13              38        0  \n",
       "1                  40              38        0  \n",
       "2                  40              38        0  \n",
       "4                  40              38        0  \n",
       "5                  16              22        0  \n",
       "...               ...             ...      ...  \n",
       "32555              38              38        0  \n",
       "32556              40              38        1  \n",
       "32557              40              38        0  \n",
       "32558              20              38        0  \n",
       "32559              40              38        1  \n",
       "\n",
       "[27783 rows x 15 columns]"
      ]
     },
     "execution_count": 46,
     "metadata": {},
     "output_type": "execute_result"
    }
   ],
   "source": [
    "#removing value greater than threshold value \n",
    "\n",
    "df_new=df[(z<3).all(axis=1)]\n",
    "df_new"
   ]
  },
  {
   "cell_type": "markdown",
   "id": "87c4e4a6",
   "metadata": {},
   "source": [
    "Outliers removed."
   ]
  },
  {
   "cell_type": "code",
   "execution_count": 47,
   "id": "1135d131",
   "metadata": {},
   "outputs": [],
   "source": [
    "df=df_new"
   ]
  },
  {
   "cell_type": "code",
   "execution_count": 48,
   "id": "f79c763b",
   "metadata": {},
   "outputs": [
    {
     "data": {
      "text/plain": [
       "(27783, 15)"
      ]
     },
     "execution_count": 48,
     "metadata": {},
     "output_type": "execute_result"
    }
   ],
   "source": [
    "df.shape"
   ]
  },
  {
   "cell_type": "markdown",
   "id": "4a1b6def",
   "metadata": {},
   "source": [
    "Rows: 27783, Columns: 15"
   ]
  },
  {
   "cell_type": "markdown",
   "id": "637c53a8",
   "metadata": {},
   "source": [
    "### Percentage Loss of data"
   ]
  },
  {
   "cell_type": "code",
   "execution_count": 49,
   "id": "c67e6c7c",
   "metadata": {},
   "outputs": [
    {
     "data": {
      "text/plain": [
       "14.67137592137592"
      ]
     },
     "execution_count": 49,
     "metadata": {},
     "output_type": "execute_result"
    }
   ],
   "source": [
    "Data_loss=((32560-27783)/32560)*100\n",
    "Data_loss"
   ]
  },
  {
   "cell_type": "markdown",
   "id": "591631c0",
   "metadata": {},
   "source": [
    "14.67% data lost"
   ]
  },
  {
   "cell_type": "markdown",
   "id": "9cf36cee",
   "metadata": {},
   "source": [
    "## Correlation of the columns with the target columns:"
   ]
  },
  {
   "cell_type": "code",
   "execution_count": 50,
   "id": "983275cb",
   "metadata": {},
   "outputs": [
    {
     "data": {
      "text/html": [
       "<div>\n",
       "<style scoped>\n",
       "    .dataframe tbody tr th:only-of-type {\n",
       "        vertical-align: middle;\n",
       "    }\n",
       "\n",
       "    .dataframe tbody tr th {\n",
       "        vertical-align: top;\n",
       "    }\n",
       "\n",
       "    .dataframe thead th {\n",
       "        text-align: right;\n",
       "    }\n",
       "</style>\n",
       "<table border=\"1\" class=\"dataframe\">\n",
       "  <thead>\n",
       "    <tr style=\"text-align: right;\">\n",
       "      <th></th>\n",
       "      <th>Age</th>\n",
       "      <th>Workclass</th>\n",
       "      <th>Fnlwgt</th>\n",
       "      <th>Education</th>\n",
       "      <th>Education_num</th>\n",
       "      <th>Marital_status</th>\n",
       "      <th>Occupation</th>\n",
       "      <th>Relationship</th>\n",
       "      <th>Race</th>\n",
       "      <th>Sex</th>\n",
       "      <th>Capital_gain</th>\n",
       "      <th>Capital_loss</th>\n",
       "      <th>Hours_per_week</th>\n",
       "      <th>Native_country</th>\n",
       "      <th>Incomes</th>\n",
       "    </tr>\n",
       "  </thead>\n",
       "  <tbody>\n",
       "    <tr>\n",
       "      <th>Age</th>\n",
       "      <td>1.000000</td>\n",
       "      <td>0.042922</td>\n",
       "      <td>-0.077599</td>\n",
       "      <td>-0.004169</td>\n",
       "      <td>0.044412</td>\n",
       "      <td>-0.286278</td>\n",
       "      <td>0.006079</td>\n",
       "      <td>-0.270166</td>\n",
       "      <td>0.020938</td>\n",
       "      <td>0.089335</td>\n",
       "      <td>0.132382</td>\n",
       "      <td>0.023449</td>\n",
       "      <td>0.090928</td>\n",
       "      <td>0.035239</td>\n",
       "      <td>0.241315</td>\n",
       "    </tr>\n",
       "    <tr>\n",
       "      <th>Workclass</th>\n",
       "      <td>0.042922</td>\n",
       "      <td>1.000000</td>\n",
       "      <td>-0.017788</td>\n",
       "      <td>-0.020164</td>\n",
       "      <td>-0.060449</td>\n",
       "      <td>0.045782</td>\n",
       "      <td>0.308538</td>\n",
       "      <td>0.013567</td>\n",
       "      <td>0.032434</td>\n",
       "      <td>0.003105</td>\n",
       "      <td>-0.010394</td>\n",
       "      <td>-0.008177</td>\n",
       "      <td>-0.101597</td>\n",
       "      <td>0.005190</td>\n",
       "      <td>-0.060329</td>\n",
       "    </tr>\n",
       "    <tr>\n",
       "      <th>Fnlwgt</th>\n",
       "      <td>-0.077599</td>\n",
       "      <td>-0.017788</td>\n",
       "      <td>1.000000</td>\n",
       "      <td>-0.021373</td>\n",
       "      <td>-0.039536</td>\n",
       "      <td>0.029752</td>\n",
       "      <td>-0.001255</td>\n",
       "      <td>0.014884</td>\n",
       "      <td>-0.102281</td>\n",
       "      <td>0.023202</td>\n",
       "      <td>-0.003621</td>\n",
       "      <td>0.003219</td>\n",
       "      <td>-0.018334</td>\n",
       "      <td>-0.103214</td>\n",
       "      <td>-0.011593</td>\n",
       "    </tr>\n",
       "    <tr>\n",
       "      <th>Education</th>\n",
       "      <td>-0.004169</td>\n",
       "      <td>-0.020164</td>\n",
       "      <td>-0.021373</td>\n",
       "      <td>1.000000</td>\n",
       "      <td>0.346929</td>\n",
       "      <td>-0.037125</td>\n",
       "      <td>-0.047034</td>\n",
       "      <td>-0.009196</td>\n",
       "      <td>0.026610</td>\n",
       "      <td>-0.031748</td>\n",
       "      <td>0.026581</td>\n",
       "      <td>-0.000335</td>\n",
       "      <td>0.058818</td>\n",
       "      <td>0.089093</td>\n",
       "      <td>0.070899</td>\n",
       "    </tr>\n",
       "    <tr>\n",
       "      <th>Education_num</th>\n",
       "      <td>0.044412</td>\n",
       "      <td>-0.060449</td>\n",
       "      <td>-0.039536</td>\n",
       "      <td>0.346929</td>\n",
       "      <td>1.000000</td>\n",
       "      <td>-0.058534</td>\n",
       "      <td>0.045515</td>\n",
       "      <td>-0.092873</td>\n",
       "      <td>0.082749</td>\n",
       "      <td>0.003945</td>\n",
       "      <td>0.157588</td>\n",
       "      <td>0.007352</td>\n",
       "      <td>0.155772</td>\n",
       "      <td>0.149067</td>\n",
       "      <td>0.319511</td>\n",
       "    </tr>\n",
       "    <tr>\n",
       "      <th>Marital_status</th>\n",
       "      <td>-0.286278</td>\n",
       "      <td>0.045782</td>\n",
       "      <td>0.029752</td>\n",
       "      <td>-0.037125</td>\n",
       "      <td>-0.058534</td>\n",
       "      <td>1.000000</td>\n",
       "      <td>0.054493</td>\n",
       "      <td>0.184104</td>\n",
       "      <td>-0.084671</td>\n",
       "      <td>-0.126149</td>\n",
       "      <td>-0.069569</td>\n",
       "      <td>-0.016479</td>\n",
       "      <td>-0.196905</td>\n",
       "      <td>-0.029891</td>\n",
       "      <td>-0.194068</td>\n",
       "    </tr>\n",
       "    <tr>\n",
       "      <th>Occupation</th>\n",
       "      <td>0.006079</td>\n",
       "      <td>0.308538</td>\n",
       "      <td>-0.001255</td>\n",
       "      <td>-0.047034</td>\n",
       "      <td>0.045515</td>\n",
       "      <td>0.054493</td>\n",
       "      <td>1.000000</td>\n",
       "      <td>-0.016552</td>\n",
       "      <td>-0.003834</td>\n",
       "      <td>0.030027</td>\n",
       "      <td>0.002079</td>\n",
       "      <td>-0.004665</td>\n",
       "      <td>-0.064224</td>\n",
       "      <td>0.019637</td>\n",
       "      <td>0.008354</td>\n",
       "    </tr>\n",
       "    <tr>\n",
       "      <th>Relationship</th>\n",
       "      <td>-0.270166</td>\n",
       "      <td>0.013567</td>\n",
       "      <td>0.014884</td>\n",
       "      <td>-0.009196</td>\n",
       "      <td>-0.092873</td>\n",
       "      <td>0.184104</td>\n",
       "      <td>-0.016552</td>\n",
       "      <td>1.000000</td>\n",
       "      <td>-0.146470</td>\n",
       "      <td>-0.576884</td>\n",
       "      <td>-0.090011</td>\n",
       "      <td>0.030263</td>\n",
       "      <td>-0.263187</td>\n",
       "      <td>-0.012015</td>\n",
       "      <td>-0.247810</td>\n",
       "    </tr>\n",
       "    <tr>\n",
       "      <th>Race</th>\n",
       "      <td>0.020938</td>\n",
       "      <td>0.032434</td>\n",
       "      <td>-0.102281</td>\n",
       "      <td>0.026610</td>\n",
       "      <td>0.082749</td>\n",
       "      <td>-0.084671</td>\n",
       "      <td>-0.003834</td>\n",
       "      <td>-0.146470</td>\n",
       "      <td>1.000000</td>\n",
       "      <td>0.124862</td>\n",
       "      <td>0.031092</td>\n",
       "      <td>-0.000083</td>\n",
       "      <td>0.057038</td>\n",
       "      <td>0.014516</td>\n",
       "      <td>0.094940</td>\n",
       "    </tr>\n",
       "    <tr>\n",
       "      <th>Sex</th>\n",
       "      <td>0.089335</td>\n",
       "      <td>0.003105</td>\n",
       "      <td>0.023202</td>\n",
       "      <td>-0.031748</td>\n",
       "      <td>0.003945</td>\n",
       "      <td>-0.126149</td>\n",
       "      <td>0.030027</td>\n",
       "      <td>-0.576884</td>\n",
       "      <td>0.124862</td>\n",
       "      <td>1.000000</td>\n",
       "      <td>0.069931</td>\n",
       "      <td>-0.027436</td>\n",
       "      <td>0.237000</td>\n",
       "      <td>-0.007392</td>\n",
       "      <td>0.211493</td>\n",
       "    </tr>\n",
       "    <tr>\n",
       "      <th>Capital_gain</th>\n",
       "      <td>0.132382</td>\n",
       "      <td>-0.010394</td>\n",
       "      <td>-0.003621</td>\n",
       "      <td>0.026581</td>\n",
       "      <td>0.157588</td>\n",
       "      <td>-0.069569</td>\n",
       "      <td>0.002079</td>\n",
       "      <td>-0.090011</td>\n",
       "      <td>0.031092</td>\n",
       "      <td>0.069931</td>\n",
       "      <td>1.000000</td>\n",
       "      <td>-0.009116</td>\n",
       "      <td>0.098338</td>\n",
       "      <td>0.018795</td>\n",
       "      <td>0.343081</td>\n",
       "    </tr>\n",
       "    <tr>\n",
       "      <th>Capital_loss</th>\n",
       "      <td>0.023449</td>\n",
       "      <td>-0.008177</td>\n",
       "      <td>0.003219</td>\n",
       "      <td>-0.000335</td>\n",
       "      <td>0.007352</td>\n",
       "      <td>-0.016479</td>\n",
       "      <td>-0.004665</td>\n",
       "      <td>0.030263</td>\n",
       "      <td>-0.000083</td>\n",
       "      <td>-0.027436</td>\n",
       "      <td>-0.009116</td>\n",
       "      <td>1.000000</td>\n",
       "      <td>-0.003447</td>\n",
       "      <td>0.002080</td>\n",
       "      <td>-0.016534</td>\n",
       "    </tr>\n",
       "    <tr>\n",
       "      <th>Hours_per_week</th>\n",
       "      <td>0.090928</td>\n",
       "      <td>-0.101597</td>\n",
       "      <td>-0.018334</td>\n",
       "      <td>0.058818</td>\n",
       "      <td>0.155772</td>\n",
       "      <td>-0.196905</td>\n",
       "      <td>-0.064224</td>\n",
       "      <td>-0.263187</td>\n",
       "      <td>0.057038</td>\n",
       "      <td>0.237000</td>\n",
       "      <td>0.098338</td>\n",
       "      <td>-0.003447</td>\n",
       "      <td>1.000000</td>\n",
       "      <td>0.005383</td>\n",
       "      <td>0.232909</td>\n",
       "    </tr>\n",
       "    <tr>\n",
       "      <th>Native_country</th>\n",
       "      <td>0.035239</td>\n",
       "      <td>0.005190</td>\n",
       "      <td>-0.103214</td>\n",
       "      <td>0.089093</td>\n",
       "      <td>0.149067</td>\n",
       "      <td>-0.029891</td>\n",
       "      <td>0.019637</td>\n",
       "      <td>-0.012015</td>\n",
       "      <td>0.014516</td>\n",
       "      <td>-0.007392</td>\n",
       "      <td>0.018795</td>\n",
       "      <td>0.002080</td>\n",
       "      <td>0.005383</td>\n",
       "      <td>1.000000</td>\n",
       "      <td>0.046448</td>\n",
       "    </tr>\n",
       "    <tr>\n",
       "      <th>Incomes</th>\n",
       "      <td>0.241315</td>\n",
       "      <td>-0.060329</td>\n",
       "      <td>-0.011593</td>\n",
       "      <td>0.070899</td>\n",
       "      <td>0.319511</td>\n",
       "      <td>-0.194068</td>\n",
       "      <td>0.008354</td>\n",
       "      <td>-0.247810</td>\n",
       "      <td>0.094940</td>\n",
       "      <td>0.211493</td>\n",
       "      <td>0.343081</td>\n",
       "      <td>-0.016534</td>\n",
       "      <td>0.232909</td>\n",
       "      <td>0.046448</td>\n",
       "      <td>1.000000</td>\n",
       "    </tr>\n",
       "  </tbody>\n",
       "</table>\n",
       "</div>"
      ],
      "text/plain": [
       "                     Age  Workclass    Fnlwgt  Education  Education_num  \\\n",
       "Age             1.000000   0.042922 -0.077599  -0.004169       0.044412   \n",
       "Workclass       0.042922   1.000000 -0.017788  -0.020164      -0.060449   \n",
       "Fnlwgt         -0.077599  -0.017788  1.000000  -0.021373      -0.039536   \n",
       "Education      -0.004169  -0.020164 -0.021373   1.000000       0.346929   \n",
       "Education_num   0.044412  -0.060449 -0.039536   0.346929       1.000000   \n",
       "Marital_status -0.286278   0.045782  0.029752  -0.037125      -0.058534   \n",
       "Occupation      0.006079   0.308538 -0.001255  -0.047034       0.045515   \n",
       "Relationship   -0.270166   0.013567  0.014884  -0.009196      -0.092873   \n",
       "Race            0.020938   0.032434 -0.102281   0.026610       0.082749   \n",
       "Sex             0.089335   0.003105  0.023202  -0.031748       0.003945   \n",
       "Capital_gain    0.132382  -0.010394 -0.003621   0.026581       0.157588   \n",
       "Capital_loss    0.023449  -0.008177  0.003219  -0.000335       0.007352   \n",
       "Hours_per_week  0.090928  -0.101597 -0.018334   0.058818       0.155772   \n",
       "Native_country  0.035239   0.005190 -0.103214   0.089093       0.149067   \n",
       "Incomes         0.241315  -0.060329 -0.011593   0.070899       0.319511   \n",
       "\n",
       "                Marital_status  Occupation  Relationship      Race       Sex  \\\n",
       "Age                  -0.286278    0.006079     -0.270166  0.020938  0.089335   \n",
       "Workclass             0.045782    0.308538      0.013567  0.032434  0.003105   \n",
       "Fnlwgt                0.029752   -0.001255      0.014884 -0.102281  0.023202   \n",
       "Education            -0.037125   -0.047034     -0.009196  0.026610 -0.031748   \n",
       "Education_num        -0.058534    0.045515     -0.092873  0.082749  0.003945   \n",
       "Marital_status        1.000000    0.054493      0.184104 -0.084671 -0.126149   \n",
       "Occupation            0.054493    1.000000     -0.016552 -0.003834  0.030027   \n",
       "Relationship          0.184104   -0.016552      1.000000 -0.146470 -0.576884   \n",
       "Race                 -0.084671   -0.003834     -0.146470  1.000000  0.124862   \n",
       "Sex                  -0.126149    0.030027     -0.576884  0.124862  1.000000   \n",
       "Capital_gain         -0.069569    0.002079     -0.090011  0.031092  0.069931   \n",
       "Capital_loss         -0.016479   -0.004665      0.030263 -0.000083 -0.027436   \n",
       "Hours_per_week       -0.196905   -0.064224     -0.263187  0.057038  0.237000   \n",
       "Native_country       -0.029891    0.019637     -0.012015  0.014516 -0.007392   \n",
       "Incomes              -0.194068    0.008354     -0.247810  0.094940  0.211493   \n",
       "\n",
       "                Capital_gain  Capital_loss  Hours_per_week  Native_country  \\\n",
       "Age                 0.132382      0.023449        0.090928        0.035239   \n",
       "Workclass          -0.010394     -0.008177       -0.101597        0.005190   \n",
       "Fnlwgt             -0.003621      0.003219       -0.018334       -0.103214   \n",
       "Education           0.026581     -0.000335        0.058818        0.089093   \n",
       "Education_num       0.157588      0.007352        0.155772        0.149067   \n",
       "Marital_status     -0.069569     -0.016479       -0.196905       -0.029891   \n",
       "Occupation          0.002079     -0.004665       -0.064224        0.019637   \n",
       "Relationship       -0.090011      0.030263       -0.263187       -0.012015   \n",
       "Race                0.031092     -0.000083        0.057038        0.014516   \n",
       "Sex                 0.069931     -0.027436        0.237000       -0.007392   \n",
       "Capital_gain        1.000000     -0.009116        0.098338        0.018795   \n",
       "Capital_loss       -0.009116      1.000000       -0.003447        0.002080   \n",
       "Hours_per_week      0.098338     -0.003447        1.000000        0.005383   \n",
       "Native_country      0.018795      0.002080        0.005383        1.000000   \n",
       "Incomes             0.343081     -0.016534        0.232909        0.046448   \n",
       "\n",
       "                 Incomes  \n",
       "Age             0.241315  \n",
       "Workclass      -0.060329  \n",
       "Fnlwgt         -0.011593  \n",
       "Education       0.070899  \n",
       "Education_num   0.319511  \n",
       "Marital_status -0.194068  \n",
       "Occupation      0.008354  \n",
       "Relationship   -0.247810  \n",
       "Race            0.094940  \n",
       "Sex             0.211493  \n",
       "Capital_gain    0.343081  \n",
       "Capital_loss   -0.016534  \n",
       "Hours_per_week  0.232909  \n",
       "Native_country  0.046448  \n",
       "Incomes         1.000000  "
      ]
     },
     "execution_count": 50,
     "metadata": {},
     "output_type": "execute_result"
    }
   ],
   "source": [
    "df.corr()"
   ]
  },
  {
   "cell_type": "markdown",
   "id": "e889dcfd",
   "metadata": {},
   "source": [
    "correlation of input with target variable Income"
   ]
  },
  {
   "cell_type": "code",
   "execution_count": 51,
   "id": "e2cbb15d",
   "metadata": {},
   "outputs": [
    {
     "data": {
      "text/plain": [
       "<AxesSubplot:>"
      ]
     },
     "execution_count": 51,
     "metadata": {},
     "output_type": "execute_result"
    },
    {
     "data": {
      "image/png": "[encoded data removed]",
      "text/plain": [
       "<Figure size 720x504 with 2 Axes>"
      ]
     },
     "metadata": {
      "needs_background": "light"
     },
     "output_type": "display_data"
    }
   ],
   "source": [
    "plt.figure(figsize=(10,7))\n",
    "sns.heatmap(df.corr(),annot=True,linewidths=0.1,linecolor=\"Black\",fmt=\"0.2f\")"
   ]
  },
  {
   "cell_type": "markdown",
   "id": "fcd982b1",
   "metadata": {},
   "source": [
    "Key Observation:\n",
    " 1. Income have positive correlation with Capital_gain and negative correlation with Relationship.\n",
    " 2. Capital_gain has negative correlation with Relationship and positive correlation with Income.\n",
    " 3. Multicollinearity exist"
   ]
  },
  {
   "cell_type": "markdown",
   "id": "37d1a665",
   "metadata": {},
   "source": [
    "## Separating Target and feature variables"
   ]
  },
  {
   "cell_type": "code",
   "execution_count": 52,
   "id": "a2af665d",
   "metadata": {},
   "outputs": [],
   "source": [
    "x = df.drop(\"Incomes\",axis=1)\n",
    "y = df[\"Incomes\"]"
   ]
  },
  {
   "cell_type": "markdown",
   "id": "91b047d0",
   "metadata": {},
   "source": [
    "### Multicollinearity removal using VIF"
   ]
  },
  {
   "cell_type": "code",
   "execution_count": 53,
   "id": "f5d514e5",
   "metadata": {},
   "outputs": [],
   "source": [
    "from statsmodels.stats.outliers_influence import variance_inflation_factor"
   ]
  },
  {
   "cell_type": "code",
   "execution_count": 54,
   "id": "cc7ab168",
   "metadata": {},
   "outputs": [],
   "source": [
    "def vif_calc():\n",
    "    vif=pd.DataFrame()\n",
    "    vif[\"VIF Factor\"]=[variance_inflation_factor(x.values,i) for i in range(x.shape[1])]\n",
    "    vif[\"features\"]=x.columns\n",
    "    print(vif)"
   ]
  },
  {
   "cell_type": "markdown",
   "id": "d80dfd69",
   "metadata": {},
   "source": [
    "VIF technique is used to remove Multicollinearity."
   ]
  },
  {
   "cell_type": "code",
   "execution_count": 55,
   "id": "ea685b5c",
   "metadata": {},
   "outputs": [
    {
     "name": "stdout",
     "output_type": "stream",
     "text": [
      "    VIF Factor        features\n",
      "0    10.297374             Age\n",
      "1     6.221544       Workclass\n",
      "2     4.725571          Fnlwgt\n",
      "3     9.299643       Education\n",
      "4    22.486158   Education_num\n",
      "5     4.341209  Marital_status\n",
      "6     3.539108      Occupation\n",
      "7     2.932855    Relationship\n",
      "8    36.703380            Race\n",
      "9     4.533855             Sex\n",
      "10    1.110906    Capital_gain\n",
      "11    1.004038    Capital_loss\n",
      "12   15.133703  Hours_per_week\n",
      "13   80.734189  Native_country\n"
     ]
    }
   ],
   "source": [
    "vif_calc()"
   ]
  },
  {
   "cell_type": "markdown",
   "id": "9e445cdb",
   "metadata": {},
   "source": [
    "Native_country,Race,Education_num, Hours_per_week and Age have higher VIF Factor"
   ]
  },
  {
   "cell_type": "markdown",
   "id": "16533c12",
   "metadata": {},
   "source": [
    "## Skewness:"
   ]
  },
  {
   "cell_type": "code",
   "execution_count": 56,
   "id": "dec3e1ad",
   "metadata": {},
   "outputs": [
    {
     "data": {
      "text/plain": [
       "Age                0.484815\n",
       "Workclass          1.183376\n",
       "Fnlwgt             0.627839\n",
       "Education         -0.955830\n",
       "Education_num     -0.146241\n",
       "Marital_status    -0.045497\n",
       "Occupation         0.135730\n",
       "Relationship       0.752998\n",
       "Race              -2.587270\n",
       "Sex               -0.688841\n",
       "Capital_gain       4.930962\n",
       "Capital_loss      29.521477\n",
       "Hours_per_week    -0.359723\n",
       "Native_country    -5.179023\n",
       "dtype: float64"
      ]
     },
     "execution_count": 56,
     "metadata": {},
     "output_type": "execute_result"
    }
   ],
   "source": [
    "x.skew()"
   ]
  },
  {
   "cell_type": "markdown",
   "id": "a80302e8",
   "metadata": {},
   "source": [
    "Taking range of skewness between +/- 0.5\n",
    "Capital_loss has higher skewness so need to remove it."
   ]
  },
  {
   "cell_type": "code",
   "execution_count": 57,
   "id": "5fb541f5",
   "metadata": {},
   "outputs": [
    {
     "data": {
      "text/plain": [
       "array([[ 0.92478243,  1.06127641, -1.12660978, ..., -0.04027807,\n",
       "        -2.21494639,  0.04195581],\n",
       "       [ 0.12842372, -0.14767017,  0.4130335 , ..., -0.04027807,\n",
       "        -0.03973374,  0.04195581],\n",
       "       [ 1.0995744 , -0.14767017,  0.59338805, ..., -0.04027807,\n",
       "        -0.03973374,  0.04195581],\n",
       "       ...,\n",
       "       [ 1.37401089, -0.14767017, -0.24940364, ..., -0.04027807,\n",
       "        -0.03973374,  0.04195581],\n",
       "       [-1.32939791, -0.14767017,  0.27449645, ..., -0.04027807,\n",
       "        -1.72163421,  0.04195581],\n",
       "       [ 1.04221197,  0.4878625 ,  1.06427355, ..., -0.04027807,\n",
       "        -0.03973374,  0.04195581]])"
      ]
     },
     "execution_count": 57,
     "metadata": {},
     "output_type": "execute_result"
    }
   ],
   "source": [
    "# Using power_transform to remove skewness.\n",
    "from sklearn.preprocessing import power_transform\n",
    "x=power_transform(x,method='yeo-johnson')\n",
    "x"
   ]
  },
  {
   "cell_type": "markdown",
   "id": "422bd072",
   "metadata": {},
   "source": [
    "Used power_transform to remove skewness."
   ]
  },
  {
   "cell_type": "code",
   "execution_count": 58,
   "id": "97f13d65",
   "metadata": {},
   "outputs": [],
   "source": [
    "# converting ndarray to dataframe\n",
    "x=pd.DataFrame(x)"
   ]
  },
  {
   "cell_type": "code",
   "execution_count": 59,
   "id": "b6dd0603",
   "metadata": {},
   "outputs": [
    {
     "data": {
      "text/plain": [
       "0     -0.018116\n",
       "1      0.137669\n",
       "2     -0.034501\n",
       "3     -0.313405\n",
       "4      0.026902\n",
       "5     -0.128269\n",
       "6     -0.203045\n",
       "7      0.109542\n",
       "8     -2.524683\n",
       "9     -0.688841\n",
       "10     3.068452\n",
       "11    24.788464\n",
       "12     0.105225\n",
       "13     1.307405\n",
       "dtype: float64"
      ]
     },
     "execution_count": 59,
     "metadata": {},
     "output_type": "execute_result"
    }
   ],
   "source": [
    "x.skew()"
   ]
  },
  {
   "cell_type": "markdown",
   "id": "20dd219f",
   "metadata": {},
   "source": [
    "Still Column 8,11,13 has skewness so need to drop it."
   ]
  },
  {
   "cell_type": "markdown",
   "id": "fd20eb46",
   "metadata": {},
   "source": [
    "## Data Cleaning:"
   ]
  },
  {
   "cell_type": "code",
   "execution_count": 60,
   "id": "19ef9ab6",
   "metadata": {},
   "outputs": [
    {
     "data": {
      "text/html": [
       "<div>\n",
       "<style scoped>\n",
       "    .dataframe tbody tr th:only-of-type {\n",
       "        vertical-align: middle;\n",
       "    }\n",
       "\n",
       "    .dataframe tbody tr th {\n",
       "        vertical-align: top;\n",
       "    }\n",
       "\n",
       "    .dataframe thead th {\n",
       "        text-align: right;\n",
       "    }\n",
       "</style>\n",
       "<table border=\"1\" class=\"dataframe\">\n",
       "  <thead>\n",
       "    <tr style=\"text-align: right;\">\n",
       "      <th></th>\n",
       "      <th>0</th>\n",
       "      <th>1</th>\n",
       "      <th>2</th>\n",
       "      <th>3</th>\n",
       "      <th>4</th>\n",
       "      <th>5</th>\n",
       "      <th>6</th>\n",
       "      <th>7</th>\n",
       "      <th>9</th>\n",
       "      <th>10</th>\n",
       "      <th>12</th>\n",
       "    </tr>\n",
       "  </thead>\n",
       "  <tbody>\n",
       "    <tr>\n",
       "      <th>0</th>\n",
       "      <td>0.924782</td>\n",
       "      <td>1.061276</td>\n",
       "      <td>-1.126610</td>\n",
       "      <td>-0.489939</td>\n",
       "      <td>1.230081</td>\n",
       "      <td>-0.385370</td>\n",
       "      <td>-0.683150</td>\n",
       "      <td>-1.107778</td>\n",
       "      <td>0.713243</td>\n",
       "      <td>-0.297139</td>\n",
       "      <td>-2.214946</td>\n",
       "    </tr>\n",
       "    <tr>\n",
       "      <th>1</th>\n",
       "      <td>0.128424</td>\n",
       "      <td>-0.147670</td>\n",
       "      <td>0.413033</td>\n",
       "      <td>0.077604</td>\n",
       "      <td>-0.462835</td>\n",
       "      <td>-1.761318</td>\n",
       "      <td>-0.179076</td>\n",
       "      <td>0.105974</td>\n",
       "      <td>0.713243</td>\n",
       "      <td>-0.297139</td>\n",
       "      <td>-0.039734</td>\n",
       "    </tr>\n",
       "    <tr>\n",
       "      <th>2</th>\n",
       "      <td>1.099574</td>\n",
       "      <td>-0.147670</td>\n",
       "      <td>0.593388</td>\n",
       "      <td>-2.073703</td>\n",
       "      <td>-1.260785</td>\n",
       "      <td>-0.385370</td>\n",
       "      <td>-0.179076</td>\n",
       "      <td>-1.107778</td>\n",
       "      <td>0.713243</td>\n",
       "      <td>-0.297139</td>\n",
       "      <td>-0.039734</td>\n",
       "    </tr>\n",
       "    <tr>\n",
       "      <th>3</th>\n",
       "      <td>0.053370</td>\n",
       "      <td>-0.147670</td>\n",
       "      <td>1.035892</td>\n",
       "      <td>0.382569</td>\n",
       "      <td>1.670509</td>\n",
       "      <td>-0.385370</td>\n",
       "      <td>-0.683150</td>\n",
       "      <td>1.549604</td>\n",
       "      <td>-1.402047</td>\n",
       "      <td>-0.297139</td>\n",
       "      <td>-0.039734</td>\n",
       "    </tr>\n",
       "    <tr>\n",
       "      <th>4</th>\n",
       "      <td>0.864651</td>\n",
       "      <td>-0.147670</td>\n",
       "      <td>-0.157099</td>\n",
       "      <td>-1.225853</td>\n",
       "      <td>-2.018188</td>\n",
       "      <td>0.269233</td>\n",
       "      <td>0.261986</td>\n",
       "      <td>0.105974</td>\n",
       "      <td>-1.402047</td>\n",
       "      <td>-0.297139</td>\n",
       "      <td>-2.011186</td>\n",
       "    </tr>\n",
       "  </tbody>\n",
       "</table>\n",
       "</div>"
      ],
      "text/plain": [
       "         0         1         2         3         4         5         6   \\\n",
       "0  0.924782  1.061276 -1.126610 -0.489939  1.230081 -0.385370 -0.683150   \n",
       "1  0.128424 -0.147670  0.413033  0.077604 -0.462835 -1.761318 -0.179076   \n",
       "2  1.099574 -0.147670  0.593388 -2.073703 -1.260785 -0.385370 -0.179076   \n",
       "3  0.053370 -0.147670  1.035892  0.382569  1.670509 -0.385370 -0.683150   \n",
       "4  0.864651 -0.147670 -0.157099 -1.225853 -2.018188  0.269233  0.261986   \n",
       "\n",
       "         7         9         10        12  \n",
       "0 -1.107778  0.713243 -0.297139 -2.214946  \n",
       "1  0.105974  0.713243 -0.297139 -0.039734  \n",
       "2 -1.107778  0.713243 -0.297139 -0.039734  \n",
       "3  1.549604 -1.402047 -0.297139 -0.039734  \n",
       "4  0.105974 -1.402047 -0.297139 -2.011186  "
      ]
     },
     "execution_count": 60,
     "metadata": {},
     "output_type": "execute_result"
    }
   ],
   "source": [
    "x.drop([8,11,13],axis=1,inplace=True)\n",
    "x.head()"
   ]
  },
  {
   "cell_type": "markdown",
   "id": "1d61e275",
   "metadata": {},
   "source": [
    "Capital loss/ Column 11 dropped"
   ]
  },
  {
   "cell_type": "markdown",
   "id": "b87b13fc",
   "metadata": {},
   "source": [
    "## Scaling using Standard Scaler"
   ]
  },
  {
   "cell_type": "code",
   "execution_count": 61,
   "id": "5a6cb034",
   "metadata": {},
   "outputs": [
    {
     "data": {
      "text/plain": [
       "array([[ 0.92478243,  1.06127641, -1.12660978, ...,  0.7132431 ,\n",
       "        -0.29713927, -2.21494639],\n",
       "       [ 0.12842372, -0.14767017,  0.4130335 , ...,  0.7132431 ,\n",
       "        -0.29713927, -0.03973374],\n",
       "       [ 1.0995744 , -0.14767017,  0.59338805, ...,  0.7132431 ,\n",
       "        -0.29713927, -0.03973374],\n",
       "       ...,\n",
       "       [ 1.37401089, -0.14767017, -0.24940364, ..., -1.40204651,\n",
       "        -0.29713927, -0.03973374],\n",
       "       [-1.32939791, -0.14767017,  0.27449645, ...,  0.7132431 ,\n",
       "        -0.29713927, -1.72163421],\n",
       "       [ 1.04221197,  0.4878625 ,  1.06427355, ..., -1.40204651,\n",
       "         3.36546266, -0.03973374]])"
      ]
     },
     "execution_count": 61,
     "metadata": {},
     "output_type": "execute_result"
    }
   ],
   "source": [
    "from sklearn.preprocessing import StandardScaler\n",
    "sc = StandardScaler()\n",
    "x=sc.fit_transform(x)\n",
    "x"
   ]
  },
  {
   "cell_type": "markdown",
   "id": "ebeef6ba",
   "metadata": {},
   "source": [
    "Scaling of feature label done."
   ]
  },
  {
   "cell_type": "markdown",
   "id": "925a67a9",
   "metadata": {},
   "source": [
    "# Model Selection:\n"
   ]
  },
  {
   "cell_type": "markdown",
   "id": "a1587a6c",
   "metadata": {},
   "source": [
    "## Logistic Regression:"
   ]
  },
  {
   "cell_type": "code",
   "execution_count": 62,
   "id": "47f628f9",
   "metadata": {},
   "outputs": [],
   "source": [
    "from sklearn.model_selection import train_test_split\n",
    "from sklearn.linear_model import LogisticRegression\n",
    "lr=LogisticRegression()\n",
    "from sklearn.metrics import r2_score\n",
    "from sklearn.metrics import accuracy_score\n",
    "from sklearn.metrics import classification_report"
   ]
  },
  {
   "cell_type": "code",
   "execution_count": 63,
   "id": "f6dfb69e",
   "metadata": {},
   "outputs": [
    {
     "name": "stdout",
     "output_type": "stream",
     "text": [
      "At random state 0 The model performs very well\n",
      "At random state:- 0\n",
      "Training r2_score is:- 82.9209034464141\n",
      "Testing r2_score is:- 82.86845420190751\n",
      "At random state 3 The model performs very well\n",
      "At random state:- 3\n",
      "Training r2_score is:- 82.91190497615405\n",
      "Testing r2_score is:- 82.92244016555695\n",
      "At random state 24 The model performs very well\n",
      "At random state:- 24\n",
      "Training r2_score is:- 82.94789885719428\n",
      "Testing r2_score is:- 82.94043548677344\n",
      "At random state 27 The model performs very well\n",
      "At random state:- 27\n",
      "Training r2_score is:- 83.04688203005489\n",
      "Testing r2_score is:- 82.99442145042289\n",
      "At random state 32 The model performs very well\n",
      "At random state:- 32\n",
      "Training r2_score is:- 82.96589579771438\n",
      "Testing r2_score is:- 82.95843080798993\n",
      "At random state 41 The model performs very well\n",
      "At random state:- 41\n",
      "Training r2_score is:- 82.94789885719428\n",
      "Testing r2_score is:- 82.85045888069102\n",
      "At random state 64 The model performs very well\n",
      "At random state:- 64\n",
      "Training r2_score is:- 83.01538738414469\n",
      "Testing r2_score is:- 82.9764261292064\n",
      "At random state 101 The model performs very well\n",
      "At random state:- 101\n",
      "Training r2_score is:- 82.96589579771438\n",
      "Testing r2_score is:- 83.03041209285585\n",
      "At random state 118 The model performs very well\n",
      "At random state:- 118\n",
      "Training r2_score is:- 82.99289120849456\n",
      "Testing r2_score is:- 82.95843080798993\n",
      "At random state 119 The model performs very well\n",
      "At random state:- 119\n",
      "Training r2_score is:- 83.01088814901468\n",
      "Testing r2_score is:- 83.01241677163938\n",
      "At random state 130 The model performs very well\n",
      "At random state:- 130\n",
      "Training r2_score is:- 82.90290650589401\n",
      "Testing r2_score is:- 82.86845420190751\n",
      "At random state 137 The model performs very well\n",
      "At random state:- 137\n",
      "Training r2_score is:- 82.9838927382345\n",
      "Testing r2_score is:- 82.9764261292064\n",
      "At random state 142 The model performs very well\n",
      "At random state:- 142\n",
      "Training r2_score is:- 82.9523980923243\n",
      "Testing r2_score is:- 82.9764261292064\n",
      "At random state 143 The model performs very well\n",
      "At random state:- 143\n",
      "Training r2_score is:- 82.94339962206425\n",
      "Testing r2_score is:- 82.85045888069102\n",
      "At random state 147 The model performs very well\n",
      "At random state:- 147\n",
      "Training r2_score is:- 82.96139656258435\n",
      "Testing r2_score is:- 82.95843080798993\n",
      "At random state 178 The model performs very well\n",
      "At random state:- 178\n",
      "Training r2_score is:- 82.97039503284441\n",
      "Testing r2_score is:- 82.9764261292064\n",
      "At random state 216 The model performs very well\n",
      "At random state:- 216\n",
      "Training r2_score is:- 82.97939350310448\n",
      "Testing r2_score is:- 83.03041209285585\n",
      "At random state 228 The model performs very well\n",
      "At random state:- 228\n",
      "Training r2_score is:- 83.00638891388465\n",
      "Testing r2_score is:- 82.95843080798993\n",
      "At random state 230 The model performs very well\n",
      "At random state:- 230\n",
      "Training r2_score is:- 82.92540268154414\n",
      "Testing r2_score is:- 82.92244016555695\n",
      "At random state 232 The model performs very well\n",
      "At random state:- 232\n",
      "Training r2_score is:- 82.89840727076397\n",
      "Testing r2_score is:- 82.92244016555695\n",
      "At random state 250 The model performs very well\n",
      "At random state:- 250\n",
      "Training r2_score is:- 82.98839197336453\n",
      "Testing r2_score is:- 83.01241677163938\n",
      "At random state 283 The model performs very well\n",
      "At random state:- 283\n",
      "Training r2_score is:- 82.92990191667417\n",
      "Testing r2_score is:- 82.88644952312399\n",
      "At random state 286 The model performs very well\n",
      "At random state:- 286\n",
      "Training r2_score is:- 82.94339962206425\n",
      "Testing r2_score is:- 82.94043548677344\n",
      "At random state 288 The model performs very well\n",
      "At random state:- 288\n",
      "Training r2_score is:- 82.93890038693422\n",
      "Testing r2_score is:- 82.86845420190751\n",
      "At random state 290 The model performs very well\n",
      "At random state:- 290\n",
      "Training r2_score is:- 82.90740574102402\n",
      "Testing r2_score is:- 82.94043548677344\n",
      "At random state 295 The model performs very well\n",
      "At random state:- 295\n",
      "Training r2_score is:- 82.95689732745434\n",
      "Testing r2_score is:- 83.03041209285585\n",
      "At random state 301 The model performs very well\n",
      "At random state:- 301\n",
      "Training r2_score is:- 82.94789885719428\n",
      "Testing r2_score is:- 82.94043548677344\n",
      "At random state 302 The model performs very well\n",
      "At random state:- 302\n",
      "Training r2_score is:- 82.88940880050392\n",
      "Testing r2_score is:- 82.86845420190751\n",
      "At random state 307 The model performs very well\n",
      "At random state:- 307\n",
      "Training r2_score is:- 82.96589579771438\n",
      "Testing r2_score is:- 83.04840741407234\n",
      "At random state 309 The model performs very well\n",
      "At random state:- 309\n",
      "Training r2_score is:- 82.99289120849456\n",
      "Testing r2_score is:- 82.9764261292064\n",
      "At random state 323 The model performs very well\n",
      "At random state:- 323\n",
      "Training r2_score is:- 82.91190497615405\n",
      "Testing r2_score is:- 82.88644952312399\n",
      "At random state 342 The model performs very well\n",
      "At random state:- 342\n",
      "Training r2_score is:- 82.98839197336453\n",
      "Testing r2_score is:- 82.99442145042289\n",
      "At random state 357 The model performs very well\n",
      "At random state:- 357\n",
      "Training r2_score is:- 82.92540268154414\n",
      "Testing r2_score is:- 82.86845420190751\n",
      "At random state 359 The model performs very well\n",
      "At random state:- 359\n",
      "Training r2_score is:- 82.98839197336453\n",
      "Testing r2_score is:- 82.95843080798993\n",
      "At random state 366 The model performs very well\n",
      "At random state:- 366\n",
      "Training r2_score is:- 82.96139656258435\n",
      "Testing r2_score is:- 83.01241677163938\n",
      "At random state 383 The model performs very well\n",
      "At random state:- 383\n",
      "Training r2_score is:- 82.91640421128407\n",
      "Testing r2_score is:- 82.85045888069102\n",
      "At random state 384 The model performs very well\n",
      "At random state:- 384\n",
      "Training r2_score is:- 83.03788355979484\n",
      "Testing r2_score is:- 83.01241677163938\n",
      "At random state 396 The model performs very well\n",
      "At random state:- 396\n",
      "Training r2_score is:- 82.89390803563394\n",
      "Testing r2_score is:- 82.90444484434047\n",
      "At random state 436 The model performs very well\n",
      "At random state:- 436\n",
      "Training r2_score is:- 82.98839197336453\n",
      "Testing r2_score is:- 82.99442145042289\n",
      "At random state 459 The model performs very well\n",
      "At random state:- 459\n",
      "Training r2_score is:- 82.92990191667417\n",
      "Testing r2_score is:- 82.90444484434047\n",
      "At random state 461 The model performs very well\n",
      "At random state:- 461\n",
      "Training r2_score is:- 82.97489426797443\n",
      "Testing r2_score is:- 83.01241677163938\n",
      "At random state 462 The model performs very well\n",
      "At random state:- 462\n",
      "Training r2_score is:- 82.86241338972374\n",
      "Testing r2_score is:- 82.92244016555695\n",
      "At random state 464 The model performs very well\n",
      "At random state:- 464\n",
      "Training r2_score is:- 82.94339962206425\n",
      "Testing r2_score is:- 82.86845420190751\n",
      "At random state 466 The model performs very well\n",
      "At random state:- 466\n",
      "Training r2_score is:- 82.95689732745434\n",
      "Testing r2_score is:- 83.01241677163938\n",
      "At random state 467 The model performs very well\n",
      "At random state:- 467\n",
      "Training r2_score is:- 82.94789885719428\n",
      "Testing r2_score is:- 82.86845420190751\n",
      "At random state 492 The model performs very well\n",
      "At random state:- 492\n",
      "Training r2_score is:- 83.01088814901468\n",
      "Testing r2_score is:- 83.03041209285585\n",
      "At random state 507 The model performs very well\n",
      "At random state:- 507\n",
      "Training r2_score is:- 82.8714118599838\n",
      "Testing r2_score is:- 82.90444484434047\n",
      "At random state 541 The model performs very well\n",
      "At random state:- 541\n",
      "Training r2_score is:- 82.97039503284441\n",
      "Testing r2_score is:- 82.95843080798993\n",
      "At random state 546 The model performs very well\n",
      "At random state:- 546\n",
      "Training r2_score is:- 82.97489426797443\n",
      "Testing r2_score is:- 83.03041209285585\n",
      "At random state 549 The model performs very well\n",
      "At random state:- 549\n",
      "Training r2_score is:- 82.9838927382345\n",
      "Testing r2_score is:- 82.95843080798993\n",
      "At random state 550 The model performs very well\n",
      "At random state:- 550\n",
      "Training r2_score is:- 83.02888508953478\n",
      "Testing r2_score is:- 82.95843080798993\n",
      "At random state 561 The model performs very well\n",
      "At random state:- 561\n",
      "Training r2_score is:- 82.94339962206425\n",
      "Testing r2_score is:- 82.86845420190751\n",
      "At random state 599 The model performs very well\n",
      "At random state:- 599\n",
      "Training r2_score is:- 82.97489426797443\n",
      "Testing r2_score is:- 82.95843080798993\n",
      "At random state 605 The model performs very well\n",
      "At random state:- 605\n",
      "Training r2_score is:- 82.91640421128407\n",
      "Testing r2_score is:- 82.92244016555695\n",
      "At random state 627 The model performs very well\n",
      "At random state:- 627\n",
      "Training r2_score is:- 82.98839197336453\n",
      "Testing r2_score is:- 82.95843080798993\n",
      "At random state 628 The model performs very well\n",
      "At random state:- 628\n",
      "Training r2_score is:- 82.94339962206425\n",
      "Testing r2_score is:- 82.92244016555695\n",
      "At random state 633 The model performs very well\n",
      "At random state:- 633\n",
      "Training r2_score is:- 82.91190497615405\n",
      "Testing r2_score is:- 82.88644952312399\n"
     ]
    },
    {
     "name": "stdout",
     "output_type": "stream",
     "text": [
      "At random state 649 The model performs very well\n",
      "At random state:- 649\n",
      "Training r2_score is:- 83.00188967875461\n",
      "Testing r2_score is:- 83.03041209285585\n",
      "At random state 656 The model performs very well\n",
      "At random state:- 656\n",
      "Training r2_score is:- 82.98839197336453\n",
      "Testing r2_score is:- 82.95843080798993\n",
      "At random state 703 The model performs very well\n",
      "At random state:- 703\n",
      "Training r2_score is:- 82.9523980923243\n",
      "Testing r2_score is:- 83.03041209285585\n",
      "At random state 707 The model performs very well\n",
      "At random state:- 707\n",
      "Training r2_score is:- 83.00188967875461\n",
      "Testing r2_score is:- 82.9764261292064\n",
      "At random state 708 The model performs very well\n",
      "At random state:- 708\n",
      "Training r2_score is:- 82.90290650589401\n",
      "Testing r2_score is:- 82.85045888069102\n",
      "At random state 717 The model performs very well\n",
      "At random state:- 717\n",
      "Training r2_score is:- 82.94789885719428\n",
      "Testing r2_score is:- 82.94043548677344\n",
      "At random state 721 The model performs very well\n",
      "At random state:- 721\n",
      "Training r2_score is:- 82.9838927382345\n",
      "Testing r2_score is:- 82.95843080798993\n",
      "At random state 738 The model performs very well\n",
      "At random state:- 738\n",
      "Training r2_score is:- 82.91640421128407\n",
      "Testing r2_score is:- 82.88644952312399\n",
      "At random state 744 The model performs very well\n",
      "At random state:- 744\n",
      "Training r2_score is:- 82.9838927382345\n",
      "Testing r2_score is:- 83.01241677163938\n",
      "At random state 748 The model performs very well\n",
      "At random state:- 748\n",
      "Training r2_score is:- 82.9344011518042\n",
      "Testing r2_score is:- 82.90444484434047\n",
      "At random state 758 The model performs very well\n",
      "At random state:- 758\n",
      "Training r2_score is:- 82.97039503284441\n",
      "Testing r2_score is:- 83.03041209285585\n",
      "At random state 782 The model performs very well\n",
      "At random state:- 782\n",
      "Training r2_score is:- 82.9209034464141\n",
      "Testing r2_score is:- 82.85045888069102\n",
      "At random state 785 The model performs very well\n",
      "At random state:- 785\n",
      "Training r2_score is:- 82.93890038693422\n",
      "Testing r2_score is:- 82.92244016555695\n",
      "At random state 788 The model performs very well\n",
      "At random state:- 788\n",
      "Training r2_score is:- 82.9523980923243\n",
      "Testing r2_score is:- 82.99442145042289\n",
      "At random state 790 The model performs very well\n",
      "At random state:- 790\n",
      "Training r2_score is:- 82.93890038693422\n",
      "Testing r2_score is:- 82.86845420190751\n",
      "At random state 832 The model performs very well\n",
      "At random state:- 832\n",
      "Training r2_score is:- 82.94789885719428\n",
      "Testing r2_score is:- 82.90444484434047\n",
      "At random state 877 The model performs very well\n",
      "At random state:- 877\n",
      "Training r2_score is:- 82.8714118599838\n",
      "Testing r2_score is:- 82.85045888069102\n",
      "At random state 892 The model performs very well\n",
      "At random state:- 892\n",
      "Training r2_score is:- 83.01088814901468\n",
      "Testing r2_score is:- 83.01241677163938\n",
      "At random state 911 The model performs very well\n",
      "At random state:- 911\n",
      "Training r2_score is:- 82.92990191667417\n",
      "Testing r2_score is:- 82.92244016555695\n",
      "At random state 918 The model performs very well\n",
      "At random state:- 918\n",
      "Training r2_score is:- 82.96139656258435\n",
      "Testing r2_score is:- 83.01241677163938\n",
      "At random state 925 The model performs very well\n",
      "At random state:- 925\n",
      "Training r2_score is:- 82.92540268154414\n",
      "Testing r2_score is:- 82.90444484434047\n",
      "At random state 937 The model performs very well\n",
      "At random state:- 937\n",
      "Training r2_score is:- 82.93890038693422\n",
      "Testing r2_score is:- 82.88644952312399\n",
      "At random state 942 The model performs very well\n",
      "At random state:- 942\n",
      "Training r2_score is:- 82.95689732745434\n",
      "Testing r2_score is:- 82.99442145042289\n",
      "At random state 949 The model performs very well\n",
      "At random state:- 949\n",
      "Training r2_score is:- 82.91190497615405\n",
      "Testing r2_score is:- 82.92244016555695\n",
      "At random state 965 The model performs very well\n",
      "At random state:- 965\n",
      "Training r2_score is:- 83.00638891388465\n",
      "Testing r2_score is:- 82.9764261292064\n",
      "At random state 967 The model performs very well\n",
      "At random state:- 967\n",
      "Training r2_score is:- 82.9523980923243\n",
      "Testing r2_score is:- 83.04840741407234\n",
      "At random state 968 The model performs very well\n",
      "At random state:- 968\n",
      "Training r2_score is:- 83.00188967875461\n",
      "Testing r2_score is:- 83.04840741407234\n",
      "At random state 982 The model performs very well\n",
      "At random state:- 982\n",
      "Training r2_score is:- 82.95689732745434\n",
      "Testing r2_score is:- 83.03041209285585\n"
     ]
    }
   ],
   "source": [
    "l=[]\n",
    "for i in range(0,1000):\n",
    "    train_x,test_x,train_y,test_y=train_test_split(x,y,test_size=0.20,random_state=i)\n",
    "    lr.fit(train_x,train_y)\n",
    "    pred_train=lr.predict(train_x)\n",
    "    pred_test=lr.predict(test_x)\n",
    "    # \n",
    "    if round(accuracy_score(train_y,pred_train)*100,1)==round(accuracy_score(test_y,pred_test)*100,1):\n",
    "        print(\"At random state\",i,\"The model performs very well\")\n",
    "        print(\"At random state:-\",i)\n",
    "        print(\"Training r2_score is:-\",accuracy_score(train_y,pred_train)*100)\n",
    "        print(\"Testing r2_score is:-\",accuracy_score(test_y,pred_test)*100)\n",
    "        l.append(i)"
   ]
  },
  {
   "cell_type": "code",
   "execution_count": 64,
   "id": "74e63ab1",
   "metadata": {},
   "outputs": [],
   "source": [
    "train_x,test_x,train_y,test_y=train_test_split(x,y,test_size=0.20,random_state=968)"
   ]
  },
  {
   "cell_type": "code",
   "execution_count": 65,
   "id": "ab31aa0e",
   "metadata": {},
   "outputs": [
    {
     "name": "stdout",
     "output_type": "stream",
     "text": [
      "              precision    recall  f1-score   support\n",
      "\n",
      "           0       0.78      0.85      0.81      4315\n",
      "           1       0.23      0.15      0.18      1242\n",
      "\n",
      "    accuracy                           0.70      5557\n",
      "   macro avg       0.50      0.50      0.50      5557\n",
      "weighted avg       0.65      0.70      0.67      5557\n",
      "\n"
     ]
    }
   ],
   "source": [
    "print(classification_report(test_y,pred_test))"
   ]
  },
  {
   "cell_type": "markdown",
   "id": "8d7f77be",
   "metadata": {},
   "source": [
    "Classification report is printed"
   ]
  },
  {
   "cell_type": "code",
   "execution_count": 66,
   "id": "2d2419f3",
   "metadata": {},
   "outputs": [
    {
     "name": "stdout",
     "output_type": "stream",
     "text": [
      "At cv:- 2\n",
      "Cross validation score is:- 82.92841163927707\n",
      "Accuracy score is:- 82.94043548677344\n",
      "At cv:- 3\n",
      "Cross validation score is:- 82.9032141957312\n",
      "Accuracy score is:- 82.94043548677344\n",
      "At cv:- 4\n",
      "Cross validation score is:- 82.90321387015787\n",
      "Accuracy score is:- 82.94043548677344\n",
      "At cv:- 5\n",
      "Cross validation score is:- 82.95720456093943\n",
      "Accuracy score is:- 82.94043548677344\n",
      "At cv:- 6\n",
      "Cross validation score is:- 82.92121411111987\n",
      "Accuracy score is:- 82.94043548677344\n",
      "At cv:- 7\n",
      "Cross validation score is:- 82.96080336896664\n",
      "Accuracy score is:- 82.94043548677344\n",
      "At cv:- 8\n",
      "Cross validation score is:- 82.93200836837433\n",
      "Accuracy score is:- 82.94043548677344\n",
      "At cv:- 9\n",
      "Cross validation score is:- 82.91401216571285\n",
      "Accuracy score is:- 82.94043548677344\n"
     ]
    }
   ],
   "source": [
    "pred_lr=lr.predict(test_x)\n",
    "from sklearn.model_selection import cross_val_score\n",
    "lss= accuracy_score(test_y,pred_lr)\n",
    "\n",
    "for j in range(2,10):\n",
    "    lsscore= cross_val_score(lr,x,y,cv=j)\n",
    "    lsc=lsscore.mean()\n",
    "    print(\"At cv:-\",j)\n",
    "    print(\"Cross validation score is:-\", lsc*100)\n",
    "    print(\"Accuracy score is:-\", lss*100)"
   ]
  },
  {
   "cell_type": "code",
   "execution_count": 67,
   "id": "ee297f68",
   "metadata": {},
   "outputs": [
    {
     "data": {
      "image/png": "[encoded data removed]",
      "text/plain": [
       "<Figure size 432x288 with 1 Axes>"
      ]
     },
     "metadata": {
      "needs_background": "light"
     },
     "output_type": "display_data"
    }
   ],
   "source": [
    "from sklearn.metrics import roc_curve, auc\n",
    "fpr, tpr, thresholds= roc_curve(pred_test,test_y)\n",
    "roc_auc = auc(fpr,tpr)\n",
    "\n",
    "plt.figure()\n",
    "plt.plot(fpr, tpr, color='darkorange',lw=10, label='ROC curve (area= %0.2f)' % roc_auc)\n",
    "plt.plot([0,1],[0,1], color='navy', lw=10,linestyle='--')\n",
    "plt.xlim([0.0,1.0])\n",
    "plt.ylim([0.0,1.05])\n",
    "plt.xlabel('False Positive Rate')\n",
    "plt.ylabel('True Positive Rate')\n",
    "plt.title('Receiver operating characteristic')\n",
    "plt.legend(loc='lower right')\n",
    "plt.show()"
   ]
  },
  {
   "cell_type": "markdown",
   "id": "ed4bb3fb",
   "metadata": {},
   "source": [
    "ROC Curve value is 50% so model is perforing well."
   ]
  },
  {
   "cell_type": "code",
   "execution_count": 68,
   "id": "b7a9e26d",
   "metadata": {},
   "outputs": [
    {
     "name": "stdout",
     "output_type": "stream",
     "text": [
      "GridSearchCV(estimator=Ridge(),\n",
      "             param_grid={'alpha': [1, 0.1, 0.01, 0.001, 0.0001, 0]})\n",
      "0.26930490152276987\n",
      "1\n",
      "{'alpha': 1}\n"
     ]
    }
   ],
   "source": [
    "# GridsearchCV\n",
    "from sklearn.model_selection import GridSearchCV\n",
    "from sklearn.model_selection import cross_val_score\n",
    "from sklearn.linear_model import Ridge\n",
    "import warnings\n",
    "warnings.filterwarnings('ignore')\n",
    "alphav= {'alpha':[1,0.1,0.01,0.001,0.0001,0]}\n",
    "model=Ridge()\n",
    "grid= GridSearchCV(estimator=model,param_grid=alphav)\n",
    "grid.fit(train_x,train_y)\n",
    "print(grid)\n",
    "print(grid.best_score_)\n",
    "print(grid.best_estimator_.alpha)\n",
    "print(grid.best_params_)"
   ]
  },
  {
   "cell_type": "code",
   "execution_count": 69,
   "id": "c697277b",
   "metadata": {},
   "outputs": [
    {
     "name": "stdout",
     "output_type": "stream",
     "text": [
      "lr score: 0.8300188967875461\n",
      "Score: 0.27003597426492065\n",
      "[ 0.05213561 -0.01569948  0.00814148 -0.00934286  0.1094236  -0.02218458\n",
      "  0.00540098 -0.0762789   0.02052691  0.07559181  0.03559666]\n",
      "Score: 0.27003597426492065\n"
     ]
    }
   ],
   "source": [
    "from sklearn.linear_model import LogisticRegression\n",
    "lr=LogisticRegression()\n",
    "lr.fit(train_x,train_y)\n",
    "print('lr score:',lr.score(train_x,train_y))\n",
    "rd=Ridge(alpha=1)\n",
    "rd.fit(train_x,train_y)\n",
    "print('Score:', rd.score(train_x,train_y))\n",
    "print(rd.coef_)\n",
    "print('Score:', rd.score(train_x,train_y))"
   ]
  },
  {
   "cell_type": "markdown",
   "id": "032afc14",
   "metadata": {},
   "source": [
    "## Decision Tree classifier"
   ]
  },
  {
   "cell_type": "code",
   "execution_count": 70,
   "id": "b2651e1a",
   "metadata": {},
   "outputs": [
    {
     "name": "stdout",
     "output_type": "stream",
     "text": [
      "{'criterion': 'entropy'}\n",
      "0.8089171849470234\n",
      "0.81\n"
     ]
    }
   ],
   "source": [
    "from sklearn.model_selection import GridSearchCV\n",
    "from sklearn.tree import DecisionTreeClassifier\n",
    "\n",
    "dtc=DecisionTreeClassifier()\n",
    "grid_param={\n",
    "    'criterion':['gini','entropy']\n",
    "  }\n",
    "gd_sr=GridSearchCV(estimator=dtc,\n",
    "                  param_grid=grid_param,\n",
    "                  scoring='accuracy',\n",
    "                  cv=5)\n",
    "gd_sr.fit(train_x,train_y)\n",
    "best_parameters=gd_sr.best_params_\n",
    "print(best_parameters)\n",
    "best_result=gd_sr.best_score_\n",
    "print(best_result)\n",
    "\n",
    "print(round(best_result,2))"
   ]
  },
  {
   "cell_type": "markdown",
   "id": "fecab06d",
   "metadata": {},
   "source": [
    "Best parameters for DecisionTreeClassifier"
   ]
  },
  {
   "cell_type": "code",
   "execution_count": 71,
   "id": "260c41ca",
   "metadata": {},
   "outputs": [
    {
     "data": {
      "text/plain": [
       "0.9999550076486997"
      ]
     },
     "execution_count": 71,
     "metadata": {},
     "output_type": "execute_result"
    }
   ],
   "source": [
    "dtc= DecisionTreeClassifier(criterion='entropy')\n",
    "dtc.fit(train_x,train_y)\n",
    "dtc.score(train_x,train_y)"
   ]
  },
  {
   "cell_type": "code",
   "execution_count": 72,
   "id": "6d297c6b",
   "metadata": {},
   "outputs": [
    {
     "name": "stdout",
     "output_type": "stream",
     "text": [
      "Cross Val Score: 80.8156066659468\n"
     ]
    }
   ],
   "source": [
    "dtscore = cross_val_score(dtc,x,y,cv=9)\n",
    "dts = dtscore.mean()\n",
    "print('Cross Val Score:',dts*100)"
   ]
  },
  {
   "cell_type": "markdown",
   "id": "90304207",
   "metadata": {},
   "source": [
    "Cross Val Score: 80.89 %"
   ]
  },
  {
   "cell_type": "code",
   "execution_count": 73,
   "id": "28079fea",
   "metadata": {},
   "outputs": [
    {
     "name": "stdout",
     "output_type": "stream",
     "text": [
      "Accuracy of the model is:  0.8029512326795033\n",
      "Confusion Matrix:  [[3742  573]\n",
      " [ 522  720]]\n"
     ]
    }
   ],
   "source": [
    "#Predicted value\n",
    "pred = dtc.predict(test_x)\n",
    "from sklearn.metrics import accuracy_score, confusion_matrix\n",
    "accuracy=accuracy_score(test_y,pred)\n",
    "confusion= confusion_matrix(test_y,pred)\n",
    "print(\"Accuracy of the model is: \",accuracy)\n",
    "print(\"Confusion Matrix: \", confusion)"
   ]
  },
  {
   "cell_type": "markdown",
   "id": "f8828c35",
   "metadata": {},
   "source": [
    "Accuracy of Decision Tree Classifier model is 80.29%"
   ]
  },
  {
   "cell_type": "markdown",
   "id": "d65420de",
   "metadata": {},
   "source": [
    "## SVM(SVC)"
   ]
  },
  {
   "cell_type": "code",
   "execution_count": 74,
   "id": "b448333b",
   "metadata": {},
   "outputs": [
    {
     "name": "stdout",
     "output_type": "stream",
     "text": [
      "{'C': 10, 'kernel': 'rbf'}\n"
     ]
    }
   ],
   "source": [
    "from sklearn.model_selection import GridSearchCV\n",
    "from sklearn import svm\n",
    "parameters={'kernel':['linear','rbf'],'C':[1,10]}\n",
    "svc=svm.SVC()\n",
    "clf= GridSearchCV(svc,parameters)\n",
    "clf.fit(train_x,train_y)\n",
    "print(clf.best_params_)"
   ]
  },
  {
   "cell_type": "markdown",
   "id": "83883a4a",
   "metadata": {},
   "source": [
    "Best parameters for SVC"
   ]
  },
  {
   "cell_type": "code",
   "execution_count": 76,
   "id": "d56ca9d5",
   "metadata": {},
   "outputs": [
    {
     "data": {
      "text/plain": [
       "0.8602537568613335"
      ]
     },
     "execution_count": 76,
     "metadata": {},
     "output_type": "execute_result"
    }
   ],
   "source": [
    "sv=svm.SVC(kernel='rbf',C=10)\n",
    "sv.fit(train_x,train_y)\n",
    "sv.score(train_x,train_y)"
   ]
  },
  {
   "cell_type": "markdown",
   "id": "efd2eae0",
   "metadata": {},
   "source": [
    "SV Score: 86%"
   ]
  },
  {
   "cell_type": "code",
   "execution_count": 77,
   "id": "9cafe3cb",
   "metadata": {},
   "outputs": [
    {
     "name": "stdout",
     "output_type": "stream",
     "text": [
      "Accuracy of the model is:  0.8412812668706137\n",
      "Confusion Matrix:  [[4024  291]\n",
      " [ 591  651]]\n"
     ]
    }
   ],
   "source": [
    "#Predicted value\n",
    "pred = sv.predict(test_x)\n",
    "from sklearn.metrics import accuracy_score, confusion_matrix\n",
    "accuracy=accuracy_score(test_y,pred)\n",
    "confusion=confusion_matrix(test_y,pred)\n",
    "print(\"Accuracy of the model is: \",accuracy)\n",
    "print(\"Confusion Matrix: \", confusion)"
   ]
  },
  {
   "cell_type": "markdown",
   "id": "af8d3d48",
   "metadata": {},
   "source": [
    "Accuracy of the model is:84.1%"
   ]
  },
  {
   "cell_type": "code",
   "execution_count": 78,
   "id": "8473f499",
   "metadata": {},
   "outputs": [
    {
     "name": "stdout",
     "output_type": "stream",
     "text": [
      "Cross Val Score: 84.03340172047655\n"
     ]
    }
   ],
   "source": [
    "svscore = cross_val_score(sv,x,y,cv=9)\n",
    "svs = svscore.mean()\n",
    "print('Cross Val Score:',svs*100)"
   ]
  },
  {
   "cell_type": "markdown",
   "id": "cb717797",
   "metadata": {},
   "source": [
    "Cross Val Score: 84.03%"
   ]
  },
  {
   "cell_type": "code",
   "execution_count": 80,
   "id": "9a235004",
   "metadata": {},
   "outputs": [
    {
     "data": {
      "image/png": "[encoded data removed]",
      "text/plain": [
       "<Figure size 432x288 with 1 Axes>"
      ]
     },
     "metadata": {
      "needs_background": "light"
     },
     "output_type": "display_data"
    }
   ],
   "source": [
    "from sklearn.metrics import roc_curve, auc\n",
    "fpr, tpr, thresholds= roc_curve(pred_test,test_y)\n",
    "roc_auc = auc(fpr,tpr)\n",
    "\n",
    "plt.figure()\n",
    "plt.plot(fpr, tpr, color='darkorange',lw=10, label='ROC curve (area= %0.2f)' % roc_auc)\n",
    "plt.plot([0,1],[0,1], color='navy', lw=10,linestyle='--')\n",
    "plt.xlim([0.0,1.0])\n",
    "plt.ylim([0.0,1.05])\n",
    "plt.xlabel('False Positive Rate')\n",
    "plt.ylabel('True Positive Rate')\n",
    "plt.title('Receiver operating characteristic')\n",
    "plt.legend(loc='lower right')\n",
    "plt.show()"
   ]
  },
  {
   "cell_type": "markdown",
   "id": "1d12d3c9",
   "metadata": {},
   "source": [
    "## RandomForestClassifier"
   ]
  },
  {
   "cell_type": "code",
   "execution_count": 81,
   "id": "766b7915",
   "metadata": {},
   "outputs": [
    {
     "ename": "KeyboardInterrupt",
     "evalue": "",
     "output_type": "error",
     "traceback": [
      "\u001b[1;31m---------------------------------------------------------------------------\u001b[0m",
      "\u001b[1;31mKeyboardInterrupt\u001b[0m                         Traceback (most recent call last)",
      "\u001b[1;32m~\\AppData\\Local\\Temp/ipykernel_23268/1621063143.py\u001b[0m in \u001b[0;36m<module>\u001b[1;34m\u001b[0m\n\u001b[0;32m      8\u001b[0m \u001b[0mclf\u001b[0m \u001b[1;33m=\u001b[0m \u001b[0mGridSearchCV\u001b[0m\u001b[1;33m(\u001b[0m\u001b[0mrfc\u001b[0m\u001b[1;33m,\u001b[0m \u001b[0mforest_params\u001b[0m\u001b[1;33m,\u001b[0m \u001b[0mcv\u001b[0m \u001b[1;33m=\u001b[0m \u001b[1;36m10\u001b[0m\u001b[1;33m,\u001b[0m \u001b[0mscoring\u001b[0m\u001b[1;33m=\u001b[0m\u001b[1;34m'accuracy'\u001b[0m\u001b[1;33m)\u001b[0m\u001b[1;33m\u001b[0m\u001b[1;33m\u001b[0m\u001b[0m\n\u001b[0;32m      9\u001b[0m \u001b[1;33m\u001b[0m\u001b[0m\n\u001b[1;32m---> 10\u001b[1;33m \u001b[0mclf\u001b[0m\u001b[1;33m.\u001b[0m\u001b[0mfit\u001b[0m\u001b[1;33m(\u001b[0m\u001b[0mtrain_x\u001b[0m\u001b[1;33m,\u001b[0m\u001b[0mtrain_y\u001b[0m\u001b[1;33m)\u001b[0m\u001b[1;33m\u001b[0m\u001b[1;33m\u001b[0m\u001b[0m\n\u001b[0m\u001b[0;32m     11\u001b[0m \u001b[1;33m\u001b[0m\u001b[0m\n\u001b[0;32m     12\u001b[0m \u001b[0mprint\u001b[0m\u001b[1;33m(\u001b[0m\u001b[0mclf\u001b[0m\u001b[1;33m.\u001b[0m\u001b[0mbest_params_\u001b[0m\u001b[1;33m)\u001b[0m\u001b[1;33m\u001b[0m\u001b[1;33m\u001b[0m\u001b[0m\n",
      "\u001b[1;32m~\\anaconda3\\lib\\site-packages\\sklearn\\utils\\validation.py\u001b[0m in \u001b[0;36minner_f\u001b[1;34m(*args, **kwargs)\u001b[0m\n\u001b[0;32m     61\u001b[0m             \u001b[0mextra_args\u001b[0m \u001b[1;33m=\u001b[0m \u001b[0mlen\u001b[0m\u001b[1;33m(\u001b[0m\u001b[0margs\u001b[0m\u001b[1;33m)\u001b[0m \u001b[1;33m-\u001b[0m \u001b[0mlen\u001b[0m\u001b[1;33m(\u001b[0m\u001b[0mall_args\u001b[0m\u001b[1;33m)\u001b[0m\u001b[1;33m\u001b[0m\u001b[1;33m\u001b[0m\u001b[0m\n\u001b[0;32m     62\u001b[0m             \u001b[1;32mif\u001b[0m \u001b[0mextra_args\u001b[0m \u001b[1;33m<=\u001b[0m \u001b[1;36m0\u001b[0m\u001b[1;33m:\u001b[0m\u001b[1;33m\u001b[0m\u001b[1;33m\u001b[0m\u001b[0m\n\u001b[1;32m---> 63\u001b[1;33m                 \u001b[1;32mreturn\u001b[0m \u001b[0mf\u001b[0m\u001b[1;33m(\u001b[0m\u001b[1;33m*\u001b[0m\u001b[0margs\u001b[0m\u001b[1;33m,\u001b[0m \u001b[1;33m**\u001b[0m\u001b[0mkwargs\u001b[0m\u001b[1;33m)\u001b[0m\u001b[1;33m\u001b[0m\u001b[1;33m\u001b[0m\u001b[0m\n\u001b[0m\u001b[0;32m     64\u001b[0m \u001b[1;33m\u001b[0m\u001b[0m\n\u001b[0;32m     65\u001b[0m             \u001b[1;31m# extra_args > 0\u001b[0m\u001b[1;33m\u001b[0m\u001b[1;33m\u001b[0m\u001b[0m\n",
      "\u001b[1;32m~\\anaconda3\\lib\\site-packages\\sklearn\\model_selection\\_search.py\u001b[0m in \u001b[0;36mfit\u001b[1;34m(self, X, y, groups, **fit_params)\u001b[0m\n\u001b[0;32m    839\u001b[0m                 \u001b[1;32mreturn\u001b[0m \u001b[0mresults\u001b[0m\u001b[1;33m\u001b[0m\u001b[1;33m\u001b[0m\u001b[0m\n\u001b[0;32m    840\u001b[0m \u001b[1;33m\u001b[0m\u001b[0m\n\u001b[1;32m--> 841\u001b[1;33m             \u001b[0mself\u001b[0m\u001b[1;33m.\u001b[0m\u001b[0m_run_search\u001b[0m\u001b[1;33m(\u001b[0m\u001b[0mevaluate_candidates\u001b[0m\u001b[1;33m)\u001b[0m\u001b[1;33m\u001b[0m\u001b[1;33m\u001b[0m\u001b[0m\n\u001b[0m\u001b[0;32m    842\u001b[0m \u001b[1;33m\u001b[0m\u001b[0m\n\u001b[0;32m    843\u001b[0m             \u001b[1;31m# multimetric is determined here because in the case of a callable\u001b[0m\u001b[1;33m\u001b[0m\u001b[1;33m\u001b[0m\u001b[0m\n",
      "\u001b[1;32m~\\anaconda3\\lib\\site-packages\\sklearn\\model_selection\\_search.py\u001b[0m in \u001b[0;36m_run_search\u001b[1;34m(self, evaluate_candidates)\u001b[0m\n\u001b[0;32m   1294\u001b[0m     \u001b[1;32mdef\u001b[0m \u001b[0m_run_search\u001b[0m\u001b[1;33m(\u001b[0m\u001b[0mself\u001b[0m\u001b[1;33m,\u001b[0m \u001b[0mevaluate_candidates\u001b[0m\u001b[1;33m)\u001b[0m\u001b[1;33m:\u001b[0m\u001b[1;33m\u001b[0m\u001b[1;33m\u001b[0m\u001b[0m\n\u001b[0;32m   1295\u001b[0m         \u001b[1;34m\"\"\"Search all candidates in param_grid\"\"\"\u001b[0m\u001b[1;33m\u001b[0m\u001b[1;33m\u001b[0m\u001b[0m\n\u001b[1;32m-> 1296\u001b[1;33m         \u001b[0mevaluate_candidates\u001b[0m\u001b[1;33m(\u001b[0m\u001b[0mParameterGrid\u001b[0m\u001b[1;33m(\u001b[0m\u001b[0mself\u001b[0m\u001b[1;33m.\u001b[0m\u001b[0mparam_grid\u001b[0m\u001b[1;33m)\u001b[0m\u001b[1;33m)\u001b[0m\u001b[1;33m\u001b[0m\u001b[1;33m\u001b[0m\u001b[0m\n\u001b[0m\u001b[0;32m   1297\u001b[0m \u001b[1;33m\u001b[0m\u001b[0m\n\u001b[0;32m   1298\u001b[0m \u001b[1;33m\u001b[0m\u001b[0m\n",
      "\u001b[1;32m~\\anaconda3\\lib\\site-packages\\sklearn\\model_selection\\_search.py\u001b[0m in \u001b[0;36mevaluate_candidates\u001b[1;34m(candidate_params, cv, more_results)\u001b[0m\n\u001b[0;32m    793\u001b[0m                               n_splits, n_candidates, n_candidates * n_splits))\n\u001b[0;32m    794\u001b[0m \u001b[1;33m\u001b[0m\u001b[0m\n\u001b[1;32m--> 795\u001b[1;33m                 out = parallel(delayed(_fit_and_score)(clone(base_estimator),\n\u001b[0m\u001b[0;32m    796\u001b[0m                                                        \u001b[0mX\u001b[0m\u001b[1;33m,\u001b[0m \u001b[0my\u001b[0m\u001b[1;33m,\u001b[0m\u001b[1;33m\u001b[0m\u001b[1;33m\u001b[0m\u001b[0m\n\u001b[0;32m    797\u001b[0m                                                        \u001b[0mtrain\u001b[0m\u001b[1;33m=\u001b[0m\u001b[0mtrain\u001b[0m\u001b[1;33m,\u001b[0m \u001b[0mtest\u001b[0m\u001b[1;33m=\u001b[0m\u001b[0mtest\u001b[0m\u001b[1;33m,\u001b[0m\u001b[1;33m\u001b[0m\u001b[1;33m\u001b[0m\u001b[0m\n",
      "\u001b[1;32m~\\anaconda3\\lib\\site-packages\\joblib\\parallel.py\u001b[0m in \u001b[0;36m__call__\u001b[1;34m(self, iterable)\u001b[0m\n\u001b[0;32m   1044\u001b[0m                 \u001b[0mself\u001b[0m\u001b[1;33m.\u001b[0m\u001b[0m_iterating\u001b[0m \u001b[1;33m=\u001b[0m \u001b[0mself\u001b[0m\u001b[1;33m.\u001b[0m\u001b[0m_original_iterator\u001b[0m \u001b[1;32mis\u001b[0m \u001b[1;32mnot\u001b[0m \u001b[1;32mNone\u001b[0m\u001b[1;33m\u001b[0m\u001b[1;33m\u001b[0m\u001b[0m\n\u001b[0;32m   1045\u001b[0m \u001b[1;33m\u001b[0m\u001b[0m\n\u001b[1;32m-> 1046\u001b[1;33m             \u001b[1;32mwhile\u001b[0m \u001b[0mself\u001b[0m\u001b[1;33m.\u001b[0m\u001b[0mdispatch_one_batch\u001b[0m\u001b[1;33m(\u001b[0m\u001b[0miterator\u001b[0m\u001b[1;33m)\u001b[0m\u001b[1;33m:\u001b[0m\u001b[1;33m\u001b[0m\u001b[1;33m\u001b[0m\u001b[0m\n\u001b[0m\u001b[0;32m   1047\u001b[0m                 \u001b[1;32mpass\u001b[0m\u001b[1;33m\u001b[0m\u001b[1;33m\u001b[0m\u001b[0m\n\u001b[0;32m   1048\u001b[0m \u001b[1;33m\u001b[0m\u001b[0m\n",
      "\u001b[1;32m~\\anaconda3\\lib\\site-packages\\joblib\\parallel.py\u001b[0m in \u001b[0;36mdispatch_one_batch\u001b[1;34m(self, iterator)\u001b[0m\n\u001b[0;32m    859\u001b[0m                 \u001b[1;32mreturn\u001b[0m \u001b[1;32mFalse\u001b[0m\u001b[1;33m\u001b[0m\u001b[1;33m\u001b[0m\u001b[0m\n\u001b[0;32m    860\u001b[0m             \u001b[1;32melse\u001b[0m\u001b[1;33m:\u001b[0m\u001b[1;33m\u001b[0m\u001b[1;33m\u001b[0m\u001b[0m\n\u001b[1;32m--> 861\u001b[1;33m                 \u001b[0mself\u001b[0m\u001b[1;33m.\u001b[0m\u001b[0m_dispatch\u001b[0m\u001b[1;33m(\u001b[0m\u001b[0mtasks\u001b[0m\u001b[1;33m)\u001b[0m\u001b[1;33m\u001b[0m\u001b[1;33m\u001b[0m\u001b[0m\n\u001b[0m\u001b[0;32m    862\u001b[0m                 \u001b[1;32mreturn\u001b[0m \u001b[1;32mTrue\u001b[0m\u001b[1;33m\u001b[0m\u001b[1;33m\u001b[0m\u001b[0m\n\u001b[0;32m    863\u001b[0m \u001b[1;33m\u001b[0m\u001b[0m\n",
      "\u001b[1;32m~\\anaconda3\\lib\\site-packages\\joblib\\parallel.py\u001b[0m in \u001b[0;36m_dispatch\u001b[1;34m(self, batch)\u001b[0m\n\u001b[0;32m    777\u001b[0m         \u001b[1;32mwith\u001b[0m \u001b[0mself\u001b[0m\u001b[1;33m.\u001b[0m\u001b[0m_lock\u001b[0m\u001b[1;33m:\u001b[0m\u001b[1;33m\u001b[0m\u001b[1;33m\u001b[0m\u001b[0m\n\u001b[0;32m    778\u001b[0m             \u001b[0mjob_idx\u001b[0m \u001b[1;33m=\u001b[0m \u001b[0mlen\u001b[0m\u001b[1;33m(\u001b[0m\u001b[0mself\u001b[0m\u001b[1;33m.\u001b[0m\u001b[0m_jobs\u001b[0m\u001b[1;33m)\u001b[0m\u001b[1;33m\u001b[0m\u001b[1;33m\u001b[0m\u001b[0m\n\u001b[1;32m--> 779\u001b[1;33m             \u001b[0mjob\u001b[0m \u001b[1;33m=\u001b[0m \u001b[0mself\u001b[0m\u001b[1;33m.\u001b[0m\u001b[0m_backend\u001b[0m\u001b[1;33m.\u001b[0m\u001b[0mapply_async\u001b[0m\u001b[1;33m(\u001b[0m\u001b[0mbatch\u001b[0m\u001b[1;33m,\u001b[0m \u001b[0mcallback\u001b[0m\u001b[1;33m=\u001b[0m\u001b[0mcb\u001b[0m\u001b[1;33m)\u001b[0m\u001b[1;33m\u001b[0m\u001b[1;33m\u001b[0m\u001b[0m\n\u001b[0m\u001b[0;32m    780\u001b[0m             \u001b[1;31m# A job can complete so quickly than its callback is\u001b[0m\u001b[1;33m\u001b[0m\u001b[1;33m\u001b[0m\u001b[0m\n\u001b[0;32m    781\u001b[0m             \u001b[1;31m# called before we get here, causing self._jobs to\u001b[0m\u001b[1;33m\u001b[0m\u001b[1;33m\u001b[0m\u001b[0m\n",
      "\u001b[1;32m~\\anaconda3\\lib\\site-packages\\joblib\\_parallel_backends.py\u001b[0m in \u001b[0;36mapply_async\u001b[1;34m(self, func, callback)\u001b[0m\n\u001b[0;32m    206\u001b[0m     \u001b[1;32mdef\u001b[0m \u001b[0mapply_async\u001b[0m\u001b[1;33m(\u001b[0m\u001b[0mself\u001b[0m\u001b[1;33m,\u001b[0m \u001b[0mfunc\u001b[0m\u001b[1;33m,\u001b[0m \u001b[0mcallback\u001b[0m\u001b[1;33m=\u001b[0m\u001b[1;32mNone\u001b[0m\u001b[1;33m)\u001b[0m\u001b[1;33m:\u001b[0m\u001b[1;33m\u001b[0m\u001b[1;33m\u001b[0m\u001b[0m\n\u001b[0;32m    207\u001b[0m         \u001b[1;34m\"\"\"Schedule a func to be run\"\"\"\u001b[0m\u001b[1;33m\u001b[0m\u001b[1;33m\u001b[0m\u001b[0m\n\u001b[1;32m--> 208\u001b[1;33m         \u001b[0mresult\u001b[0m \u001b[1;33m=\u001b[0m \u001b[0mImmediateResult\u001b[0m\u001b[1;33m(\u001b[0m\u001b[0mfunc\u001b[0m\u001b[1;33m)\u001b[0m\u001b[1;33m\u001b[0m\u001b[1;33m\u001b[0m\u001b[0m\n\u001b[0m\u001b[0;32m    209\u001b[0m         \u001b[1;32mif\u001b[0m \u001b[0mcallback\u001b[0m\u001b[1;33m:\u001b[0m\u001b[1;33m\u001b[0m\u001b[1;33m\u001b[0m\u001b[0m\n\u001b[0;32m    210\u001b[0m             \u001b[0mcallback\u001b[0m\u001b[1;33m(\u001b[0m\u001b[0mresult\u001b[0m\u001b[1;33m)\u001b[0m\u001b[1;33m\u001b[0m\u001b[1;33m\u001b[0m\u001b[0m\n",
      "\u001b[1;32m~\\anaconda3\\lib\\site-packages\\joblib\\_parallel_backends.py\u001b[0m in \u001b[0;36m__init__\u001b[1;34m(self, batch)\u001b[0m\n\u001b[0;32m    570\u001b[0m         \u001b[1;31m# Don't delay the application, to avoid keeping the input\u001b[0m\u001b[1;33m\u001b[0m\u001b[1;33m\u001b[0m\u001b[0m\n\u001b[0;32m    571\u001b[0m         \u001b[1;31m# arguments in memory\u001b[0m\u001b[1;33m\u001b[0m\u001b[1;33m\u001b[0m\u001b[0m\n\u001b[1;32m--> 572\u001b[1;33m         \u001b[0mself\u001b[0m\u001b[1;33m.\u001b[0m\u001b[0mresults\u001b[0m \u001b[1;33m=\u001b[0m \u001b[0mbatch\u001b[0m\u001b[1;33m(\u001b[0m\u001b[1;33m)\u001b[0m\u001b[1;33m\u001b[0m\u001b[1;33m\u001b[0m\u001b[0m\n\u001b[0m\u001b[0;32m    573\u001b[0m \u001b[1;33m\u001b[0m\u001b[0m\n\u001b[0;32m    574\u001b[0m     \u001b[1;32mdef\u001b[0m \u001b[0mget\u001b[0m\u001b[1;33m(\u001b[0m\u001b[0mself\u001b[0m\u001b[1;33m)\u001b[0m\u001b[1;33m:\u001b[0m\u001b[1;33m\u001b[0m\u001b[1;33m\u001b[0m\u001b[0m\n",
      "\u001b[1;32m~\\anaconda3\\lib\\site-packages\\joblib\\parallel.py\u001b[0m in \u001b[0;36m__call__\u001b[1;34m(self)\u001b[0m\n\u001b[0;32m    260\u001b[0m         \u001b[1;31m# change the default number of processes to -1\u001b[0m\u001b[1;33m\u001b[0m\u001b[1;33m\u001b[0m\u001b[0m\n\u001b[0;32m    261\u001b[0m         \u001b[1;32mwith\u001b[0m \u001b[0mparallel_backend\u001b[0m\u001b[1;33m(\u001b[0m\u001b[0mself\u001b[0m\u001b[1;33m.\u001b[0m\u001b[0m_backend\u001b[0m\u001b[1;33m,\u001b[0m \u001b[0mn_jobs\u001b[0m\u001b[1;33m=\u001b[0m\u001b[0mself\u001b[0m\u001b[1;33m.\u001b[0m\u001b[0m_n_jobs\u001b[0m\u001b[1;33m)\u001b[0m\u001b[1;33m:\u001b[0m\u001b[1;33m\u001b[0m\u001b[1;33m\u001b[0m\u001b[0m\n\u001b[1;32m--> 262\u001b[1;33m             return [func(*args, **kwargs)\n\u001b[0m\u001b[0;32m    263\u001b[0m                     for func, args, kwargs in self.items]\n\u001b[0;32m    264\u001b[0m \u001b[1;33m\u001b[0m\u001b[0m\n",
      "\u001b[1;32m~\\anaconda3\\lib\\site-packages\\joblib\\parallel.py\u001b[0m in \u001b[0;36m<listcomp>\u001b[1;34m(.0)\u001b[0m\n\u001b[0;32m    260\u001b[0m         \u001b[1;31m# change the default number of processes to -1\u001b[0m\u001b[1;33m\u001b[0m\u001b[1;33m\u001b[0m\u001b[0m\n\u001b[0;32m    261\u001b[0m         \u001b[1;32mwith\u001b[0m \u001b[0mparallel_backend\u001b[0m\u001b[1;33m(\u001b[0m\u001b[0mself\u001b[0m\u001b[1;33m.\u001b[0m\u001b[0m_backend\u001b[0m\u001b[1;33m,\u001b[0m \u001b[0mn_jobs\u001b[0m\u001b[1;33m=\u001b[0m\u001b[0mself\u001b[0m\u001b[1;33m.\u001b[0m\u001b[0m_n_jobs\u001b[0m\u001b[1;33m)\u001b[0m\u001b[1;33m:\u001b[0m\u001b[1;33m\u001b[0m\u001b[1;33m\u001b[0m\u001b[0m\n\u001b[1;32m--> 262\u001b[1;33m             return [func(*args, **kwargs)\n\u001b[0m\u001b[0;32m    263\u001b[0m                     for func, args, kwargs in self.items]\n\u001b[0;32m    264\u001b[0m \u001b[1;33m\u001b[0m\u001b[0m\n",
      "\u001b[1;32m~\\anaconda3\\lib\\site-packages\\sklearn\\utils\\fixes.py\u001b[0m in \u001b[0;36m__call__\u001b[1;34m(self, *args, **kwargs)\u001b[0m\n\u001b[0;32m    220\u001b[0m     \u001b[1;32mdef\u001b[0m \u001b[0m__call__\u001b[0m\u001b[1;33m(\u001b[0m\u001b[0mself\u001b[0m\u001b[1;33m,\u001b[0m \u001b[1;33m*\u001b[0m\u001b[0margs\u001b[0m\u001b[1;33m,\u001b[0m \u001b[1;33m**\u001b[0m\u001b[0mkwargs\u001b[0m\u001b[1;33m)\u001b[0m\u001b[1;33m:\u001b[0m\u001b[1;33m\u001b[0m\u001b[1;33m\u001b[0m\u001b[0m\n\u001b[0;32m    221\u001b[0m         \u001b[1;32mwith\u001b[0m \u001b[0mconfig_context\u001b[0m\u001b[1;33m(\u001b[0m\u001b[1;33m**\u001b[0m\u001b[0mself\u001b[0m\u001b[1;33m.\u001b[0m\u001b[0mconfig\u001b[0m\u001b[1;33m)\u001b[0m\u001b[1;33m:\u001b[0m\u001b[1;33m\u001b[0m\u001b[1;33m\u001b[0m\u001b[0m\n\u001b[1;32m--> 222\u001b[1;33m             \u001b[1;32mreturn\u001b[0m \u001b[0mself\u001b[0m\u001b[1;33m.\u001b[0m\u001b[0mfunction\u001b[0m\u001b[1;33m(\u001b[0m\u001b[1;33m*\u001b[0m\u001b[0margs\u001b[0m\u001b[1;33m,\u001b[0m \u001b[1;33m**\u001b[0m\u001b[0mkwargs\u001b[0m\u001b[1;33m)\u001b[0m\u001b[1;33m\u001b[0m\u001b[1;33m\u001b[0m\u001b[0m\n\u001b[0m",
      "\u001b[1;32m~\\anaconda3\\lib\\site-packages\\sklearn\\model_selection\\_validation.py\u001b[0m in \u001b[0;36m_fit_and_score\u001b[1;34m(estimator, X, y, scorer, train, test, verbose, parameters, fit_params, return_train_score, return_parameters, return_n_test_samples, return_times, return_estimator, split_progress, candidate_progress, error_score)\u001b[0m\n\u001b[0;32m    596\u001b[0m             \u001b[0mestimator\u001b[0m\u001b[1;33m.\u001b[0m\u001b[0mfit\u001b[0m\u001b[1;33m(\u001b[0m\u001b[0mX_train\u001b[0m\u001b[1;33m,\u001b[0m \u001b[1;33m**\u001b[0m\u001b[0mfit_params\u001b[0m\u001b[1;33m)\u001b[0m\u001b[1;33m\u001b[0m\u001b[1;33m\u001b[0m\u001b[0m\n\u001b[0;32m    597\u001b[0m         \u001b[1;32melse\u001b[0m\u001b[1;33m:\u001b[0m\u001b[1;33m\u001b[0m\u001b[1;33m\u001b[0m\u001b[0m\n\u001b[1;32m--> 598\u001b[1;33m             \u001b[0mestimator\u001b[0m\u001b[1;33m.\u001b[0m\u001b[0mfit\u001b[0m\u001b[1;33m(\u001b[0m\u001b[0mX_train\u001b[0m\u001b[1;33m,\u001b[0m \u001b[0my_train\u001b[0m\u001b[1;33m,\u001b[0m \u001b[1;33m**\u001b[0m\u001b[0mfit_params\u001b[0m\u001b[1;33m)\u001b[0m\u001b[1;33m\u001b[0m\u001b[1;33m\u001b[0m\u001b[0m\n\u001b[0m\u001b[0;32m    599\u001b[0m \u001b[1;33m\u001b[0m\u001b[0m\n\u001b[0;32m    600\u001b[0m     \u001b[1;32mexcept\u001b[0m \u001b[0mException\u001b[0m \u001b[1;32mas\u001b[0m \u001b[0me\u001b[0m\u001b[1;33m:\u001b[0m\u001b[1;33m\u001b[0m\u001b[1;33m\u001b[0m\u001b[0m\n",
      "\u001b[1;32m~\\anaconda3\\lib\\site-packages\\sklearn\\ensemble\\_forest.py\u001b[0m in \u001b[0;36mfit\u001b[1;34m(self, X, y, sample_weight)\u001b[0m\n\u001b[0;32m    385\u001b[0m             \u001b[1;31m# parallel_backend contexts set at a higher level,\u001b[0m\u001b[1;33m\u001b[0m\u001b[1;33m\u001b[0m\u001b[0m\n\u001b[0;32m    386\u001b[0m             \u001b[1;31m# since correctness does not rely on using threads.\u001b[0m\u001b[1;33m\u001b[0m\u001b[1;33m\u001b[0m\u001b[0m\n\u001b[1;32m--> 387\u001b[1;33m             trees = Parallel(n_jobs=self.n_jobs, verbose=self.verbose,\n\u001b[0m\u001b[0;32m    388\u001b[0m                              \u001b[1;33m**\u001b[0m\u001b[0m_joblib_parallel_args\u001b[0m\u001b[1;33m(\u001b[0m\u001b[0mprefer\u001b[0m\u001b[1;33m=\u001b[0m\u001b[1;34m'threads'\u001b[0m\u001b[1;33m)\u001b[0m\u001b[1;33m)\u001b[0m\u001b[1;33m(\u001b[0m\u001b[1;33m\u001b[0m\u001b[1;33m\u001b[0m\u001b[0m\n\u001b[0;32m    389\u001b[0m                 delayed(_parallel_build_trees)(\n",
      "\u001b[1;32m~\\anaconda3\\lib\\site-packages\\joblib\\parallel.py\u001b[0m in \u001b[0;36m__call__\u001b[1;34m(self, iterable)\u001b[0m\n\u001b[0;32m   1044\u001b[0m                 \u001b[0mself\u001b[0m\u001b[1;33m.\u001b[0m\u001b[0m_iterating\u001b[0m \u001b[1;33m=\u001b[0m \u001b[0mself\u001b[0m\u001b[1;33m.\u001b[0m\u001b[0m_original_iterator\u001b[0m \u001b[1;32mis\u001b[0m \u001b[1;32mnot\u001b[0m \u001b[1;32mNone\u001b[0m\u001b[1;33m\u001b[0m\u001b[1;33m\u001b[0m\u001b[0m\n\u001b[0;32m   1045\u001b[0m \u001b[1;33m\u001b[0m\u001b[0m\n\u001b[1;32m-> 1046\u001b[1;33m             \u001b[1;32mwhile\u001b[0m \u001b[0mself\u001b[0m\u001b[1;33m.\u001b[0m\u001b[0mdispatch_one_batch\u001b[0m\u001b[1;33m(\u001b[0m\u001b[0miterator\u001b[0m\u001b[1;33m)\u001b[0m\u001b[1;33m:\u001b[0m\u001b[1;33m\u001b[0m\u001b[1;33m\u001b[0m\u001b[0m\n\u001b[0m\u001b[0;32m   1047\u001b[0m                 \u001b[1;32mpass\u001b[0m\u001b[1;33m\u001b[0m\u001b[1;33m\u001b[0m\u001b[0m\n\u001b[0;32m   1048\u001b[0m \u001b[1;33m\u001b[0m\u001b[0m\n",
      "\u001b[1;32m~\\anaconda3\\lib\\site-packages\\joblib\\parallel.py\u001b[0m in \u001b[0;36mdispatch_one_batch\u001b[1;34m(self, iterator)\u001b[0m\n\u001b[0;32m    859\u001b[0m                 \u001b[1;32mreturn\u001b[0m \u001b[1;32mFalse\u001b[0m\u001b[1;33m\u001b[0m\u001b[1;33m\u001b[0m\u001b[0m\n\u001b[0;32m    860\u001b[0m             \u001b[1;32melse\u001b[0m\u001b[1;33m:\u001b[0m\u001b[1;33m\u001b[0m\u001b[1;33m\u001b[0m\u001b[0m\n\u001b[1;32m--> 861\u001b[1;33m                 \u001b[0mself\u001b[0m\u001b[1;33m.\u001b[0m\u001b[0m_dispatch\u001b[0m\u001b[1;33m(\u001b[0m\u001b[0mtasks\u001b[0m\u001b[1;33m)\u001b[0m\u001b[1;33m\u001b[0m\u001b[1;33m\u001b[0m\u001b[0m\n\u001b[0m\u001b[0;32m    862\u001b[0m                 \u001b[1;32mreturn\u001b[0m \u001b[1;32mTrue\u001b[0m\u001b[1;33m\u001b[0m\u001b[1;33m\u001b[0m\u001b[0m\n\u001b[0;32m    863\u001b[0m \u001b[1;33m\u001b[0m\u001b[0m\n",
      "\u001b[1;32m~\\anaconda3\\lib\\site-packages\\joblib\\parallel.py\u001b[0m in \u001b[0;36m_dispatch\u001b[1;34m(self, batch)\u001b[0m\n\u001b[0;32m    777\u001b[0m         \u001b[1;32mwith\u001b[0m \u001b[0mself\u001b[0m\u001b[1;33m.\u001b[0m\u001b[0m_lock\u001b[0m\u001b[1;33m:\u001b[0m\u001b[1;33m\u001b[0m\u001b[1;33m\u001b[0m\u001b[0m\n\u001b[0;32m    778\u001b[0m             \u001b[0mjob_idx\u001b[0m \u001b[1;33m=\u001b[0m \u001b[0mlen\u001b[0m\u001b[1;33m(\u001b[0m\u001b[0mself\u001b[0m\u001b[1;33m.\u001b[0m\u001b[0m_jobs\u001b[0m\u001b[1;33m)\u001b[0m\u001b[1;33m\u001b[0m\u001b[1;33m\u001b[0m\u001b[0m\n\u001b[1;32m--> 779\u001b[1;33m             \u001b[0mjob\u001b[0m \u001b[1;33m=\u001b[0m \u001b[0mself\u001b[0m\u001b[1;33m.\u001b[0m\u001b[0m_backend\u001b[0m\u001b[1;33m.\u001b[0m\u001b[0mapply_async\u001b[0m\u001b[1;33m(\u001b[0m\u001b[0mbatch\u001b[0m\u001b[1;33m,\u001b[0m \u001b[0mcallback\u001b[0m\u001b[1;33m=\u001b[0m\u001b[0mcb\u001b[0m\u001b[1;33m)\u001b[0m\u001b[1;33m\u001b[0m\u001b[1;33m\u001b[0m\u001b[0m\n\u001b[0m\u001b[0;32m    780\u001b[0m             \u001b[1;31m# A job can complete so quickly than its callback is\u001b[0m\u001b[1;33m\u001b[0m\u001b[1;33m\u001b[0m\u001b[0m\n\u001b[0;32m    781\u001b[0m             \u001b[1;31m# called before we get here, causing self._jobs to\u001b[0m\u001b[1;33m\u001b[0m\u001b[1;33m\u001b[0m\u001b[0m\n",
      "\u001b[1;32m~\\anaconda3\\lib\\site-packages\\joblib\\_parallel_backends.py\u001b[0m in \u001b[0;36mapply_async\u001b[1;34m(self, func, callback)\u001b[0m\n\u001b[0;32m    206\u001b[0m     \u001b[1;32mdef\u001b[0m \u001b[0mapply_async\u001b[0m\u001b[1;33m(\u001b[0m\u001b[0mself\u001b[0m\u001b[1;33m,\u001b[0m \u001b[0mfunc\u001b[0m\u001b[1;33m,\u001b[0m \u001b[0mcallback\u001b[0m\u001b[1;33m=\u001b[0m\u001b[1;32mNone\u001b[0m\u001b[1;33m)\u001b[0m\u001b[1;33m:\u001b[0m\u001b[1;33m\u001b[0m\u001b[1;33m\u001b[0m\u001b[0m\n\u001b[0;32m    207\u001b[0m         \u001b[1;34m\"\"\"Schedule a func to be run\"\"\"\u001b[0m\u001b[1;33m\u001b[0m\u001b[1;33m\u001b[0m\u001b[0m\n\u001b[1;32m--> 208\u001b[1;33m         \u001b[0mresult\u001b[0m \u001b[1;33m=\u001b[0m \u001b[0mImmediateResult\u001b[0m\u001b[1;33m(\u001b[0m\u001b[0mfunc\u001b[0m\u001b[1;33m)\u001b[0m\u001b[1;33m\u001b[0m\u001b[1;33m\u001b[0m\u001b[0m\n\u001b[0m\u001b[0;32m    209\u001b[0m         \u001b[1;32mif\u001b[0m \u001b[0mcallback\u001b[0m\u001b[1;33m:\u001b[0m\u001b[1;33m\u001b[0m\u001b[1;33m\u001b[0m\u001b[0m\n\u001b[0;32m    210\u001b[0m             \u001b[0mcallback\u001b[0m\u001b[1;33m(\u001b[0m\u001b[0mresult\u001b[0m\u001b[1;33m)\u001b[0m\u001b[1;33m\u001b[0m\u001b[1;33m\u001b[0m\u001b[0m\n",
      "\u001b[1;32m~\\anaconda3\\lib\\site-packages\\joblib\\_parallel_backends.py\u001b[0m in \u001b[0;36m__init__\u001b[1;34m(self, batch)\u001b[0m\n\u001b[0;32m    570\u001b[0m         \u001b[1;31m# Don't delay the application, to avoid keeping the input\u001b[0m\u001b[1;33m\u001b[0m\u001b[1;33m\u001b[0m\u001b[0m\n\u001b[0;32m    571\u001b[0m         \u001b[1;31m# arguments in memory\u001b[0m\u001b[1;33m\u001b[0m\u001b[1;33m\u001b[0m\u001b[0m\n\u001b[1;32m--> 572\u001b[1;33m         \u001b[0mself\u001b[0m\u001b[1;33m.\u001b[0m\u001b[0mresults\u001b[0m \u001b[1;33m=\u001b[0m \u001b[0mbatch\u001b[0m\u001b[1;33m(\u001b[0m\u001b[1;33m)\u001b[0m\u001b[1;33m\u001b[0m\u001b[1;33m\u001b[0m\u001b[0m\n\u001b[0m\u001b[0;32m    573\u001b[0m \u001b[1;33m\u001b[0m\u001b[0m\n\u001b[0;32m    574\u001b[0m     \u001b[1;32mdef\u001b[0m \u001b[0mget\u001b[0m\u001b[1;33m(\u001b[0m\u001b[0mself\u001b[0m\u001b[1;33m)\u001b[0m\u001b[1;33m:\u001b[0m\u001b[1;33m\u001b[0m\u001b[1;33m\u001b[0m\u001b[0m\n",
      "\u001b[1;32m~\\anaconda3\\lib\\site-packages\\joblib\\parallel.py\u001b[0m in \u001b[0;36m__call__\u001b[1;34m(self)\u001b[0m\n\u001b[0;32m    260\u001b[0m         \u001b[1;31m# change the default number of processes to -1\u001b[0m\u001b[1;33m\u001b[0m\u001b[1;33m\u001b[0m\u001b[0m\n\u001b[0;32m    261\u001b[0m         \u001b[1;32mwith\u001b[0m \u001b[0mparallel_backend\u001b[0m\u001b[1;33m(\u001b[0m\u001b[0mself\u001b[0m\u001b[1;33m.\u001b[0m\u001b[0m_backend\u001b[0m\u001b[1;33m,\u001b[0m \u001b[0mn_jobs\u001b[0m\u001b[1;33m=\u001b[0m\u001b[0mself\u001b[0m\u001b[1;33m.\u001b[0m\u001b[0m_n_jobs\u001b[0m\u001b[1;33m)\u001b[0m\u001b[1;33m:\u001b[0m\u001b[1;33m\u001b[0m\u001b[1;33m\u001b[0m\u001b[0m\n\u001b[1;32m--> 262\u001b[1;33m             return [func(*args, **kwargs)\n\u001b[0m\u001b[0;32m    263\u001b[0m                     for func, args, kwargs in self.items]\n\u001b[0;32m    264\u001b[0m \u001b[1;33m\u001b[0m\u001b[0m\n",
      "\u001b[1;32m~\\anaconda3\\lib\\site-packages\\joblib\\parallel.py\u001b[0m in \u001b[0;36m<listcomp>\u001b[1;34m(.0)\u001b[0m\n\u001b[0;32m    260\u001b[0m         \u001b[1;31m# change the default number of processes to -1\u001b[0m\u001b[1;33m\u001b[0m\u001b[1;33m\u001b[0m\u001b[0m\n\u001b[0;32m    261\u001b[0m         \u001b[1;32mwith\u001b[0m \u001b[0mparallel_backend\u001b[0m\u001b[1;33m(\u001b[0m\u001b[0mself\u001b[0m\u001b[1;33m.\u001b[0m\u001b[0m_backend\u001b[0m\u001b[1;33m,\u001b[0m \u001b[0mn_jobs\u001b[0m\u001b[1;33m=\u001b[0m\u001b[0mself\u001b[0m\u001b[1;33m.\u001b[0m\u001b[0m_n_jobs\u001b[0m\u001b[1;33m)\u001b[0m\u001b[1;33m:\u001b[0m\u001b[1;33m\u001b[0m\u001b[1;33m\u001b[0m\u001b[0m\n\u001b[1;32m--> 262\u001b[1;33m             return [func(*args, **kwargs)\n\u001b[0m\u001b[0;32m    263\u001b[0m                     for func, args, kwargs in self.items]\n\u001b[0;32m    264\u001b[0m \u001b[1;33m\u001b[0m\u001b[0m\n",
      "\u001b[1;32m~\\anaconda3\\lib\\site-packages\\sklearn\\utils\\fixes.py\u001b[0m in \u001b[0;36m__call__\u001b[1;34m(self, *args, **kwargs)\u001b[0m\n\u001b[0;32m    220\u001b[0m     \u001b[1;32mdef\u001b[0m \u001b[0m__call__\u001b[0m\u001b[1;33m(\u001b[0m\u001b[0mself\u001b[0m\u001b[1;33m,\u001b[0m \u001b[1;33m*\u001b[0m\u001b[0margs\u001b[0m\u001b[1;33m,\u001b[0m \u001b[1;33m**\u001b[0m\u001b[0mkwargs\u001b[0m\u001b[1;33m)\u001b[0m\u001b[1;33m:\u001b[0m\u001b[1;33m\u001b[0m\u001b[1;33m\u001b[0m\u001b[0m\n\u001b[0;32m    221\u001b[0m         \u001b[1;32mwith\u001b[0m \u001b[0mconfig_context\u001b[0m\u001b[1;33m(\u001b[0m\u001b[1;33m**\u001b[0m\u001b[0mself\u001b[0m\u001b[1;33m.\u001b[0m\u001b[0mconfig\u001b[0m\u001b[1;33m)\u001b[0m\u001b[1;33m:\u001b[0m\u001b[1;33m\u001b[0m\u001b[1;33m\u001b[0m\u001b[0m\n\u001b[1;32m--> 222\u001b[1;33m             \u001b[1;32mreturn\u001b[0m \u001b[0mself\u001b[0m\u001b[1;33m.\u001b[0m\u001b[0mfunction\u001b[0m\u001b[1;33m(\u001b[0m\u001b[1;33m*\u001b[0m\u001b[0margs\u001b[0m\u001b[1;33m,\u001b[0m \u001b[1;33m**\u001b[0m\u001b[0mkwargs\u001b[0m\u001b[1;33m)\u001b[0m\u001b[1;33m\u001b[0m\u001b[1;33m\u001b[0m\u001b[0m\n\u001b[0m",
      "\u001b[1;32m~\\anaconda3\\lib\\site-packages\\sklearn\\ensemble\\_forest.py\u001b[0m in \u001b[0;36m_parallel_build_trees\u001b[1;34m(tree, forest, X, y, sample_weight, tree_idx, n_trees, verbose, class_weight, n_samples_bootstrap)\u001b[0m\n\u001b[0;32m    167\u001b[0m                                                         indices=indices)\n\u001b[0;32m    168\u001b[0m \u001b[1;33m\u001b[0m\u001b[0m\n\u001b[1;32m--> 169\u001b[1;33m         \u001b[0mtree\u001b[0m\u001b[1;33m.\u001b[0m\u001b[0mfit\u001b[0m\u001b[1;33m(\u001b[0m\u001b[0mX\u001b[0m\u001b[1;33m,\u001b[0m \u001b[0my\u001b[0m\u001b[1;33m,\u001b[0m \u001b[0msample_weight\u001b[0m\u001b[1;33m=\u001b[0m\u001b[0mcurr_sample_weight\u001b[0m\u001b[1;33m,\u001b[0m \u001b[0mcheck_input\u001b[0m\u001b[1;33m=\u001b[0m\u001b[1;32mFalse\u001b[0m\u001b[1;33m)\u001b[0m\u001b[1;33m\u001b[0m\u001b[1;33m\u001b[0m\u001b[0m\n\u001b[0m\u001b[0;32m    170\u001b[0m     \u001b[1;32melse\u001b[0m\u001b[1;33m:\u001b[0m\u001b[1;33m\u001b[0m\u001b[1;33m\u001b[0m\u001b[0m\n\u001b[0;32m    171\u001b[0m         \u001b[0mtree\u001b[0m\u001b[1;33m.\u001b[0m\u001b[0mfit\u001b[0m\u001b[1;33m(\u001b[0m\u001b[0mX\u001b[0m\u001b[1;33m,\u001b[0m \u001b[0my\u001b[0m\u001b[1;33m,\u001b[0m \u001b[0msample_weight\u001b[0m\u001b[1;33m=\u001b[0m\u001b[0msample_weight\u001b[0m\u001b[1;33m,\u001b[0m \u001b[0mcheck_input\u001b[0m\u001b[1;33m=\u001b[0m\u001b[1;32mFalse\u001b[0m\u001b[1;33m)\u001b[0m\u001b[1;33m\u001b[0m\u001b[1;33m\u001b[0m\u001b[0m\n",
      "\u001b[1;32m~\\anaconda3\\lib\\site-packages\\sklearn\\tree\\_classes.py\u001b[0m in \u001b[0;36mfit\u001b[1;34m(self, X, y, sample_weight, check_input, X_idx_sorted)\u001b[0m\n\u001b[0;32m    901\u001b[0m         \"\"\"\n\u001b[0;32m    902\u001b[0m \u001b[1;33m\u001b[0m\u001b[0m\n\u001b[1;32m--> 903\u001b[1;33m         super().fit(\n\u001b[0m\u001b[0;32m    904\u001b[0m             \u001b[0mX\u001b[0m\u001b[1;33m,\u001b[0m \u001b[0my\u001b[0m\u001b[1;33m,\u001b[0m\u001b[1;33m\u001b[0m\u001b[1;33m\u001b[0m\u001b[0m\n\u001b[0;32m    905\u001b[0m             \u001b[0msample_weight\u001b[0m\u001b[1;33m=\u001b[0m\u001b[0msample_weight\u001b[0m\u001b[1;33m,\u001b[0m\u001b[1;33m\u001b[0m\u001b[1;33m\u001b[0m\u001b[0m\n",
      "\u001b[1;32m~\\anaconda3\\lib\\site-packages\\sklearn\\tree\\_classes.py\u001b[0m in \u001b[0;36mfit\u001b[1;34m(self, X, y, sample_weight, check_input, X_idx_sorted)\u001b[0m\n\u001b[0;32m    392\u001b[0m                                            min_impurity_split)\n\u001b[0;32m    393\u001b[0m \u001b[1;33m\u001b[0m\u001b[0m\n\u001b[1;32m--> 394\u001b[1;33m         \u001b[0mbuilder\u001b[0m\u001b[1;33m.\u001b[0m\u001b[0mbuild\u001b[0m\u001b[1;33m(\u001b[0m\u001b[0mself\u001b[0m\u001b[1;33m.\u001b[0m\u001b[0mtree_\u001b[0m\u001b[1;33m,\u001b[0m \u001b[0mX\u001b[0m\u001b[1;33m,\u001b[0m \u001b[0my\u001b[0m\u001b[1;33m,\u001b[0m \u001b[0msample_weight\u001b[0m\u001b[1;33m)\u001b[0m\u001b[1;33m\u001b[0m\u001b[1;33m\u001b[0m\u001b[0m\n\u001b[0m\u001b[0;32m    395\u001b[0m \u001b[1;33m\u001b[0m\u001b[0m\n\u001b[0;32m    396\u001b[0m         \u001b[1;32mif\u001b[0m \u001b[0mself\u001b[0m\u001b[1;33m.\u001b[0m\u001b[0mn_outputs_\u001b[0m \u001b[1;33m==\u001b[0m \u001b[1;36m1\u001b[0m \u001b[1;32mand\u001b[0m \u001b[0mis_classifier\u001b[0m\u001b[1;33m(\u001b[0m\u001b[0mself\u001b[0m\u001b[1;33m)\u001b[0m\u001b[1;33m:\u001b[0m\u001b[1;33m\u001b[0m\u001b[1;33m\u001b[0m\u001b[0m\n",
      "\u001b[1;31mKeyboardInterrupt\u001b[0m: "
     ]
    }
   ],
   "source": [
    "from sklearn.model_selection import GridSearchCV\n",
    "from sklearn.datasets import make_classification\n",
    "from sklearn.ensemble import RandomForestClassifier\n",
    "rfc=RandomForestClassifier()\n",
    "\n",
    "forest_params = [{'max_depth': list(range(10, 15)), 'max_features': list(range(0,14))}]\n",
    "\n",
    "clf = GridSearchCV(rfc, forest_params, cv = 10, scoring='accuracy')\n",
    "\n",
    "clf.fit(train_x,train_y)\n",
    "    \n",
    "print(clf.best_params_)"
   ]
  },
  {
   "cell_type": "markdown",
   "id": "11acc57e",
   "metadata": {},
   "source": [
    "Best parameters for RandomForestClassifier "
   ]
  },
  {
   "cell_type": "code",
   "execution_count": null,
   "id": "5f0793e9",
   "metadata": {},
   "outputs": [],
   "source": [
    "rfc= RandomForestClassifier(max_depth=11,max_features=2)\n",
    "rfc.fit(train_x,train_y)\n",
    "rfc.score(train_x,train_y)"
   ]
  },
  {
   "cell_type": "code",
   "execution_count": null,
   "id": "1de030ff",
   "metadata": {},
   "outputs": [],
   "source": [
    "#Predicted value\n",
    "pred = rfc.predict(test_x)\n",
    "from sklearn.metrics import accuracy_score, confusion_matrix\n",
    "accuracy=accuracy_score(test_y,pred)\n",
    "confusion=confusion_matrix(test_y,pred)\n",
    "print(\"Accuracy of the model is: \",accuracy)\n",
    "print(\"Confusion Matrix: \", confusion)"
   ]
  },
  {
   "cell_type": "markdown",
   "id": "e2f0d6dc",
   "metadata": {},
   "source": [
    "Accuracy of the model is: 75%"
   ]
  },
  {
   "cell_type": "code",
   "execution_count": null,
   "id": "e14e3b45",
   "metadata": {},
   "outputs": [],
   "source": [
    "rfscore = cross_val_score(rfc,x,y,cv=9)\n",
    "rfs = rfscore.mean()\n",
    "print('Cross Val Score:',rfs*100)"
   ]
  },
  {
   "cell_type": "markdown",
   "id": "c11dd8b5",
   "metadata": {},
   "source": [
    "Cross Val Score:81.11%"
   ]
  },
  {
   "cell_type": "markdown",
   "id": "4c892864",
   "metadata": {},
   "source": [
    "## 4. KNeighbors Classifier"
   ]
  },
  {
   "cell_type": "code",
   "execution_count": 82,
   "id": "8222e470",
   "metadata": {},
   "outputs": [
    {
     "name": "stdout",
     "output_type": "stream",
     "text": [
      "{'algorithm': 'auto', 'n_neighbors': 9, 'weights': 'uniform'}\n"
     ]
    }
   ],
   "source": [
    "from sklearn.neighbors import KNeighborsClassifier\n",
    "from sklearn.model_selection import GridSearchCV\n",
    "from sklearn.datasets import make_classification\n",
    "\n",
    "knc=KNeighborsClassifier()\n",
    "\n",
    "parameters = {'n_neighbors':list(range(0,10)),\n",
    "              'weights':['uniform', 'distance'],\n",
    "              'algorithm':['auto', 'ball_tree', 'kd_tree', 'brute']\n",
    "              }\n",
    "\n",
    "clf = GridSearchCV(knc, parameters, cv=9, scoring='accuracy')\n",
    "\n",
    "clf.fit(train_x,train_y)\n",
    "    \n",
    "print(clf.best_params_)"
   ]
  },
  {
   "cell_type": "markdown",
   "id": "4af4e53a",
   "metadata": {},
   "source": [
    "Best parameters for KNeighborsClassifier"
   ]
  },
  {
   "cell_type": "code",
   "execution_count": 83,
   "id": "4fb737b2",
   "metadata": {},
   "outputs": [
    {
     "data": {
      "text/plain": [
       "0.8623683973724466"
      ]
     },
     "execution_count": 83,
     "metadata": {},
     "output_type": "execute_result"
    }
   ],
   "source": [
    "knc= KNeighborsClassifier(algorithm='auto',n_neighbors=9,weights='uniform')\n",
    "knc.fit(train_x,train_y)\n",
    "knc.score(train_x,train_y)"
   ]
  },
  {
   "cell_type": "code",
   "execution_count": 84,
   "id": "c1bcee83",
   "metadata": {},
   "outputs": [
    {
     "name": "stdout",
     "output_type": "stream",
     "text": [
      "Accuracy of the model is:  0.8326435126867014\n",
      "Confusion Matrix:  [[3909  406]\n",
      " [ 524  718]]\n"
     ]
    }
   ],
   "source": [
    "#Predicted value\n",
    "pred = knc.predict(test_x)\n",
    "from sklearn.metrics import accuracy_score, confusion_matrix\n",
    "accuracy=accuracy_score(test_y,pred)\n",
    "confusion=confusion_matrix(test_y,pred)\n",
    "print(\"Accuracy of the model is: \",accuracy)\n",
    "print(\"Confusion Matrix: \", confusion)"
   ]
  },
  {
   "cell_type": "markdown",
   "id": "f40d2492",
   "metadata": {},
   "source": [
    "Accuracy of the model is: 83.2%"
   ]
  },
  {
   "cell_type": "code",
   "execution_count": 85,
   "id": "becb9669",
   "metadata": {},
   "outputs": [
    {
     "name": "stdout",
     "output_type": "stream",
     "text": [
      "Cross Val Score: 83.30633840837922\n"
     ]
    }
   ],
   "source": [
    "knscore = cross_val_score(knc,x,y,cv=7)\n",
    "kns = knscore.mean()\n",
    "print('Cross Val Score:',kns*100)"
   ]
  },
  {
   "cell_type": "markdown",
   "id": "0a02b97a",
   "metadata": {},
   "source": [
    "Cross Val Score: 83.3%"
   ]
  },
  {
   "cell_type": "markdown",
   "id": "66153176",
   "metadata": {},
   "source": [
    "## Best Model is SVC as it has Accuracy of 84.12% and Cross val score of 84.03%"
   ]
  },
  {
   "cell_type": "markdown",
   "id": "460b0a7e",
   "metadata": {},
   "source": [
    "# Model saving:"
   ]
  },
  {
   "cell_type": "code",
   "execution_count": 90,
   "id": "5ad502e3",
   "metadata": {},
   "outputs": [],
   "source": [
    "import pickle\n",
    "filename = 'Census_Income.pkl'\n",
    "pickle.dump(sv, open(filename, 'wb'))"
   ]
  },
  {
   "cell_type": "markdown",
   "id": "7a6fad5c",
   "metadata": {},
   "source": [
    "## Accuracy:"
   ]
  },
  {
   "cell_type": "code",
   "execution_count": 91,
   "id": "37e2184e",
   "metadata": {},
   "outputs": [
    {
     "name": "stdout",
     "output_type": "stream",
     "text": [
      "0.8412812668706137\n"
     ]
    }
   ],
   "source": [
    "loaded_model = pickle.load(open('Census_Income.pkl', 'rb'))\n",
    "result = loaded_model.score(test_x, test_y)\n",
    "print(result)"
   ]
  },
  {
   "cell_type": "markdown",
   "id": "07081861",
   "metadata": {},
   "source": [
    "Accuracy of 84.1% so model performing well"
   ]
  },
  {
   "cell_type": "markdown",
   "id": "eb12ddb9",
   "metadata": {},
   "source": [
    "## Conclusion:"
   ]
  },
  {
   "cell_type": "code",
   "execution_count": 92,
   "id": "477714f8",
   "metadata": {},
   "outputs": [
    {
     "data": {
      "text/html": [
       "<div>\n",
       "<style scoped>\n",
       "    .dataframe tbody tr th:only-of-type {\n",
       "        vertical-align: middle;\n",
       "    }\n",
       "\n",
       "    .dataframe tbody tr th {\n",
       "        vertical-align: top;\n",
       "    }\n",
       "\n",
       "    .dataframe thead th {\n",
       "        text-align: right;\n",
       "    }\n",
       "</style>\n",
       "<table border=\"1\" class=\"dataframe\">\n",
       "  <thead>\n",
       "    <tr style=\"text-align: right;\">\n",
       "      <th></th>\n",
       "      <th>original</th>\n",
       "      <th>predicted</th>\n",
       "    </tr>\n",
       "  </thead>\n",
       "  <tbody>\n",
       "    <tr>\n",
       "      <th>0</th>\n",
       "      <td>1</td>\n",
       "      <td>0</td>\n",
       "    </tr>\n",
       "    <tr>\n",
       "      <th>1</th>\n",
       "      <td>1</td>\n",
       "      <td>1</td>\n",
       "    </tr>\n",
       "    <tr>\n",
       "      <th>2</th>\n",
       "      <td>1</td>\n",
       "      <td>1</td>\n",
       "    </tr>\n",
       "    <tr>\n",
       "      <th>3</th>\n",
       "      <td>0</td>\n",
       "      <td>0</td>\n",
       "    </tr>\n",
       "    <tr>\n",
       "      <th>4</th>\n",
       "      <td>0</td>\n",
       "      <td>0</td>\n",
       "    </tr>\n",
       "    <tr>\n",
       "      <th>...</th>\n",
       "      <td>...</td>\n",
       "      <td>...</td>\n",
       "    </tr>\n",
       "    <tr>\n",
       "      <th>5552</th>\n",
       "      <td>0</td>\n",
       "      <td>0</td>\n",
       "    </tr>\n",
       "    <tr>\n",
       "      <th>5553</th>\n",
       "      <td>1</td>\n",
       "      <td>1</td>\n",
       "    </tr>\n",
       "    <tr>\n",
       "      <th>5554</th>\n",
       "      <td>0</td>\n",
       "      <td>0</td>\n",
       "    </tr>\n",
       "    <tr>\n",
       "      <th>5555</th>\n",
       "      <td>0</td>\n",
       "      <td>0</td>\n",
       "    </tr>\n",
       "    <tr>\n",
       "      <th>5556</th>\n",
       "      <td>0</td>\n",
       "      <td>0</td>\n",
       "    </tr>\n",
       "  </tbody>\n",
       "</table>\n",
       "<p>5557 rows × 2 columns</p>\n",
       "</div>"
      ],
      "text/plain": [
       "      original  predicted\n",
       "0            1          0\n",
       "1            1          1\n",
       "2            1          1\n",
       "3            0          0\n",
       "4            0          0\n",
       "...        ...        ...\n",
       "5552         0          0\n",
       "5553         1          1\n",
       "5554         0          0\n",
       "5555         0          0\n",
       "5556         0          0\n",
       "\n",
       "[5557 rows x 2 columns]"
      ]
     },
     "execution_count": 92,
     "metadata": {},
     "output_type": "execute_result"
    }
   ],
   "source": [
    "import numpy as np\n",
    "a=np.array(test_y)\n",
    "pred_decision =np.array(sv.predict(test_x))\n",
    "df_com=pd.DataFrame({\"original\":a, \"predicted\": pred},index=range(len(a)))\n",
    "df_com"
   ]
  },
  {
   "cell_type": "markdown",
   "id": "378b7121",
   "metadata": {},
   "source": [
    "Model is able to predict values quite accurately."
   ]
  }
 ],
 "metadata": {
  "kernelspec": {
   "display_name": "Python 3 (ipykernel)",
   "language": "python",
   "name": "python3"
  },
  "language_info": {
   "codemirror_mode": {
    "name": "ipython",
    "version": 3
   },
   "file_extension": ".py",
   "mimetype": "text/x-python",
   "name": "python",
   "nbconvert_exporter": "python",
   "pygments_lexer": "ipython3",
   "version": "3.9.7"
  }
 },
 "nbformat": 4,
 "nbformat_minor": 5
}
