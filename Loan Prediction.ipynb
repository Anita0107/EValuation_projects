{
 "cells": [
  {
   "cell_type": "markdown",
   "id": "5bc2bcca",
   "metadata": {},
   "source": [
    "Importing Dataset"
   ]
  },
  {
   "cell_type": "code",
   "execution_count": 1,
   "id": "83926298",
   "metadata": {},
   "outputs": [],
   "source": [
    "#Importing Libraries:\n",
    "import numpy as np\n",
    "import pandas as pd"
   ]
  },
  {
   "cell_type": "code",
   "execution_count": 2,
   "id": "d41ffb2a",
   "metadata": {},
   "outputs": [
    {
     "data": {
      "text/html": [
       "<div>\n",
       "<style scoped>\n",
       "    .dataframe tbody tr th:only-of-type {\n",
       "        vertical-align: middle;\n",
       "    }\n",
       "\n",
       "    .dataframe tbody tr th {\n",
       "        vertical-align: top;\n",
       "    }\n",
       "\n",
       "    .dataframe thead th {\n",
       "        text-align: right;\n",
       "    }\n",
       "</style>\n",
       "<table border=\"1\" class=\"dataframe\">\n",
       "  <thead>\n",
       "    <tr style=\"text-align: right;\">\n",
       "      <th></th>\n",
       "      <th>Loan_ID</th>\n",
       "      <th>Gender</th>\n",
       "      <th>Married</th>\n",
       "      <th>Dependents</th>\n",
       "      <th>Education</th>\n",
       "      <th>Self_Employed</th>\n",
       "      <th>ApplicantIncome</th>\n",
       "      <th>CoapplicantIncome</th>\n",
       "      <th>LoanAmount</th>\n",
       "      <th>Loan_Amount_Term</th>\n",
       "      <th>Credit_History</th>\n",
       "      <th>Property_Area</th>\n",
       "      <th>Loan_Status</th>\n",
       "    </tr>\n",
       "  </thead>\n",
       "  <tbody>\n",
       "    <tr>\n",
       "      <th>0</th>\n",
       "      <td>LP001002</td>\n",
       "      <td>Male</td>\n",
       "      <td>No</td>\n",
       "      <td>0</td>\n",
       "      <td>Graduate</td>\n",
       "      <td>No</td>\n",
       "      <td>5849</td>\n",
       "      <td>0.0</td>\n",
       "      <td>NaN</td>\n",
       "      <td>360.0</td>\n",
       "      <td>1.0</td>\n",
       "      <td>Urban</td>\n",
       "      <td>Y</td>\n",
       "    </tr>\n",
       "    <tr>\n",
       "      <th>1</th>\n",
       "      <td>LP001003</td>\n",
       "      <td>Male</td>\n",
       "      <td>Yes</td>\n",
       "      <td>1</td>\n",
       "      <td>Graduate</td>\n",
       "      <td>No</td>\n",
       "      <td>4583</td>\n",
       "      <td>1508.0</td>\n",
       "      <td>128.0</td>\n",
       "      <td>360.0</td>\n",
       "      <td>1.0</td>\n",
       "      <td>Rural</td>\n",
       "      <td>N</td>\n",
       "    </tr>\n",
       "    <tr>\n",
       "      <th>2</th>\n",
       "      <td>LP001005</td>\n",
       "      <td>Male</td>\n",
       "      <td>Yes</td>\n",
       "      <td>0</td>\n",
       "      <td>Graduate</td>\n",
       "      <td>Yes</td>\n",
       "      <td>3000</td>\n",
       "      <td>0.0</td>\n",
       "      <td>66.0</td>\n",
       "      <td>360.0</td>\n",
       "      <td>1.0</td>\n",
       "      <td>Urban</td>\n",
       "      <td>Y</td>\n",
       "    </tr>\n",
       "    <tr>\n",
       "      <th>3</th>\n",
       "      <td>LP001006</td>\n",
       "      <td>Male</td>\n",
       "      <td>Yes</td>\n",
       "      <td>0</td>\n",
       "      <td>Not Graduate</td>\n",
       "      <td>No</td>\n",
       "      <td>2583</td>\n",
       "      <td>2358.0</td>\n",
       "      <td>120.0</td>\n",
       "      <td>360.0</td>\n",
       "      <td>1.0</td>\n",
       "      <td>Urban</td>\n",
       "      <td>Y</td>\n",
       "    </tr>\n",
       "    <tr>\n",
       "      <th>4</th>\n",
       "      <td>LP001008</td>\n",
       "      <td>Male</td>\n",
       "      <td>No</td>\n",
       "      <td>0</td>\n",
       "      <td>Graduate</td>\n",
       "      <td>No</td>\n",
       "      <td>6000</td>\n",
       "      <td>0.0</td>\n",
       "      <td>141.0</td>\n",
       "      <td>360.0</td>\n",
       "      <td>1.0</td>\n",
       "      <td>Urban</td>\n",
       "      <td>Y</td>\n",
       "    </tr>\n",
       "  </tbody>\n",
       "</table>\n",
       "</div>"
      ],
      "text/plain": [
       "    Loan_ID Gender Married Dependents     Education Self_Employed  \\\n",
       "0  LP001002   Male      No          0      Graduate            No   \n",
       "1  LP001003   Male     Yes          1      Graduate            No   \n",
       "2  LP001005   Male     Yes          0      Graduate           Yes   \n",
       "3  LP001006   Male     Yes          0  Not Graduate            No   \n",
       "4  LP001008   Male      No          0      Graduate            No   \n",
       "\n",
       "   ApplicantIncome  CoapplicantIncome  LoanAmount  Loan_Amount_Term  \\\n",
       "0             5849                0.0         NaN             360.0   \n",
       "1             4583             1508.0       128.0             360.0   \n",
       "2             3000                0.0        66.0             360.0   \n",
       "3             2583             2358.0       120.0             360.0   \n",
       "4             6000                0.0       141.0             360.0   \n",
       "\n",
       "   Credit_History Property_Area Loan_Status  \n",
       "0             1.0         Urban           Y  \n",
       "1             1.0         Rural           N  \n",
       "2             1.0         Urban           Y  \n",
       "3             1.0         Urban           Y  \n",
       "4             1.0         Urban           Y  "
      ]
     },
     "execution_count": 2,
     "metadata": {},
     "output_type": "execute_result"
    }
   ],
   "source": [
    "#Reading csv file and converting it in dataframe\n",
    "ds= pd.read_csv('loan_prediction.csv')\n",
    "df=pd.DataFrame(ds)\n",
    "df.head()"
   ]
  },
  {
   "cell_type": "markdown",
   "id": "fd19d887",
   "metadata": {},
   "source": [
    "Dataset in Dataframe format.\n",
    "Classification Model"
   ]
  },
  {
   "cell_type": "code",
   "execution_count": 3,
   "id": "c86dde08",
   "metadata": {},
   "outputs": [
    {
     "data": {
      "text/plain": [
       "(614, 13)"
      ]
     },
     "execution_count": 3,
     "metadata": {},
     "output_type": "execute_result"
    }
   ],
   "source": [
    "# Rows & Columns in dataset:\n",
    "\n",
    "df.shape"
   ]
  },
  {
   "cell_type": "markdown",
   "id": "e365437e",
   "metadata": {},
   "source": [
    "Dataset has 614 Rows and 13 Columns"
   ]
  },
  {
   "cell_type": "code",
   "execution_count": 4,
   "id": "d4a73206",
   "metadata": {},
   "outputs": [
    {
     "data": {
      "text/plain": [
       "Loan_ID               object\n",
       "Gender                object\n",
       "Married               object\n",
       "Dependents            object\n",
       "Education             object\n",
       "Self_Employed         object\n",
       "ApplicantIncome        int64\n",
       "CoapplicantIncome    float64\n",
       "LoanAmount           float64\n",
       "Loan_Amount_Term     float64\n",
       "Credit_History       float64\n",
       "Property_Area         object\n",
       "Loan_Status           object\n",
       "dtype: object"
      ]
     },
     "execution_count": 4,
     "metadata": {},
     "output_type": "execute_result"
    }
   ],
   "source": [
    "# Datatype of dataset\n",
    "\n",
    "df.dtypes"
   ]
  },
  {
   "cell_type": "markdown",
   "id": "08f3ebd4",
   "metadata": {},
   "source": [
    "There are 8 Object datatype and 5 numeric datatype\n",
    "Target label is 'Loan_Status' which is of object type"
   ]
  },
  {
   "cell_type": "code",
   "execution_count": 6,
   "id": "b5b85de1",
   "metadata": {},
   "outputs": [
    {
     "data": {
      "text/plain": [
       "Loan_ID               0\n",
       "Gender               13\n",
       "Married               3\n",
       "Dependents           15\n",
       "Education             0\n",
       "Self_Employed        32\n",
       "ApplicantIncome       0\n",
       "CoapplicantIncome     0\n",
       "LoanAmount           22\n",
       "Loan_Amount_Term     14\n",
       "Credit_History       50\n",
       "Property_Area         0\n",
       "Loan_Status           0\n",
       "dtype: int64"
      ]
     },
     "execution_count": 6,
     "metadata": {},
     "output_type": "execute_result"
    }
   ],
   "source": [
    "#Null values \n",
    "\n",
    "df.isnull().sum()"
   ]
  },
  {
   "cell_type": "markdown",
   "id": "059de1e0",
   "metadata": {},
   "source": [
    "There are null values in Gender, Married, Dependents, Self_Employed, LoanAmount, Loan_Amount_Term and Credit_History"
   ]
  },
  {
   "cell_type": "code",
   "execution_count": 7,
   "id": "58816484",
   "metadata": {},
   "outputs": [
    {
     "name": "stdout",
     "output_type": "stream",
     "text": [
      "Loan_ID: ['LP001002' 'LP001003' 'LP001005' 'LP001006' 'LP001008' 'LP001011'\n",
      " 'LP001013' 'LP001014' 'LP001018' 'LP001020' 'LP001024' 'LP001027'\n",
      " 'LP001028' 'LP001029' 'LP001030' 'LP001032' 'LP001034' 'LP001036'\n",
      " 'LP001038' 'LP001041' 'LP001043' 'LP001046' 'LP001047' 'LP001050'\n",
      " 'LP001052' 'LP001066' 'LP001068' 'LP001073' 'LP001086' 'LP001087'\n",
      " 'LP001091' 'LP001095' 'LP001097' 'LP001098' 'LP001100' 'LP001106'\n",
      " 'LP001109' 'LP001112' 'LP001114' 'LP001116' 'LP001119' 'LP001120'\n",
      " 'LP001123' 'LP001131' 'LP001136' 'LP001137' 'LP001138' 'LP001144'\n",
      " 'LP001146' 'LP001151' 'LP001155' 'LP001157' 'LP001164' 'LP001179'\n",
      " 'LP001186' 'LP001194' 'LP001195' 'LP001197' 'LP001198' 'LP001199'\n",
      " 'LP001205' 'LP001206' 'LP001207' 'LP001213' 'LP001222' 'LP001225'\n",
      " 'LP001228' 'LP001233' 'LP001238' 'LP001241' 'LP001243' 'LP001245'\n",
      " 'LP001248' 'LP001250' 'LP001253' 'LP001255' 'LP001256' 'LP001259'\n",
      " 'LP001263' 'LP001264' 'LP001265' 'LP001266' 'LP001267' 'LP001273'\n",
      " 'LP001275' 'LP001279' 'LP001280' 'LP001282' 'LP001289' 'LP001310'\n",
      " 'LP001316' 'LP001318' 'LP001319' 'LP001322' 'LP001325' 'LP001326'\n",
      " 'LP001327' 'LP001333' 'LP001334' 'LP001343' 'LP001345' 'LP001349'\n",
      " 'LP001350' 'LP001356' 'LP001357' 'LP001367' 'LP001369' 'LP001370'\n",
      " 'LP001379' 'LP001384' 'LP001385' 'LP001387' 'LP001391' 'LP001392'\n",
      " 'LP001398' 'LP001401' 'LP001404' 'LP001405' 'LP001421' 'LP001422'\n",
      " 'LP001426' 'LP001430' 'LP001431' 'LP001432' 'LP001439' 'LP001443'\n",
      " 'LP001448' 'LP001449' 'LP001451' 'LP001465' 'LP001469' 'LP001473'\n",
      " 'LP001478' 'LP001482' 'LP001487' 'LP001488' 'LP001489' 'LP001491'\n",
      " 'LP001492' 'LP001493' 'LP001497' 'LP001498' 'LP001504' 'LP001507'\n",
      " 'LP001508' 'LP001514' 'LP001516' 'LP001518' 'LP001519' 'LP001520'\n",
      " 'LP001528' 'LP001529' 'LP001531' 'LP001532' 'LP001535' 'LP001536'\n",
      " 'LP001541' 'LP001543' 'LP001546' 'LP001552' 'LP001560' 'LP001562'\n",
      " 'LP001565' 'LP001570' 'LP001572' 'LP001574' 'LP001577' 'LP001578'\n",
      " 'LP001579' 'LP001580' 'LP001581' 'LP001585' 'LP001586' 'LP001594'\n",
      " 'LP001603' 'LP001606' 'LP001608' 'LP001610' 'LP001616' 'LP001630'\n",
      " 'LP001633' 'LP001634' 'LP001636' 'LP001637' 'LP001639' 'LP001640'\n",
      " 'LP001641' 'LP001643' 'LP001644' 'LP001647' 'LP001653' 'LP001656'\n",
      " 'LP001657' 'LP001658' 'LP001664' 'LP001665' 'LP001666' 'LP001669'\n",
      " 'LP001671' 'LP001673' 'LP001674' 'LP001677' 'LP001682' 'LP001688'\n",
      " 'LP001691' 'LP001692' 'LP001693' 'LP001698' 'LP001699' 'LP001702'\n",
      " 'LP001708' 'LP001711' 'LP001713' 'LP001715' 'LP001716' 'LP001720'\n",
      " 'LP001722' 'LP001726' 'LP001732' 'LP001734' 'LP001736' 'LP001743'\n",
      " 'LP001744' 'LP001749' 'LP001750' 'LP001751' 'LP001754' 'LP001758'\n",
      " 'LP001760' 'LP001761' 'LP001765' 'LP001768' 'LP001770' 'LP001776'\n",
      " 'LP001778' 'LP001784' 'LP001786' 'LP001788' 'LP001790' 'LP001792'\n",
      " 'LP001798' 'LP001800' 'LP001806' 'LP001807' 'LP001811' 'LP001813'\n",
      " 'LP001814' 'LP001819' 'LP001824' 'LP001825' 'LP001835' 'LP001836'\n",
      " 'LP001841' 'LP001843' 'LP001844' 'LP001846' 'LP001849' 'LP001854'\n",
      " 'LP001859' 'LP001864' 'LP001865' 'LP001868' 'LP001870' 'LP001871'\n",
      " 'LP001872' 'LP001875' 'LP001877' 'LP001882' 'LP001883' 'LP001884'\n",
      " 'LP001888' 'LP001891' 'LP001892' 'LP001894' 'LP001896' 'LP001900'\n",
      " 'LP001903' 'LP001904' 'LP001907' 'LP001908' 'LP001910' 'LP001914'\n",
      " 'LP001915' 'LP001917' 'LP001922' 'LP001924' 'LP001925' 'LP001926'\n",
      " 'LP001931' 'LP001935' 'LP001936' 'LP001938' 'LP001940' 'LP001945'\n",
      " 'LP001947' 'LP001949' 'LP001953' 'LP001954' 'LP001955' 'LP001963'\n",
      " 'LP001964' 'LP001972' 'LP001974' 'LP001977' 'LP001978' 'LP001990'\n",
      " 'LP001993' 'LP001994' 'LP001996' 'LP001998' 'LP002002' 'LP002004'\n",
      " 'LP002006' 'LP002008' 'LP002024' 'LP002031' 'LP002035' 'LP002036'\n",
      " 'LP002043' 'LP002050' 'LP002051' 'LP002053' 'LP002054' 'LP002055'\n",
      " 'LP002065' 'LP002067' 'LP002068' 'LP002082' 'LP002086' 'LP002087'\n",
      " 'LP002097' 'LP002098' 'LP002100' 'LP002101' 'LP002103' 'LP002106'\n",
      " 'LP002110' 'LP002112' 'LP002113' 'LP002114' 'LP002115' 'LP002116'\n",
      " 'LP002119' 'LP002126' 'LP002128' 'LP002129' 'LP002130' 'LP002131'\n",
      " 'LP002137' 'LP002138' 'LP002139' 'LP002140' 'LP002141' 'LP002142'\n",
      " 'LP002143' 'LP002144' 'LP002149' 'LP002151' 'LP002158' 'LP002160'\n",
      " 'LP002161' 'LP002170' 'LP002175' 'LP002178' 'LP002180' 'LP002181'\n",
      " 'LP002187' 'LP002188' 'LP002190' 'LP002191' 'LP002194' 'LP002197'\n",
      " 'LP002201' 'LP002205' 'LP002209' 'LP002211' 'LP002219' 'LP002223'\n",
      " 'LP002224' 'LP002225' 'LP002226' 'LP002229' 'LP002231' 'LP002234'\n",
      " 'LP002236' 'LP002237' 'LP002239' 'LP002243' 'LP002244' 'LP002250'\n",
      " 'LP002255' 'LP002262' 'LP002263' 'LP002265' 'LP002266' 'LP002272'\n",
      " 'LP002277' 'LP002281' 'LP002284' 'LP002287' 'LP002288' 'LP002296'\n",
      " 'LP002297' 'LP002300' 'LP002301' 'LP002305' 'LP002308' 'LP002314'\n",
      " 'LP002315' 'LP002317' 'LP002318' 'LP002319' 'LP002328' 'LP002332'\n",
      " 'LP002335' 'LP002337' 'LP002341' 'LP002342' 'LP002345' 'LP002347'\n",
      " 'LP002348' 'LP002357' 'LP002361' 'LP002362' 'LP002364' 'LP002366'\n",
      " 'LP002367' 'LP002368' 'LP002369' 'LP002370' 'LP002377' 'LP002379'\n",
      " 'LP002386' 'LP002387' 'LP002390' 'LP002393' 'LP002398' 'LP002401'\n",
      " 'LP002403' 'LP002407' 'LP002408' 'LP002409' 'LP002418' 'LP002422'\n",
      " 'LP002424' 'LP002429' 'LP002434' 'LP002435' 'LP002443' 'LP002444'\n",
      " 'LP002446' 'LP002447' 'LP002448' 'LP002449' 'LP002453' 'LP002455'\n",
      " 'LP002459' 'LP002467' 'LP002472' 'LP002473' 'LP002478' 'LP002484'\n",
      " 'LP002487' 'LP002489' 'LP002493' 'LP002494' 'LP002500' 'LP002501'\n",
      " 'LP002502' 'LP002505' 'LP002515' 'LP002517' 'LP002519' 'LP002522'\n",
      " 'LP002524' 'LP002527' 'LP002529' 'LP002530' 'LP002531' 'LP002533'\n",
      " 'LP002534' 'LP002536' 'LP002537' 'LP002541' 'LP002543' 'LP002544'\n",
      " 'LP002545' 'LP002547' 'LP002555' 'LP002556' 'LP002560' 'LP002562'\n",
      " 'LP002571' 'LP002582' 'LP002585' 'LP002586' 'LP002587' 'LP002588'\n",
      " 'LP002600' 'LP002602' 'LP002603' 'LP002606' 'LP002615' 'LP002618'\n",
      " 'LP002619' 'LP002622' 'LP002624' 'LP002625' 'LP002626' 'LP002634'\n",
      " 'LP002637' 'LP002640' 'LP002643' 'LP002648' 'LP002652' 'LP002659'\n",
      " 'LP002670' 'LP002682' 'LP002683' 'LP002684' 'LP002689' 'LP002690'\n",
      " 'LP002692' 'LP002693' 'LP002697' 'LP002699' 'LP002705' 'LP002706'\n",
      " 'LP002714' 'LP002716' 'LP002717' 'LP002720' 'LP002723' 'LP002729'\n",
      " 'LP002731' 'LP002732' 'LP002734' 'LP002738' 'LP002739' 'LP002740'\n",
      " 'LP002741' 'LP002743' 'LP002753' 'LP002755' 'LP002757' 'LP002767'\n",
      " 'LP002768' 'LP002772' 'LP002776' 'LP002777' 'LP002778' 'LP002784'\n",
      " 'LP002785' 'LP002788' 'LP002789' 'LP002792' 'LP002794' 'LP002795'\n",
      " 'LP002798' 'LP002804' 'LP002807' 'LP002813' 'LP002820' 'LP002821'\n",
      " 'LP002832' 'LP002833' 'LP002836' 'LP002837' 'LP002840' 'LP002841'\n",
      " 'LP002842' 'LP002847' 'LP002855' 'LP002862' 'LP002863' 'LP002868'\n",
      " 'LP002872' 'LP002874' 'LP002877' 'LP002888' 'LP002892' 'LP002893'\n",
      " 'LP002894' 'LP002898' 'LP002911' 'LP002912' 'LP002916' 'LP002917'\n",
      " 'LP002925' 'LP002926' 'LP002928' 'LP002931' 'LP002933' 'LP002936'\n",
      " 'LP002938' 'LP002940' 'LP002941' 'LP002943' 'LP002945' 'LP002948'\n",
      " 'LP002949' 'LP002950' 'LP002953' 'LP002958' 'LP002959' 'LP002960'\n",
      " 'LP002961' 'LP002964' 'LP002974' 'LP002978' 'LP002979' 'LP002983'\n",
      " 'LP002984' 'LP002990']\n",
      "Gender: ['Male' 'Female' nan]\n",
      "Married: ['No' 'Yes' nan]\n",
      "Dependents: ['0' '1' '2' '3+' nan]\n",
      "Education: ['Graduate' 'Not Graduate']\n",
      "Self_Employed: ['No' 'Yes' nan]\n",
      "ApplicantIncome: [ 5849  4583  3000  2583  6000  5417  2333  3036  4006 12841  3200  2500\n",
      "  3073  1853  1299  4950  3596  3510  4887  2600  7660  5955  3365  3717\n",
      "  9560  2799  4226  1442  3750  4166  3167  4692  3500 12500  2275  1828\n",
      "  3667  3748  3600  1800  2400  3941  4695  3410  5649  5821  2645  4000\n",
      "  1928  3086  4230  4616 11500  2708  2132  3366  8080  3357  3029  2609\n",
      "  4945  5726 10750  7100  4300  3208  1875  4755  5266  1000  3333  3846\n",
      "  2395  1378  3988  2366  8566  5695  2958  6250  3273  4133  3620  6782\n",
      "  2484  1977  4188  1759  4288  4843 13650  4652  3816  3052 11417  7333\n",
      "  3800  2071  5316  2929  3572  7451  5050 14583  2214  5568 10408  5667\n",
      "  2137  2957  3692 23803  3865 10513  6080 20166  2014  2718  3459  4895\n",
      "  3316 14999  4200  5042  6950  2698 11757  2330 14866  1538 10000  4860\n",
      "  6277  2577  9166  2281  3254 39999  9538  2980  1863  7933  3089  4167\n",
      "  9323  3707  2439  2237  8000  1820 51763  3522  5708  4344  3497  2045\n",
      "  5516  6400  1916  4600 33846  3625 39147  2178  2383   674  9328  4885\n",
      " 12000  6033  3858  4191  3125  8333  1907  3416 11000  4923  3992  3917\n",
      "  4408  3244  3975  2479  3418  3430  7787  5703  3173  3850   150  3727\n",
      "  5000  4283  2221  4009  2971  7578  3250  4735  4758  2491  3716  3189\n",
      "  3155  5500  5746  3463  3812  3315  5819  2510  2965  3406  6050  9703\n",
      "  6608  2882  1809  1668  3427  2661 16250  3083  6045  5250 14683  4931\n",
      "  6083  2060  3481  7200  5166  4095  4708  4333  2876  3237 11146  2833\n",
      "  2620  3900  2750  3993  3103  4100  4053  3927  2301  1811 20667  3158\n",
      "  3704  4124  9508  3075  4400  3153  4416  6875  4666  2875  1625  2000\n",
      "  3762 20233  7667  2917  2927  2507  2473  3399  2058  3541  4342  3601\n",
      "  3166 15000  8666  4917  5818  4384  2935 63337  9833  5503  1830  4160\n",
      "  2647  2378  4554  2499  3523  6333  2625  9083  8750  2666  2423  3813\n",
      "  3875  5167  4723  4750  3013  6822  6216  5124  6325 19730 15759  5185\n",
      "  3062  2764  4817  4310  3069  5391  5941  7167  4566  2346  3010  5488\n",
      "  9167  9504  1993  3100  3276  3180  3033  3902  1500  2889  2755  1963\n",
      "  7441  4547  2167  2213  8300 81000  3867  6256  6096  2253  2149  2995\n",
      "  1600  1025  3246  5829  2720  7250 14880  4606  5935  2920  2717  8624\n",
      "  6500 12876  2425 10047  1926 10416  7142  3660  7901  4707 37719  3466\n",
      "  3539  3340  2769  2309  1958  3948  2483  7085  3859  4301  3708  4354\n",
      "  8334  2083  7740  3015  5191  2947 16692   210  3450  2653  4691  5532\n",
      " 16525  6700  2873 16667  4350  3095 10833  3547 18333  2435  2699  5333\n",
      "  3691 17263  3597  3326  4625  2895  6283   645  3159  4865  4050  3814\n",
      " 20833  3583 13262  3598  6065  3283  2130  5815  2031  3074  4683  3400\n",
      "  2192  5677  7948  4680 17500  3775  5285  2679  6783  4281  3588 11250\n",
      " 18165  2550  6133  3617  6417  4608  2138  3652  2239  3017  2768  3358\n",
      "  2526  2785  6633  2492  2454  3593  5468  2667 10139  3887  4180  3675\n",
      " 19484  5923  5800  8799  4467  3417  5116 16666  6125  6406  3087  3229\n",
      "  1782  3182  6540  1836  1880  2787  2297  2165  2726  9357 16120  3833\n",
      "  6383  2987  9963  5780   416  2894  3676  3987  3232  2900  4106  8072\n",
      "  7583]\n",
      "CoapplicantIncome: [0.00000000e+00 1.50800000e+03 2.35800000e+03 4.19600000e+03\n",
      " 1.51600000e+03 2.50400000e+03 1.52600000e+03 1.09680000e+04\n",
      " 7.00000000e+02 1.84000000e+03 8.10600000e+03 2.84000000e+03\n",
      " 1.08600000e+03 3.50000000e+03 5.62500000e+03 1.91100000e+03\n",
      " 1.91700000e+03 2.92500000e+03 2.25300000e+03 1.04000000e+03\n",
      " 2.08300000e+03 3.36900000e+03 1.66700000e+03 3.00000000e+03\n",
      " 2.06700000e+03 1.33000000e+03 1.45900000e+03 7.21000000e+03\n",
      " 1.66800000e+03 1.21300000e+03 2.33600000e+03 3.44000000e+03\n",
      " 2.27500000e+03 1.64400000e+03 1.16700000e+03 1.59100000e+03\n",
      " 2.20000000e+03 2.25000000e+03 2.85900000e+03 3.79600000e+03\n",
      " 3.44900000e+03 4.59500000e+03 2.25400000e+03 3.06600000e+03\n",
      " 1.87500000e+03 1.77400000e+03 4.75000000e+03 3.02200000e+03\n",
      " 4.00000000e+03 2.16600000e+03 1.88100000e+03 2.53100000e+03\n",
      " 2.00000000e+03 2.11800000e+03 4.16700000e+03 2.90000000e+03\n",
      " 5.65400000e+03 1.82000000e+03 2.30200000e+03 9.97000000e+02\n",
      " 3.54100000e+03 3.26300000e+03 3.80600000e+03 3.58300000e+03\n",
      " 7.54000000e+02 1.03000000e+03 1.12600000e+03 3.60000000e+03\n",
      " 2.33300000e+03 4.11400000e+03 2.28300000e+03 1.39800000e+03\n",
      " 2.14200000e+03 2.66700000e+03 8.98000000e+03 2.01400000e+03\n",
      " 1.64000000e+03 3.85000000e+03 2.56900000e+03 1.92900000e+03\n",
      " 7.75000000e+03 1.43000000e+03 2.03400000e+03 4.48600000e+03\n",
      " 1.42500000e+03 1.66600000e+03 8.30000000e+02 3.75000000e+03\n",
      " 1.04100000e+03 1.28000000e+03 1.44700000e+03 3.16600000e+03\n",
      " 3.33300000e+03 1.76900000e+03 7.36000000e+02 1.96400000e+03\n",
      " 1.61900000e+03 1.13000000e+04 1.45100000e+03 7.25000000e+03\n",
      " 5.06300000e+03 2.13800000e+03 5.29600000e+03 2.58300000e+03\n",
      " 2.36500000e+03 2.81600000e+03 2.50000000e+03 1.08300000e+03\n",
      " 1.25000000e+03 3.02100000e+03 9.83000000e+02 1.80000000e+03\n",
      " 1.77500000e+03 2.38300000e+03 1.71700000e+03 2.79100000e+03\n",
      " 1.01000000e+03 1.69500000e+03 2.05400000e+03 2.59800000e+03\n",
      " 1.77900000e+03 1.26000000e+03 5.00000000e+03 1.98300000e+03\n",
      " 5.70100000e+03 1.30000000e+03 4.41700000e+03 4.33300000e+03\n",
      " 1.84300000e+03 1.86800000e+03 3.89000000e+03 2.16700000e+03\n",
      " 7.10100000e+03 2.10000000e+03 4.25000000e+03 2.20900000e+03\n",
      " 3.44700000e+03 1.38700000e+03 1.81100000e+03 1.56000000e+03\n",
      " 1.85700000e+03 2.22300000e+03 1.84200000e+03 3.27400000e+03\n",
      " 2.42600000e+03 8.00000000e+02 9.85799988e+02 3.05300000e+03\n",
      " 2.41600000e+03 3.33400000e+03 2.54100000e+03 2.93400000e+03\n",
      " 1.75000000e+03 1.80300000e+03 1.86300000e+03 2.40500000e+03\n",
      " 2.13400000e+03 1.89000000e+02 1.59000000e+03 2.98500000e+03\n",
      " 4.98300000e+03 2.16000000e+03 2.45100000e+03 1.79300000e+03\n",
      " 1.83300000e+03 4.49000000e+03 6.88000000e+02 4.60000000e+03\n",
      " 1.58700000e+03 1.22900000e+03 2.33000000e+03 2.45800000e+03\n",
      " 3.23000000e+03 2.16800000e+03 4.58300000e+03 6.25000000e+03\n",
      " 5.05000000e+02 3.16700000e+03 3.66700000e+03 3.03300000e+03\n",
      " 5.26600000e+03 7.87300000e+03 1.98700000e+03 9.23000000e+02\n",
      " 4.99600000e+03 4.23200000e+03 1.60000000e+03 3.13600000e+03\n",
      " 2.41700000e+03 2.11500000e+03 1.62500000e+03 1.40000000e+03\n",
      " 4.84000000e+02 2.00000000e+04 2.40000000e+03 2.03300000e+03\n",
      " 3.23700000e+03 2.77300000e+03 1.41700000e+03 1.71900000e+03\n",
      " 4.30000000e+03 1.61200008e+01 2.34000000e+03 1.85100000e+03\n",
      " 1.12500000e+03 5.06400000e+03 1.99300000e+03 8.33300000e+03\n",
      " 1.21000000e+03 1.37600000e+03 1.71000000e+03 1.54200000e+03\n",
      " 1.25500000e+03 1.45600000e+03 1.73300000e+03 2.46600000e+03\n",
      " 4.08300000e+03 2.18800000e+03 1.66400000e+03 2.91700000e+03\n",
      " 2.07900000e+03 1.50000000e+03 4.64800000e+03 1.01400000e+03\n",
      " 1.87200000e+03 1.60300000e+03 3.15000000e+03 2.43600000e+03\n",
      " 2.78500000e+03 1.13100000e+03 2.15700000e+03 9.13000000e+02\n",
      " 1.70000000e+03 2.85700000e+03 4.41600000e+03 3.68300000e+03\n",
      " 5.62400000e+03 5.30200000e+03 1.48300000e+03 6.66700000e+03\n",
      " 3.01300000e+03 1.28700000e+03 2.00400000e+03 2.03500000e+03\n",
      " 6.66600000e+03 3.66600000e+03 3.42800000e+03 1.63200000e+03\n",
      " 1.91500000e+03 1.74200000e+03 1.42400000e+03 7.16600000e+03\n",
      " 2.08700000e+03 1.30200000e+03 5.50000000e+03 2.04200000e+03\n",
      " 3.90600000e+03 5.36000000e+02 2.84500000e+03 2.52400000e+03\n",
      " 6.63000000e+02 1.95000000e+03 1.78300000e+03 2.01600000e+03\n",
      " 2.37500000e+03 3.25000000e+03 4.26600000e+03 1.03200000e+03\n",
      " 2.66900000e+03 2.30600000e+03 2.42000000e+02 2.06400000e+03\n",
      " 4.61000000e+02 2.21000000e+03 2.73900000e+03 2.23200000e+03\n",
      " 3.38370000e+04 1.52200000e+03 3.41600000e+03 3.30000000e+03\n",
      " 1.00000000e+03 4.16670000e+04 2.79200000e+03 4.30100000e+03\n",
      " 3.80000000e+03 1.41100000e+03 2.40000000e+02]\n",
      "LoanAmount: [ nan 128.  66. 120. 141. 267.  95. 158. 168. 349.  70. 109. 200. 114.\n",
      "  17. 125. 100.  76. 133. 115. 104. 315. 116. 112. 151. 191. 122. 110.\n",
      "  35. 201.  74. 106. 320. 144. 184.  80.  47.  75. 134.  96.  88.  44.\n",
      " 286.  97. 135. 180.  99. 165. 258. 126. 312. 136. 172.  81. 187. 113.\n",
      " 176. 130. 111. 167. 265.  50. 210. 175. 131. 188.  25. 137. 160. 225.\n",
      " 216.  94. 139. 152. 118. 185. 154.  85. 259. 194.  93. 370. 182. 650.\n",
      " 102. 290.  84. 242. 129.  30. 244. 600. 255.  98. 275. 121.  63. 700.\n",
      "  87. 101. 495.  67.  73. 260. 108.  58.  48. 164. 170.  83.  90. 166.\n",
      " 124.  55.  59. 127. 214. 240.  72.  60. 138.  42. 280. 140. 155. 123.\n",
      " 279. 192. 304. 330. 150. 207. 436.  78.  54.  89. 143. 105. 132. 480.\n",
      "  56. 159. 300. 376. 117.  71. 490. 173.  46. 228. 308. 236. 570. 380.\n",
      " 296. 156. 103.  45.  65.  53. 360.  62. 218. 178. 239. 405. 148. 190.\n",
      " 149. 153. 162. 230.  86. 234. 246. 500. 186. 119. 107. 209. 208. 243.\n",
      "  40. 250. 311. 400. 161. 196. 324. 157. 145. 181.  26. 211.   9. 205.\n",
      "  36.  61. 146. 292. 142. 350. 496. 253.]\n",
      "Loan_Amount_Term: [360. 120. 240.  nan 180.  60. 300. 480.  36.  84.  12.]\n",
      "Credit_History: [ 1.  0. nan]\n",
      "Property_Area: ['Urban' 'Rural' 'Semiurban']\n",
      "Loan_Status: ['Y' 'N']\n"
     ]
    }
   ],
   "source": [
    "# Checking Unique values of Dataset:\n",
    "\n",
    "column_name =df.columns.values\n",
    "for column in column_name:\n",
    "    print(\"{0}: {1}\".format(column, df[column].unique()))"
   ]
  },
  {
   "cell_type": "markdown",
   "id": "111f3a8d",
   "metadata": {},
   "source": [
    "There are nan values in Gender, Married, Dependents, Self_Employed, LoanAmount, Loan_Amount_Term and Credit_History"
   ]
  },
  {
   "cell_type": "markdown",
   "id": "b8e81afa",
   "metadata": {},
   "source": [
    "# Data Pre-Processing:"
   ]
  },
  {
   "cell_type": "markdown",
   "id": "f277720e",
   "metadata": {},
   "source": [
    "## Filling categorical columns with Mode Imputation:"
   ]
  },
  {
   "cell_type": "markdown",
   "id": "56cdff30",
   "metadata": {},
   "source": [
    "There are 5 categorical columns: Gender, Married, Dependents,Self_Employed and Credit_History"
   ]
  },
  {
   "cell_type": "code",
   "execution_count": 8,
   "id": "fb222c64",
   "metadata": {},
   "outputs": [],
   "source": [
    "# Filling nan value in dataset with mode\n",
    "df['Gender'].fillna(df['Gender'].mode()[0],inplace=True)\n",
    "df['Married'].fillna(df['Married'].mode()[0],inplace=True)\n",
    "df['Dependents'].fillna(df['Dependents'].mode()[0],inplace=True)\n",
    "df['Self_Employed'].fillna(df['Self_Employed'].mode()[0],inplace=True)"
   ]
  },
  {
   "cell_type": "markdown",
   "id": "fe670890",
   "metadata": {},
   "source": [
    "Categorical data having nan values with mode values."
   ]
  },
  {
   "cell_type": "code",
   "execution_count": 9,
   "id": "ecad5ab8",
   "metadata": {},
   "outputs": [
    {
     "data": {
      "text/plain": [
       "Loan_ID               0\n",
       "Gender                0\n",
       "Married               0\n",
       "Dependents            0\n",
       "Education             0\n",
       "Self_Employed         0\n",
       "ApplicantIncome       0\n",
       "CoapplicantIncome     0\n",
       "LoanAmount           22\n",
       "Loan_Amount_Term     14\n",
       "Credit_History       50\n",
       "Property_Area         0\n",
       "Loan_Status           0\n",
       "dtype: int64"
      ]
     },
     "execution_count": 9,
     "metadata": {},
     "output_type": "execute_result"
    }
   ],
   "source": [
    "df.isnull().sum()"
   ]
  },
  {
   "cell_type": "markdown",
   "id": "1fc2a83b",
   "metadata": {},
   "source": [
    "nan values of Gender, Married, Dependents,Self_Employed and Credit_History removed."
   ]
  },
  {
   "cell_type": "code",
   "execution_count": 11,
   "id": "c68ec28d",
   "metadata": {},
   "outputs": [
    {
     "data": {
      "text/html": [
       "<div>\n",
       "<style scoped>\n",
       "    .dataframe tbody tr th:only-of-type {\n",
       "        vertical-align: middle;\n",
       "    }\n",
       "\n",
       "    .dataframe tbody tr th {\n",
       "        vertical-align: top;\n",
       "    }\n",
       "\n",
       "    .dataframe thead th {\n",
       "        text-align: right;\n",
       "    }\n",
       "</style>\n",
       "<table border=\"1\" class=\"dataframe\">\n",
       "  <thead>\n",
       "    <tr style=\"text-align: right;\">\n",
       "      <th></th>\n",
       "      <th>ApplicantIncome</th>\n",
       "      <th>CoapplicantIncome</th>\n",
       "      <th>LoanAmount</th>\n",
       "      <th>Loan_Amount_Term</th>\n",
       "      <th>Credit_History</th>\n",
       "    </tr>\n",
       "  </thead>\n",
       "  <tbody>\n",
       "    <tr>\n",
       "      <th>count</th>\n",
       "      <td>614.000000</td>\n",
       "      <td>614.000000</td>\n",
       "      <td>592.000000</td>\n",
       "      <td>600.00000</td>\n",
       "      <td>564.000000</td>\n",
       "    </tr>\n",
       "    <tr>\n",
       "      <th>mean</th>\n",
       "      <td>5403.459283</td>\n",
       "      <td>1621.245798</td>\n",
       "      <td>146.412162</td>\n",
       "      <td>342.00000</td>\n",
       "      <td>0.842199</td>\n",
       "    </tr>\n",
       "    <tr>\n",
       "      <th>std</th>\n",
       "      <td>6109.041673</td>\n",
       "      <td>2926.248369</td>\n",
       "      <td>85.587325</td>\n",
       "      <td>65.12041</td>\n",
       "      <td>0.364878</td>\n",
       "    </tr>\n",
       "    <tr>\n",
       "      <th>min</th>\n",
       "      <td>150.000000</td>\n",
       "      <td>0.000000</td>\n",
       "      <td>9.000000</td>\n",
       "      <td>12.00000</td>\n",
       "      <td>0.000000</td>\n",
       "    </tr>\n",
       "    <tr>\n",
       "      <th>25%</th>\n",
       "      <td>2877.500000</td>\n",
       "      <td>0.000000</td>\n",
       "      <td>100.000000</td>\n",
       "      <td>360.00000</td>\n",
       "      <td>1.000000</td>\n",
       "    </tr>\n",
       "    <tr>\n",
       "      <th>50%</th>\n",
       "      <td>3812.500000</td>\n",
       "      <td>1188.500000</td>\n",
       "      <td>128.000000</td>\n",
       "      <td>360.00000</td>\n",
       "      <td>1.000000</td>\n",
       "    </tr>\n",
       "    <tr>\n",
       "      <th>75%</th>\n",
       "      <td>5795.000000</td>\n",
       "      <td>2297.250000</td>\n",
       "      <td>168.000000</td>\n",
       "      <td>360.00000</td>\n",
       "      <td>1.000000</td>\n",
       "    </tr>\n",
       "    <tr>\n",
       "      <th>max</th>\n",
       "      <td>81000.000000</td>\n",
       "      <td>41667.000000</td>\n",
       "      <td>700.000000</td>\n",
       "      <td>480.00000</td>\n",
       "      <td>1.000000</td>\n",
       "    </tr>\n",
       "  </tbody>\n",
       "</table>\n",
       "</div>"
      ],
      "text/plain": [
       "       ApplicantIncome  CoapplicantIncome  LoanAmount  Loan_Amount_Term  \\\n",
       "count       614.000000         614.000000  592.000000         600.00000   \n",
       "mean       5403.459283        1621.245798  146.412162         342.00000   \n",
       "std        6109.041673        2926.248369   85.587325          65.12041   \n",
       "min         150.000000           0.000000    9.000000          12.00000   \n",
       "25%        2877.500000           0.000000  100.000000         360.00000   \n",
       "50%        3812.500000        1188.500000  128.000000         360.00000   \n",
       "75%        5795.000000        2297.250000  168.000000         360.00000   \n",
       "max       81000.000000       41667.000000  700.000000         480.00000   \n",
       "\n",
       "       Credit_History  \n",
       "count      564.000000  \n",
       "mean         0.842199  \n",
       "std          0.364878  \n",
       "min          0.000000  \n",
       "25%          1.000000  \n",
       "50%          1.000000  \n",
       "75%          1.000000  \n",
       "max          1.000000  "
      ]
     },
     "execution_count": 11,
     "metadata": {},
     "output_type": "execute_result"
    }
   ],
   "source": [
    "df.describe()"
   ]
  },
  {
   "cell_type": "markdown",
   "id": "fa7b09c1",
   "metadata": {},
   "source": [
    "Loan Amount and Loan Amount Term have outliers as difference between 75% and max is more so median method will be used for nan values \n",
    "Credit_History has no outliers so mean will be used for nan values."
   ]
  },
  {
   "cell_type": "code",
   "execution_count": 12,
   "id": "a8584424",
   "metadata": {},
   "outputs": [
    {
     "data": {
      "text/plain": [
       "<AxesSubplot:>"
      ]
     },
     "execution_count": 12,
     "metadata": {},
     "output_type": "execute_result"
    },
    {
     "data": {
      "image/png": "[encoded data removed]",
      "text/plain": [
       "<Figure size 432x288 with 1 Axes>"
      ]
     },
     "metadata": {
      "needs_background": "light"
     },
     "output_type": "display_data"
    }
   ],
   "source": [
    "df['Loan_Amount_Term'].plot.box()"
   ]
  },
  {
   "cell_type": "markdown",
   "id": "c59c2ee7",
   "metadata": {},
   "source": [
    "Loan_Amount_Term has outlier"
   ]
  },
  {
   "cell_type": "code",
   "execution_count": 13,
   "id": "d8969fdf",
   "metadata": {},
   "outputs": [
    {
     "data": {
      "text/plain": [
       "<AxesSubplot:>"
      ]
     },
     "execution_count": 13,
     "metadata": {},
     "output_type": "execute_result"
    },
    {
     "data": {
      "image/png": "[encoded data removed]",
      "text/plain": [
       "<Figure size 432x288 with 1 Axes>"
      ]
     },
     "metadata": {
      "needs_background": "light"
     },
     "output_type": "display_data"
    }
   ],
   "source": [
    "df['LoanAmount'].plot.box()"
   ]
  },
  {
   "cell_type": "markdown",
   "id": "40815da0",
   "metadata": {},
   "source": [
    "LoanAmount has outlier"
   ]
  },
  {
   "cell_type": "code",
   "execution_count": 14,
   "id": "d23c506a",
   "metadata": {},
   "outputs": [
    {
     "data": {
      "text/plain": [
       "<AxesSubplot:>"
      ]
     },
     "execution_count": 14,
     "metadata": {},
     "output_type": "execute_result"
    },
    {
     "data": {
      "image/png": "[encoded data removed]",
      "text/plain": [
       "<Figure size 432x288 with 1 Axes>"
      ]
     },
     "metadata": {
      "needs_background": "light"
     },
     "output_type": "display_data"
    }
   ],
   "source": [
    "df['Credit_History'].plot.box()"
   ]
  },
  {
   "cell_type": "markdown",
   "id": "8b769235",
   "metadata": {},
   "source": [
    "credit history has small outliers."
   ]
  },
  {
   "cell_type": "markdown",
   "id": "d48f63e7",
   "metadata": {},
   "source": [
    "As both the Numeric data have alot of outliers so using median for filling nan values."
   ]
  },
  {
   "cell_type": "code",
   "execution_count": 15,
   "id": "6805c459",
   "metadata": {},
   "outputs": [],
   "source": [
    "df['LoanAmount'].fillna(df['LoanAmount'].median(),inplace=True)\n",
    "df['Loan_Amount_Term'].fillna(df['Loan_Amount_Term'].median(),inplace=True)"
   ]
  },
  {
   "cell_type": "markdown",
   "id": "50085bb6",
   "metadata": {},
   "source": [
    "LoanAmount and Loan_Amount_Term columns nan values removed using median imputation."
   ]
  },
  {
   "cell_type": "markdown",
   "id": "a21b2a06",
   "metadata": {},
   "source": [
    "## Using Mean imputation:"
   ]
  },
  {
   "cell_type": "code",
   "execution_count": 16,
   "id": "9d16119b",
   "metadata": {},
   "outputs": [],
   "source": [
    "df['Credit_History'].fillna(df['Credit_History'].mean(),inplace=True)"
   ]
  },
  {
   "cell_type": "markdown",
   "id": "154e2271",
   "metadata": {},
   "source": [
    "Credit_History column nan values removed using mean imputation."
   ]
  },
  {
   "cell_type": "code",
   "execution_count": 17,
   "id": "60a2d374",
   "metadata": {},
   "outputs": [
    {
     "data": {
      "text/plain": [
       "Loan_ID              0\n",
       "Gender               0\n",
       "Married              0\n",
       "Dependents           0\n",
       "Education            0\n",
       "Self_Employed        0\n",
       "ApplicantIncome      0\n",
       "CoapplicantIncome    0\n",
       "LoanAmount           0\n",
       "Loan_Amount_Term     0\n",
       "Credit_History       0\n",
       "Property_Area        0\n",
       "Loan_Status          0\n",
       "dtype: int64"
      ]
     },
     "execution_count": 17,
     "metadata": {},
     "output_type": "execute_result"
    }
   ],
   "source": [
    "df.isnull().sum()"
   ]
  },
  {
   "cell_type": "markdown",
   "id": "3767043a",
   "metadata": {},
   "source": [
    "All the nan values are filled and now there are no null values."
   ]
  },
  {
   "cell_type": "markdown",
   "id": "f379fd24",
   "metadata": {},
   "source": [
    "### Data cleaning:\n",
    "\n",
    "Loan_ID is not required so dropping it "
   ]
  },
  {
   "cell_type": "code",
   "execution_count": 18,
   "id": "6f712ec6",
   "metadata": {},
   "outputs": [
    {
     "data": {
      "text/html": [
       "<div>\n",
       "<style scoped>\n",
       "    .dataframe tbody tr th:only-of-type {\n",
       "        vertical-align: middle;\n",
       "    }\n",
       "\n",
       "    .dataframe tbody tr th {\n",
       "        vertical-align: top;\n",
       "    }\n",
       "\n",
       "    .dataframe thead th {\n",
       "        text-align: right;\n",
       "    }\n",
       "</style>\n",
       "<table border=\"1\" class=\"dataframe\">\n",
       "  <thead>\n",
       "    <tr style=\"text-align: right;\">\n",
       "      <th></th>\n",
       "      <th>Gender</th>\n",
       "      <th>Married</th>\n",
       "      <th>Dependents</th>\n",
       "      <th>Education</th>\n",
       "      <th>Self_Employed</th>\n",
       "      <th>ApplicantIncome</th>\n",
       "      <th>CoapplicantIncome</th>\n",
       "      <th>LoanAmount</th>\n",
       "      <th>Loan_Amount_Term</th>\n",
       "      <th>Credit_History</th>\n",
       "      <th>Property_Area</th>\n",
       "      <th>Loan_Status</th>\n",
       "    </tr>\n",
       "  </thead>\n",
       "  <tbody>\n",
       "    <tr>\n",
       "      <th>0</th>\n",
       "      <td>Male</td>\n",
       "      <td>No</td>\n",
       "      <td>0</td>\n",
       "      <td>Graduate</td>\n",
       "      <td>No</td>\n",
       "      <td>5849</td>\n",
       "      <td>0.0</td>\n",
       "      <td>128.0</td>\n",
       "      <td>360.0</td>\n",
       "      <td>1.0</td>\n",
       "      <td>Urban</td>\n",
       "      <td>Y</td>\n",
       "    </tr>\n",
       "    <tr>\n",
       "      <th>1</th>\n",
       "      <td>Male</td>\n",
       "      <td>Yes</td>\n",
       "      <td>1</td>\n",
       "      <td>Graduate</td>\n",
       "      <td>No</td>\n",
       "      <td>4583</td>\n",
       "      <td>1508.0</td>\n",
       "      <td>128.0</td>\n",
       "      <td>360.0</td>\n",
       "      <td>1.0</td>\n",
       "      <td>Rural</td>\n",
       "      <td>N</td>\n",
       "    </tr>\n",
       "    <tr>\n",
       "      <th>2</th>\n",
       "      <td>Male</td>\n",
       "      <td>Yes</td>\n",
       "      <td>0</td>\n",
       "      <td>Graduate</td>\n",
       "      <td>Yes</td>\n",
       "      <td>3000</td>\n",
       "      <td>0.0</td>\n",
       "      <td>66.0</td>\n",
       "      <td>360.0</td>\n",
       "      <td>1.0</td>\n",
       "      <td>Urban</td>\n",
       "      <td>Y</td>\n",
       "    </tr>\n",
       "    <tr>\n",
       "      <th>3</th>\n",
       "      <td>Male</td>\n",
       "      <td>Yes</td>\n",
       "      <td>0</td>\n",
       "      <td>Not Graduate</td>\n",
       "      <td>No</td>\n",
       "      <td>2583</td>\n",
       "      <td>2358.0</td>\n",
       "      <td>120.0</td>\n",
       "      <td>360.0</td>\n",
       "      <td>1.0</td>\n",
       "      <td>Urban</td>\n",
       "      <td>Y</td>\n",
       "    </tr>\n",
       "    <tr>\n",
       "      <th>4</th>\n",
       "      <td>Male</td>\n",
       "      <td>No</td>\n",
       "      <td>0</td>\n",
       "      <td>Graduate</td>\n",
       "      <td>No</td>\n",
       "      <td>6000</td>\n",
       "      <td>0.0</td>\n",
       "      <td>141.0</td>\n",
       "      <td>360.0</td>\n",
       "      <td>1.0</td>\n",
       "      <td>Urban</td>\n",
       "      <td>Y</td>\n",
       "    </tr>\n",
       "  </tbody>\n",
       "</table>\n",
       "</div>"
      ],
      "text/plain": [
       "  Gender Married Dependents     Education Self_Employed  ApplicantIncome  \\\n",
       "0   Male      No          0      Graduate            No             5849   \n",
       "1   Male     Yes          1      Graduate            No             4583   \n",
       "2   Male     Yes          0      Graduate           Yes             3000   \n",
       "3   Male     Yes          0  Not Graduate            No             2583   \n",
       "4   Male      No          0      Graduate            No             6000   \n",
       "\n",
       "   CoapplicantIncome  LoanAmount  Loan_Amount_Term  Credit_History  \\\n",
       "0                0.0       128.0             360.0             1.0   \n",
       "1             1508.0       128.0             360.0             1.0   \n",
       "2                0.0        66.0             360.0             1.0   \n",
       "3             2358.0       120.0             360.0             1.0   \n",
       "4                0.0       141.0             360.0             1.0   \n",
       "\n",
       "  Property_Area Loan_Status  \n",
       "0         Urban           Y  \n",
       "1         Rural           N  \n",
       "2         Urban           Y  \n",
       "3         Urban           Y  \n",
       "4         Urban           Y  "
      ]
     },
     "execution_count": 18,
     "metadata": {},
     "output_type": "execute_result"
    }
   ],
   "source": [
    "df.drop(['Loan_ID'],axis=1,inplace=True)\n",
    "df.head()"
   ]
  },
  {
   "cell_type": "markdown",
   "id": "25bd1010",
   "metadata": {},
   "source": [
    "Loan_ID column dropped"
   ]
  },
  {
   "cell_type": "code",
   "execution_count": 119,
   "id": "34659303",
   "metadata": {},
   "outputs": [
    {
     "name": "stdout",
     "output_type": "stream",
     "text": [
      "Gender: ['Male' 'Female']\n",
      "Married: ['No' 'Yes']\n",
      "Dependents: ['0' '1' '2' '3+']\n",
      "Education: ['Graduate' 'Not Graduate']\n",
      "Self_Employed: ['No' 'Yes']\n",
      "ApplicantIncome: [ 5849  4583  3000  2583  6000  5417  2333  3036  4006 12841  3200  2500\n",
      "  3073  1853  1299  4950  3596  3510  4887  2600  7660  5955  3365  3717\n",
      "  9560  2799  4226  1442  3750  4166  3167  4692  3500 12500  2275  1828\n",
      "  3667  3748  3600  1800  2400  3941  4695  3410  5649  5821  2645  4000\n",
      "  1928  3086  4230  4616 11500  2708  2132  3366  8080  3357  3029  2609\n",
      "  4945  5726 10750  7100  4300  3208  1875  4755  5266  1000  3333  3846\n",
      "  2395  1378  3988  2366  8566  5695  2958  6250  3273  4133  3620  6782\n",
      "  2484  1977  4188  1759  4288  4843 13650  4652  3816  3052 11417  7333\n",
      "  3800  2071  5316  2929  3572  7451  5050 14583  2214  5568 10408  5667\n",
      "  2137  2957  3692 23803  3865 10513  6080 20166  2014  2718  3459  4895\n",
      "  3316 14999  4200  5042  6950  2698 11757  2330 14866  1538 10000  4860\n",
      "  6277  2577  9166  2281  3254 39999  9538  2980  1863  7933  3089  4167\n",
      "  9323  3707  2439  2237  8000  1820 51763  3522  5708  4344  3497  2045\n",
      "  5516  6400  1916  4600 33846  3625 39147  2178  2383   674  9328  4885\n",
      " 12000  6033  3858  4191  3125  8333  1907  3416 11000  4923  3992  3917\n",
      "  4408  3244  3975  2479  3418  3430  7787  5703  3173  3850   150  3727\n",
      "  5000  4283  2221  4009  2971  7578  3250  4735  4758  2491  3716  3189\n",
      "  3155  5500  5746  3463  3812  3315  5819  2510  2965  3406  6050  9703\n",
      "  6608  2882  1809  1668  3427  2661 16250  3083  6045  5250 14683  4931\n",
      "  6083  2060  3481  7200  5166  4095  4708  4333  2876  3237 11146  2833\n",
      "  2620  3900  2750  3993  3103  4100  4053  3927  2301  1811 20667  3158\n",
      "  3704  4124  9508  3075  4400  3153  4416  6875  4666  2875  1625  2000\n",
      "  3762 20233  7667  2917  2927  2507  2473  3399  2058  3541  4342  3601\n",
      "  3166 15000  8666  4917  5818  4384  2935 63337  9833  5503  1830  4160\n",
      "  2647  2378  4554  2499  3523  6333  2625  9083  8750  2666  2423  3813\n",
      "  3875  5167  4723  4750  3013  6822  6216  5124  6325 19730 15759  5185\n",
      "  3062  2764  4817  4310  3069  5391  5941  7167  4566  2346  3010  5488\n",
      "  9167  9504  1993  3100  3276  3180  3033  3902  1500  2889  2755  1963\n",
      "  7441  4547  2167  2213  8300 81000  3867  6256  6096  2253  2149  2995\n",
      "  1600  1025  3246  5829  2720  7250 14880  4606  5935  2920  2717  8624\n",
      "  6500 12876  2425 10047  1926 10416  7142  3660  7901  4707 37719  3466\n",
      "  3539  3340  2769  2309  1958  3948  2483  7085  3859  4301  3708  4354\n",
      "  8334  2083  7740  3015  5191  2947 16692   210  3450  2653  4691  5532\n",
      " 16525  6700  2873 16667  4350  3095 10833  3547 18333  2435  2699  5333\n",
      "  3691 17263  3597  3326  4625  2895  6283   645  3159  4865  4050  3814\n",
      " 20833  3583 13262  3598  6065  3283  2130  5815  2031  3074  4683  3400\n",
      "  2192  5677  7948  4680 17500  3775  5285  2679  6783  4281  3588 11250\n",
      " 18165  2550  6133  3617  6417  4608  2138  3652  2239  3017  2768  3358\n",
      "  2526  2785  6633  2492  2454  3593  5468  2667 10139  3887  4180  3675\n",
      " 19484  5923  5800  8799  4467  3417  5116 16666  6125  6406  3087  3229\n",
      "  1782  3182  6540  1836  1880  2787  2297  2165  2726  9357 16120  3833\n",
      "  6383  2987  9963  5780   416  2894  3676  3987  3232  2900  4106  8072\n",
      "  7583]\n",
      "CoapplicantIncome: [0.00000000e+00 1.50800000e+03 2.35800000e+03 4.19600000e+03\n",
      " 1.51600000e+03 2.50400000e+03 1.52600000e+03 1.09680000e+04\n",
      " 7.00000000e+02 1.84000000e+03 8.10600000e+03 2.84000000e+03\n",
      " 1.08600000e+03 3.50000000e+03 5.62500000e+03 1.91100000e+03\n",
      " 1.91700000e+03 2.92500000e+03 2.25300000e+03 1.04000000e+03\n",
      " 2.08300000e+03 3.36900000e+03 1.66700000e+03 3.00000000e+03\n",
      " 2.06700000e+03 1.33000000e+03 1.45900000e+03 7.21000000e+03\n",
      " 1.66800000e+03 1.21300000e+03 2.33600000e+03 3.44000000e+03\n",
      " 2.27500000e+03 1.64400000e+03 1.16700000e+03 1.59100000e+03\n",
      " 2.20000000e+03 2.25000000e+03 2.85900000e+03 3.79600000e+03\n",
      " 3.44900000e+03 4.59500000e+03 2.25400000e+03 3.06600000e+03\n",
      " 1.87500000e+03 1.77400000e+03 4.75000000e+03 3.02200000e+03\n",
      " 4.00000000e+03 2.16600000e+03 1.88100000e+03 2.53100000e+03\n",
      " 2.00000000e+03 2.11800000e+03 4.16700000e+03 2.90000000e+03\n",
      " 5.65400000e+03 1.82000000e+03 2.30200000e+03 9.97000000e+02\n",
      " 3.54100000e+03 3.26300000e+03 3.80600000e+03 3.58300000e+03\n",
      " 7.54000000e+02 1.03000000e+03 1.12600000e+03 3.60000000e+03\n",
      " 2.33300000e+03 4.11400000e+03 2.28300000e+03 1.39800000e+03\n",
      " 2.14200000e+03 2.66700000e+03 8.98000000e+03 2.01400000e+03\n",
      " 1.64000000e+03 3.85000000e+03 2.56900000e+03 1.92900000e+03\n",
      " 7.75000000e+03 1.43000000e+03 2.03400000e+03 4.48600000e+03\n",
      " 1.42500000e+03 1.66600000e+03 8.30000000e+02 3.75000000e+03\n",
      " 1.04100000e+03 1.28000000e+03 1.44700000e+03 3.16600000e+03\n",
      " 3.33300000e+03 1.76900000e+03 7.36000000e+02 1.96400000e+03\n",
      " 1.61900000e+03 1.13000000e+04 1.45100000e+03 7.25000000e+03\n",
      " 5.06300000e+03 2.13800000e+03 5.29600000e+03 2.58300000e+03\n",
      " 2.36500000e+03 2.81600000e+03 2.50000000e+03 1.08300000e+03\n",
      " 1.25000000e+03 3.02100000e+03 9.83000000e+02 1.80000000e+03\n",
      " 1.77500000e+03 2.38300000e+03 1.71700000e+03 2.79100000e+03\n",
      " 1.01000000e+03 1.69500000e+03 2.05400000e+03 2.59800000e+03\n",
      " 1.77900000e+03 1.26000000e+03 5.00000000e+03 1.98300000e+03\n",
      " 5.70100000e+03 1.30000000e+03 4.41700000e+03 4.33300000e+03\n",
      " 1.84300000e+03 1.86800000e+03 3.89000000e+03 2.16700000e+03\n",
      " 7.10100000e+03 2.10000000e+03 4.25000000e+03 2.20900000e+03\n",
      " 3.44700000e+03 1.38700000e+03 1.81100000e+03 1.56000000e+03\n",
      " 1.85700000e+03 2.22300000e+03 1.84200000e+03 3.27400000e+03\n",
      " 2.42600000e+03 8.00000000e+02 9.85799988e+02 3.05300000e+03\n",
      " 2.41600000e+03 3.33400000e+03 2.54100000e+03 2.93400000e+03\n",
      " 1.75000000e+03 1.80300000e+03 1.86300000e+03 2.40500000e+03\n",
      " 2.13400000e+03 1.89000000e+02 1.59000000e+03 2.98500000e+03\n",
      " 4.98300000e+03 2.16000000e+03 2.45100000e+03 1.79300000e+03\n",
      " 1.83300000e+03 4.49000000e+03 6.88000000e+02 4.60000000e+03\n",
      " 1.58700000e+03 1.22900000e+03 2.33000000e+03 2.45800000e+03\n",
      " 3.23000000e+03 2.16800000e+03 4.58300000e+03 6.25000000e+03\n",
      " 5.05000000e+02 3.16700000e+03 3.66700000e+03 3.03300000e+03\n",
      " 5.26600000e+03 7.87300000e+03 1.98700000e+03 9.23000000e+02\n",
      " 4.99600000e+03 4.23200000e+03 1.60000000e+03 3.13600000e+03\n",
      " 2.41700000e+03 2.11500000e+03 1.62500000e+03 1.40000000e+03\n",
      " 4.84000000e+02 2.00000000e+04 2.40000000e+03 2.03300000e+03\n",
      " 3.23700000e+03 2.77300000e+03 1.41700000e+03 1.71900000e+03\n",
      " 4.30000000e+03 1.61200008e+01 2.34000000e+03 1.85100000e+03\n",
      " 1.12500000e+03 5.06400000e+03 1.99300000e+03 8.33300000e+03\n",
      " 1.21000000e+03 1.37600000e+03 1.71000000e+03 1.54200000e+03\n",
      " 1.25500000e+03 1.45600000e+03 1.73300000e+03 2.46600000e+03\n",
      " 4.08300000e+03 2.18800000e+03 1.66400000e+03 2.91700000e+03\n",
      " 2.07900000e+03 1.50000000e+03 4.64800000e+03 1.01400000e+03\n",
      " 1.87200000e+03 1.60300000e+03 3.15000000e+03 2.43600000e+03\n",
      " 2.78500000e+03 1.13100000e+03 2.15700000e+03 9.13000000e+02\n",
      " 1.70000000e+03 2.85700000e+03 4.41600000e+03 3.68300000e+03\n",
      " 5.62400000e+03 5.30200000e+03 1.48300000e+03 6.66700000e+03\n",
      " 3.01300000e+03 1.28700000e+03 2.00400000e+03 2.03500000e+03\n",
      " 6.66600000e+03 3.66600000e+03 3.42800000e+03 1.63200000e+03\n",
      " 1.91500000e+03 1.74200000e+03 1.42400000e+03 7.16600000e+03\n",
      " 2.08700000e+03 1.30200000e+03 5.50000000e+03 2.04200000e+03\n",
      " 3.90600000e+03 5.36000000e+02 2.84500000e+03 2.52400000e+03\n",
      " 6.63000000e+02 1.95000000e+03 1.78300000e+03 2.01600000e+03\n",
      " 2.37500000e+03 3.25000000e+03 4.26600000e+03 1.03200000e+03\n",
      " 2.66900000e+03 2.30600000e+03 2.42000000e+02 2.06400000e+03\n",
      " 4.61000000e+02 2.21000000e+03 2.73900000e+03 2.23200000e+03\n",
      " 3.38370000e+04 1.52200000e+03 3.41600000e+03 3.30000000e+03\n",
      " 1.00000000e+03 4.16670000e+04 2.79200000e+03 4.30100000e+03\n",
      " 3.80000000e+03 1.41100000e+03 2.40000000e+02]\n",
      "LoanAmount: [128.  66. 120. 141. 267.  95. 158. 168. 349.  70. 109. 200. 114.  17.\n",
      " 125. 100.  76. 133. 115. 104. 315. 116. 112. 151. 191. 122. 110.  35.\n",
      " 201.  74. 106. 320. 144. 184.  80.  47.  75. 134.  96.  88.  44. 286.\n",
      "  97. 135. 180.  99. 165. 258. 126. 312. 136. 172.  81. 187. 113. 176.\n",
      " 130. 111. 167. 265.  50. 210. 175. 131. 188.  25. 137. 160. 225. 216.\n",
      "  94. 139. 152. 118. 185. 154.  85. 259. 194.  93. 370. 182. 650. 102.\n",
      " 290.  84. 242. 129.  30. 244. 600. 255.  98. 275. 121.  63. 700.  87.\n",
      " 101. 495.  67.  73. 260. 108.  58.  48. 164. 170.  83.  90. 166. 124.\n",
      "  55.  59. 127. 214. 240.  72.  60. 138.  42. 280. 140. 155. 123. 279.\n",
      " 192. 304. 330. 150. 207. 436.  78.  54.  89. 143. 105. 132. 480.  56.\n",
      " 159. 300. 376. 117.  71. 490. 173.  46. 228. 308. 236. 570. 380. 296.\n",
      " 156. 103.  45.  65.  53. 360.  62. 218. 178. 239. 405. 148. 190. 149.\n",
      " 153. 162. 230.  86. 234. 246. 500. 186. 119. 107. 209. 208. 243.  40.\n",
      " 250. 311. 400. 161. 196. 324. 157. 145. 181.  26. 211.   9. 205.  36.\n",
      "  61. 146. 292. 142. 350. 496. 253.]\n",
      "Loan_Amount_Term: [360. 120. 240. 180.  60. 300. 480.  36.  84.  12.]\n",
      "Credit_History: [1.         0.         0.84219858]\n",
      "Property_Area: ['Urban' 'Rural' 'Semiurban']\n",
      "Loan_Status: ['Y' 'N']\n"
     ]
    }
   ],
   "source": [
    "# Checking Unique values of Dataset:\n",
    "\n",
    "column_name =df.columns.values\n",
    "for column in column_name:\n",
    "    print(\"{0}: {1}\".format(column, df[column].unique()))"
   ]
  },
  {
   "cell_type": "markdown",
   "id": "ae345b17",
   "metadata": {},
   "source": [
    "## Creating New variable"
   ]
  },
  {
   "cell_type": "code",
   "execution_count": 19,
   "id": "26947393",
   "metadata": {},
   "outputs": [],
   "source": [
    "df['Total_Income']= df['ApplicantIncome'] + df['CoapplicantIncome']"
   ]
  },
  {
   "cell_type": "code",
   "execution_count": 20,
   "id": "4ab1b3fb",
   "metadata": {},
   "outputs": [
    {
     "data": {
      "text/html": [
       "<div>\n",
       "<style scoped>\n",
       "    .dataframe tbody tr th:only-of-type {\n",
       "        vertical-align: middle;\n",
       "    }\n",
       "\n",
       "    .dataframe tbody tr th {\n",
       "        vertical-align: top;\n",
       "    }\n",
       "\n",
       "    .dataframe thead th {\n",
       "        text-align: right;\n",
       "    }\n",
       "</style>\n",
       "<table border=\"1\" class=\"dataframe\">\n",
       "  <thead>\n",
       "    <tr style=\"text-align: right;\">\n",
       "      <th></th>\n",
       "      <th>Gender</th>\n",
       "      <th>Married</th>\n",
       "      <th>Dependents</th>\n",
       "      <th>Education</th>\n",
       "      <th>Self_Employed</th>\n",
       "      <th>ApplicantIncome</th>\n",
       "      <th>CoapplicantIncome</th>\n",
       "      <th>LoanAmount</th>\n",
       "      <th>Loan_Amount_Term</th>\n",
       "      <th>Credit_History</th>\n",
       "      <th>Property_Area</th>\n",
       "      <th>Loan_Status</th>\n",
       "      <th>Total_Income</th>\n",
       "    </tr>\n",
       "  </thead>\n",
       "  <tbody>\n",
       "    <tr>\n",
       "      <th>0</th>\n",
       "      <td>Male</td>\n",
       "      <td>No</td>\n",
       "      <td>0</td>\n",
       "      <td>Graduate</td>\n",
       "      <td>No</td>\n",
       "      <td>5849</td>\n",
       "      <td>0.0</td>\n",
       "      <td>128.0</td>\n",
       "      <td>360.0</td>\n",
       "      <td>1.0</td>\n",
       "      <td>Urban</td>\n",
       "      <td>Y</td>\n",
       "      <td>5849.0</td>\n",
       "    </tr>\n",
       "    <tr>\n",
       "      <th>1</th>\n",
       "      <td>Male</td>\n",
       "      <td>Yes</td>\n",
       "      <td>1</td>\n",
       "      <td>Graduate</td>\n",
       "      <td>No</td>\n",
       "      <td>4583</td>\n",
       "      <td>1508.0</td>\n",
       "      <td>128.0</td>\n",
       "      <td>360.0</td>\n",
       "      <td>1.0</td>\n",
       "      <td>Rural</td>\n",
       "      <td>N</td>\n",
       "      <td>6091.0</td>\n",
       "    </tr>\n",
       "    <tr>\n",
       "      <th>2</th>\n",
       "      <td>Male</td>\n",
       "      <td>Yes</td>\n",
       "      <td>0</td>\n",
       "      <td>Graduate</td>\n",
       "      <td>Yes</td>\n",
       "      <td>3000</td>\n",
       "      <td>0.0</td>\n",
       "      <td>66.0</td>\n",
       "      <td>360.0</td>\n",
       "      <td>1.0</td>\n",
       "      <td>Urban</td>\n",
       "      <td>Y</td>\n",
       "      <td>3000.0</td>\n",
       "    </tr>\n",
       "    <tr>\n",
       "      <th>3</th>\n",
       "      <td>Male</td>\n",
       "      <td>Yes</td>\n",
       "      <td>0</td>\n",
       "      <td>Not Graduate</td>\n",
       "      <td>No</td>\n",
       "      <td>2583</td>\n",
       "      <td>2358.0</td>\n",
       "      <td>120.0</td>\n",
       "      <td>360.0</td>\n",
       "      <td>1.0</td>\n",
       "      <td>Urban</td>\n",
       "      <td>Y</td>\n",
       "      <td>4941.0</td>\n",
       "    </tr>\n",
       "    <tr>\n",
       "      <th>4</th>\n",
       "      <td>Male</td>\n",
       "      <td>No</td>\n",
       "      <td>0</td>\n",
       "      <td>Graduate</td>\n",
       "      <td>No</td>\n",
       "      <td>6000</td>\n",
       "      <td>0.0</td>\n",
       "      <td>141.0</td>\n",
       "      <td>360.0</td>\n",
       "      <td>1.0</td>\n",
       "      <td>Urban</td>\n",
       "      <td>Y</td>\n",
       "      <td>6000.0</td>\n",
       "    </tr>\n",
       "  </tbody>\n",
       "</table>\n",
       "</div>"
      ],
      "text/plain": [
       "  Gender Married Dependents     Education Self_Employed  ApplicantIncome  \\\n",
       "0   Male      No          0      Graduate            No             5849   \n",
       "1   Male     Yes          1      Graduate            No             4583   \n",
       "2   Male     Yes          0      Graduate           Yes             3000   \n",
       "3   Male     Yes          0  Not Graduate            No             2583   \n",
       "4   Male      No          0      Graduate            No             6000   \n",
       "\n",
       "   CoapplicantIncome  LoanAmount  Loan_Amount_Term  Credit_History  \\\n",
       "0                0.0       128.0             360.0             1.0   \n",
       "1             1508.0       128.0             360.0             1.0   \n",
       "2                0.0        66.0             360.0             1.0   \n",
       "3             2358.0       120.0             360.0             1.0   \n",
       "4                0.0       141.0             360.0             1.0   \n",
       "\n",
       "  Property_Area Loan_Status  Total_Income  \n",
       "0         Urban           Y        5849.0  \n",
       "1         Rural           N        6091.0  \n",
       "2         Urban           Y        3000.0  \n",
       "3         Urban           Y        4941.0  \n",
       "4         Urban           Y        6000.0  "
      ]
     },
     "execution_count": 20,
     "metadata": {},
     "output_type": "execute_result"
    }
   ],
   "source": [
    "df.head()"
   ]
  },
  {
   "cell_type": "markdown",
   "id": "15b5bd8f",
   "metadata": {},
   "source": [
    "A new column named Total_Income is added and it contains Addition of ApplicantIncome and CoapplicantIncome"
   ]
  },
  {
   "cell_type": "markdown",
   "id": "ce88fbcf",
   "metadata": {},
   "source": [
    "# EDA"
   ]
  },
  {
   "cell_type": "markdown",
   "id": "3fee920d",
   "metadata": {},
   "source": [
    "## Visualisation"
   ]
  },
  {
   "cell_type": "code",
   "execution_count": 21,
   "id": "5d78a3e7",
   "metadata": {},
   "outputs": [],
   "source": [
    "import seaborn as sns\n",
    "import matplotlib.pyplot as plt"
   ]
  },
  {
   "cell_type": "code",
   "execution_count": 22,
   "id": "8021038b",
   "metadata": {},
   "outputs": [
    {
     "name": "stdout",
     "output_type": "stream",
     "text": [
      "Y    422\n",
      "N    192\n",
      "Name: Loan_Status, dtype: int64\n"
     ]
    },
    {
     "data": {
      "image/png": "[encoded data removed]",
      "text/plain": [
       "<Figure size 432x288 with 1 Axes>"
      ]
     },
     "metadata": {
      "needs_background": "light"
     },
     "output_type": "display_data"
    }
   ],
   "source": [
    "# Target Variable: Loan Status\n",
    "\n",
    "ax=sns.countplot(x=\"Loan_Status\", data=df)\n",
    "print(df[\"Loan_Status\"].value_counts())"
   ]
  },
  {
   "cell_type": "markdown",
   "id": "c0d7d715",
   "metadata": {},
   "source": [
    "Loan status has count of Yes = 422 and No = 192  so has class imbalance."
   ]
  },
  {
   "cell_type": "markdown",
   "id": "2992d44a",
   "metadata": {},
   "source": [
    "## Distplot for numeric datatype"
   ]
  },
  {
   "cell_type": "code",
   "execution_count": 23,
   "id": "52fbe203",
   "metadata": {},
   "outputs": [
    {
     "name": "stderr",
     "output_type": "stream",
     "text": [
      "D:\\Anaconda\\lib\\site-packages\\seaborn\\distributions.py:2557: FutureWarning: `distplot` is a deprecated function and will be removed in a future version. Please adapt your code to use either `displot` (a figure-level function with similar flexibility) or `histplot` (an axes-level function for histograms).\n",
      "  warnings.warn(msg, FutureWarning)\n"
     ]
    },
    {
     "data": {
      "text/plain": [
       "<AxesSubplot:xlabel='ApplicantIncome', ylabel='Density'>"
      ]
     },
     "execution_count": 23,
     "metadata": {},
     "output_type": "execute_result"
    },
    {
     "data": {
      "image/png": "[encoded data removed]",
      "text/plain": [
       "<Figure size 432x288 with 1 Axes>"
      ]
     },
     "metadata": {
      "needs_background": "light"
     },
     "output_type": "display_data"
    }
   ],
   "source": [
    "sns.distplot(df['ApplicantIncome'], kde=True)"
   ]
  },
  {
   "cell_type": "markdown",
   "id": "dd2dbe47",
   "metadata": {},
   "source": [
    "Data is not equally distributed and has skewness"
   ]
  },
  {
   "cell_type": "code",
   "execution_count": 24,
   "id": "47f2b12a",
   "metadata": {},
   "outputs": [
    {
     "name": "stderr",
     "output_type": "stream",
     "text": [
      "D:\\Anaconda\\lib\\site-packages\\seaborn\\distributions.py:2557: FutureWarning: `distplot` is a deprecated function and will be removed in a future version. Please adapt your code to use either `displot` (a figure-level function with similar flexibility) or `histplot` (an axes-level function for histograms).\n",
      "  warnings.warn(msg, FutureWarning)\n"
     ]
    },
    {
     "data": {
      "text/plain": [
       "<AxesSubplot:xlabel='CoapplicantIncome', ylabel='Density'>"
      ]
     },
     "execution_count": 24,
     "metadata": {},
     "output_type": "execute_result"
    },
    {
     "data": {
      "image/png": "[encoded data removed]",
      "text/plain": [
       "<Figure size 432x288 with 1 Axes>"
      ]
     },
     "metadata": {
      "needs_background": "light"
     },
     "output_type": "display_data"
    }
   ],
   "source": [
    "sns.distplot(df['CoapplicantIncome'], kde=True)"
   ]
  },
  {
   "cell_type": "markdown",
   "id": "86dbabb0",
   "metadata": {},
   "source": [
    "Data is not equally distributed and has skewness"
   ]
  },
  {
   "cell_type": "code",
   "execution_count": 25,
   "id": "63b48300",
   "metadata": {},
   "outputs": [
    {
     "name": "stderr",
     "output_type": "stream",
     "text": [
      "D:\\Anaconda\\lib\\site-packages\\seaborn\\distributions.py:2557: FutureWarning: `distplot` is a deprecated function and will be removed in a future version. Please adapt your code to use either `displot` (a figure-level function with similar flexibility) or `histplot` (an axes-level function for histograms).\n",
      "  warnings.warn(msg, FutureWarning)\n"
     ]
    },
    {
     "data": {
      "text/plain": [
       "<AxesSubplot:xlabel='LoanAmount', ylabel='Density'>"
      ]
     },
     "execution_count": 25,
     "metadata": {},
     "output_type": "execute_result"
    },
    {
     "data": {
      "image/png": "[encoded data removed]",
      "text/plain": [
       "<Figure size 432x288 with 1 Axes>"
      ]
     },
     "metadata": {
      "needs_background": "light"
     },
     "output_type": "display_data"
    }
   ],
   "source": [
    "sns.distplot(df['LoanAmount'], kde=True)"
   ]
  },
  {
   "cell_type": "markdown",
   "id": "1b9e2446",
   "metadata": {},
   "source": [
    "Data is partially equally distributed and has skewness"
   ]
  },
  {
   "cell_type": "code",
   "execution_count": 26,
   "id": "2a65aabe",
   "metadata": {},
   "outputs": [
    {
     "name": "stderr",
     "output_type": "stream",
     "text": [
      "D:\\Anaconda\\lib\\site-packages\\seaborn\\distributions.py:2557: FutureWarning: `distplot` is a deprecated function and will be removed in a future version. Please adapt your code to use either `displot` (a figure-level function with similar flexibility) or `histplot` (an axes-level function for histograms).\n",
      "  warnings.warn(msg, FutureWarning)\n"
     ]
    },
    {
     "data": {
      "text/plain": [
       "<AxesSubplot:xlabel='Loan_Amount_Term', ylabel='Density'>"
      ]
     },
     "execution_count": 26,
     "metadata": {},
     "output_type": "execute_result"
    },
    {
     "data": {
      "image/png": "[encoded data removed]",
      "text/plain": [
       "<Figure size 432x288 with 1 Axes>"
      ]
     },
     "metadata": {
      "needs_background": "light"
     },
     "output_type": "display_data"
    }
   ],
   "source": [
    "sns.distplot(df['Loan_Amount_Term'], kde=True)"
   ]
  },
  {
   "cell_type": "markdown",
   "id": "0f57152b",
   "metadata": {},
   "source": [
    "Data is not equally distributed and has skewness"
   ]
  },
  {
   "cell_type": "code",
   "execution_count": 27,
   "id": "2d9805c3",
   "metadata": {},
   "outputs": [
    {
     "name": "stderr",
     "output_type": "stream",
     "text": [
      "D:\\Anaconda\\lib\\site-packages\\seaborn\\distributions.py:2557: FutureWarning: `distplot` is a deprecated function and will be removed in a future version. Please adapt your code to use either `displot` (a figure-level function with similar flexibility) or `histplot` (an axes-level function for histograms).\n",
      "  warnings.warn(msg, FutureWarning)\n"
     ]
    },
    {
     "data": {
      "text/plain": [
       "<AxesSubplot:xlabel='Credit_History', ylabel='Density'>"
      ]
     },
     "execution_count": 27,
     "metadata": {},
     "output_type": "execute_result"
    },
    {
     "data": {
      "image/png": "[encoded data removed]",
      "text/plain": [
       "<Figure size 432x288 with 1 Axes>"
      ]
     },
     "metadata": {
      "needs_background": "light"
     },
     "output_type": "display_data"
    }
   ],
   "source": [
    "sns.distplot(df['Credit_History'], kde=True)"
   ]
  },
  {
   "cell_type": "markdown",
   "id": "b5a96880",
   "metadata": {},
   "source": [
    "Data is not equally distributed and has skewness"
   ]
  },
  {
   "cell_type": "code",
   "execution_count": 28,
   "id": "0090092e",
   "metadata": {},
   "outputs": [
    {
     "name": "stderr",
     "output_type": "stream",
     "text": [
      "D:\\Anaconda\\lib\\site-packages\\seaborn\\distributions.py:2557: FutureWarning: `distplot` is a deprecated function and will be removed in a future version. Please adapt your code to use either `displot` (a figure-level function with similar flexibility) or `histplot` (an axes-level function for histograms).\n",
      "  warnings.warn(msg, FutureWarning)\n"
     ]
    },
    {
     "data": {
      "text/plain": [
       "<AxesSubplot:xlabel='Total_Income', ylabel='Density'>"
      ]
     },
     "execution_count": 28,
     "metadata": {},
     "output_type": "execute_result"
    },
    {
     "data": {
      "image/png": "[encoded data removed]",
      "text/plain": [
       "<Figure size 432x288 with 1 Axes>"
      ]
     },
     "metadata": {
      "needs_background": "light"
     },
     "output_type": "display_data"
    }
   ],
   "source": [
    "sns.distplot(df['Total_Income'], kde=True)"
   ]
  },
  {
   "cell_type": "markdown",
   "id": "9c26b0b4",
   "metadata": {},
   "source": [
    "Data is not equally distributed and has skewness"
   ]
  },
  {
   "cell_type": "markdown",
   "id": "8f317983",
   "metadata": {},
   "source": [
    "## Plotting  categorical data"
   ]
  },
  {
   "cell_type": "code",
   "execution_count": 29,
   "id": "8873539e",
   "metadata": {},
   "outputs": [
    {
     "name": "stdout",
     "output_type": "stream",
     "text": [
      "Male      502\n",
      "Female    112\n",
      "Name: Gender, dtype: int64\n"
     ]
    },
    {
     "data": {
      "image/png": "[encoded data removed]",
      "text/plain": [
       "<Figure size 432x288 with 1 Axes>"
      ]
     },
     "metadata": {
      "needs_background": "light"
     },
     "output_type": "display_data"
    }
   ],
   "source": [
    "ax=sns.countplot(x=\"Gender\", data=df)\n",
    "print(df[\"Gender\"].value_counts())"
   ]
  },
  {
   "cell_type": "markdown",
   "id": "d9e99e30",
   "metadata": {},
   "source": [
    "Male has higher count of 502 than female"
   ]
  },
  {
   "cell_type": "code",
   "execution_count": 131,
   "id": "e42f548e",
   "metadata": {},
   "outputs": [
    {
     "name": "stdout",
     "output_type": "stream",
     "text": [
      "Yes    401\n",
      "No     213\n",
      "Name: Married, dtype: int64\n"
     ]
    },
    {
     "data": {
      "image/png": "[encoded data removed]",
      "text/plain": [
       "<Figure size 432x288 with 1 Axes>"
      ]
     },
     "metadata": {
      "needs_background": "light"
     },
     "output_type": "display_data"
    }
   ],
   "source": [
    "ax=sns.countplot(x=\"Married\", data=df)\n",
    "print(df[\"Married\"].value_counts())"
   ]
  },
  {
   "cell_type": "markdown",
   "id": "6e02f5fc",
   "metadata": {},
   "source": [
    "Maximum Loan is taken by Married population."
   ]
  },
  {
   "cell_type": "code",
   "execution_count": 132,
   "id": "2102b1b2",
   "metadata": {},
   "outputs": [
    {
     "name": "stdout",
     "output_type": "stream",
     "text": [
      "0     360\n",
      "1     102\n",
      "2     101\n",
      "3+     51\n",
      "Name: Dependents, dtype: int64\n"
     ]
    },
    {
     "data": {
      "image/png": "[encoded data removed]",
      "text/plain": [
       "<Figure size 432x288 with 1 Axes>"
      ]
     },
     "metadata": {
      "needs_background": "light"
     },
     "output_type": "display_data"
    }
   ],
   "source": [
    "ax=sns.countplot(x=\"Dependents\", data=df)\n",
    "print(df[\"Dependents\"].value_counts())"
   ]
  },
  {
   "cell_type": "markdown",
   "id": "731c83ca",
   "metadata": {},
   "source": [
    "Population taking loan with zero dependents is higher in count."
   ]
  },
  {
   "cell_type": "code",
   "execution_count": 133,
   "id": "6db27982",
   "metadata": {},
   "outputs": [
    {
     "name": "stdout",
     "output_type": "stream",
     "text": [
      "Graduate        480\n",
      "Not Graduate    134\n",
      "Name: Education, dtype: int64\n"
     ]
    },
    {
     "data": {
      "image/png": "[encoded data removed]",
      "text/plain": [
       "<Figure size 432x288 with 1 Axes>"
      ]
     },
     "metadata": {
      "needs_background": "light"
     },
     "output_type": "display_data"
    }
   ],
   "source": [
    "ax=sns.countplot(x=\"Education\", data=df)\n",
    "print(df[\"Education\"].value_counts())"
   ]
  },
  {
   "cell_type": "markdown",
   "id": "cbd25512",
   "metadata": {},
   "source": [
    "Population taking loan with Graduation in Education are higher in count."
   ]
  },
  {
   "cell_type": "code",
   "execution_count": 134,
   "id": "35fc3209",
   "metadata": {},
   "outputs": [
    {
     "name": "stdout",
     "output_type": "stream",
     "text": [
      "No     532\n",
      "Yes     82\n",
      "Name: Self_Employed, dtype: int64\n"
     ]
    },
    {
     "data": {
      "image/png": "[encoded data removed]",
      "text/plain": [
       "<Figure size 432x288 with 1 Axes>"
      ]
     },
     "metadata": {
      "needs_background": "light"
     },
     "output_type": "display_data"
    }
   ],
   "source": [
    "ax=sns.countplot(x=\"Self_Employed\", data=df)\n",
    "print(df[\"Self_Employed\"].value_counts())"
   ]
  },
  {
   "cell_type": "markdown",
   "id": "26be5fb5",
   "metadata": {},
   "source": [
    "Population who are not self_employed are taking loan have higher count."
   ]
  },
  {
   "cell_type": "code",
   "execution_count": 135,
   "id": "aad7a208",
   "metadata": {},
   "outputs": [
    {
     "name": "stdout",
     "output_type": "stream",
     "text": [
      "Semiurban    233\n",
      "Urban        202\n",
      "Rural        179\n",
      "Name: Property_Area, dtype: int64\n"
     ]
    },
    {
     "data": {
      "image/png": "[encoded data removed]",
      "text/plain": [
       "<Figure size 432x288 with 1 Axes>"
      ]
     },
     "metadata": {
      "needs_background": "light"
     },
     "output_type": "display_data"
    }
   ],
   "source": [
    "ax=sns.countplot(x=\"Property_Area\", data=df)\n",
    "print(df[\"Property_Area\"].value_counts())"
   ]
  },
  {
   "cell_type": "markdown",
   "id": "e1c1fe32",
   "metadata": {},
   "source": [
    "Semiurban population count is more than rural and urban  "
   ]
  },
  {
   "cell_type": "code",
   "execution_count": 30,
   "id": "e2a6b468",
   "metadata": {},
   "outputs": [
    {
     "data": {
      "text/plain": [
       "<AxesSubplot:xlabel='count', ylabel='Credit_History'>"
      ]
     },
     "execution_count": 30,
     "metadata": {},
     "output_type": "execute_result"
    },
    {
     "data": {
      "image/png": "[encoded data removed]",
      "text/plain": [
       "<Figure size 432x288 with 1 Axes>"
      ]
     },
     "metadata": {
      "needs_background": "light"
     },
     "output_type": "display_data"
    }
   ],
   "source": [
    "sns.countplot(y='Credit_History', hue='Loan_Status', data = df)"
   ]
  },
  {
   "cell_type": "markdown",
   "id": "3da0d20e",
   "metadata": {},
   "source": [
    "Poeple with Loan status as Yes have Credit history count of 350"
   ]
  },
  {
   "cell_type": "code",
   "execution_count": 137,
   "id": "899b0e77",
   "metadata": {},
   "outputs": [
    {
     "data": {
      "image/png": "[encoded data removed]",
      "text/plain": [
       "<Figure size 432x288 with 1 Axes>"
      ]
     },
     "metadata": {
      "needs_background": "light"
     },
     "output_type": "display_data"
    }
   ],
   "source": [
    "g=sns.histplot(x=\"Loan_Status\",y=\"Married\",data=df)"
   ]
  },
  {
   "cell_type": "markdown",
   "id": "6db02cff",
   "metadata": {},
   "source": [
    "Maximum married people have taken loan."
   ]
  },
  {
   "cell_type": "code",
   "execution_count": 32,
   "id": "ea66cf19",
   "metadata": {},
   "outputs": [
    {
     "data": {
      "text/plain": [
       "<AxesSubplot:xlabel='count', ylabel='Self_Employed'>"
      ]
     },
     "execution_count": 32,
     "metadata": {},
     "output_type": "execute_result"
    },
    {
     "data": {
      "image/png": "[encoded data removed]",
      "text/plain": [
       "<Figure size 432x288 with 1 Axes>"
      ]
     },
     "metadata": {
      "needs_background": "light"
     },
     "output_type": "display_data"
    }
   ],
   "source": [
    "sns.countplot(y='Self_Employed', hue='Loan_Status', data = df)"
   ]
  },
  {
   "cell_type": "markdown",
   "id": "2bb5f197",
   "metadata": {},
   "source": [
    "Maximum people who are not self employed have taken loan."
   ]
  },
  {
   "cell_type": "code",
   "execution_count": 33,
   "id": "d3b61537",
   "metadata": {},
   "outputs": [
    {
     "data": {
      "text/plain": [
       "<AxesSubplot:xlabel='count', ylabel='Property_Area'>"
      ]
     },
     "execution_count": 33,
     "metadata": {},
     "output_type": "execute_result"
    },
    {
     "data": {
      "image/png": "[encoded data removed]",
      "text/plain": [
       "<Figure size 432x288 with 1 Axes>"
      ]
     },
     "metadata": {
      "needs_background": "light"
     },
     "output_type": "display_data"
    }
   ],
   "source": [
    "sns.countplot(y='Property_Area', hue='Loan_Status', data = df)"
   ]
  },
  {
   "cell_type": "markdown",
   "id": "4d3ea290",
   "metadata": {},
   "source": [
    "Maximum people living in Semiurban have taken loan in higher count."
   ]
  },
  {
   "cell_type": "markdown",
   "id": "3d429209",
   "metadata": {},
   "source": [
    "## Label Encoding:"
   ]
  },
  {
   "cell_type": "code",
   "execution_count": 34,
   "id": "377f0dc5",
   "metadata": {},
   "outputs": [
    {
     "name": "stderr",
     "output_type": "stream",
     "text": [
      "D:\\Anaconda\\lib\\site-packages\\sklearn\\utils\\validation.py:63: DataConversionWarning: A column-vector y was passed when a 1d array was expected. Please change the shape of y to (n_samples, ), for example using ravel().\n",
      "  return f(*args, **kwargs)\n"
     ]
    }
   ],
   "source": [
    "# Label Encoding for object to numeric datatype:\n",
    "from sklearn.preprocessing import LabelEncoder\n",
    "en= LabelEncoder()\n",
    "for i in df.columns:\n",
    "    if df[i].dtypes==\"object\":\n",
    "        df[i]=en.fit_transform(df[i].values.reshape(-1,1))"
   ]
  },
  {
   "cell_type": "code",
   "execution_count": 140,
   "id": "bd95d721",
   "metadata": {},
   "outputs": [
    {
     "data": {
      "text/html": [
       "<div>\n",
       "<style scoped>\n",
       "    .dataframe tbody tr th:only-of-type {\n",
       "        vertical-align: middle;\n",
       "    }\n",
       "\n",
       "    .dataframe tbody tr th {\n",
       "        vertical-align: top;\n",
       "    }\n",
       "\n",
       "    .dataframe thead th {\n",
       "        text-align: right;\n",
       "    }\n",
       "</style>\n",
       "<table border=\"1\" class=\"dataframe\">\n",
       "  <thead>\n",
       "    <tr style=\"text-align: right;\">\n",
       "      <th></th>\n",
       "      <th>Gender</th>\n",
       "      <th>Married</th>\n",
       "      <th>Dependents</th>\n",
       "      <th>Education</th>\n",
       "      <th>Self_Employed</th>\n",
       "      <th>ApplicantIncome</th>\n",
       "      <th>CoapplicantIncome</th>\n",
       "      <th>LoanAmount</th>\n",
       "      <th>Loan_Amount_Term</th>\n",
       "      <th>Credit_History</th>\n",
       "      <th>Property_Area</th>\n",
       "      <th>Loan_Status</th>\n",
       "      <th>Total_Income</th>\n",
       "    </tr>\n",
       "  </thead>\n",
       "  <tbody>\n",
       "    <tr>\n",
       "      <th>0</th>\n",
       "      <td>1</td>\n",
       "      <td>0</td>\n",
       "      <td>0</td>\n",
       "      <td>0</td>\n",
       "      <td>0</td>\n",
       "      <td>5849</td>\n",
       "      <td>0.0</td>\n",
       "      <td>128.0</td>\n",
       "      <td>360.0</td>\n",
       "      <td>1.0</td>\n",
       "      <td>2</td>\n",
       "      <td>1</td>\n",
       "      <td>5849.0</td>\n",
       "    </tr>\n",
       "    <tr>\n",
       "      <th>1</th>\n",
       "      <td>1</td>\n",
       "      <td>1</td>\n",
       "      <td>1</td>\n",
       "      <td>0</td>\n",
       "      <td>0</td>\n",
       "      <td>4583</td>\n",
       "      <td>1508.0</td>\n",
       "      <td>128.0</td>\n",
       "      <td>360.0</td>\n",
       "      <td>1.0</td>\n",
       "      <td>0</td>\n",
       "      <td>0</td>\n",
       "      <td>6091.0</td>\n",
       "    </tr>\n",
       "    <tr>\n",
       "      <th>2</th>\n",
       "      <td>1</td>\n",
       "      <td>1</td>\n",
       "      <td>0</td>\n",
       "      <td>0</td>\n",
       "      <td>1</td>\n",
       "      <td>3000</td>\n",
       "      <td>0.0</td>\n",
       "      <td>66.0</td>\n",
       "      <td>360.0</td>\n",
       "      <td>1.0</td>\n",
       "      <td>2</td>\n",
       "      <td>1</td>\n",
       "      <td>3000.0</td>\n",
       "    </tr>\n",
       "    <tr>\n",
       "      <th>3</th>\n",
       "      <td>1</td>\n",
       "      <td>1</td>\n",
       "      <td>0</td>\n",
       "      <td>1</td>\n",
       "      <td>0</td>\n",
       "      <td>2583</td>\n",
       "      <td>2358.0</td>\n",
       "      <td>120.0</td>\n",
       "      <td>360.0</td>\n",
       "      <td>1.0</td>\n",
       "      <td>2</td>\n",
       "      <td>1</td>\n",
       "      <td>4941.0</td>\n",
       "    </tr>\n",
       "    <tr>\n",
       "      <th>4</th>\n",
       "      <td>1</td>\n",
       "      <td>0</td>\n",
       "      <td>0</td>\n",
       "      <td>0</td>\n",
       "      <td>0</td>\n",
       "      <td>6000</td>\n",
       "      <td>0.0</td>\n",
       "      <td>141.0</td>\n",
       "      <td>360.0</td>\n",
       "      <td>1.0</td>\n",
       "      <td>2</td>\n",
       "      <td>1</td>\n",
       "      <td>6000.0</td>\n",
       "    </tr>\n",
       "  </tbody>\n",
       "</table>\n",
       "</div>"
      ],
      "text/plain": [
       "   Gender  Married  Dependents  Education  Self_Employed  ApplicantIncome  \\\n",
       "0       1        0           0          0              0             5849   \n",
       "1       1        1           1          0              0             4583   \n",
       "2       1        1           0          0              1             3000   \n",
       "3       1        1           0          1              0             2583   \n",
       "4       1        0           0          0              0             6000   \n",
       "\n",
       "   CoapplicantIncome  LoanAmount  Loan_Amount_Term  Credit_History  \\\n",
       "0                0.0       128.0             360.0             1.0   \n",
       "1             1508.0       128.0             360.0             1.0   \n",
       "2                0.0        66.0             360.0             1.0   \n",
       "3             2358.0       120.0             360.0             1.0   \n",
       "4                0.0       141.0             360.0             1.0   \n",
       "\n",
       "   Property_Area  Loan_Status  Total_Income  \n",
       "0              2            1        5849.0  \n",
       "1              0            0        6091.0  \n",
       "2              2            1        3000.0  \n",
       "3              2            1        4941.0  \n",
       "4              2            1        6000.0  "
      ]
     },
     "execution_count": 140,
     "metadata": {},
     "output_type": "execute_result"
    }
   ],
   "source": [
    "df.head()"
   ]
  },
  {
   "cell_type": "markdown",
   "id": "e8dd354b",
   "metadata": {},
   "source": [
    "Object datatype encode to numeric datatype."
   ]
  },
  {
   "cell_type": "markdown",
   "id": "65805859",
   "metadata": {},
   "source": [
    "## Using SMOTE for Class Imbalance:"
   ]
  },
  {
   "cell_type": "code",
   "execution_count": 35,
   "id": "94693cc1",
   "metadata": {},
   "outputs": [
    {
     "name": "stdout",
     "output_type": "stream",
     "text": [
      "Requirement already satisfied: scikit-learn in d:\\anaconda\\lib\\site-packages (0.24.1)\n",
      "Requirement already satisfied: scipy>=0.19.1 in d:\\anaconda\\lib\\site-packages (from scikit-learn) (1.6.2)\n",
      "Requirement already satisfied: threadpoolctl>=2.0.0 in d:\\anaconda\\lib\\site-packages (from scikit-learn) (2.1.0)\n",
      "Requirement already satisfied: numpy>=1.13.3 in d:\\anaconda\\lib\\site-packages (from scikit-learn) (1.20.1)\n",
      "Requirement already satisfied: joblib>=0.11 in d:\\anaconda\\lib\\site-packages (from scikit-learn) (1.0.1)\n",
      "Requirement already satisfied: imbalanced-learn in d:\\anaconda\\lib\\site-packages (0.8.1)\n",
      "Requirement already satisfied: numpy>=1.13.3 in d:\\anaconda\\lib\\site-packages (from imbalanced-learn) (1.20.1)\n",
      "Requirement already satisfied: joblib>=0.11 in d:\\anaconda\\lib\\site-packages (from imbalanced-learn) (1.0.1)\n",
      "Requirement already satisfied: scikit-learn>=0.24 in d:\\anaconda\\lib\\site-packages (from imbalanced-learn) (0.24.1)\n",
      "Requirement already satisfied: scipy>=0.19.1 in d:\\anaconda\\lib\\site-packages (from imbalanced-learn) (1.6.2)\n",
      "Requirement already satisfied: threadpoolctl>=2.0.0 in d:\\anaconda\\lib\\site-packages (from scikit-learn>=0.24->imbalanced-learn) (2.1.0)\n"
     ]
    }
   ],
   "source": [
    "import sklearn\n",
    "!pip install scikit-learn\n",
    "!pip install -U imbalanced-learn"
   ]
  },
  {
   "cell_type": "code",
   "execution_count": 36,
   "id": "8645db6a",
   "metadata": {},
   "outputs": [],
   "source": [
    "# SMOTE method :\n",
    "from imblearn.over_sampling import SMOTE\n",
    "dx=df.drop(['Loan_Status'], axis=1)\n",
    "dy=df['Loan_Status'].values\n",
    "smt=SMOTE()\n",
    "trainx,trainy=smt.fit_resample(dx,dy)"
   ]
  },
  {
   "cell_type": "markdown",
   "id": "4c157494",
   "metadata": {},
   "source": [
    "SMOTE Technique helped to balance the target class."
   ]
  },
  {
   "cell_type": "code",
   "execution_count": 37,
   "id": "d1c70cc7",
   "metadata": {},
   "outputs": [
    {
     "name": "stderr",
     "output_type": "stream",
     "text": [
      "D:\\Anaconda\\lib\\site-packages\\seaborn\\_decorators.py:36: FutureWarning: Pass the following variable as a keyword arg: x. From version 0.12, the only valid positional argument will be `data`, and passing other arguments without an explicit keyword will result in an error or misinterpretation.\n",
      "  warnings.warn(\n"
     ]
    },
    {
     "data": {
      "image/png": "[encoded data removed]",
      "text/plain": [
       "<Figure size 432x288 with 1 Axes>"
      ]
     },
     "metadata": {
      "needs_background": "light"
     },
     "output_type": "display_data"
    }
   ],
   "source": [
    "ax=sns.countplot(trainy)"
   ]
  },
  {
   "cell_type": "markdown",
   "id": "31974741",
   "metadata": {},
   "source": [
    "Class Imbalance is corrected."
   ]
  },
  {
   "cell_type": "code",
   "execution_count": 38,
   "id": "7a784cc7",
   "metadata": {},
   "outputs": [
    {
     "data": {
      "text/plain": [
       "0    422\n",
       "1    422\n",
       "dtype: int64"
      ]
     },
     "execution_count": 38,
     "metadata": {},
     "output_type": "execute_result"
    }
   ],
   "source": [
    "Loan_Status=pd.DataFrame(trainy)\n",
    "Loan_Status.value_counts()"
   ]
  },
  {
   "cell_type": "markdown",
   "id": "4eac1495",
   "metadata": {},
   "source": [
    "Now count is 422 for both the value of 0 and 1."
   ]
  },
  {
   "cell_type": "code",
   "execution_count": 39,
   "id": "de8de057",
   "metadata": {},
   "outputs": [
    {
     "data": {
      "text/html": [
       "<div>\n",
       "<style scoped>\n",
       "    .dataframe tbody tr th:only-of-type {\n",
       "        vertical-align: middle;\n",
       "    }\n",
       "\n",
       "    .dataframe tbody tr th {\n",
       "        vertical-align: top;\n",
       "    }\n",
       "\n",
       "    .dataframe thead th {\n",
       "        text-align: right;\n",
       "    }\n",
       "</style>\n",
       "<table border=\"1\" class=\"dataframe\">\n",
       "  <thead>\n",
       "    <tr style=\"text-align: right;\">\n",
       "      <th></th>\n",
       "      <th>Gender</th>\n",
       "      <th>Married</th>\n",
       "      <th>Dependents</th>\n",
       "      <th>Education</th>\n",
       "      <th>Self_Employed</th>\n",
       "      <th>ApplicantIncome</th>\n",
       "      <th>CoapplicantIncome</th>\n",
       "      <th>LoanAmount</th>\n",
       "      <th>Loan_Amount_Term</th>\n",
       "      <th>Credit_History</th>\n",
       "      <th>Property_Area</th>\n",
       "      <th>Loan_Status</th>\n",
       "      <th>Total_Income</th>\n",
       "      <th>Loan_Status_new</th>\n",
       "    </tr>\n",
       "  </thead>\n",
       "  <tbody>\n",
       "    <tr>\n",
       "      <th>0</th>\n",
       "      <td>1</td>\n",
       "      <td>0</td>\n",
       "      <td>0</td>\n",
       "      <td>0</td>\n",
       "      <td>0</td>\n",
       "      <td>5849</td>\n",
       "      <td>0.0</td>\n",
       "      <td>128.0</td>\n",
       "      <td>360.0</td>\n",
       "      <td>1.0</td>\n",
       "      <td>2</td>\n",
       "      <td>1</td>\n",
       "      <td>5849.0</td>\n",
       "      <td>1</td>\n",
       "    </tr>\n",
       "    <tr>\n",
       "      <th>1</th>\n",
       "      <td>1</td>\n",
       "      <td>1</td>\n",
       "      <td>1</td>\n",
       "      <td>0</td>\n",
       "      <td>0</td>\n",
       "      <td>4583</td>\n",
       "      <td>1508.0</td>\n",
       "      <td>128.0</td>\n",
       "      <td>360.0</td>\n",
       "      <td>1.0</td>\n",
       "      <td>0</td>\n",
       "      <td>0</td>\n",
       "      <td>6091.0</td>\n",
       "      <td>0</td>\n",
       "    </tr>\n",
       "    <tr>\n",
       "      <th>2</th>\n",
       "      <td>1</td>\n",
       "      <td>1</td>\n",
       "      <td>0</td>\n",
       "      <td>0</td>\n",
       "      <td>1</td>\n",
       "      <td>3000</td>\n",
       "      <td>0.0</td>\n",
       "      <td>66.0</td>\n",
       "      <td>360.0</td>\n",
       "      <td>1.0</td>\n",
       "      <td>2</td>\n",
       "      <td>1</td>\n",
       "      <td>3000.0</td>\n",
       "      <td>1</td>\n",
       "    </tr>\n",
       "    <tr>\n",
       "      <th>3</th>\n",
       "      <td>1</td>\n",
       "      <td>1</td>\n",
       "      <td>0</td>\n",
       "      <td>1</td>\n",
       "      <td>0</td>\n",
       "      <td>2583</td>\n",
       "      <td>2358.0</td>\n",
       "      <td>120.0</td>\n",
       "      <td>360.0</td>\n",
       "      <td>1.0</td>\n",
       "      <td>2</td>\n",
       "      <td>1</td>\n",
       "      <td>4941.0</td>\n",
       "      <td>1</td>\n",
       "    </tr>\n",
       "    <tr>\n",
       "      <th>4</th>\n",
       "      <td>1</td>\n",
       "      <td>0</td>\n",
       "      <td>0</td>\n",
       "      <td>0</td>\n",
       "      <td>0</td>\n",
       "      <td>6000</td>\n",
       "      <td>0.0</td>\n",
       "      <td>141.0</td>\n",
       "      <td>360.0</td>\n",
       "      <td>1.0</td>\n",
       "      <td>2</td>\n",
       "      <td>1</td>\n",
       "      <td>6000.0</td>\n",
       "      <td>1</td>\n",
       "    </tr>\n",
       "  </tbody>\n",
       "</table>\n",
       "</div>"
      ],
      "text/plain": [
       "   Gender  Married  Dependents  Education  Self_Employed  ApplicantIncome  \\\n",
       "0       1        0           0          0              0             5849   \n",
       "1       1        1           1          0              0             4583   \n",
       "2       1        1           0          0              1             3000   \n",
       "3       1        1           0          1              0             2583   \n",
       "4       1        0           0          0              0             6000   \n",
       "\n",
       "   CoapplicantIncome  LoanAmount  Loan_Amount_Term  Credit_History  \\\n",
       "0                0.0       128.0             360.0             1.0   \n",
       "1             1508.0       128.0             360.0             1.0   \n",
       "2                0.0        66.0             360.0             1.0   \n",
       "3             2358.0       120.0             360.0             1.0   \n",
       "4                0.0       141.0             360.0             1.0   \n",
       "\n",
       "   Property_Area  Loan_Status  Total_Income  Loan_Status_new  \n",
       "0              2            1        5849.0                1  \n",
       "1              0            0        6091.0                0  \n",
       "2              2            1        3000.0                1  \n",
       "3              2            1        4941.0                1  \n",
       "4              2            1        6000.0                1  "
      ]
     },
     "execution_count": 39,
     "metadata": {},
     "output_type": "execute_result"
    }
   ],
   "source": [
    "# Adding New value of Loan_Status in the df dataset as Attritions\n",
    "\n",
    "df['Loan_Status_new']=Loan_Status\n",
    "df.head()"
   ]
  },
  {
   "cell_type": "markdown",
   "id": "e2a4abde",
   "metadata": {},
   "source": [
    "New column named Loan_Status_new is added"
   ]
  },
  {
   "cell_type": "markdown",
   "id": "4a21fc69",
   "metadata": {},
   "source": [
    "## Dropping old value of Loan_Status"
   ]
  },
  {
   "cell_type": "code",
   "execution_count": 40,
   "id": "10eff3cb",
   "metadata": {},
   "outputs": [
    {
     "data": {
      "text/html": [
       "<div>\n",
       "<style scoped>\n",
       "    .dataframe tbody tr th:only-of-type {\n",
       "        vertical-align: middle;\n",
       "    }\n",
       "\n",
       "    .dataframe tbody tr th {\n",
       "        vertical-align: top;\n",
       "    }\n",
       "\n",
       "    .dataframe thead th {\n",
       "        text-align: right;\n",
       "    }\n",
       "</style>\n",
       "<table border=\"1\" class=\"dataframe\">\n",
       "  <thead>\n",
       "    <tr style=\"text-align: right;\">\n",
       "      <th></th>\n",
       "      <th>Gender</th>\n",
       "      <th>Married</th>\n",
       "      <th>Dependents</th>\n",
       "      <th>Education</th>\n",
       "      <th>Self_Employed</th>\n",
       "      <th>ApplicantIncome</th>\n",
       "      <th>CoapplicantIncome</th>\n",
       "      <th>LoanAmount</th>\n",
       "      <th>Loan_Amount_Term</th>\n",
       "      <th>Credit_History</th>\n",
       "      <th>Property_Area</th>\n",
       "      <th>Total_Income</th>\n",
       "      <th>Loan_Status_new</th>\n",
       "    </tr>\n",
       "  </thead>\n",
       "  <tbody>\n",
       "    <tr>\n",
       "      <th>0</th>\n",
       "      <td>1</td>\n",
       "      <td>0</td>\n",
       "      <td>0</td>\n",
       "      <td>0</td>\n",
       "      <td>0</td>\n",
       "      <td>5849</td>\n",
       "      <td>0.0</td>\n",
       "      <td>128.0</td>\n",
       "      <td>360.0</td>\n",
       "      <td>1.0</td>\n",
       "      <td>2</td>\n",
       "      <td>5849.0</td>\n",
       "      <td>1</td>\n",
       "    </tr>\n",
       "    <tr>\n",
       "      <th>1</th>\n",
       "      <td>1</td>\n",
       "      <td>1</td>\n",
       "      <td>1</td>\n",
       "      <td>0</td>\n",
       "      <td>0</td>\n",
       "      <td>4583</td>\n",
       "      <td>1508.0</td>\n",
       "      <td>128.0</td>\n",
       "      <td>360.0</td>\n",
       "      <td>1.0</td>\n",
       "      <td>0</td>\n",
       "      <td>6091.0</td>\n",
       "      <td>0</td>\n",
       "    </tr>\n",
       "    <tr>\n",
       "      <th>2</th>\n",
       "      <td>1</td>\n",
       "      <td>1</td>\n",
       "      <td>0</td>\n",
       "      <td>0</td>\n",
       "      <td>1</td>\n",
       "      <td>3000</td>\n",
       "      <td>0.0</td>\n",
       "      <td>66.0</td>\n",
       "      <td>360.0</td>\n",
       "      <td>1.0</td>\n",
       "      <td>2</td>\n",
       "      <td>3000.0</td>\n",
       "      <td>1</td>\n",
       "    </tr>\n",
       "    <tr>\n",
       "      <th>3</th>\n",
       "      <td>1</td>\n",
       "      <td>1</td>\n",
       "      <td>0</td>\n",
       "      <td>1</td>\n",
       "      <td>0</td>\n",
       "      <td>2583</td>\n",
       "      <td>2358.0</td>\n",
       "      <td>120.0</td>\n",
       "      <td>360.0</td>\n",
       "      <td>1.0</td>\n",
       "      <td>2</td>\n",
       "      <td>4941.0</td>\n",
       "      <td>1</td>\n",
       "    </tr>\n",
       "    <tr>\n",
       "      <th>4</th>\n",
       "      <td>1</td>\n",
       "      <td>0</td>\n",
       "      <td>0</td>\n",
       "      <td>0</td>\n",
       "      <td>0</td>\n",
       "      <td>6000</td>\n",
       "      <td>0.0</td>\n",
       "      <td>141.0</td>\n",
       "      <td>360.0</td>\n",
       "      <td>1.0</td>\n",
       "      <td>2</td>\n",
       "      <td>6000.0</td>\n",
       "      <td>1</td>\n",
       "    </tr>\n",
       "  </tbody>\n",
       "</table>\n",
       "</div>"
      ],
      "text/plain": [
       "   Gender  Married  Dependents  Education  Self_Employed  ApplicantIncome  \\\n",
       "0       1        0           0          0              0             5849   \n",
       "1       1        1           1          0              0             4583   \n",
       "2       1        1           0          0              1             3000   \n",
       "3       1        1           0          1              0             2583   \n",
       "4       1        0           0          0              0             6000   \n",
       "\n",
       "   CoapplicantIncome  LoanAmount  Loan_Amount_Term  Credit_History  \\\n",
       "0                0.0       128.0             360.0             1.0   \n",
       "1             1508.0       128.0             360.0             1.0   \n",
       "2                0.0        66.0             360.0             1.0   \n",
       "3             2358.0       120.0             360.0             1.0   \n",
       "4                0.0       141.0             360.0             1.0   \n",
       "\n",
       "   Property_Area  Total_Income  Loan_Status_new  \n",
       "0              2        5849.0                1  \n",
       "1              0        6091.0                0  \n",
       "2              2        3000.0                1  \n",
       "3              2        4941.0                1  \n",
       "4              2        6000.0                1  "
      ]
     },
     "execution_count": 40,
     "metadata": {},
     "output_type": "execute_result"
    }
   ],
   "source": [
    "df.drop(['Loan_Status'],axis=1,inplace=True)\n",
    "df.head()"
   ]
  },
  {
   "cell_type": "markdown",
   "id": "74ecaa44",
   "metadata": {},
   "source": [
    "Dropped Loan_Status column"
   ]
  },
  {
   "cell_type": "markdown",
   "id": "feb1dbb7",
   "metadata": {},
   "source": [
    "## Describing the dataset"
   ]
  },
  {
   "cell_type": "code",
   "execution_count": 41,
   "id": "559c007f",
   "metadata": {},
   "outputs": [
    {
     "data": {
      "text/html": [
       "<div>\n",
       "<style scoped>\n",
       "    .dataframe tbody tr th:only-of-type {\n",
       "        vertical-align: middle;\n",
       "    }\n",
       "\n",
       "    .dataframe tbody tr th {\n",
       "        vertical-align: top;\n",
       "    }\n",
       "\n",
       "    .dataframe thead th {\n",
       "        text-align: right;\n",
       "    }\n",
       "</style>\n",
       "<table border=\"1\" class=\"dataframe\">\n",
       "  <thead>\n",
       "    <tr style=\"text-align: right;\">\n",
       "      <th></th>\n",
       "      <th>Gender</th>\n",
       "      <th>Married</th>\n",
       "      <th>Dependents</th>\n",
       "      <th>Education</th>\n",
       "      <th>Self_Employed</th>\n",
       "      <th>ApplicantIncome</th>\n",
       "      <th>CoapplicantIncome</th>\n",
       "      <th>LoanAmount</th>\n",
       "      <th>Loan_Amount_Term</th>\n",
       "      <th>Credit_History</th>\n",
       "      <th>Property_Area</th>\n",
       "      <th>Total_Income</th>\n",
       "      <th>Loan_Status_new</th>\n",
       "    </tr>\n",
       "  </thead>\n",
       "  <tbody>\n",
       "    <tr>\n",
       "      <th>count</th>\n",
       "      <td>614.000000</td>\n",
       "      <td>614.000000</td>\n",
       "      <td>614.000000</td>\n",
       "      <td>614.000000</td>\n",
       "      <td>614.000000</td>\n",
       "      <td>614.000000</td>\n",
       "      <td>614.000000</td>\n",
       "      <td>614.000000</td>\n",
       "      <td>614.000000</td>\n",
       "      <td>614.000000</td>\n",
       "      <td>614.000000</td>\n",
       "      <td>614.000000</td>\n",
       "      <td>614.000000</td>\n",
       "    </tr>\n",
       "    <tr>\n",
       "      <th>mean</th>\n",
       "      <td>0.817590</td>\n",
       "      <td>0.653094</td>\n",
       "      <td>0.744300</td>\n",
       "      <td>0.218241</td>\n",
       "      <td>0.133550</td>\n",
       "      <td>5403.459283</td>\n",
       "      <td>1621.245798</td>\n",
       "      <td>145.752443</td>\n",
       "      <td>342.410423</td>\n",
       "      <td>0.842199</td>\n",
       "      <td>1.037459</td>\n",
       "      <td>7024.705081</td>\n",
       "      <td>0.687296</td>\n",
       "    </tr>\n",
       "    <tr>\n",
       "      <th>std</th>\n",
       "      <td>0.386497</td>\n",
       "      <td>0.476373</td>\n",
       "      <td>1.009623</td>\n",
       "      <td>0.413389</td>\n",
       "      <td>0.340446</td>\n",
       "      <td>6109.041673</td>\n",
       "      <td>2926.248369</td>\n",
       "      <td>84.107233</td>\n",
       "      <td>64.428629</td>\n",
       "      <td>0.349681</td>\n",
       "      <td>0.787482</td>\n",
       "      <td>6458.663872</td>\n",
       "      <td>0.463973</td>\n",
       "    </tr>\n",
       "    <tr>\n",
       "      <th>min</th>\n",
       "      <td>0.000000</td>\n",
       "      <td>0.000000</td>\n",
       "      <td>0.000000</td>\n",
       "      <td>0.000000</td>\n",
       "      <td>0.000000</td>\n",
       "      <td>150.000000</td>\n",
       "      <td>0.000000</td>\n",
       "      <td>9.000000</td>\n",
       "      <td>12.000000</td>\n",
       "      <td>0.000000</td>\n",
       "      <td>0.000000</td>\n",
       "      <td>1442.000000</td>\n",
       "      <td>0.000000</td>\n",
       "    </tr>\n",
       "    <tr>\n",
       "      <th>25%</th>\n",
       "      <td>1.000000</td>\n",
       "      <td>0.000000</td>\n",
       "      <td>0.000000</td>\n",
       "      <td>0.000000</td>\n",
       "      <td>0.000000</td>\n",
       "      <td>2877.500000</td>\n",
       "      <td>0.000000</td>\n",
       "      <td>100.250000</td>\n",
       "      <td>360.000000</td>\n",
       "      <td>1.000000</td>\n",
       "      <td>0.000000</td>\n",
       "      <td>4166.000000</td>\n",
       "      <td>0.000000</td>\n",
       "    </tr>\n",
       "    <tr>\n",
       "      <th>50%</th>\n",
       "      <td>1.000000</td>\n",
       "      <td>1.000000</td>\n",
       "      <td>0.000000</td>\n",
       "      <td>0.000000</td>\n",
       "      <td>0.000000</td>\n",
       "      <td>3812.500000</td>\n",
       "      <td>1188.500000</td>\n",
       "      <td>128.000000</td>\n",
       "      <td>360.000000</td>\n",
       "      <td>1.000000</td>\n",
       "      <td>1.000000</td>\n",
       "      <td>5416.500000</td>\n",
       "      <td>1.000000</td>\n",
       "    </tr>\n",
       "    <tr>\n",
       "      <th>75%</th>\n",
       "      <td>1.000000</td>\n",
       "      <td>1.000000</td>\n",
       "      <td>1.000000</td>\n",
       "      <td>0.000000</td>\n",
       "      <td>0.000000</td>\n",
       "      <td>5795.000000</td>\n",
       "      <td>2297.250000</td>\n",
       "      <td>164.750000</td>\n",
       "      <td>360.000000</td>\n",
       "      <td>1.000000</td>\n",
       "      <td>2.000000</td>\n",
       "      <td>7521.750000</td>\n",
       "      <td>1.000000</td>\n",
       "    </tr>\n",
       "    <tr>\n",
       "      <th>max</th>\n",
       "      <td>1.000000</td>\n",
       "      <td>1.000000</td>\n",
       "      <td>3.000000</td>\n",
       "      <td>1.000000</td>\n",
       "      <td>1.000000</td>\n",
       "      <td>81000.000000</td>\n",
       "      <td>41667.000000</td>\n",
       "      <td>700.000000</td>\n",
       "      <td>480.000000</td>\n",
       "      <td>1.000000</td>\n",
       "      <td>2.000000</td>\n",
       "      <td>81000.000000</td>\n",
       "      <td>1.000000</td>\n",
       "    </tr>\n",
       "  </tbody>\n",
       "</table>\n",
       "</div>"
      ],
      "text/plain": [
       "           Gender     Married  Dependents   Education  Self_Employed  \\\n",
       "count  614.000000  614.000000  614.000000  614.000000     614.000000   \n",
       "mean     0.817590    0.653094    0.744300    0.218241       0.133550   \n",
       "std      0.386497    0.476373    1.009623    0.413389       0.340446   \n",
       "min      0.000000    0.000000    0.000000    0.000000       0.000000   \n",
       "25%      1.000000    0.000000    0.000000    0.000000       0.000000   \n",
       "50%      1.000000    1.000000    0.000000    0.000000       0.000000   \n",
       "75%      1.000000    1.000000    1.000000    0.000000       0.000000   \n",
       "max      1.000000    1.000000    3.000000    1.000000       1.000000   \n",
       "\n",
       "       ApplicantIncome  CoapplicantIncome  LoanAmount  Loan_Amount_Term  \\\n",
       "count       614.000000         614.000000  614.000000        614.000000   \n",
       "mean       5403.459283        1621.245798  145.752443        342.410423   \n",
       "std        6109.041673        2926.248369   84.107233         64.428629   \n",
       "min         150.000000           0.000000    9.000000         12.000000   \n",
       "25%        2877.500000           0.000000  100.250000        360.000000   \n",
       "50%        3812.500000        1188.500000  128.000000        360.000000   \n",
       "75%        5795.000000        2297.250000  164.750000        360.000000   \n",
       "max       81000.000000       41667.000000  700.000000        480.000000   \n",
       "\n",
       "       Credit_History  Property_Area  Total_Income  Loan_Status_new  \n",
       "count      614.000000     614.000000    614.000000       614.000000  \n",
       "mean         0.842199       1.037459   7024.705081         0.687296  \n",
       "std          0.349681       0.787482   6458.663872         0.463973  \n",
       "min          0.000000       0.000000   1442.000000         0.000000  \n",
       "25%          1.000000       0.000000   4166.000000         0.000000  \n",
       "50%          1.000000       1.000000   5416.500000         1.000000  \n",
       "75%          1.000000       2.000000   7521.750000         1.000000  \n",
       "max          1.000000       2.000000  81000.000000         1.000000  "
      ]
     },
     "execution_count": 41,
     "metadata": {},
     "output_type": "execute_result"
    }
   ],
   "source": [
    "df.describe()"
   ]
  },
  {
   "cell_type": "markdown",
   "id": "254adc40",
   "metadata": {},
   "source": [
    "Key Observations:\n",
    "\n",
    "    1. Mean and Median: Values of mean and median are higher and lower for both so skewness is present. \n",
    "    2. 75% percentile and max: ApplicantIncome, CoapplicantIncome, LoanAmount and Total_Income have outliers\n",
    "    3. Standard deviation is less than mean so high peak data"
   ]
  },
  {
   "cell_type": "code",
   "execution_count": 42,
   "id": "56495802",
   "metadata": {},
   "outputs": [
    {
     "data": {
      "text/plain": [
       "<AxesSubplot:>"
      ]
     },
     "execution_count": 42,
     "metadata": {},
     "output_type": "execute_result"
    },
    {
     "data": {
      "image/png": "[encoded data removed]",
      "text/plain": [
       "<Figure size 1584x504 with 2 Axes>"
      ]
     },
     "metadata": {
      "needs_background": "light"
     },
     "output_type": "display_data"
    }
   ],
   "source": [
    "import matplotlib.pyplot as plt\n",
    "plt.figure(figsize=(22,7))\n",
    "sns.heatmap(df.describe(),annot=True,linewidths=0.1,linecolor=\"Green\",fmt=\"0.2f\")"
   ]
  },
  {
   "cell_type": "markdown",
   "id": "ead2e1c6",
   "metadata": {},
   "source": [
    "Heatmap representation of dataset description"
   ]
  },
  {
   "cell_type": "markdown",
   "id": "64c64ad3",
   "metadata": {},
   "source": [
    "## Outliers:"
   ]
  },
  {
   "cell_type": "code",
   "execution_count": 43,
   "id": "391c4736",
   "metadata": {},
   "outputs": [
    {
     "data": {
      "text/plain": [
       "Gender                  AxesSubplot(0.125,0.816017;0.352273x0.0639831)\n",
       "Married              AxesSubplot(0.547727,0.816017;0.352273x0.0639831)\n",
       "Dependents              AxesSubplot(0.125,0.739237;0.352273x0.0639831)\n",
       "Education            AxesSubplot(0.547727,0.739237;0.352273x0.0639831)\n",
       "Self_Employed           AxesSubplot(0.125,0.662458;0.352273x0.0639831)\n",
       "ApplicantIncome      AxesSubplot(0.547727,0.662458;0.352273x0.0639831)\n",
       "CoapplicantIncome       AxesSubplot(0.125,0.585678;0.352273x0.0639831)\n",
       "LoanAmount           AxesSubplot(0.547727,0.585678;0.352273x0.0639831)\n",
       "Loan_Amount_Term        AxesSubplot(0.125,0.508898;0.352273x0.0639831)\n",
       "Credit_History       AxesSubplot(0.547727,0.508898;0.352273x0.0639831)\n",
       "Property_Area           AxesSubplot(0.125,0.432119;0.352273x0.0639831)\n",
       "Total_Income         AxesSubplot(0.547727,0.432119;0.352273x0.0639831)\n",
       "Loan_Status_new         AxesSubplot(0.125,0.355339;0.352273x0.0639831)\n",
       "dtype: object"
      ]
     },
     "execution_count": 43,
     "metadata": {},
     "output_type": "execute_result"
    },
    {
     "data": {
      "image/png": "[encoded data removed]",
      "text/plain": [
       "<Figure size 1080x1440 with 20 Axes>"
      ]
     },
     "metadata": {
      "needs_background": "light"
     },
     "output_type": "display_data"
    }
   ],
   "source": [
    "#Outliers:\n",
    "\n",
    "df.plot(kind='box',subplots=True,layout=(10,2),figsize=(15,20))"
   ]
  },
  {
   "cell_type": "markdown",
   "id": "61e7b5a6",
   "metadata": {},
   "source": [
    "Gender,Dependents,Applicant Income,CoApplicant Income, Loan Amount, Loan Amount Term and Total Income have high outliers."
   ]
  },
  {
   "cell_type": "code",
   "execution_count": 44,
   "id": "38e90352",
   "metadata": {},
   "outputs": [
    {
     "data": {
      "text/plain": [
       "(array([  9,  14,  68,  94, 126, 130, 133, 155, 155, 155, 171, 171, 171,\n",
       "        177, 177, 183, 183, 185, 185, 242, 262, 278, 308, 313, 333, 333,\n",
       "        333, 369, 402, 409, 409, 417, 432, 443, 443, 487, 495, 497, 506,\n",
       "        506, 523, 525, 546, 561, 575, 581, 581, 585, 600, 600, 604],\n",
       "       dtype=int64),\n",
       " array([ 6,  8,  8,  8,  5,  7,  8,  5,  7, 11,  5,  7, 11,  6,  7,  5, 11,\n",
       "         5, 11,  8,  8,  7,  7,  8,  5,  7, 11,  7,  6,  5, 11,  6,  7,  5,\n",
       "        11,  7,  8,  8,  7, 11,  7,  7,  8,  7,  8,  6, 11,  8,  6, 11,  7],\n",
       "       dtype=int64))"
      ]
     },
     "execution_count": 44,
     "metadata": {},
     "output_type": "execute_result"
    }
   ],
   "source": [
    "# Removing Outliers: \n",
    "\n",
    "from scipy.stats import zscore\n",
    "import numpy as np\n",
    "z=np.abs(zscore(df))\n",
    "threshold=3\n",
    "np.where(z>3)"
   ]
  },
  {
   "cell_type": "code",
   "execution_count": 45,
   "id": "fb8da31b",
   "metadata": {},
   "outputs": [
    {
     "data": {
      "text/html": [
       "<div>\n",
       "<style scoped>\n",
       "    .dataframe tbody tr th:only-of-type {\n",
       "        vertical-align: middle;\n",
       "    }\n",
       "\n",
       "    .dataframe tbody tr th {\n",
       "        vertical-align: top;\n",
       "    }\n",
       "\n",
       "    .dataframe thead th {\n",
       "        text-align: right;\n",
       "    }\n",
       "</style>\n",
       "<table border=\"1\" class=\"dataframe\">\n",
       "  <thead>\n",
       "    <tr style=\"text-align: right;\">\n",
       "      <th></th>\n",
       "      <th>Gender</th>\n",
       "      <th>Married</th>\n",
       "      <th>Dependents</th>\n",
       "      <th>Education</th>\n",
       "      <th>Self_Employed</th>\n",
       "      <th>ApplicantIncome</th>\n",
       "      <th>CoapplicantIncome</th>\n",
       "      <th>LoanAmount</th>\n",
       "      <th>Loan_Amount_Term</th>\n",
       "      <th>Credit_History</th>\n",
       "      <th>Property_Area</th>\n",
       "      <th>Total_Income</th>\n",
       "      <th>Loan_Status_new</th>\n",
       "    </tr>\n",
       "  </thead>\n",
       "  <tbody>\n",
       "    <tr>\n",
       "      <th>0</th>\n",
       "      <td>1</td>\n",
       "      <td>0</td>\n",
       "      <td>0</td>\n",
       "      <td>0</td>\n",
       "      <td>0</td>\n",
       "      <td>5849</td>\n",
       "      <td>0.0</td>\n",
       "      <td>128.0</td>\n",
       "      <td>360.0</td>\n",
       "      <td>1.0</td>\n",
       "      <td>2</td>\n",
       "      <td>5849.0</td>\n",
       "      <td>1</td>\n",
       "    </tr>\n",
       "    <tr>\n",
       "      <th>1</th>\n",
       "      <td>1</td>\n",
       "      <td>1</td>\n",
       "      <td>1</td>\n",
       "      <td>0</td>\n",
       "      <td>0</td>\n",
       "      <td>4583</td>\n",
       "      <td>1508.0</td>\n",
       "      <td>128.0</td>\n",
       "      <td>360.0</td>\n",
       "      <td>1.0</td>\n",
       "      <td>0</td>\n",
       "      <td>6091.0</td>\n",
       "      <td>0</td>\n",
       "    </tr>\n",
       "    <tr>\n",
       "      <th>2</th>\n",
       "      <td>1</td>\n",
       "      <td>1</td>\n",
       "      <td>0</td>\n",
       "      <td>0</td>\n",
       "      <td>1</td>\n",
       "      <td>3000</td>\n",
       "      <td>0.0</td>\n",
       "      <td>66.0</td>\n",
       "      <td>360.0</td>\n",
       "      <td>1.0</td>\n",
       "      <td>2</td>\n",
       "      <td>3000.0</td>\n",
       "      <td>1</td>\n",
       "    </tr>\n",
       "    <tr>\n",
       "      <th>3</th>\n",
       "      <td>1</td>\n",
       "      <td>1</td>\n",
       "      <td>0</td>\n",
       "      <td>1</td>\n",
       "      <td>0</td>\n",
       "      <td>2583</td>\n",
       "      <td>2358.0</td>\n",
       "      <td>120.0</td>\n",
       "      <td>360.0</td>\n",
       "      <td>1.0</td>\n",
       "      <td>2</td>\n",
       "      <td>4941.0</td>\n",
       "      <td>1</td>\n",
       "    </tr>\n",
       "    <tr>\n",
       "      <th>4</th>\n",
       "      <td>1</td>\n",
       "      <td>0</td>\n",
       "      <td>0</td>\n",
       "      <td>0</td>\n",
       "      <td>0</td>\n",
       "      <td>6000</td>\n",
       "      <td>0.0</td>\n",
       "      <td>141.0</td>\n",
       "      <td>360.0</td>\n",
       "      <td>1.0</td>\n",
       "      <td>2</td>\n",
       "      <td>6000.0</td>\n",
       "      <td>1</td>\n",
       "    </tr>\n",
       "    <tr>\n",
       "      <th>...</th>\n",
       "      <td>...</td>\n",
       "      <td>...</td>\n",
       "      <td>...</td>\n",
       "      <td>...</td>\n",
       "      <td>...</td>\n",
       "      <td>...</td>\n",
       "      <td>...</td>\n",
       "      <td>...</td>\n",
       "      <td>...</td>\n",
       "      <td>...</td>\n",
       "      <td>...</td>\n",
       "      <td>...</td>\n",
       "      <td>...</td>\n",
       "    </tr>\n",
       "    <tr>\n",
       "      <th>609</th>\n",
       "      <td>0</td>\n",
       "      <td>0</td>\n",
       "      <td>0</td>\n",
       "      <td>0</td>\n",
       "      <td>0</td>\n",
       "      <td>2900</td>\n",
       "      <td>0.0</td>\n",
       "      <td>71.0</td>\n",
       "      <td>360.0</td>\n",
       "      <td>1.0</td>\n",
       "      <td>0</td>\n",
       "      <td>2900.0</td>\n",
       "      <td>1</td>\n",
       "    </tr>\n",
       "    <tr>\n",
       "      <th>610</th>\n",
       "      <td>1</td>\n",
       "      <td>1</td>\n",
       "      <td>3</td>\n",
       "      <td>0</td>\n",
       "      <td>0</td>\n",
       "      <td>4106</td>\n",
       "      <td>0.0</td>\n",
       "      <td>40.0</td>\n",
       "      <td>180.0</td>\n",
       "      <td>1.0</td>\n",
       "      <td>0</td>\n",
       "      <td>4106.0</td>\n",
       "      <td>1</td>\n",
       "    </tr>\n",
       "    <tr>\n",
       "      <th>611</th>\n",
       "      <td>1</td>\n",
       "      <td>1</td>\n",
       "      <td>1</td>\n",
       "      <td>0</td>\n",
       "      <td>0</td>\n",
       "      <td>8072</td>\n",
       "      <td>240.0</td>\n",
       "      <td>253.0</td>\n",
       "      <td>360.0</td>\n",
       "      <td>1.0</td>\n",
       "      <td>2</td>\n",
       "      <td>8312.0</td>\n",
       "      <td>1</td>\n",
       "    </tr>\n",
       "    <tr>\n",
       "      <th>612</th>\n",
       "      <td>1</td>\n",
       "      <td>1</td>\n",
       "      <td>2</td>\n",
       "      <td>0</td>\n",
       "      <td>0</td>\n",
       "      <td>7583</td>\n",
       "      <td>0.0</td>\n",
       "      <td>187.0</td>\n",
       "      <td>360.0</td>\n",
       "      <td>1.0</td>\n",
       "      <td>2</td>\n",
       "      <td>7583.0</td>\n",
       "      <td>1</td>\n",
       "    </tr>\n",
       "    <tr>\n",
       "      <th>613</th>\n",
       "      <td>0</td>\n",
       "      <td>0</td>\n",
       "      <td>0</td>\n",
       "      <td>0</td>\n",
       "      <td>1</td>\n",
       "      <td>4583</td>\n",
       "      <td>0.0</td>\n",
       "      <td>133.0</td>\n",
       "      <td>360.0</td>\n",
       "      <td>0.0</td>\n",
       "      <td>1</td>\n",
       "      <td>4583.0</td>\n",
       "      <td>0</td>\n",
       "    </tr>\n",
       "  </tbody>\n",
       "</table>\n",
       "<p>577 rows × 13 columns</p>\n",
       "</div>"
      ],
      "text/plain": [
       "     Gender  Married  Dependents  Education  Self_Employed  ApplicantIncome  \\\n",
       "0         1        0           0          0              0             5849   \n",
       "1         1        1           1          0              0             4583   \n",
       "2         1        1           0          0              1             3000   \n",
       "3         1        1           0          1              0             2583   \n",
       "4         1        0           0          0              0             6000   \n",
       "..      ...      ...         ...        ...            ...              ...   \n",
       "609       0        0           0          0              0             2900   \n",
       "610       1        1           3          0              0             4106   \n",
       "611       1        1           1          0              0             8072   \n",
       "612       1        1           2          0              0             7583   \n",
       "613       0        0           0          0              1             4583   \n",
       "\n",
       "     CoapplicantIncome  LoanAmount  Loan_Amount_Term  Credit_History  \\\n",
       "0                  0.0       128.0             360.0             1.0   \n",
       "1               1508.0       128.0             360.0             1.0   \n",
       "2                  0.0        66.0             360.0             1.0   \n",
       "3               2358.0       120.0             360.0             1.0   \n",
       "4                  0.0       141.0             360.0             1.0   \n",
       "..                 ...         ...               ...             ...   \n",
       "609                0.0        71.0             360.0             1.0   \n",
       "610                0.0        40.0             180.0             1.0   \n",
       "611              240.0       253.0             360.0             1.0   \n",
       "612                0.0       187.0             360.0             1.0   \n",
       "613                0.0       133.0             360.0             0.0   \n",
       "\n",
       "     Property_Area  Total_Income  Loan_Status_new  \n",
       "0                2        5849.0                1  \n",
       "1                0        6091.0                0  \n",
       "2                2        3000.0                1  \n",
       "3                2        4941.0                1  \n",
       "4                2        6000.0                1  \n",
       "..             ...           ...              ...  \n",
       "609              0        2900.0                1  \n",
       "610              0        4106.0                1  \n",
       "611              2        8312.0                1  \n",
       "612              2        7583.0                1  \n",
       "613              1        4583.0                0  \n",
       "\n",
       "[577 rows x 13 columns]"
      ]
     },
     "execution_count": 45,
     "metadata": {},
     "output_type": "execute_result"
    }
   ],
   "source": [
    "#removing value greater than threshold value \n",
    "\n",
    "df_new=df[(z<3).all(axis=1)]\n",
    "df_new"
   ]
  },
  {
   "cell_type": "markdown",
   "id": "6bdf5d03",
   "metadata": {},
   "source": [
    "Outliers removed."
   ]
  },
  {
   "cell_type": "code",
   "execution_count": 46,
   "id": "e8c89fce",
   "metadata": {},
   "outputs": [],
   "source": [
    "df=df_new"
   ]
  },
  {
   "cell_type": "code",
   "execution_count": 47,
   "id": "6c1b4e72",
   "metadata": {},
   "outputs": [
    {
     "data": {
      "text/plain": [
       "(577, 13)"
      ]
     },
     "execution_count": 47,
     "metadata": {},
     "output_type": "execute_result"
    }
   ],
   "source": [
    "df.shape"
   ]
  },
  {
   "cell_type": "markdown",
   "id": "bde32642",
   "metadata": {},
   "source": [
    "Rows: 577, Columns: 13"
   ]
  },
  {
   "cell_type": "markdown",
   "id": "f13be740",
   "metadata": {},
   "source": [
    "### Percentage Loss of data"
   ]
  },
  {
   "cell_type": "code",
   "execution_count": 48,
   "id": "bfcc6e73",
   "metadata": {},
   "outputs": [
    {
     "data": {
      "text/plain": [
       "6.026058631921824"
      ]
     },
     "execution_count": 48,
     "metadata": {},
     "output_type": "execute_result"
    }
   ],
   "source": [
    "Data_loss=((614-577)/614)*100\n",
    "Data_loss"
   ]
  },
  {
   "cell_type": "markdown",
   "id": "55779ee7",
   "metadata": {},
   "source": [
    "6.02% data lost"
   ]
  },
  {
   "cell_type": "markdown",
   "id": "d8011257",
   "metadata": {},
   "source": [
    "## Correlation of the columns with the target columns:"
   ]
  },
  {
   "cell_type": "code",
   "execution_count": 49,
   "id": "4c1ed53f",
   "metadata": {},
   "outputs": [
    {
     "data": {
      "text/html": [
       "<div>\n",
       "<style scoped>\n",
       "    .dataframe tbody tr th:only-of-type {\n",
       "        vertical-align: middle;\n",
       "    }\n",
       "\n",
       "    .dataframe tbody tr th {\n",
       "        vertical-align: top;\n",
       "    }\n",
       "\n",
       "    .dataframe thead th {\n",
       "        text-align: right;\n",
       "    }\n",
       "</style>\n",
       "<table border=\"1\" class=\"dataframe\">\n",
       "  <thead>\n",
       "    <tr style=\"text-align: right;\">\n",
       "      <th></th>\n",
       "      <th>Gender</th>\n",
       "      <th>Married</th>\n",
       "      <th>Dependents</th>\n",
       "      <th>Education</th>\n",
       "      <th>Self_Employed</th>\n",
       "      <th>ApplicantIncome</th>\n",
       "      <th>CoapplicantIncome</th>\n",
       "      <th>LoanAmount</th>\n",
       "      <th>Loan_Amount_Term</th>\n",
       "      <th>Credit_History</th>\n",
       "      <th>Property_Area</th>\n",
       "      <th>Total_Income</th>\n",
       "      <th>Loan_Status_new</th>\n",
       "    </tr>\n",
       "  </thead>\n",
       "  <tbody>\n",
       "    <tr>\n",
       "      <th>Gender</th>\n",
       "      <td>1.000000</td>\n",
       "      <td>0.378997</td>\n",
       "      <td>0.188162</td>\n",
       "      <td>0.045696</td>\n",
       "      <td>-0.006207</td>\n",
       "      <td>0.026943</td>\n",
       "      <td>0.190543</td>\n",
       "      <td>0.158431</td>\n",
       "      <td>-0.104983</td>\n",
       "      <td>0.016566</td>\n",
       "      <td>-0.026340</td>\n",
       "      <td>0.128996</td>\n",
       "      <td>0.017408</td>\n",
       "    </tr>\n",
       "    <tr>\n",
       "      <th>Married</th>\n",
       "      <td>0.378997</td>\n",
       "      <td>1.000000</td>\n",
       "      <td>0.329900</td>\n",
       "      <td>0.024817</td>\n",
       "      <td>-0.015779</td>\n",
       "      <td>-0.008567</td>\n",
       "      <td>0.237322</td>\n",
       "      <td>0.164365</td>\n",
       "      <td>-0.127348</td>\n",
       "      <td>0.013364</td>\n",
       "      <td>0.010595</td>\n",
       "      <td>0.119828</td>\n",
       "      <td>0.089026</td>\n",
       "    </tr>\n",
       "    <tr>\n",
       "      <th>Dependents</th>\n",
       "      <td>0.188162</td>\n",
       "      <td>0.329900</td>\n",
       "      <td>1.000000</td>\n",
       "      <td>0.069814</td>\n",
       "      <td>0.044543</td>\n",
       "      <td>0.077227</td>\n",
       "      <td>-0.026220</td>\n",
       "      <td>0.135554</td>\n",
       "      <td>-0.087389</td>\n",
       "      <td>-0.017044</td>\n",
       "      <td>0.002327</td>\n",
       "      <td>0.060710</td>\n",
       "      <td>0.017872</td>\n",
       "    </tr>\n",
       "    <tr>\n",
       "      <th>Education</th>\n",
       "      <td>0.045696</td>\n",
       "      <td>0.024817</td>\n",
       "      <td>0.069814</td>\n",
       "      <td>1.000000</td>\n",
       "      <td>-0.007139</td>\n",
       "      <td>-0.166400</td>\n",
       "      <td>-0.037780</td>\n",
       "      <td>-0.149369</td>\n",
       "      <td>-0.090523</td>\n",
       "      <td>-0.080920</td>\n",
       "      <td>-0.068596</td>\n",
       "      <td>-0.181713</td>\n",
       "      <td>-0.092658</td>\n",
       "    </tr>\n",
       "    <tr>\n",
       "      <th>Self_Employed</th>\n",
       "      <td>-0.006207</td>\n",
       "      <td>-0.015779</td>\n",
       "      <td>0.044543</td>\n",
       "      <td>-0.007139</td>\n",
       "      <td>1.000000</td>\n",
       "      <td>0.250665</td>\n",
       "      <td>-0.039572</td>\n",
       "      <td>0.121562</td>\n",
       "      <td>-0.032914</td>\n",
       "      <td>-0.014899</td>\n",
       "      <td>-0.028253</td>\n",
       "      <td>0.221640</td>\n",
       "      <td>-0.026525</td>\n",
       "    </tr>\n",
       "    <tr>\n",
       "      <th>ApplicantIncome</th>\n",
       "      <td>0.026943</td>\n",
       "      <td>-0.008567</td>\n",
       "      <td>0.077227</td>\n",
       "      <td>-0.166400</td>\n",
       "      <td>0.250665</td>\n",
       "      <td>1.000000</td>\n",
       "      <td>-0.220975</td>\n",
       "      <td>0.439526</td>\n",
       "      <td>-0.052101</td>\n",
       "      <td>0.044016</td>\n",
       "      <td>-0.003641</td>\n",
       "      <td>0.850136</td>\n",
       "      <td>-0.005003</td>\n",
       "    </tr>\n",
       "    <tr>\n",
       "      <th>CoapplicantIncome</th>\n",
       "      <td>0.190543</td>\n",
       "      <td>0.237322</td>\n",
       "      <td>-0.026220</td>\n",
       "      <td>-0.037780</td>\n",
       "      <td>-0.039572</td>\n",
       "      <td>-0.220975</td>\n",
       "      <td>1.000000</td>\n",
       "      <td>0.312426</td>\n",
       "      <td>-0.058726</td>\n",
       "      <td>-0.019224</td>\n",
       "      <td>-0.093505</td>\n",
       "      <td>0.325688</td>\n",
       "      <td>0.045009</td>\n",
       "    </tr>\n",
       "    <tr>\n",
       "      <th>LoanAmount</th>\n",
       "      <td>0.158431</td>\n",
       "      <td>0.164365</td>\n",
       "      <td>0.135554</td>\n",
       "      <td>-0.149369</td>\n",
       "      <td>0.121562</td>\n",
       "      <td>0.439526</td>\n",
       "      <td>0.312426</td>\n",
       "      <td>1.000000</td>\n",
       "      <td>0.039696</td>\n",
       "      <td>0.007074</td>\n",
       "      <td>-0.078882</td>\n",
       "      <td>0.594777</td>\n",
       "      <td>-0.030169</td>\n",
       "    </tr>\n",
       "    <tr>\n",
       "      <th>Loan_Amount_Term</th>\n",
       "      <td>-0.104983</td>\n",
       "      <td>-0.127348</td>\n",
       "      <td>-0.087389</td>\n",
       "      <td>-0.090523</td>\n",
       "      <td>-0.032914</td>\n",
       "      <td>-0.052101</td>\n",
       "      <td>-0.058726</td>\n",
       "      <td>0.039696</td>\n",
       "      <td>1.000000</td>\n",
       "      <td>0.024041</td>\n",
       "      <td>-0.057004</td>\n",
       "      <td>-0.082216</td>\n",
       "      <td>-0.020291</td>\n",
       "    </tr>\n",
       "    <tr>\n",
       "      <th>Credit_History</th>\n",
       "      <td>0.016566</td>\n",
       "      <td>0.013364</td>\n",
       "      <td>-0.017044</td>\n",
       "      <td>-0.080920</td>\n",
       "      <td>-0.014899</td>\n",
       "      <td>0.044016</td>\n",
       "      <td>-0.019224</td>\n",
       "      <td>0.007074</td>\n",
       "      <td>0.024041</td>\n",
       "      <td>1.000000</td>\n",
       "      <td>-0.009747</td>\n",
       "      <td>0.032292</td>\n",
       "      <td>0.561857</td>\n",
       "    </tr>\n",
       "    <tr>\n",
       "      <th>Property_Area</th>\n",
       "      <td>-0.026340</td>\n",
       "      <td>0.010595</td>\n",
       "      <td>0.002327</td>\n",
       "      <td>-0.068596</td>\n",
       "      <td>-0.028253</td>\n",
       "      <td>-0.003641</td>\n",
       "      <td>-0.093505</td>\n",
       "      <td>-0.078882</td>\n",
       "      <td>-0.057004</td>\n",
       "      <td>-0.009747</td>\n",
       "      <td>1.000000</td>\n",
       "      <td>-0.054014</td>\n",
       "      <td>0.026507</td>\n",
       "    </tr>\n",
       "    <tr>\n",
       "      <th>Total_Income</th>\n",
       "      <td>0.128996</td>\n",
       "      <td>0.119828</td>\n",
       "      <td>0.060710</td>\n",
       "      <td>-0.181713</td>\n",
       "      <td>0.221640</td>\n",
       "      <td>0.850136</td>\n",
       "      <td>0.325688</td>\n",
       "      <td>0.594777</td>\n",
       "      <td>-0.082216</td>\n",
       "      <td>0.032292</td>\n",
       "      <td>-0.054014</td>\n",
       "      <td>1.000000</td>\n",
       "      <td>0.019451</td>\n",
       "    </tr>\n",
       "    <tr>\n",
       "      <th>Loan_Status_new</th>\n",
       "      <td>0.017408</td>\n",
       "      <td>0.089026</td>\n",
       "      <td>0.017872</td>\n",
       "      <td>-0.092658</td>\n",
       "      <td>-0.026525</td>\n",
       "      <td>-0.005003</td>\n",
       "      <td>0.045009</td>\n",
       "      <td>-0.030169</td>\n",
       "      <td>-0.020291</td>\n",
       "      <td>0.561857</td>\n",
       "      <td>0.026507</td>\n",
       "      <td>0.019451</td>\n",
       "      <td>1.000000</td>\n",
       "    </tr>\n",
       "  </tbody>\n",
       "</table>\n",
       "</div>"
      ],
      "text/plain": [
       "                     Gender   Married  Dependents  Education  Self_Employed  \\\n",
       "Gender             1.000000  0.378997    0.188162   0.045696      -0.006207   \n",
       "Married            0.378997  1.000000    0.329900   0.024817      -0.015779   \n",
       "Dependents         0.188162  0.329900    1.000000   0.069814       0.044543   \n",
       "Education          0.045696  0.024817    0.069814   1.000000      -0.007139   \n",
       "Self_Employed     -0.006207 -0.015779    0.044543  -0.007139       1.000000   \n",
       "ApplicantIncome    0.026943 -0.008567    0.077227  -0.166400       0.250665   \n",
       "CoapplicantIncome  0.190543  0.237322   -0.026220  -0.037780      -0.039572   \n",
       "LoanAmount         0.158431  0.164365    0.135554  -0.149369       0.121562   \n",
       "Loan_Amount_Term  -0.104983 -0.127348   -0.087389  -0.090523      -0.032914   \n",
       "Credit_History     0.016566  0.013364   -0.017044  -0.080920      -0.014899   \n",
       "Property_Area     -0.026340  0.010595    0.002327  -0.068596      -0.028253   \n",
       "Total_Income       0.128996  0.119828    0.060710  -0.181713       0.221640   \n",
       "Loan_Status_new    0.017408  0.089026    0.017872  -0.092658      -0.026525   \n",
       "\n",
       "                   ApplicantIncome  CoapplicantIncome  LoanAmount  \\\n",
       "Gender                    0.026943           0.190543    0.158431   \n",
       "Married                  -0.008567           0.237322    0.164365   \n",
       "Dependents                0.077227          -0.026220    0.135554   \n",
       "Education                -0.166400          -0.037780   -0.149369   \n",
       "Self_Employed             0.250665          -0.039572    0.121562   \n",
       "ApplicantIncome           1.000000          -0.220975    0.439526   \n",
       "CoapplicantIncome        -0.220975           1.000000    0.312426   \n",
       "LoanAmount                0.439526           0.312426    1.000000   \n",
       "Loan_Amount_Term         -0.052101          -0.058726    0.039696   \n",
       "Credit_History            0.044016          -0.019224    0.007074   \n",
       "Property_Area            -0.003641          -0.093505   -0.078882   \n",
       "Total_Income              0.850136           0.325688    0.594777   \n",
       "Loan_Status_new          -0.005003           0.045009   -0.030169   \n",
       "\n",
       "                   Loan_Amount_Term  Credit_History  Property_Area  \\\n",
       "Gender                    -0.104983        0.016566      -0.026340   \n",
       "Married                   -0.127348        0.013364       0.010595   \n",
       "Dependents                -0.087389       -0.017044       0.002327   \n",
       "Education                 -0.090523       -0.080920      -0.068596   \n",
       "Self_Employed             -0.032914       -0.014899      -0.028253   \n",
       "ApplicantIncome           -0.052101        0.044016      -0.003641   \n",
       "CoapplicantIncome         -0.058726       -0.019224      -0.093505   \n",
       "LoanAmount                 0.039696        0.007074      -0.078882   \n",
       "Loan_Amount_Term           1.000000        0.024041      -0.057004   \n",
       "Credit_History             0.024041        1.000000      -0.009747   \n",
       "Property_Area             -0.057004       -0.009747       1.000000   \n",
       "Total_Income              -0.082216        0.032292      -0.054014   \n",
       "Loan_Status_new           -0.020291        0.561857       0.026507   \n",
       "\n",
       "                   Total_Income  Loan_Status_new  \n",
       "Gender                 0.128996         0.017408  \n",
       "Married                0.119828         0.089026  \n",
       "Dependents             0.060710         0.017872  \n",
       "Education             -0.181713        -0.092658  \n",
       "Self_Employed          0.221640        -0.026525  \n",
       "ApplicantIncome        0.850136        -0.005003  \n",
       "CoapplicantIncome      0.325688         0.045009  \n",
       "LoanAmount             0.594777        -0.030169  \n",
       "Loan_Amount_Term      -0.082216        -0.020291  \n",
       "Credit_History         0.032292         0.561857  \n",
       "Property_Area         -0.054014         0.026507  \n",
       "Total_Income           1.000000         0.019451  \n",
       "Loan_Status_new        0.019451         1.000000  "
      ]
     },
     "execution_count": 49,
     "metadata": {},
     "output_type": "execute_result"
    }
   ],
   "source": [
    "df.corr()"
   ]
  },
  {
   "cell_type": "markdown",
   "id": "0f5a72ae",
   "metadata": {},
   "source": [
    "correlation of input with target variable Income"
   ]
  },
  {
   "cell_type": "code",
   "execution_count": 50,
   "id": "58c7d61e",
   "metadata": {},
   "outputs": [
    {
     "data": {
      "text/plain": [
       "<AxesSubplot:>"
      ]
     },
     "execution_count": 50,
     "metadata": {},
     "output_type": "execute_result"
    },
    {
     "data": {
      "image/png": "[encoded data removed]",
      "text/plain": [
       "<Figure size 720x504 with 2 Axes>"
      ]
     },
     "metadata": {
      "needs_background": "light"
     },
     "output_type": "display_data"
    }
   ],
   "source": [
    "plt.figure(figsize=(10,7))\n",
    "sns.heatmap(df.corr(),annot=True,linewidths=0.1,linecolor=\"Black\",fmt=\"0.2f\")"
   ]
  },
  {
   "cell_type": "markdown",
   "id": "b60f9275",
   "metadata": {},
   "source": [
    "Key Observation:\n",
    " 1. Loan_Status_new have positive correlation with Credit_History and negative correlation with Education.\n",
    " 2. Credit_History has negative correlation with Education and positive correlation with Loan_Status_new.\n",
    " 3. Multicollinearity exist"
   ]
  },
  {
   "cell_type": "code",
   "execution_count": 51,
   "id": "b9df0de6",
   "metadata": {},
   "outputs": [
    {
     "data": {
      "image/png": "[encoded data removed]",
      "text/plain": [
       "<Figure size 1008x360 with 1 Axes>"
      ]
     },
     "metadata": {
      "needs_background": "light"
     },
     "output_type": "display_data"
    }
   ],
   "source": [
    "plt.figure(figsize=(14,5))\n",
    "df.corr()['Loan_Status_new'].sort_values(ascending=False).drop(['Loan_Status_new']).plot(kind='bar',color='c')\n",
    "plt.xlabel('Feature',fontsize=14)\n",
    "plt.ylabel('column with target names',fontsize=14)\n",
    "plt.title('Correlation',fontsize=18)\n",
    "plt.show()"
   ]
  },
  {
   "cell_type": "markdown",
   "id": "e5add5f6",
   "metadata": {},
   "source": [
    "## Dropping Education Column"
   ]
  },
  {
   "cell_type": "code",
   "execution_count": 52,
   "id": "e8ba441b",
   "metadata": {},
   "outputs": [
    {
     "data": {
      "text/html": [
       "<div>\n",
       "<style scoped>\n",
       "    .dataframe tbody tr th:only-of-type {\n",
       "        vertical-align: middle;\n",
       "    }\n",
       "\n",
       "    .dataframe tbody tr th {\n",
       "        vertical-align: top;\n",
       "    }\n",
       "\n",
       "    .dataframe thead th {\n",
       "        text-align: right;\n",
       "    }\n",
       "</style>\n",
       "<table border=\"1\" class=\"dataframe\">\n",
       "  <thead>\n",
       "    <tr style=\"text-align: right;\">\n",
       "      <th></th>\n",
       "      <th>Gender</th>\n",
       "      <th>Married</th>\n",
       "      <th>Dependents</th>\n",
       "      <th>Self_Employed</th>\n",
       "      <th>ApplicantIncome</th>\n",
       "      <th>CoapplicantIncome</th>\n",
       "      <th>LoanAmount</th>\n",
       "      <th>Loan_Amount_Term</th>\n",
       "      <th>Credit_History</th>\n",
       "      <th>Property_Area</th>\n",
       "      <th>Total_Income</th>\n",
       "      <th>Loan_Status_new</th>\n",
       "    </tr>\n",
       "  </thead>\n",
       "  <tbody>\n",
       "    <tr>\n",
       "      <th>0</th>\n",
       "      <td>1</td>\n",
       "      <td>0</td>\n",
       "      <td>0</td>\n",
       "      <td>0</td>\n",
       "      <td>5849</td>\n",
       "      <td>0.0</td>\n",
       "      <td>128.0</td>\n",
       "      <td>360.0</td>\n",
       "      <td>1.0</td>\n",
       "      <td>2</td>\n",
       "      <td>5849.0</td>\n",
       "      <td>1</td>\n",
       "    </tr>\n",
       "    <tr>\n",
       "      <th>1</th>\n",
       "      <td>1</td>\n",
       "      <td>1</td>\n",
       "      <td>1</td>\n",
       "      <td>0</td>\n",
       "      <td>4583</td>\n",
       "      <td>1508.0</td>\n",
       "      <td>128.0</td>\n",
       "      <td>360.0</td>\n",
       "      <td>1.0</td>\n",
       "      <td>0</td>\n",
       "      <td>6091.0</td>\n",
       "      <td>0</td>\n",
       "    </tr>\n",
       "    <tr>\n",
       "      <th>2</th>\n",
       "      <td>1</td>\n",
       "      <td>1</td>\n",
       "      <td>0</td>\n",
       "      <td>1</td>\n",
       "      <td>3000</td>\n",
       "      <td>0.0</td>\n",
       "      <td>66.0</td>\n",
       "      <td>360.0</td>\n",
       "      <td>1.0</td>\n",
       "      <td>2</td>\n",
       "      <td>3000.0</td>\n",
       "      <td>1</td>\n",
       "    </tr>\n",
       "    <tr>\n",
       "      <th>3</th>\n",
       "      <td>1</td>\n",
       "      <td>1</td>\n",
       "      <td>0</td>\n",
       "      <td>0</td>\n",
       "      <td>2583</td>\n",
       "      <td>2358.0</td>\n",
       "      <td>120.0</td>\n",
       "      <td>360.0</td>\n",
       "      <td>1.0</td>\n",
       "      <td>2</td>\n",
       "      <td>4941.0</td>\n",
       "      <td>1</td>\n",
       "    </tr>\n",
       "    <tr>\n",
       "      <th>4</th>\n",
       "      <td>1</td>\n",
       "      <td>0</td>\n",
       "      <td>0</td>\n",
       "      <td>0</td>\n",
       "      <td>6000</td>\n",
       "      <td>0.0</td>\n",
       "      <td>141.0</td>\n",
       "      <td>360.0</td>\n",
       "      <td>1.0</td>\n",
       "      <td>2</td>\n",
       "      <td>6000.0</td>\n",
       "      <td>1</td>\n",
       "    </tr>\n",
       "  </tbody>\n",
       "</table>\n",
       "</div>"
      ],
      "text/plain": [
       "   Gender  Married  Dependents  Self_Employed  ApplicantIncome  \\\n",
       "0       1        0           0              0             5849   \n",
       "1       1        1           1              0             4583   \n",
       "2       1        1           0              1             3000   \n",
       "3       1        1           0              0             2583   \n",
       "4       1        0           0              0             6000   \n",
       "\n",
       "   CoapplicantIncome  LoanAmount  Loan_Amount_Term  Credit_History  \\\n",
       "0                0.0       128.0             360.0             1.0   \n",
       "1             1508.0       128.0             360.0             1.0   \n",
       "2                0.0        66.0             360.0             1.0   \n",
       "3             2358.0       120.0             360.0             1.0   \n",
       "4                0.0       141.0             360.0             1.0   \n",
       "\n",
       "   Property_Area  Total_Income  Loan_Status_new  \n",
       "0              2        5849.0                1  \n",
       "1              0        6091.0                0  \n",
       "2              2        3000.0                1  \n",
       "3              2        4941.0                1  \n",
       "4              2        6000.0                1  "
      ]
     },
     "execution_count": 52,
     "metadata": {},
     "output_type": "execute_result"
    }
   ],
   "source": [
    "df.drop(['Education'],axis=1,inplace=True)\n",
    "df.head()"
   ]
  },
  {
   "cell_type": "markdown",
   "id": "1b9946a8",
   "metadata": {},
   "source": [
    "Education column droppped"
   ]
  },
  {
   "cell_type": "markdown",
   "id": "b183f115",
   "metadata": {},
   "source": [
    "## Separating Target and feature variables"
   ]
  },
  {
   "cell_type": "code",
   "execution_count": 53,
   "id": "ecbfd925",
   "metadata": {},
   "outputs": [],
   "source": [
    "x =df.drop(\"Loan_Status_new\",axis=1)\n",
    "y =df[\"Loan_Status_new\"]"
   ]
  },
  {
   "cell_type": "markdown",
   "id": "33d74de6",
   "metadata": {},
   "source": [
    "### Multicollinearity removal using VIF"
   ]
  },
  {
   "cell_type": "code",
   "execution_count": 54,
   "id": "d2e4cfd5",
   "metadata": {},
   "outputs": [],
   "source": [
    "from statsmodels.stats.outliers_influence import variance_inflation_factor"
   ]
  },
  {
   "cell_type": "code",
   "execution_count": 55,
   "id": "8355b0e1",
   "metadata": {},
   "outputs": [],
   "source": [
    "def vif_calc():\n",
    "    vif=pd.DataFrame()\n",
    "    vif[\"VIF Factor\"]=[variance_inflation_factor(x.values,i) for i in range(x.shape[1])]\n",
    "    vif[\"features\"]=x.columns\n",
    "    print(vif)"
   ]
  },
  {
   "cell_type": "markdown",
   "id": "86160a9b",
   "metadata": {},
   "source": [
    "VIF technique is used to remove Multicollinearity."
   ]
  },
  {
   "cell_type": "code",
   "execution_count": 56,
   "id": "958a9e2b",
   "metadata": {},
   "outputs": [
    {
     "name": "stdout",
     "output_type": "stream",
     "text": [
      "    VIF Factor           features\n",
      "0     6.146808             Gender\n",
      "1     3.792172            Married\n",
      "2     1.774428         Dependents\n",
      "3     1.225239      Self_Employed\n",
      "4          inf    ApplicantIncome\n",
      "5          inf  CoapplicantIncome\n",
      "6    11.248715         LoanAmount\n",
      "7    12.736503   Loan_Amount_Term\n",
      "8     6.227356     Credit_History\n",
      "9     2.605280      Property_Area\n",
      "10         inf       Total_Income\n"
     ]
    },
    {
     "name": "stderr",
     "output_type": "stream",
     "text": [
      "D:\\Anaconda\\lib\\site-packages\\statsmodels\\stats\\outliers_influence.py:193: RuntimeWarning: divide by zero encountered in double_scalars\n",
      "  vif = 1. / (1. - r_squared_i)\n"
     ]
    }
   ],
   "source": [
    "vif_calc()"
   ]
  },
  {
   "cell_type": "markdown",
   "id": "92f39469",
   "metadata": {},
   "source": [
    "LoanAmount and Loan_Amount_Term have higher VIF Factor so dropping Loan_Amount_Term"
   ]
  },
  {
   "cell_type": "code",
   "execution_count": 57,
   "id": "c2481dfb",
   "metadata": {},
   "outputs": [
    {
     "data": {
      "text/plain": [
       "Gender              -1.622920\n",
       "Married             -0.630211\n",
       "Dependents           1.052106\n",
       "Self_Employed        2.252848\n",
       "ApplicantIncome      2.148522\n",
       "CoapplicantIncome    1.350517\n",
       "LoanAmount           1.151525\n",
       "Loan_Amount_Term    -2.098806\n",
       "Credit_History      -1.921860\n",
       "Property_Area       -0.055332\n",
       "Total_Income         1.681856\n",
       "dtype: float64"
      ]
     },
     "execution_count": 57,
     "metadata": {},
     "output_type": "execute_result"
    }
   ],
   "source": [
    "x.skew()"
   ]
  },
  {
   "cell_type": "markdown",
   "id": "72021418",
   "metadata": {},
   "source": [
    "Taking range of skewness between +/- 0.5\n",
    "Self_Employed, ApplicantIncome,CoapplicantIncome,Loan_Amount_Term has higher skewness so need to remove it."
   ]
  },
  {
   "cell_type": "code",
   "execution_count": 58,
   "id": "636c2769",
   "metadata": {},
   "outputs": [
    {
     "data": {
      "text/plain": [
       "array([[ 0.47713685, -1.36251079, -0.80924269, ...,  0.51523634,\n",
       "         1.1948064 ,  0.19623673],\n",
       "       [ 0.47713685,  0.73393914,  0.90286851, ...,  0.51523634,\n",
       "        -1.34019905,  0.28585802],\n",
       "       [ 0.47713685,  0.73393914, -0.80924269, ...,  0.51523634,\n",
       "         1.1948064 , -1.40562884],\n",
       "       ...,\n",
       "       [ 0.47713685,  0.73393914,  0.90286851, ...,  0.51523634,\n",
       "         1.1948064 ,  0.94618675],\n",
       "       [ 0.47713685,  0.73393914,  1.34467098, ...,  0.51523634,\n",
       "         1.1948064 ,  0.75607963],\n",
       "       [-2.09583477, -1.36251079, -0.80924269, ..., -2.22500746,\n",
       "         0.01546372, -0.36085235]])"
      ]
     },
     "execution_count": 58,
     "metadata": {},
     "output_type": "execute_result"
    }
   ],
   "source": [
    "# Using power_transform to remove skewness.\n",
    "from sklearn.preprocessing import power_transform\n",
    "x=power_transform(x,method='yeo-johnson')\n",
    "x"
   ]
  },
  {
   "cell_type": "markdown",
   "id": "97c0852e",
   "metadata": {},
   "source": [
    "Used power_transform to remove skewness."
   ]
  },
  {
   "cell_type": "code",
   "execution_count": 59,
   "id": "8ef6ccea",
   "metadata": {},
   "outputs": [],
   "source": [
    "# converting ndarray to dataframe\n",
    "x=pd.DataFrame(x)"
   ]
  },
  {
   "cell_type": "code",
   "execution_count": 60,
   "id": "fe41010b",
   "metadata": {},
   "outputs": [
    {
     "data": {
      "text/plain": [
       "0    -1.622920\n",
       "1    -0.630211\n",
       "2     0.478360\n",
       "3     2.252848\n",
       "4     0.027981\n",
       "5    -0.191876\n",
       "6     0.048425\n",
       "7     0.727533\n",
       "8    -1.588827\n",
       "9    -0.155094\n",
       "10   -0.002577\n",
       "dtype: float64"
      ]
     },
     "execution_count": 60,
     "metadata": {},
     "output_type": "execute_result"
    }
   ],
   "source": [
    "x.skew()"
   ]
  },
  {
   "cell_type": "markdown",
   "id": "1aa1cf83",
   "metadata": {},
   "source": [
    "Still Column 0,7 and 8 has skewness so need to drop it but column 8 is highly correlated with target variable."
   ]
  },
  {
   "cell_type": "markdown",
   "id": "07656dc9",
   "metadata": {},
   "source": [
    "## Data Cleaning:"
   ]
  },
  {
   "cell_type": "code",
   "execution_count": 61,
   "id": "2d333575",
   "metadata": {},
   "outputs": [
    {
     "data": {
      "text/html": [
       "<div>\n",
       "<style scoped>\n",
       "    .dataframe tbody tr th:only-of-type {\n",
       "        vertical-align: middle;\n",
       "    }\n",
       "\n",
       "    .dataframe tbody tr th {\n",
       "        vertical-align: top;\n",
       "    }\n",
       "\n",
       "    .dataframe thead th {\n",
       "        text-align: right;\n",
       "    }\n",
       "</style>\n",
       "<table border=\"1\" class=\"dataframe\">\n",
       "  <thead>\n",
       "    <tr style=\"text-align: right;\">\n",
       "      <th></th>\n",
       "      <th>1</th>\n",
       "      <th>2</th>\n",
       "      <th>3</th>\n",
       "      <th>4</th>\n",
       "      <th>5</th>\n",
       "      <th>6</th>\n",
       "      <th>8</th>\n",
       "      <th>9</th>\n",
       "      <th>10</th>\n",
       "    </tr>\n",
       "  </thead>\n",
       "  <tbody>\n",
       "    <tr>\n",
       "      <th>0</th>\n",
       "      <td>-1.362511</td>\n",
       "      <td>-0.809243</td>\n",
       "      <td>-0.380580</td>\n",
       "      <td>0.681780</td>\n",
       "      <td>-1.122446</td>\n",
       "      <td>0.000771</td>\n",
       "      <td>0.515236</td>\n",
       "      <td>1.194806</td>\n",
       "      <td>0.196237</td>\n",
       "    </tr>\n",
       "    <tr>\n",
       "      <th>1</th>\n",
       "      <td>0.733939</td>\n",
       "      <td>0.902869</td>\n",
       "      <td>-0.380580</td>\n",
       "      <td>0.234783</td>\n",
       "      <td>0.744117</td>\n",
       "      <td>0.000771</td>\n",
       "      <td>0.515236</td>\n",
       "      <td>-1.340199</td>\n",
       "      <td>0.285858</td>\n",
       "    </tr>\n",
       "    <tr>\n",
       "      <th>2</th>\n",
       "      <td>0.733939</td>\n",
       "      <td>-0.809243</td>\n",
       "      <td>2.627567</td>\n",
       "      <td>-0.527201</td>\n",
       "      <td>-1.122446</td>\n",
       "      <td>-1.437336</td>\n",
       "      <td>0.515236</td>\n",
       "      <td>1.194806</td>\n",
       "      <td>-1.405629</td>\n",
       "    </tr>\n",
       "    <tr>\n",
       "      <th>3</th>\n",
       "      <td>0.733939</td>\n",
       "      <td>-0.809243</td>\n",
       "      <td>-0.380580</td>\n",
       "      <td>-0.791972</td>\n",
       "      <td>0.895786</td>\n",
       "      <td>-0.153545</td>\n",
       "      <td>0.515236</td>\n",
       "      <td>1.194806</td>\n",
       "      <td>-0.185746</td>\n",
       "    </tr>\n",
       "    <tr>\n",
       "      <th>4</th>\n",
       "      <td>-1.362511</td>\n",
       "      <td>-0.809243</td>\n",
       "      <td>-0.380580</td>\n",
       "      <td>0.728848</td>\n",
       "      <td>-1.122446</td>\n",
       "      <td>0.238260</td>\n",
       "      <td>0.515236</td>\n",
       "      <td>1.194806</td>\n",
       "      <td>0.252679</td>\n",
       "    </tr>\n",
       "  </tbody>\n",
       "</table>\n",
       "</div>"
      ],
      "text/plain": [
       "         1         2         3         4         5         6         8   \\\n",
       "0 -1.362511 -0.809243 -0.380580  0.681780 -1.122446  0.000771  0.515236   \n",
       "1  0.733939  0.902869 -0.380580  0.234783  0.744117  0.000771  0.515236   \n",
       "2  0.733939 -0.809243  2.627567 -0.527201 -1.122446 -1.437336  0.515236   \n",
       "3  0.733939 -0.809243 -0.380580 -0.791972  0.895786 -0.153545  0.515236   \n",
       "4 -1.362511 -0.809243 -0.380580  0.728848 -1.122446  0.238260  0.515236   \n",
       "\n",
       "         9         10  \n",
       "0  1.194806  0.196237  \n",
       "1 -1.340199  0.285858  \n",
       "2  1.194806 -1.405629  \n",
       "3  1.194806 -0.185746  \n",
       "4  1.194806  0.252679  "
      ]
     },
     "execution_count": 61,
     "metadata": {},
     "output_type": "execute_result"
    }
   ],
   "source": [
    "x.drop([0,7],axis=1,inplace=True)\n",
    "x.head()"
   ]
  },
  {
   "cell_type": "markdown",
   "id": "47a492bd",
   "metadata": {},
   "source": [
    "Column 0 and 7 dropped"
   ]
  },
  {
   "cell_type": "markdown",
   "id": "2fe8b1a9",
   "metadata": {},
   "source": [
    "## Scaling using Standard Scaler"
   ]
  },
  {
   "cell_type": "code",
   "execution_count": 62,
   "id": "ec670268",
   "metadata": {},
   "outputs": [
    {
     "data": {
      "text/plain": [
       "array([[-1.36251079, -0.80924269, -0.38058018, ...,  0.51523634,\n",
       "         1.1948064 ,  0.19623673],\n",
       "       [ 0.73393914,  0.90286851, -0.38058018, ...,  0.51523634,\n",
       "        -1.34019905,  0.28585802],\n",
       "       [ 0.73393914, -0.80924269,  2.62756724, ...,  0.51523634,\n",
       "         1.1948064 , -1.40562884],\n",
       "       ...,\n",
       "       [ 0.73393914,  0.90286851, -0.38058018, ...,  0.51523634,\n",
       "         1.1948064 ,  0.94618675],\n",
       "       [ 0.73393914,  1.34467098, -0.38058018, ...,  0.51523634,\n",
       "         1.1948064 ,  0.75607963],\n",
       "       [-1.36251079, -0.80924269,  2.62756724, ..., -2.22500746,\n",
       "         0.01546372, -0.36085235]])"
      ]
     },
     "execution_count": 62,
     "metadata": {},
     "output_type": "execute_result"
    }
   ],
   "source": [
    "from sklearn.preprocessing import StandardScaler\n",
    "sc = StandardScaler()\n",
    "x=sc.fit_transform(x)\n",
    "x"
   ]
  },
  {
   "cell_type": "markdown",
   "id": "b36c8db7",
   "metadata": {},
   "source": [
    "Scaling of feature label done."
   ]
  },
  {
   "cell_type": "markdown",
   "id": "81e9063e",
   "metadata": {},
   "source": [
    "# Model Selection:"
   ]
  },
  {
   "cell_type": "markdown",
   "id": "22d9964d",
   "metadata": {},
   "source": [
    "## Logistic Regression:"
   ]
  },
  {
   "cell_type": "code",
   "execution_count": 63,
   "id": "ee8f0aea",
   "metadata": {},
   "outputs": [],
   "source": [
    "from sklearn.model_selection import train_test_split\n",
    "from sklearn.linear_model import LogisticRegression\n",
    "lr=LogisticRegression()\n",
    "from sklearn.metrics import r2_score\n",
    "from sklearn.metrics import accuracy_score\n",
    "from sklearn.metrics import classification_report"
   ]
  },
  {
   "cell_type": "code",
   "execution_count": null,
   "id": "6536305b",
   "metadata": {},
   "outputs": [],
   "source": [
    "l=[]\n",
    "for i in range(0,1000):\n",
    "    train_x,test_x,train_y,test_y=train_test_split(x,y,test_size=0.30,random_state=i)\n",
    "    lr.fit(train_x,train_y)\n",
    "    pred_train=lr.predict(train_x)\n",
    "    pred_test=lr.predict(test_x)\n",
    "    # \n",
    "    if round(accuracy_score(train_y,pred_train)*100,1)==round(accuracy_score(test_y,pred_test)*100,1):\n",
    "        print(\"At random state\",i,\"The model performs very well\")\n",
    "        print(\"At random state:-\",i)\n",
    "        print(\"Training r2_score is:-\",accuracy_score(train_y,pred_train)*100)\n",
    "        print(\"Testing r2_score is:-\",accuracy_score(test_y,pred_test)*100)\n",
    "        l.append(i)"
   ]
  },
  {
   "cell_type": "code",
   "execution_count": 65,
   "id": "bd5af91c",
   "metadata": {},
   "outputs": [],
   "source": [
    "train_x,test_x,train_y,test_y=train_test_split(x,y,test_size=0.20,random_state=861)"
   ]
  },
  {
   "cell_type": "code",
   "execution_count": 66,
   "id": "7277cba4",
   "metadata": {},
   "outputs": [
    {
     "name": "stdout",
     "output_type": "stream",
     "text": [
      "              precision    recall  f1-score   support\n",
      "\n",
      "           0       0.35      0.21      0.26        38\n",
      "           1       0.68      0.81      0.74        78\n",
      "\n",
      "    accuracy                           0.61       116\n",
      "   macro avg       0.51      0.51      0.50       116\n",
      "weighted avg       0.57      0.61      0.58       116\n",
      "\n"
     ]
    }
   ],
   "source": [
    "print(classification_report(test_y,pred_test))"
   ]
  },
  {
   "cell_type": "code",
   "execution_count": 67,
   "id": "f1c4a180",
   "metadata": {},
   "outputs": [
    {
     "name": "stdout",
     "output_type": "stream",
     "text": [
      "At cv:- 2\n",
      "Cross validation score is:- 79.72474529027298\n",
      "Accuracy score is:- 79.3103448275862\n",
      "At cv:- 3\n",
      "Cross validation score is:- 79.54987046632125\n",
      "Accuracy score is:- 79.3103448275862\n",
      "At cv:- 4\n",
      "Cross validation score is:- 79.72341954022988\n",
      "Accuracy score is:- 79.3103448275862\n",
      "At cv:- 5\n",
      "Cross validation score is:- 79.89955022488756\n",
      "Accuracy score is:- 79.3103448275862\n",
      "At cv:- 6\n",
      "Cross validation score is:- 80.06872852233677\n",
      "Accuracy score is:- 79.3103448275862\n",
      "At cv:- 7\n",
      "Cross validation score is:- 79.38793501532261\n",
      "Accuracy score is:- 79.3103448275862\n",
      "At cv:- 8\n",
      "Cross validation score is:- 79.89916286149162\n",
      "Accuracy score is:- 79.3103448275862\n",
      "At cv:- 9\n",
      "Cross validation score is:- 79.89850427350427\n",
      "Accuracy score is:- 79.3103448275862\n"
     ]
    }
   ],
   "source": [
    "pred_lr=lr.predict(test_x)\n",
    "from sklearn.model_selection import cross_val_score\n",
    "lss= accuracy_score(test_y,pred_lr)\n",
    "\n",
    "for j in range(2,10):\n",
    "    lsscore= cross_val_score(lr,x,y,cv=j)\n",
    "    lsc=lsscore.mean()\n",
    "    print(\"At cv:-\",j)\n",
    "    print(\"Cross validation score is:-\", lsc*100)\n",
    "    print(\"Accuracy score is:-\", lss*100)"
   ]
  },
  {
   "cell_type": "code",
   "execution_count": 68,
   "id": "c13287e1",
   "metadata": {},
   "outputs": [
    {
     "data": {
      "image/png": "[encoded data removed]",
      "text/plain": [
       "<Figure size 432x288 with 1 Axes>"
      ]
     },
     "metadata": {
      "needs_background": "light"
     },
     "output_type": "display_data"
    }
   ],
   "source": [
    "from sklearn.metrics import roc_curve, auc\n",
    "fpr, tpr, thresholds= roc_curve(pred_test,test_y)\n",
    "roc_auc = auc(fpr,tpr)\n",
    "\n",
    "plt.figure()\n",
    "plt.plot(fpr, tpr, color='darkorange',lw=10, label='ROC curve (area= %0.2f)' % roc_auc)\n",
    "plt.plot([0,1],[0,1], color='navy', lw=10,linestyle='--')\n",
    "plt.xlim([0.0,1.0])\n",
    "plt.ylim([0.0,1.05])\n",
    "plt.xlabel('False Positive Rate')\n",
    "plt.ylabel('True Positive Rate')\n",
    "plt.title('Receiver operating characteristic')\n",
    "plt.legend(loc='lower right')\n",
    "plt.show()"
   ]
  },
  {
   "cell_type": "markdown",
   "id": "e3ba27cf",
   "metadata": {},
   "source": [
    "ROC curve value is 51% which is good."
   ]
  },
  {
   "cell_type": "code",
   "execution_count": 69,
   "id": "273647db",
   "metadata": {},
   "outputs": [
    {
     "name": "stdout",
     "output_type": "stream",
     "text": [
      "GridSearchCV(estimator=Ridge(),\n",
      "             param_grid={'alpha': [1, 0.1, 0.01, 0.001, 0.0001, 0]})\n",
      "0.27129100285561203\n",
      "1\n",
      "{'alpha': 1}\n"
     ]
    }
   ],
   "source": [
    "# GridsearchCV\n",
    "from sklearn.model_selection import GridSearchCV\n",
    "from sklearn.model_selection import cross_val_score\n",
    "from sklearn.linear_model import Ridge\n",
    "import warnings\n",
    "warnings.filterwarnings('ignore')\n",
    "alphav= {'alpha':[1,0.1,0.01,0.001,0.0001,0]}\n",
    "model=Ridge()\n",
    "grid= GridSearchCV(estimator=model,param_grid=alphav)\n",
    "grid.fit(train_x,train_y)\n",
    "print(grid)\n",
    "print(grid.best_score_)\n",
    "print(grid.best_estimator_.alpha)\n",
    "print(grid.best_params_)"
   ]
  },
  {
   "cell_type": "markdown",
   "id": "f5afb9e1",
   "metadata": {},
   "source": [
    "Best parameters for Ridge"
   ]
  },
  {
   "cell_type": "code",
   "execution_count": 70,
   "id": "b482b40b",
   "metadata": {},
   "outputs": [
    {
     "name": "stdout",
     "output_type": "stream",
     "text": [
      "lr score: 0.8091106290672451\n",
      "Score: 0.31535770890260817\n",
      "[ 0.02590402  0.00318717  0.00129648 -0.03578946  0.02146459 -0.0498412\n",
      "  0.24511408  0.02351881  0.05562032]\n",
      "Score: 0.31535770890260817\n"
     ]
    }
   ],
   "source": [
    "from sklearn.linear_model import LogisticRegression\n",
    "lr=LogisticRegression()\n",
    "lr.fit(train_x,train_y)\n",
    "print('lr score:',lr.score(train_x,train_y))\n",
    "rd=Ridge(alpha=1)\n",
    "rd.fit(train_x,train_y)\n",
    "print('Score:', rd.score(train_x,train_y))\n",
    "print(rd.coef_)\n",
    "print('Score:', rd.score(train_x,train_y))"
   ]
  },
  {
   "cell_type": "markdown",
   "id": "db4951a1",
   "metadata": {},
   "source": [
    "lr score is 80%"
   ]
  },
  {
   "cell_type": "markdown",
   "id": "8548c360",
   "metadata": {},
   "source": [
    "## Decision Tree classifier"
   ]
  },
  {
   "cell_type": "code",
   "execution_count": 71,
   "id": "f13f4c0a",
   "metadata": {},
   "outputs": [
    {
     "name": "stdout",
     "output_type": "stream",
     "text": [
      "{'criterion': 'entropy'}\n",
      "0.7310191678354372\n",
      "0.73\n"
     ]
    }
   ],
   "source": [
    "from sklearn.model_selection import GridSearchCV\n",
    "from sklearn.tree import DecisionTreeClassifier\n",
    "\n",
    "dtc=DecisionTreeClassifier()\n",
    "grid_param={\n",
    "    'criterion':['gini','entropy']\n",
    "  }\n",
    "gd_sr=GridSearchCV(estimator=dtc,\n",
    "                  param_grid=grid_param,\n",
    "                  scoring='accuracy',\n",
    "                  cv=5)\n",
    "gd_sr.fit(train_x,train_y)\n",
    "best_parameters=gd_sr.best_params_\n",
    "print(best_parameters)\n",
    "best_result=gd_sr.best_score_\n",
    "print(best_result)\n",
    "\n",
    "print(round(best_result,2))"
   ]
  },
  {
   "cell_type": "markdown",
   "id": "5d03f7fe",
   "metadata": {},
   "source": [
    "Best parameters for DecisionTreeClassifier"
   ]
  },
  {
   "cell_type": "code",
   "execution_count": 72,
   "id": "97ff565c",
   "metadata": {},
   "outputs": [
    {
     "data": {
      "text/plain": [
       "1.0"
      ]
     },
     "execution_count": 72,
     "metadata": {},
     "output_type": "execute_result"
    }
   ],
   "source": [
    "dtc= DecisionTreeClassifier(criterion='entropy')\n",
    "dtc.fit(train_x,train_y)\n",
    "dtc.score(train_x,train_y)"
   ]
  },
  {
   "cell_type": "code",
   "execution_count": 73,
   "id": "c71974c3",
   "metadata": {},
   "outputs": [
    {
     "name": "stdout",
     "output_type": "stream",
     "text": [
      "Cross Val Score: 70.18162393162393\n"
     ]
    }
   ],
   "source": [
    "dtscore = cross_val_score(dtc,x,y,cv=9)\n",
    "dts = dtscore.mean()\n",
    "print('Cross Val Score:',dts*100)"
   ]
  },
  {
   "cell_type": "markdown",
   "id": "232571de",
   "metadata": {},
   "source": [
    "Cross Val Score: 70.7 %"
   ]
  },
  {
   "cell_type": "code",
   "execution_count": 74,
   "id": "54385fd0",
   "metadata": {},
   "outputs": [
    {
     "name": "stdout",
     "output_type": "stream",
     "text": [
      "Accuracy of the model is:  0.6379310344827587\n",
      "Confusion Matrix:  [[21 17]\n",
      " [25 53]]\n"
     ]
    }
   ],
   "source": [
    "#Predicted value\n",
    "pred = dtc.predict(test_x)\n",
    "from sklearn.metrics import accuracy_score, confusion_matrix\n",
    "accuracy=accuracy_score(test_y,pred)\n",
    "confusion= confusion_matrix(test_y,pred)\n",
    "print(\"Accuracy of the model is: \",accuracy)\n",
    "print(\"Confusion Matrix: \", confusion)"
   ]
  },
  {
   "cell_type": "markdown",
   "id": "370b3901",
   "metadata": {},
   "source": [
    "Accuracy of Decision Tree Classifier model is 63.7%"
   ]
  },
  {
   "cell_type": "markdown",
   "id": "67925369",
   "metadata": {},
   "source": [
    "## SVM(SVC)"
   ]
  },
  {
   "cell_type": "code",
   "execution_count": 92,
   "id": "078b64e2",
   "metadata": {},
   "outputs": [
    {
     "name": "stdout",
     "output_type": "stream",
     "text": [
      "{'C': 1, 'kernel': 'linear'}\n"
     ]
    }
   ],
   "source": [
    "from sklearn.model_selection import GridSearchCV\n",
    "from sklearn import svm\n",
    "parameters={'kernel':['linear','rbf'],'C':[1,10]}\n",
    "svc=svm.SVC()\n",
    "clf= GridSearchCV(svc,parameters)\n",
    "clf.fit(train_x,train_y)\n",
    "print(clf.best_params_)"
   ]
  },
  {
   "cell_type": "markdown",
   "id": "94331dbe",
   "metadata": {},
   "source": [
    "Best parameters for SVC"
   ]
  },
  {
   "cell_type": "code",
   "execution_count": 93,
   "id": "56041275",
   "metadata": {},
   "outputs": [
    {
     "data": {
      "text/plain": [
       "0.8221258134490239"
      ]
     },
     "execution_count": 93,
     "metadata": {},
     "output_type": "execute_result"
    }
   ],
   "source": [
    "sv=svm.SVC(kernel='linear',C=1)\n",
    "sv.fit(train_x,train_y)\n",
    "sv.score(train_x,train_y)"
   ]
  },
  {
   "cell_type": "markdown",
   "id": "df4eaacf",
   "metadata": {},
   "source": [
    "SV Score: 82.2%"
   ]
  },
  {
   "cell_type": "code",
   "execution_count": 94,
   "id": "2c715fd4",
   "metadata": {},
   "outputs": [
    {
     "name": "stdout",
     "output_type": "stream",
     "text": [
      "Accuracy of the model is:  0.7931034482758621\n",
      "Confusion Matrix:  [[15 23]\n",
      " [ 1 77]]\n"
     ]
    }
   ],
   "source": [
    "#Predicted value\n",
    "pred = sv.predict(test_x)\n",
    "from sklearn.metrics import accuracy_score, confusion_matrix\n",
    "accuracy=accuracy_score(test_y,pred)\n",
    "confusion=confusion_matrix(test_y,pred)\n",
    "print(\"Accuracy of the model is: \",accuracy)\n",
    "print(\"Confusion Matrix: \", confusion)"
   ]
  },
  {
   "cell_type": "markdown",
   "id": "d569d4f6",
   "metadata": {},
   "source": [
    "Accuracy of the model is: 79.3%"
   ]
  },
  {
   "cell_type": "code",
   "execution_count": 95,
   "id": "2b956a98",
   "metadata": {},
   "outputs": [
    {
     "name": "stdout",
     "output_type": "stream",
     "text": [
      "Cross Val Score: 81.6292735042735\n"
     ]
    }
   ],
   "source": [
    "svscore = cross_val_score(sv,x,y,cv=9)\n",
    "svs = svscore.mean()\n",
    "print('Cross Val Score:',svs*100)"
   ]
  },
  {
   "cell_type": "markdown",
   "id": "b5927d57",
   "metadata": {},
   "source": [
    "Cross Val Score: 81.6 %"
   ]
  },
  {
   "cell_type": "code",
   "execution_count": 96,
   "id": "e2a34c11",
   "metadata": {},
   "outputs": [
    {
     "data": {
      "image/png": "[encoded data removed]",
      "text/plain": [
       "<Figure size 432x288 with 1 Axes>"
      ]
     },
     "metadata": {
      "needs_background": "light"
     },
     "output_type": "display_data"
    }
   ],
   "source": [
    "from sklearn.metrics import roc_curve, auc\n",
    "fpr, tpr, thresholds= roc_curve(pred_test,test_y)\n",
    "roc_auc = auc(fpr,tpr)\n",
    "\n",
    "plt.figure()\n",
    "plt.plot(fpr, tpr, color='darkorange',lw=10, label='ROC curve (area= %0.2f)' % roc_auc)\n",
    "plt.plot([0,1],[0,1], color='navy', lw=10,linestyle='--')\n",
    "plt.xlim([0.0,1.0])\n",
    "plt.ylim([0.0,1.05])\n",
    "plt.xlabel('False Positive Rate')\n",
    "plt.ylabel('True Positive Rate')\n",
    "plt.title('Receiver operating characteristic')\n",
    "plt.legend(loc='lower right')\n",
    "plt.show()"
   ]
  },
  {
   "cell_type": "markdown",
   "id": "dc2f2de7",
   "metadata": {},
   "source": [
    "ROC curve value is 51% which is good."
   ]
  },
  {
   "cell_type": "markdown",
   "id": "0dc0b727",
   "metadata": {},
   "source": [
    "## RandomForestClassifier"
   ]
  },
  {
   "cell_type": "code",
   "execution_count": 84,
   "id": "9e84c6cc",
   "metadata": {},
   "outputs": [
    {
     "name": "stdout",
     "output_type": "stream",
     "text": [
      "{'max_depth': 11, 'max_features': 2}\n"
     ]
    }
   ],
   "source": [
    "from sklearn.model_selection import GridSearchCV\n",
    "from sklearn.datasets import make_classification\n",
    "from sklearn.ensemble import RandomForestClassifier\n",
    "rfc=RandomForestClassifier()\n",
    "\n",
    "forest_params = [{'max_depth': list(range(10, 15)), 'max_features': list(range(0,14))}]\n",
    "\n",
    "clf = GridSearchCV(rfc, forest_params, cv = 10, scoring='accuracy')\n",
    "\n",
    "clf.fit(train_x,train_y)\n",
    "    \n",
    "print(clf.best_params_)"
   ]
  },
  {
   "cell_type": "markdown",
   "id": "4c26284b",
   "metadata": {},
   "source": [
    "Best parameters for RandomForestClassifier "
   ]
  },
  {
   "cell_type": "code",
   "execution_count": 85,
   "id": "fd0bead0",
   "metadata": {},
   "outputs": [
    {
     "data": {
      "text/plain": [
       "0.9739696312364425"
      ]
     },
     "execution_count": 85,
     "metadata": {},
     "output_type": "execute_result"
    }
   ],
   "source": [
    "rfc= RandomForestClassifier(max_depth=11,max_features=2)\n",
    "rfc.fit(train_x,train_y)\n",
    "rfc.score(train_x,train_y)"
   ]
  },
  {
   "cell_type": "code",
   "execution_count": 86,
   "id": "0a454d00",
   "metadata": {},
   "outputs": [
    {
     "name": "stdout",
     "output_type": "stream",
     "text": [
      "Accuracy of the model is:  0.7586206896551724\n",
      "Confusion Matrix:  [[15 23]\n",
      " [ 5 73]]\n"
     ]
    }
   ],
   "source": [
    "#Predicted value\n",
    "pred = rfc.predict(test_x)\n",
    "from sklearn.metrics import accuracy_score, confusion_matrix\n",
    "accuracy=accuracy_score(test_y,pred)\n",
    "confusion=confusion_matrix(test_y,pred)\n",
    "print(\"Accuracy of the model is: \",accuracy)\n",
    "print(\"Confusion Matrix: \", confusion)"
   ]
  },
  {
   "cell_type": "markdown",
   "id": "f651710f",
   "metadata": {},
   "source": [
    "Accuracy of the model is: 75.8%"
   ]
  },
  {
   "cell_type": "code",
   "execution_count": 87,
   "id": "6c7c3acc",
   "metadata": {},
   "outputs": [
    {
     "name": "stdout",
     "output_type": "stream",
     "text": [
      "Cross Val Score: 80.9375\n"
     ]
    }
   ],
   "source": [
    "rfscore = cross_val_score(rfc,x,y,cv=9)\n",
    "rfs = rfscore.mean()\n",
    "print('Cross Val Score:',rfs*100)"
   ]
  },
  {
   "cell_type": "markdown",
   "id": "4663770d",
   "metadata": {},
   "source": [
    "Cross Val Score:80.9%"
   ]
  },
  {
   "cell_type": "markdown",
   "id": "3c3a7025",
   "metadata": {},
   "source": [
    "## KNeighbors Classifier"
   ]
  },
  {
   "cell_type": "code",
   "execution_count": 80,
   "id": "6b8db77e",
   "metadata": {},
   "outputs": [
    {
     "name": "stdout",
     "output_type": "stream",
     "text": [
      "{'algorithm': 'auto', 'n_neighbors': 9, 'weights': 'uniform'}\n"
     ]
    }
   ],
   "source": [
    "from sklearn.neighbors import KNeighborsClassifier\n",
    "from sklearn.model_selection import GridSearchCV\n",
    "from sklearn.datasets import make_classification\n",
    "\n",
    "knc=KNeighborsClassifier()\n",
    "\n",
    "parameters = {'n_neighbors':list(range(0,10)),\n",
    "              'weights':['uniform', 'distance'],\n",
    "              'algorithm':['auto', 'ball_tree', 'kd_tree', 'brute']\n",
    "              }\n",
    "\n",
    "clf = GridSearchCV(knc, parameters, cv=9, scoring='accuracy')\n",
    "\n",
    "clf.fit(train_x,train_y)\n",
    "    \n",
    "print(clf.best_params_)"
   ]
  },
  {
   "cell_type": "markdown",
   "id": "c67f9f22",
   "metadata": {},
   "source": [
    "Best parameters for KNeighborsClassifier"
   ]
  },
  {
   "cell_type": "code",
   "execution_count": 81,
   "id": "4cd66f84",
   "metadata": {},
   "outputs": [
    {
     "data": {
      "text/plain": [
       "0.8351409978308026"
      ]
     },
     "execution_count": 81,
     "metadata": {},
     "output_type": "execute_result"
    }
   ],
   "source": [
    "knc= KNeighborsClassifier(algorithm='auto',n_neighbors=9,weights='uniform')\n",
    "knc.fit(train_x,train_y)\n",
    "knc.score(train_x,train_y)"
   ]
  },
  {
   "cell_type": "code",
   "execution_count": 82,
   "id": "532fb9c5",
   "metadata": {},
   "outputs": [
    {
     "name": "stdout",
     "output_type": "stream",
     "text": [
      "Accuracy of the model is:  0.7672413793103449\n",
      "Confusion Matrix:  [[13 25]\n",
      " [ 2 76]]\n"
     ]
    }
   ],
   "source": [
    "#Predicted value\n",
    "pred = knc.predict(test_x)\n",
    "from sklearn.metrics import accuracy_score, confusion_matrix\n",
    "accuracy=accuracy_score(test_y,pred)\n",
    "confusion=confusion_matrix(test_y,pred)\n",
    "print(\"Accuracy of the model is: \",accuracy)\n",
    "print(\"Confusion Matrix: \", confusion)"
   ]
  },
  {
   "cell_type": "markdown",
   "id": "b6f46e33",
   "metadata": {},
   "source": [
    "Accuracy of the model is: 76.7%"
   ]
  },
  {
   "cell_type": "code",
   "execution_count": 83,
   "id": "b877746a",
   "metadata": {},
   "outputs": [
    {
     "name": "stdout",
     "output_type": "stream",
     "text": [
      "Cross Val Score: 80.42693421770706\n"
     ]
    }
   ],
   "source": [
    "knscore = cross_val_score(knc,x,y,cv=7)\n",
    "kns = knscore.mean()\n",
    "print('Cross Val Score:',kns*100)"
   ]
  },
  {
   "cell_type": "markdown",
   "id": "78e59373",
   "metadata": {},
   "source": [
    "Cross Val Score: 80.4%"
   ]
  },
  {
   "cell_type": "markdown",
   "id": "01158029",
   "metadata": {},
   "source": [
    "## Best Model is SVC as it has Accuracy of 79.3% and Cross val score of 81.6%"
   ]
  },
  {
   "cell_type": "markdown",
   "id": "304dfba6",
   "metadata": {},
   "source": [
    "# Model saving:"
   ]
  },
  {
   "cell_type": "code",
   "execution_count": 88,
   "id": "c65f8e0b",
   "metadata": {},
   "outputs": [],
   "source": [
    "import pickle\n",
    "filename = 'Loan_prediction.pkl'\n",
    "pickle.dump(sv, open(filename, 'wb'))"
   ]
  },
  {
   "cell_type": "markdown",
   "id": "ee711e08",
   "metadata": {},
   "source": [
    "## Accuracy:"
   ]
  },
  {
   "cell_type": "code",
   "execution_count": 89,
   "id": "90235cd8",
   "metadata": {},
   "outputs": [
    {
     "name": "stdout",
     "output_type": "stream",
     "text": [
      "0.7931034482758621\n"
     ]
    }
   ],
   "source": [
    "loaded_model = pickle.load(open('Loan_prediction.pkl', 'rb'))\n",
    "result = loaded_model.score(test_x, test_y)\n",
    "print(result)"
   ]
  },
  {
   "cell_type": "markdown",
   "id": "41973cb2",
   "metadata": {},
   "source": [
    "Accuracy of 79.3% so model performing well"
   ]
  },
  {
   "cell_type": "markdown",
   "id": "8cad3e66",
   "metadata": {},
   "source": [
    "## Conclusion:"
   ]
  },
  {
   "cell_type": "code",
   "execution_count": 90,
   "id": "f182a05c",
   "metadata": {},
   "outputs": [
    {
     "data": {
      "text/html": [
       "<div>\n",
       "<style scoped>\n",
       "    .dataframe tbody tr th:only-of-type {\n",
       "        vertical-align: middle;\n",
       "    }\n",
       "\n",
       "    .dataframe tbody tr th {\n",
       "        vertical-align: top;\n",
       "    }\n",
       "\n",
       "    .dataframe thead th {\n",
       "        text-align: right;\n",
       "    }\n",
       "</style>\n",
       "<table border=\"1\" class=\"dataframe\">\n",
       "  <thead>\n",
       "    <tr style=\"text-align: right;\">\n",
       "      <th></th>\n",
       "      <th>original</th>\n",
       "      <th>predicted</th>\n",
       "    </tr>\n",
       "  </thead>\n",
       "  <tbody>\n",
       "    <tr>\n",
       "      <th>0</th>\n",
       "      <td>0</td>\n",
       "      <td>1</td>\n",
       "    </tr>\n",
       "    <tr>\n",
       "      <th>1</th>\n",
       "      <td>1</td>\n",
       "      <td>1</td>\n",
       "    </tr>\n",
       "    <tr>\n",
       "      <th>2</th>\n",
       "      <td>1</td>\n",
       "      <td>1</td>\n",
       "    </tr>\n",
       "    <tr>\n",
       "      <th>3</th>\n",
       "      <td>1</td>\n",
       "      <td>1</td>\n",
       "    </tr>\n",
       "    <tr>\n",
       "      <th>4</th>\n",
       "      <td>1</td>\n",
       "      <td>1</td>\n",
       "    </tr>\n",
       "    <tr>\n",
       "      <th>...</th>\n",
       "      <td>...</td>\n",
       "      <td>...</td>\n",
       "    </tr>\n",
       "    <tr>\n",
       "      <th>111</th>\n",
       "      <td>1</td>\n",
       "      <td>1</td>\n",
       "    </tr>\n",
       "    <tr>\n",
       "      <th>112</th>\n",
       "      <td>1</td>\n",
       "      <td>1</td>\n",
       "    </tr>\n",
       "    <tr>\n",
       "      <th>113</th>\n",
       "      <td>0</td>\n",
       "      <td>1</td>\n",
       "    </tr>\n",
       "    <tr>\n",
       "      <th>114</th>\n",
       "      <td>1</td>\n",
       "      <td>1</td>\n",
       "    </tr>\n",
       "    <tr>\n",
       "      <th>115</th>\n",
       "      <td>1</td>\n",
       "      <td>1</td>\n",
       "    </tr>\n",
       "  </tbody>\n",
       "</table>\n",
       "<p>116 rows × 2 columns</p>\n",
       "</div>"
      ],
      "text/plain": [
       "     original  predicted\n",
       "0           0          1\n",
       "1           1          1\n",
       "2           1          1\n",
       "3           1          1\n",
       "4           1          1\n",
       "..        ...        ...\n",
       "111         1          1\n",
       "112         1          1\n",
       "113         0          1\n",
       "114         1          1\n",
       "115         1          1\n",
       "\n",
       "[116 rows x 2 columns]"
      ]
     },
     "execution_count": 90,
     "metadata": {},
     "output_type": "execute_result"
    }
   ],
   "source": [
    "import numpy as np\n",
    "a=np.array(test_y)\n",
    "pred_decision =np.array(sv.predict(test_x))\n",
    "df_com=pd.DataFrame({\"original\":a, \"predicted\": pred},index=range(len(a)))\n",
    "df_com"
   ]
  },
  {
   "cell_type": "markdown",
   "id": "788d595e",
   "metadata": {},
   "source": [
    "As per observation the predicted and actual data are almost same."
   ]
  }
 ],
 "metadata": {
  "kernelspec": {
   "display_name": "Python 3",
   "language": "python",
   "name": "python3"
  },
  "language_info": {
   "codemirror_mode": {
    "name": "ipython",
    "version": 3
   },
   "file_extension": ".py",
   "mimetype": "text/x-python",
   "name": "python",
   "nbconvert_exporter": "python",
   "pygments_lexer": "ipython3",
   "version": "3.8.8"
  }
 },
 "nbformat": 4,
 "nbformat_minor": 5
}
