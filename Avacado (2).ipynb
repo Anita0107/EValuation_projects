{
 "cells": [
  {
   "cell_type": "markdown",
   "id": "40b95dff",
   "metadata": {},
   "source": [
    "Importing Dataset"
   ]
  },
  {
   "cell_type": "code",
   "execution_count": 4,
   "id": "70ead6cb",
   "metadata": {},
   "outputs": [],
   "source": [
    "import numpy as np\n",
    "import pandas as pd"
   ]
  },
  {
   "cell_type": "code",
   "execution_count": 5,
   "id": "ca6aee14",
   "metadata": {},
   "outputs": [],
   "source": [
    "ds=pd.read_csv('avocado.csv') #Importing Dataset"
   ]
  },
  {
   "cell_type": "code",
   "execution_count": 6,
   "id": "25d25698",
   "metadata": {},
   "outputs": [
    {
     "data": {
      "text/html": [
       "<div>\n",
       "<style scoped>\n",
       "    .dataframe tbody tr th:only-of-type {\n",
       "        vertical-align: middle;\n",
       "    }\n",
       "\n",
       "    .dataframe tbody tr th {\n",
       "        vertical-align: top;\n",
       "    }\n",
       "\n",
       "    .dataframe thead th {\n",
       "        text-align: right;\n",
       "    }\n",
       "</style>\n",
       "<table border=\"1\" class=\"dataframe\">\n",
       "  <thead>\n",
       "    <tr style=\"text-align: right;\">\n",
       "      <th></th>\n",
       "      <th>Unnamed: 0</th>\n",
       "      <th>Date</th>\n",
       "      <th>AveragePrice</th>\n",
       "      <th>Total Volume</th>\n",
       "      <th>4046</th>\n",
       "      <th>4225</th>\n",
       "      <th>4770</th>\n",
       "      <th>Total Bags</th>\n",
       "      <th>Small Bags</th>\n",
       "      <th>Large Bags</th>\n",
       "      <th>XLarge Bags</th>\n",
       "      <th>type</th>\n",
       "      <th>year</th>\n",
       "      <th>region</th>\n",
       "    </tr>\n",
       "  </thead>\n",
       "  <tbody>\n",
       "    <tr>\n",
       "      <th>0</th>\n",
       "      <td>0</td>\n",
       "      <td>2015-12-27</td>\n",
       "      <td>1.33</td>\n",
       "      <td>64236.62</td>\n",
       "      <td>1036.74</td>\n",
       "      <td>54454.85</td>\n",
       "      <td>48.16</td>\n",
       "      <td>8696.87</td>\n",
       "      <td>8603.62</td>\n",
       "      <td>93.25</td>\n",
       "      <td>0.0</td>\n",
       "      <td>conventional</td>\n",
       "      <td>2015</td>\n",
       "      <td>Albany</td>\n",
       "    </tr>\n",
       "    <tr>\n",
       "      <th>1</th>\n",
       "      <td>1</td>\n",
       "      <td>2015-12-20</td>\n",
       "      <td>1.35</td>\n",
       "      <td>54876.98</td>\n",
       "      <td>674.28</td>\n",
       "      <td>44638.81</td>\n",
       "      <td>58.33</td>\n",
       "      <td>9505.56</td>\n",
       "      <td>9408.07</td>\n",
       "      <td>97.49</td>\n",
       "      <td>0.0</td>\n",
       "      <td>conventional</td>\n",
       "      <td>2015</td>\n",
       "      <td>Albany</td>\n",
       "    </tr>\n",
       "    <tr>\n",
       "      <th>2</th>\n",
       "      <td>2</td>\n",
       "      <td>2015-12-13</td>\n",
       "      <td>0.93</td>\n",
       "      <td>118220.22</td>\n",
       "      <td>794.70</td>\n",
       "      <td>109149.67</td>\n",
       "      <td>130.50</td>\n",
       "      <td>8145.35</td>\n",
       "      <td>8042.21</td>\n",
       "      <td>103.14</td>\n",
       "      <td>0.0</td>\n",
       "      <td>conventional</td>\n",
       "      <td>2015</td>\n",
       "      <td>Albany</td>\n",
       "    </tr>\n",
       "    <tr>\n",
       "      <th>3</th>\n",
       "      <td>3</td>\n",
       "      <td>2015-12-06</td>\n",
       "      <td>1.08</td>\n",
       "      <td>78992.15</td>\n",
       "      <td>1132.00</td>\n",
       "      <td>71976.41</td>\n",
       "      <td>72.58</td>\n",
       "      <td>5811.16</td>\n",
       "      <td>5677.40</td>\n",
       "      <td>133.76</td>\n",
       "      <td>0.0</td>\n",
       "      <td>conventional</td>\n",
       "      <td>2015</td>\n",
       "      <td>Albany</td>\n",
       "    </tr>\n",
       "    <tr>\n",
       "      <th>4</th>\n",
       "      <td>4</td>\n",
       "      <td>2015-11-29</td>\n",
       "      <td>1.28</td>\n",
       "      <td>51039.60</td>\n",
       "      <td>941.48</td>\n",
       "      <td>43838.39</td>\n",
       "      <td>75.78</td>\n",
       "      <td>6183.95</td>\n",
       "      <td>5986.26</td>\n",
       "      <td>197.69</td>\n",
       "      <td>0.0</td>\n",
       "      <td>conventional</td>\n",
       "      <td>2015</td>\n",
       "      <td>Albany</td>\n",
       "    </tr>\n",
       "  </tbody>\n",
       "</table>\n",
       "</div>"
      ],
      "text/plain": [
       "   Unnamed: 0        Date  AveragePrice  Total Volume     4046       4225  \\\n",
       "0           0  2015-12-27          1.33      64236.62  1036.74   54454.85   \n",
       "1           1  2015-12-20          1.35      54876.98   674.28   44638.81   \n",
       "2           2  2015-12-13          0.93     118220.22   794.70  109149.67   \n",
       "3           3  2015-12-06          1.08      78992.15  1132.00   71976.41   \n",
       "4           4  2015-11-29          1.28      51039.60   941.48   43838.39   \n",
       "\n",
       "     4770  Total Bags  Small Bags  Large Bags  XLarge Bags          type  \\\n",
       "0   48.16     8696.87     8603.62       93.25          0.0  conventional   \n",
       "1   58.33     9505.56     9408.07       97.49          0.0  conventional   \n",
       "2  130.50     8145.35     8042.21      103.14          0.0  conventional   \n",
       "3   72.58     5811.16     5677.40      133.76          0.0  conventional   \n",
       "4   75.78     6183.95     5986.26      197.69          0.0  conventional   \n",
       "\n",
       "   year  region  \n",
       "0  2015  Albany  \n",
       "1  2015  Albany  \n",
       "2  2015  Albany  \n",
       "3  2015  Albany  \n",
       "4  2015  Albany  "
      ]
     },
     "execution_count": 6,
     "metadata": {},
     "output_type": "execute_result"
    }
   ],
   "source": [
    "df=pd.DataFrame(ds)\n",
    "df.head()"
   ]
  },
  {
   "cell_type": "markdown",
   "id": "20a21e9c",
   "metadata": {},
   "source": [
    "Dataset in Dataframe format"
   ]
  },
  {
   "cell_type": "code",
   "execution_count": 4,
   "id": "69c5418e",
   "metadata": {},
   "outputs": [
    {
     "data": {
      "text/plain": [
       "(18249, 14)"
      ]
     },
     "execution_count": 4,
     "metadata": {},
     "output_type": "execute_result"
    }
   ],
   "source": [
    "# Rows & Columns in dataset:\n",
    "\n",
    "df.shape"
   ]
  },
  {
   "cell_type": "markdown",
   "id": "2719b30f",
   "metadata": {},
   "source": [
    "Dataset has 18249 Rows and 14 Columns"
   ]
  },
  {
   "cell_type": "code",
   "execution_count": 5,
   "id": "6eb22389",
   "metadata": {},
   "outputs": [
    {
     "data": {
      "text/plain": [
       "Unnamed: 0        int64\n",
       "Date             object\n",
       "AveragePrice    float64\n",
       "Total Volume    float64\n",
       "4046            float64\n",
       "4225            float64\n",
       "4770            float64\n",
       "Total Bags      float64\n",
       "Small Bags      float64\n",
       "Large Bags      float64\n",
       "XLarge Bags     float64\n",
       "type             object\n",
       "year              int64\n",
       "region           object\n",
       "dtype: object"
      ]
     },
     "execution_count": 5,
     "metadata": {},
     "output_type": "execute_result"
    }
   ],
   "source": [
    "# Datatype of dataset\n",
    "\n",
    "df.dtypes"
   ]
  },
  {
   "cell_type": "markdown",
   "id": "af2c9ecb",
   "metadata": {},
   "source": [
    "3 Object datatype and 11 numeric datatype \n",
    "Target labels are 'AveragePrice' for Regression and 'region' for Classification."
   ]
  },
  {
   "cell_type": "code",
   "execution_count": 6,
   "id": "deaaf051",
   "metadata": {},
   "outputs": [
    {
     "data": {
      "text/plain": [
       "Unnamed: 0      0\n",
       "Date            0\n",
       "AveragePrice    0\n",
       "Total Volume    0\n",
       "4046            0\n",
       "4225            0\n",
       "4770            0\n",
       "Total Bags      0\n",
       "Small Bags      0\n",
       "Large Bags      0\n",
       "XLarge Bags     0\n",
       "type            0\n",
       "year            0\n",
       "region          0\n",
       "dtype: int64"
      ]
     },
     "execution_count": 6,
     "metadata": {},
     "output_type": "execute_result"
    }
   ],
   "source": [
    "#Null values \n",
    "\n",
    "df.isnull().sum()"
   ]
  },
  {
   "cell_type": "markdown",
   "id": "d590300b",
   "metadata": {},
   "source": [
    "No null values"
   ]
  },
  {
   "cell_type": "code",
   "execution_count": 7,
   "id": "bb8a8a8a",
   "metadata": {},
   "outputs": [
    {
     "name": "stdout",
     "output_type": "stream",
     "text": [
      "Unnamed: 0: [ 0  1  2  3  4  5  6  7  8  9 10 11 12 13 14 15 16 17 18 19 20 21 22 23\n",
      " 24 25 26 27 28 29 30 31 32 33 34 35 36 37 38 39 40 41 42 43 44 45 46 47\n",
      " 48 49 50 51 52]\n",
      "Date: ['2015-12-27' '2015-12-20' '2015-12-13' '2015-12-06' '2015-11-29'\n",
      " '2015-11-22' '2015-11-15' '2015-11-08' '2015-11-01' '2015-10-25'\n",
      " '2015-10-18' '2015-10-11' '2015-10-04' '2015-09-27' '2015-09-20'\n",
      " '2015-09-13' '2015-09-06' '2015-08-30' '2015-08-23' '2015-08-16'\n",
      " '2015-08-09' '2015-08-02' '2015-07-26' '2015-07-19' '2015-07-12'\n",
      " '2015-07-05' '2015-06-28' '2015-06-21' '2015-06-14' '2015-06-07'\n",
      " '2015-05-31' '2015-05-24' '2015-05-17' '2015-05-10' '2015-05-03'\n",
      " '2015-04-26' '2015-04-19' '2015-04-12' '2015-04-05' '2015-03-29'\n",
      " '2015-03-22' '2015-03-15' '2015-03-08' '2015-03-01' '2015-02-22'\n",
      " '2015-02-15' '2015-02-08' '2015-02-01' '2015-01-25' '2015-01-18'\n",
      " '2015-01-11' '2015-01-04' '2016-12-25' '2016-12-18' '2016-12-11'\n",
      " '2016-12-04' '2016-11-27' '2016-11-20' '2016-11-13' '2016-11-06'\n",
      " '2016-10-30' '2016-10-23' '2016-10-16' '2016-10-09' '2016-10-02'\n",
      " '2016-09-25' '2016-09-18' '2016-09-11' '2016-09-04' '2016-08-28'\n",
      " '2016-08-21' '2016-08-14' '2016-08-07' '2016-07-31' '2016-07-24'\n",
      " '2016-07-17' '2016-07-10' '2016-07-03' '2016-06-26' '2016-06-19'\n",
      " '2016-06-12' '2016-06-05' '2016-05-29' '2016-05-22' '2016-05-15'\n",
      " '2016-05-08' '2016-05-01' '2016-04-24' '2016-04-17' '2016-04-10'\n",
      " '2016-04-03' '2016-03-27' '2016-03-20' '2016-03-13' '2016-03-06'\n",
      " '2016-02-28' '2016-02-21' '2016-02-14' '2016-02-07' '2016-01-31'\n",
      " '2016-01-24' '2016-01-17' '2016-01-10' '2016-01-03' '2017-12-31'\n",
      " '2017-12-24' '2017-12-17' '2017-12-10' '2017-12-03' '2017-11-26'\n",
      " '2017-11-19' '2017-11-12' '2017-11-05' '2017-10-29' '2017-10-22'\n",
      " '2017-10-15' '2017-10-08' '2017-10-01' '2017-09-24' '2017-09-17'\n",
      " '2017-09-10' '2017-09-03' '2017-08-27' '2017-08-20' '2017-08-13'\n",
      " '2017-08-06' '2017-07-30' '2017-07-23' '2017-07-16' '2017-07-09'\n",
      " '2017-07-02' '2017-06-25' '2017-06-18' '2017-06-11' '2017-06-04'\n",
      " '2017-05-28' '2017-05-21' '2017-05-14' '2017-05-07' '2017-04-30'\n",
      " '2017-04-23' '2017-04-16' '2017-04-09' '2017-04-02' '2017-03-26'\n",
      " '2017-03-19' '2017-03-12' '2017-03-05' '2017-02-26' '2017-02-19'\n",
      " '2017-02-12' '2017-02-05' '2017-01-29' '2017-01-22' '2017-01-15'\n",
      " '2017-01-08' '2017-01-01' '2018-03-25' '2018-03-18' '2018-03-11'\n",
      " '2018-03-04' '2018-02-25' '2018-02-18' '2018-02-11' '2018-02-04'\n",
      " '2018-01-28' '2018-01-21' '2018-01-14' '2018-01-07']\n",
      "AveragePrice: [1.33 1.35 0.93 1.08 1.28 1.26 0.99 0.98 1.02 1.07 1.12 1.31 1.11 1.34\n",
      " 1.45 1.05 1.37 1.27 1.32 1.23 1.19 1.43 1.2  1.22 1.13 1.16 1.06 1.17\n",
      " 1.24 0.96 1.   1.09 0.95 0.97 1.15 1.01 1.14 1.1  1.04 1.03 1.18 1.29\n",
      " 1.25 0.71 0.94 0.91 1.39 1.4  1.36 1.3  1.54 1.59 1.56 1.38 1.49 1.5\n",
      " 1.47 1.42 1.41 1.44 1.52 0.9  0.87 0.78 0.92 0.83 0.88 0.84 0.85 1.21\n",
      " 0.79 0.89 0.86 0.8  0.82 0.74 0.81 0.77 0.75 0.65 0.73 0.68 0.72 0.67\n",
      " 0.76 0.62 0.7  0.66 1.46 0.49 0.53 0.56 0.6  0.58 0.54 0.52 0.51 0.57\n",
      " 0.63 0.64 0.61 1.48 1.55 1.58 1.53 1.57 1.51 0.69 1.62 1.63 1.61 1.6\n",
      " 1.73 1.8  1.86 1.85 1.69 1.66 1.65 1.64 1.67 1.68 1.82 2.07 1.84 1.83\n",
      " 1.7  1.72 1.81 1.78 0.59 1.9  1.93 1.99 1.95 1.89 1.76 1.71 1.74 0.55\n",
      " 1.79 1.75 1.94 2.2  1.87 1.77 2.06 2.11 2.22 2.14 2.15 2.02 2.   1.88\n",
      " 1.96 2.19 2.09 1.98 1.97 1.92 2.04 0.46 2.01 2.08 2.03 2.05 2.28 2.35\n",
      " 2.29 1.91 2.18 2.24 2.12 2.13 2.16 2.32 2.34 2.33 2.31 2.23 2.27 2.3\n",
      " 2.41 2.36 2.37 2.39 2.42 2.45 2.38 2.4  2.25 2.26 2.17 2.21 2.1  2.58\n",
      " 2.79 2.66 2.59 2.74 2.73 2.77 2.71 2.72 2.76 2.75 2.49 2.54 2.67 2.68\n",
      " 2.57 2.85 3.03 2.91 2.44 2.65 2.46 2.62 2.47 2.55 2.52 2.61 2.82 2.51\n",
      " 2.56 2.88 2.94 2.99 3.12 3.25 2.93 2.64 2.89 2.83 2.78 2.63 2.8  2.48\n",
      " 2.5  2.53 0.44 0.48 2.6  2.43 2.81 3.05 2.87 2.86 2.84 3.   2.92 2.97\n",
      " 3.04 2.9  2.7  2.69 2.96 2.95 3.17]\n",
      "Total Volume: [ 64236.62  54876.98 118220.22 ...  13766.76  16205.22  17489.58]\n",
      "4046: [1036.74  674.28  794.7  ... 1191.92 1527.63 2894.77]\n",
      "4225: [ 54454.85  44638.81 109149.67 ...   2452.79   2981.04   2356.13]\n",
      "4770: [ 48.16  58.33 130.5  ... 727.94 727.01 224.53]\n",
      "Total Bags: [ 8696.87  9505.56  8145.35 ...  9394.11 10969.54 12014.15]\n",
      "Small Bags: [ 8603.62  9408.07  8042.21 ...  9351.8  10919.54 11988.14]\n",
      "Large Bags: [ 93.25  97.49 103.14 ... 324.8   42.31  26.01]\n",
      "XLarge Bags: [  0.    33.33 104.17 ... 228.27  12.12  24.18]\n",
      "type: ['conventional' 'organic']\n",
      "year: [2015 2016 2017 2018]\n",
      "region: ['Albany' 'Atlanta' 'BaltimoreWashington' 'Boise' 'Boston'\n",
      " 'BuffaloRochester' 'California' 'Charlotte' 'Chicago' 'CincinnatiDayton'\n",
      " 'Columbus' 'DallasFtWorth' 'Denver' 'Detroit' 'GrandRapids' 'GreatLakes'\n",
      " 'HarrisburgScranton' 'HartfordSpringfield' 'Houston' 'Indianapolis'\n",
      " 'Jacksonville' 'LasVegas' 'LosAngeles' 'Louisville' 'MiamiFtLauderdale'\n",
      " 'Midsouth' 'Nashville' 'NewOrleansMobile' 'NewYork' 'Northeast'\n",
      " 'NorthernNewEngland' 'Orlando' 'Philadelphia' 'PhoenixTucson'\n",
      " 'Pittsburgh' 'Plains' 'Portland' 'RaleighGreensboro' 'RichmondNorfolk'\n",
      " 'Roanoke' 'Sacramento' 'SanDiego' 'SanFrancisco' 'Seattle'\n",
      " 'SouthCarolina' 'SouthCentral' 'Southeast' 'Spokane' 'StLouis' 'Syracuse'\n",
      " 'Tampa' 'TotalUS' 'West' 'WestTexNewMexico']\n"
     ]
    }
   ],
   "source": [
    "# Checking Unique values of Dataset:\n",
    "\n",
    "column_name =df.columns.values\n",
    "for column in column_name:\n",
    "    print(\"{0}: {1}\".format(column, df[column].unique()))"
   ]
  },
  {
   "cell_type": "markdown",
   "id": "373d36e8",
   "metadata": {},
   "source": [
    "Unique values checked and no null value present."
   ]
  },
  {
   "cell_type": "code",
   "execution_count": 8,
   "id": "33c9b986",
   "metadata": {},
   "outputs": [
    {
     "name": "stdout",
     "output_type": "stream",
     "text": [
      "<class 'pandas.core.frame.DataFrame'>\n",
      "RangeIndex: 18249 entries, 0 to 18248\n",
      "Data columns (total 14 columns):\n",
      " #   Column        Non-Null Count  Dtype  \n",
      "---  ------        --------------  -----  \n",
      " 0   Unnamed: 0    18249 non-null  int64  \n",
      " 1   Date          18249 non-null  object \n",
      " 2   AveragePrice  18249 non-null  float64\n",
      " 3   Total Volume  18249 non-null  float64\n",
      " 4   4046          18249 non-null  float64\n",
      " 5   4225          18249 non-null  float64\n",
      " 6   4770          18249 non-null  float64\n",
      " 7   Total Bags    18249 non-null  float64\n",
      " 8   Small Bags    18249 non-null  float64\n",
      " 9   Large Bags    18249 non-null  float64\n",
      " 10  XLarge Bags   18249 non-null  float64\n",
      " 11  type          18249 non-null  object \n",
      " 12  year          18249 non-null  int64  \n",
      " 13  region        18249 non-null  object \n",
      "dtypes: float64(9), int64(2), object(3)\n",
      "memory usage: 1.9+ MB\n"
     ]
    }
   ],
   "source": [
    "#Information about Dataset:\n",
    "\n",
    "df.info()"
   ]
  },
  {
   "cell_type": "markdown",
   "id": "49a13765",
   "metadata": {},
   "source": [
    "No null values and Count of data is 18249 in each column Datatype: 3 are Object and 11 are numeric datatype"
   ]
  },
  {
   "cell_type": "code",
   "execution_count": 8,
   "id": "b1d1f1e6",
   "metadata": {},
   "outputs": [],
   "source": [
    "# Unnamed: 0 column is not affecting target labels so dropping it\n",
    "\n",
    "df.drop('Unnamed: 0',axis=1,inplace=True)"
   ]
  },
  {
   "cell_type": "code",
   "execution_count": 10,
   "id": "48bff279",
   "metadata": {},
   "outputs": [
    {
     "data": {
      "text/html": [
       "<div>\n",
       "<style scoped>\n",
       "    .dataframe tbody tr th:only-of-type {\n",
       "        vertical-align: middle;\n",
       "    }\n",
       "\n",
       "    .dataframe tbody tr th {\n",
       "        vertical-align: top;\n",
       "    }\n",
       "\n",
       "    .dataframe thead th {\n",
       "        text-align: right;\n",
       "    }\n",
       "</style>\n",
       "<table border=\"1\" class=\"dataframe\">\n",
       "  <thead>\n",
       "    <tr style=\"text-align: right;\">\n",
       "      <th></th>\n",
       "      <th>Date</th>\n",
       "      <th>AveragePrice</th>\n",
       "      <th>Total Volume</th>\n",
       "      <th>4046</th>\n",
       "      <th>4225</th>\n",
       "      <th>4770</th>\n",
       "      <th>Total Bags</th>\n",
       "      <th>Small Bags</th>\n",
       "      <th>Large Bags</th>\n",
       "      <th>XLarge Bags</th>\n",
       "      <th>type</th>\n",
       "      <th>year</th>\n",
       "      <th>region</th>\n",
       "    </tr>\n",
       "  </thead>\n",
       "  <tbody>\n",
       "    <tr>\n",
       "      <th>0</th>\n",
       "      <td>2015-12-27</td>\n",
       "      <td>1.33</td>\n",
       "      <td>64236.62</td>\n",
       "      <td>1036.74</td>\n",
       "      <td>54454.85</td>\n",
       "      <td>48.16</td>\n",
       "      <td>8696.87</td>\n",
       "      <td>8603.62</td>\n",
       "      <td>93.25</td>\n",
       "      <td>0.0</td>\n",
       "      <td>conventional</td>\n",
       "      <td>2015</td>\n",
       "      <td>Albany</td>\n",
       "    </tr>\n",
       "    <tr>\n",
       "      <th>1</th>\n",
       "      <td>2015-12-20</td>\n",
       "      <td>1.35</td>\n",
       "      <td>54876.98</td>\n",
       "      <td>674.28</td>\n",
       "      <td>44638.81</td>\n",
       "      <td>58.33</td>\n",
       "      <td>9505.56</td>\n",
       "      <td>9408.07</td>\n",
       "      <td>97.49</td>\n",
       "      <td>0.0</td>\n",
       "      <td>conventional</td>\n",
       "      <td>2015</td>\n",
       "      <td>Albany</td>\n",
       "    </tr>\n",
       "    <tr>\n",
       "      <th>2</th>\n",
       "      <td>2015-12-13</td>\n",
       "      <td>0.93</td>\n",
       "      <td>118220.22</td>\n",
       "      <td>794.70</td>\n",
       "      <td>109149.67</td>\n",
       "      <td>130.50</td>\n",
       "      <td>8145.35</td>\n",
       "      <td>8042.21</td>\n",
       "      <td>103.14</td>\n",
       "      <td>0.0</td>\n",
       "      <td>conventional</td>\n",
       "      <td>2015</td>\n",
       "      <td>Albany</td>\n",
       "    </tr>\n",
       "    <tr>\n",
       "      <th>3</th>\n",
       "      <td>2015-12-06</td>\n",
       "      <td>1.08</td>\n",
       "      <td>78992.15</td>\n",
       "      <td>1132.00</td>\n",
       "      <td>71976.41</td>\n",
       "      <td>72.58</td>\n",
       "      <td>5811.16</td>\n",
       "      <td>5677.40</td>\n",
       "      <td>133.76</td>\n",
       "      <td>0.0</td>\n",
       "      <td>conventional</td>\n",
       "      <td>2015</td>\n",
       "      <td>Albany</td>\n",
       "    </tr>\n",
       "    <tr>\n",
       "      <th>4</th>\n",
       "      <td>2015-11-29</td>\n",
       "      <td>1.28</td>\n",
       "      <td>51039.60</td>\n",
       "      <td>941.48</td>\n",
       "      <td>43838.39</td>\n",
       "      <td>75.78</td>\n",
       "      <td>6183.95</td>\n",
       "      <td>5986.26</td>\n",
       "      <td>197.69</td>\n",
       "      <td>0.0</td>\n",
       "      <td>conventional</td>\n",
       "      <td>2015</td>\n",
       "      <td>Albany</td>\n",
       "    </tr>\n",
       "  </tbody>\n",
       "</table>\n",
       "</div>"
      ],
      "text/plain": [
       "         Date  AveragePrice  Total Volume     4046       4225    4770  \\\n",
       "0  2015-12-27          1.33      64236.62  1036.74   54454.85   48.16   \n",
       "1  2015-12-20          1.35      54876.98   674.28   44638.81   58.33   \n",
       "2  2015-12-13          0.93     118220.22   794.70  109149.67  130.50   \n",
       "3  2015-12-06          1.08      78992.15  1132.00   71976.41   72.58   \n",
       "4  2015-11-29          1.28      51039.60   941.48   43838.39   75.78   \n",
       "\n",
       "   Total Bags  Small Bags  Large Bags  XLarge Bags          type  year  region  \n",
       "0     8696.87     8603.62       93.25          0.0  conventional  2015  Albany  \n",
       "1     9505.56     9408.07       97.49          0.0  conventional  2015  Albany  \n",
       "2     8145.35     8042.21      103.14          0.0  conventional  2015  Albany  \n",
       "3     5811.16     5677.40      133.76          0.0  conventional  2015  Albany  \n",
       "4     6183.95     5986.26      197.69          0.0  conventional  2015  Albany  "
      ]
     },
     "execution_count": 10,
     "metadata": {},
     "output_type": "execute_result"
    }
   ],
   "source": [
    "df.head()"
   ]
  },
  {
   "cell_type": "markdown",
   "id": "c0535e97",
   "metadata": {},
   "source": [
    "Unnamed: 0 column dropped"
   ]
  },
  {
   "cell_type": "code",
   "execution_count": 9,
   "id": "311764c2",
   "metadata": {},
   "outputs": [
    {
     "data": {
      "text/plain": [
       "0.00       12048\n",
       "3.33          29\n",
       "6.67          16\n",
       "1.11          15\n",
       "5.00          12\n",
       "           ...  \n",
       "3018.05        1\n",
       "2739.44        1\n",
       "9301.67        1\n",
       "8640.00        1\n",
       "24.18          1\n",
       "Name: XLarge Bags, Length: 5588, dtype: int64"
      ]
     },
     "execution_count": 9,
     "metadata": {},
     "output_type": "execute_result"
    }
   ],
   "source": [
    "df['XLarge Bags'].value_counts()"
   ]
  },
  {
   "cell_type": "markdown",
   "id": "0fab4edc",
   "metadata": {},
   "source": [
    "XLarge Bags has 12048 0.00 values so need to replace them with mean."
   ]
  },
  {
   "cell_type": "markdown",
   "id": "6699035d",
   "metadata": {},
   "source": [
    "XLarge Bags "
   ]
  },
  {
   "cell_type": "code",
   "execution_count": 12,
   "id": "092896bd",
   "metadata": {},
   "outputs": [
    {
     "data": {
      "text/plain": [
       "3106.4265072058793"
      ]
     },
     "execution_count": 12,
     "metadata": {},
     "output_type": "execute_result"
    }
   ],
   "source": [
    "df['XLarge Bags'].mean()"
   ]
  },
  {
   "cell_type": "markdown",
   "id": "eda3052d",
   "metadata": {},
   "source": [
    "Mean of XLarge Bags is 3106.42"
   ]
  },
  {
   "cell_type": "code",
   "execution_count": 10,
   "id": "a348e4c0",
   "metadata": {},
   "outputs": [],
   "source": [
    "#Filling 0.00 to mean of XLarge Bags\n",
    "\n",
    "df['XLarge Bags'].fillna(df['XLarge Bags'].mean(),inplace=True)"
   ]
  },
  {
   "cell_type": "code",
   "execution_count": 11,
   "id": "e8aeef06",
   "metadata": {},
   "outputs": [],
   "source": [
    "#Replacing XLarge Bags old values to new\n",
    "\n",
    "df.loc[:, 'XLarge Bags'].replace([0], [df['XLarge Bags'].mean()], inplace=True)"
   ]
  },
  {
   "cell_type": "code",
   "execution_count": 15,
   "id": "42c7281c",
   "metadata": {},
   "outputs": [
    {
     "data": {
      "text/plain": [
       "3106.426507    12048\n",
       "3.330000          29\n",
       "6.670000          16\n",
       "1.110000          15\n",
       "5.000000          12\n",
       "               ...  \n",
       "3018.050000        1\n",
       "2739.440000        1\n",
       "9301.670000        1\n",
       "8640.000000        1\n",
       "24.180000          1\n",
       "Name: XLarge Bags, Length: 5588, dtype: int64"
      ]
     },
     "execution_count": 15,
     "metadata": {},
     "output_type": "execute_result"
    }
   ],
   "source": [
    "df['XLarge Bags'].value_counts()"
   ]
  },
  {
   "cell_type": "markdown",
   "id": "30d7ea5d",
   "metadata": {},
   "source": [
    "XLarge Bags column value 0.00 changed to 3106.42"
   ]
  },
  {
   "cell_type": "markdown",
   "id": "d3726541",
   "metadata": {},
   "source": [
    "# EDA: Data Analysis"
   ]
  },
  {
   "cell_type": "code",
   "execution_count": 20,
   "id": "3edf653b",
   "metadata": {},
   "outputs": [],
   "source": [
    "#Importing plotting libraries:\n",
    "\n",
    "import seaborn as sns\n",
    "import matplotlib.pyplot as plt\n",
    "import warnings\n",
    "warnings.filterwarnings('ignore')"
   ]
  },
  {
   "cell_type": "markdown",
   "id": "02202178",
   "metadata": {},
   "source": [
    "Checking Target labels: 'AveragePrice' and 'region'"
   ]
  },
  {
   "cell_type": "code",
   "execution_count": 21,
   "id": "c7dcbb9b",
   "metadata": {},
   "outputs": [
    {
     "name": "stdout",
     "output_type": "stream",
     "text": [
      "Albany                 338\n",
      "Sacramento             338\n",
      "Northeast              338\n",
      "NorthernNewEngland     338\n",
      "Orlando                338\n",
      "Philadelphia           338\n",
      "PhoenixTucson          338\n",
      "Pittsburgh             338\n",
      "Plains                 338\n",
      "Portland               338\n",
      "RaleighGreensboro      338\n",
      "RichmondNorfolk        338\n",
      "Roanoke                338\n",
      "SanDiego               338\n",
      "Atlanta                338\n",
      "SanFrancisco           338\n",
      "Seattle                338\n",
      "SouthCarolina          338\n",
      "SouthCentral           338\n",
      "Southeast              338\n",
      "Spokane                338\n",
      "StLouis                338\n",
      "Syracuse               338\n",
      "Tampa                  338\n",
      "TotalUS                338\n",
      "West                   338\n",
      "NewYork                338\n",
      "NewOrleansMobile       338\n",
      "Nashville              338\n",
      "Midsouth               338\n",
      "BaltimoreWashington    338\n",
      "Boise                  338\n",
      "Boston                 338\n",
      "BuffaloRochester       338\n",
      "California             338\n",
      "Charlotte              338\n",
      "Chicago                338\n",
      "CincinnatiDayton       338\n",
      "Columbus               338\n",
      "DallasFtWorth          338\n",
      "Denver                 338\n",
      "Detroit                338\n",
      "GrandRapids            338\n",
      "GreatLakes             338\n",
      "HarrisburgScranton     338\n",
      "HartfordSpringfield    338\n",
      "Houston                338\n",
      "Indianapolis           338\n",
      "Jacksonville           338\n",
      "LasVegas               338\n",
      "LosAngeles             338\n",
      "Louisville             338\n",
      "MiamiFtLauderdale      338\n",
      "WestTexNewMexico       335\n",
      "Name: region, dtype: int64\n"
     ]
    },
    {
     "data": {
      "image/png": "[encoded data removed]",
      "text/plain": [
       "<Figure size 2160x1296 with 1 Axes>"
      ]
     },
     "metadata": {
      "needs_background": "light"
     },
     "output_type": "display_data"
    }
   ],
   "source": [
    "plt.figure(figsize=(30,18))\n",
    "ax=sns.countplot(x=\"region\", data=df)\n",
    "print(df[\"region\"].value_counts())"
   ]
  },
  {
   "cell_type": "markdown",
   "id": "8722734f",
   "metadata": {},
   "source": [
    "region: all the counts are same.\n",
    "No class imbalance present."
   ]
  },
  {
   "cell_type": "code",
   "execution_count": 22,
   "id": "a4892768",
   "metadata": {},
   "outputs": [
    {
     "data": {
      "text/plain": [
       "<AxesSubplot:xlabel='AveragePrice', ylabel='Density'>"
      ]
     },
     "execution_count": 22,
     "metadata": {},
     "output_type": "execute_result"
    },
    {
     "data": {
      "image/png": "[encoded data removed]",
      "text/plain": [
       "<Figure size 432x288 with 1 Axes>"
      ]
     },
     "metadata": {
      "needs_background": "light"
     },
     "output_type": "display_data"
    }
   ],
   "source": [
    "sns.distplot(df['AveragePrice'], kde=True)"
   ]
  },
  {
   "cell_type": "markdown",
   "id": "f0d99535",
   "metadata": {},
   "source": [
    "Data is not normally distributed and has skewness"
   ]
  },
  {
   "cell_type": "code",
   "execution_count": 23,
   "id": "a50f470d",
   "metadata": {},
   "outputs": [
    {
     "data": {
      "text/plain": [
       "Index(['Date', 'AveragePrice', 'Total Volume', '4046', '4225', '4770',\n",
       "       'Total Bags', 'Small Bags', 'Large Bags', 'XLarge Bags', 'type', 'year',\n",
       "       'region'],\n",
       "      dtype='object')"
      ]
     },
     "execution_count": 23,
     "metadata": {},
     "output_type": "execute_result"
    }
   ],
   "source": [
    "df.columns"
   ]
  },
  {
   "cell_type": "markdown",
   "id": "e233681c",
   "metadata": {},
   "source": [
    "### Plotting numeric data "
   ]
  },
  {
   "cell_type": "code",
   "execution_count": 24,
   "id": "fface804",
   "metadata": {},
   "outputs": [
    {
     "data": {
      "text/plain": [
       "<AxesSubplot:xlabel='Total Volume', ylabel='Density'>"
      ]
     },
     "execution_count": 24,
     "metadata": {},
     "output_type": "execute_result"
    },
    {
     "data": {
      "image/png": "[encoded data removed]",
      "text/plain": [
       "<Figure size 432x288 with 1 Axes>"
      ]
     },
     "metadata": {
      "needs_background": "light"
     },
     "output_type": "display_data"
    }
   ],
   "source": [
    "sns.distplot(df['Total Volume'], kde=True)"
   ]
  },
  {
   "cell_type": "markdown",
   "id": "0dd48ea7",
   "metadata": {},
   "source": [
    "Data is not normally distributed and has skewness."
   ]
  },
  {
   "cell_type": "code",
   "execution_count": 25,
   "id": "2a15a1b7",
   "metadata": {},
   "outputs": [
    {
     "data": {
      "text/plain": [
       "<AxesSubplot:xlabel='4046', ylabel='Density'>"
      ]
     },
     "execution_count": 25,
     "metadata": {},
     "output_type": "execute_result"
    },
    {
     "data": {
      "image/png": "[encoded data removed]",
      "text/plain": [
       "<Figure size 432x288 with 1 Axes>"
      ]
     },
     "metadata": {
      "needs_background": "light"
     },
     "output_type": "display_data"
    }
   ],
   "source": [
    "sns.distplot(df['4046'], kde=True)"
   ]
  },
  {
   "cell_type": "markdown",
   "id": "4b5b740e",
   "metadata": {},
   "source": [
    "Data is not normally distributed and has large skewness."
   ]
  },
  {
   "cell_type": "code",
   "execution_count": 26,
   "id": "e35d760b",
   "metadata": {},
   "outputs": [
    {
     "data": {
      "text/plain": [
       "<AxesSubplot:xlabel='4225', ylabel='Density'>"
      ]
     },
     "execution_count": 26,
     "metadata": {},
     "output_type": "execute_result"
    },
    {
     "data": {
      "image/png": "[encoded data removed]",
      "text/plain": [
       "<Figure size 432x288 with 1 Axes>"
      ]
     },
     "metadata": {
      "needs_background": "light"
     },
     "output_type": "display_data"
    }
   ],
   "source": [
    "sns.distplot(df['4225'], kde=True)"
   ]
  },
  {
   "cell_type": "markdown",
   "id": "70e3894b",
   "metadata": {},
   "source": [
    "Data is not normally distributed and has large skewness."
   ]
  },
  {
   "cell_type": "code",
   "execution_count": 27,
   "id": "13ca75c5",
   "metadata": {},
   "outputs": [
    {
     "data": {
      "text/plain": [
       "<AxesSubplot:xlabel='4770', ylabel='Density'>"
      ]
     },
     "execution_count": 27,
     "metadata": {},
     "output_type": "execute_result"
    },
    {
     "data": {
      "image/png": "[encoded data removed]",
      "text/plain": [
       "<Figure size 432x288 with 1 Axes>"
      ]
     },
     "metadata": {
      "needs_background": "light"
     },
     "output_type": "display_data"
    }
   ],
   "source": [
    "sns.distplot(df['4770'], kde=True)"
   ]
  },
  {
   "cell_type": "markdown",
   "id": "1692e885",
   "metadata": {},
   "source": [
    "Data is not normally distributed and has skewness."
   ]
  },
  {
   "cell_type": "code",
   "execution_count": 28,
   "id": "a285efd8",
   "metadata": {},
   "outputs": [
    {
     "data": {
      "text/plain": [
       "<AxesSubplot:xlabel='Total Bags', ylabel='Density'>"
      ]
     },
     "execution_count": 28,
     "metadata": {},
     "output_type": "execute_result"
    },
    {
     "data": {
      "image/png": "[encoded data removed]",
      "text/plain": [
       "<Figure size 432x288 with 1 Axes>"
      ]
     },
     "metadata": {
      "needs_background": "light"
     },
     "output_type": "display_data"
    }
   ],
   "source": [
    "sns.distplot(df['Total Bags'], kde=True)"
   ]
  },
  {
   "cell_type": "markdown",
   "id": "89b4d63c",
   "metadata": {},
   "source": [
    "Data is not normally distributed and has skewness."
   ]
  },
  {
   "cell_type": "code",
   "execution_count": 29,
   "id": "ff78685d",
   "metadata": {},
   "outputs": [
    {
     "data": {
      "text/plain": [
       "<AxesSubplot:xlabel='Small Bags', ylabel='Density'>"
      ]
     },
     "execution_count": 29,
     "metadata": {},
     "output_type": "execute_result"
    },
    {
     "data": {
      "image/png": "[encoded data removed]",
      "text/plain": [
       "<Figure size 432x288 with 1 Axes>"
      ]
     },
     "metadata": {
      "needs_background": "light"
     },
     "output_type": "display_data"
    }
   ],
   "source": [
    "sns.distplot(df['Small Bags'], kde=True)"
   ]
  },
  {
   "cell_type": "markdown",
   "id": "51ae78b1",
   "metadata": {},
   "source": [
    "Data is not normally distributed and has skewness."
   ]
  },
  {
   "cell_type": "code",
   "execution_count": 30,
   "id": "56237690",
   "metadata": {},
   "outputs": [
    {
     "data": {
      "text/plain": [
       "<AxesSubplot:xlabel='Large Bags', ylabel='Density'>"
      ]
     },
     "execution_count": 30,
     "metadata": {},
     "output_type": "execute_result"
    },
    {
     "data": {
      "image/png": "[encoded data removed]",
      "text/plain": [
       "<Figure size 432x288 with 1 Axes>"
      ]
     },
     "metadata": {
      "needs_background": "light"
     },
     "output_type": "display_data"
    }
   ],
   "source": [
    "sns.distplot(df['Large Bags'], kde=True)"
   ]
  },
  {
   "cell_type": "markdown",
   "id": "2141acd5",
   "metadata": {},
   "source": [
    "Data is not normally distributed and has skewness."
   ]
  },
  {
   "cell_type": "code",
   "execution_count": 31,
   "id": "7bf3e26a",
   "metadata": {},
   "outputs": [
    {
     "data": {
      "text/plain": [
       "<AxesSubplot:xlabel='XLarge Bags', ylabel='Density'>"
      ]
     },
     "execution_count": 31,
     "metadata": {},
     "output_type": "execute_result"
    },
    {
     "data": {
      "image/png": "[encoded data removed]",
      "text/plain": [
       "<Figure size 432x288 with 1 Axes>"
      ]
     },
     "metadata": {
      "needs_background": "light"
     },
     "output_type": "display_data"
    }
   ],
   "source": [
    "sns.distplot(df['XLarge Bags'], kde=True)"
   ]
  },
  {
   "cell_type": "markdown",
   "id": "9d984e46",
   "metadata": {},
   "source": [
    "Data is not normally distributed and has large skewness."
   ]
  },
  {
   "cell_type": "code",
   "execution_count": 32,
   "id": "68f87ba0",
   "metadata": {},
   "outputs": [
    {
     "data": {
      "text/plain": [
       "<AxesSubplot:xlabel='year', ylabel='Density'>"
      ]
     },
     "execution_count": 32,
     "metadata": {},
     "output_type": "execute_result"
    },
    {
     "data": {
      "image/png": "[encoded data removed]",
      "text/plain": [
       "<Figure size 432x288 with 1 Axes>"
      ]
     },
     "metadata": {
      "needs_background": "light"
     },
     "output_type": "display_data"
    }
   ],
   "source": [
    "sns.distplot(df['year'], kde=True)"
   ]
  },
  {
   "cell_type": "markdown",
   "id": "7fdbaa97",
   "metadata": {},
   "source": [
    "Data is not normally distributed and has skewness."
   ]
  },
  {
   "cell_type": "markdown",
   "id": "c31d9381",
   "metadata": {},
   "source": [
    "###  Plotting Object datatype:"
   ]
  },
  {
   "cell_type": "code",
   "execution_count": 33,
   "id": "b9a82434",
   "metadata": {},
   "outputs": [
    {
     "name": "stdout",
     "output_type": "stream",
     "text": [
      "2015-12-27    108\n",
      "2017-12-24    108\n",
      "2017-12-10    108\n",
      "2017-12-03    108\n",
      "2017-11-26    108\n",
      "             ... \n",
      "2016-11-06    108\n",
      "2018-01-07    108\n",
      "2017-06-18    107\n",
      "2017-06-25    107\n",
      "2015-12-06    107\n",
      "Name: Date, Length: 169, dtype: int64\n"
     ]
    },
    {
     "data": {
      "image/png": "[encoded data removed]",
      "text/plain": [
       "<Figure size 3600x1296 with 1 Axes>"
      ]
     },
     "metadata": {
      "needs_background": "light"
     },
     "output_type": "display_data"
    }
   ],
   "source": [
    "plt.figure(figsize=(50,18))\n",
    "ax=sns.countplot(x=\"Date\", data=df)\n",
    "print(df[\"Date\"].value_counts())\n"
   ]
  },
  {
   "cell_type": "markdown",
   "id": "114c1dbe",
   "metadata": {},
   "source": [
    "All data is balanced"
   ]
  },
  {
   "cell_type": "code",
   "execution_count": 34,
   "id": "634186aa",
   "metadata": {},
   "outputs": [
    {
     "name": "stdout",
     "output_type": "stream",
     "text": [
      "conventional    9126\n",
      "organic         9123\n",
      "Name: type, dtype: int64\n"
     ]
    },
    {
     "data": {
      "image/png": "[encoded data removed]",
      "text/plain": [
       "<Figure size 432x288 with 1 Axes>"
      ]
     },
     "metadata": {
      "needs_background": "light"
     },
     "output_type": "display_data"
    }
   ],
   "source": [
    "ax=sns.countplot(x=\"type\", data=df)\n",
    "print(df[\"type\"].value_counts())"
   ]
  },
  {
   "cell_type": "markdown",
   "id": "fbc2d6f2",
   "metadata": {},
   "source": [
    "Count of conventional type is 9126 and organic type avacado is 9123"
   ]
  },
  {
   "cell_type": "code",
   "execution_count": 35,
   "id": "b6179105",
   "metadata": {},
   "outputs": [
    {
     "data": {
      "image/png": "[encoded data removed]",
      "text/plain": [
       "<Figure size 2160x576 with 1 Axes>"
      ]
     },
     "metadata": {
      "needs_background": "light"
     },
     "output_type": "display_data"
    }
   ],
   "source": [
    "plt.figure(figsize=(30,8))\n",
    "g=sns.scatterplot(x=\"region\",y=\"type\" ,data=df)"
   ]
  },
  {
   "cell_type": "markdown",
   "id": "e6324e53",
   "metadata": {},
   "source": [
    "both types of avacado lies in all region"
   ]
  },
  {
   "cell_type": "code",
   "execution_count": 36,
   "id": "5c8f2400",
   "metadata": {},
   "outputs": [
    {
     "data": {
      "image/png": "[encoded data removed]",
      "text/plain": [
       "<Figure size 720x720 with 1 Axes>"
      ]
     },
     "metadata": {
      "needs_background": "light"
     },
     "output_type": "display_data"
    }
   ],
   "source": [
    "plt.figure(figsize=(10,10))\n",
    "g=sns.scatterplot(x=\"type\",y=\"Total Bags\" ,data=df)"
   ]
  },
  {
   "cell_type": "markdown",
   "id": "821c45b5",
   "metadata": {},
   "source": [
    "Total bags are maximum of conevntional avacado"
   ]
  },
  {
   "cell_type": "code",
   "execution_count": 37,
   "id": "e926ee80",
   "metadata": {},
   "outputs": [
    {
     "data": {
      "image/png": "[encoded data removed]",
      "text/plain": [
       "<Figure size 720x720 with 1 Axes>"
      ]
     },
     "metadata": {
      "needs_background": "light"
     },
     "output_type": "display_data"
    }
   ],
   "source": [
    "plt.figure(figsize=(10,10))\n",
    "g=sns.scatterplot(x=\"type\",y=\"AveragePrice\" ,data=df)"
   ]
  },
  {
   "cell_type": "markdown",
   "id": "a5f6ebad",
   "metadata": {},
   "source": [
    "Average price of Organic Avacado is more than conventional"
   ]
  },
  {
   "cell_type": "code",
   "execution_count": 38,
   "id": "85a7f9e3",
   "metadata": {},
   "outputs": [
    {
     "data": {
      "image/png": "[encoded data removed]",
      "text/plain": [
       "<Figure size 720x720 with 1 Axes>"
      ]
     },
     "metadata": {
      "needs_background": "light"
     },
     "output_type": "display_data"
    }
   ],
   "source": [
    "plt.figure(figsize=(10,10))\n",
    "g=sns.scatterplot(x=\"type\",y=\"4046\" ,data=df)"
   ]
  },
  {
   "cell_type": "markdown",
   "id": "032e29d5",
   "metadata": {},
   "source": [
    "Total number of avocados with PLU 4046 sold are of conventional type avacado"
   ]
  },
  {
   "cell_type": "code",
   "execution_count": 39,
   "id": "0414a61c",
   "metadata": {},
   "outputs": [
    {
     "data": {
      "image/png": "[encoded data removed]",
      "text/plain": [
       "<Figure size 720x720 with 1 Axes>"
      ]
     },
     "metadata": {
      "needs_background": "light"
     },
     "output_type": "display_data"
    }
   ],
   "source": [
    "plt.figure(figsize=(10,10))\n",
    "g=sns.scatterplot(x=\"type\",y=\"4225\" ,data=df)"
   ]
  },
  {
   "cell_type": "markdown",
   "id": "4a542d20",
   "metadata": {},
   "source": [
    "Total number of avocados with PLU 4225 sold has maximum of coventional avacado type."
   ]
  },
  {
   "cell_type": "code",
   "execution_count": 40,
   "id": "06c05496",
   "metadata": {},
   "outputs": [
    {
     "data": {
      "image/png": "[encoded data removed]",
      "text/plain": [
       "<Figure size 720x720 with 1 Axes>"
      ]
     },
     "metadata": {
      "needs_background": "light"
     },
     "output_type": "display_data"
    }
   ],
   "source": [
    "plt.figure(figsize=(10,10))\n",
    "g=sns.scatterplot(x=\"type\",y=\"4770\" ,data=df)"
   ]
  },
  {
   "cell_type": "markdown",
   "id": "81d5e186",
   "metadata": {},
   "source": [
    "Total number of avocados with PLU 4770 sold has maximum of coventional avacado type."
   ]
  },
  {
   "cell_type": "code",
   "execution_count": 41,
   "id": "c37db9c3",
   "metadata": {},
   "outputs": [
    {
     "data": {
      "image/png": "[encoded data removed]",
      "text/plain": [
       "<Figure size 720x720 with 1 Axes>"
      ]
     },
     "metadata": {
      "needs_background": "light"
     },
     "output_type": "display_data"
    }
   ],
   "source": [
    "plt.figure(figsize=(10,10))\n",
    "g=sns.scatterplot(x=\"type\",y=\"Total Volume\" ,data=df)"
   ]
  },
  {
   "cell_type": "markdown",
   "id": "9071bcac",
   "metadata": {},
   "source": [
    "Total Volume is of conventional type avacado"
   ]
  },
  {
   "cell_type": "code",
   "execution_count": 42,
   "id": "593db6d6",
   "metadata": {},
   "outputs": [
    {
     "data": {
      "image/png": "[encoded data removed]",
      "text/plain": [
       "<Figure size 720x720 with 1 Axes>"
      ]
     },
     "metadata": {
      "needs_background": "light"
     },
     "output_type": "display_data"
    }
   ],
   "source": [
    "plt.figure(figsize=(10,10))\n",
    "g=sns.scatterplot(x=\"type\",y=\"XLarge Bags\" ,data=df)"
   ]
  },
  {
   "cell_type": "markdown",
   "id": "fd5bbf1f",
   "metadata": {},
   "source": [
    "XLarge Bags have maximum of conventional avacado"
   ]
  },
  {
   "cell_type": "code",
   "execution_count": 43,
   "id": "1038f1cd",
   "metadata": {},
   "outputs": [
    {
     "data": {
      "image/png": "[encoded data removed]",
      "text/plain": [
       "<Figure size 720x720 with 1 Axes>"
      ]
     },
     "metadata": {
      "needs_background": "light"
     },
     "output_type": "display_data"
    }
   ],
   "source": [
    "plt.figure(figsize=(10,10))\n",
    "g=sns.histplot(x=\"Total Volume\",y=\"AveragePrice\" ,data=df)"
   ]
  },
  {
   "cell_type": "markdown",
   "id": "0fc44da2",
   "metadata": {},
   "source": [
    "less volume has higher average price"
   ]
  },
  {
   "cell_type": "markdown",
   "id": "767020f6",
   "metadata": {},
   "source": [
    "## Encoding of DataFrame: Label Encoding"
   ]
  },
  {
   "cell_type": "code",
   "execution_count": 12,
   "id": "4d13cef3",
   "metadata": {},
   "outputs": [],
   "source": [
    "# Label Encoding for object to numeric datatype:\n",
    "from sklearn.preprocessing import LabelEncoder\n",
    "en= LabelEncoder()\n",
    "for i in df.columns:\n",
    "    if df[i].dtypes==\"object\":\n",
    "        df[i]=en.fit_transform(df[i].values.reshape(-1,1))"
   ]
  },
  {
   "cell_type": "code",
   "execution_count": 13,
   "id": "e4dafd15",
   "metadata": {},
   "outputs": [
    {
     "data": {
      "text/html": [
       "<div>\n",
       "<style scoped>\n",
       "    .dataframe tbody tr th:only-of-type {\n",
       "        vertical-align: middle;\n",
       "    }\n",
       "\n",
       "    .dataframe tbody tr th {\n",
       "        vertical-align: top;\n",
       "    }\n",
       "\n",
       "    .dataframe thead th {\n",
       "        text-align: right;\n",
       "    }\n",
       "</style>\n",
       "<table border=\"1\" class=\"dataframe\">\n",
       "  <thead>\n",
       "    <tr style=\"text-align: right;\">\n",
       "      <th></th>\n",
       "      <th>Date</th>\n",
       "      <th>AveragePrice</th>\n",
       "      <th>Total Volume</th>\n",
       "      <th>4046</th>\n",
       "      <th>4225</th>\n",
       "      <th>4770</th>\n",
       "      <th>Total Bags</th>\n",
       "      <th>Small Bags</th>\n",
       "      <th>Large Bags</th>\n",
       "      <th>XLarge Bags</th>\n",
       "      <th>type</th>\n",
       "      <th>year</th>\n",
       "      <th>region</th>\n",
       "    </tr>\n",
       "  </thead>\n",
       "  <tbody>\n",
       "    <tr>\n",
       "      <th>0</th>\n",
       "      <td>51</td>\n",
       "      <td>1.33</td>\n",
       "      <td>64236.62</td>\n",
       "      <td>1036.74</td>\n",
       "      <td>54454.85</td>\n",
       "      <td>48.16</td>\n",
       "      <td>8696.87</td>\n",
       "      <td>8603.62</td>\n",
       "      <td>93.25</td>\n",
       "      <td>3106.426507</td>\n",
       "      <td>0</td>\n",
       "      <td>2015</td>\n",
       "      <td>0</td>\n",
       "    </tr>\n",
       "    <tr>\n",
       "      <th>1</th>\n",
       "      <td>50</td>\n",
       "      <td>1.35</td>\n",
       "      <td>54876.98</td>\n",
       "      <td>674.28</td>\n",
       "      <td>44638.81</td>\n",
       "      <td>58.33</td>\n",
       "      <td>9505.56</td>\n",
       "      <td>9408.07</td>\n",
       "      <td>97.49</td>\n",
       "      <td>3106.426507</td>\n",
       "      <td>0</td>\n",
       "      <td>2015</td>\n",
       "      <td>0</td>\n",
       "    </tr>\n",
       "    <tr>\n",
       "      <th>2</th>\n",
       "      <td>49</td>\n",
       "      <td>0.93</td>\n",
       "      <td>118220.22</td>\n",
       "      <td>794.70</td>\n",
       "      <td>109149.67</td>\n",
       "      <td>130.50</td>\n",
       "      <td>8145.35</td>\n",
       "      <td>8042.21</td>\n",
       "      <td>103.14</td>\n",
       "      <td>3106.426507</td>\n",
       "      <td>0</td>\n",
       "      <td>2015</td>\n",
       "      <td>0</td>\n",
       "    </tr>\n",
       "    <tr>\n",
       "      <th>3</th>\n",
       "      <td>48</td>\n",
       "      <td>1.08</td>\n",
       "      <td>78992.15</td>\n",
       "      <td>1132.00</td>\n",
       "      <td>71976.41</td>\n",
       "      <td>72.58</td>\n",
       "      <td>5811.16</td>\n",
       "      <td>5677.40</td>\n",
       "      <td>133.76</td>\n",
       "      <td>3106.426507</td>\n",
       "      <td>0</td>\n",
       "      <td>2015</td>\n",
       "      <td>0</td>\n",
       "    </tr>\n",
       "    <tr>\n",
       "      <th>4</th>\n",
       "      <td>47</td>\n",
       "      <td>1.28</td>\n",
       "      <td>51039.60</td>\n",
       "      <td>941.48</td>\n",
       "      <td>43838.39</td>\n",
       "      <td>75.78</td>\n",
       "      <td>6183.95</td>\n",
       "      <td>5986.26</td>\n",
       "      <td>197.69</td>\n",
       "      <td>3106.426507</td>\n",
       "      <td>0</td>\n",
       "      <td>2015</td>\n",
       "      <td>0</td>\n",
       "    </tr>\n",
       "  </tbody>\n",
       "</table>\n",
       "</div>"
      ],
      "text/plain": [
       "   Date  AveragePrice  Total Volume     4046       4225    4770  Total Bags  \\\n",
       "0    51          1.33      64236.62  1036.74   54454.85   48.16     8696.87   \n",
       "1    50          1.35      54876.98   674.28   44638.81   58.33     9505.56   \n",
       "2    49          0.93     118220.22   794.70  109149.67  130.50     8145.35   \n",
       "3    48          1.08      78992.15  1132.00   71976.41   72.58     5811.16   \n",
       "4    47          1.28      51039.60   941.48   43838.39   75.78     6183.95   \n",
       "\n",
       "   Small Bags  Large Bags  XLarge Bags  type  year  region  \n",
       "0     8603.62       93.25  3106.426507     0  2015       0  \n",
       "1     9408.07       97.49  3106.426507     0  2015       0  \n",
       "2     8042.21      103.14  3106.426507     0  2015       0  \n",
       "3     5677.40      133.76  3106.426507     0  2015       0  \n",
       "4     5986.26      197.69  3106.426507     0  2015       0  "
      ]
     },
     "execution_count": 13,
     "metadata": {},
     "output_type": "execute_result"
    }
   ],
   "source": [
    "df.head()"
   ]
  },
  {
   "cell_type": "markdown",
   "id": "c165d292",
   "metadata": {},
   "source": [
    "Object datatype converted into numeric datatype"
   ]
  },
  {
   "cell_type": "markdown",
   "id": "afdb423f",
   "metadata": {},
   "source": [
    "## Describing the dataset"
   ]
  },
  {
   "cell_type": "code",
   "execution_count": 46,
   "id": "44a14aea",
   "metadata": {},
   "outputs": [
    {
     "data": {
      "text/html": [
       "<div>\n",
       "<style scoped>\n",
       "    .dataframe tbody tr th:only-of-type {\n",
       "        vertical-align: middle;\n",
       "    }\n",
       "\n",
       "    .dataframe tbody tr th {\n",
       "        vertical-align: top;\n",
       "    }\n",
       "\n",
       "    .dataframe thead th {\n",
       "        text-align: right;\n",
       "    }\n",
       "</style>\n",
       "<table border=\"1\" class=\"dataframe\">\n",
       "  <thead>\n",
       "    <tr style=\"text-align: right;\">\n",
       "      <th></th>\n",
       "      <th>Date</th>\n",
       "      <th>AveragePrice</th>\n",
       "      <th>Total Volume</th>\n",
       "      <th>4046</th>\n",
       "      <th>4225</th>\n",
       "      <th>4770</th>\n",
       "      <th>Total Bags</th>\n",
       "      <th>Small Bags</th>\n",
       "      <th>Large Bags</th>\n",
       "      <th>XLarge Bags</th>\n",
       "      <th>type</th>\n",
       "      <th>year</th>\n",
       "      <th>region</th>\n",
       "    </tr>\n",
       "  </thead>\n",
       "  <tbody>\n",
       "    <tr>\n",
       "      <th>count</th>\n",
       "      <td>18249.000000</td>\n",
       "      <td>18249.000000</td>\n",
       "      <td>1.824900e+04</td>\n",
       "      <td>1.824900e+04</td>\n",
       "      <td>1.824900e+04</td>\n",
       "      <td>1.824900e+04</td>\n",
       "      <td>1.824900e+04</td>\n",
       "      <td>1.824900e+04</td>\n",
       "      <td>1.824900e+04</td>\n",
       "      <td>18249.000000</td>\n",
       "      <td>18249.000000</td>\n",
       "      <td>18249.000000</td>\n",
       "      <td>18249.000000</td>\n",
       "    </tr>\n",
       "    <tr>\n",
       "      <th>mean</th>\n",
       "      <td>83.997096</td>\n",
       "      <td>1.405978</td>\n",
       "      <td>8.506440e+05</td>\n",
       "      <td>2.930084e+05</td>\n",
       "      <td>2.951546e+05</td>\n",
       "      <td>2.283974e+04</td>\n",
       "      <td>2.396392e+05</td>\n",
       "      <td>1.821947e+05</td>\n",
       "      <td>5.433809e+04</td>\n",
       "      <td>5157.291024</td>\n",
       "      <td>0.499918</td>\n",
       "      <td>2016.147899</td>\n",
       "      <td>26.495644</td>\n",
       "    </tr>\n",
       "    <tr>\n",
       "      <th>std</th>\n",
       "      <td>48.787638</td>\n",
       "      <td>0.402677</td>\n",
       "      <td>3.453545e+06</td>\n",
       "      <td>1.264989e+06</td>\n",
       "      <td>1.204120e+06</td>\n",
       "      <td>1.074641e+05</td>\n",
       "      <td>9.862424e+05</td>\n",
       "      <td>7.461785e+05</td>\n",
       "      <td>2.439660e+05</td>\n",
       "      <td>17391.406970</td>\n",
       "      <td>0.500014</td>\n",
       "      <td>0.939938</td>\n",
       "      <td>15.583788</td>\n",
       "    </tr>\n",
       "    <tr>\n",
       "      <th>min</th>\n",
       "      <td>0.000000</td>\n",
       "      <td>0.440000</td>\n",
       "      <td>8.456000e+01</td>\n",
       "      <td>0.000000e+00</td>\n",
       "      <td>0.000000e+00</td>\n",
       "      <td>0.000000e+00</td>\n",
       "      <td>0.000000e+00</td>\n",
       "      <td>0.000000e+00</td>\n",
       "      <td>0.000000e+00</td>\n",
       "      <td>1.000000</td>\n",
       "      <td>0.000000</td>\n",
       "      <td>2015.000000</td>\n",
       "      <td>0.000000</td>\n",
       "    </tr>\n",
       "    <tr>\n",
       "      <th>25%</th>\n",
       "      <td>42.000000</td>\n",
       "      <td>1.100000</td>\n",
       "      <td>1.083858e+04</td>\n",
       "      <td>8.540700e+02</td>\n",
       "      <td>3.008780e+03</td>\n",
       "      <td>0.000000e+00</td>\n",
       "      <td>5.088640e+03</td>\n",
       "      <td>2.849420e+03</td>\n",
       "      <td>1.274700e+02</td>\n",
       "      <td>3106.426507</td>\n",
       "      <td>0.000000</td>\n",
       "      <td>2015.000000</td>\n",
       "      <td>13.000000</td>\n",
       "    </tr>\n",
       "    <tr>\n",
       "      <th>50%</th>\n",
       "      <td>84.000000</td>\n",
       "      <td>1.370000</td>\n",
       "      <td>1.073768e+05</td>\n",
       "      <td>8.645300e+03</td>\n",
       "      <td>2.906102e+04</td>\n",
       "      <td>1.849900e+02</td>\n",
       "      <td>3.974383e+04</td>\n",
       "      <td>2.636282e+04</td>\n",
       "      <td>2.647710e+03</td>\n",
       "      <td>3106.426507</td>\n",
       "      <td>0.000000</td>\n",
       "      <td>2016.000000</td>\n",
       "      <td>26.000000</td>\n",
       "    </tr>\n",
       "    <tr>\n",
       "      <th>75%</th>\n",
       "      <td>126.000000</td>\n",
       "      <td>1.660000</td>\n",
       "      <td>4.329623e+05</td>\n",
       "      <td>1.110202e+05</td>\n",
       "      <td>1.502069e+05</td>\n",
       "      <td>6.243420e+03</td>\n",
       "      <td>1.107834e+05</td>\n",
       "      <td>8.333767e+04</td>\n",
       "      <td>2.202925e+04</td>\n",
       "      <td>3106.426507</td>\n",
       "      <td>1.000000</td>\n",
       "      <td>2017.000000</td>\n",
       "      <td>40.000000</td>\n",
       "    </tr>\n",
       "    <tr>\n",
       "      <th>max</th>\n",
       "      <td>168.000000</td>\n",
       "      <td>3.250000</td>\n",
       "      <td>6.250565e+07</td>\n",
       "      <td>2.274362e+07</td>\n",
       "      <td>2.047057e+07</td>\n",
       "      <td>2.546439e+06</td>\n",
       "      <td>1.937313e+07</td>\n",
       "      <td>1.338459e+07</td>\n",
       "      <td>5.719097e+06</td>\n",
       "      <td>551693.650000</td>\n",
       "      <td>1.000000</td>\n",
       "      <td>2018.000000</td>\n",
       "      <td>53.000000</td>\n",
       "    </tr>\n",
       "  </tbody>\n",
       "</table>\n",
       "</div>"
      ],
      "text/plain": [
       "               Date  AveragePrice  Total Volume          4046          4225  \\\n",
       "count  18249.000000  18249.000000  1.824900e+04  1.824900e+04  1.824900e+04   \n",
       "mean      83.997096      1.405978  8.506440e+05  2.930084e+05  2.951546e+05   \n",
       "std       48.787638      0.402677  3.453545e+06  1.264989e+06  1.204120e+06   \n",
       "min        0.000000      0.440000  8.456000e+01  0.000000e+00  0.000000e+00   \n",
       "25%       42.000000      1.100000  1.083858e+04  8.540700e+02  3.008780e+03   \n",
       "50%       84.000000      1.370000  1.073768e+05  8.645300e+03  2.906102e+04   \n",
       "75%      126.000000      1.660000  4.329623e+05  1.110202e+05  1.502069e+05   \n",
       "max      168.000000      3.250000  6.250565e+07  2.274362e+07  2.047057e+07   \n",
       "\n",
       "               4770    Total Bags    Small Bags    Large Bags    XLarge Bags  \\\n",
       "count  1.824900e+04  1.824900e+04  1.824900e+04  1.824900e+04   18249.000000   \n",
       "mean   2.283974e+04  2.396392e+05  1.821947e+05  5.433809e+04    5157.291024   \n",
       "std    1.074641e+05  9.862424e+05  7.461785e+05  2.439660e+05   17391.406970   \n",
       "min    0.000000e+00  0.000000e+00  0.000000e+00  0.000000e+00       1.000000   \n",
       "25%    0.000000e+00  5.088640e+03  2.849420e+03  1.274700e+02    3106.426507   \n",
       "50%    1.849900e+02  3.974383e+04  2.636282e+04  2.647710e+03    3106.426507   \n",
       "75%    6.243420e+03  1.107834e+05  8.333767e+04  2.202925e+04    3106.426507   \n",
       "max    2.546439e+06  1.937313e+07  1.338459e+07  5.719097e+06  551693.650000   \n",
       "\n",
       "               type          year        region  \n",
       "count  18249.000000  18249.000000  18249.000000  \n",
       "mean       0.499918   2016.147899     26.495644  \n",
       "std        0.500014      0.939938     15.583788  \n",
       "min        0.000000   2015.000000      0.000000  \n",
       "25%        0.000000   2015.000000     13.000000  \n",
       "50%        0.000000   2016.000000     26.000000  \n",
       "75%        1.000000   2017.000000     40.000000  \n",
       "max        1.000000   2018.000000     53.000000  "
      ]
     },
     "execution_count": 46,
     "metadata": {},
     "output_type": "execute_result"
    }
   ],
   "source": [
    "df.describe()"
   ]
  },
  {
   "cell_type": "markdown",
   "id": "0f0619fa",
   "metadata": {},
   "source": [
    "Key Observations:\n",
    "\n",
    "Mean and Median: Values of mean and median are alternatively higher and lower for both . \n",
    "75% percentile and max: Columns do have difference so Outliers are present.\n",
    "Standard deviation is less than mean so high peak data"
   ]
  },
  {
   "cell_type": "code",
   "execution_count": 47,
   "id": "ba6bb8f3",
   "metadata": {},
   "outputs": [
    {
     "data": {
      "text/plain": [
       "<AxesSubplot:>"
      ]
     },
     "execution_count": 47,
     "metadata": {},
     "output_type": "execute_result"
    },
    {
     "data": {
      "image/png": "[encoded data removed]",
      "text/plain": [
       "<Figure size 1584x720 with 2 Axes>"
      ]
     },
     "metadata": {
      "needs_background": "light"
     },
     "output_type": "display_data"
    }
   ],
   "source": [
    "import matplotlib.pyplot as plt\n",
    "plt.figure(figsize=(22,10))\n",
    "sns.heatmap(df.describe(),annot=True,linewidths=0.1,linecolor=\"Green\",fmt=\"0.2f\")"
   ]
  },
  {
   "cell_type": "markdown",
   "id": "285b7861",
   "metadata": {},
   "source": [
    "Heatmap representation of dataset description"
   ]
  },
  {
   "cell_type": "markdown",
   "id": "b7e4577f",
   "metadata": {},
   "source": [
    "## Outliers:"
   ]
  },
  {
   "cell_type": "code",
   "execution_count": 14,
   "id": "a41315cb",
   "metadata": {},
   "outputs": [
    {
     "data": {
      "text/plain": [
       "Date               AxesSubplot(0.125,0.772143;0.110714x0.107857)\n",
       "AveragePrice    AxesSubplot(0.257857,0.772143;0.110714x0.107857)\n",
       "Total Volume    AxesSubplot(0.390714,0.772143;0.110714x0.107857)\n",
       "4046            AxesSubplot(0.523571,0.772143;0.110714x0.107857)\n",
       "4225            AxesSubplot(0.656429,0.772143;0.110714x0.107857)\n",
       "4770            AxesSubplot(0.789286,0.772143;0.110714x0.107857)\n",
       "Total Bags         AxesSubplot(0.125,0.642714;0.110714x0.107857)\n",
       "Small Bags      AxesSubplot(0.257857,0.642714;0.110714x0.107857)\n",
       "Large Bags      AxesSubplot(0.390714,0.642714;0.110714x0.107857)\n",
       "XLarge Bags     AxesSubplot(0.523571,0.642714;0.110714x0.107857)\n",
       "type            AxesSubplot(0.656429,0.642714;0.110714x0.107857)\n",
       "year            AxesSubplot(0.789286,0.642714;0.110714x0.107857)\n",
       "region             AxesSubplot(0.125,0.513286;0.110714x0.107857)\n",
       "dtype: object"
      ]
     },
     "execution_count": 14,
     "metadata": {},
     "output_type": "execute_result"
    },
    {
     "data": {
      "image/png": "[encoded data removed]",
      "text/plain": [
       "<Figure size 720x720 with 36 Axes>"
      ]
     },
     "metadata": {
      "needs_background": "light"
     },
     "output_type": "display_data"
    }
   ],
   "source": [
    "df.plot(kind='box',subplots=True,layout=(6,6),figsize=(10,10))"
   ]
  },
  {
   "cell_type": "markdown",
   "id": "d9b274cc",
   "metadata": {},
   "source": [
    "Average Price, Total Volume,4046, 4225, 4770, Total Bags, small bags, large bags and xlarge bags columns have outliers so need to remove it."
   ]
  },
  {
   "cell_type": "code",
   "execution_count": 15,
   "id": "26cdc01c",
   "metadata": {},
   "outputs": [
    {
     "data": {
      "text/plain": [
       "(array([  346,   359,   780, ..., 17304, 17402, 17428], dtype=int64),\n",
       " array([3, 3, 9, ..., 1, 1, 1], dtype=int64))"
      ]
     },
     "execution_count": 15,
     "metadata": {},
     "output_type": "execute_result"
    }
   ],
   "source": [
    "# Removing Outliers: \n",
    "\n",
    "from scipy.stats import zscore\n",
    "import numpy as np\n",
    "z=np.abs(zscore(df))\n",
    "threshold=3\n",
    "np.where(z>3)"
   ]
  },
  {
   "cell_type": "code",
   "execution_count": 16,
   "id": "d35f0046",
   "metadata": {},
   "outputs": [
    {
     "data": {
      "text/html": [
       "<div>\n",
       "<style scoped>\n",
       "    .dataframe tbody tr th:only-of-type {\n",
       "        vertical-align: middle;\n",
       "    }\n",
       "\n",
       "    .dataframe tbody tr th {\n",
       "        vertical-align: top;\n",
       "    }\n",
       "\n",
       "    .dataframe thead th {\n",
       "        text-align: right;\n",
       "    }\n",
       "</style>\n",
       "<table border=\"1\" class=\"dataframe\">\n",
       "  <thead>\n",
       "    <tr style=\"text-align: right;\">\n",
       "      <th></th>\n",
       "      <th>Date</th>\n",
       "      <th>AveragePrice</th>\n",
       "      <th>Total Volume</th>\n",
       "      <th>4046</th>\n",
       "      <th>4225</th>\n",
       "      <th>4770</th>\n",
       "      <th>Total Bags</th>\n",
       "      <th>Small Bags</th>\n",
       "      <th>Large Bags</th>\n",
       "      <th>XLarge Bags</th>\n",
       "      <th>type</th>\n",
       "      <th>year</th>\n",
       "      <th>region</th>\n",
       "    </tr>\n",
       "  </thead>\n",
       "  <tbody>\n",
       "    <tr>\n",
       "      <th>0</th>\n",
       "      <td>51</td>\n",
       "      <td>1.33</td>\n",
       "      <td>64236.62</td>\n",
       "      <td>1036.74</td>\n",
       "      <td>54454.85</td>\n",
       "      <td>48.16</td>\n",
       "      <td>8696.87</td>\n",
       "      <td>8603.62</td>\n",
       "      <td>93.25</td>\n",
       "      <td>3106.426507</td>\n",
       "      <td>0</td>\n",
       "      <td>2015</td>\n",
       "      <td>0</td>\n",
       "    </tr>\n",
       "    <tr>\n",
       "      <th>1</th>\n",
       "      <td>50</td>\n",
       "      <td>1.35</td>\n",
       "      <td>54876.98</td>\n",
       "      <td>674.28</td>\n",
       "      <td>44638.81</td>\n",
       "      <td>58.33</td>\n",
       "      <td>9505.56</td>\n",
       "      <td>9408.07</td>\n",
       "      <td>97.49</td>\n",
       "      <td>3106.426507</td>\n",
       "      <td>0</td>\n",
       "      <td>2015</td>\n",
       "      <td>0</td>\n",
       "    </tr>\n",
       "    <tr>\n",
       "      <th>2</th>\n",
       "      <td>49</td>\n",
       "      <td>0.93</td>\n",
       "      <td>118220.22</td>\n",
       "      <td>794.70</td>\n",
       "      <td>109149.67</td>\n",
       "      <td>130.50</td>\n",
       "      <td>8145.35</td>\n",
       "      <td>8042.21</td>\n",
       "      <td>103.14</td>\n",
       "      <td>3106.426507</td>\n",
       "      <td>0</td>\n",
       "      <td>2015</td>\n",
       "      <td>0</td>\n",
       "    </tr>\n",
       "    <tr>\n",
       "      <th>3</th>\n",
       "      <td>48</td>\n",
       "      <td>1.08</td>\n",
       "      <td>78992.15</td>\n",
       "      <td>1132.00</td>\n",
       "      <td>71976.41</td>\n",
       "      <td>72.58</td>\n",
       "      <td>5811.16</td>\n",
       "      <td>5677.40</td>\n",
       "      <td>133.76</td>\n",
       "      <td>3106.426507</td>\n",
       "      <td>0</td>\n",
       "      <td>2015</td>\n",
       "      <td>0</td>\n",
       "    </tr>\n",
       "    <tr>\n",
       "      <th>4</th>\n",
       "      <td>47</td>\n",
       "      <td>1.28</td>\n",
       "      <td>51039.60</td>\n",
       "      <td>941.48</td>\n",
       "      <td>43838.39</td>\n",
       "      <td>75.78</td>\n",
       "      <td>6183.95</td>\n",
       "      <td>5986.26</td>\n",
       "      <td>197.69</td>\n",
       "      <td>3106.426507</td>\n",
       "      <td>0</td>\n",
       "      <td>2015</td>\n",
       "      <td>0</td>\n",
       "    </tr>\n",
       "    <tr>\n",
       "      <th>...</th>\n",
       "      <td>...</td>\n",
       "      <td>...</td>\n",
       "      <td>...</td>\n",
       "      <td>...</td>\n",
       "      <td>...</td>\n",
       "      <td>...</td>\n",
       "      <td>...</td>\n",
       "      <td>...</td>\n",
       "      <td>...</td>\n",
       "      <td>...</td>\n",
       "      <td>...</td>\n",
       "      <td>...</td>\n",
       "      <td>...</td>\n",
       "    </tr>\n",
       "    <tr>\n",
       "      <th>18244</th>\n",
       "      <td>161</td>\n",
       "      <td>1.63</td>\n",
       "      <td>17074.83</td>\n",
       "      <td>2046.96</td>\n",
       "      <td>1529.20</td>\n",
       "      <td>0.00</td>\n",
       "      <td>13498.67</td>\n",
       "      <td>13066.82</td>\n",
       "      <td>431.85</td>\n",
       "      <td>3106.426507</td>\n",
       "      <td>1</td>\n",
       "      <td>2018</td>\n",
       "      <td>53</td>\n",
       "    </tr>\n",
       "    <tr>\n",
       "      <th>18245</th>\n",
       "      <td>160</td>\n",
       "      <td>1.71</td>\n",
       "      <td>13888.04</td>\n",
       "      <td>1191.70</td>\n",
       "      <td>3431.50</td>\n",
       "      <td>0.00</td>\n",
       "      <td>9264.84</td>\n",
       "      <td>8940.04</td>\n",
       "      <td>324.80</td>\n",
       "      <td>3106.426507</td>\n",
       "      <td>1</td>\n",
       "      <td>2018</td>\n",
       "      <td>53</td>\n",
       "    </tr>\n",
       "    <tr>\n",
       "      <th>18246</th>\n",
       "      <td>159</td>\n",
       "      <td>1.87</td>\n",
       "      <td>13766.76</td>\n",
       "      <td>1191.92</td>\n",
       "      <td>2452.79</td>\n",
       "      <td>727.94</td>\n",
       "      <td>9394.11</td>\n",
       "      <td>9351.80</td>\n",
       "      <td>42.31</td>\n",
       "      <td>3106.426507</td>\n",
       "      <td>1</td>\n",
       "      <td>2018</td>\n",
       "      <td>53</td>\n",
       "    </tr>\n",
       "    <tr>\n",
       "      <th>18247</th>\n",
       "      <td>158</td>\n",
       "      <td>1.93</td>\n",
       "      <td>16205.22</td>\n",
       "      <td>1527.63</td>\n",
       "      <td>2981.04</td>\n",
       "      <td>727.01</td>\n",
       "      <td>10969.54</td>\n",
       "      <td>10919.54</td>\n",
       "      <td>50.00</td>\n",
       "      <td>3106.426507</td>\n",
       "      <td>1</td>\n",
       "      <td>2018</td>\n",
       "      <td>53</td>\n",
       "    </tr>\n",
       "    <tr>\n",
       "      <th>18248</th>\n",
       "      <td>157</td>\n",
       "      <td>1.62</td>\n",
       "      <td>17489.58</td>\n",
       "      <td>2894.77</td>\n",
       "      <td>2356.13</td>\n",
       "      <td>224.53</td>\n",
       "      <td>12014.15</td>\n",
       "      <td>11988.14</td>\n",
       "      <td>26.01</td>\n",
       "      <td>3106.426507</td>\n",
       "      <td>1</td>\n",
       "      <td>2018</td>\n",
       "      <td>53</td>\n",
       "    </tr>\n",
       "  </tbody>\n",
       "</table>\n",
       "<p>17659 rows × 13 columns</p>\n",
       "</div>"
      ],
      "text/plain": [
       "       Date  AveragePrice  Total Volume     4046       4225    4770  \\\n",
       "0        51          1.33      64236.62  1036.74   54454.85   48.16   \n",
       "1        50          1.35      54876.98   674.28   44638.81   58.33   \n",
       "2        49          0.93     118220.22   794.70  109149.67  130.50   \n",
       "3        48          1.08      78992.15  1132.00   71976.41   72.58   \n",
       "4        47          1.28      51039.60   941.48   43838.39   75.78   \n",
       "...     ...           ...           ...      ...        ...     ...   \n",
       "18244   161          1.63      17074.83  2046.96    1529.20    0.00   \n",
       "18245   160          1.71      13888.04  1191.70    3431.50    0.00   \n",
       "18246   159          1.87      13766.76  1191.92    2452.79  727.94   \n",
       "18247   158          1.93      16205.22  1527.63    2981.04  727.01   \n",
       "18248   157          1.62      17489.58  2894.77    2356.13  224.53   \n",
       "\n",
       "       Total Bags  Small Bags  Large Bags  XLarge Bags  type  year  region  \n",
       "0         8696.87     8603.62       93.25  3106.426507     0  2015       0  \n",
       "1         9505.56     9408.07       97.49  3106.426507     0  2015       0  \n",
       "2         8145.35     8042.21      103.14  3106.426507     0  2015       0  \n",
       "3         5811.16     5677.40      133.76  3106.426507     0  2015       0  \n",
       "4         6183.95     5986.26      197.69  3106.426507     0  2015       0  \n",
       "...           ...         ...         ...          ...   ...   ...     ...  \n",
       "18244    13498.67    13066.82      431.85  3106.426507     1  2018      53  \n",
       "18245     9264.84     8940.04      324.80  3106.426507     1  2018      53  \n",
       "18246     9394.11     9351.80       42.31  3106.426507     1  2018      53  \n",
       "18247    10969.54    10919.54       50.00  3106.426507     1  2018      53  \n",
       "18248    12014.15    11988.14       26.01  3106.426507     1  2018      53  \n",
       "\n",
       "[17659 rows x 13 columns]"
      ]
     },
     "execution_count": 16,
     "metadata": {},
     "output_type": "execute_result"
    }
   ],
   "source": [
    "#removing value greater than threshold value \n",
    "\n",
    "df_new=df[(z<3).all(axis=1)]\n",
    "df_new"
   ]
  },
  {
   "cell_type": "markdown",
   "id": "1a2a9573",
   "metadata": {},
   "source": [
    "Outliers removed"
   ]
  },
  {
   "cell_type": "code",
   "execution_count": 17,
   "id": "fc076ce2",
   "metadata": {},
   "outputs": [
    {
     "data": {
      "text/html": [
       "<div>\n",
       "<style scoped>\n",
       "    .dataframe tbody tr th:only-of-type {\n",
       "        vertical-align: middle;\n",
       "    }\n",
       "\n",
       "    .dataframe tbody tr th {\n",
       "        vertical-align: top;\n",
       "    }\n",
       "\n",
       "    .dataframe thead th {\n",
       "        text-align: right;\n",
       "    }\n",
       "</style>\n",
       "<table border=\"1\" class=\"dataframe\">\n",
       "  <thead>\n",
       "    <tr style=\"text-align: right;\">\n",
       "      <th></th>\n",
       "      <th>Date</th>\n",
       "      <th>AveragePrice</th>\n",
       "      <th>Total Volume</th>\n",
       "      <th>4046</th>\n",
       "      <th>4225</th>\n",
       "      <th>4770</th>\n",
       "      <th>Total Bags</th>\n",
       "      <th>Small Bags</th>\n",
       "      <th>Large Bags</th>\n",
       "      <th>XLarge Bags</th>\n",
       "      <th>type</th>\n",
       "      <th>year</th>\n",
       "      <th>region</th>\n",
       "    </tr>\n",
       "  </thead>\n",
       "  <tbody>\n",
       "    <tr>\n",
       "      <th>0</th>\n",
       "      <td>51</td>\n",
       "      <td>1.33</td>\n",
       "      <td>64236.62</td>\n",
       "      <td>1036.74</td>\n",
       "      <td>54454.85</td>\n",
       "      <td>48.16</td>\n",
       "      <td>8696.87</td>\n",
       "      <td>8603.62</td>\n",
       "      <td>93.25</td>\n",
       "      <td>3106.426507</td>\n",
       "      <td>0</td>\n",
       "      <td>2015</td>\n",
       "      <td>0</td>\n",
       "    </tr>\n",
       "    <tr>\n",
       "      <th>1</th>\n",
       "      <td>50</td>\n",
       "      <td>1.35</td>\n",
       "      <td>54876.98</td>\n",
       "      <td>674.28</td>\n",
       "      <td>44638.81</td>\n",
       "      <td>58.33</td>\n",
       "      <td>9505.56</td>\n",
       "      <td>9408.07</td>\n",
       "      <td>97.49</td>\n",
       "      <td>3106.426507</td>\n",
       "      <td>0</td>\n",
       "      <td>2015</td>\n",
       "      <td>0</td>\n",
       "    </tr>\n",
       "    <tr>\n",
       "      <th>2</th>\n",
       "      <td>49</td>\n",
       "      <td>0.93</td>\n",
       "      <td>118220.22</td>\n",
       "      <td>794.70</td>\n",
       "      <td>109149.67</td>\n",
       "      <td>130.50</td>\n",
       "      <td>8145.35</td>\n",
       "      <td>8042.21</td>\n",
       "      <td>103.14</td>\n",
       "      <td>3106.426507</td>\n",
       "      <td>0</td>\n",
       "      <td>2015</td>\n",
       "      <td>0</td>\n",
       "    </tr>\n",
       "    <tr>\n",
       "      <th>3</th>\n",
       "      <td>48</td>\n",
       "      <td>1.08</td>\n",
       "      <td>78992.15</td>\n",
       "      <td>1132.00</td>\n",
       "      <td>71976.41</td>\n",
       "      <td>72.58</td>\n",
       "      <td>5811.16</td>\n",
       "      <td>5677.40</td>\n",
       "      <td>133.76</td>\n",
       "      <td>3106.426507</td>\n",
       "      <td>0</td>\n",
       "      <td>2015</td>\n",
       "      <td>0</td>\n",
       "    </tr>\n",
       "    <tr>\n",
       "      <th>4</th>\n",
       "      <td>47</td>\n",
       "      <td>1.28</td>\n",
       "      <td>51039.60</td>\n",
       "      <td>941.48</td>\n",
       "      <td>43838.39</td>\n",
       "      <td>75.78</td>\n",
       "      <td>6183.95</td>\n",
       "      <td>5986.26</td>\n",
       "      <td>197.69</td>\n",
       "      <td>3106.426507</td>\n",
       "      <td>0</td>\n",
       "      <td>2015</td>\n",
       "      <td>0</td>\n",
       "    </tr>\n",
       "    <tr>\n",
       "      <th>...</th>\n",
       "      <td>...</td>\n",
       "      <td>...</td>\n",
       "      <td>...</td>\n",
       "      <td>...</td>\n",
       "      <td>...</td>\n",
       "      <td>...</td>\n",
       "      <td>...</td>\n",
       "      <td>...</td>\n",
       "      <td>...</td>\n",
       "      <td>...</td>\n",
       "      <td>...</td>\n",
       "      <td>...</td>\n",
       "      <td>...</td>\n",
       "    </tr>\n",
       "    <tr>\n",
       "      <th>18244</th>\n",
       "      <td>161</td>\n",
       "      <td>1.63</td>\n",
       "      <td>17074.83</td>\n",
       "      <td>2046.96</td>\n",
       "      <td>1529.20</td>\n",
       "      <td>0.00</td>\n",
       "      <td>13498.67</td>\n",
       "      <td>13066.82</td>\n",
       "      <td>431.85</td>\n",
       "      <td>3106.426507</td>\n",
       "      <td>1</td>\n",
       "      <td>2018</td>\n",
       "      <td>53</td>\n",
       "    </tr>\n",
       "    <tr>\n",
       "      <th>18245</th>\n",
       "      <td>160</td>\n",
       "      <td>1.71</td>\n",
       "      <td>13888.04</td>\n",
       "      <td>1191.70</td>\n",
       "      <td>3431.50</td>\n",
       "      <td>0.00</td>\n",
       "      <td>9264.84</td>\n",
       "      <td>8940.04</td>\n",
       "      <td>324.80</td>\n",
       "      <td>3106.426507</td>\n",
       "      <td>1</td>\n",
       "      <td>2018</td>\n",
       "      <td>53</td>\n",
       "    </tr>\n",
       "    <tr>\n",
       "      <th>18246</th>\n",
       "      <td>159</td>\n",
       "      <td>1.87</td>\n",
       "      <td>13766.76</td>\n",
       "      <td>1191.92</td>\n",
       "      <td>2452.79</td>\n",
       "      <td>727.94</td>\n",
       "      <td>9394.11</td>\n",
       "      <td>9351.80</td>\n",
       "      <td>42.31</td>\n",
       "      <td>3106.426507</td>\n",
       "      <td>1</td>\n",
       "      <td>2018</td>\n",
       "      <td>53</td>\n",
       "    </tr>\n",
       "    <tr>\n",
       "      <th>18247</th>\n",
       "      <td>158</td>\n",
       "      <td>1.93</td>\n",
       "      <td>16205.22</td>\n",
       "      <td>1527.63</td>\n",
       "      <td>2981.04</td>\n",
       "      <td>727.01</td>\n",
       "      <td>10969.54</td>\n",
       "      <td>10919.54</td>\n",
       "      <td>50.00</td>\n",
       "      <td>3106.426507</td>\n",
       "      <td>1</td>\n",
       "      <td>2018</td>\n",
       "      <td>53</td>\n",
       "    </tr>\n",
       "    <tr>\n",
       "      <th>18248</th>\n",
       "      <td>157</td>\n",
       "      <td>1.62</td>\n",
       "      <td>17489.58</td>\n",
       "      <td>2894.77</td>\n",
       "      <td>2356.13</td>\n",
       "      <td>224.53</td>\n",
       "      <td>12014.15</td>\n",
       "      <td>11988.14</td>\n",
       "      <td>26.01</td>\n",
       "      <td>3106.426507</td>\n",
       "      <td>1</td>\n",
       "      <td>2018</td>\n",
       "      <td>53</td>\n",
       "    </tr>\n",
       "  </tbody>\n",
       "</table>\n",
       "<p>17659 rows × 13 columns</p>\n",
       "</div>"
      ],
      "text/plain": [
       "       Date  AveragePrice  Total Volume     4046       4225    4770  \\\n",
       "0        51          1.33      64236.62  1036.74   54454.85   48.16   \n",
       "1        50          1.35      54876.98   674.28   44638.81   58.33   \n",
       "2        49          0.93     118220.22   794.70  109149.67  130.50   \n",
       "3        48          1.08      78992.15  1132.00   71976.41   72.58   \n",
       "4        47          1.28      51039.60   941.48   43838.39   75.78   \n",
       "...     ...           ...           ...      ...        ...     ...   \n",
       "18244   161          1.63      17074.83  2046.96    1529.20    0.00   \n",
       "18245   160          1.71      13888.04  1191.70    3431.50    0.00   \n",
       "18246   159          1.87      13766.76  1191.92    2452.79  727.94   \n",
       "18247   158          1.93      16205.22  1527.63    2981.04  727.01   \n",
       "18248   157          1.62      17489.58  2894.77    2356.13  224.53   \n",
       "\n",
       "       Total Bags  Small Bags  Large Bags  XLarge Bags  type  year  region  \n",
       "0         8696.87     8603.62       93.25  3106.426507     0  2015       0  \n",
       "1         9505.56     9408.07       97.49  3106.426507     0  2015       0  \n",
       "2         8145.35     8042.21      103.14  3106.426507     0  2015       0  \n",
       "3         5811.16     5677.40      133.76  3106.426507     0  2015       0  \n",
       "4         6183.95     5986.26      197.69  3106.426507     0  2015       0  \n",
       "...           ...         ...         ...          ...   ...   ...     ...  \n",
       "18244    13498.67    13066.82      431.85  3106.426507     1  2018      53  \n",
       "18245     9264.84     8940.04      324.80  3106.426507     1  2018      53  \n",
       "18246     9394.11     9351.80       42.31  3106.426507     1  2018      53  \n",
       "18247    10969.54    10919.54       50.00  3106.426507     1  2018      53  \n",
       "18248    12014.15    11988.14       26.01  3106.426507     1  2018      53  \n",
       "\n",
       "[17659 rows x 13 columns]"
      ]
     },
     "execution_count": 17,
     "metadata": {},
     "output_type": "execute_result"
    }
   ],
   "source": [
    "df=df_new\n",
    "df"
   ]
  },
  {
   "cell_type": "markdown",
   "id": "9f5d5e4c",
   "metadata": {},
   "source": [
    "Percentage Loss of data"
   ]
  },
  {
   "cell_type": "code",
   "execution_count": 18,
   "id": "160d8f34",
   "metadata": {},
   "outputs": [
    {
     "data": {
      "text/plain": [
       "(17659, 13)"
      ]
     },
     "execution_count": 18,
     "metadata": {},
     "output_type": "execute_result"
    }
   ],
   "source": [
    "df.shape"
   ]
  },
  {
   "cell_type": "code",
   "execution_count": 19,
   "id": "4a0a205b",
   "metadata": {},
   "outputs": [
    {
     "data": {
      "text/plain": [
       "3.233053865965258"
      ]
     },
     "execution_count": 19,
     "metadata": {},
     "output_type": "execute_result"
    }
   ],
   "source": [
    "Data_loss=((18249-17659)/18249)*100\n",
    "Data_loss"
   ]
  },
  {
   "cell_type": "markdown",
   "id": "57611aa6",
   "metadata": {},
   "source": [
    "3.23% loss"
   ]
  },
  {
   "cell_type": "markdown",
   "id": "b09e8f72",
   "metadata": {},
   "source": [
    "## Skewness:"
   ]
  },
  {
   "cell_type": "code",
   "execution_count": 20,
   "id": "74cfa103",
   "metadata": {},
   "outputs": [
    {
     "data": {
      "text/plain": [
       "Date            0.013095\n",
       "AveragePrice    0.377974\n",
       "Total Volume    3.760081\n",
       "4046            4.892993\n",
       "4225            4.447621\n",
       "4770            5.096626\n",
       "Total Bags      4.055422\n",
       "Small Bags      4.224037\n",
       "Large Bags      5.045601\n",
       "XLarge Bags     6.302641\n",
       "type           -0.036818\n",
       "year            0.229311\n",
       "region          0.013416\n",
       "dtype: float64"
      ]
     },
     "execution_count": 20,
     "metadata": {},
     "output_type": "execute_result"
    }
   ],
   "source": [
    "df.skew()"
   ]
  },
  {
   "cell_type": "markdown",
   "id": "c2d7773a",
   "metadata": {},
   "source": [
    "### Separating feature and target data"
   ]
  },
  {
   "cell_type": "code",
   "execution_count": 21,
   "id": "38f81cc5",
   "metadata": {},
   "outputs": [],
   "source": [
    "# Independent data:\n",
    "x1= df.drop(['region'], axis=1) #Classification : region\n",
    "x2= df.drop(['AveragePrice'], axis=1) #Regression : averageprice\n",
    "# Target label\n",
    "y1= df['region'].values  #Classification : region\n",
    "y2= df['AveragePrice'].values  #Regression : averageprice"
   ]
  },
  {
   "cell_type": "markdown",
   "id": "59c842dd",
   "metadata": {},
   "source": [
    "Data separated into feature and target label\n",
    "x1 & y1 : Classification \n",
    "x2 & y2 : Regression"
   ]
  },
  {
   "cell_type": "code",
   "execution_count": 22,
   "id": "46d97315",
   "metadata": {},
   "outputs": [],
   "source": [
    "from sklearn.preprocessing import power_transform\n",
    "x1=power_transform(x1,method='yeo-johnson')\n",
    "\n",
    "x2=power_transform(x2,method='yeo-johnson')"
   ]
  },
  {
   "cell_type": "markdown",
   "id": "b2cf9ba7",
   "metadata": {},
   "source": [
    "Uisng 'yeo-johnson' method for removing skewness"
   ]
  },
  {
   "cell_type": "code",
   "execution_count": 23,
   "id": "d31b6302",
   "metadata": {},
   "outputs": [
    {
     "name": "stdout",
     "output_type": "stream",
     "text": [
      "x1 data              0         1         2         3         4         5         6   \\\n",
      "0     -0.568035 -0.117427 -0.075979 -0.657838  0.350551 -0.223291 -0.537723   \n",
      "1     -0.590301 -0.063927 -0.148112 -0.777548  0.268682 -0.175969 -0.498365   \n",
      "2     -0.612697 -1.298757  0.204728 -0.732164  0.648270  0.023093 -0.566571   \n",
      "3     -0.635225 -0.828764  0.018944 -0.633019  0.467849 -0.121933 -0.713207   \n",
      "4     -0.657889 -0.253255 -0.181271 -0.684910  0.261299 -0.111264 -0.686461   \n",
      "...         ...       ...       ...       ...       ...       ...       ...   \n",
      "17654  1.443875  0.639822 -0.678584 -0.462565 -0.926324 -1.229205 -0.340756   \n",
      "17655  1.427971  0.826882 -0.771662 -0.618452 -0.670983 -1.229205 -0.509744   \n",
      "17656  1.412038  1.184664 -0.775608 -0.618400 -0.779237  0.444718 -0.503600   \n",
      "17657  1.396075  1.313609 -0.702158 -0.547474 -0.716737  0.444407 -0.434450   \n",
      "17658  1.380083  0.616032 -0.667755 -0.360217 -0.791990  0.156884 -0.393535   \n",
      "\n",
      "             7         8         9         10        11  \n",
      "0     -0.347684 -0.781561  0.222055 -1.018577 -1.211221  \n",
      "1     -0.311615 -0.771608  0.222055 -1.018577 -1.211221  \n",
      "2     -0.374695 -0.758934  0.222055 -1.018577 -1.211221  \n",
      "3     -0.511136 -0.699544  0.222055 -1.018577 -1.211221  \n",
      "4     -0.490693 -0.607461  0.222055 -1.018577 -1.211221  \n",
      "...         ...       ...       ...       ...       ...  \n",
      "17654 -0.176169 -0.412860  0.222055  0.981762  1.977598  \n",
      "17655 -0.332247 -0.485441  0.222055  0.981762  1.977598  \n",
      "17656 -0.314047 -0.951122  0.222055  0.981762  1.977598  \n",
      "17657 -0.250754 -0.916453  0.222055  0.981762  1.977598  \n",
      "17658 -0.212136 -1.048476  0.222055  0.981762  1.977598  \n",
      "\n",
      "[17659 rows x 12 columns]\n",
      "x2 data              0         1         2         3         4         5         6   \\\n",
      "0     -0.568035 -0.075979 -0.657838  0.350551 -0.223291 -0.537723 -0.347684   \n",
      "1     -0.590301 -0.148112 -0.777548  0.268682 -0.175969 -0.498365 -0.311615   \n",
      "2     -0.612697  0.204728 -0.732164  0.648270  0.023093 -0.566571 -0.374695   \n",
      "3     -0.635225  0.018944 -0.633019  0.467849 -0.121933 -0.713207 -0.511136   \n",
      "4     -0.657889 -0.181271 -0.684910  0.261299 -0.111264 -0.686461 -0.490693   \n",
      "...         ...       ...       ...       ...       ...       ...       ...   \n",
      "17654  1.443875 -0.678584 -0.462565 -0.926324 -1.229205 -0.340756 -0.176169   \n",
      "17655  1.427971 -0.771662 -0.618452 -0.670983 -1.229205 -0.509744 -0.332247   \n",
      "17656  1.412038 -0.775608 -0.618400 -0.779237  0.444718 -0.503600 -0.314047   \n",
      "17657  1.396075 -0.702158 -0.547474 -0.716737  0.444407 -0.434450 -0.250754   \n",
      "17658  1.380083 -0.667755 -0.360217 -0.791990  0.156884 -0.393535 -0.212136   \n",
      "\n",
      "             7         8         9         10        11  \n",
      "0     -0.781561  0.222055 -1.018577 -1.211221 -2.010825  \n",
      "1     -0.771608  0.222055 -1.018577 -1.211221 -2.010825  \n",
      "2     -0.758934  0.222055 -1.018577 -1.211221 -2.010825  \n",
      "3     -0.699544  0.222055 -1.018577 -1.211221 -2.010825  \n",
      "4     -0.607461  0.222055 -1.018577 -1.211221 -2.010825  \n",
      "...         ...       ...       ...       ...       ...  \n",
      "17654 -0.412860  0.222055  0.981762  1.977598  1.578462  \n",
      "17655 -0.485441  0.222055  0.981762  1.977598  1.578462  \n",
      "17656 -0.951122  0.222055  0.981762  1.977598  1.578462  \n",
      "17657 -0.916453  0.222055  0.981762  1.977598  1.578462  \n",
      "17658 -1.048476  0.222055  0.981762  1.977598  1.578462  \n",
      "\n",
      "[17659 rows x 12 columns]\n"
     ]
    }
   ],
   "source": [
    "x1= pd.DataFrame(x1)\n",
    "print(\"x1 data\",x1)\n",
    "x2= pd.DataFrame(x2)\n",
    "print(\"x2 data\",x2)"
   ]
  },
  {
   "cell_type": "markdown",
   "id": "316b5057",
   "metadata": {},
   "source": [
    "converted ndarray to dataframe"
   ]
  },
  {
   "cell_type": "markdown",
   "id": "1fc9cf8d",
   "metadata": {},
   "source": [
    "## Correlation of the columns with the target columns:"
   ]
  },
  {
   "cell_type": "code",
   "execution_count": 58,
   "id": "b37b98ae",
   "metadata": {},
   "outputs": [
    {
     "data": {
      "text/html": [
       "<div>\n",
       "<style scoped>\n",
       "    .dataframe tbody tr th:only-of-type {\n",
       "        vertical-align: middle;\n",
       "    }\n",
       "\n",
       "    .dataframe tbody tr th {\n",
       "        vertical-align: top;\n",
       "    }\n",
       "\n",
       "    .dataframe thead th {\n",
       "        text-align: right;\n",
       "    }\n",
       "</style>\n",
       "<table border=\"1\" class=\"dataframe\">\n",
       "  <thead>\n",
       "    <tr style=\"text-align: right;\">\n",
       "      <th></th>\n",
       "      <th>Date</th>\n",
       "      <th>AveragePrice</th>\n",
       "      <th>Total Volume</th>\n",
       "      <th>4046</th>\n",
       "      <th>4225</th>\n",
       "      <th>4770</th>\n",
       "      <th>Total Bags</th>\n",
       "      <th>Small Bags</th>\n",
       "      <th>Large Bags</th>\n",
       "      <th>XLarge Bags</th>\n",
       "      <th>type</th>\n",
       "      <th>year</th>\n",
       "      <th>region</th>\n",
       "    </tr>\n",
       "  </thead>\n",
       "  <tbody>\n",
       "    <tr>\n",
       "      <th>Date</th>\n",
       "      <td>1.000000</td>\n",
       "      <td>0.139445</td>\n",
       "      <td>-0.008899</td>\n",
       "      <td>-0.038422</td>\n",
       "      <td>-0.045361</td>\n",
       "      <td>-0.088739</td>\n",
       "      <td>0.102543</td>\n",
       "      <td>0.085301</td>\n",
       "      <td>0.119906</td>\n",
       "      <td>0.073209</td>\n",
       "      <td>0.000305</td>\n",
       "      <td>0.950179</td>\n",
       "      <td>-0.004772</td>\n",
       "    </tr>\n",
       "    <tr>\n",
       "      <th>AveragePrice</th>\n",
       "      <td>0.139445</td>\n",
       "      <td>1.000000</td>\n",
       "      <td>-0.331878</td>\n",
       "      <td>-0.333711</td>\n",
       "      <td>-0.244128</td>\n",
       "      <td>-0.243121</td>\n",
       "      <td>-0.296951</td>\n",
       "      <td>-0.275320</td>\n",
       "      <td>-0.270437</td>\n",
       "      <td>-0.046276</td>\n",
       "      <td>0.613225</td>\n",
       "      <td>0.091262</td>\n",
       "      <td>-0.003021</td>\n",
       "    </tr>\n",
       "    <tr>\n",
       "      <th>Total Volume</th>\n",
       "      <td>-0.008899</td>\n",
       "      <td>-0.331878</td>\n",
       "      <td>1.000000</td>\n",
       "      <td>0.876763</td>\n",
       "      <td>0.871994</td>\n",
       "      <td>0.649151</td>\n",
       "      <td>0.912462</td>\n",
       "      <td>0.905671</td>\n",
       "      <td>0.638480</td>\n",
       "      <td>0.423751</td>\n",
       "      <td>-0.415463</td>\n",
       "      <td>-0.002913</td>\n",
       "      <td>0.074646</td>\n",
       "    </tr>\n",
       "    <tr>\n",
       "      <th>4046</th>\n",
       "      <td>-0.038422</td>\n",
       "      <td>-0.333711</td>\n",
       "      <td>0.876763</td>\n",
       "      <td>1.000000</td>\n",
       "      <td>0.566885</td>\n",
       "      <td>0.493532</td>\n",
       "      <td>0.728928</td>\n",
       "      <td>0.707861</td>\n",
       "      <td>0.559232</td>\n",
       "      <td>0.340784</td>\n",
       "      <td>-0.341772</td>\n",
       "      <td>-0.033092</td>\n",
       "      <td>0.117498</td>\n",
       "    </tr>\n",
       "    <tr>\n",
       "      <th>4225</th>\n",
       "      <td>-0.045361</td>\n",
       "      <td>-0.244128</td>\n",
       "      <td>0.871994</td>\n",
       "      <td>0.566885</td>\n",
       "      <td>1.000000</td>\n",
       "      <td>0.621140</td>\n",
       "      <td>0.757855</td>\n",
       "      <td>0.778084</td>\n",
       "      <td>0.451034</td>\n",
       "      <td>0.308192</td>\n",
       "      <td>-0.383213</td>\n",
       "      <td>-0.038846</td>\n",
       "      <td>0.009568</td>\n",
       "    </tr>\n",
       "    <tr>\n",
       "      <th>4770</th>\n",
       "      <td>-0.088739</td>\n",
       "      <td>-0.243121</td>\n",
       "      <td>0.649151</td>\n",
       "      <td>0.493532</td>\n",
       "      <td>0.621140</td>\n",
       "      <td>1.000000</td>\n",
       "      <td>0.561413</td>\n",
       "      <td>0.574229</td>\n",
       "      <td>0.325692</td>\n",
       "      <td>0.427781</td>\n",
       "      <td>-0.322080</td>\n",
       "      <td>-0.079746</td>\n",
       "      <td>-0.097071</td>\n",
       "    </tr>\n",
       "    <tr>\n",
       "      <th>Total Bags</th>\n",
       "      <td>0.102543</td>\n",
       "      <td>-0.296951</td>\n",
       "      <td>0.912462</td>\n",
       "      <td>0.728928</td>\n",
       "      <td>0.757855</td>\n",
       "      <td>0.561413</td>\n",
       "      <td>1.000000</td>\n",
       "      <td>0.978286</td>\n",
       "      <td>0.743358</td>\n",
       "      <td>0.502200</td>\n",
       "      <td>-0.378106</td>\n",
       "      <td>0.105430</td>\n",
       "      <td>0.083365</td>\n",
       "    </tr>\n",
       "    <tr>\n",
       "      <th>Small Bags</th>\n",
       "      <td>0.085301</td>\n",
       "      <td>-0.275320</td>\n",
       "      <td>0.905671</td>\n",
       "      <td>0.707861</td>\n",
       "      <td>0.778084</td>\n",
       "      <td>0.574229</td>\n",
       "      <td>0.978286</td>\n",
       "      <td>1.000000</td>\n",
       "      <td>0.589114</td>\n",
       "      <td>0.521392</td>\n",
       "      <td>-0.367145</td>\n",
       "      <td>0.088906</td>\n",
       "      <td>0.063212</td>\n",
       "    </tr>\n",
       "    <tr>\n",
       "      <th>Large Bags</th>\n",
       "      <td>0.119906</td>\n",
       "      <td>-0.270437</td>\n",
       "      <td>0.638480</td>\n",
       "      <td>0.559232</td>\n",
       "      <td>0.451034</td>\n",
       "      <td>0.325692</td>\n",
       "      <td>0.743358</td>\n",
       "      <td>0.589114</td>\n",
       "      <td>1.000000</td>\n",
       "      <td>0.229046</td>\n",
       "      <td>-0.286856</td>\n",
       "      <td>0.119807</td>\n",
       "      <td>0.127049</td>\n",
       "    </tr>\n",
       "    <tr>\n",
       "      <th>XLarge Bags</th>\n",
       "      <td>0.073209</td>\n",
       "      <td>-0.046276</td>\n",
       "      <td>0.423751</td>\n",
       "      <td>0.340784</td>\n",
       "      <td>0.308192</td>\n",
       "      <td>0.427781</td>\n",
       "      <td>0.502200</td>\n",
       "      <td>0.521392</td>\n",
       "      <td>0.229046</td>\n",
       "      <td>1.000000</td>\n",
       "      <td>-0.084946</td>\n",
       "      <td>0.074208</td>\n",
       "      <td>-0.045969</td>\n",
       "    </tr>\n",
       "    <tr>\n",
       "      <th>type</th>\n",
       "      <td>0.000305</td>\n",
       "      <td>0.613225</td>\n",
       "      <td>-0.415463</td>\n",
       "      <td>-0.341772</td>\n",
       "      <td>-0.383213</td>\n",
       "      <td>-0.322080</td>\n",
       "      <td>-0.378106</td>\n",
       "      <td>-0.367145</td>\n",
       "      <td>-0.286856</td>\n",
       "      <td>-0.084946</td>\n",
       "      <td>1.000000</td>\n",
       "      <td>0.003318</td>\n",
       "      <td>0.018756</td>\n",
       "    </tr>\n",
       "    <tr>\n",
       "      <th>year</th>\n",
       "      <td>0.950179</td>\n",
       "      <td>0.091262</td>\n",
       "      <td>-0.002913</td>\n",
       "      <td>-0.033092</td>\n",
       "      <td>-0.038846</td>\n",
       "      <td>-0.079746</td>\n",
       "      <td>0.105430</td>\n",
       "      <td>0.088906</td>\n",
       "      <td>0.119807</td>\n",
       "      <td>0.074208</td>\n",
       "      <td>0.003318</td>\n",
       "      <td>1.000000</td>\n",
       "      <td>-0.004766</td>\n",
       "    </tr>\n",
       "    <tr>\n",
       "      <th>region</th>\n",
       "      <td>-0.004772</td>\n",
       "      <td>-0.003021</td>\n",
       "      <td>0.074646</td>\n",
       "      <td>0.117498</td>\n",
       "      <td>0.009568</td>\n",
       "      <td>-0.097071</td>\n",
       "      <td>0.083365</td>\n",
       "      <td>0.063212</td>\n",
       "      <td>0.127049</td>\n",
       "      <td>-0.045969</td>\n",
       "      <td>0.018756</td>\n",
       "      <td>-0.004766</td>\n",
       "      <td>1.000000</td>\n",
       "    </tr>\n",
       "  </tbody>\n",
       "</table>\n",
       "</div>"
      ],
      "text/plain": [
       "                  Date  AveragePrice  Total Volume      4046      4225  \\\n",
       "Date          1.000000      0.139445     -0.008899 -0.038422 -0.045361   \n",
       "AveragePrice  0.139445      1.000000     -0.331878 -0.333711 -0.244128   \n",
       "Total Volume -0.008899     -0.331878      1.000000  0.876763  0.871994   \n",
       "4046         -0.038422     -0.333711      0.876763  1.000000  0.566885   \n",
       "4225         -0.045361     -0.244128      0.871994  0.566885  1.000000   \n",
       "4770         -0.088739     -0.243121      0.649151  0.493532  0.621140   \n",
       "Total Bags    0.102543     -0.296951      0.912462  0.728928  0.757855   \n",
       "Small Bags    0.085301     -0.275320      0.905671  0.707861  0.778084   \n",
       "Large Bags    0.119906     -0.270437      0.638480  0.559232  0.451034   \n",
       "XLarge Bags   0.073209     -0.046276      0.423751  0.340784  0.308192   \n",
       "type          0.000305      0.613225     -0.415463 -0.341772 -0.383213   \n",
       "year          0.950179      0.091262     -0.002913 -0.033092 -0.038846   \n",
       "region       -0.004772     -0.003021      0.074646  0.117498  0.009568   \n",
       "\n",
       "                  4770  Total Bags  Small Bags  Large Bags  XLarge Bags  \\\n",
       "Date         -0.088739    0.102543    0.085301    0.119906     0.073209   \n",
       "AveragePrice -0.243121   -0.296951   -0.275320   -0.270437    -0.046276   \n",
       "Total Volume  0.649151    0.912462    0.905671    0.638480     0.423751   \n",
       "4046          0.493532    0.728928    0.707861    0.559232     0.340784   \n",
       "4225          0.621140    0.757855    0.778084    0.451034     0.308192   \n",
       "4770          1.000000    0.561413    0.574229    0.325692     0.427781   \n",
       "Total Bags    0.561413    1.000000    0.978286    0.743358     0.502200   \n",
       "Small Bags    0.574229    0.978286    1.000000    0.589114     0.521392   \n",
       "Large Bags    0.325692    0.743358    0.589114    1.000000     0.229046   \n",
       "XLarge Bags   0.427781    0.502200    0.521392    0.229046     1.000000   \n",
       "type         -0.322080   -0.378106   -0.367145   -0.286856    -0.084946   \n",
       "year         -0.079746    0.105430    0.088906    0.119807     0.074208   \n",
       "region       -0.097071    0.083365    0.063212    0.127049    -0.045969   \n",
       "\n",
       "                  type      year    region  \n",
       "Date          0.000305  0.950179 -0.004772  \n",
       "AveragePrice  0.613225  0.091262 -0.003021  \n",
       "Total Volume -0.415463 -0.002913  0.074646  \n",
       "4046         -0.341772 -0.033092  0.117498  \n",
       "4225         -0.383213 -0.038846  0.009568  \n",
       "4770         -0.322080 -0.079746 -0.097071  \n",
       "Total Bags   -0.378106  0.105430  0.083365  \n",
       "Small Bags   -0.367145  0.088906  0.063212  \n",
       "Large Bags   -0.286856  0.119807  0.127049  \n",
       "XLarge Bags  -0.084946  0.074208 -0.045969  \n",
       "type          1.000000  0.003318  0.018756  \n",
       "year          0.003318  1.000000 -0.004766  \n",
       "region        0.018756 -0.004766  1.000000  "
      ]
     },
     "execution_count": 58,
     "metadata": {},
     "output_type": "execute_result"
    }
   ],
   "source": [
    "df.corr()"
   ]
  },
  {
   "cell_type": "markdown",
   "id": "19b19179",
   "metadata": {},
   "source": [
    "correlation of input with target variables"
   ]
  },
  {
   "cell_type": "code",
   "execution_count": 59,
   "id": "22efd481",
   "metadata": {},
   "outputs": [
    {
     "data": {
      "text/plain": [
       "<AxesSubplot:>"
      ]
     },
     "execution_count": 59,
     "metadata": {},
     "output_type": "execute_result"
    },
    {
     "data": {
      "image/png": "[encoded data removed]",
      "text/plain": [
       "<Figure size 864x576 with 2 Axes>"
      ]
     },
     "metadata": {
      "needs_background": "light"
     },
     "output_type": "display_data"
    }
   ],
   "source": [
    "#Heatmap Representation\n",
    "\n",
    "plt.figure(figsize=(12,8))\n",
    "sns.heatmap(df.corr(),annot=True,linewidths=0.1,linecolor=\"Black\",fmt=\"0.2f\")"
   ]
  },
  {
   "cell_type": "markdown",
   "id": "344b7347",
   "metadata": {},
   "source": [
    "Key Observation:\n",
    "    \n",
    "    1. AveragePrice has positive correlation with type and negative correlation with TotalVolume and 4046.  # Regression\n",
    "    \n",
    "    2. type has negative correlation with TotalVolume and positive correlation with AveragePrice so dropping TotalVolume \n",
    "       # Regression\n",
    "\n",
    "    3. region has positive correlation with LargeBags and negative correlation with 4770.  #Classification\n",
    "    \n",
    "    4. LargeBags has positive correlation with Total Bags and negative correlation with type.  #Classification\n",
    "\n",
    "    3. Multicollinearity present."
   ]
  },
  {
   "cell_type": "code",
   "execution_count": 24,
   "id": "a851aecf",
   "metadata": {},
   "outputs": [],
   "source": [
    "#Dropping Column 1 : Total Volume from x2\n",
    "x2 = x2.drop(1,axis=1)"
   ]
  },
  {
   "cell_type": "code",
   "execution_count": 25,
   "id": "699b1749",
   "metadata": {},
   "outputs": [
    {
     "data": {
      "text/html": [
       "<div>\n",
       "<style scoped>\n",
       "    .dataframe tbody tr th:only-of-type {\n",
       "        vertical-align: middle;\n",
       "    }\n",
       "\n",
       "    .dataframe tbody tr th {\n",
       "        vertical-align: top;\n",
       "    }\n",
       "\n",
       "    .dataframe thead th {\n",
       "        text-align: right;\n",
       "    }\n",
       "</style>\n",
       "<table border=\"1\" class=\"dataframe\">\n",
       "  <thead>\n",
       "    <tr style=\"text-align: right;\">\n",
       "      <th></th>\n",
       "      <th>0</th>\n",
       "      <th>2</th>\n",
       "      <th>3</th>\n",
       "      <th>4</th>\n",
       "      <th>5</th>\n",
       "      <th>6</th>\n",
       "      <th>7</th>\n",
       "      <th>8</th>\n",
       "      <th>9</th>\n",
       "      <th>10</th>\n",
       "      <th>11</th>\n",
       "    </tr>\n",
       "  </thead>\n",
       "  <tbody>\n",
       "    <tr>\n",
       "      <th>0</th>\n",
       "      <td>-0.568035</td>\n",
       "      <td>-0.657838</td>\n",
       "      <td>0.350551</td>\n",
       "      <td>-0.223291</td>\n",
       "      <td>-0.537723</td>\n",
       "      <td>-0.347684</td>\n",
       "      <td>-0.781561</td>\n",
       "      <td>0.222055</td>\n",
       "      <td>-1.018577</td>\n",
       "      <td>-1.211221</td>\n",
       "      <td>-2.010825</td>\n",
       "    </tr>\n",
       "    <tr>\n",
       "      <th>1</th>\n",
       "      <td>-0.590301</td>\n",
       "      <td>-0.777548</td>\n",
       "      <td>0.268682</td>\n",
       "      <td>-0.175969</td>\n",
       "      <td>-0.498365</td>\n",
       "      <td>-0.311615</td>\n",
       "      <td>-0.771608</td>\n",
       "      <td>0.222055</td>\n",
       "      <td>-1.018577</td>\n",
       "      <td>-1.211221</td>\n",
       "      <td>-2.010825</td>\n",
       "    </tr>\n",
       "    <tr>\n",
       "      <th>2</th>\n",
       "      <td>-0.612697</td>\n",
       "      <td>-0.732164</td>\n",
       "      <td>0.648270</td>\n",
       "      <td>0.023093</td>\n",
       "      <td>-0.566571</td>\n",
       "      <td>-0.374695</td>\n",
       "      <td>-0.758934</td>\n",
       "      <td>0.222055</td>\n",
       "      <td>-1.018577</td>\n",
       "      <td>-1.211221</td>\n",
       "      <td>-2.010825</td>\n",
       "    </tr>\n",
       "    <tr>\n",
       "      <th>3</th>\n",
       "      <td>-0.635225</td>\n",
       "      <td>-0.633019</td>\n",
       "      <td>0.467849</td>\n",
       "      <td>-0.121933</td>\n",
       "      <td>-0.713207</td>\n",
       "      <td>-0.511136</td>\n",
       "      <td>-0.699544</td>\n",
       "      <td>0.222055</td>\n",
       "      <td>-1.018577</td>\n",
       "      <td>-1.211221</td>\n",
       "      <td>-2.010825</td>\n",
       "    </tr>\n",
       "    <tr>\n",
       "      <th>4</th>\n",
       "      <td>-0.657889</td>\n",
       "      <td>-0.684910</td>\n",
       "      <td>0.261299</td>\n",
       "      <td>-0.111264</td>\n",
       "      <td>-0.686461</td>\n",
       "      <td>-0.490693</td>\n",
       "      <td>-0.607461</td>\n",
       "      <td>0.222055</td>\n",
       "      <td>-1.018577</td>\n",
       "      <td>-1.211221</td>\n",
       "      <td>-2.010825</td>\n",
       "    </tr>\n",
       "  </tbody>\n",
       "</table>\n",
       "</div>"
      ],
      "text/plain": [
       "         0         2         3         4         5         6         7   \\\n",
       "0 -0.568035 -0.657838  0.350551 -0.223291 -0.537723 -0.347684 -0.781561   \n",
       "1 -0.590301 -0.777548  0.268682 -0.175969 -0.498365 -0.311615 -0.771608   \n",
       "2 -0.612697 -0.732164  0.648270  0.023093 -0.566571 -0.374695 -0.758934   \n",
       "3 -0.635225 -0.633019  0.467849 -0.121933 -0.713207 -0.511136 -0.699544   \n",
       "4 -0.657889 -0.684910  0.261299 -0.111264 -0.686461 -0.490693 -0.607461   \n",
       "\n",
       "         8         9         10        11  \n",
       "0  0.222055 -1.018577 -1.211221 -2.010825  \n",
       "1  0.222055 -1.018577 -1.211221 -2.010825  \n",
       "2  0.222055 -1.018577 -1.211221 -2.010825  \n",
       "3  0.222055 -1.018577 -1.211221 -2.010825  \n",
       "4  0.222055 -1.018577 -1.211221 -2.010825  "
      ]
     },
     "execution_count": 25,
     "metadata": {},
     "output_type": "execute_result"
    }
   ],
   "source": [
    "x2.head()"
   ]
  },
  {
   "cell_type": "markdown",
   "id": "02d341ad",
   "metadata": {},
   "source": [
    "Dropped Column 1 : Total Volume from x2"
   ]
  },
  {
   "cell_type": "markdown",
   "id": "701c4f17",
   "metadata": {},
   "source": [
    "## Multicollinearity removal using VIF"
   ]
  },
  {
   "cell_type": "code",
   "execution_count": 26,
   "id": "69ab6c61",
   "metadata": {},
   "outputs": [],
   "source": [
    "#Importing Libraries:\n",
    "from statsmodels.stats.outliers_influence import variance_inflation_factor"
   ]
  },
  {
   "cell_type": "code",
   "execution_count": 27,
   "id": "034b550c",
   "metadata": {},
   "outputs": [],
   "source": [
    "def vif_calc1():\n",
    "    vif1=pd.DataFrame()\n",
    "    vif1[\"VIF Factor\"]=[variance_inflation_factor(x1.values,i) for i in range(x1.shape[1])]\n",
    "    vif1[\"features\"]=x1.columns\n",
    "    print(vif1)\n",
    "    \n",
    "def vif_calc2():\n",
    "    vif2=pd.DataFrame()\n",
    "    vif2[\"VIF Factor\"]=[variance_inflation_factor(x2.values,i) for i in range(x2.shape[1])]\n",
    "    vif2[\"features\"]=x2.columns\n",
    "    print(vif2)"
   ]
  },
  {
   "cell_type": "markdown",
   "id": "9a41bd77",
   "metadata": {},
   "source": [
    "Using VIF method to remove multicollinearity from x1 and x2 "
   ]
  },
  {
   "cell_type": "code",
   "execution_count": 28,
   "id": "52745a6f",
   "metadata": {},
   "outputs": [
    {
     "name": "stdout",
     "output_type": "stream",
     "text": [
      "    VIF Factor  features\n",
      "0     8.587030         0\n",
      "1     2.239715         1\n",
      "2    54.712400         2\n",
      "3     6.869624         3\n",
      "4    12.383565         4\n",
      "5     3.892026         5\n",
      "6    36.179382         6\n",
      "7    17.404463         7\n",
      "8     3.469711         8\n",
      "9     1.076186         9\n",
      "10    3.941829        10\n",
      "11    8.145487        11\n"
     ]
    }
   ],
   "source": [
    "vif_calc1()"
   ]
  },
  {
   "cell_type": "code",
   "execution_count": 29,
   "id": "cba64608",
   "metadata": {},
   "outputs": [],
   "source": [
    "#Dropping Column 1 : Total Volume, Column 4 : 4225 from x1\n",
    "x1 = x1.drop(2,axis=1)\n",
    "\n",
    "x1 = x1.drop(4,axis=1)"
   ]
  },
  {
   "cell_type": "code",
   "execution_count": 30,
   "id": "90c912cb",
   "metadata": {},
   "outputs": [
    {
     "data": {
      "text/html": [
       "<div>\n",
       "<style scoped>\n",
       "    .dataframe tbody tr th:only-of-type {\n",
       "        vertical-align: middle;\n",
       "    }\n",
       "\n",
       "    .dataframe tbody tr th {\n",
       "        vertical-align: top;\n",
       "    }\n",
       "\n",
       "    .dataframe thead th {\n",
       "        text-align: right;\n",
       "    }\n",
       "</style>\n",
       "<table border=\"1\" class=\"dataframe\">\n",
       "  <thead>\n",
       "    <tr style=\"text-align: right;\">\n",
       "      <th></th>\n",
       "      <th>0</th>\n",
       "      <th>1</th>\n",
       "      <th>3</th>\n",
       "      <th>5</th>\n",
       "      <th>6</th>\n",
       "      <th>7</th>\n",
       "      <th>8</th>\n",
       "      <th>9</th>\n",
       "      <th>10</th>\n",
       "      <th>11</th>\n",
       "    </tr>\n",
       "  </thead>\n",
       "  <tbody>\n",
       "    <tr>\n",
       "      <th>0</th>\n",
       "      <td>-0.568035</td>\n",
       "      <td>-0.117427</td>\n",
       "      <td>-0.657838</td>\n",
       "      <td>-0.223291</td>\n",
       "      <td>-0.537723</td>\n",
       "      <td>-0.347684</td>\n",
       "      <td>-0.781561</td>\n",
       "      <td>0.222055</td>\n",
       "      <td>-1.018577</td>\n",
       "      <td>-1.211221</td>\n",
       "    </tr>\n",
       "    <tr>\n",
       "      <th>1</th>\n",
       "      <td>-0.590301</td>\n",
       "      <td>-0.063927</td>\n",
       "      <td>-0.777548</td>\n",
       "      <td>-0.175969</td>\n",
       "      <td>-0.498365</td>\n",
       "      <td>-0.311615</td>\n",
       "      <td>-0.771608</td>\n",
       "      <td>0.222055</td>\n",
       "      <td>-1.018577</td>\n",
       "      <td>-1.211221</td>\n",
       "    </tr>\n",
       "    <tr>\n",
       "      <th>2</th>\n",
       "      <td>-0.612697</td>\n",
       "      <td>-1.298757</td>\n",
       "      <td>-0.732164</td>\n",
       "      <td>0.023093</td>\n",
       "      <td>-0.566571</td>\n",
       "      <td>-0.374695</td>\n",
       "      <td>-0.758934</td>\n",
       "      <td>0.222055</td>\n",
       "      <td>-1.018577</td>\n",
       "      <td>-1.211221</td>\n",
       "    </tr>\n",
       "    <tr>\n",
       "      <th>3</th>\n",
       "      <td>-0.635225</td>\n",
       "      <td>-0.828764</td>\n",
       "      <td>-0.633019</td>\n",
       "      <td>-0.121933</td>\n",
       "      <td>-0.713207</td>\n",
       "      <td>-0.511136</td>\n",
       "      <td>-0.699544</td>\n",
       "      <td>0.222055</td>\n",
       "      <td>-1.018577</td>\n",
       "      <td>-1.211221</td>\n",
       "    </tr>\n",
       "    <tr>\n",
       "      <th>4</th>\n",
       "      <td>-0.657889</td>\n",
       "      <td>-0.253255</td>\n",
       "      <td>-0.684910</td>\n",
       "      <td>-0.111264</td>\n",
       "      <td>-0.686461</td>\n",
       "      <td>-0.490693</td>\n",
       "      <td>-0.607461</td>\n",
       "      <td>0.222055</td>\n",
       "      <td>-1.018577</td>\n",
       "      <td>-1.211221</td>\n",
       "    </tr>\n",
       "  </tbody>\n",
       "</table>\n",
       "</div>"
      ],
      "text/plain": [
       "         0         1         3         5         6         7         8   \\\n",
       "0 -0.568035 -0.117427 -0.657838 -0.223291 -0.537723 -0.347684 -0.781561   \n",
       "1 -0.590301 -0.063927 -0.777548 -0.175969 -0.498365 -0.311615 -0.771608   \n",
       "2 -0.612697 -1.298757 -0.732164  0.023093 -0.566571 -0.374695 -0.758934   \n",
       "3 -0.635225 -0.828764 -0.633019 -0.121933 -0.713207 -0.511136 -0.699544   \n",
       "4 -0.657889 -0.253255 -0.684910 -0.111264 -0.686461 -0.490693 -0.607461   \n",
       "\n",
       "         9         10        11  \n",
       "0  0.222055 -1.018577 -1.211221  \n",
       "1  0.222055 -1.018577 -1.211221  \n",
       "2  0.222055 -1.018577 -1.211221  \n",
       "3  0.222055 -1.018577 -1.211221  \n",
       "4  0.222055 -1.018577 -1.211221  "
      ]
     },
     "execution_count": 30,
     "metadata": {},
     "output_type": "execute_result"
    }
   ],
   "source": [
    "x1.head()"
   ]
  },
  {
   "cell_type": "markdown",
   "id": "fd3cd82d",
   "metadata": {},
   "source": [
    "Dropped Column 1 : Total Volume, Column 4 : 4225 from x1"
   ]
  },
  {
   "cell_type": "code",
   "execution_count": 31,
   "id": "f9f2924a",
   "metadata": {},
   "outputs": [
    {
     "name": "stdout",
     "output_type": "stream",
     "text": [
      "    VIF Factor  features\n",
      "0     8.121252         0\n",
      "1     3.752668         2\n",
      "2     4.339265         3\n",
      "3     3.866567         4\n",
      "4    24.621145         5\n",
      "5    16.654079         6\n",
      "6     3.410423         7\n",
      "7     1.078214         8\n",
      "8     3.383259         9\n",
      "9     8.041715        10\n",
      "10    1.083063        11\n"
     ]
    }
   ],
   "source": [
    "vif_calc2()"
   ]
  },
  {
   "cell_type": "code",
   "execution_count": 32,
   "id": "aa6d0670",
   "metadata": {},
   "outputs": [],
   "source": [
    "#Dropping Column 5 : 4770 from x2\n",
    "#x2 = x2.drop(5,axis=1)\n",
    "#Dropping Column 6 : Total Bags from x2\n",
    "x2 = x2.drop(6,axis=1)"
   ]
  },
  {
   "cell_type": "code",
   "execution_count": 33,
   "id": "d4484acd",
   "metadata": {},
   "outputs": [
    {
     "data": {
      "text/html": [
       "<div>\n",
       "<style scoped>\n",
       "    .dataframe tbody tr th:only-of-type {\n",
       "        vertical-align: middle;\n",
       "    }\n",
       "\n",
       "    .dataframe tbody tr th {\n",
       "        vertical-align: top;\n",
       "    }\n",
       "\n",
       "    .dataframe thead th {\n",
       "        text-align: right;\n",
       "    }\n",
       "</style>\n",
       "<table border=\"1\" class=\"dataframe\">\n",
       "  <thead>\n",
       "    <tr style=\"text-align: right;\">\n",
       "      <th></th>\n",
       "      <th>0</th>\n",
       "      <th>2</th>\n",
       "      <th>3</th>\n",
       "      <th>4</th>\n",
       "      <th>5</th>\n",
       "      <th>7</th>\n",
       "      <th>8</th>\n",
       "      <th>9</th>\n",
       "      <th>10</th>\n",
       "      <th>11</th>\n",
       "    </tr>\n",
       "  </thead>\n",
       "  <tbody>\n",
       "    <tr>\n",
       "      <th>0</th>\n",
       "      <td>-0.568035</td>\n",
       "      <td>-0.657838</td>\n",
       "      <td>0.350551</td>\n",
       "      <td>-0.223291</td>\n",
       "      <td>-0.537723</td>\n",
       "      <td>-0.781561</td>\n",
       "      <td>0.222055</td>\n",
       "      <td>-1.018577</td>\n",
       "      <td>-1.211221</td>\n",
       "      <td>-2.010825</td>\n",
       "    </tr>\n",
       "    <tr>\n",
       "      <th>1</th>\n",
       "      <td>-0.590301</td>\n",
       "      <td>-0.777548</td>\n",
       "      <td>0.268682</td>\n",
       "      <td>-0.175969</td>\n",
       "      <td>-0.498365</td>\n",
       "      <td>-0.771608</td>\n",
       "      <td>0.222055</td>\n",
       "      <td>-1.018577</td>\n",
       "      <td>-1.211221</td>\n",
       "      <td>-2.010825</td>\n",
       "    </tr>\n",
       "    <tr>\n",
       "      <th>2</th>\n",
       "      <td>-0.612697</td>\n",
       "      <td>-0.732164</td>\n",
       "      <td>0.648270</td>\n",
       "      <td>0.023093</td>\n",
       "      <td>-0.566571</td>\n",
       "      <td>-0.758934</td>\n",
       "      <td>0.222055</td>\n",
       "      <td>-1.018577</td>\n",
       "      <td>-1.211221</td>\n",
       "      <td>-2.010825</td>\n",
       "    </tr>\n",
       "    <tr>\n",
       "      <th>3</th>\n",
       "      <td>-0.635225</td>\n",
       "      <td>-0.633019</td>\n",
       "      <td>0.467849</td>\n",
       "      <td>-0.121933</td>\n",
       "      <td>-0.713207</td>\n",
       "      <td>-0.699544</td>\n",
       "      <td>0.222055</td>\n",
       "      <td>-1.018577</td>\n",
       "      <td>-1.211221</td>\n",
       "      <td>-2.010825</td>\n",
       "    </tr>\n",
       "    <tr>\n",
       "      <th>4</th>\n",
       "      <td>-0.657889</td>\n",
       "      <td>-0.684910</td>\n",
       "      <td>0.261299</td>\n",
       "      <td>-0.111264</td>\n",
       "      <td>-0.686461</td>\n",
       "      <td>-0.607461</td>\n",
       "      <td>0.222055</td>\n",
       "      <td>-1.018577</td>\n",
       "      <td>-1.211221</td>\n",
       "      <td>-2.010825</td>\n",
       "    </tr>\n",
       "  </tbody>\n",
       "</table>\n",
       "</div>"
      ],
      "text/plain": [
       "         0         2         3         4         5         7         8   \\\n",
       "0 -0.568035 -0.657838  0.350551 -0.223291 -0.537723 -0.781561  0.222055   \n",
       "1 -0.590301 -0.777548  0.268682 -0.175969 -0.498365 -0.771608  0.222055   \n",
       "2 -0.612697 -0.732164  0.648270  0.023093 -0.566571 -0.758934  0.222055   \n",
       "3 -0.635225 -0.633019  0.467849 -0.121933 -0.713207 -0.699544  0.222055   \n",
       "4 -0.657889 -0.684910  0.261299 -0.111264 -0.686461 -0.607461  0.222055   \n",
       "\n",
       "         9         10        11  \n",
       "0 -1.018577 -1.211221 -2.010825  \n",
       "1 -1.018577 -1.211221 -2.010825  \n",
       "2 -1.018577 -1.211221 -2.010825  \n",
       "3 -1.018577 -1.211221 -2.010825  \n",
       "4 -1.018577 -1.211221 -2.010825  "
      ]
     },
     "execution_count": 33,
     "metadata": {},
     "output_type": "execute_result"
    }
   ],
   "source": [
    "x2.head()"
   ]
  },
  {
   "cell_type": "markdown",
   "id": "f32264f2",
   "metadata": {},
   "source": [
    "Dropped column 6 from x2 "
   ]
  },
  {
   "cell_type": "markdown",
   "id": "631424b2",
   "metadata": {},
   "source": [
    "# Scaling Data"
   ]
  },
  {
   "cell_type": "code",
   "execution_count": 34,
   "id": "82cc7de0",
   "metadata": {},
   "outputs": [
    {
     "name": "stdout",
     "output_type": "stream",
     "text": [
      "x1 [[-0.56803457 -0.11742749 -0.6578376  ...  0.2220545  -1.01857673\n",
      "  -1.21101617]\n",
      " [-0.59030141 -0.06392745 -0.77754834 ...  0.2220545  -1.01857673\n",
      "  -1.21101617]\n",
      " [-0.61269718 -1.29875689 -0.73216364 ...  0.2220545  -1.01857673\n",
      "  -1.21101617]\n",
      " ...\n",
      " [ 1.41203778  1.18466361 -0.61839951 ...  0.2220545   0.98176207\n",
      "   1.9778023 ]\n",
      " [ 1.39607532  1.31360914 -0.54747363 ...  0.2220545   0.98176207\n",
      "   1.9778023 ]\n",
      " [ 1.38008329  0.61603213 -0.36021661 ...  0.2220545   0.98176207\n",
      "   1.9778023 ]]\n",
      "x2 [[-0.56803457 -0.6578376   0.35055091 ... -1.01857673 -1.21101617\n",
      "  -2.01082457]\n",
      " [-0.59030141 -0.77754834  0.2686816  ... -1.01857673 -1.21101617\n",
      "  -2.01082457]\n",
      " [-0.61269718 -0.73216364  0.64827031 ... -1.01857673 -1.21101617\n",
      "  -2.01082457]\n",
      " ...\n",
      " [ 1.41203778 -0.61839951 -0.77923714 ...  0.98176207  1.9778023\n",
      "   1.57846225]\n",
      " [ 1.39607532 -0.54747363 -0.71673722 ...  0.98176207  1.9778023\n",
      "   1.57846225]\n",
      " [ 1.38008329 -0.36021661 -0.79198964 ...  0.98176207  1.9778023\n",
      "   1.57846225]]\n"
     ]
    }
   ],
   "source": [
    "from sklearn.preprocessing import StandardScaler\n",
    "sc = StandardScaler()\n",
    "x1=sc.fit_transform(x1)\n",
    "x2=sc.fit_transform(x2)\n",
    "print('x1',x1)\n",
    "print('x2',x2)"
   ]
  },
  {
   "cell_type": "markdown",
   "id": "67bfd0b1",
   "metadata": {},
   "source": [
    "Independent values are scaled"
   ]
  },
  {
   "cell_type": "markdown",
   "id": "8d500d53",
   "metadata": {},
   "source": [
    "# Model Selection:"
   ]
  },
  {
   "cell_type": "markdown",
   "id": "8e304fbb",
   "metadata": {},
   "source": [
    "# I. Classification:"
   ]
  },
  {
   "cell_type": "markdown",
   "id": "17a326de",
   "metadata": {},
   "source": [
    "## Logistic Regression:"
   ]
  },
  {
   "cell_type": "code",
   "execution_count": 71,
   "id": "42f1e2b2",
   "metadata": {},
   "outputs": [],
   "source": [
    "from sklearn.model_selection import train_test_split\n",
    "from sklearn.linear_model import LogisticRegression\n",
    "lr=LogisticRegression()\n",
    "from sklearn.metrics import r2_score\n",
    "from sklearn.metrics import accuracy_score\n",
    "from sklearn.metrics import classification_report"
   ]
  },
  {
   "cell_type": "code",
   "execution_count": 72,
   "id": "27991431",
   "metadata": {},
   "outputs": [
    {
     "name": "stdout",
     "output_type": "stream",
     "text": [
      "At random state 6 The model performs very well\n",
      "At random state:- 6\n",
      "Training r2_score is:- 43.07354710837403\n",
      "Testing r2_score is:- 43.0634201585504\n",
      "At random state 33 The model performs very well\n",
      "At random state:- 33\n",
      "Training r2_score is:- 42.96028880866426\n",
      "Testing r2_score is:- 43.03510758776897\n",
      "At random state 62 The model performs very well\n",
      "At random state:- 62\n",
      "Training r2_score is:- 43.39208607630778\n",
      "Testing r2_score is:- 43.37485843714609\n",
      "At random state 94 The model performs very well\n",
      "At random state:- 94\n",
      "Training r2_score is:- 43.32837828272103\n",
      "Testing r2_score is:- 43.28992072480181\n",
      "At random state 190 The model performs very well\n",
      "At random state:- 190\n",
      "Training r2_score is:- 43.144333545692646\n",
      "Testing r2_score is:- 43.0634201585504\n",
      "At random state 228 The model performs very well\n",
      "At random state:- 228\n",
      "Training r2_score is:- 43.356692857648476\n",
      "Testing r2_score is:- 43.40317100792752\n",
      "At random state 256 The model performs very well\n",
      "At random state:- 256\n",
      "Training r2_score is:- 43.13017625822893\n",
      "Testing r2_score is:- 43.120045300113254\n",
      "At random state 270 The model performs very well\n",
      "At random state:- 270\n",
      "Training r2_score is:- 43.78849012529199\n",
      "Testing r2_score is:- 43.79954699886749\n",
      "At random state 397 The model performs very well\n",
      "At random state:- 397\n",
      "Training r2_score is:- 43.54073759467686\n",
      "Testing r2_score is:- 43.4881087202718\n",
      "At random state 421 The model performs very well\n",
      "At random state:- 421\n",
      "Training r2_score is:- 42.9178169462731\n",
      "Testing r2_score is:- 42.89354473386183\n",
      "At random state 422 The model performs very well\n",
      "At random state:- 422\n",
      "Training r2_score is:- 43.632759963191056\n",
      "Testing r2_score is:- 43.57304643261608\n",
      "At random state 456 The model performs very well\n",
      "At random state:- 456\n",
      "Training r2_score is:- 43.144333545692646\n",
      "Testing r2_score is:- 43.091732729331824\n",
      "At random state 468 The model performs very well\n",
      "At random state:- 468\n",
      "Training r2_score is:- 43.48410844482197\n",
      "Testing r2_score is:- 43.45979614949037\n",
      "At random state 485 The model performs very well\n",
      "At random state:- 485\n",
      "Training r2_score is:- 42.974446096127984\n",
      "Testing r2_score is:- 43.03510758776897\n",
      "At random state 505 The model performs very well\n",
      "At random state:- 505\n",
      "Training r2_score is:- 43.675231825582216\n",
      "Testing r2_score is:- 43.65798414496036\n",
      "At random state 630 The model performs very well\n",
      "At random state:- 630\n",
      "Training r2_score is:- 43.05938982091032\n",
      "Testing r2_score is:- 43.091732729331824\n",
      "At random state 653 The model performs very well\n",
      "At random state:- 653\n",
      "Training r2_score is:- 43.215119983011256\n",
      "Testing r2_score is:- 43.233295583238956\n",
      "At random state 659 The model performs very well\n",
      "At random state:- 659\n",
      "Training r2_score is:- 43.03107524598287\n",
      "Testing r2_score is:- 42.950169875424685\n",
      "At random state 706 The model performs very well\n",
      "At random state:- 706\n",
      "Training r2_score is:- 43.25759184540242\n",
      "Testing r2_score is:- 43.26160815402039\n",
      "At random state 786 The model performs very well\n",
      "At random state:- 786\n",
      "Training r2_score is:- 43.51242301974941\n",
      "Testing r2_score is:- 43.4881087202718\n",
      "At random state 828 The model performs very well\n",
      "At random state:- 828\n",
      "Training r2_score is:- 43.31422099525731\n",
      "Testing r2_score is:- 43.346545866364664\n",
      "At random state 855 The model performs very well\n",
      "At random state:- 855\n",
      "Training r2_score is:- 43.45579386989453\n",
      "Testing r2_score is:- 43.4881087202718\n",
      "At random state 934 The model performs very well\n",
      "At random state:- 934\n",
      "Training r2_score is:- 43.30714235152545\n",
      "Testing r2_score is:- 43.28992072480181\n",
      "At random state 948 The model performs very well\n",
      "At random state:- 948\n",
      "Training r2_score is:- 43.285906420329866\n",
      "Testing r2_score is:- 43.26160815402039\n"
     ]
    }
   ],
   "source": [
    "l=[]\n",
    "for i in range(0,1000):\n",
    "    train_x,test_x,train_y,test_y=train_test_split(x1,y1,test_size=0.20,random_state=i)\n",
    "    lr.fit(train_x,train_y)\n",
    "    pred_train=lr.predict(train_x)\n",
    "    pred_test=lr.predict(test_x)\n",
    "     \n",
    "    if round(accuracy_score(train_y,pred_train)*100,1)==round(accuracy_score(test_y,pred_test)*100,1):\n",
    "        print(\"At random state\",i,\"The model performs very well\")\n",
    "        print(\"At random state:-\",i)\n",
    "        print(\"Training r2_score is:-\",accuracy_score(train_y,pred_train)*100)\n",
    "        print(\"Testing r2_score is:-\",accuracy_score(test_y,pred_test)*100)\n",
    "        l.append(i)"
   ]
  },
  {
   "cell_type": "code",
   "execution_count": 76,
   "id": "07781cd4",
   "metadata": {},
   "outputs": [],
   "source": [
    "train_x,test_x,train_y,test_y=train_test_split(x1,y1,test_size=0.20,random_state=855)"
   ]
  },
  {
   "cell_type": "code",
   "execution_count": 77,
   "id": "df568335",
   "metadata": {},
   "outputs": [
    {
     "name": "stdout",
     "output_type": "stream",
     "text": [
      "              precision    recall  f1-score   support\n",
      "\n",
      "           0       0.01      0.01      0.01        71\n",
      "           1       0.01      0.02      0.01        62\n",
      "           2       0.04      0.04      0.04        72\n",
      "           3       0.00      0.00      0.00        67\n",
      "           4       0.03      0.03      0.03        70\n",
      "           5       0.00      0.00      0.00        72\n",
      "           6       0.03      0.03      0.03        60\n",
      "           7       0.01      0.02      0.01        62\n",
      "           8       0.02      0.02      0.02        60\n",
      "           9       0.02      0.03      0.02        71\n",
      "          10       0.00      0.00      0.00        71\n",
      "          11       0.01      0.01      0.01        68\n",
      "          12       0.03      0.03      0.03        78\n",
      "          13       0.03      0.02      0.02        63\n",
      "          14       0.03      0.01      0.02        67\n",
      "          15       0.02      0.02      0.02        53\n",
      "          16       0.00      0.00      0.00        58\n",
      "          17       0.03      0.04      0.04        72\n",
      "          18       0.02      0.02      0.02        57\n",
      "          19       0.02      0.03      0.02        76\n",
      "          20       0.01      0.02      0.02        61\n",
      "          21       0.00      0.00      0.00        64\n",
      "          22       0.06      0.05      0.05        78\n",
      "          23       0.00      0.00      0.00        70\n",
      "          24       0.00      0.00      0.00        73\n",
      "          25       0.01      0.01      0.01        71\n",
      "          26       0.04      0.05      0.04        55\n",
      "          27       0.03      0.04      0.03        67\n",
      "          28       0.00      0.00      0.00        61\n",
      "          29       0.00      0.00      0.00        62\n",
      "          30       0.01      0.02      0.02        56\n",
      "          31       0.01      0.02      0.01        65\n",
      "          32       0.05      0.04      0.04        76\n",
      "          33       0.00      0.00      0.00        65\n",
      "          34       0.00      0.00      0.00        53\n",
      "          35       0.04      0.03      0.04        58\n",
      "          36       0.00      0.00      0.00        70\n",
      "          37       0.00      0.00      0.00        62\n",
      "          38       0.00      0.00      0.00        85\n",
      "          39       0.02      0.01      0.02        70\n",
      "          40       0.02      0.03      0.02        61\n",
      "          41       0.00      0.00      0.00        72\n",
      "          42       0.02      0.02      0.02        60\n",
      "          43       0.00      0.00      0.00        67\n",
      "          44       0.01      0.02      0.01        58\n",
      "          45       0.01      0.02      0.02        59\n",
      "          46       0.02      0.02      0.02        60\n",
      "          47       0.02      0.03      0.03        66\n",
      "          48       0.00      0.00      0.00        65\n",
      "          49       0.01      0.01      0.01        74\n",
      "          50       0.00      0.00      0.00        68\n",
      "          51       0.00      0.00      0.00        37\n",
      "          52       0.01      0.02      0.02        54\n",
      "          53       0.04      0.03      0.03        79\n",
      "\n",
      "    accuracy                           0.02      3532\n",
      "   macro avg       0.01      0.02      0.02      3532\n",
      "weighted avg       0.02      0.02      0.02      3532\n",
      "\n"
     ]
    }
   ],
   "source": [
    "print(classification_report(test_y,pred_test))"
   ]
  },
  {
   "cell_type": "markdown",
   "id": "0dda2a52",
   "metadata": {},
   "source": [
    "Classification Report shows precision, recall, f1-score and support"
   ]
  },
  {
   "cell_type": "markdown",
   "id": "49302b33",
   "metadata": {},
   "source": [
    "## Cross validation score for Logistic Regression"
   ]
  },
  {
   "cell_type": "code",
   "execution_count": 78,
   "id": "340cabfd",
   "metadata": {},
   "outputs": [
    {
     "name": "stdout",
     "output_type": "stream",
     "text": [
      "At cv:- 2\n",
      "Cross validation score is:- 6.178216617814734\n",
      "Accuracy score is:- 44.620611551528874\n",
      "At cv:- 3\n",
      "Cross validation score is:- 24.826094373778616\n",
      "Accuracy score is:- 44.620611551528874\n",
      "At cv:- 4\n",
      "Cross validation score is:- 27.821611304707915\n",
      "Accuracy score is:- 44.620611551528874\n",
      "At cv:- 5\n",
      "Cross validation score is:- 32.53851584076709\n",
      "Accuracy score is:- 44.620611551528874\n",
      "At cv:- 6\n",
      "Cross validation score is:- 31.864860181614933\n",
      "Accuracy score is:- 44.620611551528874\n",
      "At cv:- 7\n",
      "Cross validation score is:- 34.367761311017375\n",
      "Accuracy score is:- 44.620611551528874\n",
      "At cv:- 8\n",
      "Cross validation score is:- 34.88290253590355\n",
      "Accuracy score is:- 44.620611551528874\n",
      "At cv:- 9\n",
      "Cross validation score is:- 35.28501885631724\n",
      "Accuracy score is:- 44.620611551528874\n"
     ]
    }
   ],
   "source": [
    "pred_lr=lr.predict(test_x)\n",
    "from sklearn.model_selection import cross_val_score\n",
    "lss= accuracy_score(test_y,pred_lr)\n",
    "\n",
    "for j in range(2,10):\n",
    "    lsscore= cross_val_score(lr,x1,y1,cv=j)\n",
    "    lsc=lsscore.mean()\n",
    "    print(\"At cv:-\",j)\n",
    "    print(\"Cross validation score is:-\", lsc*100)\n",
    "    print(\"Accuracy score is:-\", lss*100)"
   ]
  },
  {
   "cell_type": "markdown",
   "id": "1b35eb04",
   "metadata": {},
   "source": [
    "Cross validation score is:- 32% Accuracy score is:- 44.6%"
   ]
  },
  {
   "cell_type": "markdown",
   "id": "0b617617",
   "metadata": {},
   "source": [
    "AUC ROC CURVE:"
   ]
  },
  {
   "cell_type": "code",
   "execution_count": 79,
   "id": "ba3b545e",
   "metadata": {},
   "outputs": [
    {
     "ename": "ValueError",
     "evalue": "multiclass format is not supported",
     "output_type": "error",
     "traceback": [
      "\u001b[1;31m---------------------------------------------------------------------------\u001b[0m",
      "\u001b[1;31mValueError\u001b[0m                                Traceback (most recent call last)",
      "\u001b[1;32m~\\AppData\\Local\\Temp/ipykernel_16764/2030134656.py\u001b[0m in \u001b[0;36m<module>\u001b[1;34m\u001b[0m\n\u001b[0;32m      1\u001b[0m \u001b[1;32mfrom\u001b[0m \u001b[0msklearn\u001b[0m\u001b[1;33m.\u001b[0m\u001b[0mmetrics\u001b[0m \u001b[1;32mimport\u001b[0m \u001b[0mroc_curve\u001b[0m\u001b[1;33m,\u001b[0m \u001b[0mauc\u001b[0m\u001b[1;33m\u001b[0m\u001b[1;33m\u001b[0m\u001b[0m\n\u001b[1;32m----> 2\u001b[1;33m \u001b[0mfpr\u001b[0m\u001b[1;33m,\u001b[0m \u001b[0mtpr\u001b[0m\u001b[1;33m,\u001b[0m \u001b[0mthresholds\u001b[0m\u001b[1;33m=\u001b[0m \u001b[0mroc_curve\u001b[0m\u001b[1;33m(\u001b[0m\u001b[0mpred_test\u001b[0m\u001b[1;33m,\u001b[0m\u001b[0mtest_y\u001b[0m\u001b[1;33m)\u001b[0m\u001b[1;33m\u001b[0m\u001b[1;33m\u001b[0m\u001b[0m\n\u001b[0m\u001b[0;32m      3\u001b[0m \u001b[0mroc_auc\u001b[0m \u001b[1;33m=\u001b[0m \u001b[0mauc\u001b[0m\u001b[1;33m(\u001b[0m\u001b[0mfpr\u001b[0m\u001b[1;33m,\u001b[0m\u001b[0mtpr\u001b[0m\u001b[1;33m)\u001b[0m\u001b[1;33m\u001b[0m\u001b[1;33m\u001b[0m\u001b[0m\n\u001b[0;32m      4\u001b[0m \u001b[1;33m\u001b[0m\u001b[0m\n\u001b[0;32m      5\u001b[0m \u001b[0mplt\u001b[0m\u001b[1;33m.\u001b[0m\u001b[0mfigure\u001b[0m\u001b[1;33m(\u001b[0m\u001b[1;33m)\u001b[0m\u001b[1;33m\u001b[0m\u001b[1;33m\u001b[0m\u001b[0m\n",
      "\u001b[1;32m~\\anaconda3\\lib\\site-packages\\sklearn\\utils\\validation.py\u001b[0m in \u001b[0;36minner_f\u001b[1;34m(*args, **kwargs)\u001b[0m\n\u001b[0;32m     61\u001b[0m             \u001b[0mextra_args\u001b[0m \u001b[1;33m=\u001b[0m \u001b[0mlen\u001b[0m\u001b[1;33m(\u001b[0m\u001b[0margs\u001b[0m\u001b[1;33m)\u001b[0m \u001b[1;33m-\u001b[0m \u001b[0mlen\u001b[0m\u001b[1;33m(\u001b[0m\u001b[0mall_args\u001b[0m\u001b[1;33m)\u001b[0m\u001b[1;33m\u001b[0m\u001b[1;33m\u001b[0m\u001b[0m\n\u001b[0;32m     62\u001b[0m             \u001b[1;32mif\u001b[0m \u001b[0mextra_args\u001b[0m \u001b[1;33m<=\u001b[0m \u001b[1;36m0\u001b[0m\u001b[1;33m:\u001b[0m\u001b[1;33m\u001b[0m\u001b[1;33m\u001b[0m\u001b[0m\n\u001b[1;32m---> 63\u001b[1;33m                 \u001b[1;32mreturn\u001b[0m \u001b[0mf\u001b[0m\u001b[1;33m(\u001b[0m\u001b[1;33m*\u001b[0m\u001b[0margs\u001b[0m\u001b[1;33m,\u001b[0m \u001b[1;33m**\u001b[0m\u001b[0mkwargs\u001b[0m\u001b[1;33m)\u001b[0m\u001b[1;33m\u001b[0m\u001b[1;33m\u001b[0m\u001b[0m\n\u001b[0m\u001b[0;32m     64\u001b[0m \u001b[1;33m\u001b[0m\u001b[0m\n\u001b[0;32m     65\u001b[0m             \u001b[1;31m# extra_args > 0\u001b[0m\u001b[1;33m\u001b[0m\u001b[1;33m\u001b[0m\u001b[0m\n",
      "\u001b[1;32m~\\anaconda3\\lib\\site-packages\\sklearn\\metrics\\_ranking.py\u001b[0m in \u001b[0;36mroc_curve\u001b[1;34m(y_true, y_score, pos_label, sample_weight, drop_intermediate)\u001b[0m\n\u001b[0;32m    911\u001b[0m \u001b[1;33m\u001b[0m\u001b[0m\n\u001b[0;32m    912\u001b[0m     \"\"\"\n\u001b[1;32m--> 913\u001b[1;33m     fps, tps, thresholds = _binary_clf_curve(\n\u001b[0m\u001b[0;32m    914\u001b[0m         y_true, y_score, pos_label=pos_label, sample_weight=sample_weight)\n\u001b[0;32m    915\u001b[0m \u001b[1;33m\u001b[0m\u001b[0m\n",
      "\u001b[1;32m~\\anaconda3\\lib\\site-packages\\sklearn\\metrics\\_ranking.py\u001b[0m in \u001b[0;36m_binary_clf_curve\u001b[1;34m(y_true, y_score, pos_label, sample_weight)\u001b[0m\n\u001b[0;32m    689\u001b[0m     if not (y_type == \"binary\" or\n\u001b[0;32m    690\u001b[0m             (y_type == \"multiclass\" and pos_label is not None)):\n\u001b[1;32m--> 691\u001b[1;33m         \u001b[1;32mraise\u001b[0m \u001b[0mValueError\u001b[0m\u001b[1;33m(\u001b[0m\u001b[1;34m\"{0} format is not supported\"\u001b[0m\u001b[1;33m.\u001b[0m\u001b[0mformat\u001b[0m\u001b[1;33m(\u001b[0m\u001b[0my_type\u001b[0m\u001b[1;33m)\u001b[0m\u001b[1;33m)\u001b[0m\u001b[1;33m\u001b[0m\u001b[1;33m\u001b[0m\u001b[0m\n\u001b[0m\u001b[0;32m    692\u001b[0m \u001b[1;33m\u001b[0m\u001b[0m\n\u001b[0;32m    693\u001b[0m     \u001b[0mcheck_consistent_length\u001b[0m\u001b[1;33m(\u001b[0m\u001b[0my_true\u001b[0m\u001b[1;33m,\u001b[0m \u001b[0my_score\u001b[0m\u001b[1;33m,\u001b[0m \u001b[0msample_weight\u001b[0m\u001b[1;33m)\u001b[0m\u001b[1;33m\u001b[0m\u001b[1;33m\u001b[0m\u001b[0m\n",
      "\u001b[1;31mValueError\u001b[0m: multiclass format is not supported"
     ]
    }
   ],
   "source": [
    "from sklearn.metrics import roc_curve, auc\n",
    "fpr, tpr, thresholds= roc_curve(pred_test,test_y)\n",
    "roc_auc = auc(fpr,tpr)\n",
    "\n",
    "plt.figure()\n",
    "plt.plot(fpr, tpr, color='darkorange',lw=10, label='ROC curve (area= %0.2f)' % roc_auc)\n",
    "plt.plot([0,1],[0,1], color='navy', lw=10,linestyle='--')\n",
    "plt.xlim([0.0,1.0])\n",
    "plt.ylim([0.0,1.05])\n",
    "plt.xlabel('False Positive Rate')\n",
    "plt.ylabel('True Positive Rate')\n",
    "plt.title('Receiver operating characteristic')\n",
    "plt.legend(loc='lower right')\n",
    "plt.show()"
   ]
  },
  {
   "cell_type": "code",
   "execution_count": 80,
   "id": "bcf028a3",
   "metadata": {},
   "outputs": [
    {
     "name": "stdout",
     "output_type": "stream",
     "text": [
      "GridSearchCV(estimator=Ridge(),\n",
      "             param_grid={'alpha': [1, 0.1, 0.01, 0.001, 0.0001, 0]})\n",
      "0.07459810345704136\n",
      "1\n",
      "{'alpha': 1}\n"
     ]
    }
   ],
   "source": [
    "# GridsearchCV\n",
    "from sklearn.model_selection import GridSearchCV\n",
    "from sklearn.model_selection import cross_val_score\n",
    "from sklearn.linear_model import Ridge\n",
    "import warnings\n",
    "warnings.filterwarnings('ignore')\n",
    "alphav= {'alpha':[1,0.1,0.01,0.001,0.0001,0]}\n",
    "model=Ridge()\n",
    "grid= GridSearchCV(estimator=model,param_grid=alphav)\n",
    "grid.fit(train_x,train_y)\n",
    "print(grid)\n",
    "print(grid.best_score_)\n",
    "print(grid.best_estimator_.alpha)\n",
    "print(grid.best_params_)"
   ]
  },
  {
   "cell_type": "code",
   "execution_count": 81,
   "id": "da60b876",
   "metadata": {},
   "outputs": [
    {
     "name": "stdout",
     "output_type": "stream",
     "text": [
      "lr score: 0.43455793869894527\n",
      "Score: 0.07591926360975709\n",
      "[ 0.03109408  1.05459232  6.4041699  -0.2907813   0.38272604 -1.16904891\n",
      "  0.59061734 -1.30927473  4.00499341 -0.24820523]\n",
      "Score: 0.07591926360975709\n"
     ]
    }
   ],
   "source": [
    "from sklearn.linear_model import LogisticRegression\n",
    "lr=LogisticRegression()\n",
    "lr.fit(train_x,train_y)\n",
    "print('lr score:',lr.score(train_x,train_y))\n",
    "rd=Ridge(alpha=1)\n",
    "rd.fit(train_x,train_y)\n",
    "print('Score:', rd.score(train_x,train_y))\n",
    "print(rd.coef_)\n",
    "print('Score:', rd.score(train_x,train_y))"
   ]
  },
  {
   "cell_type": "markdown",
   "id": "cb903113",
   "metadata": {},
   "source": [
    "Score is 75%"
   ]
  },
  {
   "cell_type": "markdown",
   "id": "85120c79",
   "metadata": {},
   "source": [
    "## 1. Decision Tree classifier"
   ]
  },
  {
   "cell_type": "code",
   "execution_count": 82,
   "id": "5d339ed6",
   "metadata": {},
   "outputs": [
    {
     "name": "stdout",
     "output_type": "stream",
     "text": [
      "{'criterion': 'entropy'}\n",
      "0.7235790992228228\n",
      "0.72\n"
     ]
    }
   ],
   "source": [
    "from sklearn.model_selection import GridSearchCV\n",
    "from sklearn.tree import DecisionTreeClassifier\n",
    "\n",
    "dtc=DecisionTreeClassifier()\n",
    "grid_param={\n",
    "    'criterion':['gini','entropy']\n",
    "  }\n",
    "gd_sr=GridSearchCV(estimator=dtc,\n",
    "                  param_grid=grid_param,\n",
    "                  scoring='accuracy',\n",
    "                  cv=7)\n",
    "gd_sr.fit(train_x,train_y)\n",
    "best_parameters=gd_sr.best_params_\n",
    "print(best_parameters)\n",
    "best_result=gd_sr.best_score_\n",
    "print(best_result)\n",
    "\n",
    "print(round(best_result,2))"
   ]
  },
  {
   "cell_type": "code",
   "execution_count": 83,
   "id": "d729e614",
   "metadata": {},
   "outputs": [
    {
     "data": {
      "text/plain": [
       "1.0"
      ]
     },
     "execution_count": 83,
     "metadata": {},
     "output_type": "execute_result"
    }
   ],
   "source": [
    "dtc= DecisionTreeClassifier(criterion='entropy')\n",
    "dtc.fit(train_x,train_y)\n",
    "dtc.score(train_x,train_y)"
   ]
  },
  {
   "cell_type": "code",
   "execution_count": 84,
   "id": "59558a27",
   "metadata": {},
   "outputs": [
    {
     "name": "stdout",
     "output_type": "stream",
     "text": [
      "Cross Val Score: 52.533675003650906\n"
     ]
    }
   ],
   "source": [
    "dtscore = cross_val_score(dtc,x1,y1,cv=9)\n",
    "dts = dtscore.mean()\n",
    "print('Cross Val Score:',dts*100)"
   ]
  },
  {
   "cell_type": "markdown",
   "id": "3f65db51",
   "metadata": {},
   "source": [
    "Cross Val Score: 52.5%"
   ]
  },
  {
   "cell_type": "code",
   "execution_count": 85,
   "id": "185902b9",
   "metadata": {},
   "outputs": [
    {
     "name": "stdout",
     "output_type": "stream",
     "text": [
      "Accuracy of the model is:  0.7318799546998868\n",
      "Confusion Matrix:  [[42  0  0 ...  0  0  0]\n",
      " [ 0 37  0 ...  0  0  1]\n",
      " [ 0  0 63 ...  0  0  1]\n",
      " ...\n",
      " [ 0  1  0 ... 34  1  0]\n",
      " [ 0  0  0 ...  1 49  0]\n",
      " [ 0  2  4 ...  0  0 54]]\n"
     ]
    }
   ],
   "source": [
    "#Predicted value\n",
    "pred = dtc.predict(test_x)\n",
    "from sklearn.metrics import accuracy_score, confusion_matrix\n",
    "accuracy=accuracy_score(test_y,pred)\n",
    "confusion= confusion_matrix(test_y,pred)\n",
    "print(\"Accuracy of the model is: \",accuracy)\n",
    "print(\"Confusion Matrix: \", confusion)"
   ]
  },
  {
   "cell_type": "markdown",
   "id": "d159d5a8",
   "metadata": {},
   "source": [
    "Accuracy of Decision Tree Classifier model is 73.1%"
   ]
  },
  {
   "cell_type": "code",
   "execution_count": 86,
   "id": "e0ef6a34",
   "metadata": {},
   "outputs": [
    {
     "ename": "ValueError",
     "evalue": "multiclass format is not supported",
     "output_type": "error",
     "traceback": [
      "\u001b[1;31m---------------------------------------------------------------------------\u001b[0m",
      "\u001b[1;31mValueError\u001b[0m                                Traceback (most recent call last)",
      "\u001b[1;32m~\\AppData\\Local\\Temp/ipykernel_16764/2030134656.py\u001b[0m in \u001b[0;36m<module>\u001b[1;34m\u001b[0m\n\u001b[0;32m      1\u001b[0m \u001b[1;32mfrom\u001b[0m \u001b[0msklearn\u001b[0m\u001b[1;33m.\u001b[0m\u001b[0mmetrics\u001b[0m \u001b[1;32mimport\u001b[0m \u001b[0mroc_curve\u001b[0m\u001b[1;33m,\u001b[0m \u001b[0mauc\u001b[0m\u001b[1;33m\u001b[0m\u001b[1;33m\u001b[0m\u001b[0m\n\u001b[1;32m----> 2\u001b[1;33m \u001b[0mfpr\u001b[0m\u001b[1;33m,\u001b[0m \u001b[0mtpr\u001b[0m\u001b[1;33m,\u001b[0m \u001b[0mthresholds\u001b[0m\u001b[1;33m=\u001b[0m \u001b[0mroc_curve\u001b[0m\u001b[1;33m(\u001b[0m\u001b[0mpred_test\u001b[0m\u001b[1;33m,\u001b[0m\u001b[0mtest_y\u001b[0m\u001b[1;33m)\u001b[0m\u001b[1;33m\u001b[0m\u001b[1;33m\u001b[0m\u001b[0m\n\u001b[0m\u001b[0;32m      3\u001b[0m \u001b[0mroc_auc\u001b[0m \u001b[1;33m=\u001b[0m \u001b[0mauc\u001b[0m\u001b[1;33m(\u001b[0m\u001b[0mfpr\u001b[0m\u001b[1;33m,\u001b[0m\u001b[0mtpr\u001b[0m\u001b[1;33m)\u001b[0m\u001b[1;33m\u001b[0m\u001b[1;33m\u001b[0m\u001b[0m\n\u001b[0;32m      4\u001b[0m \u001b[1;33m\u001b[0m\u001b[0m\n\u001b[0;32m      5\u001b[0m \u001b[0mplt\u001b[0m\u001b[1;33m.\u001b[0m\u001b[0mfigure\u001b[0m\u001b[1;33m(\u001b[0m\u001b[1;33m)\u001b[0m\u001b[1;33m\u001b[0m\u001b[1;33m\u001b[0m\u001b[0m\n",
      "\u001b[1;32m~\\anaconda3\\lib\\site-packages\\sklearn\\utils\\validation.py\u001b[0m in \u001b[0;36minner_f\u001b[1;34m(*args, **kwargs)\u001b[0m\n\u001b[0;32m     61\u001b[0m             \u001b[0mextra_args\u001b[0m \u001b[1;33m=\u001b[0m \u001b[0mlen\u001b[0m\u001b[1;33m(\u001b[0m\u001b[0margs\u001b[0m\u001b[1;33m)\u001b[0m \u001b[1;33m-\u001b[0m \u001b[0mlen\u001b[0m\u001b[1;33m(\u001b[0m\u001b[0mall_args\u001b[0m\u001b[1;33m)\u001b[0m\u001b[1;33m\u001b[0m\u001b[1;33m\u001b[0m\u001b[0m\n\u001b[0;32m     62\u001b[0m             \u001b[1;32mif\u001b[0m \u001b[0mextra_args\u001b[0m \u001b[1;33m<=\u001b[0m \u001b[1;36m0\u001b[0m\u001b[1;33m:\u001b[0m\u001b[1;33m\u001b[0m\u001b[1;33m\u001b[0m\u001b[0m\n\u001b[1;32m---> 63\u001b[1;33m                 \u001b[1;32mreturn\u001b[0m \u001b[0mf\u001b[0m\u001b[1;33m(\u001b[0m\u001b[1;33m*\u001b[0m\u001b[0margs\u001b[0m\u001b[1;33m,\u001b[0m \u001b[1;33m**\u001b[0m\u001b[0mkwargs\u001b[0m\u001b[1;33m)\u001b[0m\u001b[1;33m\u001b[0m\u001b[1;33m\u001b[0m\u001b[0m\n\u001b[0m\u001b[0;32m     64\u001b[0m \u001b[1;33m\u001b[0m\u001b[0m\n\u001b[0;32m     65\u001b[0m             \u001b[1;31m# extra_args > 0\u001b[0m\u001b[1;33m\u001b[0m\u001b[1;33m\u001b[0m\u001b[0m\n",
      "\u001b[1;32m~\\anaconda3\\lib\\site-packages\\sklearn\\metrics\\_ranking.py\u001b[0m in \u001b[0;36mroc_curve\u001b[1;34m(y_true, y_score, pos_label, sample_weight, drop_intermediate)\u001b[0m\n\u001b[0;32m    911\u001b[0m \u001b[1;33m\u001b[0m\u001b[0m\n\u001b[0;32m    912\u001b[0m     \"\"\"\n\u001b[1;32m--> 913\u001b[1;33m     fps, tps, thresholds = _binary_clf_curve(\n\u001b[0m\u001b[0;32m    914\u001b[0m         y_true, y_score, pos_label=pos_label, sample_weight=sample_weight)\n\u001b[0;32m    915\u001b[0m \u001b[1;33m\u001b[0m\u001b[0m\n",
      "\u001b[1;32m~\\anaconda3\\lib\\site-packages\\sklearn\\metrics\\_ranking.py\u001b[0m in \u001b[0;36m_binary_clf_curve\u001b[1;34m(y_true, y_score, pos_label, sample_weight)\u001b[0m\n\u001b[0;32m    689\u001b[0m     if not (y_type == \"binary\" or\n\u001b[0;32m    690\u001b[0m             (y_type == \"multiclass\" and pos_label is not None)):\n\u001b[1;32m--> 691\u001b[1;33m         \u001b[1;32mraise\u001b[0m \u001b[0mValueError\u001b[0m\u001b[1;33m(\u001b[0m\u001b[1;34m\"{0} format is not supported\"\u001b[0m\u001b[1;33m.\u001b[0m\u001b[0mformat\u001b[0m\u001b[1;33m(\u001b[0m\u001b[0my_type\u001b[0m\u001b[1;33m)\u001b[0m\u001b[1;33m)\u001b[0m\u001b[1;33m\u001b[0m\u001b[1;33m\u001b[0m\u001b[0m\n\u001b[0m\u001b[0;32m    692\u001b[0m \u001b[1;33m\u001b[0m\u001b[0m\n\u001b[0;32m    693\u001b[0m     \u001b[0mcheck_consistent_length\u001b[0m\u001b[1;33m(\u001b[0m\u001b[0my_true\u001b[0m\u001b[1;33m,\u001b[0m \u001b[0my_score\u001b[0m\u001b[1;33m,\u001b[0m \u001b[0msample_weight\u001b[0m\u001b[1;33m)\u001b[0m\u001b[1;33m\u001b[0m\u001b[1;33m\u001b[0m\u001b[0m\n",
      "\u001b[1;31mValueError\u001b[0m: multiclass format is not supported"
     ]
    }
   ],
   "source": [
    "from sklearn.metrics import roc_curve, auc\n",
    "fpr, tpr, thresholds= roc_curve(pred_test,test_y)\n",
    "roc_auc = auc(fpr,tpr)\n",
    "\n",
    "plt.figure()\n",
    "plt.plot(fpr, tpr, color='darkorange',lw=10, label='ROC curve (area= %0.2f)' % roc_auc)\n",
    "plt.plot([0,1],[0,1], color='navy', lw=10,linestyle='--')\n",
    "plt.xlim([0.0,1.0])\n",
    "plt.ylim([0.0,1.05])\n",
    "plt.xlabel('False Positive Rate')\n",
    "plt.ylabel('True Positive Rate')\n",
    "plt.title('Receiver operating characteristic')\n",
    "plt.legend(loc='lower right')\n",
    "plt.show()"
   ]
  },
  {
   "cell_type": "markdown",
   "id": "c21fa197",
   "metadata": {},
   "source": [
    "## 2. SVM(SVC)"
   ]
  },
  {
   "cell_type": "code",
   "execution_count": 87,
   "id": "048894bf",
   "metadata": {},
   "outputs": [
    {
     "name": "stdout",
     "output_type": "stream",
     "text": [
      "{'C': 10, 'kernel': 'rbf'}\n"
     ]
    }
   ],
   "source": [
    "from sklearn.model_selection import GridSearchCV\n",
    "from sklearn import svm\n",
    "parameters={'kernel':['linear','rbf'],'C':[1,10]}\n",
    "svc=svm.SVC()\n",
    "clf= GridSearchCV(svc,parameters)\n",
    "clf.fit(train_x,train_y)\n",
    "print(clf.best_params_)"
   ]
  },
  {
   "cell_type": "markdown",
   "id": "b5234949",
   "metadata": {},
   "source": [
    "Best parameters for SVC"
   ]
  },
  {
   "cell_type": "code",
   "execution_count": 89,
   "id": "f90e2b0b",
   "metadata": {},
   "outputs": [
    {
     "data": {
      "text/plain": [
       "0.8624619522899413"
      ]
     },
     "execution_count": 89,
     "metadata": {},
     "output_type": "execute_result"
    }
   ],
   "source": [
    "svc=svm.SVC(kernel='rbf',C=10)\n",
    "svc.fit(train_x,train_y)\n",
    "svc.score(train_x,train_y)"
   ]
  },
  {
   "cell_type": "markdown",
   "id": "9a1f0b24",
   "metadata": {},
   "source": [
    "SV Score: 86.2%"
   ]
  },
  {
   "cell_type": "code",
   "execution_count": 91,
   "id": "89a401d1",
   "metadata": {},
   "outputs": [
    {
     "name": "stdout",
     "output_type": "stream",
     "text": [
      "Accuracy of the model is:  0.8267270668176671\n",
      "Confusion Matrix:  [[66  0  0 ...  0  0  0]\n",
      " [ 0 50  0 ...  0  0  0]\n",
      " [ 0  0 70 ...  0  0  0]\n",
      " ...\n",
      " [ 0  0  0 ... 37  0  0]\n",
      " [ 0  0  0 ...  0 49  0]\n",
      " [ 0  0  1 ...  0  0 59]]\n"
     ]
    }
   ],
   "source": [
    "#Predicted value\n",
    "pred = svc.predict(test_x)\n",
    "from sklearn.metrics import accuracy_score, confusion_matrix\n",
    "accuracy=accuracy_score(test_y,pred)\n",
    "confusion=confusion_matrix(test_y,pred)\n",
    "print(\"Accuracy of the model is: \",accuracy)\n",
    "print(\"Confusion Matrix: \", confusion)"
   ]
  },
  {
   "cell_type": "markdown",
   "id": "5a63d5b3",
   "metadata": {},
   "source": [
    "Accuracy of the model is:82.6%"
   ]
  },
  {
   "cell_type": "code",
   "execution_count": 93,
   "id": "bd3ff3e7",
   "metadata": {},
   "outputs": [
    {
     "name": "stdout",
     "output_type": "stream",
     "text": [
      "Cross Val Score: 63.61561350726347\n"
     ]
    }
   ],
   "source": [
    "svscore = cross_val_score(svc,x1,y1,cv=9)\n",
    "svs = svscore.mean()\n",
    "print('Cross Val Score:',svs*100)"
   ]
  },
  {
   "cell_type": "markdown",
   "id": "79971bba",
   "metadata": {},
   "source": [
    "Cross Val Score: 63.6 %"
   ]
  },
  {
   "cell_type": "markdown",
   "id": "35955e7b",
   "metadata": {},
   "source": [
    "## 3. Random Forest Classifier"
   ]
  },
  {
   "cell_type": "code",
   "execution_count": 103,
   "id": "7facfd23",
   "metadata": {},
   "outputs": [
    {
     "ename": "KeyboardInterrupt",
     "evalue": "",
     "output_type": "error",
     "traceback": [
      "\u001b[1;31m---------------------------------------------------------------------------\u001b[0m",
      "\u001b[1;31mKeyboardInterrupt\u001b[0m                         Traceback (most recent call last)",
      "\u001b[1;32m~\\AppData\\Local\\Temp/ipykernel_16764/3618646240.py\u001b[0m in \u001b[0;36m<module>\u001b[1;34m\u001b[0m\n\u001b[0;32m      8\u001b[0m \u001b[0mclf\u001b[0m \u001b[1;33m=\u001b[0m \u001b[0mGridSearchCV\u001b[0m\u001b[1;33m(\u001b[0m\u001b[0mrfc\u001b[0m\u001b[1;33m,\u001b[0m \u001b[0mforest_params\u001b[0m\u001b[1;33m,\u001b[0m \u001b[0mcv\u001b[0m\u001b[1;33m=\u001b[0m\u001b[1;36m9\u001b[0m\u001b[1;33m,\u001b[0m \u001b[0mscoring\u001b[0m\u001b[1;33m=\u001b[0m\u001b[1;34m'accuracy'\u001b[0m\u001b[1;33m)\u001b[0m\u001b[1;33m\u001b[0m\u001b[1;33m\u001b[0m\u001b[0m\n\u001b[0;32m      9\u001b[0m \u001b[1;33m\u001b[0m\u001b[0m\n\u001b[1;32m---> 10\u001b[1;33m \u001b[0mclf\u001b[0m\u001b[1;33m.\u001b[0m\u001b[0mfit\u001b[0m\u001b[1;33m(\u001b[0m\u001b[0mtrain_x\u001b[0m\u001b[1;33m,\u001b[0m\u001b[0mtrain_y\u001b[0m\u001b[1;33m)\u001b[0m\u001b[1;33m\u001b[0m\u001b[1;33m\u001b[0m\u001b[0m\n\u001b[0m\u001b[0;32m     11\u001b[0m \u001b[1;33m\u001b[0m\u001b[0m\n\u001b[0;32m     12\u001b[0m \u001b[0mprint\u001b[0m\u001b[1;33m(\u001b[0m\u001b[0mclf\u001b[0m\u001b[1;33m.\u001b[0m\u001b[0mbest_params_\u001b[0m\u001b[1;33m)\u001b[0m\u001b[1;33m\u001b[0m\u001b[1;33m\u001b[0m\u001b[0m\n",
      "\u001b[1;32m~\\anaconda3\\lib\\site-packages\\sklearn\\utils\\validation.py\u001b[0m in \u001b[0;36minner_f\u001b[1;34m(*args, **kwargs)\u001b[0m\n\u001b[0;32m     61\u001b[0m             \u001b[0mextra_args\u001b[0m \u001b[1;33m=\u001b[0m \u001b[0mlen\u001b[0m\u001b[1;33m(\u001b[0m\u001b[0margs\u001b[0m\u001b[1;33m)\u001b[0m \u001b[1;33m-\u001b[0m \u001b[0mlen\u001b[0m\u001b[1;33m(\u001b[0m\u001b[0mall_args\u001b[0m\u001b[1;33m)\u001b[0m\u001b[1;33m\u001b[0m\u001b[1;33m\u001b[0m\u001b[0m\n\u001b[0;32m     62\u001b[0m             \u001b[1;32mif\u001b[0m \u001b[0mextra_args\u001b[0m \u001b[1;33m<=\u001b[0m \u001b[1;36m0\u001b[0m\u001b[1;33m:\u001b[0m\u001b[1;33m\u001b[0m\u001b[1;33m\u001b[0m\u001b[0m\n\u001b[1;32m---> 63\u001b[1;33m                 \u001b[1;32mreturn\u001b[0m \u001b[0mf\u001b[0m\u001b[1;33m(\u001b[0m\u001b[1;33m*\u001b[0m\u001b[0margs\u001b[0m\u001b[1;33m,\u001b[0m \u001b[1;33m**\u001b[0m\u001b[0mkwargs\u001b[0m\u001b[1;33m)\u001b[0m\u001b[1;33m\u001b[0m\u001b[1;33m\u001b[0m\u001b[0m\n\u001b[0m\u001b[0;32m     64\u001b[0m \u001b[1;33m\u001b[0m\u001b[0m\n\u001b[0;32m     65\u001b[0m             \u001b[1;31m# extra_args > 0\u001b[0m\u001b[1;33m\u001b[0m\u001b[1;33m\u001b[0m\u001b[0m\n",
      "\u001b[1;32m~\\anaconda3\\lib\\site-packages\\sklearn\\model_selection\\_search.py\u001b[0m in \u001b[0;36mfit\u001b[1;34m(self, X, y, groups, **fit_params)\u001b[0m\n\u001b[0;32m    839\u001b[0m                 \u001b[1;32mreturn\u001b[0m \u001b[0mresults\u001b[0m\u001b[1;33m\u001b[0m\u001b[1;33m\u001b[0m\u001b[0m\n\u001b[0;32m    840\u001b[0m \u001b[1;33m\u001b[0m\u001b[0m\n\u001b[1;32m--> 841\u001b[1;33m             \u001b[0mself\u001b[0m\u001b[1;33m.\u001b[0m\u001b[0m_run_search\u001b[0m\u001b[1;33m(\u001b[0m\u001b[0mevaluate_candidates\u001b[0m\u001b[1;33m)\u001b[0m\u001b[1;33m\u001b[0m\u001b[1;33m\u001b[0m\u001b[0m\n\u001b[0m\u001b[0;32m    842\u001b[0m \u001b[1;33m\u001b[0m\u001b[0m\n\u001b[0;32m    843\u001b[0m             \u001b[1;31m# multimetric is determined here because in the case of a callable\u001b[0m\u001b[1;33m\u001b[0m\u001b[1;33m\u001b[0m\u001b[0m\n",
      "\u001b[1;32m~\\anaconda3\\lib\\site-packages\\sklearn\\model_selection\\_search.py\u001b[0m in \u001b[0;36m_run_search\u001b[1;34m(self, evaluate_candidates)\u001b[0m\n\u001b[0;32m   1294\u001b[0m     \u001b[1;32mdef\u001b[0m \u001b[0m_run_search\u001b[0m\u001b[1;33m(\u001b[0m\u001b[0mself\u001b[0m\u001b[1;33m,\u001b[0m \u001b[0mevaluate_candidates\u001b[0m\u001b[1;33m)\u001b[0m\u001b[1;33m:\u001b[0m\u001b[1;33m\u001b[0m\u001b[1;33m\u001b[0m\u001b[0m\n\u001b[0;32m   1295\u001b[0m         \u001b[1;34m\"\"\"Search all candidates in param_grid\"\"\"\u001b[0m\u001b[1;33m\u001b[0m\u001b[1;33m\u001b[0m\u001b[0m\n\u001b[1;32m-> 1296\u001b[1;33m         \u001b[0mevaluate_candidates\u001b[0m\u001b[1;33m(\u001b[0m\u001b[0mParameterGrid\u001b[0m\u001b[1;33m(\u001b[0m\u001b[0mself\u001b[0m\u001b[1;33m.\u001b[0m\u001b[0mparam_grid\u001b[0m\u001b[1;33m)\u001b[0m\u001b[1;33m)\u001b[0m\u001b[1;33m\u001b[0m\u001b[1;33m\u001b[0m\u001b[0m\n\u001b[0m\u001b[0;32m   1297\u001b[0m \u001b[1;33m\u001b[0m\u001b[0m\n\u001b[0;32m   1298\u001b[0m \u001b[1;33m\u001b[0m\u001b[0m\n",
      "\u001b[1;32m~\\anaconda3\\lib\\site-packages\\sklearn\\model_selection\\_search.py\u001b[0m in \u001b[0;36mevaluate_candidates\u001b[1;34m(candidate_params, cv, more_results)\u001b[0m\n\u001b[0;32m    793\u001b[0m                               n_splits, n_candidates, n_candidates * n_splits))\n\u001b[0;32m    794\u001b[0m \u001b[1;33m\u001b[0m\u001b[0m\n\u001b[1;32m--> 795\u001b[1;33m                 out = parallel(delayed(_fit_and_score)(clone(base_estimator),\n\u001b[0m\u001b[0;32m    796\u001b[0m                                                        \u001b[0mX\u001b[0m\u001b[1;33m,\u001b[0m \u001b[0my\u001b[0m\u001b[1;33m,\u001b[0m\u001b[1;33m\u001b[0m\u001b[1;33m\u001b[0m\u001b[0m\n\u001b[0;32m    797\u001b[0m                                                        \u001b[0mtrain\u001b[0m\u001b[1;33m=\u001b[0m\u001b[0mtrain\u001b[0m\u001b[1;33m,\u001b[0m \u001b[0mtest\u001b[0m\u001b[1;33m=\u001b[0m\u001b[0mtest\u001b[0m\u001b[1;33m,\u001b[0m\u001b[1;33m\u001b[0m\u001b[1;33m\u001b[0m\u001b[0m\n",
      "\u001b[1;32m~\\anaconda3\\lib\\site-packages\\joblib\\parallel.py\u001b[0m in \u001b[0;36m__call__\u001b[1;34m(self, iterable)\u001b[0m\n\u001b[0;32m   1044\u001b[0m                 \u001b[0mself\u001b[0m\u001b[1;33m.\u001b[0m\u001b[0m_iterating\u001b[0m \u001b[1;33m=\u001b[0m \u001b[0mself\u001b[0m\u001b[1;33m.\u001b[0m\u001b[0m_original_iterator\u001b[0m \u001b[1;32mis\u001b[0m \u001b[1;32mnot\u001b[0m \u001b[1;32mNone\u001b[0m\u001b[1;33m\u001b[0m\u001b[1;33m\u001b[0m\u001b[0m\n\u001b[0;32m   1045\u001b[0m \u001b[1;33m\u001b[0m\u001b[0m\n\u001b[1;32m-> 1046\u001b[1;33m             \u001b[1;32mwhile\u001b[0m \u001b[0mself\u001b[0m\u001b[1;33m.\u001b[0m\u001b[0mdispatch_one_batch\u001b[0m\u001b[1;33m(\u001b[0m\u001b[0miterator\u001b[0m\u001b[1;33m)\u001b[0m\u001b[1;33m:\u001b[0m\u001b[1;33m\u001b[0m\u001b[1;33m\u001b[0m\u001b[0m\n\u001b[0m\u001b[0;32m   1047\u001b[0m                 \u001b[1;32mpass\u001b[0m\u001b[1;33m\u001b[0m\u001b[1;33m\u001b[0m\u001b[0m\n\u001b[0;32m   1048\u001b[0m \u001b[1;33m\u001b[0m\u001b[0m\n",
      "\u001b[1;32m~\\anaconda3\\lib\\site-packages\\joblib\\parallel.py\u001b[0m in \u001b[0;36mdispatch_one_batch\u001b[1;34m(self, iterator)\u001b[0m\n\u001b[0;32m    859\u001b[0m                 \u001b[1;32mreturn\u001b[0m \u001b[1;32mFalse\u001b[0m\u001b[1;33m\u001b[0m\u001b[1;33m\u001b[0m\u001b[0m\n\u001b[0;32m    860\u001b[0m             \u001b[1;32melse\u001b[0m\u001b[1;33m:\u001b[0m\u001b[1;33m\u001b[0m\u001b[1;33m\u001b[0m\u001b[0m\n\u001b[1;32m--> 861\u001b[1;33m                 \u001b[0mself\u001b[0m\u001b[1;33m.\u001b[0m\u001b[0m_dispatch\u001b[0m\u001b[1;33m(\u001b[0m\u001b[0mtasks\u001b[0m\u001b[1;33m)\u001b[0m\u001b[1;33m\u001b[0m\u001b[1;33m\u001b[0m\u001b[0m\n\u001b[0m\u001b[0;32m    862\u001b[0m                 \u001b[1;32mreturn\u001b[0m \u001b[1;32mTrue\u001b[0m\u001b[1;33m\u001b[0m\u001b[1;33m\u001b[0m\u001b[0m\n\u001b[0;32m    863\u001b[0m \u001b[1;33m\u001b[0m\u001b[0m\n",
      "\u001b[1;32m~\\anaconda3\\lib\\site-packages\\joblib\\parallel.py\u001b[0m in \u001b[0;36m_dispatch\u001b[1;34m(self, batch)\u001b[0m\n\u001b[0;32m    777\u001b[0m         \u001b[1;32mwith\u001b[0m \u001b[0mself\u001b[0m\u001b[1;33m.\u001b[0m\u001b[0m_lock\u001b[0m\u001b[1;33m:\u001b[0m\u001b[1;33m\u001b[0m\u001b[1;33m\u001b[0m\u001b[0m\n\u001b[0;32m    778\u001b[0m             \u001b[0mjob_idx\u001b[0m \u001b[1;33m=\u001b[0m \u001b[0mlen\u001b[0m\u001b[1;33m(\u001b[0m\u001b[0mself\u001b[0m\u001b[1;33m.\u001b[0m\u001b[0m_jobs\u001b[0m\u001b[1;33m)\u001b[0m\u001b[1;33m\u001b[0m\u001b[1;33m\u001b[0m\u001b[0m\n\u001b[1;32m--> 779\u001b[1;33m             \u001b[0mjob\u001b[0m \u001b[1;33m=\u001b[0m \u001b[0mself\u001b[0m\u001b[1;33m.\u001b[0m\u001b[0m_backend\u001b[0m\u001b[1;33m.\u001b[0m\u001b[0mapply_async\u001b[0m\u001b[1;33m(\u001b[0m\u001b[0mbatch\u001b[0m\u001b[1;33m,\u001b[0m \u001b[0mcallback\u001b[0m\u001b[1;33m=\u001b[0m\u001b[0mcb\u001b[0m\u001b[1;33m)\u001b[0m\u001b[1;33m\u001b[0m\u001b[1;33m\u001b[0m\u001b[0m\n\u001b[0m\u001b[0;32m    780\u001b[0m             \u001b[1;31m# A job can complete so quickly than its callback is\u001b[0m\u001b[1;33m\u001b[0m\u001b[1;33m\u001b[0m\u001b[0m\n\u001b[0;32m    781\u001b[0m             \u001b[1;31m# called before we get here, causing self._jobs to\u001b[0m\u001b[1;33m\u001b[0m\u001b[1;33m\u001b[0m\u001b[0m\n",
      "\u001b[1;32m~\\anaconda3\\lib\\site-packages\\joblib\\_parallel_backends.py\u001b[0m in \u001b[0;36mapply_async\u001b[1;34m(self, func, callback)\u001b[0m\n\u001b[0;32m    206\u001b[0m     \u001b[1;32mdef\u001b[0m \u001b[0mapply_async\u001b[0m\u001b[1;33m(\u001b[0m\u001b[0mself\u001b[0m\u001b[1;33m,\u001b[0m \u001b[0mfunc\u001b[0m\u001b[1;33m,\u001b[0m \u001b[0mcallback\u001b[0m\u001b[1;33m=\u001b[0m\u001b[1;32mNone\u001b[0m\u001b[1;33m)\u001b[0m\u001b[1;33m:\u001b[0m\u001b[1;33m\u001b[0m\u001b[1;33m\u001b[0m\u001b[0m\n\u001b[0;32m    207\u001b[0m         \u001b[1;34m\"\"\"Schedule a func to be run\"\"\"\u001b[0m\u001b[1;33m\u001b[0m\u001b[1;33m\u001b[0m\u001b[0m\n\u001b[1;32m--> 208\u001b[1;33m         \u001b[0mresult\u001b[0m \u001b[1;33m=\u001b[0m \u001b[0mImmediateResult\u001b[0m\u001b[1;33m(\u001b[0m\u001b[0mfunc\u001b[0m\u001b[1;33m)\u001b[0m\u001b[1;33m\u001b[0m\u001b[1;33m\u001b[0m\u001b[0m\n\u001b[0m\u001b[0;32m    209\u001b[0m         \u001b[1;32mif\u001b[0m \u001b[0mcallback\u001b[0m\u001b[1;33m:\u001b[0m\u001b[1;33m\u001b[0m\u001b[1;33m\u001b[0m\u001b[0m\n\u001b[0;32m    210\u001b[0m             \u001b[0mcallback\u001b[0m\u001b[1;33m(\u001b[0m\u001b[0mresult\u001b[0m\u001b[1;33m)\u001b[0m\u001b[1;33m\u001b[0m\u001b[1;33m\u001b[0m\u001b[0m\n",
      "\u001b[1;32m~\\anaconda3\\lib\\site-packages\\joblib\\_parallel_backends.py\u001b[0m in \u001b[0;36m__init__\u001b[1;34m(self, batch)\u001b[0m\n\u001b[0;32m    570\u001b[0m         \u001b[1;31m# Don't delay the application, to avoid keeping the input\u001b[0m\u001b[1;33m\u001b[0m\u001b[1;33m\u001b[0m\u001b[0m\n\u001b[0;32m    571\u001b[0m         \u001b[1;31m# arguments in memory\u001b[0m\u001b[1;33m\u001b[0m\u001b[1;33m\u001b[0m\u001b[0m\n\u001b[1;32m--> 572\u001b[1;33m         \u001b[0mself\u001b[0m\u001b[1;33m.\u001b[0m\u001b[0mresults\u001b[0m \u001b[1;33m=\u001b[0m \u001b[0mbatch\u001b[0m\u001b[1;33m(\u001b[0m\u001b[1;33m)\u001b[0m\u001b[1;33m\u001b[0m\u001b[1;33m\u001b[0m\u001b[0m\n\u001b[0m\u001b[0;32m    573\u001b[0m \u001b[1;33m\u001b[0m\u001b[0m\n\u001b[0;32m    574\u001b[0m     \u001b[1;32mdef\u001b[0m \u001b[0mget\u001b[0m\u001b[1;33m(\u001b[0m\u001b[0mself\u001b[0m\u001b[1;33m)\u001b[0m\u001b[1;33m:\u001b[0m\u001b[1;33m\u001b[0m\u001b[1;33m\u001b[0m\u001b[0m\n",
      "\u001b[1;32m~\\anaconda3\\lib\\site-packages\\joblib\\parallel.py\u001b[0m in \u001b[0;36m__call__\u001b[1;34m(self)\u001b[0m\n\u001b[0;32m    260\u001b[0m         \u001b[1;31m# change the default number of processes to -1\u001b[0m\u001b[1;33m\u001b[0m\u001b[1;33m\u001b[0m\u001b[0m\n\u001b[0;32m    261\u001b[0m         \u001b[1;32mwith\u001b[0m \u001b[0mparallel_backend\u001b[0m\u001b[1;33m(\u001b[0m\u001b[0mself\u001b[0m\u001b[1;33m.\u001b[0m\u001b[0m_backend\u001b[0m\u001b[1;33m,\u001b[0m \u001b[0mn_jobs\u001b[0m\u001b[1;33m=\u001b[0m\u001b[0mself\u001b[0m\u001b[1;33m.\u001b[0m\u001b[0m_n_jobs\u001b[0m\u001b[1;33m)\u001b[0m\u001b[1;33m:\u001b[0m\u001b[1;33m\u001b[0m\u001b[1;33m\u001b[0m\u001b[0m\n\u001b[1;32m--> 262\u001b[1;33m             return [func(*args, **kwargs)\n\u001b[0m\u001b[0;32m    263\u001b[0m                     for func, args, kwargs in self.items]\n\u001b[0;32m    264\u001b[0m \u001b[1;33m\u001b[0m\u001b[0m\n",
      "\u001b[1;32m~\\anaconda3\\lib\\site-packages\\joblib\\parallel.py\u001b[0m in \u001b[0;36m<listcomp>\u001b[1;34m(.0)\u001b[0m\n\u001b[0;32m    260\u001b[0m         \u001b[1;31m# change the default number of processes to -1\u001b[0m\u001b[1;33m\u001b[0m\u001b[1;33m\u001b[0m\u001b[0m\n\u001b[0;32m    261\u001b[0m         \u001b[1;32mwith\u001b[0m \u001b[0mparallel_backend\u001b[0m\u001b[1;33m(\u001b[0m\u001b[0mself\u001b[0m\u001b[1;33m.\u001b[0m\u001b[0m_backend\u001b[0m\u001b[1;33m,\u001b[0m \u001b[0mn_jobs\u001b[0m\u001b[1;33m=\u001b[0m\u001b[0mself\u001b[0m\u001b[1;33m.\u001b[0m\u001b[0m_n_jobs\u001b[0m\u001b[1;33m)\u001b[0m\u001b[1;33m:\u001b[0m\u001b[1;33m\u001b[0m\u001b[1;33m\u001b[0m\u001b[0m\n\u001b[1;32m--> 262\u001b[1;33m             return [func(*args, **kwargs)\n\u001b[0m\u001b[0;32m    263\u001b[0m                     for func, args, kwargs in self.items]\n\u001b[0;32m    264\u001b[0m \u001b[1;33m\u001b[0m\u001b[0m\n",
      "\u001b[1;32m~\\anaconda3\\lib\\site-packages\\sklearn\\utils\\fixes.py\u001b[0m in \u001b[0;36m__call__\u001b[1;34m(self, *args, **kwargs)\u001b[0m\n\u001b[0;32m    220\u001b[0m     \u001b[1;32mdef\u001b[0m \u001b[0m__call__\u001b[0m\u001b[1;33m(\u001b[0m\u001b[0mself\u001b[0m\u001b[1;33m,\u001b[0m \u001b[1;33m*\u001b[0m\u001b[0margs\u001b[0m\u001b[1;33m,\u001b[0m \u001b[1;33m**\u001b[0m\u001b[0mkwargs\u001b[0m\u001b[1;33m)\u001b[0m\u001b[1;33m:\u001b[0m\u001b[1;33m\u001b[0m\u001b[1;33m\u001b[0m\u001b[0m\n\u001b[0;32m    221\u001b[0m         \u001b[1;32mwith\u001b[0m \u001b[0mconfig_context\u001b[0m\u001b[1;33m(\u001b[0m\u001b[1;33m**\u001b[0m\u001b[0mself\u001b[0m\u001b[1;33m.\u001b[0m\u001b[0mconfig\u001b[0m\u001b[1;33m)\u001b[0m\u001b[1;33m:\u001b[0m\u001b[1;33m\u001b[0m\u001b[1;33m\u001b[0m\u001b[0m\n\u001b[1;32m--> 222\u001b[1;33m             \u001b[1;32mreturn\u001b[0m \u001b[0mself\u001b[0m\u001b[1;33m.\u001b[0m\u001b[0mfunction\u001b[0m\u001b[1;33m(\u001b[0m\u001b[1;33m*\u001b[0m\u001b[0margs\u001b[0m\u001b[1;33m,\u001b[0m \u001b[1;33m**\u001b[0m\u001b[0mkwargs\u001b[0m\u001b[1;33m)\u001b[0m\u001b[1;33m\u001b[0m\u001b[1;33m\u001b[0m\u001b[0m\n\u001b[0m",
      "\u001b[1;32m~\\anaconda3\\lib\\site-packages\\sklearn\\model_selection\\_validation.py\u001b[0m in \u001b[0;36m_fit_and_score\u001b[1;34m(estimator, X, y, scorer, train, test, verbose, parameters, fit_params, return_train_score, return_parameters, return_n_test_samples, return_times, return_estimator, split_progress, candidate_progress, error_score)\u001b[0m\n\u001b[0;32m    596\u001b[0m             \u001b[0mestimator\u001b[0m\u001b[1;33m.\u001b[0m\u001b[0mfit\u001b[0m\u001b[1;33m(\u001b[0m\u001b[0mX_train\u001b[0m\u001b[1;33m,\u001b[0m \u001b[1;33m**\u001b[0m\u001b[0mfit_params\u001b[0m\u001b[1;33m)\u001b[0m\u001b[1;33m\u001b[0m\u001b[1;33m\u001b[0m\u001b[0m\n\u001b[0;32m    597\u001b[0m         \u001b[1;32melse\u001b[0m\u001b[1;33m:\u001b[0m\u001b[1;33m\u001b[0m\u001b[1;33m\u001b[0m\u001b[0m\n\u001b[1;32m--> 598\u001b[1;33m             \u001b[0mestimator\u001b[0m\u001b[1;33m.\u001b[0m\u001b[0mfit\u001b[0m\u001b[1;33m(\u001b[0m\u001b[0mX_train\u001b[0m\u001b[1;33m,\u001b[0m \u001b[0my_train\u001b[0m\u001b[1;33m,\u001b[0m \u001b[1;33m**\u001b[0m\u001b[0mfit_params\u001b[0m\u001b[1;33m)\u001b[0m\u001b[1;33m\u001b[0m\u001b[1;33m\u001b[0m\u001b[0m\n\u001b[0m\u001b[0;32m    599\u001b[0m \u001b[1;33m\u001b[0m\u001b[0m\n\u001b[0;32m    600\u001b[0m     \u001b[1;32mexcept\u001b[0m \u001b[0mException\u001b[0m \u001b[1;32mas\u001b[0m \u001b[0me\u001b[0m\u001b[1;33m:\u001b[0m\u001b[1;33m\u001b[0m\u001b[1;33m\u001b[0m\u001b[0m\n",
      "\u001b[1;32m~\\anaconda3\\lib\\site-packages\\sklearn\\ensemble\\_forest.py\u001b[0m in \u001b[0;36mfit\u001b[1;34m(self, X, y, sample_weight)\u001b[0m\n\u001b[0;32m    385\u001b[0m             \u001b[1;31m# parallel_backend contexts set at a higher level,\u001b[0m\u001b[1;33m\u001b[0m\u001b[1;33m\u001b[0m\u001b[0m\n\u001b[0;32m    386\u001b[0m             \u001b[1;31m# since correctness does not rely on using threads.\u001b[0m\u001b[1;33m\u001b[0m\u001b[1;33m\u001b[0m\u001b[0m\n\u001b[1;32m--> 387\u001b[1;33m             trees = Parallel(n_jobs=self.n_jobs, verbose=self.verbose,\n\u001b[0m\u001b[0;32m    388\u001b[0m                              \u001b[1;33m**\u001b[0m\u001b[0m_joblib_parallel_args\u001b[0m\u001b[1;33m(\u001b[0m\u001b[0mprefer\u001b[0m\u001b[1;33m=\u001b[0m\u001b[1;34m'threads'\u001b[0m\u001b[1;33m)\u001b[0m\u001b[1;33m)\u001b[0m\u001b[1;33m(\u001b[0m\u001b[1;33m\u001b[0m\u001b[1;33m\u001b[0m\u001b[0m\n\u001b[0;32m    389\u001b[0m                 delayed(_parallel_build_trees)(\n",
      "\u001b[1;32m~\\anaconda3\\lib\\site-packages\\joblib\\parallel.py\u001b[0m in \u001b[0;36m__call__\u001b[1;34m(self, iterable)\u001b[0m\n\u001b[0;32m   1044\u001b[0m                 \u001b[0mself\u001b[0m\u001b[1;33m.\u001b[0m\u001b[0m_iterating\u001b[0m \u001b[1;33m=\u001b[0m \u001b[0mself\u001b[0m\u001b[1;33m.\u001b[0m\u001b[0m_original_iterator\u001b[0m \u001b[1;32mis\u001b[0m \u001b[1;32mnot\u001b[0m \u001b[1;32mNone\u001b[0m\u001b[1;33m\u001b[0m\u001b[1;33m\u001b[0m\u001b[0m\n\u001b[0;32m   1045\u001b[0m \u001b[1;33m\u001b[0m\u001b[0m\n\u001b[1;32m-> 1046\u001b[1;33m             \u001b[1;32mwhile\u001b[0m \u001b[0mself\u001b[0m\u001b[1;33m.\u001b[0m\u001b[0mdispatch_one_batch\u001b[0m\u001b[1;33m(\u001b[0m\u001b[0miterator\u001b[0m\u001b[1;33m)\u001b[0m\u001b[1;33m:\u001b[0m\u001b[1;33m\u001b[0m\u001b[1;33m\u001b[0m\u001b[0m\n\u001b[0m\u001b[0;32m   1047\u001b[0m                 \u001b[1;32mpass\u001b[0m\u001b[1;33m\u001b[0m\u001b[1;33m\u001b[0m\u001b[0m\n\u001b[0;32m   1048\u001b[0m \u001b[1;33m\u001b[0m\u001b[0m\n",
      "\u001b[1;32m~\\anaconda3\\lib\\site-packages\\joblib\\parallel.py\u001b[0m in \u001b[0;36mdispatch_one_batch\u001b[1;34m(self, iterator)\u001b[0m\n\u001b[0;32m    859\u001b[0m                 \u001b[1;32mreturn\u001b[0m \u001b[1;32mFalse\u001b[0m\u001b[1;33m\u001b[0m\u001b[1;33m\u001b[0m\u001b[0m\n\u001b[0;32m    860\u001b[0m             \u001b[1;32melse\u001b[0m\u001b[1;33m:\u001b[0m\u001b[1;33m\u001b[0m\u001b[1;33m\u001b[0m\u001b[0m\n\u001b[1;32m--> 861\u001b[1;33m                 \u001b[0mself\u001b[0m\u001b[1;33m.\u001b[0m\u001b[0m_dispatch\u001b[0m\u001b[1;33m(\u001b[0m\u001b[0mtasks\u001b[0m\u001b[1;33m)\u001b[0m\u001b[1;33m\u001b[0m\u001b[1;33m\u001b[0m\u001b[0m\n\u001b[0m\u001b[0;32m    862\u001b[0m                 \u001b[1;32mreturn\u001b[0m \u001b[1;32mTrue\u001b[0m\u001b[1;33m\u001b[0m\u001b[1;33m\u001b[0m\u001b[0m\n\u001b[0;32m    863\u001b[0m \u001b[1;33m\u001b[0m\u001b[0m\n",
      "\u001b[1;32m~\\anaconda3\\lib\\site-packages\\joblib\\parallel.py\u001b[0m in \u001b[0;36m_dispatch\u001b[1;34m(self, batch)\u001b[0m\n\u001b[0;32m    777\u001b[0m         \u001b[1;32mwith\u001b[0m \u001b[0mself\u001b[0m\u001b[1;33m.\u001b[0m\u001b[0m_lock\u001b[0m\u001b[1;33m:\u001b[0m\u001b[1;33m\u001b[0m\u001b[1;33m\u001b[0m\u001b[0m\n\u001b[0;32m    778\u001b[0m             \u001b[0mjob_idx\u001b[0m \u001b[1;33m=\u001b[0m \u001b[0mlen\u001b[0m\u001b[1;33m(\u001b[0m\u001b[0mself\u001b[0m\u001b[1;33m.\u001b[0m\u001b[0m_jobs\u001b[0m\u001b[1;33m)\u001b[0m\u001b[1;33m\u001b[0m\u001b[1;33m\u001b[0m\u001b[0m\n\u001b[1;32m--> 779\u001b[1;33m             \u001b[0mjob\u001b[0m \u001b[1;33m=\u001b[0m \u001b[0mself\u001b[0m\u001b[1;33m.\u001b[0m\u001b[0m_backend\u001b[0m\u001b[1;33m.\u001b[0m\u001b[0mapply_async\u001b[0m\u001b[1;33m(\u001b[0m\u001b[0mbatch\u001b[0m\u001b[1;33m,\u001b[0m \u001b[0mcallback\u001b[0m\u001b[1;33m=\u001b[0m\u001b[0mcb\u001b[0m\u001b[1;33m)\u001b[0m\u001b[1;33m\u001b[0m\u001b[1;33m\u001b[0m\u001b[0m\n\u001b[0m\u001b[0;32m    780\u001b[0m             \u001b[1;31m# A job can complete so quickly than its callback is\u001b[0m\u001b[1;33m\u001b[0m\u001b[1;33m\u001b[0m\u001b[0m\n\u001b[0;32m    781\u001b[0m             \u001b[1;31m# called before we get here, causing self._jobs to\u001b[0m\u001b[1;33m\u001b[0m\u001b[1;33m\u001b[0m\u001b[0m\n",
      "\u001b[1;32m~\\anaconda3\\lib\\site-packages\\joblib\\_parallel_backends.py\u001b[0m in \u001b[0;36mapply_async\u001b[1;34m(self, func, callback)\u001b[0m\n\u001b[0;32m    206\u001b[0m     \u001b[1;32mdef\u001b[0m \u001b[0mapply_async\u001b[0m\u001b[1;33m(\u001b[0m\u001b[0mself\u001b[0m\u001b[1;33m,\u001b[0m \u001b[0mfunc\u001b[0m\u001b[1;33m,\u001b[0m \u001b[0mcallback\u001b[0m\u001b[1;33m=\u001b[0m\u001b[1;32mNone\u001b[0m\u001b[1;33m)\u001b[0m\u001b[1;33m:\u001b[0m\u001b[1;33m\u001b[0m\u001b[1;33m\u001b[0m\u001b[0m\n\u001b[0;32m    207\u001b[0m         \u001b[1;34m\"\"\"Schedule a func to be run\"\"\"\u001b[0m\u001b[1;33m\u001b[0m\u001b[1;33m\u001b[0m\u001b[0m\n\u001b[1;32m--> 208\u001b[1;33m         \u001b[0mresult\u001b[0m \u001b[1;33m=\u001b[0m \u001b[0mImmediateResult\u001b[0m\u001b[1;33m(\u001b[0m\u001b[0mfunc\u001b[0m\u001b[1;33m)\u001b[0m\u001b[1;33m\u001b[0m\u001b[1;33m\u001b[0m\u001b[0m\n\u001b[0m\u001b[0;32m    209\u001b[0m         \u001b[1;32mif\u001b[0m \u001b[0mcallback\u001b[0m\u001b[1;33m:\u001b[0m\u001b[1;33m\u001b[0m\u001b[1;33m\u001b[0m\u001b[0m\n\u001b[0;32m    210\u001b[0m             \u001b[0mcallback\u001b[0m\u001b[1;33m(\u001b[0m\u001b[0mresult\u001b[0m\u001b[1;33m)\u001b[0m\u001b[1;33m\u001b[0m\u001b[1;33m\u001b[0m\u001b[0m\n",
      "\u001b[1;32m~\\anaconda3\\lib\\site-packages\\joblib\\_parallel_backends.py\u001b[0m in \u001b[0;36m__init__\u001b[1;34m(self, batch)\u001b[0m\n\u001b[0;32m    570\u001b[0m         \u001b[1;31m# Don't delay the application, to avoid keeping the input\u001b[0m\u001b[1;33m\u001b[0m\u001b[1;33m\u001b[0m\u001b[0m\n\u001b[0;32m    571\u001b[0m         \u001b[1;31m# arguments in memory\u001b[0m\u001b[1;33m\u001b[0m\u001b[1;33m\u001b[0m\u001b[0m\n\u001b[1;32m--> 572\u001b[1;33m         \u001b[0mself\u001b[0m\u001b[1;33m.\u001b[0m\u001b[0mresults\u001b[0m \u001b[1;33m=\u001b[0m \u001b[0mbatch\u001b[0m\u001b[1;33m(\u001b[0m\u001b[1;33m)\u001b[0m\u001b[1;33m\u001b[0m\u001b[1;33m\u001b[0m\u001b[0m\n\u001b[0m\u001b[0;32m    573\u001b[0m \u001b[1;33m\u001b[0m\u001b[0m\n\u001b[0;32m    574\u001b[0m     \u001b[1;32mdef\u001b[0m \u001b[0mget\u001b[0m\u001b[1;33m(\u001b[0m\u001b[0mself\u001b[0m\u001b[1;33m)\u001b[0m\u001b[1;33m:\u001b[0m\u001b[1;33m\u001b[0m\u001b[1;33m\u001b[0m\u001b[0m\n",
      "\u001b[1;32m~\\anaconda3\\lib\\site-packages\\joblib\\parallel.py\u001b[0m in \u001b[0;36m__call__\u001b[1;34m(self)\u001b[0m\n\u001b[0;32m    260\u001b[0m         \u001b[1;31m# change the default number of processes to -1\u001b[0m\u001b[1;33m\u001b[0m\u001b[1;33m\u001b[0m\u001b[0m\n\u001b[0;32m    261\u001b[0m         \u001b[1;32mwith\u001b[0m \u001b[0mparallel_backend\u001b[0m\u001b[1;33m(\u001b[0m\u001b[0mself\u001b[0m\u001b[1;33m.\u001b[0m\u001b[0m_backend\u001b[0m\u001b[1;33m,\u001b[0m \u001b[0mn_jobs\u001b[0m\u001b[1;33m=\u001b[0m\u001b[0mself\u001b[0m\u001b[1;33m.\u001b[0m\u001b[0m_n_jobs\u001b[0m\u001b[1;33m)\u001b[0m\u001b[1;33m:\u001b[0m\u001b[1;33m\u001b[0m\u001b[1;33m\u001b[0m\u001b[0m\n\u001b[1;32m--> 262\u001b[1;33m             return [func(*args, **kwargs)\n\u001b[0m\u001b[0;32m    263\u001b[0m                     for func, args, kwargs in self.items]\n\u001b[0;32m    264\u001b[0m \u001b[1;33m\u001b[0m\u001b[0m\n",
      "\u001b[1;32m~\\anaconda3\\lib\\site-packages\\joblib\\parallel.py\u001b[0m in \u001b[0;36m<listcomp>\u001b[1;34m(.0)\u001b[0m\n\u001b[0;32m    260\u001b[0m         \u001b[1;31m# change the default number of processes to -1\u001b[0m\u001b[1;33m\u001b[0m\u001b[1;33m\u001b[0m\u001b[0m\n\u001b[0;32m    261\u001b[0m         \u001b[1;32mwith\u001b[0m \u001b[0mparallel_backend\u001b[0m\u001b[1;33m(\u001b[0m\u001b[0mself\u001b[0m\u001b[1;33m.\u001b[0m\u001b[0m_backend\u001b[0m\u001b[1;33m,\u001b[0m \u001b[0mn_jobs\u001b[0m\u001b[1;33m=\u001b[0m\u001b[0mself\u001b[0m\u001b[1;33m.\u001b[0m\u001b[0m_n_jobs\u001b[0m\u001b[1;33m)\u001b[0m\u001b[1;33m:\u001b[0m\u001b[1;33m\u001b[0m\u001b[1;33m\u001b[0m\u001b[0m\n\u001b[1;32m--> 262\u001b[1;33m             return [func(*args, **kwargs)\n\u001b[0m\u001b[0;32m    263\u001b[0m                     for func, args, kwargs in self.items]\n\u001b[0;32m    264\u001b[0m \u001b[1;33m\u001b[0m\u001b[0m\n",
      "\u001b[1;32m~\\anaconda3\\lib\\site-packages\\sklearn\\utils\\fixes.py\u001b[0m in \u001b[0;36m__call__\u001b[1;34m(self, *args, **kwargs)\u001b[0m\n\u001b[0;32m    220\u001b[0m     \u001b[1;32mdef\u001b[0m \u001b[0m__call__\u001b[0m\u001b[1;33m(\u001b[0m\u001b[0mself\u001b[0m\u001b[1;33m,\u001b[0m \u001b[1;33m*\u001b[0m\u001b[0margs\u001b[0m\u001b[1;33m,\u001b[0m \u001b[1;33m**\u001b[0m\u001b[0mkwargs\u001b[0m\u001b[1;33m)\u001b[0m\u001b[1;33m:\u001b[0m\u001b[1;33m\u001b[0m\u001b[1;33m\u001b[0m\u001b[0m\n\u001b[0;32m    221\u001b[0m         \u001b[1;32mwith\u001b[0m \u001b[0mconfig_context\u001b[0m\u001b[1;33m(\u001b[0m\u001b[1;33m**\u001b[0m\u001b[0mself\u001b[0m\u001b[1;33m.\u001b[0m\u001b[0mconfig\u001b[0m\u001b[1;33m)\u001b[0m\u001b[1;33m:\u001b[0m\u001b[1;33m\u001b[0m\u001b[1;33m\u001b[0m\u001b[0m\n\u001b[1;32m--> 222\u001b[1;33m             \u001b[1;32mreturn\u001b[0m \u001b[0mself\u001b[0m\u001b[1;33m.\u001b[0m\u001b[0mfunction\u001b[0m\u001b[1;33m(\u001b[0m\u001b[1;33m*\u001b[0m\u001b[0margs\u001b[0m\u001b[1;33m,\u001b[0m \u001b[1;33m**\u001b[0m\u001b[0mkwargs\u001b[0m\u001b[1;33m)\u001b[0m\u001b[1;33m\u001b[0m\u001b[1;33m\u001b[0m\u001b[0m\n\u001b[0m",
      "\u001b[1;32m~\\anaconda3\\lib\\site-packages\\sklearn\\ensemble\\_forest.py\u001b[0m in \u001b[0;36m_parallel_build_trees\u001b[1;34m(tree, forest, X, y, sample_weight, tree_idx, n_trees, verbose, class_weight, n_samples_bootstrap)\u001b[0m\n\u001b[0;32m    167\u001b[0m                                                         indices=indices)\n\u001b[0;32m    168\u001b[0m \u001b[1;33m\u001b[0m\u001b[0m\n\u001b[1;32m--> 169\u001b[1;33m         \u001b[0mtree\u001b[0m\u001b[1;33m.\u001b[0m\u001b[0mfit\u001b[0m\u001b[1;33m(\u001b[0m\u001b[0mX\u001b[0m\u001b[1;33m,\u001b[0m \u001b[0my\u001b[0m\u001b[1;33m,\u001b[0m \u001b[0msample_weight\u001b[0m\u001b[1;33m=\u001b[0m\u001b[0mcurr_sample_weight\u001b[0m\u001b[1;33m,\u001b[0m \u001b[0mcheck_input\u001b[0m\u001b[1;33m=\u001b[0m\u001b[1;32mFalse\u001b[0m\u001b[1;33m)\u001b[0m\u001b[1;33m\u001b[0m\u001b[1;33m\u001b[0m\u001b[0m\n\u001b[0m\u001b[0;32m    170\u001b[0m     \u001b[1;32melse\u001b[0m\u001b[1;33m:\u001b[0m\u001b[1;33m\u001b[0m\u001b[1;33m\u001b[0m\u001b[0m\n\u001b[0;32m    171\u001b[0m         \u001b[0mtree\u001b[0m\u001b[1;33m.\u001b[0m\u001b[0mfit\u001b[0m\u001b[1;33m(\u001b[0m\u001b[0mX\u001b[0m\u001b[1;33m,\u001b[0m \u001b[0my\u001b[0m\u001b[1;33m,\u001b[0m \u001b[0msample_weight\u001b[0m\u001b[1;33m=\u001b[0m\u001b[0msample_weight\u001b[0m\u001b[1;33m,\u001b[0m \u001b[0mcheck_input\u001b[0m\u001b[1;33m=\u001b[0m\u001b[1;32mFalse\u001b[0m\u001b[1;33m)\u001b[0m\u001b[1;33m\u001b[0m\u001b[1;33m\u001b[0m\u001b[0m\n",
      "\u001b[1;32m~\\anaconda3\\lib\\site-packages\\sklearn\\tree\\_classes.py\u001b[0m in \u001b[0;36mfit\u001b[1;34m(self, X, y, sample_weight, check_input, X_idx_sorted)\u001b[0m\n\u001b[0;32m    901\u001b[0m         \"\"\"\n\u001b[0;32m    902\u001b[0m \u001b[1;33m\u001b[0m\u001b[0m\n\u001b[1;32m--> 903\u001b[1;33m         super().fit(\n\u001b[0m\u001b[0;32m    904\u001b[0m             \u001b[0mX\u001b[0m\u001b[1;33m,\u001b[0m \u001b[0my\u001b[0m\u001b[1;33m,\u001b[0m\u001b[1;33m\u001b[0m\u001b[1;33m\u001b[0m\u001b[0m\n\u001b[0;32m    905\u001b[0m             \u001b[0msample_weight\u001b[0m\u001b[1;33m=\u001b[0m\u001b[0msample_weight\u001b[0m\u001b[1;33m,\u001b[0m\u001b[1;33m\u001b[0m\u001b[1;33m\u001b[0m\u001b[0m\n",
      "\u001b[1;32m~\\anaconda3\\lib\\site-packages\\sklearn\\tree\\_classes.py\u001b[0m in \u001b[0;36mfit\u001b[1;34m(self, X, y, sample_weight, check_input, X_idx_sorted)\u001b[0m\n\u001b[0;32m    392\u001b[0m                                            min_impurity_split)\n\u001b[0;32m    393\u001b[0m \u001b[1;33m\u001b[0m\u001b[0m\n\u001b[1;32m--> 394\u001b[1;33m         \u001b[0mbuilder\u001b[0m\u001b[1;33m.\u001b[0m\u001b[0mbuild\u001b[0m\u001b[1;33m(\u001b[0m\u001b[0mself\u001b[0m\u001b[1;33m.\u001b[0m\u001b[0mtree_\u001b[0m\u001b[1;33m,\u001b[0m \u001b[0mX\u001b[0m\u001b[1;33m,\u001b[0m \u001b[0my\u001b[0m\u001b[1;33m,\u001b[0m \u001b[0msample_weight\u001b[0m\u001b[1;33m)\u001b[0m\u001b[1;33m\u001b[0m\u001b[1;33m\u001b[0m\u001b[0m\n\u001b[0m\u001b[0;32m    395\u001b[0m \u001b[1;33m\u001b[0m\u001b[0m\n\u001b[0;32m    396\u001b[0m         \u001b[1;32mif\u001b[0m \u001b[0mself\u001b[0m\u001b[1;33m.\u001b[0m\u001b[0mn_outputs_\u001b[0m \u001b[1;33m==\u001b[0m \u001b[1;36m1\u001b[0m \u001b[1;32mand\u001b[0m \u001b[0mis_classifier\u001b[0m\u001b[1;33m(\u001b[0m\u001b[0mself\u001b[0m\u001b[1;33m)\u001b[0m\u001b[1;33m:\u001b[0m\u001b[1;33m\u001b[0m\u001b[1;33m\u001b[0m\u001b[0m\n",
      "\u001b[1;31mKeyboardInterrupt\u001b[0m: "
     ]
    }
   ],
   "source": [
    "from sklearn.model_selection import GridSearchCV\n",
    "from sklearn.datasets import make_classification\n",
    "from sklearn.ensemble import RandomForestClassifier\n",
    "rfc=RandomForestClassifier()\n",
    "\n",
    "forest_params = [{'max_depth': list(range(10, 15)), 'max_features': list(range(0,14))}]\n",
    "\n",
    "clf = GridSearchCV(rfc, forest_params, cv=9, scoring='accuracy')\n",
    "\n",
    "clf.fit(train_x,train_y)\n",
    "    \n",
    "print(clf.best_params_)"
   ]
  },
  {
   "cell_type": "markdown",
   "id": "5eea6e7c",
   "metadata": {},
   "source": [
    "Best parameters for RandomForestClassifier"
   ]
  },
  {
   "cell_type": "code",
   "execution_count": null,
   "id": "80fd98e5",
   "metadata": {},
   "outputs": [],
   "source": [
    "rfc= RandomForestClassifier(max_depth=14,max_features=13)\n",
    "rfc.fit(train_x,train_y)\n",
    "rfc.score(train_x,train_y)"
   ]
  },
  {
   "cell_type": "code",
   "execution_count": null,
   "id": "eb2d1712",
   "metadata": {},
   "outputs": [],
   "source": [
    "#Predicted value\n",
    "pred = rfc.predict(test_x)\n",
    "from sklearn.metrics import accuracy_score, confusion_matrix\n",
    "accuracy=accuracy_score(test_y,pred)\n",
    "confusion=confusion_matrix(test_y,pred)\n",
    "print(\"Accuracy of the model is: \",accuracy)\n",
    "print(\"Confusion Matrix: \", confusion)"
   ]
  },
  {
   "cell_type": "markdown",
   "id": "b40f29f5",
   "metadata": {},
   "source": [
    "Accuracy of the model is: 85.2%"
   ]
  },
  {
   "cell_type": "code",
   "execution_count": null,
   "id": "de05dc45",
   "metadata": {},
   "outputs": [],
   "source": [
    "rfscore = cross_val_score(rfc,x1,y1,cv=9)\n",
    "rfs = rfscore.mean()\n",
    "print('Cross Val Score:',rfs*100)"
   ]
  },
  {
   "cell_type": "markdown",
   "id": "0af4d6bb",
   "metadata": {},
   "source": [
    "Cross Val Score:85.3%"
   ]
  },
  {
   "cell_type": "markdown",
   "id": "de16a2e5",
   "metadata": {},
   "source": [
    "## 4. KNeighbors Classifier"
   ]
  },
  {
   "cell_type": "code",
   "execution_count": 96,
   "id": "94f6e7ab",
   "metadata": {},
   "outputs": [
    {
     "name": "stdout",
     "output_type": "stream",
     "text": [
      "{'algorithm': 'auto', 'n_neighbors': 1, 'weights': 'uniform'}\n"
     ]
    }
   ],
   "source": [
    "from sklearn.neighbors import KNeighborsClassifier\n",
    "from sklearn.model_selection import GridSearchCV\n",
    "from sklearn.datasets import make_classification\n",
    "\n",
    "knc=KNeighborsClassifier()\n",
    "\n",
    "parameters = {'n_neighbors':list(range(0,10)),\n",
    "              'weights':['uniform', 'distance'],\n",
    "              'algorithm':['auto', 'ball_tree', 'kd_tree', 'brute']\n",
    "              }\n",
    "\n",
    "clf = GridSearchCV(knc, parameters, cv=9, scoring='accuracy')\n",
    "\n",
    "clf.fit(train_x,train_y)\n",
    "    \n",
    "print(clf.best_params_)"
   ]
  },
  {
   "cell_type": "markdown",
   "id": "bace57c2",
   "metadata": {},
   "source": [
    "Best parameters for KNeighborsClassifier"
   ]
  },
  {
   "cell_type": "code",
   "execution_count": 98,
   "id": "b60994da",
   "metadata": {},
   "outputs": [
    {
     "data": {
      "text/plain": [
       "1.0"
      ]
     },
     "execution_count": 98,
     "metadata": {},
     "output_type": "execute_result"
    }
   ],
   "source": [
    "knc= KNeighborsClassifier(algorithm='auto',n_neighbors=1,weights='uniform')\n",
    "knc.fit(train_x,train_y)\n",
    "knc.score(train_x,train_y)"
   ]
  },
  {
   "cell_type": "code",
   "execution_count": 99,
   "id": "59571b06",
   "metadata": {},
   "outputs": [
    {
     "name": "stdout",
     "output_type": "stream",
     "text": [
      "Accuracy of the model is:  0.8162514156285391\n",
      "Confusion Matrix:  [[65  0  0 ...  0  0  0]\n",
      " [ 0 38  0 ...  0  0  0]\n",
      " [ 0  0 68 ...  0  0  0]\n",
      " ...\n",
      " [ 0  0  0 ... 37  0  0]\n",
      " [ 0  0  0 ...  0 49  0]\n",
      " [ 0  0  1 ...  0  0 61]]\n"
     ]
    }
   ],
   "source": [
    "#Predicted value\n",
    "pred = knc.predict(test_x)\n",
    "from sklearn.metrics import accuracy_score, confusion_matrix\n",
    "accuracy=accuracy_score(test_y,pred)\n",
    "confusion=confusion_matrix(test_y,pred)\n",
    "print(\"Accuracy of the model is: \",accuracy)\n",
    "print(\"Confusion Matrix: \", confusion)"
   ]
  },
  {
   "cell_type": "markdown",
   "id": "095e08c9",
   "metadata": {},
   "source": [
    "Accuracy of the model is: 81.6%"
   ]
  },
  {
   "cell_type": "code",
   "execution_count": 101,
   "id": "aeade25e",
   "metadata": {},
   "outputs": [
    {
     "name": "stdout",
     "output_type": "stream",
     "text": [
      "Cross Val Score: 44.599786456985264\n"
     ]
    }
   ],
   "source": [
    "knscore = cross_val_score(knc,x1,y1,cv=5)\n",
    "kns = knscore.mean()\n",
    "print('Cross Val Score:',kns*100)"
   ]
  },
  {
   "cell_type": "markdown",
   "id": "3044eb38",
   "metadata": {},
   "source": [
    "Cross Val Score:44.5%"
   ]
  },
  {
   "cell_type": "markdown",
   "id": "4c8e6afb",
   "metadata": {},
   "source": [
    "Best Model is SV classifier"
   ]
  },
  {
   "cell_type": "markdown",
   "id": "4a6061f5",
   "metadata": {},
   "source": [
    "# Model saving:"
   ]
  },
  {
   "cell_type": "code",
   "execution_count": 104,
   "id": "8ccdafe2",
   "metadata": {},
   "outputs": [],
   "source": [
    "import pickle\n",
    "filename = 'AvacadoC.pkl'\n",
    "pickle.dump(svc, open(filename, 'wb'))"
   ]
  },
  {
   "cell_type": "markdown",
   "id": "ce5cee07",
   "metadata": {},
   "source": [
    "## Accuracy:"
   ]
  },
  {
   "cell_type": "code",
   "execution_count": 105,
   "id": "a357d670",
   "metadata": {},
   "outputs": [
    {
     "name": "stdout",
     "output_type": "stream",
     "text": [
      "0.8267270668176671\n"
     ]
    }
   ],
   "source": [
    "loaded_model = pickle.load(open('AvacadoC.pkl', 'rb'))\n",
    "result = loaded_model.score(test_x, test_y)\n",
    "print(result)"
   ]
  },
  {
   "cell_type": "markdown",
   "id": "fb0264f9",
   "metadata": {},
   "source": [
    "Accuracy of 82.6% so model performing well"
   ]
  },
  {
   "cell_type": "markdown",
   "id": "401ab30a",
   "metadata": {},
   "source": [
    "## Conclusion:"
   ]
  },
  {
   "cell_type": "code",
   "execution_count": 106,
   "id": "495bafaf",
   "metadata": {},
   "outputs": [
    {
     "data": {
      "text/html": [
       "<div>\n",
       "<style scoped>\n",
       "    .dataframe tbody tr th:only-of-type {\n",
       "        vertical-align: middle;\n",
       "    }\n",
       "\n",
       "    .dataframe tbody tr th {\n",
       "        vertical-align: top;\n",
       "    }\n",
       "\n",
       "    .dataframe thead th {\n",
       "        text-align: right;\n",
       "    }\n",
       "</style>\n",
       "<table border=\"1\" class=\"dataframe\">\n",
       "  <thead>\n",
       "    <tr style=\"text-align: right;\">\n",
       "      <th></th>\n",
       "      <th>original</th>\n",
       "      <th>predicted</th>\n",
       "    </tr>\n",
       "  </thead>\n",
       "  <tbody>\n",
       "    <tr>\n",
       "      <th>0</th>\n",
       "      <td>24</td>\n",
       "      <td>24</td>\n",
       "    </tr>\n",
       "    <tr>\n",
       "      <th>1</th>\n",
       "      <td>0</td>\n",
       "      <td>0</td>\n",
       "    </tr>\n",
       "    <tr>\n",
       "      <th>2</th>\n",
       "      <td>23</td>\n",
       "      <td>23</td>\n",
       "    </tr>\n",
       "    <tr>\n",
       "      <th>3</th>\n",
       "      <td>21</td>\n",
       "      <td>44</td>\n",
       "    </tr>\n",
       "    <tr>\n",
       "      <th>4</th>\n",
       "      <td>9</td>\n",
       "      <td>9</td>\n",
       "    </tr>\n",
       "    <tr>\n",
       "      <th>...</th>\n",
       "      <td>...</td>\n",
       "      <td>...</td>\n",
       "    </tr>\n",
       "    <tr>\n",
       "      <th>3527</th>\n",
       "      <td>5</td>\n",
       "      <td>5</td>\n",
       "    </tr>\n",
       "    <tr>\n",
       "      <th>3528</th>\n",
       "      <td>41</td>\n",
       "      <td>14</td>\n",
       "    </tr>\n",
       "    <tr>\n",
       "      <th>3529</th>\n",
       "      <td>21</td>\n",
       "      <td>21</td>\n",
       "    </tr>\n",
       "    <tr>\n",
       "      <th>3530</th>\n",
       "      <td>40</td>\n",
       "      <td>40</td>\n",
       "    </tr>\n",
       "    <tr>\n",
       "      <th>3531</th>\n",
       "      <td>15</td>\n",
       "      <td>15</td>\n",
       "    </tr>\n",
       "  </tbody>\n",
       "</table>\n",
       "<p>3532 rows × 2 columns</p>\n",
       "</div>"
      ],
      "text/plain": [
       "      original  predicted\n",
       "0           24         24\n",
       "1            0          0\n",
       "2           23         23\n",
       "3           21         44\n",
       "4            9          9\n",
       "...        ...        ...\n",
       "3527         5          5\n",
       "3528        41         14\n",
       "3529        21         21\n",
       "3530        40         40\n",
       "3531        15         15\n",
       "\n",
       "[3532 rows x 2 columns]"
      ]
     },
     "execution_count": 106,
     "metadata": {},
     "output_type": "execute_result"
    }
   ],
   "source": [
    "import numpy as np\n",
    "a=np.array(test_y)\n",
    "pred_decision =np.array(svc.predict(test_x))\n",
    "df_com=pd.DataFrame({\"original\":a, \"predicted\": pred},index=range(len(a)))\n",
    "df_com"
   ]
  },
  {
   "cell_type": "markdown",
   "id": "2d3a8b68",
   "metadata": {},
   "source": [
    "Predicted value are approx of actual value"
   ]
  },
  {
   "cell_type": "markdown",
   "id": "65bff70e",
   "metadata": {},
   "source": [
    "# II. Regression:"
   ]
  },
  {
   "cell_type": "markdown",
   "id": "6549f450",
   "metadata": {},
   "source": [
    "## Linear Regression:"
   ]
  },
  {
   "cell_type": "code",
   "execution_count": 35,
   "id": "b47c16be",
   "metadata": {},
   "outputs": [],
   "source": [
    "from sklearn.metrics import r2_score \n",
    "from sklearn.linear_model import LinearRegression\n",
    "lr=LinearRegression()\n",
    "from sklearn.metrics import mean_squared_error,mean_absolute_error\n",
    "from sklearn.metrics import accuracy_score\n",
    "from sklearn.model_selection import train_test_split\n",
    "\n",
    "import warnings\n",
    "warnings.filterwarnings('ignore')"
   ]
  },
  {
   "cell_type": "code",
   "execution_count": 36,
   "id": "51f90c4a",
   "metadata": {},
   "outputs": [
    {
     "name": "stdout",
     "output_type": "stream",
     "text": [
      "At random state 0,the training accuracy is:- 0.522058478163498\n",
      "At random state 0,the testing accuracy is:- 0.5207835194286898\n",
      "\n",
      "\n",
      "At random state 1,the training accuracy is:- 0.5194771841643024\n",
      "At random state 1,the testing accuracy is:- 0.531007431221897\n",
      "\n",
      "\n",
      "At random state 2,the training accuracy is:- 0.5256571757734928\n",
      "At random state 2,the testing accuracy is:- 0.506096518032257\n",
      "\n",
      "\n",
      "At random state 3,the training accuracy is:- 0.5183970266893327\n",
      "At random state 3,the testing accuracy is:- 0.5356101650101399\n",
      "\n",
      "\n",
      "At random state 4,the training accuracy is:- 0.5200935268538274\n",
      "At random state 4,the testing accuracy is:- 0.5284744552989584\n",
      "\n",
      "\n",
      "At random state 5,the training accuracy is:- 0.5216180498143077\n",
      "At random state 5,the testing accuracy is:- 0.5221335525478763\n",
      "\n",
      "\n",
      "At random state 6,the training accuracy is:- 0.5195356505643416\n",
      "At random state 6,the testing accuracy is:- 0.530300654256973\n",
      "\n",
      "\n",
      "At random state 7,the training accuracy is:- 0.5208223476727621\n",
      "At random state 7,the testing accuracy is:- 0.5258588569489973\n",
      "\n",
      "\n",
      "At random state 8,the training accuracy is:- 0.5235654972290601\n",
      "At random state 8,the testing accuracy is:- 0.5147391601835589\n",
      "\n",
      "\n",
      "At random state 9,the training accuracy is:- 0.5234914570684266\n",
      "At random state 9,the testing accuracy is:- 0.5149246622690744\n",
      "\n",
      "\n",
      "At random state 10,the training accuracy is:- 0.5202300785824651\n",
      "At random state 10,the testing accuracy is:- 0.5279719870904676\n",
      "\n",
      "\n",
      "At random state 11,the training accuracy is:- 0.5215080504396551\n",
      "At random state 11,the testing accuracy is:- 0.5230160874461711\n",
      "\n",
      "\n",
      "At random state 12,the training accuracy is:- 0.5162882856507973\n",
      "At random state 12,the testing accuracy is:- 0.543711863078574\n",
      "\n",
      "\n",
      "At random state 13,the training accuracy is:- 0.5194185259011319\n",
      "At random state 13,the testing accuracy is:- 0.531062603389021\n",
      "\n",
      "\n",
      "At random state 14,the training accuracy is:- 0.518937692320509\n",
      "At random state 14,the testing accuracy is:- 0.5328368381175481\n",
      "\n",
      "\n",
      "At random state 15,the training accuracy is:- 0.5235326568099192\n",
      "At random state 15,the testing accuracy is:- 0.5146638733502423\n",
      "\n",
      "\n",
      "At random state 16,the training accuracy is:- 0.5203404527885696\n",
      "At random state 16,the testing accuracy is:- 0.5269586343200336\n",
      "\n",
      "\n",
      "At random state 17,the training accuracy is:- 0.5197167272664421\n",
      "At random state 17,the testing accuracy is:- 0.5301544158489404\n",
      "\n",
      "\n",
      "At random state 18,the training accuracy is:- 0.5217370855571273\n",
      "At random state 18,the testing accuracy is:- 0.5210285469960643\n",
      "\n",
      "\n",
      "At random state 19,the training accuracy is:- 0.5237947424303177\n",
      "At random state 19,the testing accuracy is:- 0.5136294532073361\n",
      "\n",
      "\n",
      "At random state 20,the training accuracy is:- 0.5201570799620769\n",
      "At random state 20,the testing accuracy is:- 0.5285212530926329\n",
      "\n",
      "\n",
      "At random state 21,the training accuracy is:- 0.5236360648842469\n",
      "At random state 21,the testing accuracy is:- 0.5138498460629717\n",
      "\n",
      "\n",
      "At random state 22,the training accuracy is:- 0.5200732869866438\n",
      "At random state 22,the testing accuracy is:- 0.5285143955704348\n",
      "\n",
      "\n",
      "At random state 23,the training accuracy is:- 0.5212866284323168\n",
      "At random state 23,the testing accuracy is:- 0.5237512993873721\n",
      "\n",
      "\n",
      "At random state 24,the training accuracy is:- 0.5237762582185309\n",
      "At random state 24,the testing accuracy is:- 0.5136108893819653\n",
      "\n",
      "\n",
      "At random state 25,the training accuracy is:- 0.5201568672846902\n",
      "At random state 25,the testing accuracy is:- 0.5285187435361183\n",
      "\n",
      "\n",
      "At random state 26,the training accuracy is:- 0.5240682765516378\n",
      "At random state 26,the testing accuracy is:- 0.5126223231859739\n",
      "\n",
      "\n",
      "At random state 27,the training accuracy is:- 0.5240010701539783\n",
      "At random state 27,the testing accuracy is:- 0.5126292915881723\n",
      "\n",
      "\n",
      "At random state 28,the training accuracy is:- 0.516643913735978\n",
      "At random state 28,the testing accuracy is:- 0.5421482010691583\n",
      "\n",
      "\n",
      "At random state 29,the training accuracy is:- 0.5193255719991381\n",
      "At random state 29,the testing accuracy is:- 0.5309512507920516\n",
      "\n",
      "\n",
      "At random state 30,the training accuracy is:- 0.5228636281883148\n",
      "At random state 30,the testing accuracy is:- 0.5176203331554902\n",
      "\n",
      "\n",
      "At random state 31,the training accuracy is:- 0.5204732299685029\n",
      "At random state 31,the testing accuracy is:- 0.5272284208058899\n",
      "\n",
      "\n",
      "At random state 32,the training accuracy is:- 0.5214165320694217\n",
      "At random state 32,the testing accuracy is:- 0.5234575768342831\n",
      "\n",
      "\n",
      "At random state 33,the training accuracy is:- 0.5245780527913001\n",
      "At random state 33,the testing accuracy is:- 0.5105763145985287\n",
      "\n",
      "\n",
      "At random state 34,the training accuracy is:- 0.5250758922415403\n",
      "At random state 34,the testing accuracy is:- 0.5082224977363042\n",
      "\n",
      "\n",
      "At random state 35,the training accuracy is:- 0.523393552940908\n",
      "At random state 35,the testing accuracy is:- 0.5154000359181593\n",
      "\n",
      "\n",
      "At random state 36,the training accuracy is:- 0.5223964092352544\n",
      "At random state 36,the testing accuracy is:- 0.5195760725143528\n",
      "\n",
      "\n",
      "At random state 37,the training accuracy is:- 0.5249176965417206\n",
      "At random state 37,the testing accuracy is:- 0.5090212398685175\n",
      "\n",
      "\n",
      "At random state 38,the training accuracy is:- 0.5227502793916772\n",
      "At random state 38,the testing accuracy is:- 0.5175005931474346\n",
      "\n",
      "\n",
      "At random state 39,the training accuracy is:- 0.5248708618990223\n",
      "At random state 39,the testing accuracy is:- 0.5087905247062768\n",
      "\n",
      "\n",
      "At random state 40,the training accuracy is:- 0.5257535338985286\n",
      "At random state 40,the testing accuracy is:- 0.5047066018004385\n",
      "\n",
      "\n",
      "At random state 41,the training accuracy is:- 0.5240435952832656\n",
      "At random state 41,the testing accuracy is:- 0.5125220775466045\n",
      "\n",
      "\n",
      "At random state 42,the training accuracy is:- 0.519335304240157\n",
      "At random state 42,the testing accuracy is:- 0.5317148448006319\n",
      "\n",
      "\n",
      "At random state 43,the training accuracy is:- 0.519332217759993\n",
      "At random state 43,the testing accuracy is:- 0.5313034928826939\n",
      "\n",
      "\n",
      "At random state 44,the training accuracy is:- 0.5259891514708381\n",
      "At random state 44,the testing accuracy is:- 0.5044824628730888\n",
      "\n",
      "\n",
      "At random state 45,the training accuracy is:- 0.5204188478043232\n",
      "At random state 45,the testing accuracy is:- 0.5273431387574603\n",
      "\n",
      "\n",
      "At random state 46,the training accuracy is:- 0.5232077126432517\n",
      "At random state 46,the testing accuracy is:- 0.5159816325960729\n",
      "\n",
      "\n",
      "At random state 47,the training accuracy is:- 0.5234908724940623\n",
      "At random state 47,the testing accuracy is:- 0.5147090421806081\n",
      "\n",
      "\n",
      "At random state 48,the training accuracy is:- 0.521937851438109\n",
      "At random state 48,the testing accuracy is:- 0.521471146125569\n",
      "\n",
      "\n",
      "At random state 49,the training accuracy is:- 0.5219833078735405\n",
      "At random state 49,the testing accuracy is:- 0.5212456413276624\n",
      "\n",
      "\n",
      "At random state 50,the training accuracy is:- 0.5214948002667189\n",
      "At random state 50,the testing accuracy is:- 0.5227162890315481\n",
      "\n",
      "\n",
      "At random state 51,the training accuracy is:- 0.5235942448847302\n",
      "At random state 51,the testing accuracy is:- 0.5148936570679208\n",
      "\n",
      "\n",
      "At random state 52,the training accuracy is:- 0.5246160916870066\n",
      "At random state 52,the testing accuracy is:- 0.5100623798763704\n",
      "\n",
      "\n",
      "At random state 53,the training accuracy is:- 0.522879603789628\n",
      "At random state 53,the testing accuracy is:- 0.5175955584295497\n",
      "\n",
      "\n",
      "At random state 54,the training accuracy is:- 0.522447295432215\n",
      "At random state 54,the testing accuracy is:- 0.5190338477662384\n",
      "\n",
      "\n",
      "At random state 55,the training accuracy is:- 0.5205322885522783\n",
      "At random state 55,the testing accuracy is:- 0.526204461442187\n",
      "\n",
      "\n",
      "At random state 56,the training accuracy is:- 0.5195272669934838\n",
      "At random state 56,the testing accuracy is:- 0.5305044661828975\n",
      "\n",
      "\n",
      "At random state 57,the training accuracy is:- 0.5176962958658013\n",
      "At random state 57,the testing accuracy is:- 0.5381521932093425\n",
      "\n",
      "\n",
      "At random state 58,the training accuracy is:- 0.521057266538203\n",
      "At random state 58,the testing accuracy is:- 0.5248139223605959\n",
      "\n",
      "\n",
      "At random state 59,the training accuracy is:- 0.5262564214677881\n",
      "At random state 59,the testing accuracy is:- 0.5031319023948391\n",
      "\n",
      "\n",
      "At random state 60,the training accuracy is:- 0.5216570897922637\n",
      "At random state 60,the testing accuracy is:- 0.5221128298603372\n",
      "\n",
      "\n",
      "At random state 61,the training accuracy is:- 0.523999387171475\n",
      "At random state 61,the testing accuracy is:- 0.513031346278003\n",
      "\n",
      "\n",
      "At random state 62,the training accuracy is:- 0.5219909544445782\n",
      "At random state 62,the testing accuracy is:- 0.5212178612282674\n",
      "\n",
      "\n",
      "At random state 63,the training accuracy is:- 0.520981155353294\n",
      "At random state 63,the testing accuracy is:- 0.5252511975061089\n",
      "\n",
      "\n",
      "At random state 64,the training accuracy is:- 0.5217802958819602\n",
      "At random state 64,the testing accuracy is:- 0.5216739548053045\n",
      "\n",
      "\n",
      "At random state 65,the training accuracy is:- 0.5246228865341789\n",
      "At random state 65,the testing accuracy is:- 0.5103515718259952\n",
      "\n",
      "\n",
      "At random state 66,the training accuracy is:- 0.5198188664114097\n",
      "At random state 66,the testing accuracy is:- 0.5294936187433879\n",
      "\n",
      "\n",
      "At random state 67,the training accuracy is:- 0.5200109423749222\n",
      "At random state 67,the testing accuracy is:- 0.5286167858012283\n",
      "\n",
      "\n",
      "At random state 68,the training accuracy is:- 0.5221050532770122\n",
      "At random state 68,the testing accuracy is:- 0.5206762151494297\n",
      "\n",
      "\n",
      "At random state 69,the training accuracy is:- 0.5191194440751696\n",
      "At random state 69,the testing accuracy is:- 0.5319705288419793\n",
      "\n",
      "\n",
      "At random state 70,the training accuracy is:- 0.5225165305866\n",
      "At random state 70,the testing accuracy is:- 0.5188481897748446\n",
      "\n",
      "\n",
      "At random state 71,the training accuracy is:- 0.5221543626672758\n",
      "At random state 71,the testing accuracy is:- 0.5203810007178351\n",
      "\n",
      "\n",
      "At random state 72,the training accuracy is:- 0.5182059411973232\n",
      "At random state 72,the testing accuracy is:- 0.5354243269880807\n",
      "\n",
      "\n",
      "At random state 73,the training accuracy is:- 0.5205739084174943\n",
      "At random state 73,the testing accuracy is:- 0.5269868735901406\n",
      "\n",
      "\n",
      "At random state 74,the training accuracy is:- 0.52404955058001\n",
      "At random state 74,the testing accuracy is:- 0.5128412951719379\n",
      "\n",
      "\n",
      "At random state 75,the training accuracy is:- 0.522203149940087\n",
      "At random state 75,the testing accuracy is:- 0.5197748146682778\n",
      "\n",
      "\n",
      "At random state 76,the training accuracy is:- 0.5203238099562317\n",
      "At random state 76,the testing accuracy is:- 0.5275762068275539\n",
      "\n",
      "\n",
      "At random state 77,the training accuracy is:- 0.5213035204146015\n",
      "At random state 77,the testing accuracy is:- 0.5237831891174654\n",
      "\n",
      "\n",
      "At random state 78,the training accuracy is:- 0.5186968957036897\n",
      "At random state 78,the testing accuracy is:- 0.5337772709692854\n",
      "\n",
      "\n",
      "At random state 79,the training accuracy is:- 0.5198642831917614\n",
      "At random state 79,the testing accuracy is:- 0.5296900356464727\n",
      "\n",
      "\n",
      "At random state 80,the training accuracy is:- 0.5227951473160173\n",
      "At random state 80,the testing accuracy is:- 0.51787158458864\n",
      "\n",
      "\n",
      "At random state 81,the training accuracy is:- 0.5245863735368314\n",
      "At random state 81,the testing accuracy is:- 0.5106079609793855\n",
      "\n",
      "\n",
      "At random state 82,the training accuracy is:- 0.5191323870624112\n",
      "At random state 82,the testing accuracy is:- 0.5322028526188549\n",
      "\n",
      "\n",
      "At random state 83,the training accuracy is:- 0.5200554146340264\n",
      "At random state 83,the testing accuracy is:- 0.5286172652766288\n",
      "\n",
      "\n",
      "At random state 84,the training accuracy is:- 0.5157771205094619\n",
      "At random state 84,the testing accuracy is:- 0.5459584428131423\n",
      "\n",
      "\n",
      "At random state 85,the training accuracy is:- 0.5194341202849463\n"
     ]
    },
    {
     "name": "stdout",
     "output_type": "stream",
     "text": [
      "At random state 85,the testing accuracy is:- 0.5308261006457093\n",
      "\n",
      "\n",
      "At random state 86,the training accuracy is:- 0.5208953895147899\n",
      "At random state 86,the testing accuracy is:- 0.5250942999784152\n",
      "\n",
      "\n",
      "At random state 87,the training accuracy is:- 0.5182413827776959\n",
      "At random state 87,the testing accuracy is:- 0.5356211922215712\n",
      "\n",
      "\n",
      "At random state 88,the training accuracy is:- 0.5198236789740338\n",
      "At random state 88,the testing accuracy is:- 0.5297176034752078\n",
      "\n",
      "\n",
      "At random state 89,the training accuracy is:- 0.5243709294480261\n",
      "At random state 89,the testing accuracy is:- 0.5114321958827139\n",
      "\n",
      "\n",
      "At random state 90,the training accuracy is:- 0.5261072983550552\n",
      "At random state 90,the testing accuracy is:- 0.5048758116480055\n",
      "\n",
      "\n",
      "At random state 91,the training accuracy is:- 0.5239405752175346\n",
      "At random state 91,the testing accuracy is:- 0.5132449602065203\n",
      "\n",
      "\n",
      "At random state 92,the training accuracy is:- 0.522366417514444\n",
      "At random state 92,the testing accuracy is:- 0.5195508039851126\n",
      "\n",
      "\n",
      "At random state 93,the training accuracy is:- 0.5220867520430561\n",
      "At random state 93,the testing accuracy is:- 0.5201497623446347\n",
      "\n",
      "\n",
      "At random state 94,the training accuracy is:- 0.5227004481148536\n",
      "At random state 94,the testing accuracy is:- 0.5180640825408023\n",
      "\n",
      "\n",
      "At random state 95,the training accuracy is:- 0.5182635003571221\n",
      "At random state 95,the testing accuracy is:- 0.5346518687224271\n",
      "\n",
      "\n",
      "At random state 96,the training accuracy is:- 0.5188358476003538\n",
      "At random state 96,the testing accuracy is:- 0.53284618454211\n",
      "\n",
      "\n",
      "At random state 97,the training accuracy is:- 0.5224694763996824\n",
      "At random state 97,the testing accuracy is:- 0.5192593906747864\n",
      "\n",
      "\n",
      "At random state 98,the training accuracy is:- 0.5174382907086537\n",
      "At random state 98,the testing accuracy is:- 0.5397867110627187\n",
      "\n",
      "\n",
      "At random state 99,the training accuracy is:- 0.5200225357702292\n",
      "At random state 99,the testing accuracy is:- 0.5282831656740774\n",
      "\n",
      "\n"
     ]
    }
   ],
   "source": [
    "for i in range(0,100):\n",
    "    train_x,test_x,train_y,test_y=train_test_split(x2,y2,test_size=0.2,random_state=i)\n",
    "    lr.fit(train_x,train_y)\n",
    "    pred_train=lr.predict(train_x)\n",
    "    pred_test=lr.predict(test_x)\n",
    "    print(f\"At random state {i},the training accuracy is:- {r2_score(train_y,pred_train)}\")\n",
    "    print(f\"At random state {i},the testing accuracy is:- {r2_score(test_y,pred_test)}\")\n",
    "    print(\"\\n\")"
   ]
  },
  {
   "cell_type": "code",
   "execution_count": 37,
   "id": "d93b5626",
   "metadata": {},
   "outputs": [
    {
     "data": {
      "text/plain": [
       "0.5282831656740774"
      ]
     },
     "execution_count": 37,
     "metadata": {},
     "output_type": "execute_result"
    }
   ],
   "source": [
    "lr.fit(train_x,train_y)\n",
    "lr.score(test_x,test_y)"
   ]
  },
  {
   "cell_type": "markdown",
   "id": "72488c18",
   "metadata": {},
   "source": [
    "52% is Linear regression score"
   ]
  },
  {
   "cell_type": "code",
   "execution_count": 38,
   "id": "f1512a5c",
   "metadata": {},
   "outputs": [
    {
     "data": {
      "text/plain": [
       "array([1.61393392, 1.89496038, 1.41419263, ..., 1.42636346, 1.31936412,\n",
       "       1.81684536])"
      ]
     },
     "execution_count": 38,
     "metadata": {},
     "output_type": "execute_result"
    }
   ],
   "source": [
    "#Predicted data\n",
    "pred=lr.predict(test_x)\n",
    "pred"
   ]
  },
  {
   "cell_type": "markdown",
   "id": "4dc67137",
   "metadata": {},
   "source": [
    "Predicted Data in array form"
   ]
  },
  {
   "cell_type": "code",
   "execution_count": 39,
   "id": "c7885a77",
   "metadata": {},
   "outputs": [
    {
     "name": "stdout",
     "output_type": "stream",
     "text": [
      "Mean squared error: 0.07093046043514147\n",
      "Mean absolute error: 0.20932115431593734\n",
      "R2Score: 0.5282831656740774\n"
     ]
    }
   ],
   "source": [
    "print(\"Mean squared error:\",mean_squared_error(test_y,pred))\n",
    "print(\"Mean absolute error:\",mean_absolute_error(test_y,pred))\n",
    "print(\"R2Score:\",r2_score(test_y,pred))"
   ]
  },
  {
   "cell_type": "markdown",
   "id": "2e3c4e38",
   "metadata": {},
   "source": [
    "R2Score is 52.8%"
   ]
  },
  {
   "cell_type": "markdown",
   "id": "1597e79d",
   "metadata": {},
   "source": [
    "### Cross-Validation of the model:"
   ]
  },
  {
   "cell_type": "code",
   "execution_count": 40,
   "id": "db835b09",
   "metadata": {},
   "outputs": [
    {
     "name": "stdout",
     "output_type": "stream",
     "text": [
      "At cross fold 2 the cv score is -4.018623175581639 and accuracy score for training is 0.5200225357702292 and accuracy for the testing is 0.5282831656740774\n",
      "\n",
      "\n",
      "At cross fold 3 the cv score is 0.02558355681191578 and accuracy score for training is 0.5200225357702292 and accuracy for the testing is 0.5282831656740774\n",
      "\n",
      "\n",
      "At cross fold 4 the cv score is 0.011369744789133218 and accuracy score for training is 0.5200225357702292 and accuracy for the testing is 0.5282831656740774\n",
      "\n",
      "\n",
      "At cross fold 5 the cv score is 0.10252172122564981 and accuracy score for training is 0.5200225357702292 and accuracy for the testing is 0.5282831656740774\n",
      "\n",
      "\n",
      "At cross fold 6 the cv score is 0.014321155308758549 and accuracy score for training is 0.5200225357702292 and accuracy for the testing is 0.5282831656740774\n",
      "\n",
      "\n",
      "At cross fold 7 the cv score is 0.04211604272146886 and accuracy score for training is 0.5200225357702292 and accuracy for the testing is 0.5282831656740774\n",
      "\n",
      "\n",
      "At cross fold 8 the cv score is 0.04466851209422654 and accuracy score for training is 0.5200225357702292 and accuracy for the testing is 0.5282831656740774\n",
      "\n",
      "\n",
      "At cross fold 9 the cv score is 0.07499645324995141 and accuracy score for training is 0.5200225357702292 and accuracy for the testing is 0.5282831656740774\n",
      "\n",
      "\n"
     ]
    }
   ],
   "source": [
    "Train_accuracy=r2_score(train_y,pred_train)\n",
    "Test_accuracy=r2_score(test_y,pred_test)\n",
    "\n",
    "from sklearn.model_selection import cross_val_score\n",
    "for j in range(2,10):\n",
    "    cv_score=cross_val_score(lr,x2,y2,cv=j)\n",
    "    cv_mean=cv_score.mean()\n",
    "    print(f\"At cross fold {j} the cv score is {cv_mean} and accuracy score for training is {Train_accuracy} and accuracy for the testing is {Test_accuracy}\")\n",
    "    print(\"\\n\")"
   ]
  },
  {
   "cell_type": "markdown",
   "id": "63f01296",
   "metadata": {},
   "source": [
    "Since the number of folds dont have such impact on the accuracy and cv_score. So cv=5 is selected.\n",
    "\n",
    "Hence we handled the problem of the overfitting and the underfitting by checking the training and testing score."
   ]
  },
  {
   "cell_type": "code",
   "execution_count": 41,
   "id": "c46967a0",
   "metadata": {},
   "outputs": [
    {
     "data": {
      "image/png": "[encoded data removed]",
      "text/plain": [
       "<Figure size 576x432 with 1 Axes>"
      ]
     },
     "metadata": {
      "needs_background": "light"
     },
     "output_type": "display_data"
    }
   ],
   "source": [
    "import matplotlib.pyplot as plt\n",
    "plt.figure(figsize=(8,6))\n",
    "plt.scatter(x=test_y, y=pred_test, color='r')\n",
    "plt.plot(test_y,test_y, color='b')\n",
    "plt.xlabel('Actual data',fontsize=14)\n",
    "plt.ylabel('Predicted data',fontsize=14)\n",
    "plt.title('Linear Regression',fontsize=18)\n",
    "plt.show()"
   ]
  },
  {
   "cell_type": "markdown",
   "id": "153aaa18",
   "metadata": {},
   "source": [
    "Plotting of Predicted and actual data"
   ]
  },
  {
   "cell_type": "markdown",
   "id": "5bce4eeb",
   "metadata": {},
   "source": [
    "### Regularization"
   ]
  },
  {
   "cell_type": "code",
   "execution_count": 42,
   "id": "adf49e10",
   "metadata": {},
   "outputs": [],
   "source": [
    "# Importing Libraries and Hyper parameter tuning:\n",
    "from sklearn.model_selection import GridSearchCV\n",
    "from sklearn.model_selection import cross_val_score\n",
    "import warnings\n",
    "warnings.filterwarnings('ignore')"
   ]
  },
  {
   "cell_type": "code",
   "execution_count": 43,
   "id": "dada3a9d",
   "metadata": {},
   "outputs": [
    {
     "name": "stdout",
     "output_type": "stream",
     "text": [
      "{'alpha': 0.0001, 'random_state': 0}\n"
     ]
    }
   ],
   "source": [
    "from sklearn.linear_model import Lasso\n",
    "\n",
    "parameters = {'alpha':[.0001, .001, .01, .1, 1,10],'random_state':list(range(0,10))}\n",
    "ls = Lasso()\n",
    "clf = GridSearchCV(ls,parameters)\n",
    "clf.fit(train_x,train_y)\n",
    "\n",
    "print(clf.best_params_)"
   ]
  },
  {
   "cell_type": "markdown",
   "id": "a15ec672",
   "metadata": {},
   "source": [
    "Best parameters for Linear Regression"
   ]
  },
  {
   "cell_type": "code",
   "execution_count": 44,
   "id": "8490b299",
   "metadata": {},
   "outputs": [
    {
     "name": "stdout",
     "output_type": "stream",
     "text": [
      "ls score 0.5200185924869494\n",
      "r2 score 52.82740934298005\n"
     ]
    }
   ],
   "source": [
    "ls = Lasso(alpha=0.0001,random_state=0)\n",
    "ls.fit(train_x,train_y)\n",
    "ls.score(train_x,train_y)\n",
    "print('ls score',ls.score(train_x,train_y))\n",
    "pred_ls = ls.predict(test_x)\n",
    "\n",
    "r2s = r2_score(test_y,pred_ls)\n",
    "print('r2 score',r2s*100)"
   ]
  },
  {
   "cell_type": "markdown",
   "id": "0790f907",
   "metadata": {},
   "source": [
    "Ls score is 52% and r2score is 52%"
   ]
  },
  {
   "cell_type": "code",
   "execution_count": 45,
   "id": "ca621e85",
   "metadata": {},
   "outputs": [
    {
     "data": {
      "text/plain": [
       "0.04573391635358169"
      ]
     },
     "execution_count": 45,
     "metadata": {},
     "output_type": "execute_result"
    }
   ],
   "source": [
    "cv_score=cross_val_score(ls,x2,y2,cv=8)\n",
    "cv_mean=cv_score.mean()\n",
    "cv_mean"
   ]
  },
  {
   "cell_type": "markdown",
   "id": "c256da7c",
   "metadata": {},
   "source": [
    "CV_mean value is 4%"
   ]
  },
  {
   "cell_type": "markdown",
   "id": "64a0d703",
   "metadata": {},
   "source": [
    "## 1. Random Forest Regressor"
   ]
  },
  {
   "cell_type": "code",
   "execution_count": null,
   "id": "b28649ad",
   "metadata": {},
   "outputs": [],
   "source": [
    "# Importing Libraries and Hyper parameter tuning:\n",
    "from sklearn.model_selection import GridSearchCV\n",
    "from sklearn.ensemble import RandomForestRegressor\n",
    "\n",
    "parameters = {'criterion':['mse', 'mae'],'max_features':[\"auto\", \"sqrt\", \"log2\"]}\n",
    "rf =RandomForestRegressor()\n",
    "clf = GridSearchCV(rf,parameters)\n",
    "clf.fit(train_x,train_y)\n",
    "\n",
    "print(clf.best_params_)"
   ]
  },
  {
   "cell_type": "markdown",
   "id": "9735e09f",
   "metadata": {},
   "source": [
    "Best parameters for RandomForestRegressor"
   ]
  },
  {
   "cell_type": "code",
   "execution_count": null,
   "id": "31312e85",
   "metadata": {},
   "outputs": [],
   "source": [
    "rf= RandomForestRegressor(criterion=\"mae\",max_features=\"auto\")\n",
    "rf.fit(train_x,train_y)\n",
    "rf.score(train_x,train_y)\n",
    "pred_decision = rf.predict(test_x)\n",
    "print('rf score',rf.score(train_x,train_y))\n",
    "rfs = r2_score(test_y,pred_decision)\n",
    "print('R2 Score:',rfs*100)\n",
    "\n",
    "rfscore = cross_val_score(rf,x2,y2,cv=9)\n",
    "rfc = rfscore.mean()\n",
    "print('Cross Val Score:',rfc*100)\n",
    "print(\"Mean squared error:\",mean_squared_error(test_y,pred_decision))\n",
    "print(\"Mean absolute error:\",mean_absolute_error(test_y,pred_decision))"
   ]
  },
  {
   "cell_type": "markdown",
   "id": "f79abffc",
   "metadata": {},
   "source": [
    "rf score 99.6% R2 Score: 98% Cross Val Score: 97.7%"
   ]
  },
  {
   "cell_type": "code",
   "execution_count": null,
   "id": "610f1930",
   "metadata": {},
   "outputs": [],
   "source": [
    "import matplotlib.pyplot as plt\n",
    "plt.figure(figsize=(8,6))\n",
    "plt.scatter(x=test_y, y=pred_decision, color='r')\n",
    "plt.plot(test_y,test_y, color='b')\n",
    "plt.xlabel('Actual data',fontsize=14)\n",
    "plt.ylabel('Predicted data',fontsize=14)\n",
    "plt.title('Random Forest Regressor',fontsize=18)\n",
    "plt.show()"
   ]
  },
  {
   "cell_type": "markdown",
   "id": "80d18a91",
   "metadata": {},
   "source": [
    "## 2. Decision Tree Regressor"
   ]
  },
  {
   "cell_type": "code",
   "execution_count": 1,
   "id": "79c8a9c2",
   "metadata": {},
   "outputs": [
    {
     "ename": "NameError",
     "evalue": "name 'train_x' is not defined",
     "output_type": "error",
     "traceback": [
      "\u001b[1;31m---------------------------------------------------------------------------\u001b[0m",
      "\u001b[1;31mNameError\u001b[0m                                 Traceback (most recent call last)",
      "\u001b[1;32m~\\AppData\\Local\\Temp/ipykernel_18332/4223580955.py\u001b[0m in \u001b[0;36m<module>\u001b[1;34m\u001b[0m\n\u001b[0;32m      9\u001b[0m \u001b[0mdt\u001b[0m \u001b[1;33m=\u001b[0m\u001b[0mDecisionTreeRegressor\u001b[0m\u001b[1;33m(\u001b[0m\u001b[1;33m)\u001b[0m\u001b[1;33m\u001b[0m\u001b[1;33m\u001b[0m\u001b[0m\n\u001b[0;32m     10\u001b[0m \u001b[0mclf\u001b[0m \u001b[1;33m=\u001b[0m \u001b[0mGridSearchCV\u001b[0m\u001b[1;33m(\u001b[0m\u001b[0mdt\u001b[0m\u001b[1;33m,\u001b[0m\u001b[0mparameters\u001b[0m\u001b[1;33m)\u001b[0m\u001b[1;33m\u001b[0m\u001b[1;33m\u001b[0m\u001b[0m\n\u001b[1;32m---> 11\u001b[1;33m \u001b[0mclf\u001b[0m\u001b[1;33m.\u001b[0m\u001b[0mfit\u001b[0m\u001b[1;33m(\u001b[0m\u001b[0mtrain_x\u001b[0m\u001b[1;33m,\u001b[0m\u001b[0mtrain_y\u001b[0m\u001b[1;33m)\u001b[0m\u001b[1;33m\u001b[0m\u001b[1;33m\u001b[0m\u001b[0m\n\u001b[0m\u001b[0;32m     12\u001b[0m \u001b[1;33m\u001b[0m\u001b[0m\n\u001b[0;32m     13\u001b[0m \u001b[0mprint\u001b[0m\u001b[1;33m(\u001b[0m\u001b[0mclf\u001b[0m\u001b[1;33m.\u001b[0m\u001b[0mbest_params_\u001b[0m\u001b[1;33m)\u001b[0m\u001b[1;33m\u001b[0m\u001b[1;33m\u001b[0m\u001b[0m\n",
      "\u001b[1;31mNameError\u001b[0m: name 'train_x' is not defined"
     ]
    }
   ],
   "source": [
    "# Importing Libraries and Hyper parameter tuning:\n",
    "from sklearn.model_selection import GridSearchCV\n",
    "from sklearn.tree import DecisionTreeRegressor\n",
    "\n",
    "parameters = {'criterion':['mse', 'mae'],\n",
    "              'max_features':[\"auto\",\"sqrt\", \"log2\"],\n",
    "              'max_depth':[2,4,8,10,None],\n",
    "            'min_samples_split':[0.25,0.5,1.0]}\n",
    "dt =DecisionTreeRegressor()\n",
    "clf = GridSearchCV(dt,parameters)\n",
    "clf.fit(train_x,train_y)\n",
    "\n",
    "print(clf.best_params_)"
   ]
  },
  {
   "cell_type": "markdown",
   "id": "83678ef0",
   "metadata": {},
   "source": [
    "Best parameters for DecisionTreeRegressor"
   ]
  },
  {
   "cell_type": "code",
   "execution_count": null,
   "id": "ea81d16c",
   "metadata": {},
   "outputs": [],
   "source": [
    "dt =DecisionTreeRegressor(criterion=\"mse\",max_features=\"auto\",max_depth= 4,min_samples_split=0.25)\n",
    "dt.fit(train_x,train_y)\n",
    "dt.score(train_x,train_y)\n",
    "pred_decision = dt.predict(test_x)\n",
    "print('dt score',dt.score(train_x,train_y))\n",
    "dts = r2_score(test_y,pred_decision)\n",
    "print('R2 Score:',dts*100)\n",
    "\n",
    "dtscore = cross_val_score(dt,x2,y2,cv=9)\n",
    "dtc = dtscore.mean()\n",
    "print('Cross Val Score:',dtc*100)\n",
    "print(\"Mean squared error:\",mean_squared_error(test_y,pred_decision))\n",
    "print(\"Mean absolute error:\",mean_absolute_error(test_y,pred_decision))"
   ]
  },
  {
   "cell_type": "markdown",
   "id": "5aaca018",
   "metadata": {},
   "source": [
    "dt score 90% R2 Score: 84.1% Cross Val Score: 82.6%"
   ]
  },
  {
   "cell_type": "code",
   "execution_count": null,
   "id": "ba5c326a",
   "metadata": {},
   "outputs": [],
   "source": [
    "import matplotlib.pyplot as plt\n",
    "plt.figure(figsize=(8,6))\n",
    "plt.scatter(x=test_y, y=pred_decision, color='r')\n",
    "plt.plot(test_y,test_y, color='b')\n",
    "plt.xlabel('Actual data',fontsize=14)\n",
    "plt.ylabel('Predicted data',fontsize=14)\n",
    "plt.title('Decision Tree Regressor',fontsize=18)\n",
    "plt.show()"
   ]
  },
  {
   "cell_type": "markdown",
   "id": "47df1fcf",
   "metadata": {},
   "source": [
    "## 3. KNeighborsRegressor"
   ]
  },
  {
   "cell_type": "code",
   "execution_count": 47,
   "id": "13036fe7",
   "metadata": {},
   "outputs": [
    {
     "name": "stdout",
     "output_type": "stream",
     "text": [
      "{'algorithm': 'auto', 'n_neighbors': 3, 'weights': 'distance'}\n"
     ]
    }
   ],
   "source": [
    "# Importing Libraries and Hyper parameter tuning:\n",
    "from sklearn.neighbors import KNeighborsRegressor\n",
    "from sklearn.model_selection import GridSearchCV\n",
    "\n",
    "parameters = {'n_neighbors':list(range(0,10)),\n",
    "              'weights':['uniform', 'distance'],\n",
    "              'algorithm':['auto', 'ball_tree', 'kd_tree', 'brute']\n",
    "              }\n",
    "kn =KNeighborsRegressor()\n",
    "clf = GridSearchCV(kn,parameters)\n",
    "clf.fit(train_x,train_y)\n",
    "\n",
    "print(clf.best_params_)"
   ]
  },
  {
   "cell_type": "markdown",
   "id": "40409c6b",
   "metadata": {},
   "source": [
    "Best parameters for KNeighborsRegressor"
   ]
  },
  {
   "cell_type": "code",
   "execution_count": 48,
   "id": "c74c9f74",
   "metadata": {},
   "outputs": [
    {
     "name": "stdout",
     "output_type": "stream",
     "text": [
      "kn score 1.0\n",
      "R2 Score: 87.38692137341062\n",
      "Cross Val Score: 14.806395132211605\n",
      "Mean squared error: 0.018965858527543792\n",
      "Mean absolute error: 0.09622986900916679\n"
     ]
    }
   ],
   "source": [
    "kn =KNeighborsRegressor(n_neighbors=3,algorithm=\"auto\",weights='distance')\n",
    "kn.fit(train_x,train_y)\n",
    "kn.score(train_x,train_y)\n",
    "pred_decision = kn.predict(test_x)\n",
    "print('kn score',kn.score(train_x,train_y))\n",
    "kns = r2_score(test_y,pred_decision)\n",
    "print('R2 Score:',kns*100)\n",
    "\n",
    "knscore = cross_val_score(kn,x2,y2,cv=9)\n",
    "knc = knscore.mean()\n",
    "print('Cross Val Score:',knc*100)\n",
    "print(\"Mean squared error:\",mean_squared_error(test_y,pred_decision))\n",
    "print(\"Mean absolute error:\",mean_absolute_error(test_y,pred_decision))"
   ]
  },
  {
   "cell_type": "markdown",
   "id": "d465334d",
   "metadata": {},
   "source": [
    "kn score 100% R2 Score: 87.3% Cross Val Score: 14.8%"
   ]
  },
  {
   "cell_type": "code",
   "execution_count": 49,
   "id": "c1ff677c",
   "metadata": {},
   "outputs": [
    {
     "data": {
      "image/png": "[encoded data removed]",
      "text/plain": [
       "<Figure size 576x432 with 1 Axes>"
      ]
     },
     "metadata": {
      "needs_background": "light"
     },
     "output_type": "display_data"
    }
   ],
   "source": [
    "import matplotlib.pyplot as plt\n",
    "plt.figure(figsize=(8,6))\n",
    "plt.scatter(x=test_y, y=pred_decision, color='r')\n",
    "plt.plot(test_y,test_y, color='b')\n",
    "plt.xlabel('Actual data',fontsize=14)\n",
    "plt.ylabel('Predicted data',fontsize=14)\n",
    "plt.title('KNeighbors Regressor',fontsize=18)\n",
    "plt.show()"
   ]
  },
  {
   "cell_type": "markdown",
   "id": "a4b2d86e",
   "metadata": {},
   "source": [
    "## 4. SVRegressor"
   ]
  },
  {
   "cell_type": "code",
   "execution_count": 50,
   "id": "a5452d50",
   "metadata": {},
   "outputs": [
    {
     "ename": "KeyboardInterrupt",
     "evalue": "",
     "output_type": "error",
     "traceback": [
      "\u001b[1;31m---------------------------------------------------------------------------\u001b[0m",
      "\u001b[1;31mKeyboardInterrupt\u001b[0m                         Traceback (most recent call last)",
      "\u001b[1;32m~\\AppData\\Local\\Temp/ipykernel_18332/3384237323.py\u001b[0m in \u001b[0;36m<module>\u001b[1;34m\u001b[0m\n\u001b[0;32m      7\u001b[0m \u001b[1;33m\u001b[0m\u001b[0m\n\u001b[0;32m      8\u001b[0m \u001b[0mclf\u001b[0m \u001b[1;33m=\u001b[0m \u001b[0mGridSearchCV\u001b[0m\u001b[1;33m(\u001b[0m\u001b[0msvr\u001b[0m\u001b[1;33m,\u001b[0m\u001b[0mparameters\u001b[0m\u001b[1;33m)\u001b[0m\u001b[1;33m\u001b[0m\u001b[1;33m\u001b[0m\u001b[0m\n\u001b[1;32m----> 9\u001b[1;33m \u001b[0mclf\u001b[0m\u001b[1;33m.\u001b[0m\u001b[0mfit\u001b[0m\u001b[1;33m(\u001b[0m\u001b[0mtrain_x\u001b[0m\u001b[1;33m,\u001b[0m\u001b[0mtrain_y\u001b[0m\u001b[1;33m)\u001b[0m\u001b[1;33m\u001b[0m\u001b[1;33m\u001b[0m\u001b[0m\n\u001b[0m\u001b[0;32m     10\u001b[0m \u001b[1;33m\u001b[0m\u001b[0m\n\u001b[0;32m     11\u001b[0m \u001b[0mprint\u001b[0m\u001b[1;33m(\u001b[0m\u001b[0mclf\u001b[0m\u001b[1;33m.\u001b[0m\u001b[0mbest_params_\u001b[0m\u001b[1;33m)\u001b[0m\u001b[1;33m\u001b[0m\u001b[1;33m\u001b[0m\u001b[0m\n",
      "\u001b[1;32m~\\anaconda3\\lib\\site-packages\\sklearn\\utils\\validation.py\u001b[0m in \u001b[0;36minner_f\u001b[1;34m(*args, **kwargs)\u001b[0m\n\u001b[0;32m     61\u001b[0m             \u001b[0mextra_args\u001b[0m \u001b[1;33m=\u001b[0m \u001b[0mlen\u001b[0m\u001b[1;33m(\u001b[0m\u001b[0margs\u001b[0m\u001b[1;33m)\u001b[0m \u001b[1;33m-\u001b[0m \u001b[0mlen\u001b[0m\u001b[1;33m(\u001b[0m\u001b[0mall_args\u001b[0m\u001b[1;33m)\u001b[0m\u001b[1;33m\u001b[0m\u001b[1;33m\u001b[0m\u001b[0m\n\u001b[0;32m     62\u001b[0m             \u001b[1;32mif\u001b[0m \u001b[0mextra_args\u001b[0m \u001b[1;33m<=\u001b[0m \u001b[1;36m0\u001b[0m\u001b[1;33m:\u001b[0m\u001b[1;33m\u001b[0m\u001b[1;33m\u001b[0m\u001b[0m\n\u001b[1;32m---> 63\u001b[1;33m                 \u001b[1;32mreturn\u001b[0m \u001b[0mf\u001b[0m\u001b[1;33m(\u001b[0m\u001b[1;33m*\u001b[0m\u001b[0margs\u001b[0m\u001b[1;33m,\u001b[0m \u001b[1;33m**\u001b[0m\u001b[0mkwargs\u001b[0m\u001b[1;33m)\u001b[0m\u001b[1;33m\u001b[0m\u001b[1;33m\u001b[0m\u001b[0m\n\u001b[0m\u001b[0;32m     64\u001b[0m \u001b[1;33m\u001b[0m\u001b[0m\n\u001b[0;32m     65\u001b[0m             \u001b[1;31m# extra_args > 0\u001b[0m\u001b[1;33m\u001b[0m\u001b[1;33m\u001b[0m\u001b[0m\n",
      "\u001b[1;32m~\\anaconda3\\lib\\site-packages\\sklearn\\model_selection\\_search.py\u001b[0m in \u001b[0;36mfit\u001b[1;34m(self, X, y, groups, **fit_params)\u001b[0m\n\u001b[0;32m    839\u001b[0m                 \u001b[1;32mreturn\u001b[0m \u001b[0mresults\u001b[0m\u001b[1;33m\u001b[0m\u001b[1;33m\u001b[0m\u001b[0m\n\u001b[0;32m    840\u001b[0m \u001b[1;33m\u001b[0m\u001b[0m\n\u001b[1;32m--> 841\u001b[1;33m             \u001b[0mself\u001b[0m\u001b[1;33m.\u001b[0m\u001b[0m_run_search\u001b[0m\u001b[1;33m(\u001b[0m\u001b[0mevaluate_candidates\u001b[0m\u001b[1;33m)\u001b[0m\u001b[1;33m\u001b[0m\u001b[1;33m\u001b[0m\u001b[0m\n\u001b[0m\u001b[0;32m    842\u001b[0m \u001b[1;33m\u001b[0m\u001b[0m\n\u001b[0;32m    843\u001b[0m             \u001b[1;31m# multimetric is determined here because in the case of a callable\u001b[0m\u001b[1;33m\u001b[0m\u001b[1;33m\u001b[0m\u001b[0m\n",
      "\u001b[1;32m~\\anaconda3\\lib\\site-packages\\sklearn\\model_selection\\_search.py\u001b[0m in \u001b[0;36m_run_search\u001b[1;34m(self, evaluate_candidates)\u001b[0m\n\u001b[0;32m   1294\u001b[0m     \u001b[1;32mdef\u001b[0m \u001b[0m_run_search\u001b[0m\u001b[1;33m(\u001b[0m\u001b[0mself\u001b[0m\u001b[1;33m,\u001b[0m \u001b[0mevaluate_candidates\u001b[0m\u001b[1;33m)\u001b[0m\u001b[1;33m:\u001b[0m\u001b[1;33m\u001b[0m\u001b[1;33m\u001b[0m\u001b[0m\n\u001b[0;32m   1295\u001b[0m         \u001b[1;34m\"\"\"Search all candidates in param_grid\"\"\"\u001b[0m\u001b[1;33m\u001b[0m\u001b[1;33m\u001b[0m\u001b[0m\n\u001b[1;32m-> 1296\u001b[1;33m         \u001b[0mevaluate_candidates\u001b[0m\u001b[1;33m(\u001b[0m\u001b[0mParameterGrid\u001b[0m\u001b[1;33m(\u001b[0m\u001b[0mself\u001b[0m\u001b[1;33m.\u001b[0m\u001b[0mparam_grid\u001b[0m\u001b[1;33m)\u001b[0m\u001b[1;33m)\u001b[0m\u001b[1;33m\u001b[0m\u001b[1;33m\u001b[0m\u001b[0m\n\u001b[0m\u001b[0;32m   1297\u001b[0m \u001b[1;33m\u001b[0m\u001b[0m\n\u001b[0;32m   1298\u001b[0m \u001b[1;33m\u001b[0m\u001b[0m\n",
      "\u001b[1;32m~\\anaconda3\\lib\\site-packages\\sklearn\\model_selection\\_search.py\u001b[0m in \u001b[0;36mevaluate_candidates\u001b[1;34m(candidate_params, cv, more_results)\u001b[0m\n\u001b[0;32m    793\u001b[0m                               n_splits, n_candidates, n_candidates * n_splits))\n\u001b[0;32m    794\u001b[0m \u001b[1;33m\u001b[0m\u001b[0m\n\u001b[1;32m--> 795\u001b[1;33m                 out = parallel(delayed(_fit_and_score)(clone(base_estimator),\n\u001b[0m\u001b[0;32m    796\u001b[0m                                                        \u001b[0mX\u001b[0m\u001b[1;33m,\u001b[0m \u001b[0my\u001b[0m\u001b[1;33m,\u001b[0m\u001b[1;33m\u001b[0m\u001b[1;33m\u001b[0m\u001b[0m\n\u001b[0;32m    797\u001b[0m                                                        \u001b[0mtrain\u001b[0m\u001b[1;33m=\u001b[0m\u001b[0mtrain\u001b[0m\u001b[1;33m,\u001b[0m \u001b[0mtest\u001b[0m\u001b[1;33m=\u001b[0m\u001b[0mtest\u001b[0m\u001b[1;33m,\u001b[0m\u001b[1;33m\u001b[0m\u001b[1;33m\u001b[0m\u001b[0m\n",
      "\u001b[1;32m~\\anaconda3\\lib\\site-packages\\joblib\\parallel.py\u001b[0m in \u001b[0;36m__call__\u001b[1;34m(self, iterable)\u001b[0m\n\u001b[0;32m   1044\u001b[0m                 \u001b[0mself\u001b[0m\u001b[1;33m.\u001b[0m\u001b[0m_iterating\u001b[0m \u001b[1;33m=\u001b[0m \u001b[0mself\u001b[0m\u001b[1;33m.\u001b[0m\u001b[0m_original_iterator\u001b[0m \u001b[1;32mis\u001b[0m \u001b[1;32mnot\u001b[0m \u001b[1;32mNone\u001b[0m\u001b[1;33m\u001b[0m\u001b[1;33m\u001b[0m\u001b[0m\n\u001b[0;32m   1045\u001b[0m \u001b[1;33m\u001b[0m\u001b[0m\n\u001b[1;32m-> 1046\u001b[1;33m             \u001b[1;32mwhile\u001b[0m \u001b[0mself\u001b[0m\u001b[1;33m.\u001b[0m\u001b[0mdispatch_one_batch\u001b[0m\u001b[1;33m(\u001b[0m\u001b[0miterator\u001b[0m\u001b[1;33m)\u001b[0m\u001b[1;33m:\u001b[0m\u001b[1;33m\u001b[0m\u001b[1;33m\u001b[0m\u001b[0m\n\u001b[0m\u001b[0;32m   1047\u001b[0m                 \u001b[1;32mpass\u001b[0m\u001b[1;33m\u001b[0m\u001b[1;33m\u001b[0m\u001b[0m\n\u001b[0;32m   1048\u001b[0m \u001b[1;33m\u001b[0m\u001b[0m\n",
      "\u001b[1;32m~\\anaconda3\\lib\\site-packages\\joblib\\parallel.py\u001b[0m in \u001b[0;36mdispatch_one_batch\u001b[1;34m(self, iterator)\u001b[0m\n\u001b[0;32m    859\u001b[0m                 \u001b[1;32mreturn\u001b[0m \u001b[1;32mFalse\u001b[0m\u001b[1;33m\u001b[0m\u001b[1;33m\u001b[0m\u001b[0m\n\u001b[0;32m    860\u001b[0m             \u001b[1;32melse\u001b[0m\u001b[1;33m:\u001b[0m\u001b[1;33m\u001b[0m\u001b[1;33m\u001b[0m\u001b[0m\n\u001b[1;32m--> 861\u001b[1;33m                 \u001b[0mself\u001b[0m\u001b[1;33m.\u001b[0m\u001b[0m_dispatch\u001b[0m\u001b[1;33m(\u001b[0m\u001b[0mtasks\u001b[0m\u001b[1;33m)\u001b[0m\u001b[1;33m\u001b[0m\u001b[1;33m\u001b[0m\u001b[0m\n\u001b[0m\u001b[0;32m    862\u001b[0m                 \u001b[1;32mreturn\u001b[0m \u001b[1;32mTrue\u001b[0m\u001b[1;33m\u001b[0m\u001b[1;33m\u001b[0m\u001b[0m\n\u001b[0;32m    863\u001b[0m \u001b[1;33m\u001b[0m\u001b[0m\n",
      "\u001b[1;32m~\\anaconda3\\lib\\site-packages\\joblib\\parallel.py\u001b[0m in \u001b[0;36m_dispatch\u001b[1;34m(self, batch)\u001b[0m\n\u001b[0;32m    777\u001b[0m         \u001b[1;32mwith\u001b[0m \u001b[0mself\u001b[0m\u001b[1;33m.\u001b[0m\u001b[0m_lock\u001b[0m\u001b[1;33m:\u001b[0m\u001b[1;33m\u001b[0m\u001b[1;33m\u001b[0m\u001b[0m\n\u001b[0;32m    778\u001b[0m             \u001b[0mjob_idx\u001b[0m \u001b[1;33m=\u001b[0m \u001b[0mlen\u001b[0m\u001b[1;33m(\u001b[0m\u001b[0mself\u001b[0m\u001b[1;33m.\u001b[0m\u001b[0m_jobs\u001b[0m\u001b[1;33m)\u001b[0m\u001b[1;33m\u001b[0m\u001b[1;33m\u001b[0m\u001b[0m\n\u001b[1;32m--> 779\u001b[1;33m             \u001b[0mjob\u001b[0m \u001b[1;33m=\u001b[0m \u001b[0mself\u001b[0m\u001b[1;33m.\u001b[0m\u001b[0m_backend\u001b[0m\u001b[1;33m.\u001b[0m\u001b[0mapply_async\u001b[0m\u001b[1;33m(\u001b[0m\u001b[0mbatch\u001b[0m\u001b[1;33m,\u001b[0m \u001b[0mcallback\u001b[0m\u001b[1;33m=\u001b[0m\u001b[0mcb\u001b[0m\u001b[1;33m)\u001b[0m\u001b[1;33m\u001b[0m\u001b[1;33m\u001b[0m\u001b[0m\n\u001b[0m\u001b[0;32m    780\u001b[0m             \u001b[1;31m# A job can complete so quickly than its callback is\u001b[0m\u001b[1;33m\u001b[0m\u001b[1;33m\u001b[0m\u001b[0m\n\u001b[0;32m    781\u001b[0m             \u001b[1;31m# called before we get here, causing self._jobs to\u001b[0m\u001b[1;33m\u001b[0m\u001b[1;33m\u001b[0m\u001b[0m\n",
      "\u001b[1;32m~\\anaconda3\\lib\\site-packages\\joblib\\_parallel_backends.py\u001b[0m in \u001b[0;36mapply_async\u001b[1;34m(self, func, callback)\u001b[0m\n\u001b[0;32m    206\u001b[0m     \u001b[1;32mdef\u001b[0m \u001b[0mapply_async\u001b[0m\u001b[1;33m(\u001b[0m\u001b[0mself\u001b[0m\u001b[1;33m,\u001b[0m \u001b[0mfunc\u001b[0m\u001b[1;33m,\u001b[0m \u001b[0mcallback\u001b[0m\u001b[1;33m=\u001b[0m\u001b[1;32mNone\u001b[0m\u001b[1;33m)\u001b[0m\u001b[1;33m:\u001b[0m\u001b[1;33m\u001b[0m\u001b[1;33m\u001b[0m\u001b[0m\n\u001b[0;32m    207\u001b[0m         \u001b[1;34m\"\"\"Schedule a func to be run\"\"\"\u001b[0m\u001b[1;33m\u001b[0m\u001b[1;33m\u001b[0m\u001b[0m\n\u001b[1;32m--> 208\u001b[1;33m         \u001b[0mresult\u001b[0m \u001b[1;33m=\u001b[0m \u001b[0mImmediateResult\u001b[0m\u001b[1;33m(\u001b[0m\u001b[0mfunc\u001b[0m\u001b[1;33m)\u001b[0m\u001b[1;33m\u001b[0m\u001b[1;33m\u001b[0m\u001b[0m\n\u001b[0m\u001b[0;32m    209\u001b[0m         \u001b[1;32mif\u001b[0m \u001b[0mcallback\u001b[0m\u001b[1;33m:\u001b[0m\u001b[1;33m\u001b[0m\u001b[1;33m\u001b[0m\u001b[0m\n\u001b[0;32m    210\u001b[0m             \u001b[0mcallback\u001b[0m\u001b[1;33m(\u001b[0m\u001b[0mresult\u001b[0m\u001b[1;33m)\u001b[0m\u001b[1;33m\u001b[0m\u001b[1;33m\u001b[0m\u001b[0m\n",
      "\u001b[1;32m~\\anaconda3\\lib\\site-packages\\joblib\\_parallel_backends.py\u001b[0m in \u001b[0;36m__init__\u001b[1;34m(self, batch)\u001b[0m\n\u001b[0;32m    570\u001b[0m         \u001b[1;31m# Don't delay the application, to avoid keeping the input\u001b[0m\u001b[1;33m\u001b[0m\u001b[1;33m\u001b[0m\u001b[0m\n\u001b[0;32m    571\u001b[0m         \u001b[1;31m# arguments in memory\u001b[0m\u001b[1;33m\u001b[0m\u001b[1;33m\u001b[0m\u001b[0m\n\u001b[1;32m--> 572\u001b[1;33m         \u001b[0mself\u001b[0m\u001b[1;33m.\u001b[0m\u001b[0mresults\u001b[0m \u001b[1;33m=\u001b[0m \u001b[0mbatch\u001b[0m\u001b[1;33m(\u001b[0m\u001b[1;33m)\u001b[0m\u001b[1;33m\u001b[0m\u001b[1;33m\u001b[0m\u001b[0m\n\u001b[0m\u001b[0;32m    573\u001b[0m \u001b[1;33m\u001b[0m\u001b[0m\n\u001b[0;32m    574\u001b[0m     \u001b[1;32mdef\u001b[0m \u001b[0mget\u001b[0m\u001b[1;33m(\u001b[0m\u001b[0mself\u001b[0m\u001b[1;33m)\u001b[0m\u001b[1;33m:\u001b[0m\u001b[1;33m\u001b[0m\u001b[1;33m\u001b[0m\u001b[0m\n",
      "\u001b[1;32m~\\anaconda3\\lib\\site-packages\\joblib\\parallel.py\u001b[0m in \u001b[0;36m__call__\u001b[1;34m(self)\u001b[0m\n\u001b[0;32m    260\u001b[0m         \u001b[1;31m# change the default number of processes to -1\u001b[0m\u001b[1;33m\u001b[0m\u001b[1;33m\u001b[0m\u001b[0m\n\u001b[0;32m    261\u001b[0m         \u001b[1;32mwith\u001b[0m \u001b[0mparallel_backend\u001b[0m\u001b[1;33m(\u001b[0m\u001b[0mself\u001b[0m\u001b[1;33m.\u001b[0m\u001b[0m_backend\u001b[0m\u001b[1;33m,\u001b[0m \u001b[0mn_jobs\u001b[0m\u001b[1;33m=\u001b[0m\u001b[0mself\u001b[0m\u001b[1;33m.\u001b[0m\u001b[0m_n_jobs\u001b[0m\u001b[1;33m)\u001b[0m\u001b[1;33m:\u001b[0m\u001b[1;33m\u001b[0m\u001b[1;33m\u001b[0m\u001b[0m\n\u001b[1;32m--> 262\u001b[1;33m             return [func(*args, **kwargs)\n\u001b[0m\u001b[0;32m    263\u001b[0m                     for func, args, kwargs in self.items]\n\u001b[0;32m    264\u001b[0m \u001b[1;33m\u001b[0m\u001b[0m\n",
      "\u001b[1;32m~\\anaconda3\\lib\\site-packages\\joblib\\parallel.py\u001b[0m in \u001b[0;36m<listcomp>\u001b[1;34m(.0)\u001b[0m\n\u001b[0;32m    260\u001b[0m         \u001b[1;31m# change the default number of processes to -1\u001b[0m\u001b[1;33m\u001b[0m\u001b[1;33m\u001b[0m\u001b[0m\n\u001b[0;32m    261\u001b[0m         \u001b[1;32mwith\u001b[0m \u001b[0mparallel_backend\u001b[0m\u001b[1;33m(\u001b[0m\u001b[0mself\u001b[0m\u001b[1;33m.\u001b[0m\u001b[0m_backend\u001b[0m\u001b[1;33m,\u001b[0m \u001b[0mn_jobs\u001b[0m\u001b[1;33m=\u001b[0m\u001b[0mself\u001b[0m\u001b[1;33m.\u001b[0m\u001b[0m_n_jobs\u001b[0m\u001b[1;33m)\u001b[0m\u001b[1;33m:\u001b[0m\u001b[1;33m\u001b[0m\u001b[1;33m\u001b[0m\u001b[0m\n\u001b[1;32m--> 262\u001b[1;33m             return [func(*args, **kwargs)\n\u001b[0m\u001b[0;32m    263\u001b[0m                     for func, args, kwargs in self.items]\n\u001b[0;32m    264\u001b[0m \u001b[1;33m\u001b[0m\u001b[0m\n",
      "\u001b[1;32m~\\anaconda3\\lib\\site-packages\\sklearn\\utils\\fixes.py\u001b[0m in \u001b[0;36m__call__\u001b[1;34m(self, *args, **kwargs)\u001b[0m\n\u001b[0;32m    220\u001b[0m     \u001b[1;32mdef\u001b[0m \u001b[0m__call__\u001b[0m\u001b[1;33m(\u001b[0m\u001b[0mself\u001b[0m\u001b[1;33m,\u001b[0m \u001b[1;33m*\u001b[0m\u001b[0margs\u001b[0m\u001b[1;33m,\u001b[0m \u001b[1;33m**\u001b[0m\u001b[0mkwargs\u001b[0m\u001b[1;33m)\u001b[0m\u001b[1;33m:\u001b[0m\u001b[1;33m\u001b[0m\u001b[1;33m\u001b[0m\u001b[0m\n\u001b[0;32m    221\u001b[0m         \u001b[1;32mwith\u001b[0m \u001b[0mconfig_context\u001b[0m\u001b[1;33m(\u001b[0m\u001b[1;33m**\u001b[0m\u001b[0mself\u001b[0m\u001b[1;33m.\u001b[0m\u001b[0mconfig\u001b[0m\u001b[1;33m)\u001b[0m\u001b[1;33m:\u001b[0m\u001b[1;33m\u001b[0m\u001b[1;33m\u001b[0m\u001b[0m\n\u001b[1;32m--> 222\u001b[1;33m             \u001b[1;32mreturn\u001b[0m \u001b[0mself\u001b[0m\u001b[1;33m.\u001b[0m\u001b[0mfunction\u001b[0m\u001b[1;33m(\u001b[0m\u001b[1;33m*\u001b[0m\u001b[0margs\u001b[0m\u001b[1;33m,\u001b[0m \u001b[1;33m**\u001b[0m\u001b[0mkwargs\u001b[0m\u001b[1;33m)\u001b[0m\u001b[1;33m\u001b[0m\u001b[1;33m\u001b[0m\u001b[0m\n\u001b[0m",
      "\u001b[1;32m~\\anaconda3\\lib\\site-packages\\sklearn\\model_selection\\_validation.py\u001b[0m in \u001b[0;36m_fit_and_score\u001b[1;34m(estimator, X, y, scorer, train, test, verbose, parameters, fit_params, return_train_score, return_parameters, return_n_test_samples, return_times, return_estimator, split_progress, candidate_progress, error_score)\u001b[0m\n\u001b[0;32m    596\u001b[0m             \u001b[0mestimator\u001b[0m\u001b[1;33m.\u001b[0m\u001b[0mfit\u001b[0m\u001b[1;33m(\u001b[0m\u001b[0mX_train\u001b[0m\u001b[1;33m,\u001b[0m \u001b[1;33m**\u001b[0m\u001b[0mfit_params\u001b[0m\u001b[1;33m)\u001b[0m\u001b[1;33m\u001b[0m\u001b[1;33m\u001b[0m\u001b[0m\n\u001b[0;32m    597\u001b[0m         \u001b[1;32melse\u001b[0m\u001b[1;33m:\u001b[0m\u001b[1;33m\u001b[0m\u001b[1;33m\u001b[0m\u001b[0m\n\u001b[1;32m--> 598\u001b[1;33m             \u001b[0mestimator\u001b[0m\u001b[1;33m.\u001b[0m\u001b[0mfit\u001b[0m\u001b[1;33m(\u001b[0m\u001b[0mX_train\u001b[0m\u001b[1;33m,\u001b[0m \u001b[0my_train\u001b[0m\u001b[1;33m,\u001b[0m \u001b[1;33m**\u001b[0m\u001b[0mfit_params\u001b[0m\u001b[1;33m)\u001b[0m\u001b[1;33m\u001b[0m\u001b[1;33m\u001b[0m\u001b[0m\n\u001b[0m\u001b[0;32m    599\u001b[0m \u001b[1;33m\u001b[0m\u001b[0m\n\u001b[0;32m    600\u001b[0m     \u001b[1;32mexcept\u001b[0m \u001b[0mException\u001b[0m \u001b[1;32mas\u001b[0m \u001b[0me\u001b[0m\u001b[1;33m:\u001b[0m\u001b[1;33m\u001b[0m\u001b[1;33m\u001b[0m\u001b[0m\n",
      "\u001b[1;32m~\\anaconda3\\lib\\site-packages\\sklearn\\svm\\_base.py\u001b[0m in \u001b[0;36mfit\u001b[1;34m(self, X, y, sample_weight)\u001b[0m\n\u001b[0;32m    224\u001b[0m \u001b[1;33m\u001b[0m\u001b[0m\n\u001b[0;32m    225\u001b[0m         \u001b[0mseed\u001b[0m \u001b[1;33m=\u001b[0m \u001b[0mrnd\u001b[0m\u001b[1;33m.\u001b[0m\u001b[0mrandint\u001b[0m\u001b[1;33m(\u001b[0m\u001b[0mnp\u001b[0m\u001b[1;33m.\u001b[0m\u001b[0miinfo\u001b[0m\u001b[1;33m(\u001b[0m\u001b[1;34m'i'\u001b[0m\u001b[1;33m)\u001b[0m\u001b[1;33m.\u001b[0m\u001b[0mmax\u001b[0m\u001b[1;33m)\u001b[0m\u001b[1;33m\u001b[0m\u001b[1;33m\u001b[0m\u001b[0m\n\u001b[1;32m--> 226\u001b[1;33m         \u001b[0mfit\u001b[0m\u001b[1;33m(\u001b[0m\u001b[0mX\u001b[0m\u001b[1;33m,\u001b[0m \u001b[0my\u001b[0m\u001b[1;33m,\u001b[0m \u001b[0msample_weight\u001b[0m\u001b[1;33m,\u001b[0m \u001b[0msolver_type\u001b[0m\u001b[1;33m,\u001b[0m \u001b[0mkernel\u001b[0m\u001b[1;33m,\u001b[0m \u001b[0mrandom_seed\u001b[0m\u001b[1;33m=\u001b[0m\u001b[0mseed\u001b[0m\u001b[1;33m)\u001b[0m\u001b[1;33m\u001b[0m\u001b[1;33m\u001b[0m\u001b[0m\n\u001b[0m\u001b[0;32m    227\u001b[0m         \u001b[1;31m# see comment on the other call to np.iinfo in this file\u001b[0m\u001b[1;33m\u001b[0m\u001b[1;33m\u001b[0m\u001b[0m\n\u001b[0;32m    228\u001b[0m \u001b[1;33m\u001b[0m\u001b[0m\n",
      "\u001b[1;32m~\\anaconda3\\lib\\site-packages\\sklearn\\svm\\_base.py\u001b[0m in \u001b[0;36m_dense_fit\u001b[1;34m(self, X, y, sample_weight, solver_type, kernel, random_seed)\u001b[0m\n\u001b[0;32m    275\u001b[0m         \u001b[0mself\u001b[0m\u001b[1;33m.\u001b[0m\u001b[0msupport_\u001b[0m\u001b[1;33m,\u001b[0m \u001b[0mself\u001b[0m\u001b[1;33m.\u001b[0m\u001b[0msupport_vectors_\u001b[0m\u001b[1;33m,\u001b[0m \u001b[0mself\u001b[0m\u001b[1;33m.\u001b[0m\u001b[0m_n_support\u001b[0m\u001b[1;33m,\u001b[0m\u001b[0;31m \u001b[0m\u001b[0;31m\\\u001b[0m\u001b[1;33m\u001b[0m\u001b[1;33m\u001b[0m\u001b[0m\n\u001b[0;32m    276\u001b[0m             \u001b[0mself\u001b[0m\u001b[1;33m.\u001b[0m\u001b[0mdual_coef_\u001b[0m\u001b[1;33m,\u001b[0m \u001b[0mself\u001b[0m\u001b[1;33m.\u001b[0m\u001b[0mintercept_\u001b[0m\u001b[1;33m,\u001b[0m \u001b[0mself\u001b[0m\u001b[1;33m.\u001b[0m\u001b[0m_probA\u001b[0m\u001b[1;33m,\u001b[0m\u001b[0;31m \u001b[0m\u001b[0;31m\\\u001b[0m\u001b[1;33m\u001b[0m\u001b[1;33m\u001b[0m\u001b[0m\n\u001b[1;32m--> 277\u001b[1;33m             self._probB, self.fit_status_ = libsvm.fit(\n\u001b[0m\u001b[0;32m    278\u001b[0m                 \u001b[0mX\u001b[0m\u001b[1;33m,\u001b[0m \u001b[0my\u001b[0m\u001b[1;33m,\u001b[0m\u001b[1;33m\u001b[0m\u001b[1;33m\u001b[0m\u001b[0m\n\u001b[0;32m    279\u001b[0m                 \u001b[0msvm_type\u001b[0m\u001b[1;33m=\u001b[0m\u001b[0msolver_type\u001b[0m\u001b[1;33m,\u001b[0m \u001b[0msample_weight\u001b[0m\u001b[1;33m=\u001b[0m\u001b[0msample_weight\u001b[0m\u001b[1;33m,\u001b[0m\u001b[1;33m\u001b[0m\u001b[1;33m\u001b[0m\u001b[0m\n",
      "\u001b[1;31mKeyboardInterrupt\u001b[0m: "
     ]
    }
   ],
   "source": [
    "# Importing Libraries and Hyper parameter tuning:\n",
    "from sklearn.svm import SVR\n",
    "from sklearn.model_selection import GridSearchCV\n",
    "from sklearn.metrics import mean_squared_error,mean_absolute_error\n",
    "svr =SVR()\n",
    "parameters = [{'kernel': ['rbf'], 'gamma': [1e-4, 1e-3, 0.01, 0.1, 0.2, 0.5, 0.6, 0.9],'C': [1, 10, 100, 1000, 10000]}]\n",
    "\n",
    "clf = GridSearchCV(svr,parameters)\n",
    "clf.fit(train_x,train_y)\n",
    "\n",
    "print(clf.best_params_)"
   ]
  },
  {
   "cell_type": "markdown",
   "id": "5ebd9951",
   "metadata": {},
   "source": [
    "Best parameters for SVRegressor"
   ]
  },
  {
   "cell_type": "code",
   "execution_count": null,
   "id": "84c4c152",
   "metadata": {},
   "outputs": [],
   "source": [
    "svr =SVR(C=100,gamma=0.01,kernel='rbf')\n",
    "svr.fit(train_x,train_y)\n",
    "svr.score(train_x,train_y)\n",
    "pred_decision = svr.predict(test_x)\n",
    "print('svr score',svr.score(train_x,train_y))\n",
    "svrs = r2_score(test_y,pred_decision)\n",
    "print('R2 Score:',svrs*100)\n",
    "\n",
    "svrscore = cross_val_score(svr,x2,y2,cv=4)\n",
    "svrc = svrscore.mean()\n",
    "print('Cross Val Score:',svrc*100)\n",
    "print(\"Mean squared error:\",mean_squared_error(test_y,pred_decision))\n",
    "print(\"Mean absolute error:\",mean_absolute_error(test_y,pred_decision))"
   ]
  },
  {
   "cell_type": "markdown",
   "id": "e585ebf0",
   "metadata": {},
   "source": [
    "Cross Val Score:83.2%"
   ]
  },
  {
   "cell_type": "markdown",
   "id": "41daf988",
   "metadata": {},
   "source": [
    "Choosing KNeighbor regressor as best model as other models are not getting computed."
   ]
  },
  {
   "cell_type": "markdown",
   "id": "89e37736",
   "metadata": {},
   "source": [
    "# Model saving:"
   ]
  },
  {
   "cell_type": "code",
   "execution_count": 51,
   "id": "66753d25",
   "metadata": {},
   "outputs": [],
   "source": [
    "import pickle\n",
    "filename = 'AvacadoR.pkl'\n",
    "pickle.dump(kn, open(filename, 'wb'))"
   ]
  },
  {
   "cell_type": "markdown",
   "id": "db2b2509",
   "metadata": {},
   "source": [
    "## Accuracy:"
   ]
  },
  {
   "cell_type": "code",
   "execution_count": 52,
   "id": "1cfe12d3",
   "metadata": {},
   "outputs": [
    {
     "name": "stdout",
     "output_type": "stream",
     "text": [
      "0.8738692137341062\n"
     ]
    }
   ],
   "source": [
    "loaded_model = pickle.load(open('AvacadoR.pkl', 'rb'))\n",
    "result = loaded_model.score(test_x, test_y)\n",
    "print(result)"
   ]
  },
  {
   "cell_type": "markdown",
   "id": "3d9ae90d",
   "metadata": {},
   "source": [
    "Accuracy of 87.3% so model performing well"
   ]
  },
  {
   "cell_type": "markdown",
   "id": "5c108788",
   "metadata": {},
   "source": [
    "## Conclusion:"
   ]
  },
  {
   "cell_type": "code",
   "execution_count": 53,
   "id": "15c1e865",
   "metadata": {},
   "outputs": [
    {
     "data": {
      "text/html": [
       "<div>\n",
       "<style scoped>\n",
       "    .dataframe tbody tr th:only-of-type {\n",
       "        vertical-align: middle;\n",
       "    }\n",
       "\n",
       "    .dataframe tbody tr th {\n",
       "        vertical-align: top;\n",
       "    }\n",
       "\n",
       "    .dataframe thead th {\n",
       "        text-align: right;\n",
       "    }\n",
       "</style>\n",
       "<table border=\"1\" class=\"dataframe\">\n",
       "  <thead>\n",
       "    <tr style=\"text-align: right;\">\n",
       "      <th></th>\n",
       "      <th>original</th>\n",
       "      <th>predicted</th>\n",
       "    </tr>\n",
       "  </thead>\n",
       "  <tbody>\n",
       "    <tr>\n",
       "      <th>0</th>\n",
       "      <td>1.93</td>\n",
       "      <td>2.032963</td>\n",
       "    </tr>\n",
       "    <tr>\n",
       "      <th>1</th>\n",
       "      <td>1.83</td>\n",
       "      <td>1.749652</td>\n",
       "    </tr>\n",
       "    <tr>\n",
       "      <th>2</th>\n",
       "      <td>1.41</td>\n",
       "      <td>1.389691</td>\n",
       "    </tr>\n",
       "    <tr>\n",
       "      <th>3</th>\n",
       "      <td>1.52</td>\n",
       "      <td>1.604406</td>\n",
       "    </tr>\n",
       "    <tr>\n",
       "      <th>4</th>\n",
       "      <td>1.16</td>\n",
       "      <td>1.310073</td>\n",
       "    </tr>\n",
       "    <tr>\n",
       "      <th>...</th>\n",
       "      <td>...</td>\n",
       "      <td>...</td>\n",
       "    </tr>\n",
       "    <tr>\n",
       "      <th>3527</th>\n",
       "      <td>1.35</td>\n",
       "      <td>1.363998</td>\n",
       "    </tr>\n",
       "    <tr>\n",
       "      <th>3528</th>\n",
       "      <td>0.98</td>\n",
       "      <td>1.171176</td>\n",
       "    </tr>\n",
       "    <tr>\n",
       "      <th>3529</th>\n",
       "      <td>1.41</td>\n",
       "      <td>1.337309</td>\n",
       "    </tr>\n",
       "    <tr>\n",
       "      <th>3530</th>\n",
       "      <td>1.49</td>\n",
       "      <td>1.820056</td>\n",
       "    </tr>\n",
       "    <tr>\n",
       "      <th>3531</th>\n",
       "      <td>2.25</td>\n",
       "      <td>1.750892</td>\n",
       "    </tr>\n",
       "  </tbody>\n",
       "</table>\n",
       "<p>3532 rows × 2 columns</p>\n",
       "</div>"
      ],
      "text/plain": [
       "      original  predicted\n",
       "0         1.93   2.032963\n",
       "1         1.83   1.749652\n",
       "2         1.41   1.389691\n",
       "3         1.52   1.604406\n",
       "4         1.16   1.310073\n",
       "...        ...        ...\n",
       "3527      1.35   1.363998\n",
       "3528      0.98   1.171176\n",
       "3529      1.41   1.337309\n",
       "3530      1.49   1.820056\n",
       "3531      2.25   1.750892\n",
       "\n",
       "[3532 rows x 2 columns]"
      ]
     },
     "execution_count": 53,
     "metadata": {},
     "output_type": "execute_result"
    }
   ],
   "source": [
    "import numpy as np\n",
    "a=np.array(test_y)\n",
    "pred_decision =np.array(kn.predict(test_x))\n",
    "df_com=pd.DataFrame({\"original\":a, \"predicted\": pred_decision},index=range(len(a)))\n",
    "df_com"
   ]
  },
  {
   "cell_type": "markdown",
   "id": "fdba9640",
   "metadata": {},
   "source": [
    "Model is able to predict approximately."
   ]
  }
 ],
 "metadata": {
  "kernelspec": {
   "display_name": "Python 3 (ipykernel)",
   "language": "python",
   "name": "python3"
  },
  "language_info": {
   "codemirror_mode": {
    "name": "ipython",
    "version": 3
   },
   "file_extension": ".py",
   "mimetype": "text/x-python",
   "name": "python",
   "nbconvert_exporter": "python",
   "pygments_lexer": "ipython3",
   "version": "3.9.7"
  }
 },
 "nbformat": 4,
 "nbformat_minor": 5
}
