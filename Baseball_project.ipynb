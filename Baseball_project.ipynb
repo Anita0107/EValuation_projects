{
 "cells": [
  {
   "cell_type": "markdown",
   "id": "5bf07e26",
   "metadata": {},
   "source": [
    "## Importing Dataset"
   ]
  },
  {
   "cell_type": "code",
   "execution_count": 1,
   "id": "332ed72c",
   "metadata": {},
   "outputs": [],
   "source": [
    "import numpy as np\n",
    "import pandas as pd"
   ]
  },
  {
   "cell_type": "code",
   "execution_count": 2,
   "id": "32bb606e",
   "metadata": {},
   "outputs": [],
   "source": [
    "ds=pd.read_csv('baseball.csv') #Importing Dataset"
   ]
  },
  {
   "cell_type": "code",
   "execution_count": 3,
   "id": "e5e59b65",
   "metadata": {},
   "outputs": [
    {
     "data": {
      "text/html": [
       "<div>\n",
       "<style scoped>\n",
       "    .dataframe tbody tr th:only-of-type {\n",
       "        vertical-align: middle;\n",
       "    }\n",
       "\n",
       "    .dataframe tbody tr th {\n",
       "        vertical-align: top;\n",
       "    }\n",
       "\n",
       "    .dataframe thead th {\n",
       "        text-align: right;\n",
       "    }\n",
       "</style>\n",
       "<table border=\"1\" class=\"dataframe\">\n",
       "  <thead>\n",
       "    <tr style=\"text-align: right;\">\n",
       "      <th></th>\n",
       "      <th>W</th>\n",
       "      <th>R</th>\n",
       "      <th>AB</th>\n",
       "      <th>H</th>\n",
       "      <th>2B</th>\n",
       "      <th>3B</th>\n",
       "      <th>HR</th>\n",
       "      <th>BB</th>\n",
       "      <th>SO</th>\n",
       "      <th>SB</th>\n",
       "      <th>RA</th>\n",
       "      <th>ER</th>\n",
       "      <th>ERA</th>\n",
       "      <th>CG</th>\n",
       "      <th>SHO</th>\n",
       "      <th>SV</th>\n",
       "      <th>E</th>\n",
       "    </tr>\n",
       "  </thead>\n",
       "  <tbody>\n",
       "    <tr>\n",
       "      <th>0</th>\n",
       "      <td>95</td>\n",
       "      <td>724</td>\n",
       "      <td>5575</td>\n",
       "      <td>1497</td>\n",
       "      <td>300</td>\n",
       "      <td>42</td>\n",
       "      <td>139</td>\n",
       "      <td>383</td>\n",
       "      <td>973</td>\n",
       "      <td>104</td>\n",
       "      <td>641</td>\n",
       "      <td>601</td>\n",
       "      <td>3.73</td>\n",
       "      <td>2</td>\n",
       "      <td>8</td>\n",
       "      <td>56</td>\n",
       "      <td>88</td>\n",
       "    </tr>\n",
       "    <tr>\n",
       "      <th>1</th>\n",
       "      <td>83</td>\n",
       "      <td>696</td>\n",
       "      <td>5467</td>\n",
       "      <td>1349</td>\n",
       "      <td>277</td>\n",
       "      <td>44</td>\n",
       "      <td>156</td>\n",
       "      <td>439</td>\n",
       "      <td>1264</td>\n",
       "      <td>70</td>\n",
       "      <td>700</td>\n",
       "      <td>653</td>\n",
       "      <td>4.07</td>\n",
       "      <td>2</td>\n",
       "      <td>12</td>\n",
       "      <td>45</td>\n",
       "      <td>86</td>\n",
       "    </tr>\n",
       "    <tr>\n",
       "      <th>2</th>\n",
       "      <td>81</td>\n",
       "      <td>669</td>\n",
       "      <td>5439</td>\n",
       "      <td>1395</td>\n",
       "      <td>303</td>\n",
       "      <td>29</td>\n",
       "      <td>141</td>\n",
       "      <td>533</td>\n",
       "      <td>1157</td>\n",
       "      <td>86</td>\n",
       "      <td>640</td>\n",
       "      <td>584</td>\n",
       "      <td>3.67</td>\n",
       "      <td>11</td>\n",
       "      <td>10</td>\n",
       "      <td>38</td>\n",
       "      <td>79</td>\n",
       "    </tr>\n",
       "    <tr>\n",
       "      <th>3</th>\n",
       "      <td>76</td>\n",
       "      <td>622</td>\n",
       "      <td>5533</td>\n",
       "      <td>1381</td>\n",
       "      <td>260</td>\n",
       "      <td>27</td>\n",
       "      <td>136</td>\n",
       "      <td>404</td>\n",
       "      <td>1231</td>\n",
       "      <td>68</td>\n",
       "      <td>701</td>\n",
       "      <td>643</td>\n",
       "      <td>3.98</td>\n",
       "      <td>7</td>\n",
       "      <td>9</td>\n",
       "      <td>37</td>\n",
       "      <td>101</td>\n",
       "    </tr>\n",
       "    <tr>\n",
       "      <th>4</th>\n",
       "      <td>74</td>\n",
       "      <td>689</td>\n",
       "      <td>5605</td>\n",
       "      <td>1515</td>\n",
       "      <td>289</td>\n",
       "      <td>49</td>\n",
       "      <td>151</td>\n",
       "      <td>455</td>\n",
       "      <td>1259</td>\n",
       "      <td>83</td>\n",
       "      <td>803</td>\n",
       "      <td>746</td>\n",
       "      <td>4.64</td>\n",
       "      <td>7</td>\n",
       "      <td>12</td>\n",
       "      <td>35</td>\n",
       "      <td>86</td>\n",
       "    </tr>\n",
       "  </tbody>\n",
       "</table>\n",
       "</div>"
      ],
      "text/plain": [
       "    W    R    AB     H   2B  3B   HR   BB    SO   SB   RA   ER   ERA  CG  SHO  \\\n",
       "0  95  724  5575  1497  300  42  139  383   973  104  641  601  3.73   2    8   \n",
       "1  83  696  5467  1349  277  44  156  439  1264   70  700  653  4.07   2   12   \n",
       "2  81  669  5439  1395  303  29  141  533  1157   86  640  584  3.67  11   10   \n",
       "3  76  622  5533  1381  260  27  136  404  1231   68  701  643  3.98   7    9   \n",
       "4  74  689  5605  1515  289  49  151  455  1259   83  803  746  4.64   7   12   \n",
       "\n",
       "   SV    E  \n",
       "0  56   88  \n",
       "1  45   86  \n",
       "2  38   79  \n",
       "3  37  101  \n",
       "4  35   86  "
      ]
     },
     "execution_count": 3,
     "metadata": {},
     "output_type": "execute_result"
    }
   ],
   "source": [
    "df=pd.DataFrame(ds)\n",
    "df.head()"
   ]
  },
  {
   "cell_type": "markdown",
   "id": "45bf4286",
   "metadata": {},
   "source": [
    "Dataset in the dataframe form"
   ]
  },
  {
   "cell_type": "code",
   "execution_count": 4,
   "id": "388e314d",
   "metadata": {},
   "outputs": [
    {
     "data": {
      "text/plain": [
       "(30, 17)"
      ]
     },
     "execution_count": 4,
     "metadata": {},
     "output_type": "execute_result"
    }
   ],
   "source": [
    "# Rows & Columns in dataset:\n",
    "\n",
    "df.shape"
   ]
  },
  {
   "cell_type": "markdown",
   "id": "940ffb3e",
   "metadata": {},
   "source": [
    "Dataset contains: 30 Rows and 17 Columns"
   ]
  },
  {
   "cell_type": "code",
   "execution_count": 5,
   "id": "9e800308",
   "metadata": {},
   "outputs": [
    {
     "data": {
      "text/plain": [
       "W        int64\n",
       "R        int64\n",
       "AB       int64\n",
       "H        int64\n",
       "2B       int64\n",
       "3B       int64\n",
       "HR       int64\n",
       "BB       int64\n",
       "SO       int64\n",
       "SB       int64\n",
       "RA       int64\n",
       "ER       int64\n",
       "ERA    float64\n",
       "CG       int64\n",
       "SHO      int64\n",
       "SV       int64\n",
       "E        int64\n",
       "dtype: object"
      ]
     },
     "execution_count": 5,
     "metadata": {},
     "output_type": "execute_result"
    }
   ],
   "source": [
    "# Datatype of dataset\n",
    "\n",
    "df.dtypes"
   ]
  },
  {
   "cell_type": "markdown",
   "id": "b93e77cc",
   "metadata": {},
   "source": [
    "All are numeric datatype"
   ]
  },
  {
   "cell_type": "code",
   "execution_count": 6,
   "id": "32b15369",
   "metadata": {},
   "outputs": [
    {
     "data": {
      "text/plain": [
       "W      0\n",
       "R      0\n",
       "AB     0\n",
       "H      0\n",
       "2B     0\n",
       "3B     0\n",
       "HR     0\n",
       "BB     0\n",
       "SO     0\n",
       "SB     0\n",
       "RA     0\n",
       "ER     0\n",
       "ERA    0\n",
       "CG     0\n",
       "SHO    0\n",
       "SV     0\n",
       "E      0\n",
       "dtype: int64"
      ]
     },
     "execution_count": 6,
     "metadata": {},
     "output_type": "execute_result"
    }
   ],
   "source": [
    "#Null values \n",
    "\n",
    "df.isnull().sum()"
   ]
  },
  {
   "cell_type": "markdown",
   "id": "38025928",
   "metadata": {},
   "source": [
    "No null values"
   ]
  },
  {
   "cell_type": "code",
   "execution_count": 7,
   "id": "91a02d0e",
   "metadata": {},
   "outputs": [
    {
     "name": "stdout",
     "output_type": "stream",
     "text": [
      "W: [ 95  83  81  76  74  93  87  80  78  88  86  85  68 100  98  97  64  90\n",
      "  71  67  63  92  84  79]\n",
      "R: [724 696 669 622 689 891 764 713 644 748 751 729 661 656 694 647 697 655\n",
      " 640 683 703 613 573 626 667 720 650 737]\n",
      "AB: [5575 5467 5439 5533 5605 5509 5567 5485 5640 5511 5459 5417 5544 5600\n",
      " 5484 5631 5491 5480 5571 5527 5428 5463 5420 5529 5385 5565 5649 5457\n",
      " 5572]\n",
      "H: [1497 1349 1395 1381 1515 1480 1397 1370 1383 1495 1419 1363 1331 1379\n",
      " 1405 1386 1462 1341 1378 1382 1351 1420 1361 1374 1346 1486 1494 1324\n",
      " 1479]\n",
      "2B: [300 277 303 260 289 308 272 246 278 294 279 243 262 288 292 274 257 295\n",
      " 265 236 251 263]\n",
      "3B: [42 44 29 27 49 17 19 20 32 33 26 21 22 46 39 30 34 13 40 18 37 48 36]\n",
      "HR: [139 156 141 136 151 232 212 217 167 161 172 230 176 198 146 137 140 171\n",
      " 145 177 120 100 130 187 154 148 186]\n",
      "BB: [383 439 533 404 455 570 554 418 436 478 503 486 435 475 506 461 567 412\n",
      " 496 488 539 375 471 387 563 457 490 426 388]\n",
      "SO: [ 973 1264 1157 1231 1259 1151 1227 1331 1310 1148 1233 1392 1150 1336\n",
      " 1119 1267 1322 1518 1299 1255 1290 1344 1107 1274 1258 1159 1312 1327\n",
      " 1283]\n",
      "SB: [104  70  86  68  83  88  63  44  87  71 101 121  52  69  78  98  95  84\n",
      " 134  51  57 112  59  93 132  82  97]\n",
      "RA: [641 700 640 701 803 670 698 693 642 753 733 618 675 726 729 525 596 608\n",
      " 737 754 613 635 678 760 809 595 627 713 731 844]\n",
      "ER: [601 653 584 643 746 609 652 646 604 694 680 572 630 677 664 478 532 546\n",
      " 682 700 557 577 638 698 749 553 597 659 655 799]\n",
      "ERA: [3.73 4.07 3.67 3.98 4.64 3.8  4.03 4.05 3.74 4.31 4.24 3.57 3.94 4.16\n",
      " 4.14 2.94 3.21 3.36 4.28 4.33 3.43 3.62 4.02 4.41 4.69 3.44 3.72 4.04\n",
      " 4.09 5.04]\n",
      "CG: [ 2 11  7  3  0  1  5  6  4]\n",
      "SHO: [ 8 12 10  9  4 13 15 21  7 14 18  6]\n",
      "SV: [56 45 38 37 35 34 48 43 60 40 39 46 28 62 54 50 41 44 47 36]\n",
      "E: [ 88  86  79 101  93  77  95  97 119  85  94 126  96 122 111 116  90 117\n",
      "  75  78  92]\n"
     ]
    }
   ],
   "source": [
    "# Checking Unique values of Dataset:\n",
    "\n",
    "column_name =df.columns.values\n",
    "for column in column_name:\n",
    "    print(\"{0}: {1}\".format(column, df[column].unique()))"
   ]
  },
  {
   "cell_type": "markdown",
   "id": "45f87316",
   "metadata": {},
   "source": [
    "Unique values checked and no null value present."
   ]
  },
  {
   "cell_type": "code",
   "execution_count": 8,
   "id": "30756bcc",
   "metadata": {},
   "outputs": [
    {
     "name": "stdout",
     "output_type": "stream",
     "text": [
      "<class 'pandas.core.frame.DataFrame'>\n",
      "RangeIndex: 30 entries, 0 to 29\n",
      "Data columns (total 17 columns):\n",
      " #   Column  Non-Null Count  Dtype  \n",
      "---  ------  --------------  -----  \n",
      " 0   W       30 non-null     int64  \n",
      " 1   R       30 non-null     int64  \n",
      " 2   AB      30 non-null     int64  \n",
      " 3   H       30 non-null     int64  \n",
      " 4   2B      30 non-null     int64  \n",
      " 5   3B      30 non-null     int64  \n",
      " 6   HR      30 non-null     int64  \n",
      " 7   BB      30 non-null     int64  \n",
      " 8   SO      30 non-null     int64  \n",
      " 9   SB      30 non-null     int64  \n",
      " 10  RA      30 non-null     int64  \n",
      " 11  ER      30 non-null     int64  \n",
      " 12  ERA     30 non-null     float64\n",
      " 13  CG      30 non-null     int64  \n",
      " 14  SHO     30 non-null     int64  \n",
      " 15  SV      30 non-null     int64  \n",
      " 16  E       30 non-null     int64  \n",
      "dtypes: float64(1), int64(16)\n",
      "memory usage: 4.1 KB\n"
     ]
    }
   ],
   "source": [
    "#Information about Dataset:\n",
    "\n",
    "df.info()"
   ]
  },
  {
   "cell_type": "markdown",
   "id": "054868e0",
   "metadata": {},
   "source": [
    "No null values and Count of data is 30 in each column Datatype: 1 Float and 16 are int64 datatype\n",
    "Target label : 'W' and its Regression type"
   ]
  },
  {
   "cell_type": "code",
   "execution_count": 9,
   "id": "2957b231",
   "metadata": {},
   "outputs": [
    {
     "data": {
      "text/plain": [
       "Index(['W', 'R', 'AB', 'H', '2B', '3B', 'HR', 'BB', 'SO', 'SB', 'RA', 'ER',\n",
       "       'ERA', 'CG', 'SHO', 'SV', 'E'],\n",
       "      dtype='object')"
      ]
     },
     "execution_count": 9,
     "metadata": {},
     "output_type": "execute_result"
    }
   ],
   "source": [
    "# Columns name:\n",
    "\n",
    "df.columns"
   ]
  },
  {
   "cell_type": "markdown",
   "id": "dbd8cf03",
   "metadata": {},
   "source": [
    "17 columns present"
   ]
  },
  {
   "cell_type": "markdown",
   "id": "f844b49e",
   "metadata": {},
   "source": [
    "# EDA"
   ]
  },
  {
   "cell_type": "markdown",
   "id": "45f99e01",
   "metadata": {},
   "source": [
    "## Visualization"
   ]
  },
  {
   "cell_type": "code",
   "execution_count": 10,
   "id": "6d53c187",
   "metadata": {},
   "outputs": [],
   "source": [
    "# Importing Libraries:\n",
    "import seaborn as sns\n",
    "import matplotlib.pyplot as plt\n",
    "import warnings\n",
    "warnings.filterwarnings('ignore')"
   ]
  },
  {
   "cell_type": "code",
   "execution_count": 11,
   "id": "a6661a29",
   "metadata": {},
   "outputs": [],
   "source": [
    "# Plotting Target Label:"
   ]
  },
  {
   "cell_type": "code",
   "execution_count": 12,
   "id": "1cfcdf93",
   "metadata": {},
   "outputs": [
    {
     "data": {
      "text/plain": [
       "<AxesSubplot:xlabel='W', ylabel='Density'>"
      ]
     },
     "execution_count": 12,
     "metadata": {},
     "output_type": "execute_result"
    },
    {
     "data": {
      "image/png": "[encoded data removed]",
      "text/plain": [
       "<Figure size 432x288 with 1 Axes>"
      ]
     },
     "metadata": {
      "needs_background": "light"
     },
     "output_type": "display_data"
    }
   ],
   "source": [
    "sns.distplot(df['W'], kde=True)"
   ]
  },
  {
   "cell_type": "markdown",
   "id": "8a297118",
   "metadata": {},
   "source": [
    "Data is not normally distributed, skewness present"
   ]
  },
  {
   "cell_type": "code",
   "execution_count": 13,
   "id": "d2544e16",
   "metadata": {},
   "outputs": [
    {
     "data": {
      "text/plain": [
       "<AxesSubplot:xlabel='R', ylabel='Density'>"
      ]
     },
     "execution_count": 13,
     "metadata": {},
     "output_type": "execute_result"
    },
    {
     "data": {
      "image/png": "[encoded data removed]",
      "text/plain": [
       "<Figure size 432x288 with 1 Axes>"
      ]
     },
     "metadata": {
      "needs_background": "light"
     },
     "output_type": "display_data"
    }
   ],
   "source": [
    "sns.distplot(df['R'], kde=True)"
   ]
  },
  {
   "cell_type": "markdown",
   "id": "9e94f44e",
   "metadata": {},
   "source": [
    "Data is not normally distributed, skewness present"
   ]
  },
  {
   "cell_type": "code",
   "execution_count": 14,
   "id": "c44d2b06",
   "metadata": {},
   "outputs": [
    {
     "data": {
      "text/plain": [
       "<AxesSubplot:xlabel='AB', ylabel='Density'>"
      ]
     },
     "execution_count": 14,
     "metadata": {},
     "output_type": "execute_result"
    },
    {
     "data": {
      "image/png": "[encoded data removed]",
      "text/plain": [
       "<Figure size 432x288 with 1 Axes>"
      ]
     },
     "metadata": {
      "needs_background": "light"
     },
     "output_type": "display_data"
    }
   ],
   "source": [
    "sns.distplot(df['AB'], kde=True)"
   ]
  },
  {
   "cell_type": "markdown",
   "id": "824a1a5f",
   "metadata": {},
   "source": [
    "Data is not normally distributed, skewness present"
   ]
  },
  {
   "cell_type": "code",
   "execution_count": 15,
   "id": "c237acc2",
   "metadata": {},
   "outputs": [
    {
     "data": {
      "text/plain": [
       "<AxesSubplot:xlabel='H', ylabel='Density'>"
      ]
     },
     "execution_count": 15,
     "metadata": {},
     "output_type": "execute_result"
    },
    {
     "data": {
      "image/png": "[encoded data removed]",
      "text/plain": [
       "<Figure size 432x288 with 1 Axes>"
      ]
     },
     "metadata": {
      "needs_background": "light"
     },
     "output_type": "display_data"
    }
   ],
   "source": [
    "sns.distplot(df['H'], kde=True)"
   ]
  },
  {
   "cell_type": "markdown",
   "id": "ec77812a",
   "metadata": {},
   "source": [
    "Data is not normally distributed, skewness present"
   ]
  },
  {
   "cell_type": "code",
   "execution_count": 16,
   "id": "655e48ce",
   "metadata": {},
   "outputs": [
    {
     "data": {
      "text/plain": [
       "<AxesSubplot:xlabel='2B', ylabel='Density'>"
      ]
     },
     "execution_count": 16,
     "metadata": {},
     "output_type": "execute_result"
    },
    {
     "data": {
      "image/png": "[encoded data removed]",
      "text/plain": [
       "<Figure size 432x288 with 1 Axes>"
      ]
     },
     "metadata": {
      "needs_background": "light"
     },
     "output_type": "display_data"
    }
   ],
   "source": [
    "sns.distplot(df['2B'], kde=True)"
   ]
  },
  {
   "cell_type": "markdown",
   "id": "bfec9d6d",
   "metadata": {},
   "source": [
    "Data is not normally distributed, skewness present"
   ]
  },
  {
   "cell_type": "code",
   "execution_count": 17,
   "id": "f706000c",
   "metadata": {},
   "outputs": [
    {
     "data": {
      "text/plain": [
       "<AxesSubplot:xlabel='3B', ylabel='Density'>"
      ]
     },
     "execution_count": 17,
     "metadata": {},
     "output_type": "execute_result"
    },
    {
     "data": {
      "image/png": "[encoded data removed]",
      "text/plain": [
       "<Figure size 432x288 with 1 Axes>"
      ]
     },
     "metadata": {
      "needs_background": "light"
     },
     "output_type": "display_data"
    }
   ],
   "source": [
    "sns.distplot(df['3B'], kde=True)"
   ]
  },
  {
   "cell_type": "markdown",
   "id": "45a32ab4",
   "metadata": {},
   "source": [
    "Data is normally distributed almost "
   ]
  },
  {
   "cell_type": "code",
   "execution_count": 18,
   "id": "1c678ed3",
   "metadata": {},
   "outputs": [
    {
     "data": {
      "text/plain": [
       "<AxesSubplot:xlabel='HR', ylabel='Density'>"
      ]
     },
     "execution_count": 18,
     "metadata": {},
     "output_type": "execute_result"
    },
    {
     "data": {
      "image/png": "[encoded data removed]",
      "text/plain": [
       "<Figure size 432x288 with 1 Axes>"
      ]
     },
     "metadata": {
      "needs_background": "light"
     },
     "output_type": "display_data"
    }
   ],
   "source": [
    "sns.distplot(df['HR'], kde=True)"
   ]
  },
  {
   "cell_type": "markdown",
   "id": "6fcc801b",
   "metadata": {},
   "source": [
    "Data is not normally distributed, skewness present"
   ]
  },
  {
   "cell_type": "code",
   "execution_count": 19,
   "id": "a1a792e9",
   "metadata": {},
   "outputs": [
    {
     "data": {
      "text/plain": [
       "<AxesSubplot:xlabel='BB', ylabel='Density'>"
      ]
     },
     "execution_count": 19,
     "metadata": {},
     "output_type": "execute_result"
    },
    {
     "data": {
      "image/png": "[encoded data removed]",
      "text/plain": [
       "<Figure size 432x288 with 1 Axes>"
      ]
     },
     "metadata": {
      "needs_background": "light"
     },
     "output_type": "display_data"
    }
   ],
   "source": [
    "sns.distplot(df['BB'], kde=True)"
   ]
  },
  {
   "cell_type": "markdown",
   "id": "ad09d47c",
   "metadata": {},
   "source": [
    "Data is not normally distributed, skewness present"
   ]
  },
  {
   "cell_type": "code",
   "execution_count": 20,
   "id": "e40a7377",
   "metadata": {},
   "outputs": [
    {
     "data": {
      "text/plain": [
       "<AxesSubplot:xlabel='SO', ylabel='Density'>"
      ]
     },
     "execution_count": 20,
     "metadata": {},
     "output_type": "execute_result"
    },
    {
     "data": {
      "image/png": "[encoded data removed]",
      "text/plain": [
       "<Figure size 432x288 with 1 Axes>"
      ]
     },
     "metadata": {
      "needs_background": "light"
     },
     "output_type": "display_data"
    }
   ],
   "source": [
    "sns.distplot(df['SO'], kde=True)"
   ]
  },
  {
   "cell_type": "markdown",
   "id": "de45ca1a",
   "metadata": {},
   "source": [
    "Data is not normally distributed, skewness present"
   ]
  },
  {
   "cell_type": "code",
   "execution_count": 21,
   "id": "fa5f4ff5",
   "metadata": {},
   "outputs": [
    {
     "data": {
      "text/plain": [
       "<AxesSubplot:xlabel='SB', ylabel='Density'>"
      ]
     },
     "execution_count": 21,
     "metadata": {},
     "output_type": "execute_result"
    },
    {
     "data": {
      "image/png": "[encoded data removed]",
      "text/plain": [
       "<Figure size 432x288 with 1 Axes>"
      ]
     },
     "metadata": {
      "needs_background": "light"
     },
     "output_type": "display_data"
    }
   ],
   "source": [
    "sns.distplot(df['SB'], kde=True)"
   ]
  },
  {
   "cell_type": "markdown",
   "id": "6b16ce1c",
   "metadata": {},
   "source": [
    "Data is not normally distributed, small skewness present"
   ]
  },
  {
   "cell_type": "code",
   "execution_count": 22,
   "id": "80291c11",
   "metadata": {},
   "outputs": [
    {
     "data": {
      "text/plain": [
       "<AxesSubplot:xlabel='RA', ylabel='Density'>"
      ]
     },
     "execution_count": 22,
     "metadata": {},
     "output_type": "execute_result"
    },
    {
     "data": {
      "image/png": "[encoded data removed]",
      "text/plain": [
       "<Figure size 432x288 with 1 Axes>"
      ]
     },
     "metadata": {
      "needs_background": "light"
     },
     "output_type": "display_data"
    }
   ],
   "source": [
    "sns.distplot(df['RA'], kde=True)"
   ]
  },
  {
   "cell_type": "markdown",
   "id": "1b4de4a6",
   "metadata": {},
   "source": [
    "Data is not normally distributed, skewness present"
   ]
  },
  {
   "cell_type": "code",
   "execution_count": 23,
   "id": "a6eb0fd3",
   "metadata": {},
   "outputs": [
    {
     "data": {
      "text/plain": [
       "<AxesSubplot:xlabel='ER', ylabel='Density'>"
      ]
     },
     "execution_count": 23,
     "metadata": {},
     "output_type": "execute_result"
    },
    {
     "data": {
      "image/png": "[encoded data removed]",
      "text/plain": [
       "<Figure size 432x288 with 1 Axes>"
      ]
     },
     "metadata": {
      "needs_background": "light"
     },
     "output_type": "display_data"
    }
   ],
   "source": [
    "sns.distplot(df['ER'], kde=True)"
   ]
  },
  {
   "cell_type": "markdown",
   "id": "9620c157",
   "metadata": {},
   "source": [
    "Data is not normally distributed, skewness present"
   ]
  },
  {
   "cell_type": "code",
   "execution_count": 24,
   "id": "8a9d57de",
   "metadata": {},
   "outputs": [
    {
     "data": {
      "text/plain": [
       "<AxesSubplot:xlabel='ERA', ylabel='Density'>"
      ]
     },
     "execution_count": 24,
     "metadata": {},
     "output_type": "execute_result"
    },
    {
     "data": {
      "image/png": "[encoded data removed]",
      "text/plain": [
       "<Figure size 432x288 with 1 Axes>"
      ]
     },
     "metadata": {
      "needs_background": "light"
     },
     "output_type": "display_data"
    }
   ],
   "source": [
    "sns.distplot(df['ERA'], kde=True)"
   ]
  },
  {
   "cell_type": "markdown",
   "id": "ffab62cb",
   "metadata": {},
   "source": [
    "Data is almost normally distributed"
   ]
  },
  {
   "cell_type": "code",
   "execution_count": 25,
   "id": "da07dae6",
   "metadata": {},
   "outputs": [
    {
     "data": {
      "text/plain": [
       "<AxesSubplot:xlabel='CG', ylabel='Density'>"
      ]
     },
     "execution_count": 25,
     "metadata": {},
     "output_type": "execute_result"
    },
    {
     "data": {
      "image/png": "[encoded data removed]",
      "text/plain": [
       "<Figure size 432x288 with 1 Axes>"
      ]
     },
     "metadata": {
      "needs_background": "light"
     },
     "output_type": "display_data"
    }
   ],
   "source": [
    "sns.distplot(df['CG'], kde=True)"
   ]
  },
  {
   "cell_type": "markdown",
   "id": "4a5e7ac8",
   "metadata": {},
   "source": [
    "Data is not normally distributed, skewness present"
   ]
  },
  {
   "cell_type": "code",
   "execution_count": 26,
   "id": "74799727",
   "metadata": {},
   "outputs": [
    {
     "data": {
      "text/plain": [
       "<AxesSubplot:xlabel='SHO', ylabel='Density'>"
      ]
     },
     "execution_count": 26,
     "metadata": {},
     "output_type": "execute_result"
    },
    {
     "data": {
      "image/png": "[encoded data removed]",
      "text/plain": [
       "<Figure size 432x288 with 1 Axes>"
      ]
     },
     "metadata": {
      "needs_background": "light"
     },
     "output_type": "display_data"
    }
   ],
   "source": [
    "sns.distplot(df['SHO'], kde=True)"
   ]
  },
  {
   "cell_type": "markdown",
   "id": "b69b6edd",
   "metadata": {},
   "source": [
    "Data is not normally distributed, skewness present"
   ]
  },
  {
   "cell_type": "code",
   "execution_count": 27,
   "id": "8467b9e1",
   "metadata": {},
   "outputs": [
    {
     "data": {
      "text/plain": [
       "<AxesSubplot:xlabel='SV', ylabel='Density'>"
      ]
     },
     "execution_count": 27,
     "metadata": {},
     "output_type": "execute_result"
    },
    {
     "data": {
      "image/png": "[encoded data removed]",
      "text/plain": [
       "<Figure size 432x288 with 1 Axes>"
      ]
     },
     "metadata": {
      "needs_background": "light"
     },
     "output_type": "display_data"
    }
   ],
   "source": [
    "sns.distplot(df['SV'], kde=True)"
   ]
  },
  {
   "cell_type": "markdown",
   "id": "2af93613",
   "metadata": {},
   "source": [
    "Data is not normally distributed, skewness present"
   ]
  },
  {
   "cell_type": "code",
   "execution_count": 28,
   "id": "3aabf63a",
   "metadata": {},
   "outputs": [
    {
     "data": {
      "text/plain": [
       "<AxesSubplot:xlabel='E', ylabel='Density'>"
      ]
     },
     "execution_count": 28,
     "metadata": {},
     "output_type": "execute_result"
    },
    {
     "data": {
      "image/png": "[encoded data removed]",
      "text/plain": [
       "<Figure size 432x288 with 1 Axes>"
      ]
     },
     "metadata": {
      "needs_background": "light"
     },
     "output_type": "display_data"
    }
   ],
   "source": [
    "sns.distplot(df['E'], kde=True)"
   ]
  },
  {
   "cell_type": "markdown",
   "id": "7fb5c80c",
   "metadata": {},
   "source": [
    "Data is not normally distributed, skewness present"
   ]
  },
  {
   "cell_type": "code",
   "execution_count": 29,
   "id": "2b3d1901",
   "metadata": {},
   "outputs": [
    {
     "data": {
      "image/png": "[encoded data removed]",
      "text/plain": [
       "<Figure size 432x288 with 1 Axes>"
      ]
     },
     "metadata": {
      "needs_background": "light"
     },
     "output_type": "display_data"
    }
   ],
   "source": [
    "g=sns.histplot(x=\"W\",y=\"R\",data=df,color='g')"
   ]
  },
  {
   "cell_type": "markdown",
   "id": "1fa43897",
   "metadata": {},
   "source": [
    "Number of wins are more when R is between 750 and 700"
   ]
  },
  {
   "cell_type": "code",
   "execution_count": 30,
   "id": "1cd9e0a1",
   "metadata": {},
   "outputs": [
    {
     "data": {
      "image/png": "[encoded data removed]",
      "text/plain": [
       "<Figure size 432x288 with 1 Axes>"
      ]
     },
     "metadata": {
      "needs_background": "light"
     },
     "output_type": "display_data"
    }
   ],
   "source": [
    "g=sns.histplot(x=\"W\",y=\"H\",data=df,color='g')"
   ]
  },
  {
   "cell_type": "markdown",
   "id": "c1fbe908",
   "metadata": {},
   "source": [
    "Number of wins are more when H lies between 1375"
   ]
  },
  {
   "cell_type": "code",
   "execution_count": 31,
   "id": "97440a19",
   "metadata": {},
   "outputs": [
    {
     "data": {
      "image/png": "[encoded data removed]",
      "text/plain": [
       "<Figure size 432x288 with 1 Axes>"
      ]
     },
     "metadata": {
      "needs_background": "light"
     },
     "output_type": "display_data"
    }
   ],
   "source": [
    "g=sns.histplot(x=\"W\",y=\"ERA\",data=df,color='g')"
   ]
  },
  {
   "cell_type": "markdown",
   "id": "acb522d4",
   "metadata": {},
   "source": [
    "Number of wins are more when ERA lies between 3.5 to 4.5"
   ]
  },
  {
   "cell_type": "code",
   "execution_count": 32,
   "id": "129460e0",
   "metadata": {},
   "outputs": [
    {
     "data": {
      "image/png": "[encoded data removed]",
      "text/plain": [
       "<Figure size 432x288 with 1 Axes>"
      ]
     },
     "metadata": {
      "needs_background": "light"
     },
     "output_type": "display_data"
    }
   ],
   "source": [
    "g=sns.histplot(x=\"W\",y=\"HR\",data=df,color='g')"
   ]
  },
  {
   "cell_type": "markdown",
   "id": "2579f5d8",
   "metadata": {},
   "source": [
    "Number of wins are more when HR lies between 120 to 140 and 160 to 180"
   ]
  },
  {
   "cell_type": "code",
   "execution_count": 33,
   "id": "5d2d5a52",
   "metadata": {},
   "outputs": [
    {
     "data": {
      "image/png": "[encoded data removed]",
      "text/plain": [
       "<Figure size 432x288 with 1 Axes>"
      ]
     },
     "metadata": {
      "needs_background": "light"
     },
     "output_type": "display_data"
    }
   ],
   "source": [
    "g=sns.histplot(x=\"W\",y=\"SV\",data=df,color='g')"
   ]
  },
  {
   "cell_type": "markdown",
   "id": "4e3e282f",
   "metadata": {},
   "source": [
    "Number of wins are more when SV lies between 35 to 50"
   ]
  },
  {
   "cell_type": "code",
   "execution_count": 34,
   "id": "f381e2d3",
   "metadata": {},
   "outputs": [
    {
     "data": {
      "image/png": "[encoded data removed]",
      "text/plain": [
       "<Figure size 432x288 with 1 Axes>"
      ]
     },
     "metadata": {
      "needs_background": "light"
     },
     "output_type": "display_data"
    }
   ],
   "source": [
    "g=sns.histplot(x=\"W\",y=\"SO\",data=df,color='g')"
   ]
  },
  {
   "cell_type": "markdown",
   "id": "55f1e36c",
   "metadata": {},
   "source": [
    "Number of wins are more when SO lies between 1300"
   ]
  },
  {
   "cell_type": "code",
   "execution_count": 35,
   "id": "16fbb457",
   "metadata": {},
   "outputs": [
    {
     "data": {
      "image/png": "[encoded data removed]",
      "text/plain": [
       "<Figure size 432x288 with 1 Axes>"
      ]
     },
     "metadata": {
      "needs_background": "light"
     },
     "output_type": "display_data"
    }
   ],
   "source": [
    "g=sns.histplot(x=\"W\",y=\"RA\",data=df,color='g')"
   ]
  },
  {
   "cell_type": "markdown",
   "id": "2ca05a82",
   "metadata": {},
   "source": [
    "Number of wins are more when RA lies between 700 to 750"
   ]
  },
  {
   "cell_type": "code",
   "execution_count": 36,
   "id": "fd895cef",
   "metadata": {},
   "outputs": [
    {
     "data": {
      "image/png": "[encoded data removed]",
      "text/plain": [
       "<Figure size 432x288 with 1 Axes>"
      ]
     },
     "metadata": {
      "needs_background": "light"
     },
     "output_type": "display_data"
    }
   ],
   "source": [
    "g=sns.histplot(x=\"W\",y=\"E\",data=df,color='g')"
   ]
  },
  {
   "cell_type": "markdown",
   "id": "2fffd4ff",
   "metadata": {},
   "source": [
    "Number of wins are more when E lies between 80 to 100"
   ]
  },
  {
   "cell_type": "code",
   "execution_count": 37,
   "id": "a5f14752",
   "metadata": {},
   "outputs": [
    {
     "data": {
      "image/png": "[encoded data removed]",
      "text/plain": [
       "<Figure size 432x288 with 1 Axes>"
      ]
     },
     "metadata": {
      "needs_background": "light"
     },
     "output_type": "display_data"
    }
   ],
   "source": [
    "g=sns.histplot(x=\"W\",y=\"SHO\",data=df,color='g')"
   ]
  },
  {
   "cell_type": "markdown",
   "id": "90074514",
   "metadata": {},
   "source": [
    "Number of wins are more when SHO lies between 7.5 to 15.0"
   ]
  },
  {
   "cell_type": "code",
   "execution_count": 38,
   "id": "33e0c7cc",
   "metadata": {},
   "outputs": [
    {
     "data": {
      "image/png": "[encoded data removed]",
      "text/plain": [
       "<Figure size 432x288 with 1 Axes>"
      ]
     },
     "metadata": {
      "needs_background": "light"
     },
     "output_type": "display_data"
    }
   ],
   "source": [
    "g=sns.histplot(x=\"W\",y=\"CG\",data=df,color='g')"
   ]
  },
  {
   "cell_type": "markdown",
   "id": "9854e4d2",
   "metadata": {},
   "source": [
    "Number of wins are more when CG lies between 0 to 4"
   ]
  },
  {
   "cell_type": "code",
   "execution_count": 39,
   "id": "eed0625e",
   "metadata": {},
   "outputs": [
    {
     "data": {
      "image/png": "[encoded data removed]",
      "text/plain": [
       "<Figure size 432x288 with 1 Axes>"
      ]
     },
     "metadata": {
      "needs_background": "light"
     },
     "output_type": "display_data"
    }
   ],
   "source": [
    "g=sns.histplot(x=\"W\",y=\"3B\",data=df,color='g')"
   ]
  },
  {
   "cell_type": "markdown",
   "id": "3dc67f30",
   "metadata": {},
   "source": [
    "Number of wins are more when 3B lies between 20 to 50"
   ]
  },
  {
   "cell_type": "code",
   "execution_count": 40,
   "id": "0caa7a29",
   "metadata": {},
   "outputs": [
    {
     "data": {
      "image/png": "[encoded data removed]",
      "text/plain": [
       "<Figure size 432x288 with 1 Axes>"
      ]
     },
     "metadata": {
      "needs_background": "light"
     },
     "output_type": "display_data"
    }
   ],
   "source": [
    "g=sns.histplot(x=\"W\",y=\"BB\",data=df,color='g')"
   ]
  },
  {
   "cell_type": "markdown",
   "id": "d14a4c8d",
   "metadata": {},
   "source": [
    "Number of wins are more when BB lies between 475 to 500"
   ]
  },
  {
   "cell_type": "code",
   "execution_count": 41,
   "id": "e55d885e",
   "metadata": {},
   "outputs": [
    {
     "data": {
      "image/png": "[encoded data removed]",
      "text/plain": [
       "<Figure size 432x288 with 1 Axes>"
      ]
     },
     "metadata": {
      "needs_background": "light"
     },
     "output_type": "display_data"
    }
   ],
   "source": [
    "g=sns.histplot(x=\"W\",y=\"SB\",data=df,color='g')"
   ]
  },
  {
   "cell_type": "markdown",
   "id": "3b60219f",
   "metadata": {},
   "source": [
    "Number of wins are more when SB lies between 60 to 100"
   ]
  },
  {
   "cell_type": "markdown",
   "id": "408b2acd",
   "metadata": {},
   "source": [
    "## Describing the dataset"
   ]
  },
  {
   "cell_type": "code",
   "execution_count": 42,
   "id": "83b3614f",
   "metadata": {},
   "outputs": [
    {
     "data": {
      "text/html": [
       "<div>\n",
       "<style scoped>\n",
       "    .dataframe tbody tr th:only-of-type {\n",
       "        vertical-align: middle;\n",
       "    }\n",
       "\n",
       "    .dataframe tbody tr th {\n",
       "        vertical-align: top;\n",
       "    }\n",
       "\n",
       "    .dataframe thead th {\n",
       "        text-align: right;\n",
       "    }\n",
       "</style>\n",
       "<table border=\"1\" class=\"dataframe\">\n",
       "  <thead>\n",
       "    <tr style=\"text-align: right;\">\n",
       "      <th></th>\n",
       "      <th>W</th>\n",
       "      <th>R</th>\n",
       "      <th>AB</th>\n",
       "      <th>H</th>\n",
       "      <th>2B</th>\n",
       "      <th>3B</th>\n",
       "      <th>HR</th>\n",
       "      <th>BB</th>\n",
       "      <th>SO</th>\n",
       "      <th>SB</th>\n",
       "      <th>RA</th>\n",
       "      <th>ER</th>\n",
       "      <th>ERA</th>\n",
       "      <th>CG</th>\n",
       "      <th>SHO</th>\n",
       "      <th>SV</th>\n",
       "      <th>E</th>\n",
       "    </tr>\n",
       "  </thead>\n",
       "  <tbody>\n",
       "    <tr>\n",
       "      <th>count</th>\n",
       "      <td>30.000000</td>\n",
       "      <td>30.000000</td>\n",
       "      <td>30.000000</td>\n",
       "      <td>30.000000</td>\n",
       "      <td>30.000000</td>\n",
       "      <td>30.000000</td>\n",
       "      <td>30.000000</td>\n",
       "      <td>30.000000</td>\n",
       "      <td>30.00000</td>\n",
       "      <td>30.000000</td>\n",
       "      <td>30.000000</td>\n",
       "      <td>30.000000</td>\n",
       "      <td>30.000000</td>\n",
       "      <td>30.000000</td>\n",
       "      <td>30.000000</td>\n",
       "      <td>30.000000</td>\n",
       "      <td>30.000000</td>\n",
       "    </tr>\n",
       "    <tr>\n",
       "      <th>mean</th>\n",
       "      <td>80.966667</td>\n",
       "      <td>688.233333</td>\n",
       "      <td>5516.266667</td>\n",
       "      <td>1403.533333</td>\n",
       "      <td>274.733333</td>\n",
       "      <td>31.300000</td>\n",
       "      <td>163.633333</td>\n",
       "      <td>469.100000</td>\n",
       "      <td>1248.20000</td>\n",
       "      <td>83.500000</td>\n",
       "      <td>688.233333</td>\n",
       "      <td>635.833333</td>\n",
       "      <td>3.956333</td>\n",
       "      <td>3.466667</td>\n",
       "      <td>11.300000</td>\n",
       "      <td>43.066667</td>\n",
       "      <td>94.333333</td>\n",
       "    </tr>\n",
       "    <tr>\n",
       "      <th>std</th>\n",
       "      <td>10.453455</td>\n",
       "      <td>58.761754</td>\n",
       "      <td>70.467372</td>\n",
       "      <td>57.140923</td>\n",
       "      <td>18.095405</td>\n",
       "      <td>10.452355</td>\n",
       "      <td>31.823309</td>\n",
       "      <td>57.053725</td>\n",
       "      <td>103.75947</td>\n",
       "      <td>22.815225</td>\n",
       "      <td>72.108005</td>\n",
       "      <td>70.140786</td>\n",
       "      <td>0.454089</td>\n",
       "      <td>2.763473</td>\n",
       "      <td>4.120177</td>\n",
       "      <td>7.869335</td>\n",
       "      <td>13.958889</td>\n",
       "    </tr>\n",
       "    <tr>\n",
       "      <th>min</th>\n",
       "      <td>63.000000</td>\n",
       "      <td>573.000000</td>\n",
       "      <td>5385.000000</td>\n",
       "      <td>1324.000000</td>\n",
       "      <td>236.000000</td>\n",
       "      <td>13.000000</td>\n",
       "      <td>100.000000</td>\n",
       "      <td>375.000000</td>\n",
       "      <td>973.00000</td>\n",
       "      <td>44.000000</td>\n",
       "      <td>525.000000</td>\n",
       "      <td>478.000000</td>\n",
       "      <td>2.940000</td>\n",
       "      <td>0.000000</td>\n",
       "      <td>4.000000</td>\n",
       "      <td>28.000000</td>\n",
       "      <td>75.000000</td>\n",
       "    </tr>\n",
       "    <tr>\n",
       "      <th>25%</th>\n",
       "      <td>74.000000</td>\n",
       "      <td>651.250000</td>\n",
       "      <td>5464.000000</td>\n",
       "      <td>1363.000000</td>\n",
       "      <td>262.250000</td>\n",
       "      <td>23.000000</td>\n",
       "      <td>140.250000</td>\n",
       "      <td>428.250000</td>\n",
       "      <td>1157.50000</td>\n",
       "      <td>69.000000</td>\n",
       "      <td>636.250000</td>\n",
       "      <td>587.250000</td>\n",
       "      <td>3.682500</td>\n",
       "      <td>1.000000</td>\n",
       "      <td>9.000000</td>\n",
       "      <td>37.250000</td>\n",
       "      <td>86.000000</td>\n",
       "    </tr>\n",
       "    <tr>\n",
       "      <th>50%</th>\n",
       "      <td>81.000000</td>\n",
       "      <td>689.000000</td>\n",
       "      <td>5510.000000</td>\n",
       "      <td>1382.500000</td>\n",
       "      <td>275.500000</td>\n",
       "      <td>31.000000</td>\n",
       "      <td>158.500000</td>\n",
       "      <td>473.000000</td>\n",
       "      <td>1261.50000</td>\n",
       "      <td>83.500000</td>\n",
       "      <td>695.500000</td>\n",
       "      <td>644.500000</td>\n",
       "      <td>4.025000</td>\n",
       "      <td>3.000000</td>\n",
       "      <td>12.000000</td>\n",
       "      <td>42.000000</td>\n",
       "      <td>91.000000</td>\n",
       "    </tr>\n",
       "    <tr>\n",
       "      <th>75%</th>\n",
       "      <td>87.750000</td>\n",
       "      <td>718.250000</td>\n",
       "      <td>5570.000000</td>\n",
       "      <td>1451.500000</td>\n",
       "      <td>288.750000</td>\n",
       "      <td>39.000000</td>\n",
       "      <td>177.000000</td>\n",
       "      <td>501.250000</td>\n",
       "      <td>1311.50000</td>\n",
       "      <td>96.500000</td>\n",
       "      <td>732.500000</td>\n",
       "      <td>679.250000</td>\n",
       "      <td>4.220000</td>\n",
       "      <td>5.750000</td>\n",
       "      <td>13.000000</td>\n",
       "      <td>46.750000</td>\n",
       "      <td>96.750000</td>\n",
       "    </tr>\n",
       "    <tr>\n",
       "      <th>max</th>\n",
       "      <td>100.000000</td>\n",
       "      <td>891.000000</td>\n",
       "      <td>5649.000000</td>\n",
       "      <td>1515.000000</td>\n",
       "      <td>308.000000</td>\n",
       "      <td>49.000000</td>\n",
       "      <td>232.000000</td>\n",
       "      <td>570.000000</td>\n",
       "      <td>1518.00000</td>\n",
       "      <td>134.000000</td>\n",
       "      <td>844.000000</td>\n",
       "      <td>799.000000</td>\n",
       "      <td>5.040000</td>\n",
       "      <td>11.000000</td>\n",
       "      <td>21.000000</td>\n",
       "      <td>62.000000</td>\n",
       "      <td>126.000000</td>\n",
       "    </tr>\n",
       "  </tbody>\n",
       "</table>\n",
       "</div>"
      ],
      "text/plain": [
       "                W           R           AB            H          2B  \\\n",
       "count   30.000000   30.000000    30.000000    30.000000   30.000000   \n",
       "mean    80.966667  688.233333  5516.266667  1403.533333  274.733333   \n",
       "std     10.453455   58.761754    70.467372    57.140923   18.095405   \n",
       "min     63.000000  573.000000  5385.000000  1324.000000  236.000000   \n",
       "25%     74.000000  651.250000  5464.000000  1363.000000  262.250000   \n",
       "50%     81.000000  689.000000  5510.000000  1382.500000  275.500000   \n",
       "75%     87.750000  718.250000  5570.000000  1451.500000  288.750000   \n",
       "max    100.000000  891.000000  5649.000000  1515.000000  308.000000   \n",
       "\n",
       "              3B          HR          BB          SO          SB          RA  \\\n",
       "count  30.000000   30.000000   30.000000    30.00000   30.000000   30.000000   \n",
       "mean   31.300000  163.633333  469.100000  1248.20000   83.500000  688.233333   \n",
       "std    10.452355   31.823309   57.053725   103.75947   22.815225   72.108005   \n",
       "min    13.000000  100.000000  375.000000   973.00000   44.000000  525.000000   \n",
       "25%    23.000000  140.250000  428.250000  1157.50000   69.000000  636.250000   \n",
       "50%    31.000000  158.500000  473.000000  1261.50000   83.500000  695.500000   \n",
       "75%    39.000000  177.000000  501.250000  1311.50000   96.500000  732.500000   \n",
       "max    49.000000  232.000000  570.000000  1518.00000  134.000000  844.000000   \n",
       "\n",
       "               ER        ERA         CG        SHO         SV           E  \n",
       "count   30.000000  30.000000  30.000000  30.000000  30.000000   30.000000  \n",
       "mean   635.833333   3.956333   3.466667  11.300000  43.066667   94.333333  \n",
       "std     70.140786   0.454089   2.763473   4.120177   7.869335   13.958889  \n",
       "min    478.000000   2.940000   0.000000   4.000000  28.000000   75.000000  \n",
       "25%    587.250000   3.682500   1.000000   9.000000  37.250000   86.000000  \n",
       "50%    644.500000   4.025000   3.000000  12.000000  42.000000   91.000000  \n",
       "75%    679.250000   4.220000   5.750000  13.000000  46.750000   96.750000  \n",
       "max    799.000000   5.040000  11.000000  21.000000  62.000000  126.000000  "
      ]
     },
     "execution_count": 42,
     "metadata": {},
     "output_type": "execute_result"
    }
   ],
   "source": [
    "df.describe()"
   ]
  },
  {
   "cell_type": "markdown",
   "id": "48c09589",
   "metadata": {},
   "source": [
    "Key Observations:\n",
    "\n",
    "     1. Mean and Median: Values of mean is greater than median in W,R,AB,H,HR,CG,SV AND E.\n",
    "     2. 75% percentile and max: E has large difference so outliers present. \n",
    "     3.Standard deviation is very much less than mean so high peak data."
   ]
  },
  {
   "cell_type": "code",
   "execution_count": 43,
   "id": "ed50f7e9",
   "metadata": {},
   "outputs": [
    {
     "data": {
      "text/plain": [
       "<AxesSubplot:>"
      ]
     },
     "execution_count": 43,
     "metadata": {},
     "output_type": "execute_result"
    },
    {
     "data": {
      "image/png": "[encoded data removed]",
      "text/plain": [
       "<Figure size 1584x504 with 2 Axes>"
      ]
     },
     "metadata": {
      "needs_background": "light"
     },
     "output_type": "display_data"
    }
   ],
   "source": [
    "import matplotlib.pyplot as plt\n",
    "plt.figure(figsize=(22,7))\n",
    "sns.heatmap(df.describe(),annot=True,linewidths=0.1,linecolor=\"Green\",fmt=\"0.2f\")"
   ]
  },
  {
   "cell_type": "markdown",
   "id": "c32abdf0",
   "metadata": {},
   "source": [
    "Heatmap representation of dataset description"
   ]
  },
  {
   "cell_type": "markdown",
   "id": "38bb62a6",
   "metadata": {},
   "source": [
    "## Outliers:"
   ]
  },
  {
   "cell_type": "code",
   "execution_count": 44,
   "id": "37c5cf34",
   "metadata": {},
   "outputs": [
    {
     "data": {
      "text/plain": [
       "W         AxesSubplot(0.125,0.749828;0.133621x0.130172)\n",
       "R      AxesSubplot(0.285345,0.749828;0.133621x0.130172)\n",
       "AB      AxesSubplot(0.44569,0.749828;0.133621x0.130172)\n",
       "H      AxesSubplot(0.606034,0.749828;0.133621x0.130172)\n",
       "2B     AxesSubplot(0.766379,0.749828;0.133621x0.130172)\n",
       "3B        AxesSubplot(0.125,0.593621;0.133621x0.130172)\n",
       "HR     AxesSubplot(0.285345,0.593621;0.133621x0.130172)\n",
       "BB      AxesSubplot(0.44569,0.593621;0.133621x0.130172)\n",
       "SO     AxesSubplot(0.606034,0.593621;0.133621x0.130172)\n",
       "SB     AxesSubplot(0.766379,0.593621;0.133621x0.130172)\n",
       "RA        AxesSubplot(0.125,0.437414;0.133621x0.130172)\n",
       "ER     AxesSubplot(0.285345,0.437414;0.133621x0.130172)\n",
       "ERA     AxesSubplot(0.44569,0.437414;0.133621x0.130172)\n",
       "CG     AxesSubplot(0.606034,0.437414;0.133621x0.130172)\n",
       "SHO    AxesSubplot(0.766379,0.437414;0.133621x0.130172)\n",
       "SV        AxesSubplot(0.125,0.281207;0.133621x0.130172)\n",
       "E      AxesSubplot(0.285345,0.281207;0.133621x0.130172)\n",
       "dtype: object"
      ]
     },
     "execution_count": 44,
     "metadata": {},
     "output_type": "execute_result"
    },
    {
     "data": {
      "image/png": "[encoded data removed]",
      "text/plain": [
       "<Figure size 720x720 with 25 Axes>"
      ]
     },
     "metadata": {
      "needs_background": "light"
     },
     "output_type": "display_data"
    }
   ],
   "source": [
    "df.plot(kind='box',subplots=True,layout=(5,5),figsize=(10,10))"
   ]
  },
  {
   "cell_type": "markdown",
   "id": "a5baa318",
   "metadata": {},
   "source": [
    "E, SV, R, ERA and SHO columns has outliers so need to remove it."
   ]
  },
  {
   "cell_type": "code",
   "execution_count": 45,
   "id": "6ffd8f0a",
   "metadata": {},
   "outputs": [
    {
     "data": {
      "text/plain": [
       "(array([5], dtype=int64), array([1], dtype=int64))"
      ]
     },
     "execution_count": 45,
     "metadata": {},
     "output_type": "execute_result"
    }
   ],
   "source": [
    "# Removing Outliers: \n",
    "\n",
    "from scipy.stats import zscore\n",
    "import numpy as np\n",
    "z=np.abs(zscore(df))\n",
    "threshold=3\n",
    "np.where(z>3)"
   ]
  },
  {
   "cell_type": "code",
   "execution_count": 46,
   "id": "2e32313e",
   "metadata": {},
   "outputs": [
    {
     "data": {
      "text/html": [
       "<div>\n",
       "<style scoped>\n",
       "    .dataframe tbody tr th:only-of-type {\n",
       "        vertical-align: middle;\n",
       "    }\n",
       "\n",
       "    .dataframe tbody tr th {\n",
       "        vertical-align: top;\n",
       "    }\n",
       "\n",
       "    .dataframe thead th {\n",
       "        text-align: right;\n",
       "    }\n",
       "</style>\n",
       "<table border=\"1\" class=\"dataframe\">\n",
       "  <thead>\n",
       "    <tr style=\"text-align: right;\">\n",
       "      <th></th>\n",
       "      <th>W</th>\n",
       "      <th>R</th>\n",
       "      <th>AB</th>\n",
       "      <th>H</th>\n",
       "      <th>2B</th>\n",
       "      <th>3B</th>\n",
       "      <th>HR</th>\n",
       "      <th>BB</th>\n",
       "      <th>SO</th>\n",
       "      <th>SB</th>\n",
       "      <th>RA</th>\n",
       "      <th>ER</th>\n",
       "      <th>ERA</th>\n",
       "      <th>CG</th>\n",
       "      <th>SHO</th>\n",
       "      <th>SV</th>\n",
       "      <th>E</th>\n",
       "    </tr>\n",
       "  </thead>\n",
       "  <tbody>\n",
       "    <tr>\n",
       "      <th>0</th>\n",
       "      <td>95</td>\n",
       "      <td>724</td>\n",
       "      <td>5575</td>\n",
       "      <td>1497</td>\n",
       "      <td>300</td>\n",
       "      <td>42</td>\n",
       "      <td>139</td>\n",
       "      <td>383</td>\n",
       "      <td>973</td>\n",
       "      <td>104</td>\n",
       "      <td>641</td>\n",
       "      <td>601</td>\n",
       "      <td>3.73</td>\n",
       "      <td>2</td>\n",
       "      <td>8</td>\n",
       "      <td>56</td>\n",
       "      <td>88</td>\n",
       "    </tr>\n",
       "    <tr>\n",
       "      <th>1</th>\n",
       "      <td>83</td>\n",
       "      <td>696</td>\n",
       "      <td>5467</td>\n",
       "      <td>1349</td>\n",
       "      <td>277</td>\n",
       "      <td>44</td>\n",
       "      <td>156</td>\n",
       "      <td>439</td>\n",
       "      <td>1264</td>\n",
       "      <td>70</td>\n",
       "      <td>700</td>\n",
       "      <td>653</td>\n",
       "      <td>4.07</td>\n",
       "      <td>2</td>\n",
       "      <td>12</td>\n",
       "      <td>45</td>\n",
       "      <td>86</td>\n",
       "    </tr>\n",
       "    <tr>\n",
       "      <th>2</th>\n",
       "      <td>81</td>\n",
       "      <td>669</td>\n",
       "      <td>5439</td>\n",
       "      <td>1395</td>\n",
       "      <td>303</td>\n",
       "      <td>29</td>\n",
       "      <td>141</td>\n",
       "      <td>533</td>\n",
       "      <td>1157</td>\n",
       "      <td>86</td>\n",
       "      <td>640</td>\n",
       "      <td>584</td>\n",
       "      <td>3.67</td>\n",
       "      <td>11</td>\n",
       "      <td>10</td>\n",
       "      <td>38</td>\n",
       "      <td>79</td>\n",
       "    </tr>\n",
       "    <tr>\n",
       "      <th>3</th>\n",
       "      <td>76</td>\n",
       "      <td>622</td>\n",
       "      <td>5533</td>\n",
       "      <td>1381</td>\n",
       "      <td>260</td>\n",
       "      <td>27</td>\n",
       "      <td>136</td>\n",
       "      <td>404</td>\n",
       "      <td>1231</td>\n",
       "      <td>68</td>\n",
       "      <td>701</td>\n",
       "      <td>643</td>\n",
       "      <td>3.98</td>\n",
       "      <td>7</td>\n",
       "      <td>9</td>\n",
       "      <td>37</td>\n",
       "      <td>101</td>\n",
       "    </tr>\n",
       "    <tr>\n",
       "      <th>4</th>\n",
       "      <td>74</td>\n",
       "      <td>689</td>\n",
       "      <td>5605</td>\n",
       "      <td>1515</td>\n",
       "      <td>289</td>\n",
       "      <td>49</td>\n",
       "      <td>151</td>\n",
       "      <td>455</td>\n",
       "      <td>1259</td>\n",
       "      <td>83</td>\n",
       "      <td>803</td>\n",
       "      <td>746</td>\n",
       "      <td>4.64</td>\n",
       "      <td>7</td>\n",
       "      <td>12</td>\n",
       "      <td>35</td>\n",
       "      <td>86</td>\n",
       "    </tr>\n",
       "    <tr>\n",
       "      <th>6</th>\n",
       "      <td>87</td>\n",
       "      <td>764</td>\n",
       "      <td>5567</td>\n",
       "      <td>1397</td>\n",
       "      <td>272</td>\n",
       "      <td>19</td>\n",
       "      <td>212</td>\n",
       "      <td>554</td>\n",
       "      <td>1227</td>\n",
       "      <td>63</td>\n",
       "      <td>698</td>\n",
       "      <td>652</td>\n",
       "      <td>4.03</td>\n",
       "      <td>3</td>\n",
       "      <td>4</td>\n",
       "      <td>48</td>\n",
       "      <td>93</td>\n",
       "    </tr>\n",
       "    <tr>\n",
       "      <th>7</th>\n",
       "      <td>81</td>\n",
       "      <td>713</td>\n",
       "      <td>5485</td>\n",
       "      <td>1370</td>\n",
       "      <td>246</td>\n",
       "      <td>20</td>\n",
       "      <td>217</td>\n",
       "      <td>418</td>\n",
       "      <td>1331</td>\n",
       "      <td>44</td>\n",
       "      <td>693</td>\n",
       "      <td>646</td>\n",
       "      <td>4.05</td>\n",
       "      <td>0</td>\n",
       "      <td>10</td>\n",
       "      <td>43</td>\n",
       "      <td>77</td>\n",
       "    </tr>\n",
       "    <tr>\n",
       "      <th>8</th>\n",
       "      <td>80</td>\n",
       "      <td>644</td>\n",
       "      <td>5485</td>\n",
       "      <td>1383</td>\n",
       "      <td>278</td>\n",
       "      <td>32</td>\n",
       "      <td>167</td>\n",
       "      <td>436</td>\n",
       "      <td>1310</td>\n",
       "      <td>87</td>\n",
       "      <td>642</td>\n",
       "      <td>604</td>\n",
       "      <td>3.74</td>\n",
       "      <td>1</td>\n",
       "      <td>12</td>\n",
       "      <td>60</td>\n",
       "      <td>95</td>\n",
       "    </tr>\n",
       "    <tr>\n",
       "      <th>9</th>\n",
       "      <td>78</td>\n",
       "      <td>748</td>\n",
       "      <td>5640</td>\n",
       "      <td>1495</td>\n",
       "      <td>294</td>\n",
       "      <td>33</td>\n",
       "      <td>161</td>\n",
       "      <td>478</td>\n",
       "      <td>1148</td>\n",
       "      <td>71</td>\n",
       "      <td>753</td>\n",
       "      <td>694</td>\n",
       "      <td>4.31</td>\n",
       "      <td>3</td>\n",
       "      <td>10</td>\n",
       "      <td>40</td>\n",
       "      <td>97</td>\n",
       "    </tr>\n",
       "    <tr>\n",
       "      <th>10</th>\n",
       "      <td>88</td>\n",
       "      <td>751</td>\n",
       "      <td>5511</td>\n",
       "      <td>1419</td>\n",
       "      <td>279</td>\n",
       "      <td>32</td>\n",
       "      <td>172</td>\n",
       "      <td>503</td>\n",
       "      <td>1233</td>\n",
       "      <td>101</td>\n",
       "      <td>733</td>\n",
       "      <td>680</td>\n",
       "      <td>4.24</td>\n",
       "      <td>5</td>\n",
       "      <td>9</td>\n",
       "      <td>45</td>\n",
       "      <td>119</td>\n",
       "    </tr>\n",
       "    <tr>\n",
       "      <th>11</th>\n",
       "      <td>86</td>\n",
       "      <td>729</td>\n",
       "      <td>5459</td>\n",
       "      <td>1363</td>\n",
       "      <td>278</td>\n",
       "      <td>26</td>\n",
       "      <td>230</td>\n",
       "      <td>486</td>\n",
       "      <td>1392</td>\n",
       "      <td>121</td>\n",
       "      <td>618</td>\n",
       "      <td>572</td>\n",
       "      <td>3.57</td>\n",
       "      <td>5</td>\n",
       "      <td>13</td>\n",
       "      <td>39</td>\n",
       "      <td>85</td>\n",
       "    </tr>\n",
       "    <tr>\n",
       "      <th>12</th>\n",
       "      <td>85</td>\n",
       "      <td>661</td>\n",
       "      <td>5417</td>\n",
       "      <td>1331</td>\n",
       "      <td>243</td>\n",
       "      <td>21</td>\n",
       "      <td>176</td>\n",
       "      <td>435</td>\n",
       "      <td>1150</td>\n",
       "      <td>52</td>\n",
       "      <td>675</td>\n",
       "      <td>630</td>\n",
       "      <td>3.94</td>\n",
       "      <td>2</td>\n",
       "      <td>12</td>\n",
       "      <td>46</td>\n",
       "      <td>93</td>\n",
       "    </tr>\n",
       "    <tr>\n",
       "      <th>13</th>\n",
       "      <td>76</td>\n",
       "      <td>656</td>\n",
       "      <td>5544</td>\n",
       "      <td>1379</td>\n",
       "      <td>262</td>\n",
       "      <td>22</td>\n",
       "      <td>198</td>\n",
       "      <td>478</td>\n",
       "      <td>1336</td>\n",
       "      <td>69</td>\n",
       "      <td>726</td>\n",
       "      <td>677</td>\n",
       "      <td>4.16</td>\n",
       "      <td>6</td>\n",
       "      <td>12</td>\n",
       "      <td>45</td>\n",
       "      <td>94</td>\n",
       "    </tr>\n",
       "    <tr>\n",
       "      <th>14</th>\n",
       "      <td>68</td>\n",
       "      <td>694</td>\n",
       "      <td>5600</td>\n",
       "      <td>1405</td>\n",
       "      <td>277</td>\n",
       "      <td>46</td>\n",
       "      <td>146</td>\n",
       "      <td>475</td>\n",
       "      <td>1119</td>\n",
       "      <td>78</td>\n",
       "      <td>729</td>\n",
       "      <td>664</td>\n",
       "      <td>4.14</td>\n",
       "      <td>5</td>\n",
       "      <td>15</td>\n",
       "      <td>28</td>\n",
       "      <td>126</td>\n",
       "    </tr>\n",
       "    <tr>\n",
       "      <th>15</th>\n",
       "      <td>100</td>\n",
       "      <td>647</td>\n",
       "      <td>5484</td>\n",
       "      <td>1386</td>\n",
       "      <td>288</td>\n",
       "      <td>39</td>\n",
       "      <td>137</td>\n",
       "      <td>506</td>\n",
       "      <td>1267</td>\n",
       "      <td>69</td>\n",
       "      <td>525</td>\n",
       "      <td>478</td>\n",
       "      <td>2.94</td>\n",
       "      <td>1</td>\n",
       "      <td>15</td>\n",
       "      <td>62</td>\n",
       "      <td>96</td>\n",
       "    </tr>\n",
       "    <tr>\n",
       "      <th>16</th>\n",
       "      <td>98</td>\n",
       "      <td>697</td>\n",
       "      <td>5631</td>\n",
       "      <td>1462</td>\n",
       "      <td>292</td>\n",
       "      <td>27</td>\n",
       "      <td>140</td>\n",
       "      <td>461</td>\n",
       "      <td>1322</td>\n",
       "      <td>98</td>\n",
       "      <td>596</td>\n",
       "      <td>532</td>\n",
       "      <td>3.21</td>\n",
       "      <td>0</td>\n",
       "      <td>13</td>\n",
       "      <td>54</td>\n",
       "      <td>122</td>\n",
       "    </tr>\n",
       "    <tr>\n",
       "      <th>17</th>\n",
       "      <td>97</td>\n",
       "      <td>689</td>\n",
       "      <td>5491</td>\n",
       "      <td>1341</td>\n",
       "      <td>272</td>\n",
       "      <td>30</td>\n",
       "      <td>171</td>\n",
       "      <td>567</td>\n",
       "      <td>1518</td>\n",
       "      <td>95</td>\n",
       "      <td>608</td>\n",
       "      <td>546</td>\n",
       "      <td>3.36</td>\n",
       "      <td>6</td>\n",
       "      <td>21</td>\n",
       "      <td>48</td>\n",
       "      <td>111</td>\n",
       "    </tr>\n",
       "    <tr>\n",
       "      <th>18</th>\n",
       "      <td>68</td>\n",
       "      <td>655</td>\n",
       "      <td>5480</td>\n",
       "      <td>1378</td>\n",
       "      <td>274</td>\n",
       "      <td>34</td>\n",
       "      <td>145</td>\n",
       "      <td>412</td>\n",
       "      <td>1299</td>\n",
       "      <td>84</td>\n",
       "      <td>737</td>\n",
       "      <td>682</td>\n",
       "      <td>4.28</td>\n",
       "      <td>1</td>\n",
       "      <td>7</td>\n",
       "      <td>40</td>\n",
       "      <td>116</td>\n",
       "    </tr>\n",
       "    <tr>\n",
       "      <th>19</th>\n",
       "      <td>64</td>\n",
       "      <td>640</td>\n",
       "      <td>5571</td>\n",
       "      <td>1382</td>\n",
       "      <td>257</td>\n",
       "      <td>27</td>\n",
       "      <td>167</td>\n",
       "      <td>496</td>\n",
       "      <td>1255</td>\n",
       "      <td>134</td>\n",
       "      <td>754</td>\n",
       "      <td>700</td>\n",
       "      <td>4.33</td>\n",
       "      <td>2</td>\n",
       "      <td>8</td>\n",
       "      <td>35</td>\n",
       "      <td>90</td>\n",
       "    </tr>\n",
       "    <tr>\n",
       "      <th>20</th>\n",
       "      <td>90</td>\n",
       "      <td>683</td>\n",
       "      <td>5527</td>\n",
       "      <td>1351</td>\n",
       "      <td>295</td>\n",
       "      <td>17</td>\n",
       "      <td>177</td>\n",
       "      <td>488</td>\n",
       "      <td>1290</td>\n",
       "      <td>51</td>\n",
       "      <td>613</td>\n",
       "      <td>557</td>\n",
       "      <td>3.43</td>\n",
       "      <td>1</td>\n",
       "      <td>14</td>\n",
       "      <td>50</td>\n",
       "      <td>88</td>\n",
       "    </tr>\n",
       "    <tr>\n",
       "      <th>21</th>\n",
       "      <td>83</td>\n",
       "      <td>703</td>\n",
       "      <td>5428</td>\n",
       "      <td>1363</td>\n",
       "      <td>265</td>\n",
       "      <td>13</td>\n",
       "      <td>177</td>\n",
       "      <td>539</td>\n",
       "      <td>1344</td>\n",
       "      <td>57</td>\n",
       "      <td>635</td>\n",
       "      <td>577</td>\n",
       "      <td>3.62</td>\n",
       "      <td>4</td>\n",
       "      <td>13</td>\n",
       "      <td>41</td>\n",
       "      <td>90</td>\n",
       "    </tr>\n",
       "    <tr>\n",
       "      <th>22</th>\n",
       "      <td>71</td>\n",
       "      <td>613</td>\n",
       "      <td>5463</td>\n",
       "      <td>1420</td>\n",
       "      <td>236</td>\n",
       "      <td>40</td>\n",
       "      <td>120</td>\n",
       "      <td>375</td>\n",
       "      <td>1150</td>\n",
       "      <td>112</td>\n",
       "      <td>678</td>\n",
       "      <td>638</td>\n",
       "      <td>4.02</td>\n",
       "      <td>0</td>\n",
       "      <td>12</td>\n",
       "      <td>35</td>\n",
       "      <td>77</td>\n",
       "    </tr>\n",
       "    <tr>\n",
       "      <th>23</th>\n",
       "      <td>67</td>\n",
       "      <td>573</td>\n",
       "      <td>5420</td>\n",
       "      <td>1361</td>\n",
       "      <td>251</td>\n",
       "      <td>18</td>\n",
       "      <td>100</td>\n",
       "      <td>471</td>\n",
       "      <td>1107</td>\n",
       "      <td>69</td>\n",
       "      <td>760</td>\n",
       "      <td>698</td>\n",
       "      <td>4.41</td>\n",
       "      <td>3</td>\n",
       "      <td>10</td>\n",
       "      <td>44</td>\n",
       "      <td>90</td>\n",
       "    </tr>\n",
       "    <tr>\n",
       "      <th>24</th>\n",
       "      <td>63</td>\n",
       "      <td>626</td>\n",
       "      <td>5529</td>\n",
       "      <td>1374</td>\n",
       "      <td>272</td>\n",
       "      <td>37</td>\n",
       "      <td>130</td>\n",
       "      <td>387</td>\n",
       "      <td>1274</td>\n",
       "      <td>88</td>\n",
       "      <td>809</td>\n",
       "      <td>749</td>\n",
       "      <td>4.69</td>\n",
       "      <td>1</td>\n",
       "      <td>7</td>\n",
       "      <td>35</td>\n",
       "      <td>117</td>\n",
       "    </tr>\n",
       "    <tr>\n",
       "      <th>25</th>\n",
       "      <td>92</td>\n",
       "      <td>667</td>\n",
       "      <td>5385</td>\n",
       "      <td>1346</td>\n",
       "      <td>263</td>\n",
       "      <td>26</td>\n",
       "      <td>187</td>\n",
       "      <td>563</td>\n",
       "      <td>1258</td>\n",
       "      <td>59</td>\n",
       "      <td>595</td>\n",
       "      <td>553</td>\n",
       "      <td>3.44</td>\n",
       "      <td>6</td>\n",
       "      <td>21</td>\n",
       "      <td>47</td>\n",
       "      <td>75</td>\n",
       "    </tr>\n",
       "    <tr>\n",
       "      <th>26</th>\n",
       "      <td>84</td>\n",
       "      <td>696</td>\n",
       "      <td>5565</td>\n",
       "      <td>1486</td>\n",
       "      <td>288</td>\n",
       "      <td>39</td>\n",
       "      <td>136</td>\n",
       "      <td>457</td>\n",
       "      <td>1159</td>\n",
       "      <td>93</td>\n",
       "      <td>627</td>\n",
       "      <td>597</td>\n",
       "      <td>3.72</td>\n",
       "      <td>7</td>\n",
       "      <td>18</td>\n",
       "      <td>41</td>\n",
       "      <td>78</td>\n",
       "    </tr>\n",
       "    <tr>\n",
       "      <th>27</th>\n",
       "      <td>79</td>\n",
       "      <td>720</td>\n",
       "      <td>5649</td>\n",
       "      <td>1494</td>\n",
       "      <td>289</td>\n",
       "      <td>48</td>\n",
       "      <td>154</td>\n",
       "      <td>490</td>\n",
       "      <td>1312</td>\n",
       "      <td>132</td>\n",
       "      <td>713</td>\n",
       "      <td>659</td>\n",
       "      <td>4.04</td>\n",
       "      <td>1</td>\n",
       "      <td>12</td>\n",
       "      <td>44</td>\n",
       "      <td>86</td>\n",
       "    </tr>\n",
       "    <tr>\n",
       "      <th>28</th>\n",
       "      <td>74</td>\n",
       "      <td>650</td>\n",
       "      <td>5457</td>\n",
       "      <td>1324</td>\n",
       "      <td>260</td>\n",
       "      <td>36</td>\n",
       "      <td>148</td>\n",
       "      <td>426</td>\n",
       "      <td>1327</td>\n",
       "      <td>82</td>\n",
       "      <td>731</td>\n",
       "      <td>655</td>\n",
       "      <td>4.09</td>\n",
       "      <td>1</td>\n",
       "      <td>6</td>\n",
       "      <td>41</td>\n",
       "      <td>92</td>\n",
       "    </tr>\n",
       "    <tr>\n",
       "      <th>29</th>\n",
       "      <td>68</td>\n",
       "      <td>737</td>\n",
       "      <td>5572</td>\n",
       "      <td>1479</td>\n",
       "      <td>274</td>\n",
       "      <td>49</td>\n",
       "      <td>186</td>\n",
       "      <td>388</td>\n",
       "      <td>1283</td>\n",
       "      <td>97</td>\n",
       "      <td>844</td>\n",
       "      <td>799</td>\n",
       "      <td>5.04</td>\n",
       "      <td>4</td>\n",
       "      <td>4</td>\n",
       "      <td>36</td>\n",
       "      <td>95</td>\n",
       "    </tr>\n",
       "  </tbody>\n",
       "</table>\n",
       "</div>"
      ],
      "text/plain": [
       "      W    R    AB     H   2B  3B   HR   BB    SO   SB   RA   ER   ERA  CG  \\\n",
       "0    95  724  5575  1497  300  42  139  383   973  104  641  601  3.73   2   \n",
       "1    83  696  5467  1349  277  44  156  439  1264   70  700  653  4.07   2   \n",
       "2    81  669  5439  1395  303  29  141  533  1157   86  640  584  3.67  11   \n",
       "3    76  622  5533  1381  260  27  136  404  1231   68  701  643  3.98   7   \n",
       "4    74  689  5605  1515  289  49  151  455  1259   83  803  746  4.64   7   \n",
       "6    87  764  5567  1397  272  19  212  554  1227   63  698  652  4.03   3   \n",
       "7    81  713  5485  1370  246  20  217  418  1331   44  693  646  4.05   0   \n",
       "8    80  644  5485  1383  278  32  167  436  1310   87  642  604  3.74   1   \n",
       "9    78  748  5640  1495  294  33  161  478  1148   71  753  694  4.31   3   \n",
       "10   88  751  5511  1419  279  32  172  503  1233  101  733  680  4.24   5   \n",
       "11   86  729  5459  1363  278  26  230  486  1392  121  618  572  3.57   5   \n",
       "12   85  661  5417  1331  243  21  176  435  1150   52  675  630  3.94   2   \n",
       "13   76  656  5544  1379  262  22  198  478  1336   69  726  677  4.16   6   \n",
       "14   68  694  5600  1405  277  46  146  475  1119   78  729  664  4.14   5   \n",
       "15  100  647  5484  1386  288  39  137  506  1267   69  525  478  2.94   1   \n",
       "16   98  697  5631  1462  292  27  140  461  1322   98  596  532  3.21   0   \n",
       "17   97  689  5491  1341  272  30  171  567  1518   95  608  546  3.36   6   \n",
       "18   68  655  5480  1378  274  34  145  412  1299   84  737  682  4.28   1   \n",
       "19   64  640  5571  1382  257  27  167  496  1255  134  754  700  4.33   2   \n",
       "20   90  683  5527  1351  295  17  177  488  1290   51  613  557  3.43   1   \n",
       "21   83  703  5428  1363  265  13  177  539  1344   57  635  577  3.62   4   \n",
       "22   71  613  5463  1420  236  40  120  375  1150  112  678  638  4.02   0   \n",
       "23   67  573  5420  1361  251  18  100  471  1107   69  760  698  4.41   3   \n",
       "24   63  626  5529  1374  272  37  130  387  1274   88  809  749  4.69   1   \n",
       "25   92  667  5385  1346  263  26  187  563  1258   59  595  553  3.44   6   \n",
       "26   84  696  5565  1486  288  39  136  457  1159   93  627  597  3.72   7   \n",
       "27   79  720  5649  1494  289  48  154  490  1312  132  713  659  4.04   1   \n",
       "28   74  650  5457  1324  260  36  148  426  1327   82  731  655  4.09   1   \n",
       "29   68  737  5572  1479  274  49  186  388  1283   97  844  799  5.04   4   \n",
       "\n",
       "    SHO  SV    E  \n",
       "0     8  56   88  \n",
       "1    12  45   86  \n",
       "2    10  38   79  \n",
       "3     9  37  101  \n",
       "4    12  35   86  \n",
       "6     4  48   93  \n",
       "7    10  43   77  \n",
       "8    12  60   95  \n",
       "9    10  40   97  \n",
       "10    9  45  119  \n",
       "11   13  39   85  \n",
       "12   12  46   93  \n",
       "13   12  45   94  \n",
       "14   15  28  126  \n",
       "15   15  62   96  \n",
       "16   13  54  122  \n",
       "17   21  48  111  \n",
       "18    7  40  116  \n",
       "19    8  35   90  \n",
       "20   14  50   88  \n",
       "21   13  41   90  \n",
       "22   12  35   77  \n",
       "23   10  44   90  \n",
       "24    7  35  117  \n",
       "25   21  47   75  \n",
       "26   18  41   78  \n",
       "27   12  44   86  \n",
       "28    6  41   92  \n",
       "29    4  36   95  "
      ]
     },
     "execution_count": 46,
     "metadata": {},
     "output_type": "execute_result"
    }
   ],
   "source": [
    "#removing value greater than threshold value \n",
    "\n",
    "df_new=df[(z<3).all(axis=1)]\n",
    "df_new"
   ]
  },
  {
   "cell_type": "markdown",
   "id": "3bd20b62",
   "metadata": {},
   "source": [
    "Outliers removed"
   ]
  },
  {
   "cell_type": "code",
   "execution_count": 47,
   "id": "219aa1f3",
   "metadata": {},
   "outputs": [],
   "source": [
    "df=df_new"
   ]
  },
  {
   "cell_type": "code",
   "execution_count": 48,
   "id": "baa37125",
   "metadata": {},
   "outputs": [
    {
     "data": {
      "text/plain": [
       "(29, 17)"
      ]
     },
     "execution_count": 48,
     "metadata": {},
     "output_type": "execute_result"
    }
   ],
   "source": [
    "df.shape"
   ]
  },
  {
   "cell_type": "markdown",
   "id": "99b76065",
   "metadata": {},
   "source": [
    "29 rows and 17 columns"
   ]
  },
  {
   "cell_type": "markdown",
   "id": "e1147518",
   "metadata": {},
   "source": [
    "### Percentage Loss of data"
   ]
  },
  {
   "cell_type": "code",
   "execution_count": 49,
   "id": "f291c650",
   "metadata": {},
   "outputs": [
    {
     "data": {
      "text/plain": [
       "3.3333333333333335"
      ]
     },
     "execution_count": 49,
     "metadata": {},
     "output_type": "execute_result"
    }
   ],
   "source": [
    "Data_loss=((30-29)/30)*100\n",
    "Data_loss"
   ]
  },
  {
   "cell_type": "markdown",
   "id": "aeda0167",
   "metadata": {},
   "source": [
    "3.33% Data loss"
   ]
  },
  {
   "cell_type": "markdown",
   "id": "e65f7c08",
   "metadata": {},
   "source": [
    "## SKEWNESS:"
   ]
  },
  {
   "cell_type": "code",
   "execution_count": 50,
   "id": "e3483ade",
   "metadata": {},
   "outputs": [
    {
     "data": {
      "text/plain": [
       "W      0.119013\n",
       "R     -0.215364\n",
       "AB     0.169573\n",
       "H      0.783772\n",
       "2B    -0.335304\n",
       "3B     0.090124\n",
       "HR     0.450862\n",
       "BB     0.151193\n",
       "SO    -0.233815\n",
       "SB     0.494966\n",
       "RA     0.018155\n",
       "ER     0.018461\n",
       "ERA    0.016693\n",
       "CG     0.854980\n",
       "SHO    0.526943\n",
       "SV     0.627480\n",
       "E      0.840271\n",
       "dtype: float64"
      ]
     },
     "execution_count": 50,
     "metadata": {},
     "output_type": "execute_result"
    }
   ],
   "source": [
    "df.skew()"
   ]
  },
  {
   "cell_type": "markdown",
   "id": "5f59d2b8",
   "metadata": {},
   "source": [
    "Considering value of skewness as +/-0.5 , some columns have skewness"
   ]
  },
  {
   "cell_type": "code",
   "execution_count": 51,
   "id": "97193c42",
   "metadata": {},
   "outputs": [],
   "source": [
    "# Independent data:\n",
    "x=df.drop(['W'], axis=1)\n",
    "\n",
    "# Target label\n",
    "y=df['W'].values\n",
    "\n",
    "from sklearn.preprocessing import power_transform\n",
    "x=power_transform(x,method='yeo-johnson')"
   ]
  },
  {
   "cell_type": "markdown",
   "id": "9a4cb4f2",
   "metadata": {},
   "source": [
    "Skewness was present so removing it by Yeo-Johnson method."
   ]
  },
  {
   "cell_type": "code",
   "execution_count": 52,
   "id": "12a81d0c",
   "metadata": {},
   "outputs": [
    {
     "data": {
      "text/html": [
       "<div>\n",
       "<style scoped>\n",
       "    .dataframe tbody tr th:only-of-type {\n",
       "        vertical-align: middle;\n",
       "    }\n",
       "\n",
       "    .dataframe tbody tr th {\n",
       "        vertical-align: top;\n",
       "    }\n",
       "\n",
       "    .dataframe thead th {\n",
       "        text-align: right;\n",
       "    }\n",
       "</style>\n",
       "<table border=\"1\" class=\"dataframe\">\n",
       "  <thead>\n",
       "    <tr style=\"text-align: right;\">\n",
       "      <th></th>\n",
       "      <th>0</th>\n",
       "      <th>1</th>\n",
       "      <th>2</th>\n",
       "      <th>3</th>\n",
       "      <th>4</th>\n",
       "      <th>5</th>\n",
       "      <th>6</th>\n",
       "      <th>7</th>\n",
       "      <th>8</th>\n",
       "      <th>9</th>\n",
       "      <th>10</th>\n",
       "      <th>11</th>\n",
       "      <th>12</th>\n",
       "      <th>13</th>\n",
       "      <th>14</th>\n",
       "      <th>15</th>\n",
       "    </tr>\n",
       "  </thead>\n",
       "  <tbody>\n",
       "    <tr>\n",
       "      <th>0</th>\n",
       "      <td>0.962544</td>\n",
       "      <td>0.0</td>\n",
       "      <td>0.0</td>\n",
       "      <td>1.685188</td>\n",
       "      <td>1.006150</td>\n",
       "      <td>-0.741927</td>\n",
       "      <td>-1.605198</td>\n",
       "      <td>-2.550612</td>\n",
       "      <td>0.936132</td>\n",
       "      <td>-0.660979</td>\n",
       "      <td>-0.508052</td>\n",
       "      <td>-0.509292</td>\n",
       "      <td>-0.307098</td>\n",
       "      <td>-0.787002</td>\n",
       "      <td>1.532753</td>\n",
       "      <td>-0.348265</td>\n",
       "    </tr>\n",
       "    <tr>\n",
       "      <th>1</th>\n",
       "      <td>0.298863</td>\n",
       "      <td>0.0</td>\n",
       "      <td>0.0</td>\n",
       "      <td>0.138198</td>\n",
       "      <td>1.185227</td>\n",
       "      <td>-0.109958</td>\n",
       "      <td>-0.462096</td>\n",
       "      <td>0.093683</td>\n",
       "      <td>-0.516377</td>\n",
       "      <td>0.160226</td>\n",
       "      <td>0.235800</td>\n",
       "      <td>0.241440</td>\n",
       "      <td>-0.307098</td>\n",
       "      <td>0.236737</td>\n",
       "      <td>0.312020</td>\n",
       "      <td>-0.540820</td>\n",
       "    </tr>\n",
       "    <tr>\n",
       "      <th>2</th>\n",
       "      <td>-0.312105</td>\n",
       "      <td>0.0</td>\n",
       "      <td>0.0</td>\n",
       "      <td>1.907385</td>\n",
       "      <td>-0.228819</td>\n",
       "      <td>-0.664354</td>\n",
       "      <td>1.232098</td>\n",
       "      <td>-0.935611</td>\n",
       "      <td>0.225038</td>\n",
       "      <td>-0.674967</td>\n",
       "      <td>-0.752214</td>\n",
       "      <td>-0.642098</td>\n",
       "      <td>2.011315</td>\n",
       "      <td>-0.252844</td>\n",
       "      <td>-0.664137</td>\n",
       "      <td>-1.326125</td>\n",
       "    </tr>\n",
       "    <tr>\n",
       "      <th>3</th>\n",
       "      <td>-1.308298</td>\n",
       "      <td>0.0</td>\n",
       "      <td>0.0</td>\n",
       "      <td>-0.837665</td>\n",
       "      <td>-0.432228</td>\n",
       "      <td>-0.860039</td>\n",
       "      <td>-1.162721</td>\n",
       "      <td>-0.230683</td>\n",
       "      <td>-0.618422</td>\n",
       "      <td>0.174077</td>\n",
       "      <td>0.093091</td>\n",
       "      <td>0.043013</td>\n",
       "      <td>1.264463</td>\n",
       "      <td>-0.513555</td>\n",
       "      <td>-0.820689</td>\n",
       "      <td>0.650818</td>\n",
       "    </tr>\n",
       "    <tr>\n",
       "      <th>4</th>\n",
       "      <td>0.137737</td>\n",
       "      <td>0.0</td>\n",
       "      <td>0.0</td>\n",
       "      <td>0.911435</td>\n",
       "      <td>1.622636</td>\n",
       "      <td>-0.289647</td>\n",
       "      <td>-0.155686</td>\n",
       "      <td>0.044143</td>\n",
       "      <td>0.095038</td>\n",
       "      <td>1.575971</td>\n",
       "      <td>1.555853</td>\n",
       "      <td>1.493491</td>\n",
       "      <td>1.264463</td>\n",
       "      <td>0.236737</td>\n",
       "      <td>-1.149165</td>\n",
       "      <td>-0.540820</td>\n",
       "    </tr>\n",
       "    <tr>\n",
       "      <th>5</th>\n",
       "      <td>1.964209</td>\n",
       "      <td>0.0</td>\n",
       "      <td>0.0</td>\n",
       "      <td>-0.163010</td>\n",
       "      <td>-1.295827</td>\n",
       "      <td>1.631637</td>\n",
       "      <td>1.579494</td>\n",
       "      <td>-0.269583</td>\n",
       "      <td>-0.884526</td>\n",
       "      <td>0.132517</td>\n",
       "      <td>0.221537</td>\n",
       "      <td>0.153276</td>\n",
       "      <td>0.121871</td>\n",
       "      <td>-2.064039</td>\n",
       "      <td>0.677176</td>\n",
       "      <td>0.082858</td>\n",
       "    </tr>\n",
       "    <tr>\n",
       "      <th>6</th>\n",
       "      <td>0.698146</td>\n",
       "      <td>0.0</td>\n",
       "      <td>0.0</td>\n",
       "      <td>-1.542635</td>\n",
       "      <td>-1.182758</td>\n",
       "      <td>1.767734</td>\n",
       "      <td>-0.877217</td>\n",
       "      <td>0.770980</td>\n",
       "      <td>-2.082843</td>\n",
       "      <td>0.063208</td>\n",
       "      <td>0.135920</td>\n",
       "      <td>0.197363</td>\n",
       "      <td>-1.732896</td>\n",
       "      <td>-0.252844</td>\n",
       "      <td>0.052325</td>\n",
       "      <td>-1.588197</td>\n",
       "    </tr>\n",
       "    <tr>\n",
       "      <th>7</th>\n",
       "      <td>-0.852595</td>\n",
       "      <td>0.0</td>\n",
       "      <td>0.0</td>\n",
       "      <td>0.199897</td>\n",
       "      <td>0.068703</td>\n",
       "      <td>0.269125</td>\n",
       "      <td>-0.520476</td>\n",
       "      <td>0.556008</td>\n",
       "      <td>0.267558</td>\n",
       "      <td>-0.646992</td>\n",
       "      <td>-0.465016</td>\n",
       "      <td>-0.487168</td>\n",
       "      <td>-0.870682</td>\n",
       "      <td>0.236737</td>\n",
       "      <td>1.908137</td>\n",
       "      <td>0.237592</td>\n",
       "    </tr>\n",
       "    <tr>\n",
       "      <th>8</th>\n",
       "      <td>1.555951</td>\n",
       "      <td>0.0</td>\n",
       "      <td>0.0</td>\n",
       "      <td>1.255256</td>\n",
       "      <td>0.166017</td>\n",
       "      <td>0.065014</td>\n",
       "      <td>0.270944</td>\n",
       "      <td>-1.019210</td>\n",
       "      <td>-0.466233</td>\n",
       "      <td>0.891396</td>\n",
       "      <td>0.819308</td>\n",
       "      <td>0.769577</td>\n",
       "      <td>0.121871</td>\n",
       "      <td>-0.252844</td>\n",
       "      <td>-0.365006</td>\n",
       "      <td>0.383386</td>\n",
       "    </tr>\n",
       "    <tr>\n",
       "      <th>9</th>\n",
       "      <td>1.631727</td>\n",
       "      <td>0.0</td>\n",
       "      <td>0.0</td>\n",
       "      <td>0.262086</td>\n",
       "      <td>0.068703</td>\n",
       "      <td>0.434620</td>\n",
       "      <td>0.717576</td>\n",
       "      <td>-0.211199</td>\n",
       "      <td>0.824915</td>\n",
       "      <td>0.616173</td>\n",
       "      <td>0.620346</td>\n",
       "      <td>0.615685</td>\n",
       "      <td>0.770649</td>\n",
       "      <td>-0.513555</td>\n",
       "      <td>0.312020</td>\n",
       "      <td>1.554265</td>\n",
       "    </tr>\n",
       "    <tr>\n",
       "      <th>10</th>\n",
       "      <td>1.084297</td>\n",
       "      <td>0.0</td>\n",
       "      <td>0.0</td>\n",
       "      <td>0.199897</td>\n",
       "      <td>-0.535590</td>\n",
       "      <td>2.109761</td>\n",
       "      <td>0.415731</td>\n",
       "      <td>1.409203</td>\n",
       "      <td>1.521413</td>\n",
       "      <td>-0.983340</td>\n",
       "      <td>-0.924868</td>\n",
       "      <td>-0.863664</td>\n",
       "      <td>0.770649</td>\n",
       "      <td>0.468029</td>\n",
       "      <td>-0.512328</td>\n",
       "      <td>-0.641926</td>\n",
       "    </tr>\n",
       "    <tr>\n",
       "      <th>11</th>\n",
       "      <td>-0.487692</td>\n",
       "      <td>0.0</td>\n",
       "      <td>0.0</td>\n",
       "      <td>-1.682709</td>\n",
       "      <td>-1.071323</td>\n",
       "      <td>0.564164</td>\n",
       "      <td>-0.540002</td>\n",
       "      <td>-1.000673</td>\n",
       "      <td>-1.535760</td>\n",
       "      <td>-0.186769</td>\n",
       "      <td>-0.092669</td>\n",
       "      <td>-0.045244</td>\n",
       "      <td>-0.307098</td>\n",
       "      <td>0.236737</td>\n",
       "      <td>0.436838</td>\n",
       "      <td>0.082858</td>\n",
       "    </tr>\n",
       "    <tr>\n",
       "      <th>12</th>\n",
       "      <td>-0.596176</td>\n",
       "      <td>0.0</td>\n",
       "      <td>0.0</td>\n",
       "      <td>-0.729847</td>\n",
       "      <td>-0.961425</td>\n",
       "      <td>1.235848</td>\n",
       "      <td>0.270944</td>\n",
       "      <td>0.822524</td>\n",
       "      <td>-0.567102</td>\n",
       "      <td>0.519650</td>\n",
       "      <td>0.577673</td>\n",
       "      <td>0.439660</td>\n",
       "      <td>1.031663</td>\n",
       "      <td>0.236737</td>\n",
       "      <td>0.312020</td>\n",
       "      <td>0.161388</td>\n",
       "    </tr>\n",
       "    <tr>\n",
       "      <th>13</th>\n",
       "      <td>0.252632</td>\n",
       "      <td>0.0</td>\n",
       "      <td>0.0</td>\n",
       "      <td>0.138198</td>\n",
       "      <td>1.361887</td>\n",
       "      <td>-0.474340</td>\n",
       "      <td>0.216181</td>\n",
       "      <td>-1.285401</td>\n",
       "      <td>-0.130312</td>\n",
       "      <td>0.561030</td>\n",
       "      <td>0.392601</td>\n",
       "      <td>0.395629</td>\n",
       "      <td>0.770649</td>\n",
       "      <td>0.908147</td>\n",
       "      <td>-2.498840</td>\n",
       "      <td>1.810553</td>\n",
       "    </tr>\n",
       "    <tr>\n",
       "      <th>14</th>\n",
       "      <td>-0.789011</td>\n",
       "      <td>0.0</td>\n",
       "      <td>0.0</td>\n",
       "      <td>0.844222</td>\n",
       "      <td>0.732678</td>\n",
       "      <td>-0.820431</td>\n",
       "      <td>0.770046</td>\n",
       "      <td>0.123475</td>\n",
       "      <td>-0.567102</td>\n",
       "      <td>-2.300969</td>\n",
       "      <td>-2.286771</td>\n",
       "      <td>-2.266376</td>\n",
       "      <td>-0.870682</td>\n",
       "      <td>0.908147</td>\n",
       "      <td>2.084917</td>\n",
       "      <td>0.311562</td>\n",
       "    </tr>\n",
       "    <tr>\n",
       "      <th>15</th>\n",
       "      <td>0.322037</td>\n",
       "      <td>0.0</td>\n",
       "      <td>0.0</td>\n",
       "      <td>1.116168</td>\n",
       "      <td>-0.432228</td>\n",
       "      <td>-0.703026</td>\n",
       "      <td>-0.042862</td>\n",
       "      <td>0.678550</td>\n",
       "      <td>0.710994</td>\n",
       "      <td>-1.292928</td>\n",
       "      <td>-1.502283</td>\n",
       "      <td>-1.663712</td>\n",
       "      <td>-1.732896</td>\n",
       "      <td>0.468029</td>\n",
       "      <td>1.333006</td>\n",
       "      <td>1.669209</td>\n",
       "    </tr>\n",
       "    <tr>\n",
       "      <th>16</th>\n",
       "      <td>0.137737</td>\n",
       "      <td>0.0</td>\n",
       "      <td>0.0</td>\n",
       "      <td>-0.163010</td>\n",
       "      <td>-0.128676</td>\n",
       "      <td>0.401843</td>\n",
       "      <td>1.789632</td>\n",
       "      <td>2.791487</td>\n",
       "      <td>0.594218</td>\n",
       "      <td>-1.123908</td>\n",
       "      <td>-1.299847</td>\n",
       "      <td>-1.329889</td>\n",
       "      <td>1.031663</td>\n",
       "      <td>2.090856</td>\n",
       "      <td>0.677176</td>\n",
       "      <td>1.203715</td>\n",
       "    </tr>\n",
       "    <tr>\n",
       "      <th>17</th>\n",
       "      <td>-0.617757</td>\n",
       "      <td>0.0</td>\n",
       "      <td>0.0</td>\n",
       "      <td>-0.043976</td>\n",
       "      <td>0.262460</td>\n",
       "      <td>-0.511906</td>\n",
       "      <td>-0.998685</td>\n",
       "      <td>0.444379</td>\n",
       "      <td>0.138787</td>\n",
       "      <td>0.671283</td>\n",
       "      <td>0.648787</td>\n",
       "      <td>0.703638</td>\n",
       "      <td>-0.870682</td>\n",
       "      <td>-1.075340</td>\n",
       "      <td>-0.365006</td>\n",
       "      <td>1.430810</td>\n",
       "    </tr>\n",
       "    <tr>\n",
       "      <th>18</th>\n",
       "      <td>-0.936834</td>\n",
       "      <td>0.0</td>\n",
       "      <td>0.0</td>\n",
       "      <td>-0.996003</td>\n",
       "      <td>-0.432228</td>\n",
       "      <td>0.269125</td>\n",
       "      <td>0.594227</td>\n",
       "      <td>0.004612</td>\n",
       "      <td>1.925528</td>\n",
       "      <td>0.905135</td>\n",
       "      <td>0.904490</td>\n",
       "      <td>0.813525</td>\n",
       "      <td>-0.307098</td>\n",
       "      <td>-0.787002</td>\n",
       "      <td>-1.149165</td>\n",
       "      <td>-0.167685</td>\n",
       "    </tr>\n",
       "    <tr>\n",
       "      <th>19</th>\n",
       "      <td>0.001150</td>\n",
       "      <td>0.0</td>\n",
       "      <td>0.0</td>\n",
       "      <td>1.325587</td>\n",
       "      <td>-1.527310</td>\n",
       "      <td>0.596168</td>\n",
       "      <td>0.451649</td>\n",
       "      <td>0.353547</td>\n",
       "      <td>-1.600293</td>\n",
       "      <td>-1.053592</td>\n",
       "      <td>-1.141050</td>\n",
       "      <td>-1.174337</td>\n",
       "      <td>-0.870682</td>\n",
       "      <td>0.691583</td>\n",
       "      <td>0.906024</td>\n",
       "      <td>-0.348265</td>\n",
       "    </tr>\n",
       "    <tr>\n",
       "      <th>20</th>\n",
       "      <td>0.461904</td>\n",
       "      <td>0.0</td>\n",
       "      <td>0.0</td>\n",
       "      <td>-0.564688</td>\n",
       "      <td>-2.015649</td>\n",
       "      <td>0.596168</td>\n",
       "      <td>1.332385</td>\n",
       "      <td>0.905280</td>\n",
       "      <td>-1.227262</td>\n",
       "      <td>-0.744948</td>\n",
       "      <td>-0.852898</td>\n",
       "      <td>-0.752845</td>\n",
       "      <td>0.472300</td>\n",
       "      <td>0.468029</td>\n",
       "      <td>-0.221934</td>\n",
       "      <td>-0.167685</td>\n",
       "    </tr>\n",
       "    <tr>\n",
       "      <th>21</th>\n",
       "      <td>-1.489372</td>\n",
       "      <td>0.0</td>\n",
       "      <td>0.0</td>\n",
       "      <td>-1.995042</td>\n",
       "      <td>0.824510</td>\n",
       "      <td>-1.529112</td>\n",
       "      <td>-1.778543</td>\n",
       "      <td>-1.000673</td>\n",
       "      <td>1.220510</td>\n",
       "      <td>-0.145056</td>\n",
       "      <td>0.021677</td>\n",
       "      <td>0.131229</td>\n",
       "      <td>-1.732896</td>\n",
       "      <td>0.236737</td>\n",
       "      <td>-1.149165</td>\n",
       "      <td>-1.588197</td>\n",
       "    </tr>\n",
       "    <tr>\n",
       "      <th>22</th>\n",
       "      <td>-2.256817</td>\n",
       "      <td>0.0</td>\n",
       "      <td>0.0</td>\n",
       "      <td>-1.300683</td>\n",
       "      <td>-1.410638</td>\n",
       "      <td>-2.478298</td>\n",
       "      <td>0.142759</td>\n",
       "      <td>-1.394124</td>\n",
       "      <td>-0.567102</td>\n",
       "      <td>0.987532</td>\n",
       "      <td>0.876102</td>\n",
       "      <td>0.989217</td>\n",
       "      <td>0.121871</td>\n",
       "      <td>-0.252844</td>\n",
       "      <td>0.183904</td>\n",
       "      <td>-0.167685</td>\n",
       "    </tr>\n",
       "    <tr>\n",
       "      <th>23</th>\n",
       "      <td>-1.226825</td>\n",
       "      <td>0.0</td>\n",
       "      <td>0.0</td>\n",
       "      <td>-0.163010</td>\n",
       "      <td>0.546878</td>\n",
       "      <td>-1.102893</td>\n",
       "      <td>-1.519540</td>\n",
       "      <td>0.193184</td>\n",
       "      <td>0.309686</td>\n",
       "      <td>1.657797</td>\n",
       "      <td>1.598232</td>\n",
       "      <td>1.602954</td>\n",
       "      <td>-0.870682</td>\n",
       "      <td>-1.075340</td>\n",
       "      <td>-1.149165</td>\n",
       "      <td>1.472959</td>\n",
       "    </tr>\n",
       "    <tr>\n",
       "      <th>24</th>\n",
       "      <td>-0.356235</td>\n",
       "      <td>0.0</td>\n",
       "      <td>0.0</td>\n",
       "      <td>-0.675253</td>\n",
       "      <td>-0.535590</td>\n",
       "      <td>0.908214</td>\n",
       "      <td>1.725362</td>\n",
       "      <td>0.034252</td>\n",
       "      <td>-1.109925</td>\n",
       "      <td>-1.307030</td>\n",
       "      <td>-1.198768</td>\n",
       "      <td>-1.152127</td>\n",
       "      <td>1.031663</td>\n",
       "      <td>2.090856</td>\n",
       "      <td>0.558509</td>\n",
       "      <td>-1.870191</td>\n",
       "    </tr>\n",
       "    <tr>\n",
       "      <th>25</th>\n",
       "      <td>0.298863</td>\n",
       "      <td>0.0</td>\n",
       "      <td>0.0</td>\n",
       "      <td>0.844222</td>\n",
       "      <td>0.732678</td>\n",
       "      <td>-0.860039</td>\n",
       "      <td>-0.117955</td>\n",
       "      <td>-0.916971</td>\n",
       "      <td>0.514700</td>\n",
       "      <td>-0.857043</td>\n",
       "      <td>-0.565457</td>\n",
       "      <td>-0.531419</td>\n",
       "      <td>1.264463</td>\n",
       "      <td>1.521828</td>\n",
       "      <td>-0.221934</td>\n",
       "      <td>-1.454792</td>\n",
       "    </tr>\n",
       "    <tr>\n",
       "      <th>26</th>\n",
       "      <td>0.865849</td>\n",
       "      <td>0.0</td>\n",
       "      <td>0.0</td>\n",
       "      <td>0.911435</td>\n",
       "      <td>1.536265</td>\n",
       "      <td>-0.181252</td>\n",
       "      <td>0.487457</td>\n",
       "      <td>0.576376</td>\n",
       "      <td>1.865486</td>\n",
       "      <td>0.340119</td>\n",
       "      <td>0.321351</td>\n",
       "      <td>0.175321</td>\n",
       "      <td>-0.870682</td>\n",
       "      <td>0.236737</td>\n",
       "      <td>0.183904</td>\n",
       "      <td>-0.540820</td>\n",
       "    </tr>\n",
       "    <tr>\n",
       "      <th>27</th>\n",
       "      <td>-0.725080</td>\n",
       "      <td>0.0</td>\n",
       "      <td>0.0</td>\n",
       "      <td>-0.837665</td>\n",
       "      <td>0.452861</td>\n",
       "      <td>-0.399842</td>\n",
       "      <td>-0.717273</td>\n",
       "      <td>0.729845</td>\n",
       "      <td>0.050861</td>\n",
       "      <td>0.588606</td>\n",
       "      <td>0.264324</td>\n",
       "      <td>0.285507</td>\n",
       "      <td>-0.870682</td>\n",
       "      <td>-1.381412</td>\n",
       "      <td>-0.221934</td>\n",
       "      <td>0.001905</td>\n",
       "    </tr>\n",
       "    <tr>\n",
       "      <th>28</th>\n",
       "      <td>1.281152</td>\n",
       "      <td>0.0</td>\n",
       "      <td>0.0</td>\n",
       "      <td>-0.043976</td>\n",
       "      <td>1.622636</td>\n",
       "      <td>0.877642</td>\n",
       "      <td>-1.498230</td>\n",
       "      <td>0.283212</td>\n",
       "      <td>0.672394</td>\n",
       "      <td>2.133800</td>\n",
       "      <td>2.302801</td>\n",
       "      <td>2.367642</td>\n",
       "      <td>0.472300</td>\n",
       "      <td>-2.064039</td>\n",
       "      <td>-0.982264</td>\n",
       "      <td>0.237592</td>\n",
       "    </tr>\n",
       "  </tbody>\n",
       "</table>\n",
       "</div>"
      ],
      "text/plain": [
       "          0    1    2         3         4         5         6         7   \\\n",
       "0   0.962544  0.0  0.0  1.685188  1.006150 -0.741927 -1.605198 -2.550612   \n",
       "1   0.298863  0.0  0.0  0.138198  1.185227 -0.109958 -0.462096  0.093683   \n",
       "2  -0.312105  0.0  0.0  1.907385 -0.228819 -0.664354  1.232098 -0.935611   \n",
       "3  -1.308298  0.0  0.0 -0.837665 -0.432228 -0.860039 -1.162721 -0.230683   \n",
       "4   0.137737  0.0  0.0  0.911435  1.622636 -0.289647 -0.155686  0.044143   \n",
       "5   1.964209  0.0  0.0 -0.163010 -1.295827  1.631637  1.579494 -0.269583   \n",
       "6   0.698146  0.0  0.0 -1.542635 -1.182758  1.767734 -0.877217  0.770980   \n",
       "7  -0.852595  0.0  0.0  0.199897  0.068703  0.269125 -0.520476  0.556008   \n",
       "8   1.555951  0.0  0.0  1.255256  0.166017  0.065014  0.270944 -1.019210   \n",
       "9   1.631727  0.0  0.0  0.262086  0.068703  0.434620  0.717576 -0.211199   \n",
       "10  1.084297  0.0  0.0  0.199897 -0.535590  2.109761  0.415731  1.409203   \n",
       "11 -0.487692  0.0  0.0 -1.682709 -1.071323  0.564164 -0.540002 -1.000673   \n",
       "12 -0.596176  0.0  0.0 -0.729847 -0.961425  1.235848  0.270944  0.822524   \n",
       "13  0.252632  0.0  0.0  0.138198  1.361887 -0.474340  0.216181 -1.285401   \n",
       "14 -0.789011  0.0  0.0  0.844222  0.732678 -0.820431  0.770046  0.123475   \n",
       "15  0.322037  0.0  0.0  1.116168 -0.432228 -0.703026 -0.042862  0.678550   \n",
       "16  0.137737  0.0  0.0 -0.163010 -0.128676  0.401843  1.789632  2.791487   \n",
       "17 -0.617757  0.0  0.0 -0.043976  0.262460 -0.511906 -0.998685  0.444379   \n",
       "18 -0.936834  0.0  0.0 -0.996003 -0.432228  0.269125  0.594227  0.004612   \n",
       "19  0.001150  0.0  0.0  1.325587 -1.527310  0.596168  0.451649  0.353547   \n",
       "20  0.461904  0.0  0.0 -0.564688 -2.015649  0.596168  1.332385  0.905280   \n",
       "21 -1.489372  0.0  0.0 -1.995042  0.824510 -1.529112 -1.778543 -1.000673   \n",
       "22 -2.256817  0.0  0.0 -1.300683 -1.410638 -2.478298  0.142759 -1.394124   \n",
       "23 -1.226825  0.0  0.0 -0.163010  0.546878 -1.102893 -1.519540  0.193184   \n",
       "24 -0.356235  0.0  0.0 -0.675253 -0.535590  0.908214  1.725362  0.034252   \n",
       "25  0.298863  0.0  0.0  0.844222  0.732678 -0.860039 -0.117955 -0.916971   \n",
       "26  0.865849  0.0  0.0  0.911435  1.536265 -0.181252  0.487457  0.576376   \n",
       "27 -0.725080  0.0  0.0 -0.837665  0.452861 -0.399842 -0.717273  0.729845   \n",
       "28  1.281152  0.0  0.0 -0.043976  1.622636  0.877642 -1.498230  0.283212   \n",
       "\n",
       "          8         9         10        11        12        13        14  \\\n",
       "0   0.936132 -0.660979 -0.508052 -0.509292 -0.307098 -0.787002  1.532753   \n",
       "1  -0.516377  0.160226  0.235800  0.241440 -0.307098  0.236737  0.312020   \n",
       "2   0.225038 -0.674967 -0.752214 -0.642098  2.011315 -0.252844 -0.664137   \n",
       "3  -0.618422  0.174077  0.093091  0.043013  1.264463 -0.513555 -0.820689   \n",
       "4   0.095038  1.575971  1.555853  1.493491  1.264463  0.236737 -1.149165   \n",
       "5  -0.884526  0.132517  0.221537  0.153276  0.121871 -2.064039  0.677176   \n",
       "6  -2.082843  0.063208  0.135920  0.197363 -1.732896 -0.252844  0.052325   \n",
       "7   0.267558 -0.646992 -0.465016 -0.487168 -0.870682  0.236737  1.908137   \n",
       "8  -0.466233  0.891396  0.819308  0.769577  0.121871 -0.252844 -0.365006   \n",
       "9   0.824915  0.616173  0.620346  0.615685  0.770649 -0.513555  0.312020   \n",
       "10  1.521413 -0.983340 -0.924868 -0.863664  0.770649  0.468029 -0.512328   \n",
       "11 -1.535760 -0.186769 -0.092669 -0.045244 -0.307098  0.236737  0.436838   \n",
       "12 -0.567102  0.519650  0.577673  0.439660  1.031663  0.236737  0.312020   \n",
       "13 -0.130312  0.561030  0.392601  0.395629  0.770649  0.908147 -2.498840   \n",
       "14 -0.567102 -2.300969 -2.286771 -2.266376 -0.870682  0.908147  2.084917   \n",
       "15  0.710994 -1.292928 -1.502283 -1.663712 -1.732896  0.468029  1.333006   \n",
       "16  0.594218 -1.123908 -1.299847 -1.329889  1.031663  2.090856  0.677176   \n",
       "17  0.138787  0.671283  0.648787  0.703638 -0.870682 -1.075340 -0.365006   \n",
       "18  1.925528  0.905135  0.904490  0.813525 -0.307098 -0.787002 -1.149165   \n",
       "19 -1.600293 -1.053592 -1.141050 -1.174337 -0.870682  0.691583  0.906024   \n",
       "20 -1.227262 -0.744948 -0.852898 -0.752845  0.472300  0.468029 -0.221934   \n",
       "21  1.220510 -0.145056  0.021677  0.131229 -1.732896  0.236737 -1.149165   \n",
       "22 -0.567102  0.987532  0.876102  0.989217  0.121871 -0.252844  0.183904   \n",
       "23  0.309686  1.657797  1.598232  1.602954 -0.870682 -1.075340 -1.149165   \n",
       "24 -1.109925 -1.307030 -1.198768 -1.152127  1.031663  2.090856  0.558509   \n",
       "25  0.514700 -0.857043 -0.565457 -0.531419  1.264463  1.521828 -0.221934   \n",
       "26  1.865486  0.340119  0.321351  0.175321 -0.870682  0.236737  0.183904   \n",
       "27  0.050861  0.588606  0.264324  0.285507 -0.870682 -1.381412 -0.221934   \n",
       "28  0.672394  2.133800  2.302801  2.367642  0.472300 -2.064039 -0.982264   \n",
       "\n",
       "          15  \n",
       "0  -0.348265  \n",
       "1  -0.540820  \n",
       "2  -1.326125  \n",
       "3   0.650818  \n",
       "4  -0.540820  \n",
       "5   0.082858  \n",
       "6  -1.588197  \n",
       "7   0.237592  \n",
       "8   0.383386  \n",
       "9   1.554265  \n",
       "10 -0.641926  \n",
       "11  0.082858  \n",
       "12  0.161388  \n",
       "13  1.810553  \n",
       "14  0.311562  \n",
       "15  1.669209  \n",
       "16  1.203715  \n",
       "17  1.430810  \n",
       "18 -0.167685  \n",
       "19 -0.348265  \n",
       "20 -0.167685  \n",
       "21 -1.588197  \n",
       "22 -0.167685  \n",
       "23  1.472959  \n",
       "24 -1.870191  \n",
       "25 -1.454792  \n",
       "26 -0.540820  \n",
       "27  0.001905  \n",
       "28  0.237592  "
      ]
     },
     "execution_count": 52,
     "metadata": {},
     "output_type": "execute_result"
    }
   ],
   "source": [
    "x=pd.DataFrame(x)\n",
    "x"
   ]
  },
  {
   "cell_type": "markdown",
   "id": "2b078b5a",
   "metadata": {},
   "source": [
    "Converting ndarray to dataframe"
   ]
  },
  {
   "cell_type": "markdown",
   "id": "c4df1bec",
   "metadata": {},
   "source": [
    "## Correlation of the columns with the target columns:"
   ]
  },
  {
   "cell_type": "code",
   "execution_count": 53,
   "id": "230f66cb",
   "metadata": {},
   "outputs": [
    {
     "data": {
      "text/html": [
       "<div>\n",
       "<style scoped>\n",
       "    .dataframe tbody tr th:only-of-type {\n",
       "        vertical-align: middle;\n",
       "    }\n",
       "\n",
       "    .dataframe tbody tr th {\n",
       "        vertical-align: top;\n",
       "    }\n",
       "\n",
       "    .dataframe thead th {\n",
       "        text-align: right;\n",
       "    }\n",
       "</style>\n",
       "<table border=\"1\" class=\"dataframe\">\n",
       "  <thead>\n",
       "    <tr style=\"text-align: right;\">\n",
       "      <th></th>\n",
       "      <th>W</th>\n",
       "      <th>R</th>\n",
       "      <th>AB</th>\n",
       "      <th>H</th>\n",
       "      <th>2B</th>\n",
       "      <th>3B</th>\n",
       "      <th>HR</th>\n",
       "      <th>BB</th>\n",
       "      <th>SO</th>\n",
       "      <th>SB</th>\n",
       "      <th>RA</th>\n",
       "      <th>ER</th>\n",
       "      <th>ERA</th>\n",
       "      <th>CG</th>\n",
       "      <th>SHO</th>\n",
       "      <th>SV</th>\n",
       "      <th>E</th>\n",
       "    </tr>\n",
       "  </thead>\n",
       "  <tbody>\n",
       "    <tr>\n",
       "      <th>W</th>\n",
       "      <td>1.000000</td>\n",
       "      <td>0.390451</td>\n",
       "      <td>-0.085780</td>\n",
       "      <td>-0.018360</td>\n",
       "      <td>0.384886</td>\n",
       "      <td>-0.206737</td>\n",
       "      <td>0.245697</td>\n",
       "      <td>0.447513</td>\n",
       "      <td>0.156469</td>\n",
       "      <td>-0.169503</td>\n",
       "      <td>-0.823176</td>\n",
       "      <td>-0.815308</td>\n",
       "      <td>-0.826952</td>\n",
       "      <td>0.029594</td>\n",
       "      <td>0.497526</td>\n",
       "      <td>0.749290</td>\n",
       "      <td>-0.072858</td>\n",
       "    </tr>\n",
       "    <tr>\n",
       "      <th>R</th>\n",
       "      <td>0.390451</td>\n",
       "      <td>1.000000</td>\n",
       "      <td>0.438022</td>\n",
       "      <td>0.433525</td>\n",
       "      <td>0.469293</td>\n",
       "      <td>0.134204</td>\n",
       "      <td>0.586894</td>\n",
       "      <td>0.258450</td>\n",
       "      <td>0.081158</td>\n",
       "      <td>0.075323</td>\n",
       "      <td>-0.013858</td>\n",
       "      <td>0.007727</td>\n",
       "      <td>-0.009122</td>\n",
       "      <td>0.101438</td>\n",
       "      <td>-0.085108</td>\n",
       "      <td>0.061381</td>\n",
       "      <td>0.043123</td>\n",
       "    </tr>\n",
       "    <tr>\n",
       "      <th>AB</th>\n",
       "      <td>-0.085780</td>\n",
       "      <td>0.438022</td>\n",
       "      <td>1.000000</td>\n",
       "      <td>0.769159</td>\n",
       "      <td>0.490752</td>\n",
       "      <td>0.445604</td>\n",
       "      <td>-0.064653</td>\n",
       "      <td>-0.137850</td>\n",
       "      <td>-0.111243</td>\n",
       "      <td>0.373674</td>\n",
       "      <td>0.315499</td>\n",
       "      <td>0.309146</td>\n",
       "      <td>0.254872</td>\n",
       "      <td>-0.078511</td>\n",
       "      <td>-0.198872</td>\n",
       "      <td>-0.113342</td>\n",
       "      <td>0.316297</td>\n",
       "    </tr>\n",
       "    <tr>\n",
       "      <th>H</th>\n",
       "      <td>-0.018360</td>\n",
       "      <td>0.433525</td>\n",
       "      <td>0.769159</td>\n",
       "      <td>1.000000</td>\n",
       "      <td>0.528016</td>\n",
       "      <td>0.582024</td>\n",
       "      <td>-0.218711</td>\n",
       "      <td>-0.222271</td>\n",
       "      <td>-0.371861</td>\n",
       "      <td>0.417877</td>\n",
       "      <td>0.244606</td>\n",
       "      <td>0.280571</td>\n",
       "      <td>0.256458</td>\n",
       "      <td>0.092577</td>\n",
       "      <td>-0.135116</td>\n",
       "      <td>-0.079814</td>\n",
       "      <td>-0.011945</td>\n",
       "    </tr>\n",
       "    <tr>\n",
       "      <th>2B</th>\n",
       "      <td>0.384886</td>\n",
       "      <td>0.469293</td>\n",
       "      <td>0.490752</td>\n",
       "      <td>0.528016</td>\n",
       "      <td>1.000000</td>\n",
       "      <td>0.342419</td>\n",
       "      <td>-0.098695</td>\n",
       "      <td>0.211243</td>\n",
       "      <td>-0.096772</td>\n",
       "      <td>0.194308</td>\n",
       "      <td>-0.215196</td>\n",
       "      <td>-0.224993</td>\n",
       "      <td>-0.248212</td>\n",
       "      <td>0.244856</td>\n",
       "      <td>0.084060</td>\n",
       "      <td>0.269999</td>\n",
       "      <td>0.145032</td>\n",
       "    </tr>\n",
       "    <tr>\n",
       "      <th>3B</th>\n",
       "      <td>-0.206737</td>\n",
       "      <td>0.134204</td>\n",
       "      <td>0.445604</td>\n",
       "      <td>0.582024</td>\n",
       "      <td>0.342419</td>\n",
       "      <td>1.000000</td>\n",
       "      <td>-0.369299</td>\n",
       "      <td>-0.404852</td>\n",
       "      <td>-0.196586</td>\n",
       "      <td>0.483818</td>\n",
       "      <td>0.312750</td>\n",
       "      <td>0.333731</td>\n",
       "      <td>0.325883</td>\n",
       "      <td>-0.003733</td>\n",
       "      <td>-0.058896</td>\n",
       "      <td>-0.210627</td>\n",
       "      <td>0.108610</td>\n",
       "    </tr>\n",
       "    <tr>\n",
       "      <th>HR</th>\n",
       "      <td>0.245697</td>\n",
       "      <td>0.586894</td>\n",
       "      <td>-0.064653</td>\n",
       "      <td>-0.218711</td>\n",
       "      <td>-0.098695</td>\n",
       "      <td>-0.369299</td>\n",
       "      <td>1.000000</td>\n",
       "      <td>0.336814</td>\n",
       "      <td>0.479914</td>\n",
       "      <td>-0.166072</td>\n",
       "      <td>-0.092586</td>\n",
       "      <td>-0.062094</td>\n",
       "      <td>-0.070756</td>\n",
       "      <td>0.065978</td>\n",
       "      <td>0.005546</td>\n",
       "      <td>0.066984</td>\n",
       "      <td>-0.189790</td>\n",
       "    </tr>\n",
       "    <tr>\n",
       "      <th>BB</th>\n",
       "      <td>0.447513</td>\n",
       "      <td>0.258450</td>\n",
       "      <td>-0.137850</td>\n",
       "      <td>-0.222271</td>\n",
       "      <td>0.211243</td>\n",
       "      <td>-0.404852</td>\n",
       "      <td>0.336814</td>\n",
       "      <td>1.000000</td>\n",
       "      <td>0.315566</td>\n",
       "      <td>-0.117622</td>\n",
       "      <td>-0.425381</td>\n",
       "      <td>-0.455832</td>\n",
       "      <td>-0.465794</td>\n",
       "      <td>0.417437</td>\n",
       "      <td>0.473922</td>\n",
       "      <td>0.187101</td>\n",
       "      <td>-0.050114</td>\n",
       "    </tr>\n",
       "    <tr>\n",
       "      <th>SO</th>\n",
       "      <td>0.156469</td>\n",
       "      <td>0.081158</td>\n",
       "      <td>-0.111243</td>\n",
       "      <td>-0.371861</td>\n",
       "      <td>-0.096772</td>\n",
       "      <td>-0.196586</td>\n",
       "      <td>0.479914</td>\n",
       "      <td>0.315566</td>\n",
       "      <td>1.000000</td>\n",
       "      <td>0.038188</td>\n",
       "      <td>-0.140570</td>\n",
       "      <td>-0.177655</td>\n",
       "      <td>-0.195362</td>\n",
       "      <td>-0.053075</td>\n",
       "      <td>0.231230</td>\n",
       "      <td>0.091394</td>\n",
       "      <td>0.142740</td>\n",
       "    </tr>\n",
       "    <tr>\n",
       "      <th>SB</th>\n",
       "      <td>-0.169503</td>\n",
       "      <td>0.075323</td>\n",
       "      <td>0.373674</td>\n",
       "      <td>0.417877</td>\n",
       "      <td>0.194308</td>\n",
       "      <td>0.483818</td>\n",
       "      <td>-0.166072</td>\n",
       "      <td>-0.117622</td>\n",
       "      <td>0.038188</td>\n",
       "      <td>1.000000</td>\n",
       "      <td>0.134315</td>\n",
       "      <td>0.146243</td>\n",
       "      <td>0.128848</td>\n",
       "      <td>-0.030708</td>\n",
       "      <td>-0.104602</td>\n",
       "      <td>-0.179741</td>\n",
       "      <td>0.082702</td>\n",
       "    </tr>\n",
       "    <tr>\n",
       "      <th>RA</th>\n",
       "      <td>-0.823176</td>\n",
       "      <td>-0.013858</td>\n",
       "      <td>0.315499</td>\n",
       "      <td>0.244606</td>\n",
       "      <td>-0.215196</td>\n",
       "      <td>0.312750</td>\n",
       "      <td>-0.092586</td>\n",
       "      <td>-0.425381</td>\n",
       "      <td>-0.140570</td>\n",
       "      <td>0.134315</td>\n",
       "      <td>1.000000</td>\n",
       "      <td>0.991286</td>\n",
       "      <td>0.986781</td>\n",
       "      <td>-0.005288</td>\n",
       "      <td>-0.641579</td>\n",
       "      <td>-0.642734</td>\n",
       "      <td>0.195846</td>\n",
       "    </tr>\n",
       "    <tr>\n",
       "      <th>ER</th>\n",
       "      <td>-0.815308</td>\n",
       "      <td>0.007727</td>\n",
       "      <td>0.309146</td>\n",
       "      <td>0.280571</td>\n",
       "      <td>-0.224993</td>\n",
       "      <td>0.333731</td>\n",
       "      <td>-0.062094</td>\n",
       "      <td>-0.455832</td>\n",
       "      <td>-0.177655</td>\n",
       "      <td>0.146243</td>\n",
       "      <td>0.991286</td>\n",
       "      <td>1.000000</td>\n",
       "      <td>0.997261</td>\n",
       "      <td>-0.002865</td>\n",
       "      <td>-0.637293</td>\n",
       "      <td>-0.621875</td>\n",
       "      <td>0.131556</td>\n",
       "    </tr>\n",
       "    <tr>\n",
       "      <th>ERA</th>\n",
       "      <td>-0.826952</td>\n",
       "      <td>-0.009122</td>\n",
       "      <td>0.254872</td>\n",
       "      <td>0.256458</td>\n",
       "      <td>-0.248212</td>\n",
       "      <td>0.325883</td>\n",
       "      <td>-0.070756</td>\n",
       "      <td>-0.465794</td>\n",
       "      <td>-0.195362</td>\n",
       "      <td>0.128848</td>\n",
       "      <td>0.986781</td>\n",
       "      <td>0.997261</td>\n",
       "      <td>1.000000</td>\n",
       "      <td>0.006038</td>\n",
       "      <td>-0.637186</td>\n",
       "      <td>-0.637755</td>\n",
       "      <td>0.108191</td>\n",
       "    </tr>\n",
       "    <tr>\n",
       "      <th>CG</th>\n",
       "      <td>0.029594</td>\n",
       "      <td>0.101438</td>\n",
       "      <td>-0.078511</td>\n",
       "      <td>0.092577</td>\n",
       "      <td>0.244856</td>\n",
       "      <td>-0.003733</td>\n",
       "      <td>0.065978</td>\n",
       "      <td>0.417437</td>\n",
       "      <td>-0.053075</td>\n",
       "      <td>-0.030708</td>\n",
       "      <td>-0.005288</td>\n",
       "      <td>-0.002865</td>\n",
       "      <td>0.006038</td>\n",
       "      <td>1.000000</td>\n",
       "      <td>0.264346</td>\n",
       "      <td>-0.332806</td>\n",
       "      <td>-0.123447</td>\n",
       "    </tr>\n",
       "    <tr>\n",
       "      <th>SHO</th>\n",
       "      <td>0.497526</td>\n",
       "      <td>-0.085108</td>\n",
       "      <td>-0.198872</td>\n",
       "      <td>-0.135116</td>\n",
       "      <td>0.084060</td>\n",
       "      <td>-0.058896</td>\n",
       "      <td>0.005546</td>\n",
       "      <td>0.473922</td>\n",
       "      <td>0.231230</td>\n",
       "      <td>-0.104602</td>\n",
       "      <td>-0.641579</td>\n",
       "      <td>-0.637293</td>\n",
       "      <td>-0.637186</td>\n",
       "      <td>0.264346</td>\n",
       "      <td>1.000000</td>\n",
       "      <td>0.214175</td>\n",
       "      <td>-0.121484</td>\n",
       "    </tr>\n",
       "    <tr>\n",
       "      <th>SV</th>\n",
       "      <td>0.749290</td>\n",
       "      <td>0.061381</td>\n",
       "      <td>-0.113342</td>\n",
       "      <td>-0.079814</td>\n",
       "      <td>0.269999</td>\n",
       "      <td>-0.210627</td>\n",
       "      <td>0.066984</td>\n",
       "      <td>0.187101</td>\n",
       "      <td>0.091394</td>\n",
       "      <td>-0.179741</td>\n",
       "      <td>-0.642734</td>\n",
       "      <td>-0.621875</td>\n",
       "      <td>-0.637755</td>\n",
       "      <td>-0.332806</td>\n",
       "      <td>0.214175</td>\n",
       "      <td>1.000000</td>\n",
       "      <td>-0.045539</td>\n",
       "    </tr>\n",
       "    <tr>\n",
       "      <th>E</th>\n",
       "      <td>-0.072858</td>\n",
       "      <td>0.043123</td>\n",
       "      <td>0.316297</td>\n",
       "      <td>-0.011945</td>\n",
       "      <td>0.145032</td>\n",
       "      <td>0.108610</td>\n",
       "      <td>-0.189790</td>\n",
       "      <td>-0.050114</td>\n",
       "      <td>0.142740</td>\n",
       "      <td>0.082702</td>\n",
       "      <td>0.195846</td>\n",
       "      <td>0.131556</td>\n",
       "      <td>0.108191</td>\n",
       "      <td>-0.123447</td>\n",
       "      <td>-0.121484</td>\n",
       "      <td>-0.045539</td>\n",
       "      <td>1.000000</td>\n",
       "    </tr>\n",
       "  </tbody>\n",
       "</table>\n",
       "</div>"
      ],
      "text/plain": [
       "            W         R        AB         H        2B        3B        HR  \\\n",
       "W    1.000000  0.390451 -0.085780 -0.018360  0.384886 -0.206737  0.245697   \n",
       "R    0.390451  1.000000  0.438022  0.433525  0.469293  0.134204  0.586894   \n",
       "AB  -0.085780  0.438022  1.000000  0.769159  0.490752  0.445604 -0.064653   \n",
       "H   -0.018360  0.433525  0.769159  1.000000  0.528016  0.582024 -0.218711   \n",
       "2B   0.384886  0.469293  0.490752  0.528016  1.000000  0.342419 -0.098695   \n",
       "3B  -0.206737  0.134204  0.445604  0.582024  0.342419  1.000000 -0.369299   \n",
       "HR   0.245697  0.586894 -0.064653 -0.218711 -0.098695 -0.369299  1.000000   \n",
       "BB   0.447513  0.258450 -0.137850 -0.222271  0.211243 -0.404852  0.336814   \n",
       "SO   0.156469  0.081158 -0.111243 -0.371861 -0.096772 -0.196586  0.479914   \n",
       "SB  -0.169503  0.075323  0.373674  0.417877  0.194308  0.483818 -0.166072   \n",
       "RA  -0.823176 -0.013858  0.315499  0.244606 -0.215196  0.312750 -0.092586   \n",
       "ER  -0.815308  0.007727  0.309146  0.280571 -0.224993  0.333731 -0.062094   \n",
       "ERA -0.826952 -0.009122  0.254872  0.256458 -0.248212  0.325883 -0.070756   \n",
       "CG   0.029594  0.101438 -0.078511  0.092577  0.244856 -0.003733  0.065978   \n",
       "SHO  0.497526 -0.085108 -0.198872 -0.135116  0.084060 -0.058896  0.005546   \n",
       "SV   0.749290  0.061381 -0.113342 -0.079814  0.269999 -0.210627  0.066984   \n",
       "E   -0.072858  0.043123  0.316297 -0.011945  0.145032  0.108610 -0.189790   \n",
       "\n",
       "           BB        SO        SB        RA        ER       ERA        CG  \\\n",
       "W    0.447513  0.156469 -0.169503 -0.823176 -0.815308 -0.826952  0.029594   \n",
       "R    0.258450  0.081158  0.075323 -0.013858  0.007727 -0.009122  0.101438   \n",
       "AB  -0.137850 -0.111243  0.373674  0.315499  0.309146  0.254872 -0.078511   \n",
       "H   -0.222271 -0.371861  0.417877  0.244606  0.280571  0.256458  0.092577   \n",
       "2B   0.211243 -0.096772  0.194308 -0.215196 -0.224993 -0.248212  0.244856   \n",
       "3B  -0.404852 -0.196586  0.483818  0.312750  0.333731  0.325883 -0.003733   \n",
       "HR   0.336814  0.479914 -0.166072 -0.092586 -0.062094 -0.070756  0.065978   \n",
       "BB   1.000000  0.315566 -0.117622 -0.425381 -0.455832 -0.465794  0.417437   \n",
       "SO   0.315566  1.000000  0.038188 -0.140570 -0.177655 -0.195362 -0.053075   \n",
       "SB  -0.117622  0.038188  1.000000  0.134315  0.146243  0.128848 -0.030708   \n",
       "RA  -0.425381 -0.140570  0.134315  1.000000  0.991286  0.986781 -0.005288   \n",
       "ER  -0.455832 -0.177655  0.146243  0.991286  1.000000  0.997261 -0.002865   \n",
       "ERA -0.465794 -0.195362  0.128848  0.986781  0.997261  1.000000  0.006038   \n",
       "CG   0.417437 -0.053075 -0.030708 -0.005288 -0.002865  0.006038  1.000000   \n",
       "SHO  0.473922  0.231230 -0.104602 -0.641579 -0.637293 -0.637186  0.264346   \n",
       "SV   0.187101  0.091394 -0.179741 -0.642734 -0.621875 -0.637755 -0.332806   \n",
       "E   -0.050114  0.142740  0.082702  0.195846  0.131556  0.108191 -0.123447   \n",
       "\n",
       "          SHO        SV         E  \n",
       "W    0.497526  0.749290 -0.072858  \n",
       "R   -0.085108  0.061381  0.043123  \n",
       "AB  -0.198872 -0.113342  0.316297  \n",
       "H   -0.135116 -0.079814 -0.011945  \n",
       "2B   0.084060  0.269999  0.145032  \n",
       "3B  -0.058896 -0.210627  0.108610  \n",
       "HR   0.005546  0.066984 -0.189790  \n",
       "BB   0.473922  0.187101 -0.050114  \n",
       "SO   0.231230  0.091394  0.142740  \n",
       "SB  -0.104602 -0.179741  0.082702  \n",
       "RA  -0.641579 -0.642734  0.195846  \n",
       "ER  -0.637293 -0.621875  0.131556  \n",
       "ERA -0.637186 -0.637755  0.108191  \n",
       "CG   0.264346 -0.332806 -0.123447  \n",
       "SHO  1.000000  0.214175 -0.121484  \n",
       "SV   0.214175  1.000000 -0.045539  \n",
       "E   -0.121484 -0.045539  1.000000  "
      ]
     },
     "execution_count": 53,
     "metadata": {},
     "output_type": "execute_result"
    }
   ],
   "source": [
    "df.corr()"
   ]
  },
  {
   "cell_type": "code",
   "execution_count": 54,
   "id": "d3b8ae8c",
   "metadata": {},
   "outputs": [
    {
     "data": {
      "text/plain": [
       "<AxesSubplot:>"
      ]
     },
     "execution_count": 54,
     "metadata": {},
     "output_type": "execute_result"
    },
    {
     "data": {
      "image/png": "[encoded data removed]",
      "text/plain": [
       "<Figure size 720x504 with 2 Axes>"
      ]
     },
     "metadata": {
      "needs_background": "light"
     },
     "output_type": "display_data"
    }
   ],
   "source": [
    "plt.figure(figsize=(10,7))\n",
    "sns.heatmap(df.corr(),annot=True,linewidths=0.1,linecolor=\"Black\",fmt=\"0.2f\")"
   ]
  },
  {
   "cell_type": "markdown",
   "id": "51ce0712",
   "metadata": {},
   "source": [
    "Key Observation:\n",
    "\n",
    "     1. W has positive correlation with SV and negative correlation with RA, ER and ERA.\n",
    "\n",
    "     2. SV has negative correlation with RA, ER and ERA and positive correlation with W\n",
    "\n",
    "     3. So dropping RA, ER and ERA column.\n",
    "\n",
    "     4. Multicollinearity present"
   ]
  },
  {
   "cell_type": "markdown",
   "id": "eccdf9c2",
   "metadata": {},
   "source": [
    "## Multicollinearity removal using VIF"
   ]
  },
  {
   "cell_type": "code",
   "execution_count": 55,
   "id": "4744cf56",
   "metadata": {},
   "outputs": [],
   "source": [
    "from statsmodels.stats.outliers_influence import variance_inflation_factor\n",
    "x=df.drop(['W'], axis=1)\n",
    "y=df['W'].values"
   ]
  },
  {
   "cell_type": "code",
   "execution_count": 56,
   "id": "5f6b01ab",
   "metadata": {},
   "outputs": [],
   "source": [
    "def vif_calc():\n",
    "    vif=pd.DataFrame()\n",
    "    vif[\"VIF Factor\"]=[variance_inflation_factor(x.values,i) for i in range(x.shape[1])]\n",
    "    vif[\"features\"]=x.columns\n",
    "    print(vif)"
   ]
  },
  {
   "cell_type": "code",
   "execution_count": 57,
   "id": "375fc727",
   "metadata": {},
   "outputs": [
    {
     "name": "stdout",
     "output_type": "stream",
     "text": [
      "      VIF Factor features\n",
      "0    1684.071804        R\n",
      "1    4386.435411       AB\n",
      "2    4542.383497        H\n",
      "3     874.293076       2B\n",
      "4      35.695117       3B\n",
      "5     267.423009       HR\n",
      "6     260.583556       BB\n",
      "7     399.764153       SO\n",
      "8      28.928494       SB\n",
      "9   17975.314054       RA\n",
      "10  50845.193939       ER\n",
      "11  23146.472801      ERA\n",
      "12      6.207366       CG\n",
      "13     30.820866      SHO\n",
      "14    117.346095       SV\n",
      "15     92.554014        E\n"
     ]
    }
   ],
   "source": [
    "vif_calc()"
   ]
  },
  {
   "cell_type": "markdown",
   "id": "0764d281",
   "metadata": {},
   "source": [
    "## Data Cleaning:"
   ]
  },
  {
   "cell_type": "code",
   "execution_count": 58,
   "id": "4d15a607",
   "metadata": {},
   "outputs": [
    {
     "data": {
      "text/html": [
       "<div>\n",
       "<style scoped>\n",
       "    .dataframe tbody tr th:only-of-type {\n",
       "        vertical-align: middle;\n",
       "    }\n",
       "\n",
       "    .dataframe tbody tr th {\n",
       "        vertical-align: top;\n",
       "    }\n",
       "\n",
       "    .dataframe thead th {\n",
       "        text-align: right;\n",
       "    }\n",
       "</style>\n",
       "<table border=\"1\" class=\"dataframe\">\n",
       "  <thead>\n",
       "    <tr style=\"text-align: right;\">\n",
       "      <th></th>\n",
       "      <th>W</th>\n",
       "      <th>R</th>\n",
       "      <th>H</th>\n",
       "      <th>2B</th>\n",
       "      <th>3B</th>\n",
       "      <th>HR</th>\n",
       "      <th>BB</th>\n",
       "      <th>SO</th>\n",
       "      <th>SB</th>\n",
       "      <th>CG</th>\n",
       "      <th>SHO</th>\n",
       "      <th>SV</th>\n",
       "      <th>E</th>\n",
       "    </tr>\n",
       "  </thead>\n",
       "  <tbody>\n",
       "    <tr>\n",
       "      <th>0</th>\n",
       "      <td>95</td>\n",
       "      <td>724</td>\n",
       "      <td>1497</td>\n",
       "      <td>300</td>\n",
       "      <td>42</td>\n",
       "      <td>139</td>\n",
       "      <td>383</td>\n",
       "      <td>973</td>\n",
       "      <td>104</td>\n",
       "      <td>2</td>\n",
       "      <td>8</td>\n",
       "      <td>56</td>\n",
       "      <td>88</td>\n",
       "    </tr>\n",
       "    <tr>\n",
       "      <th>1</th>\n",
       "      <td>83</td>\n",
       "      <td>696</td>\n",
       "      <td>1349</td>\n",
       "      <td>277</td>\n",
       "      <td>44</td>\n",
       "      <td>156</td>\n",
       "      <td>439</td>\n",
       "      <td>1264</td>\n",
       "      <td>70</td>\n",
       "      <td>2</td>\n",
       "      <td>12</td>\n",
       "      <td>45</td>\n",
       "      <td>86</td>\n",
       "    </tr>\n",
       "    <tr>\n",
       "      <th>2</th>\n",
       "      <td>81</td>\n",
       "      <td>669</td>\n",
       "      <td>1395</td>\n",
       "      <td>303</td>\n",
       "      <td>29</td>\n",
       "      <td>141</td>\n",
       "      <td>533</td>\n",
       "      <td>1157</td>\n",
       "      <td>86</td>\n",
       "      <td>11</td>\n",
       "      <td>10</td>\n",
       "      <td>38</td>\n",
       "      <td>79</td>\n",
       "    </tr>\n",
       "    <tr>\n",
       "      <th>3</th>\n",
       "      <td>76</td>\n",
       "      <td>622</td>\n",
       "      <td>1381</td>\n",
       "      <td>260</td>\n",
       "      <td>27</td>\n",
       "      <td>136</td>\n",
       "      <td>404</td>\n",
       "      <td>1231</td>\n",
       "      <td>68</td>\n",
       "      <td>7</td>\n",
       "      <td>9</td>\n",
       "      <td>37</td>\n",
       "      <td>101</td>\n",
       "    </tr>\n",
       "    <tr>\n",
       "      <th>4</th>\n",
       "      <td>74</td>\n",
       "      <td>689</td>\n",
       "      <td>1515</td>\n",
       "      <td>289</td>\n",
       "      <td>49</td>\n",
       "      <td>151</td>\n",
       "      <td>455</td>\n",
       "      <td>1259</td>\n",
       "      <td>83</td>\n",
       "      <td>7</td>\n",
       "      <td>12</td>\n",
       "      <td>35</td>\n",
       "      <td>86</td>\n",
       "    </tr>\n",
       "  </tbody>\n",
       "</table>\n",
       "</div>"
      ],
      "text/plain": [
       "    W    R     H   2B  3B   HR   BB    SO   SB  CG  SHO  SV    E\n",
       "0  95  724  1497  300  42  139  383   973  104   2    8  56   88\n",
       "1  83  696  1349  277  44  156  439  1264   70   2   12  45   86\n",
       "2  81  669  1395  303  29  141  533  1157   86  11   10  38   79\n",
       "3  76  622  1381  260  27  136  404  1231   68   7    9  37  101\n",
       "4  74  689  1515  289  49  151  455  1259   83   7   12  35   86"
      ]
     },
     "execution_count": 58,
     "metadata": {},
     "output_type": "execute_result"
    }
   ],
   "source": [
    "df.drop(['RA','ER','ERA','AB'],axis=1,inplace=True)\n",
    "df.head()"
   ]
  },
  {
   "cell_type": "markdown",
   "id": "e348fe22",
   "metadata": {},
   "source": [
    "3 columns RA, ER and ERA are dropped as they have negative correlation and high vif values."
   ]
  },
  {
   "cell_type": "markdown",
   "id": "458bb913",
   "metadata": {},
   "source": [
    "## Scaling Data"
   ]
  },
  {
   "cell_type": "code",
   "execution_count": 59,
   "id": "94a3bcad",
   "metadata": {},
   "outputs": [
    {
     "data": {
      "text/plain": [
       "array([[ 0.95939835,  0.83008422,  1.73830631,  1.55653766,  1.01084549,\n",
       "        -0.76586314, -1.53635899, -2.72762331,  0.9059529 , -0.66451353,\n",
       "        -0.51114812, -0.51138828, -0.50148589, -0.81326172,  1.64315663,\n",
       "        -0.47109143],\n",
       "       [ 0.33114717, -0.70283074, -0.93869788,  0.20117132,  1.20891656,\n",
       "        -0.18138864, -0.49502051,  0.12189552, -0.58531515,  0.15463823,\n",
       "         0.23216082,  0.23895226, -0.50148589,  0.15929869,  0.21100645,\n",
       "        -0.61489829],\n",
       "       [-0.27466646, -1.10025314, -0.10665604,  1.73332457, -0.2766165 ,\n",
       "        -0.69710144,  1.25294051, -0.9258657 ,  0.11645805, -0.67839746,\n",
       "        -0.75415297, -0.64380131,  2.85461197, -0.32698152, -0.70036184,\n",
       "        -1.1182223 ],\n",
       "       [-1.32923093,  0.23395062, -0.35988616, -0.8006212 , -0.47468758,\n",
       "        -0.8690057 , -1.14585706, -0.20124579, -0.6730368 ,  0.16852216,\n",
       "         0.08921679,  0.04033271,  1.36301292, -0.57012162, -0.83055731,\n",
       "         0.46365315],\n",
       "       [ 0.17408438,  1.25589393,  2.0638879 ,  0.90831897,  1.70409425,\n",
       "        -0.35329291, -0.19749523,  0.07293472, -0.01512442,  1.58468284,\n",
       "         1.56154027,  1.4968761 ,  1.36301292,  0.15929869, -1.09094826,\n",
       "        -0.61489829],\n",
       "       [ 1.85690002,  0.71653496, -0.07048031, -0.09347354, -1.26697188,\n",
       "         1.74393914,  1.64344245, -0.24041443, -0.89234092,  0.12687038,\n",
       "         0.21786641,  0.1506769 , -0.12858612, -1.78582213,  0.60159287,\n",
       "        -0.11157429],\n",
       "       [ 0.71258538, -0.44734492, -0.55885269, -1.6256268 , -1.16793634,\n",
       "         1.9158434 , -0.88552244,  0.7779703 , -1.7256966 ,  0.05745074,\n",
       "         0.1321    ,  0.19481458, -1.24728541, -0.32698152, -0.04938449,\n",
       "        -1.26202916],\n",
       "       [-0.83560501, -0.44734492, -0.32371043,  0.26010029,  0.02049011,\n",
       "         0.19680075, -0.5508065 ,  0.57233492,  0.16031888, -0.6506296 ,\n",
       "        -0.46826492, -0.48931944, -0.87438565,  0.15929869,  2.16393852,\n",
       "         0.03223257],\n",
       "       [ 1.49789935,  1.75267193,  1.70213058,  1.20296383,  0.11952565,\n",
       "        -0.00948437,  0.23019736, -1.01399515, -0.54145432,  0.89048643,\n",
       "         0.81823133,  0.7686044 , -0.12858612, -0.32698152, -0.4399709 ,\n",
       "         0.17603943],\n",
       "       [ 1.56521198, -0.07830983,  0.32745275,  0.31902926,  0.02049011,\n",
       "         0.36870501,  0.69508061, -0.18166147,  0.77437043,  0.61280787,\n",
       "         0.61810969,  0.61412253,  0.6172134 , -0.57012162,  0.21100645,\n",
       "         1.75791488],\n",
       "       [ 1.07158606, -0.81638   , -0.68546775,  0.26010029, -0.57372311,\n",
       "         2.3627945 ,  0.37896   ,  1.37529212,  1.65158693, -0.98384388,\n",
       "        -0.9256858 , -0.86448971,  0.6172134 ,  0.40243879, -0.57016637,\n",
       "        -0.68680172],\n",
       "       [-0.4541668 , -1.4125136 , -1.26427947, -1.80241371, -1.0689008 ,\n",
       "         0.50622842, -0.56940183, -0.99441083, -1.37481   , -0.19245997,\n",
       "        -0.09661045, -0.04794265, -0.50148589,  0.15929869,  0.34120192,\n",
       "        -0.11157429],\n",
       "       [-0.56635451,  0.39008085, -0.3960619 , -0.68276325, -0.96986526,\n",
       "         1.26260719,  0.23019736,  0.82693111, -0.62917597,  0.51562037,\n",
       "         0.57522648,  0.43757181,  0.99011316,  0.15929869,  0.21100645,\n",
       "        -0.03967086],\n",
       "       [ 0.28627209,  1.18492565,  0.07422262,  0.20117132,  1.40698764,\n",
       "        -0.52519717,  0.17441137, -1.29796781, -0.23442855,  0.55727215,\n",
       "         0.38939925,  0.39343414,  0.6172134 ,  0.888719  , -2.00231655,\n",
       "         2.26123888],\n",
       "       [-0.76829238, -0.46153857, -0.26944683,  0.84939   ,  0.71373887,\n",
       "        -0.83462485,  0.7508666 ,  0.151272  , -0.62917597, -2.2750492 ,\n",
       "        -2.26935966, -2.25482658, -0.87438565,  0.888719  ,  2.42432946,\n",
       "         0.104136  ],\n",
       "       [ 0.35358471,  1.62492902,  1.10523099,  1.08510589, -0.47468758,\n",
       "        -0.73148229, -0.08592325,  0.68984085,  0.64278795, -1.2892903 ,\n",
       "        -1.49746191, -1.65896792, -1.24728541,  0.40243879,  1.38276569,\n",
       "         1.97362516],\n",
       "       [ 0.17408438, -0.36218297, -1.08340081, -0.09347354, -0.17758096,\n",
       "         0.33432416,  1.88518174,  2.6091044 ,  0.51120548, -1.12268316,\n",
       "        -1.29734027, -1.32793533,  0.99011316,  2.34755961,  0.60159287,\n",
       "         1.18268744],\n",
       "       [-0.58879205, -0.5183132 , -0.41414976,  0.0243844 ,  0.21856119,\n",
       "        -0.55957802, -0.99709442,  0.46462115,  0.0287364 ,  0.66834358,\n",
       "         0.64669849,  0.70239789, -0.87438565, -1.05640183, -0.4399709 ,\n",
       "         1.54220459],\n",
       "       [-0.92535518,  0.77330959, -0.3417983 , -0.97740811, -0.47468758,\n",
       "         0.19680075,  0.5649133 ,  0.03376607,  2.22177765,  0.90437036,\n",
       "         0.90399774,  0.81274208, -0.50148589, -0.81326172, -1.09094826,\n",
       "        -0.32728458],\n",
       "       [ 0.03945913,  0.14878868, -0.90252215,  1.2618928 , -1.46504295,\n",
       "         0.54060928,  0.41615066,  0.3764917 , -1.41867082, -1.05326352,\n",
       "        -1.14010184, -1.17345346, -0.87438565,  0.64557889,  0.86198381,\n",
       "        -0.47109143],\n",
       "       [ 0.48820996, -1.25638337, -0.68546775, -0.50597634, -1.8611851 ,\n",
       "         0.54060928,  1.3645125 ,  0.9052684 , -1.15550587, -0.7478171 ,\n",
       "        -0.85421379, -0.75414551,  0.24431364,  0.40243879, -0.30977543,\n",
       "        -0.32728458],\n",
       "       [-1.53116881, -0.75960537,  0.34554062, -2.21491651,  0.81277441,\n",
       "        -1.41909935, -1.68512163, -0.99441083,  1.2568395 , -0.15080819,\n",
       "         0.01774478,  0.12860806, -1.24728541,  0.15929869, -1.09094826,\n",
       "        -1.26202916],\n",
       "       [-2.42867049, -1.36993263, -0.72164349, -1.33098194, -1.36600741,\n",
       "        -2.10671642,  0.10003005, -1.41547375, -0.62917597,  0.98767393,\n",
       "         0.87540894,  0.9892928 , -0.12858612, -0.32698152,  0.08081098,\n",
       "        -0.32728458],\n",
       "       [-1.23948077,  0.177176  , -0.48650123, -0.09347354,  0.5156678 ,\n",
       "        -1.07529082, -1.46197767,  0.21981713,  0.2041797 ,  1.66798641,\n",
       "         1.60442347,  1.6072203 , -0.87438565, -1.05640183, -1.09094826,\n",
       "         1.61410802],\n",
       "       [-0.31954155, -1.86671063, -0.99296148, -0.62383428, -0.57372311,\n",
       "         0.88441781,  1.81080042,  0.06314255, -1.06778422, -1.30317423,\n",
       "        -1.19727945, -1.15138462,  0.99011316,  2.34755961,  0.47139739,\n",
       "        -1.40583602],\n",
       "       [ 0.33114717,  0.68814765,  1.53933978,  0.84939   ,  0.71373887,\n",
       "        -0.8690057 , -0.16030457, -0.90628138,  0.42348383, -0.85888852,\n",
       "        -0.56832573, -0.53345712,  1.36301292,  1.6181393 , -0.30977543,\n",
       "        -1.19012573],\n",
       "       [ 0.86964818,  1.88041485,  1.68404271,  0.90831897,  1.60505871,\n",
       "        -0.25015035,  0.45334132,  0.59191925,  2.134056  ,  0.3351293 ,\n",
       "         0.31792723,  0.17274574, -0.87438565,  0.15929869,  0.08081098,\n",
       "        -0.61489829],\n",
       "       [-0.70097976, -0.84476732, -1.39089453, -0.8006212 ,  0.41663226,\n",
       "        -0.45643546, -0.7367598 ,  0.73880166, -0.05898525,  0.58504001,\n",
       "         0.26074962,  0.28308994, -0.87438565, -1.29954193, -0.30977543,\n",
       "        -0.18347772],\n",
       "       [ 1.25108639,  0.78750325,  1.41272472,  0.0243844 ,  1.70409425,\n",
       "         0.85003696, -1.44338234,  0.30794658,  0.59892713,  2.1539239 ,\n",
       "         2.31914361,  2.37962968,  0.24431364, -1.78582213, -0.96075279,\n",
       "         0.03223257]])"
      ]
     },
     "execution_count": 59,
     "metadata": {},
     "output_type": "execute_result"
    }
   ],
   "source": [
    "from sklearn.preprocessing import StandardScaler\n",
    "sc = StandardScaler()\n",
    "x=sc.fit_transform(x)\n",
    "x"
   ]
  },
  {
   "cell_type": "markdown",
   "id": "976b636b",
   "metadata": {},
   "source": [
    "Scaling of independent data"
   ]
  },
  {
   "cell_type": "markdown",
   "id": "ab10ba64",
   "metadata": {},
   "source": [
    "# Model Selection :\n",
    "\n",
    "## Linear Regression:"
   ]
  },
  {
   "cell_type": "code",
   "execution_count": 60,
   "id": "6d99d473",
   "metadata": {},
   "outputs": [],
   "source": [
    "from sklearn.metrics import r2_score \n",
    "from sklearn.linear_model import LinearRegression\n",
    "lr=LinearRegression()\n",
    "from sklearn.metrics import mean_squared_error,mean_absolute_error\n",
    "from sklearn.metrics import accuracy_score\n",
    "from sklearn.model_selection import train_test_split\n",
    "\n",
    "import warnings\n",
    "warnings.filterwarnings('ignore')"
   ]
  },
  {
   "cell_type": "code",
   "execution_count": 61,
   "id": "16fedeb5",
   "metadata": {},
   "outputs": [
    {
     "name": "stdout",
     "output_type": "stream",
     "text": [
      "At random state 0,the training accuracy is:- 0.9793017186900749\n",
      "At random state 0,the testing accuracy is:- 0.376424120241284\n",
      "\n",
      "\n",
      "At random state 1,the training accuracy is:- 0.96935160044487\n",
      "At random state 1,the testing accuracy is:- 0.7555241414909614\n",
      "\n",
      "\n",
      "At random state 2,the training accuracy is:- 0.966488123221676\n",
      "At random state 2,the testing accuracy is:- -0.3292909249904006\n",
      "\n",
      "\n",
      "At random state 3,the training accuracy is:- 0.9534657143080717\n",
      "At random state 3,the testing accuracy is:- 0.8485894004113604\n",
      "\n",
      "\n",
      "At random state 4,the training accuracy is:- 0.9611298547801513\n",
      "At random state 4,the testing accuracy is:- 0.7514775069642646\n",
      "\n",
      "\n",
      "At random state 5,the training accuracy is:- 0.9617989022273269\n",
      "At random state 5,the testing accuracy is:- 0.5545096693427418\n",
      "\n",
      "\n",
      "At random state 6,the training accuracy is:- 0.960321770783518\n",
      "At random state 6,the testing accuracy is:- 0.7473255183245264\n",
      "\n",
      "\n",
      "At random state 7,the training accuracy is:- 0.9590946505307435\n",
      "At random state 7,the testing accuracy is:- 0.4043749564143563\n",
      "\n",
      "\n",
      "At random state 8,the training accuracy is:- 0.9819223969712503\n",
      "At random state 8,the testing accuracy is:- 0.6503293907997013\n",
      "\n",
      "\n",
      "At random state 9,the training accuracy is:- 0.9852222148496504\n",
      "At random state 9,the testing accuracy is:- 0.3746583377913557\n",
      "\n",
      "\n",
      "At random state 10,the training accuracy is:- 0.9817910208904364\n",
      "At random state 10,the testing accuracy is:- 0.1781726557214759\n",
      "\n",
      "\n",
      "At random state 11,the training accuracy is:- 0.9641001310696609\n",
      "At random state 11,the testing accuracy is:- 0.24948171885983705\n",
      "\n",
      "\n",
      "At random state 12,the training accuracy is:- 0.9758100123592066\n",
      "At random state 12,the testing accuracy is:- 0.6488860213020474\n",
      "\n",
      "\n",
      "At random state 13,the training accuracy is:- 0.9503913607770884\n",
      "At random state 13,the testing accuracy is:- 0.7096176324298575\n",
      "\n",
      "\n",
      "At random state 14,the training accuracy is:- 0.9581166229280107\n",
      "At random state 14,the testing accuracy is:- 0.7326465137567895\n",
      "\n",
      "\n",
      "At random state 15,the training accuracy is:- 0.9737962249785403\n",
      "At random state 15,the testing accuracy is:- 0.6981784724670921\n",
      "\n",
      "\n",
      "At random state 16,the training accuracy is:- 0.9866574499377259\n",
      "At random state 16,the testing accuracy is:- 0.2793851836698581\n",
      "\n",
      "\n",
      "At random state 17,the training accuracy is:- 0.9539846486283631\n",
      "At random state 17,the testing accuracy is:- 0.7160067705364845\n",
      "\n",
      "\n",
      "At random state 18,the training accuracy is:- 0.9791203016424965\n",
      "At random state 18,the testing accuracy is:- 0.19226422547584932\n",
      "\n",
      "\n",
      "At random state 19,the training accuracy is:- 0.9708530864297664\n",
      "At random state 19,the testing accuracy is:- -0.1671337211842885\n",
      "\n",
      "\n",
      "At random state 20,the training accuracy is:- 0.9849511032695472\n",
      "At random state 20,the testing accuracy is:- -1.0855935213173606\n",
      "\n",
      "\n",
      "At random state 21,the training accuracy is:- 0.9852477635221243\n",
      "At random state 21,the testing accuracy is:- 0.1171147412489073\n",
      "\n",
      "\n",
      "At random state 22,the training accuracy is:- 0.9595022287889576\n",
      "At random state 22,the testing accuracy is:- 0.6870624488865535\n",
      "\n",
      "\n",
      "At random state 23,the training accuracy is:- 0.9761439999329895\n",
      "At random state 23,the testing accuracy is:- 0.4347687655074778\n",
      "\n",
      "\n",
      "At random state 24,the training accuracy is:- 0.9693968771592174\n",
      "At random state 24,the testing accuracy is:- -1.031292082823294\n",
      "\n",
      "\n",
      "At random state 25,the training accuracy is:- 0.9665196720646334\n",
      "At random state 25,the testing accuracy is:- 0.054051142490532444\n",
      "\n",
      "\n",
      "At random state 26,the training accuracy is:- 0.9573762003455407\n",
      "At random state 26,the testing accuracy is:- 0.5976868922276948\n",
      "\n",
      "\n",
      "At random state 27,the training accuracy is:- 0.9780600973626667\n",
      "At random state 27,the testing accuracy is:- 0.7164961060453607\n",
      "\n",
      "\n",
      "At random state 28,the training accuracy is:- 0.9851836075682534\n",
      "At random state 28,the testing accuracy is:- -0.08363002009026244\n",
      "\n",
      "\n",
      "At random state 29,the training accuracy is:- 0.9597282352007819\n",
      "At random state 29,the testing accuracy is:- 0.7911384894366874\n",
      "\n",
      "\n",
      "At random state 30,the training accuracy is:- 0.9509987369376941\n",
      "At random state 30,the testing accuracy is:- 0.8592555824296175\n",
      "\n",
      "\n",
      "At random state 31,the training accuracy is:- 0.9783784423180567\n",
      "At random state 31,the testing accuracy is:- 0.28746124994207944\n",
      "\n",
      "\n",
      "At random state 32,the training accuracy is:- 0.9753197700418502\n",
      "At random state 32,the testing accuracy is:- -0.05985745322259417\n",
      "\n",
      "\n",
      "At random state 33,the training accuracy is:- 0.9566731379573057\n",
      "At random state 33,the testing accuracy is:- 0.6767555583977345\n",
      "\n",
      "\n",
      "At random state 34,the training accuracy is:- 0.9837618671808754\n",
      "At random state 34,the testing accuracy is:- 0.4257576294655637\n",
      "\n",
      "\n",
      "At random state 35,the training accuracy is:- 0.9773223523890199\n",
      "At random state 35,the testing accuracy is:- 0.8268955790694547\n",
      "\n",
      "\n",
      "At random state 36,the training accuracy is:- 0.9828084384653809\n",
      "At random state 36,the testing accuracy is:- -0.37399109375822936\n",
      "\n",
      "\n",
      "At random state 37,the training accuracy is:- 0.9827277957386009\n",
      "At random state 37,the testing accuracy is:- -0.025406405318280534\n",
      "\n",
      "\n",
      "At random state 38,the training accuracy is:- 0.9653052300486408\n",
      "At random state 38,the testing accuracy is:- 0.4646083146255585\n",
      "\n",
      "\n",
      "At random state 39,the training accuracy is:- 0.9825079921085839\n",
      "At random state 39,the testing accuracy is:- 0.305560144771193\n",
      "\n",
      "\n",
      "At random state 40,the training accuracy is:- 0.9850869323282812\n",
      "At random state 40,the testing accuracy is:- 0.2804861137147968\n",
      "\n",
      "\n",
      "At random state 41,the training accuracy is:- 0.9512167342792702\n",
      "At random state 41,the testing accuracy is:- 0.6922470788710682\n",
      "\n",
      "\n",
      "At random state 42,the training accuracy is:- 0.9669863192160294\n",
      "At random state 42,the testing accuracy is:- 0.25928395352760314\n",
      "\n",
      "\n",
      "At random state 43,the training accuracy is:- 0.99094392684404\n",
      "At random state 43,the testing accuracy is:- -1.6579669952555087\n",
      "\n",
      "\n",
      "At random state 44,the training accuracy is:- 0.9661518619712495\n",
      "At random state 44,the testing accuracy is:- 0.45588267886533307\n",
      "\n",
      "\n",
      "At random state 45,the training accuracy is:- 0.982365161951943\n",
      "At random state 45,the testing accuracy is:- 0.3201273442340037\n",
      "\n",
      "\n",
      "At random state 46,the training accuracy is:- 0.9564672221873494\n",
      "At random state 46,the testing accuracy is:- 0.6086791076001374\n",
      "\n",
      "\n",
      "At random state 47,the training accuracy is:- 0.9691355005828054\n",
      "At random state 47,the testing accuracy is:- 0.12752234038132482\n",
      "\n",
      "\n",
      "At random state 48,the training accuracy is:- 0.9781565249225684\n",
      "At random state 48,the testing accuracy is:- -0.14831681753769055\n",
      "\n",
      "\n",
      "At random state 49,the training accuracy is:- 0.9818481758067017\n",
      "At random state 49,the testing accuracy is:- -0.3552521396537578\n",
      "\n",
      "\n",
      "At random state 50,the training accuracy is:- 0.949754081629327\n",
      "At random state 50,the testing accuracy is:- 0.8402586950388162\n",
      "\n",
      "\n",
      "At random state 51,the training accuracy is:- 0.9759446138806237\n",
      "At random state 51,the testing accuracy is:- 0.6782092587437657\n",
      "\n",
      "\n",
      "At random state 52,the training accuracy is:- 0.9808426179096356\n",
      "At random state 52,the testing accuracy is:- 0.3859210116034404\n",
      "\n",
      "\n",
      "At random state 53,the training accuracy is:- 0.9641741950951814\n",
      "At random state 53,the testing accuracy is:- 0.4881571366403462\n",
      "\n",
      "\n",
      "At random state 54,the training accuracy is:- 0.973014913886315\n",
      "At random state 54,the testing accuracy is:- 0.0842490815131941\n",
      "\n",
      "\n",
      "At random state 55,the training accuracy is:- 0.9572482066538394\n",
      "At random state 55,the testing accuracy is:- 0.7900101384277469\n",
      "\n",
      "\n",
      "At random state 56,the training accuracy is:- 0.9755500288829791\n",
      "At random state 56,the testing accuracy is:- 0.6589140348288773\n",
      "\n",
      "\n",
      "At random state 57,the training accuracy is:- 0.9759205325791023\n",
      "At random state 57,the testing accuracy is:- 0.6079747434400364\n",
      "\n",
      "\n",
      "At random state 58,the training accuracy is:- 0.9817869712738103\n",
      "At random state 58,the testing accuracy is:- 0.5510265209086068\n",
      "\n",
      "\n",
      "At random state 59,the training accuracy is:- 0.9772225796142909\n",
      "At random state 59,the testing accuracy is:- 0.6634093644389683\n",
      "\n",
      "\n",
      "At random state 60,the training accuracy is:- 0.9895772197991743\n",
      "At random state 60,the testing accuracy is:- 0.08185322307356291\n",
      "\n",
      "\n",
      "At random state 61,the training accuracy is:- 0.9788659600731741\n",
      "At random state 61,the testing accuracy is:- 0.6581517293978092\n",
      "\n",
      "\n",
      "At random state 62,the training accuracy is:- 0.9855012361896786\n",
      "At random state 62,the testing accuracy is:- 0.4811072849368151\n",
      "\n",
      "\n",
      "At random state 63,the training accuracy is:- 0.9830539791937379\n",
      "At random state 63,the testing accuracy is:- 0.63891609257484\n",
      "\n",
      "\n",
      "At random state 64,the training accuracy is:- 0.9498377203433123\n",
      "At random state 64,the testing accuracy is:- 0.855629095209554\n",
      "\n",
      "\n",
      "At random state 65,the training accuracy is:- 0.9801762997126913\n",
      "At random state 65,the testing accuracy is:- 0.3979366711628449\n",
      "\n",
      "\n",
      "At random state 66,the training accuracy is:- 0.9561260522887616\n",
      "At random state 66,the testing accuracy is:- 0.6498495975004137\n",
      "\n",
      "\n",
      "At random state 67,the training accuracy is:- 0.9518791307102042\n",
      "At random state 67,the testing accuracy is:- 0.8157368204801545\n",
      "\n",
      "\n",
      "At random state 68,the training accuracy is:- 0.9636311729119128\n",
      "At random state 68,the testing accuracy is:- -0.08171472137700841\n",
      "\n",
      "\n",
      "At random state 69,the training accuracy is:- 0.9627946030682472\n",
      "At random state 69,the testing accuracy is:- 0.4717327998173172\n",
      "\n",
      "\n",
      "At random state 70,the training accuracy is:- 0.9742526983397114\n",
      "At random state 70,the testing accuracy is:- -0.19345477116759957\n",
      "\n",
      "\n",
      "At random state 71,the training accuracy is:- 0.9881455904971488\n",
      "At random state 71,the testing accuracy is:- -4.526975628898749\n",
      "\n",
      "\n",
      "At random state 72,the training accuracy is:- 0.9655726874271953\n",
      "At random state 72,the testing accuracy is:- -0.44045894502773986\n",
      "\n",
      "\n",
      "At random state 73,the training accuracy is:- 0.9649260708896535\n",
      "At random state 73,the testing accuracy is:- 0.7675589097494273\n",
      "\n",
      "\n",
      "At random state 74,the training accuracy is:- 0.9682382951628076\n",
      "At random state 74,the testing accuracy is:- -0.1565227626722714\n",
      "\n",
      "\n",
      "At random state 75,the training accuracy is:- 0.9742058927656051\n",
      "At random state 75,the testing accuracy is:- 0.06853971821235605\n",
      "\n",
      "\n"
     ]
    },
    {
     "name": "stdout",
     "output_type": "stream",
     "text": [
      "At random state 76,the training accuracy is:- 0.9727741782941949\n",
      "At random state 76,the testing accuracy is:- 0.5301458735053395\n",
      "\n",
      "\n",
      "At random state 77,the training accuracy is:- 0.9594808624040051\n",
      "At random state 77,the testing accuracy is:- 0.6872828258518049\n",
      "\n",
      "\n",
      "At random state 78,the training accuracy is:- 0.9603231553623609\n",
      "At random state 78,the testing accuracy is:- 0.4609816397856499\n",
      "\n",
      "\n",
      "At random state 79,the training accuracy is:- 0.9787922709284369\n",
      "At random state 79,the testing accuracy is:- 0.5525572590656611\n",
      "\n",
      "\n",
      "At random state 80,the training accuracy is:- 0.9760170103824866\n",
      "At random state 80,the testing accuracy is:- 0.5073058320230552\n",
      "\n",
      "\n",
      "At random state 81,the training accuracy is:- 0.9783042200995691\n",
      "At random state 81,the testing accuracy is:- 0.7527407964239281\n",
      "\n",
      "\n",
      "At random state 82,the training accuracy is:- 0.9738621043538023\n",
      "At random state 82,the testing accuracy is:- 0.5262865332041338\n",
      "\n",
      "\n",
      "At random state 83,the training accuracy is:- 0.9812514305906168\n",
      "At random state 83,the testing accuracy is:- 0.10359164363864704\n",
      "\n",
      "\n",
      "At random state 84,the training accuracy is:- 0.9663196552084644\n",
      "At random state 84,the testing accuracy is:- 0.4038862767807222\n",
      "\n",
      "\n",
      "At random state 85,the training accuracy is:- 0.9662232024149726\n",
      "At random state 85,the testing accuracy is:- 0.24795105552176877\n",
      "\n",
      "\n",
      "At random state 86,the training accuracy is:- 0.9605204963879118\n",
      "At random state 86,the testing accuracy is:- -0.993104609128959\n",
      "\n",
      "\n",
      "At random state 87,the training accuracy is:- 0.9592744629032902\n",
      "At random state 87,the testing accuracy is:- 0.4762820684410326\n",
      "\n",
      "\n",
      "At random state 88,the training accuracy is:- 0.9960807953835065\n",
      "At random state 88,the testing accuracy is:- -2.4933719378945693\n",
      "\n",
      "\n",
      "At random state 89,the training accuracy is:- 0.9572247108513685\n",
      "At random state 89,the testing accuracy is:- 0.6047171241049698\n",
      "\n",
      "\n",
      "At random state 90,the training accuracy is:- 0.9569038361083649\n",
      "At random state 90,the testing accuracy is:- 0.7715526011050495\n",
      "\n",
      "\n",
      "At random state 91,the training accuracy is:- 0.987259650657049\n",
      "At random state 91,the testing accuracy is:- 0.5187820140376525\n",
      "\n",
      "\n",
      "At random state 92,the training accuracy is:- 0.9883764137712475\n",
      "At random state 92,the testing accuracy is:- 0.4330883884228426\n",
      "\n",
      "\n",
      "At random state 93,the training accuracy is:- 0.9633949980603783\n",
      "At random state 93,the testing accuracy is:- 0.6636290947263992\n",
      "\n",
      "\n",
      "At random state 94,the training accuracy is:- 0.967135729966074\n",
      "At random state 94,the testing accuracy is:- 0.6078565555491495\n",
      "\n",
      "\n",
      "At random state 95,the training accuracy is:- 0.9653570973775685\n",
      "At random state 95,the testing accuracy is:- 0.6344525313354012\n",
      "\n",
      "\n",
      "At random state 96,the training accuracy is:- 0.9900893827098421\n",
      "At random state 96,the testing accuracy is:- -0.3900254834826391\n",
      "\n",
      "\n",
      "At random state 97,the training accuracy is:- 0.9586699149043332\n",
      "At random state 97,the testing accuracy is:- 0.7342022365525811\n",
      "\n",
      "\n",
      "At random state 98,the training accuracy is:- 0.9892263010900144\n",
      "At random state 98,the testing accuracy is:- -0.6109960154994392\n",
      "\n",
      "\n",
      "At random state 99,the training accuracy is:- 0.9611734965562408\n",
      "At random state 99,the testing accuracy is:- 0.8458464532843795\n",
      "\n",
      "\n"
     ]
    }
   ],
   "source": [
    "for i in range(0,100):\n",
    "    train_x,test_x,train_y,test_y=train_test_split(x,y,test_size=0.2,random_state=i)\n",
    "    lr.fit(train_x,train_y)\n",
    "    pred_train=lr.predict(train_x)\n",
    "    pred_test=lr.predict(test_x)\n",
    "    print(f\"At random state {i},the training accuracy is:- {r2_score(train_y,pred_train)}\")\n",
    "    print(f\"At random state {i},the testing accuracy is:- {r2_score(test_y,pred_test)}\")\n",
    "    print(\"\\n\")"
   ]
  },
  {
   "cell_type": "code",
   "execution_count": 62,
   "id": "caa1d5dc",
   "metadata": {},
   "outputs": [
    {
     "data": {
      "text/plain": [
       "0.8458464532843795"
      ]
     },
     "execution_count": 62,
     "metadata": {},
     "output_type": "execute_result"
    }
   ],
   "source": [
    "lr.fit(train_x,train_y)\n",
    "lr.score(test_x,test_y)"
   ]
  },
  {
   "cell_type": "markdown",
   "id": "8d5febea",
   "metadata": {},
   "source": [
    "lr score is 84.5%"
   ]
  },
  {
   "cell_type": "code",
   "execution_count": 63,
   "id": "6b2e0b76",
   "metadata": {},
   "outputs": [
    {
     "data": {
      "text/plain": [
       "array([62.93326769, 56.92667191, 89.65720939, 78.85548368, 87.73297638,\n",
       "       93.79076173])"
      ]
     },
     "execution_count": 63,
     "metadata": {},
     "output_type": "execute_result"
    }
   ],
   "source": [
    "#Predicted data\n",
    "pred=lr.predict(test_x)\n",
    "pred"
   ]
  },
  {
   "cell_type": "code",
   "execution_count": 64,
   "id": "f5ef4ed1",
   "metadata": {},
   "outputs": [
    {
     "name": "stdout",
     "output_type": "stream",
     "text": [
      "Mean squared error: 23.516979960060784\n",
      "Mean absolute error: 4.477012133523934\n",
      "R2Score: 0.8458464532843795\n"
     ]
    }
   ],
   "source": [
    "print(\"Mean squared error:\",mean_squared_error(test_y,pred))\n",
    "print(\"Mean absolute error:\",mean_absolute_error(test_y,pred))\n",
    "print(\"R2Score:\",r2_score(test_y,pred))"
   ]
  },
  {
   "cell_type": "markdown",
   "id": "0b12ce6e",
   "metadata": {},
   "source": [
    "R2score is 84.5%"
   ]
  },
  {
   "cell_type": "markdown",
   "id": "c6119484",
   "metadata": {},
   "source": [
    "# Cross-Validation of the model:"
   ]
  },
  {
   "cell_type": "code",
   "execution_count": 65,
   "id": "4e03d2f1",
   "metadata": {},
   "outputs": [
    {
     "name": "stdout",
     "output_type": "stream",
     "text": [
      "At cross fold 2 the cv score is -1.3072639344878239 and accuracy score for training is 0.9611734965562408 and accuracy for the testing is 0.8458464532843795\n",
      "\n",
      "\n",
      "At cross fold 3 the cv score is -1.0613861623995666 and accuracy score for training is 0.9611734965562408 and accuracy for the testing is 0.8458464532843795\n",
      "\n",
      "\n",
      "At cross fold 4 the cv score is -0.24334983064485805 and accuracy score for training is 0.9611734965562408 and accuracy for the testing is 0.8458464532843795\n",
      "\n",
      "\n",
      "At cross fold 5 the cv score is 0.037628660496317835 and accuracy score for training is 0.9611734965562408 and accuracy for the testing is 0.8458464532843795\n",
      "\n",
      "\n",
      "At cross fold 6 the cv score is -0.14490415472920387 and accuracy score for training is 0.9611734965562408 and accuracy for the testing is 0.8458464532843795\n",
      "\n",
      "\n",
      "At cross fold 7 the cv score is -0.16006807093955125 and accuracy score for training is 0.9611734965562408 and accuracy for the testing is 0.8458464532843795\n",
      "\n",
      "\n",
      "At cross fold 8 the cv score is 0.2328584092475074 and accuracy score for training is 0.9611734965562408 and accuracy for the testing is 0.8458464532843795\n",
      "\n",
      "\n",
      "At cross fold 9 the cv score is -12.164616947521123 and accuracy score for training is 0.9611734965562408 and accuracy for the testing is 0.8458464532843795\n",
      "\n",
      "\n"
     ]
    }
   ],
   "source": [
    "Train_accuracy=r2_score(train_y,pred_train)\n",
    "Test_accuracy=r2_score(test_y,pred_test)\n",
    "\n",
    "from sklearn.model_selection import cross_val_score\n",
    "for j in range(2,10):\n",
    "    cv_score=cross_val_score(lr,x,y,cv=j)\n",
    "    cv_mean=cv_score.mean()\n",
    "    print(f\"At cross fold {j} the cv score is {cv_mean} and accuracy score for training is {Train_accuracy} and accuracy for the testing is {Test_accuracy}\")\n",
    "    print(\"\\n\")"
   ]
  },
  {
   "cell_type": "markdown",
   "id": "2a915c4c",
   "metadata": {},
   "source": [
    "Since the number of folds dont have such impact on the accuracy and cv_score. So cv=5 is selected.\n",
    "\n",
    "Hence we handled the problem of the overfitting and the underfitting by checking the training and testing score."
   ]
  },
  {
   "cell_type": "code",
   "execution_count": 66,
   "id": "47a8c743",
   "metadata": {},
   "outputs": [
    {
     "data": {
      "image/png": "[encoded data removed]",
      "text/plain": [
       "<Figure size 576x432 with 1 Axes>"
      ]
     },
     "metadata": {
      "needs_background": "light"
     },
     "output_type": "display_data"
    }
   ],
   "source": [
    "import matplotlib.pyplot as plt\n",
    "plt.figure(figsize=(8,6))\n",
    "plt.scatter(x=test_y, y=pred_test, color='r')\n",
    "plt.plot(test_y,test_y, color='b')\n",
    "plt.xlabel('Actual data',fontsize=14)\n",
    "plt.ylabel('Predicted data',fontsize=14)\n",
    "plt.title('Linear Regression',fontsize=18)\n",
    "plt.show()"
   ]
  },
  {
   "cell_type": "markdown",
   "id": "5204431b",
   "metadata": {},
   "source": [
    "## Regularization"
   ]
  },
  {
   "cell_type": "code",
   "execution_count": 67,
   "id": "22d5903b",
   "metadata": {},
   "outputs": [],
   "source": [
    "# Importing Libraries and Hyper parameter tuning:\n",
    "from sklearn.model_selection import GridSearchCV\n",
    "from sklearn.model_selection import cross_val_score\n",
    "import warnings\n",
    "warnings.filterwarnings('ignore')"
   ]
  },
  {
   "cell_type": "code",
   "execution_count": 68,
   "id": "71891a86",
   "metadata": {},
   "outputs": [
    {
     "name": "stdout",
     "output_type": "stream",
     "text": [
      "{'alpha': 1, 'random_state': 0}\n"
     ]
    }
   ],
   "source": [
    "from sklearn.linear_model import Lasso\n",
    "\n",
    "parameters = {'alpha':[.0001, .001, .01, .1, 1,10],'random_state':list(range(0,10))}\n",
    "ls = Lasso()\n",
    "clf = GridSearchCV(ls,parameters)\n",
    "clf.fit(train_x,train_y)\n",
    "\n",
    "print(clf.best_params_)"
   ]
  },
  {
   "cell_type": "markdown",
   "id": "1ff7e9e0",
   "metadata": {},
   "source": [
    "Best parameters for Linear Regressor"
   ]
  },
  {
   "cell_type": "code",
   "execution_count": 69,
   "id": "70cdea02",
   "metadata": {},
   "outputs": [
    {
     "name": "stdout",
     "output_type": "stream",
     "text": [
      "ls score 0.8536948537194157\n",
      "r2 score 87.28529345518794\n"
     ]
    }
   ],
   "source": [
    "ls = Lasso(alpha=1,random_state=0)\n",
    "ls.fit(train_x,train_y)\n",
    "ls.score(train_x,train_y)\n",
    "print('ls score',ls.score(train_x,train_y))\n",
    "pred_ls = ls.predict(test_x)\n",
    "\n",
    "r2s = r2_score(test_y,pred_ls)\n",
    "print('r2 score',r2s*100)"
   ]
  },
  {
   "cell_type": "markdown",
   "id": "9e134be5",
   "metadata": {},
   "source": [
    "ls score is 85% and r2score is 87.2%"
   ]
  },
  {
   "cell_type": "code",
   "execution_count": 70,
   "id": "c10ae60f",
   "metadata": {},
   "outputs": [
    {
     "data": {
      "text/plain": [
       "0.4152252452373902"
      ]
     },
     "execution_count": 70,
     "metadata": {},
     "output_type": "execute_result"
    }
   ],
   "source": [
    "cv_score=cross_val_score(ls,x,y,cv=5)\n",
    "cv_mean=cv_score.mean()\n",
    "cv_mean"
   ]
  },
  {
   "cell_type": "markdown",
   "id": "27d19f42",
   "metadata": {},
   "source": [
    "cv score is 41%"
   ]
  },
  {
   "cell_type": "markdown",
   "id": "1ab4819a",
   "metadata": {},
   "source": [
    "## 1. Random Forest Regressor"
   ]
  },
  {
   "cell_type": "code",
   "execution_count": 71,
   "id": "486cea92",
   "metadata": {},
   "outputs": [
    {
     "name": "stdout",
     "output_type": "stream",
     "text": [
      "{'criterion': 'mse', 'max_features': 'log2'}\n"
     ]
    }
   ],
   "source": [
    "# Importing Libraries and Hyper parameter tuning:\n",
    "from sklearn.model_selection import GridSearchCV\n",
    "from sklearn.ensemble import RandomForestRegressor\n",
    "\n",
    "parameters = {'criterion':['mse', 'mae'],'max_features':[\"auto\", \"sqrt\", \"log2\"]}\n",
    "rf =RandomForestRegressor()\n",
    "clf = GridSearchCV(rf,parameters)\n",
    "clf.fit(train_x,train_y)\n",
    "\n",
    "print(clf.best_params_)"
   ]
  },
  {
   "cell_type": "markdown",
   "id": "72a2e10f",
   "metadata": {},
   "source": [
    "Best parameters for RandomForestRegressor"
   ]
  },
  {
   "cell_type": "code",
   "execution_count": 73,
   "id": "ec7e80cc",
   "metadata": {},
   "outputs": [
    {
     "name": "stdout",
     "output_type": "stream",
     "text": [
      "rf score 0.9016970695515212\n",
      "R2 Score: 72.32234522942463\n",
      "Cross Val Score: -21.112255443241583\n"
     ]
    }
   ],
   "source": [
    "rf= RandomForestRegressor(criterion=\"mse\",max_features=\"log2\")\n",
    "rf.fit(train_x,train_y)\n",
    "rf.score(train_x,train_y)\n",
    "pred_decision = rf.predict(test_x)\n",
    "print('rf score',rf.score(train_x,train_y))\n",
    "rfs = r2_score(test_y,pred_decision)\n",
    "print('R2 Score:',rfs*100)\n",
    "\n",
    "rfscore = cross_val_score(rf,x,y,cv=7)\n",
    "rfc = rfscore.mean()\n",
    "print('Cross Val Score:',rfc*100)"
   ]
  },
  {
   "cell_type": "markdown",
   "id": "81594c25",
   "metadata": {},
   "source": [
    "r2 score is 72%"
   ]
  },
  {
   "cell_type": "code",
   "execution_count": 74,
   "id": "62d667f5",
   "metadata": {},
   "outputs": [
    {
     "data": {
      "image/png": "[encoded data removed]",
      "text/plain": [
       "<Figure size 576x432 with 1 Axes>"
      ]
     },
     "metadata": {
      "needs_background": "light"
     },
     "output_type": "display_data"
    }
   ],
   "source": [
    "import matplotlib.pyplot as plt\n",
    "plt.figure(figsize=(8,6))\n",
    "plt.scatter(x=test_y, y=pred_decision, color='r')\n",
    "plt.plot(test_y,test_y, color='b')\n",
    "plt.xlabel('Actual data',fontsize=14)\n",
    "plt.ylabel('Predicted data',fontsize=14)\n",
    "plt.title('Random Forest Regressor',fontsize=18)\n",
    "plt.show()"
   ]
  },
  {
   "cell_type": "markdown",
   "id": "ced70180",
   "metadata": {},
   "source": [
    "## 2. Decision Tree Regressor"
   ]
  },
  {
   "cell_type": "code",
   "execution_count": 80,
   "id": "444a61ae",
   "metadata": {},
   "outputs": [
    {
     "name": "stdout",
     "output_type": "stream",
     "text": [
      "{'criterion': 'mse', 'max_depth': 10, 'max_features': 'log2', 'min_samples_split': 0.5}\n"
     ]
    }
   ],
   "source": [
    "# Importing Libraries and Hyper parameter tuning:\n",
    "from sklearn.model_selection import GridSearchCV\n",
    "from sklearn.tree import DecisionTreeRegressor\n",
    "from sklearn.metrics import mean_squared_error,mean_absolute_error\n",
    "\n",
    "parameters = {'criterion':['mse', 'mae'],\n",
    "              'max_features':[\"auto\",\"sqrt\", \"log2\"],\n",
    "              'max_depth':[2,4,8,10,None],\n",
    "            'min_samples_split':[0.25,0.5,1.0]}\n",
    "dt =DecisionTreeRegressor()\n",
    "clf = GridSearchCV(dt,parameters)\n",
    "clf.fit(train_x,train_y)\n",
    "\n",
    "print(clf.best_params_)"
   ]
  },
  {
   "cell_type": "markdown",
   "id": "04ff5143",
   "metadata": {},
   "source": [
    "Best parameters for DecisionTreeRegressor"
   ]
  },
  {
   "cell_type": "code",
   "execution_count": 81,
   "id": "2491755b",
   "metadata": {},
   "outputs": [
    {
     "name": "stdout",
     "output_type": "stream",
     "text": [
      "dt score 0.7327351510390556\n",
      "R2 Score: 46.838499096328626\n",
      "Cross Val Score: -88.14569505852297\n",
      "Mean squared error: 81.10082304526755\n",
      "Mean absolute error: 7.870370370370374\n"
     ]
    }
   ],
   "source": [
    "dt =DecisionTreeRegressor(criterion=\"mse\",max_features=\"log2\",max_depth=10,min_samples_split=0.5)\n",
    "dt.fit(train_x,train_y)\n",
    "dt.score(train_x,train_y)\n",
    "pred_decision = dt.predict(test_x)\n",
    "print('dt score',dt.score(train_x,train_y))\n",
    "dts = r2_score(test_y,pred_decision)\n",
    "print('R2 Score:',dts*100)\n",
    "\n",
    "dtscore = cross_val_score(dt,x,y,cv=5)\n",
    "dtc = dtscore.mean()\n",
    "print('Cross Val Score:',dtc*100)\n",
    "print(\"Mean squared error:\",mean_squared_error(test_y,pred_decision))\n",
    "print(\"Mean absolute error:\",mean_absolute_error(test_y,pred_decision))"
   ]
  },
  {
   "cell_type": "markdown",
   "id": "5874106a",
   "metadata": {},
   "source": [
    "dt score 73% R2 Score: 46% Cross Val Score: -88%\n"
   ]
  },
  {
   "cell_type": "code",
   "execution_count": 82,
   "id": "35d75e60",
   "metadata": {},
   "outputs": [
    {
     "data": {
      "image/png": "[encoded data removed]",
      "text/plain": [
       "<Figure size 576x432 with 1 Axes>"
      ]
     },
     "metadata": {
      "needs_background": "light"
     },
     "output_type": "display_data"
    }
   ],
   "source": [
    "import matplotlib.pyplot as plt\n",
    "plt.figure(figsize=(8,6))\n",
    "plt.scatter(x=test_y, y=pred_decision, color='r')\n",
    "plt.plot(test_y,test_y, color='b')\n",
    "plt.xlabel('Actual data',fontsize=14)\n",
    "plt.ylabel('Predicted data',fontsize=14)\n",
    "plt.title('Decision Tree Regressor',fontsize=18)\n",
    "plt.show()"
   ]
  },
  {
   "cell_type": "markdown",
   "id": "30da2067",
   "metadata": {},
   "source": [
    "## 3. KNeighborsRegressor"
   ]
  },
  {
   "cell_type": "code",
   "execution_count": 83,
   "id": "2d390c7b",
   "metadata": {},
   "outputs": [
    {
     "name": "stdout",
     "output_type": "stream",
     "text": [
      "{'algorithm': 'auto', 'n_neighbors': 8, 'weights': 'uniform'}\n"
     ]
    }
   ],
   "source": [
    "# Importing Libraries and Hyper parameter tuning:\n",
    "from sklearn.neighbors import KNeighborsRegressor\n",
    "from sklearn.model_selection import GridSearchCV\n",
    "from sklearn.metrics import mean_squared_error,mean_absolute_error\n",
    "\n",
    "parameters = {'n_neighbors':list(range(0,10)),\n",
    "              'weights':['uniform', 'distance'],\n",
    "              'algorithm':['auto', 'ball_tree', 'kd_tree', 'brute']\n",
    "              }\n",
    "kn =KNeighborsRegressor()\n",
    "clf = GridSearchCV(kn,parameters)\n",
    "clf.fit(train_x,train_y)\n",
    "\n",
    "print(clf.best_params_)"
   ]
  },
  {
   "cell_type": "markdown",
   "id": "f4f0724d",
   "metadata": {},
   "source": [
    "Best parameters for KNeighborsRegressor"
   ]
  },
  {
   "cell_type": "code",
   "execution_count": 84,
   "id": "eca25503",
   "metadata": {},
   "outputs": [
    {
     "name": "stdout",
     "output_type": "stream",
     "text": [
      "kn score 0.5699595353560474\n",
      "R2 Score: 65.40194828841952\n",
      "Cross Val Score: -13.803373386934842\n",
      "Mean squared error: 52.78125\n",
      "Mean absolute error: 6.5\n"
     ]
    }
   ],
   "source": [
    "kn =KNeighborsRegressor(n_neighbors=8,algorithm=\"auto\",weights='uniform')\n",
    "kn.fit(train_x,train_y)\n",
    "kn.score(train_x,train_y)\n",
    "pred_decision = kn.predict(test_x)\n",
    "print('kn score',kn.score(train_x,train_y))\n",
    "kns = r2_score(test_y,pred_decision)\n",
    "print('R2 Score:',kns*100)\n",
    "\n",
    "knscore = cross_val_score(kn,x,y,cv=5)\n",
    "knc = knscore.mean()\n",
    "print('Cross Val Score:',knc*100)\n",
    "print(\"Mean squared error:\",mean_squared_error(test_y,pred_decision))\n",
    "print(\"Mean absolute error:\",mean_absolute_error(test_y,pred_decision))"
   ]
  },
  {
   "cell_type": "markdown",
   "id": "1b6aff5d",
   "metadata": {},
   "source": [
    "dt score 56.9% R2 Score: 65% Cross Val Score: -50%\n"
   ]
  },
  {
   "cell_type": "code",
   "execution_count": 85,
   "id": "ffb3cfbd",
   "metadata": {},
   "outputs": [
    {
     "data": {
      "image/png": "[encoded data removed]",
      "text/plain": [
       "<Figure size 576x432 with 1 Axes>"
      ]
     },
     "metadata": {
      "needs_background": "light"
     },
     "output_type": "display_data"
    }
   ],
   "source": [
    "import matplotlib.pyplot as plt\n",
    "plt.figure(figsize=(8,6))\n",
    "plt.scatter(x=test_y, y=pred_decision, color='r')\n",
    "plt.plot(test_y,test_y, color='b')\n",
    "plt.xlabel('Actual data',fontsize=14)\n",
    "plt.ylabel('Predicted data',fontsize=14)\n",
    "plt.title('KNeighbors Regressor',fontsize=18)\n",
    "plt.show()"
   ]
  },
  {
   "cell_type": "markdown",
   "id": "eda5a6d9",
   "metadata": {},
   "source": [
    "## 4.  SVRegressor"
   ]
  },
  {
   "cell_type": "code",
   "execution_count": 86,
   "id": "04846a65",
   "metadata": {},
   "outputs": [
    {
     "name": "stdout",
     "output_type": "stream",
     "text": [
      "{'C': 1000, 'gamma': 0.0001, 'kernel': 'rbf'}\n"
     ]
    }
   ],
   "source": [
    "# Importing Libraries and Hyper parameter tuning:\n",
    "from sklearn.svm import SVR\n",
    "from sklearn.model_selection import GridSearchCV\n",
    "from sklearn.metrics import mean_squared_error,mean_absolute_error\n",
    "svr =SVR()\n",
    "parameters = [{'kernel': ['rbf'], 'gamma': [1e-4, 1e-3, 0.01, 0.1, 0.2, 0.5, 0.6, 0.9],'C': [1, 10, 100, 1000, 10000]}]\n",
    "\n",
    "clf = GridSearchCV(svr,parameters)\n",
    "clf.fit(train_x,train_y)\n",
    "\n",
    "print(clf.best_params_)"
   ]
  },
  {
   "cell_type": "markdown",
   "id": "71b960a8",
   "metadata": {},
   "source": [
    "Best parameters for SVR"
   ]
  },
  {
   "cell_type": "code",
   "execution_count": 87,
   "id": "8bac2d7e",
   "metadata": {},
   "outputs": [
    {
     "name": "stdout",
     "output_type": "stream",
     "text": [
      "svr score 0.7768681419014962\n",
      "R2 Score: 85.51303692476739\n",
      "Cross Val Score: 22.885767770940344\n",
      "Mean squared error: 22.10066700254929\n",
      "Mean absolute error: 4.433419232002028\n"
     ]
    }
   ],
   "source": [
    "svr =SVR(C=1000,gamma=0.0001,kernel='rbf')\n",
    "svr.fit(train_x,train_y)\n",
    "svr.score(train_x,train_y)\n",
    "pred_decision = svr.predict(test_x)\n",
    "print('svr score',svr.score(train_x,train_y))\n",
    "svrs = r2_score(test_y,pred_decision)\n",
    "print('R2 Score:',svrs*100)\n",
    "\n",
    "svrscore = cross_val_score(svr,x,y,cv=5)\n",
    "svrc = svrscore.mean()\n",
    "print('Cross Val Score:',svrc*100)\n",
    "print(\"Mean squared error:\",mean_squared_error(test_y,pred_decision))\n",
    "print(\"Mean absolute error:\",mean_absolute_error(test_y,pred_decision))"
   ]
  },
  {
   "cell_type": "markdown",
   "id": "3718b7ac",
   "metadata": {},
   "source": [
    "dt score 77.6% R2 Score: 85% Cross Val Score: -22%\n"
   ]
  },
  {
   "cell_type": "markdown",
   "id": "19e64a65",
   "metadata": {},
   "source": [
    "Best Model is SV Regressor as its r2 score and cross val score has less difference"
   ]
  },
  {
   "cell_type": "markdown",
   "id": "ab5e8e2d",
   "metadata": {},
   "source": [
    "# Model saving:"
   ]
  },
  {
   "cell_type": "code",
   "execution_count": 88,
   "id": "9d8c8b83",
   "metadata": {},
   "outputs": [],
   "source": [
    "import pickle\n",
    "filename = 'baseball.pkl'\n",
    "pickle.dump(svr, open(filename, 'wb'))"
   ]
  },
  {
   "cell_type": "markdown",
   "id": "167a5c85",
   "metadata": {},
   "source": [
    "## Accuracy:"
   ]
  },
  {
   "cell_type": "code",
   "execution_count": 89,
   "id": "2cc16f95",
   "metadata": {},
   "outputs": [
    {
     "name": "stdout",
     "output_type": "stream",
     "text": [
      "0.8551303692476739\n"
     ]
    }
   ],
   "source": [
    "loaded_model = pickle.load(open('baseball.pkl', 'rb'))\n",
    "result = loaded_model.score(test_x, test_y)\n",
    "print(result)"
   ]
  },
  {
   "cell_type": "markdown",
   "id": "f9f8c426",
   "metadata": {},
   "source": [
    "### Accuracy of 85.5% so model performing well"
   ]
  },
  {
   "cell_type": "markdown",
   "id": "84a25959",
   "metadata": {},
   "source": [
    "## Conclusion:"
   ]
  },
  {
   "cell_type": "code",
   "execution_count": 90,
   "id": "7b8a444d",
   "metadata": {},
   "outputs": [
    {
     "data": {
      "text/html": [
       "<div>\n",
       "<style scoped>\n",
       "    .dataframe tbody tr th:only-of-type {\n",
       "        vertical-align: middle;\n",
       "    }\n",
       "\n",
       "    .dataframe tbody tr th {\n",
       "        vertical-align: top;\n",
       "    }\n",
       "\n",
       "    .dataframe thead th {\n",
       "        text-align: right;\n",
       "    }\n",
       "</style>\n",
       "<table border=\"1\" class=\"dataframe\">\n",
       "  <thead>\n",
       "    <tr style=\"text-align: right;\">\n",
       "      <th></th>\n",
       "      <th>original</th>\n",
       "      <th>predicted</th>\n",
       "    </tr>\n",
       "  </thead>\n",
       "  <tbody>\n",
       "    <tr>\n",
       "      <th>0</th>\n",
       "      <td>67</td>\n",
       "      <td>72.478292</td>\n",
       "    </tr>\n",
       "    <tr>\n",
       "      <th>1</th>\n",
       "      <td>63</td>\n",
       "      <td>67.426463</td>\n",
       "    </tr>\n",
       "    <tr>\n",
       "      <th>2</th>\n",
       "      <td>97</td>\n",
       "      <td>89.848236</td>\n",
       "    </tr>\n",
       "    <tr>\n",
       "      <th>3</th>\n",
       "      <td>76</td>\n",
       "      <td>79.818115</td>\n",
       "    </tr>\n",
       "    <tr>\n",
       "      <th>4</th>\n",
       "      <td>83</td>\n",
       "      <td>86.526323</td>\n",
       "    </tr>\n",
       "    <tr>\n",
       "      <th>5</th>\n",
       "      <td>92</td>\n",
       "      <td>89.800442</td>\n",
       "    </tr>\n",
       "  </tbody>\n",
       "</table>\n",
       "</div>"
      ],
      "text/plain": [
       "   original  predicted\n",
       "0        67  72.478292\n",
       "1        63  67.426463\n",
       "2        97  89.848236\n",
       "3        76  79.818115\n",
       "4        83  86.526323\n",
       "5        92  89.800442"
      ]
     },
     "execution_count": 90,
     "metadata": {},
     "output_type": "execute_result"
    }
   ],
   "source": [
    "import numpy as np\n",
    "a=np.array(test_y)\n",
    "pred_decision =np.array(svr.predict(test_x))\n",
    "df_com=pd.DataFrame({\"original\":a, \"predicted\": pred_decision},index=range(len(a)))\n",
    "df_com"
   ]
  },
  {
   "cell_type": "markdown",
   "id": "68862cec",
   "metadata": {},
   "source": [
    "Although cv score is not good, still model is able to predict approx values"
   ]
  }
 ],
 "metadata": {
  "kernelspec": {
   "display_name": "Python 3",
   "language": "python",
   "name": "python3"
  },
  "language_info": {
   "codemirror_mode": {
    "name": "ipython",
    "version": 3
   },
   "file_extension": ".py",
   "mimetype": "text/x-python",
   "name": "python",
   "nbconvert_exporter": "python",
   "pygments_lexer": "ipython3",
   "version": "3.8.8"
  }
 },
 "nbformat": 4,
 "nbformat_minor": 5
}
