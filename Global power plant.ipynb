{
 "cells": [
  {
   "cell_type": "markdown",
   "id": "47c71bf7",
   "metadata": {},
   "source": [
    "Importing Dataset"
   ]
  },
  {
   "cell_type": "code",
   "execution_count": 347,
   "id": "7223ee83",
   "metadata": {},
   "outputs": [],
   "source": [
    "#Importing Libraries:\n",
    "import numpy as np\n",
    "import pandas as pd"
   ]
  },
  {
   "cell_type": "code",
   "execution_count": 360,
   "id": "f4201f55",
   "metadata": {},
   "outputs": [
    {
     "data": {
      "text/html": [
       "<div>\n",
       "<style scoped>\n",
       "    .dataframe tbody tr th:only-of-type {\n",
       "        vertical-align: middle;\n",
       "    }\n",
       "\n",
       "    .dataframe tbody tr th {\n",
       "        vertical-align: top;\n",
       "    }\n",
       "\n",
       "    .dataframe thead th {\n",
       "        text-align: right;\n",
       "    }\n",
       "</style>\n",
       "<table border=\"1\" class=\"dataframe\">\n",
       "  <thead>\n",
       "    <tr style=\"text-align: right;\">\n",
       "      <th></th>\n",
       "      <th>country</th>\n",
       "      <th>country_long</th>\n",
       "      <th>name</th>\n",
       "      <th>gppd_idnr</th>\n",
       "      <th>capacity_mw</th>\n",
       "      <th>latitude</th>\n",
       "      <th>longitude</th>\n",
       "      <th>primary_fuel</th>\n",
       "      <th>other_fuel1</th>\n",
       "      <th>other_fuel2</th>\n",
       "      <th>...</th>\n",
       "      <th>geolocation_source</th>\n",
       "      <th>wepp_id</th>\n",
       "      <th>year_of_capacity_data</th>\n",
       "      <th>generation_gwh_2013</th>\n",
       "      <th>generation_gwh_2014</th>\n",
       "      <th>generation_gwh_2015</th>\n",
       "      <th>generation_gwh_2016</th>\n",
       "      <th>generation_gwh_2017</th>\n",
       "      <th>generation_data_source</th>\n",
       "      <th>estimated_generation_gwh</th>\n",
       "    </tr>\n",
       "  </thead>\n",
       "  <tbody>\n",
       "    <tr>\n",
       "      <th>0</th>\n",
       "      <td>IND</td>\n",
       "      <td>India</td>\n",
       "      <td>ACME Solar Tower</td>\n",
       "      <td>WRI1020239</td>\n",
       "      <td>2.5</td>\n",
       "      <td>28.1839</td>\n",
       "      <td>73.2407</td>\n",
       "      <td>Solar</td>\n",
       "      <td>NaN</td>\n",
       "      <td>NaN</td>\n",
       "      <td>...</td>\n",
       "      <td>National Renewable Energy Laboratory</td>\n",
       "      <td>NaN</td>\n",
       "      <td>NaN</td>\n",
       "      <td>NaN</td>\n",
       "      <td>NaN</td>\n",
       "      <td>NaN</td>\n",
       "      <td>NaN</td>\n",
       "      <td>NaN</td>\n",
       "      <td>NaN</td>\n",
       "      <td>NaN</td>\n",
       "    </tr>\n",
       "    <tr>\n",
       "      <th>1</th>\n",
       "      <td>IND</td>\n",
       "      <td>India</td>\n",
       "      <td>ADITYA CEMENT WORKS</td>\n",
       "      <td>WRI1019881</td>\n",
       "      <td>98.0</td>\n",
       "      <td>24.7663</td>\n",
       "      <td>74.6090</td>\n",
       "      <td>Coal</td>\n",
       "      <td>NaN</td>\n",
       "      <td>NaN</td>\n",
       "      <td>...</td>\n",
       "      <td>WRI</td>\n",
       "      <td>NaN</td>\n",
       "      <td>NaN</td>\n",
       "      <td>NaN</td>\n",
       "      <td>NaN</td>\n",
       "      <td>NaN</td>\n",
       "      <td>NaN</td>\n",
       "      <td>NaN</td>\n",
       "      <td>NaN</td>\n",
       "      <td>NaN</td>\n",
       "    </tr>\n",
       "    <tr>\n",
       "      <th>2</th>\n",
       "      <td>IND</td>\n",
       "      <td>India</td>\n",
       "      <td>AES Saurashtra Windfarms</td>\n",
       "      <td>WRI1026669</td>\n",
       "      <td>39.2</td>\n",
       "      <td>21.9038</td>\n",
       "      <td>69.3732</td>\n",
       "      <td>Wind</td>\n",
       "      <td>NaN</td>\n",
       "      <td>NaN</td>\n",
       "      <td>...</td>\n",
       "      <td>WRI</td>\n",
       "      <td>NaN</td>\n",
       "      <td>NaN</td>\n",
       "      <td>NaN</td>\n",
       "      <td>NaN</td>\n",
       "      <td>NaN</td>\n",
       "      <td>NaN</td>\n",
       "      <td>NaN</td>\n",
       "      <td>NaN</td>\n",
       "      <td>NaN</td>\n",
       "    </tr>\n",
       "    <tr>\n",
       "      <th>3</th>\n",
       "      <td>IND</td>\n",
       "      <td>India</td>\n",
       "      <td>AGARTALA GT</td>\n",
       "      <td>IND0000001</td>\n",
       "      <td>135.0</td>\n",
       "      <td>23.8712</td>\n",
       "      <td>91.3602</td>\n",
       "      <td>Gas</td>\n",
       "      <td>NaN</td>\n",
       "      <td>NaN</td>\n",
       "      <td>...</td>\n",
       "      <td>WRI</td>\n",
       "      <td>NaN</td>\n",
       "      <td>2018.0</td>\n",
       "      <td>631.777928</td>\n",
       "      <td>617.789264</td>\n",
       "      <td>843.747</td>\n",
       "      <td>886.004428</td>\n",
       "      <td>663.774500</td>\n",
       "      <td>Central Electricity Authority</td>\n",
       "      <td>NaN</td>\n",
       "    </tr>\n",
       "    <tr>\n",
       "      <th>4</th>\n",
       "      <td>IND</td>\n",
       "      <td>India</td>\n",
       "      <td>AKALTARA TPP</td>\n",
       "      <td>IND0000002</td>\n",
       "      <td>1800.0</td>\n",
       "      <td>21.9603</td>\n",
       "      <td>82.4091</td>\n",
       "      <td>Coal</td>\n",
       "      <td>Oil</td>\n",
       "      <td>NaN</td>\n",
       "      <td>...</td>\n",
       "      <td>WRI</td>\n",
       "      <td>NaN</td>\n",
       "      <td>2018.0</td>\n",
       "      <td>1668.290000</td>\n",
       "      <td>3035.550000</td>\n",
       "      <td>5916.370</td>\n",
       "      <td>6243.000000</td>\n",
       "      <td>5385.579736</td>\n",
       "      <td>Central Electricity Authority</td>\n",
       "      <td>NaN</td>\n",
       "    </tr>\n",
       "  </tbody>\n",
       "</table>\n",
       "<p>5 rows × 25 columns</p>\n",
       "</div>"
      ],
      "text/plain": [
       "  country country_long                      name   gppd_idnr  capacity_mw  \\\n",
       "0     IND        India          ACME Solar Tower  WRI1020239          2.5   \n",
       "1     IND        India       ADITYA CEMENT WORKS  WRI1019881         98.0   \n",
       "2     IND        India  AES Saurashtra Windfarms  WRI1026669         39.2   \n",
       "3     IND        India               AGARTALA GT  IND0000001        135.0   \n",
       "4     IND        India              AKALTARA TPP  IND0000002       1800.0   \n",
       "\n",
       "   latitude  longitude primary_fuel other_fuel1 other_fuel2  ...  \\\n",
       "0   28.1839    73.2407        Solar         NaN         NaN  ...   \n",
       "1   24.7663    74.6090         Coal         NaN         NaN  ...   \n",
       "2   21.9038    69.3732         Wind         NaN         NaN  ...   \n",
       "3   23.8712    91.3602          Gas         NaN         NaN  ...   \n",
       "4   21.9603    82.4091         Coal         Oil         NaN  ...   \n",
       "\n",
       "                     geolocation_source  wepp_id year_of_capacity_data  \\\n",
       "0  National Renewable Energy Laboratory      NaN                   NaN   \n",
       "1                                   WRI      NaN                   NaN   \n",
       "2                                   WRI      NaN                   NaN   \n",
       "3                                   WRI      NaN                2018.0   \n",
       "4                                   WRI      NaN                2018.0   \n",
       "\n",
       "  generation_gwh_2013 generation_gwh_2014 generation_gwh_2015  \\\n",
       "0                 NaN                 NaN                 NaN   \n",
       "1                 NaN                 NaN                 NaN   \n",
       "2                 NaN                 NaN                 NaN   \n",
       "3          631.777928          617.789264             843.747   \n",
       "4         1668.290000         3035.550000            5916.370   \n",
       "\n",
       "   generation_gwh_2016  generation_gwh_2017         generation_data_source  \\\n",
       "0                  NaN                  NaN                            NaN   \n",
       "1                  NaN                  NaN                            NaN   \n",
       "2                  NaN                  NaN                            NaN   \n",
       "3           886.004428           663.774500  Central Electricity Authority   \n",
       "4          6243.000000          5385.579736  Central Electricity Authority   \n",
       "\n",
       "   estimated_generation_gwh  \n",
       "0                       NaN  \n",
       "1                       NaN  \n",
       "2                       NaN  \n",
       "3                       NaN  \n",
       "4                       NaN  \n",
       "\n",
       "[5 rows x 25 columns]"
      ]
     },
     "execution_count": 360,
     "metadata": {},
     "output_type": "execute_result"
    }
   ],
   "source": [
    "#Reading csv file and converting it in dataframe\n",
    "ds= pd.read_csv(\"global-power-plant.csv\")\n",
    "df=pd.DataFrame(ds)\n",
    "df.head()"
   ]
  },
  {
   "cell_type": "markdown",
   "id": "073b5875",
   "metadata": {},
   "source": [
    "Dataset in Dataframe format.\n",
    "Classification Model and Regression as target labels are primary_fuel and capacity_mw"
   ]
  },
  {
   "cell_type": "code",
   "execution_count": 349,
   "id": "a2220ec7",
   "metadata": {},
   "outputs": [
    {
     "data": {
      "text/plain": [
       "(908, 25)"
      ]
     },
     "execution_count": 349,
     "metadata": {},
     "output_type": "execute_result"
    }
   ],
   "source": [
    "# Rows & Columns in dataset:\n",
    "\n",
    "df.shape"
   ]
  },
  {
   "cell_type": "markdown",
   "id": "64e81c49",
   "metadata": {},
   "source": [
    "Dataset has 908 Rows and 25 Columns"
   ]
  },
  {
   "cell_type": "code",
   "execution_count": 350,
   "id": "960b4876",
   "metadata": {},
   "outputs": [
    {
     "data": {
      "text/plain": [
       "country                      object\n",
       "country_long                 object\n",
       "name                         object\n",
       "gppd_idnr                    object\n",
       "capacity_mw                 float64\n",
       "latitude                    float64\n",
       "longitude                   float64\n",
       "primary_fuel                 object\n",
       "other_fuel1                  object\n",
       "other_fuel2                  object\n",
       "other_fuel3                 float64\n",
       "commissioning_year          float64\n",
       "owner                        object\n",
       "source                       object\n",
       "url                          object\n",
       "geolocation_source           object\n",
       "wepp_id                     float64\n",
       "year_of_capacity_data       float64\n",
       "generation_gwh_2013         float64\n",
       "generation_gwh_2014         float64\n",
       "generation_gwh_2015         float64\n",
       "generation_gwh_2016         float64\n",
       "generation_gwh_2017         float64\n",
       "generation_data_source       object\n",
       "estimated_generation_gwh    float64\n",
       "dtype: object"
      ]
     },
     "execution_count": 350,
     "metadata": {},
     "output_type": "execute_result"
    }
   ],
   "source": [
    "# Datatype of dataset\n",
    "\n",
    "df.dtypes"
   ]
  },
  {
   "cell_type": "markdown",
   "id": "e4e4f0ef",
   "metadata": {},
   "source": [
    "13 are object type and 12 are float64 datatype"
   ]
  },
  {
   "cell_type": "code",
   "execution_count": 351,
   "id": "fe41879b",
   "metadata": {},
   "outputs": [
    {
     "data": {
      "text/plain": [
       "country                       0\n",
       "country_long                  0\n",
       "name                          0\n",
       "gppd_idnr                     0\n",
       "capacity_mw                   0\n",
       "latitude                     46\n",
       "longitude                    46\n",
       "primary_fuel                  0\n",
       "other_fuel1                 709\n",
       "other_fuel2                 907\n",
       "other_fuel3                 908\n",
       "commissioning_year          380\n",
       "owner                       566\n",
       "source                        0\n",
       "url                           0\n",
       "geolocation_source           19\n",
       "wepp_id                     908\n",
       "year_of_capacity_data       388\n",
       "generation_gwh_2013         524\n",
       "generation_gwh_2014         507\n",
       "generation_gwh_2015         483\n",
       "generation_gwh_2016         471\n",
       "generation_gwh_2017         465\n",
       "generation_data_source      458\n",
       "estimated_generation_gwh    908\n",
       "dtype: int64"
      ]
     },
     "execution_count": 351,
     "metadata": {},
     "output_type": "execute_result"
    }
   ],
   "source": [
    "df.isnull().sum()"
   ]
  },
  {
   "cell_type": "markdown",
   "id": "d6101976",
   "metadata": {},
   "source": [
    "latitude,longitude,other_fuel1,other_fuel2,other_fuel3,commissioning_year,owner,geolocation_source,wepp_id,year_of_capacity_data,generation_gwh_2013,generation_gwh_2014,generation_gwh_2015,generation_gwh_2016,generation_gwh_2017,generation_data_source and estimated_generation_gw have nan values\n"
   ]
  },
  {
   "cell_type": "code",
   "execution_count": 352,
   "id": "daff75f1",
   "metadata": {},
   "outputs": [
    {
     "name": "stdout",
     "output_type": "stream",
     "text": [
      "<class 'pandas.core.frame.DataFrame'>\n",
      "RangeIndex: 908 entries, 0 to 907\n",
      "Data columns (total 25 columns):\n",
      " #   Column                    Non-Null Count  Dtype  \n",
      "---  ------                    --------------  -----  \n",
      " 0   country                   908 non-null    object \n",
      " 1   country_long              908 non-null    object \n",
      " 2   name                      908 non-null    object \n",
      " 3   gppd_idnr                 908 non-null    object \n",
      " 4   capacity_mw               908 non-null    float64\n",
      " 5   latitude                  862 non-null    float64\n",
      " 6   longitude                 862 non-null    float64\n",
      " 7   primary_fuel              908 non-null    object \n",
      " 8   other_fuel1               199 non-null    object \n",
      " 9   other_fuel2               1 non-null      object \n",
      " 10  other_fuel3               0 non-null      float64\n",
      " 11  commissioning_year        528 non-null    float64\n",
      " 12  owner                     342 non-null    object \n",
      " 13  source                    908 non-null    object \n",
      " 14  url                       908 non-null    object \n",
      " 15  geolocation_source        889 non-null    object \n",
      " 16  wepp_id                   0 non-null      float64\n",
      " 17  year_of_capacity_data     520 non-null    float64\n",
      " 18  generation_gwh_2013       384 non-null    float64\n",
      " 19  generation_gwh_2014       401 non-null    float64\n",
      " 20  generation_gwh_2015       425 non-null    float64\n",
      " 21  generation_gwh_2016       437 non-null    float64\n",
      " 22  generation_gwh_2017       443 non-null    float64\n",
      " 23  generation_data_source    450 non-null    object \n",
      " 24  estimated_generation_gwh  0 non-null      float64\n",
      "dtypes: float64(13), object(12)\n",
      "memory usage: 177.5+ KB\n"
     ]
    }
   ],
   "source": [
    "df.info()"
   ]
  },
  {
   "cell_type": "markdown",
   "id": "4ac4a074",
   "metadata": {},
   "source": [
    "No null values and Count of data is 851 in each column\n",
    "Datatype: 13 are object type and 12 are float64 datatype"
   ]
  },
  {
   "cell_type": "code",
   "execution_count": 353,
   "id": "f7b719e9",
   "metadata": {},
   "outputs": [
    {
     "data": {
      "text/plain": [
       "Index(['country', 'country_long', 'name', 'gppd_idnr', 'capacity_mw',\n",
       "       'latitude', 'longitude', 'primary_fuel', 'other_fuel1', 'other_fuel2',\n",
       "       'other_fuel3', 'commissioning_year', 'owner', 'source', 'url',\n",
       "       'geolocation_source', 'wepp_id', 'year_of_capacity_data',\n",
       "       'generation_gwh_2013', 'generation_gwh_2014', 'generation_gwh_2015',\n",
       "       'generation_gwh_2016', 'generation_gwh_2017', 'generation_data_source',\n",
       "       'estimated_generation_gwh'],\n",
       "      dtype='object')"
      ]
     },
     "execution_count": 353,
     "metadata": {},
     "output_type": "execute_result"
    }
   ],
   "source": [
    "df.columns"
   ]
  },
  {
   "cell_type": "code",
   "execution_count": 361,
   "id": "27226bc2",
   "metadata": {},
   "outputs": [
    {
     "data": {
      "text/html": [
       "<div>\n",
       "<style scoped>\n",
       "    .dataframe tbody tr th:only-of-type {\n",
       "        vertical-align: middle;\n",
       "    }\n",
       "\n",
       "    .dataframe tbody tr th {\n",
       "        vertical-align: top;\n",
       "    }\n",
       "\n",
       "    .dataframe thead th {\n",
       "        text-align: right;\n",
       "    }\n",
       "</style>\n",
       "<table border=\"1\" class=\"dataframe\">\n",
       "  <thead>\n",
       "    <tr style=\"text-align: right;\">\n",
       "      <th></th>\n",
       "      <th>name</th>\n",
       "      <th>capacity_mw</th>\n",
       "      <th>latitude</th>\n",
       "      <th>longitude</th>\n",
       "      <th>primary_fuel</th>\n",
       "      <th>commissioning_year</th>\n",
       "      <th>owner</th>\n",
       "      <th>source</th>\n",
       "      <th>year_of_capacity_data</th>\n",
       "      <th>generation_gwh_2013</th>\n",
       "      <th>generation_gwh_2014</th>\n",
       "      <th>generation_gwh_2015</th>\n",
       "      <th>generation_gwh_2016</th>\n",
       "      <th>generation_gwh_2017</th>\n",
       "      <th>generation_data_source</th>\n",
       "    </tr>\n",
       "  </thead>\n",
       "  <tbody>\n",
       "    <tr>\n",
       "      <th>903</th>\n",
       "      <td>YERMARUS TPP</td>\n",
       "      <td>1600.0</td>\n",
       "      <td>16.2949</td>\n",
       "      <td>77.3568</td>\n",
       "      <td>Coal</td>\n",
       "      <td>2016.0</td>\n",
       "      <td>NaN</td>\n",
       "      <td>Central Electricity Authority</td>\n",
       "      <td>2018.0</td>\n",
       "      <td>NaN</td>\n",
       "      <td>NaN</td>\n",
       "      <td>0.994875</td>\n",
       "      <td>233.59665</td>\n",
       "      <td>865.4</td>\n",
       "      <td>Central Electricity Authority</td>\n",
       "    </tr>\n",
       "    <tr>\n",
       "      <th>904</th>\n",
       "      <td>Yelesandra Solar Power Plant</td>\n",
       "      <td>3.0</td>\n",
       "      <td>12.8932</td>\n",
       "      <td>78.1654</td>\n",
       "      <td>Solar</td>\n",
       "      <td>NaN</td>\n",
       "      <td>Karnataka Power Corporation Limited</td>\n",
       "      <td>Karnataka Power Corporation Limited</td>\n",
       "      <td>NaN</td>\n",
       "      <td>NaN</td>\n",
       "      <td>NaN</td>\n",
       "      <td>NaN</td>\n",
       "      <td>NaN</td>\n",
       "      <td>NaN</td>\n",
       "      <td>NaN</td>\n",
       "    </tr>\n",
       "    <tr>\n",
       "      <th>905</th>\n",
       "      <td>Yelisirur wind power project</td>\n",
       "      <td>25.5</td>\n",
       "      <td>15.2758</td>\n",
       "      <td>75.5811</td>\n",
       "      <td>Wind</td>\n",
       "      <td>NaN</td>\n",
       "      <td>NaN</td>\n",
       "      <td>CDM</td>\n",
       "      <td>NaN</td>\n",
       "      <td>NaN</td>\n",
       "      <td>NaN</td>\n",
       "      <td>NaN</td>\n",
       "      <td>NaN</td>\n",
       "      <td>NaN</td>\n",
       "      <td>NaN</td>\n",
       "    </tr>\n",
       "    <tr>\n",
       "      <th>906</th>\n",
       "      <td>ZAWAR MINES</td>\n",
       "      <td>80.0</td>\n",
       "      <td>24.3500</td>\n",
       "      <td>73.7477</td>\n",
       "      <td>Coal</td>\n",
       "      <td>NaN</td>\n",
       "      <td>Hindustan Zinc ltd</td>\n",
       "      <td>Hindustan Zinc ltd</td>\n",
       "      <td>NaN</td>\n",
       "      <td>NaN</td>\n",
       "      <td>NaN</td>\n",
       "      <td>NaN</td>\n",
       "      <td>NaN</td>\n",
       "      <td>NaN</td>\n",
       "      <td>NaN</td>\n",
       "    </tr>\n",
       "    <tr>\n",
       "      <th>907</th>\n",
       "      <td>iEnergy Theni Wind Farm</td>\n",
       "      <td>16.5</td>\n",
       "      <td>9.9344</td>\n",
       "      <td>77.4768</td>\n",
       "      <td>Wind</td>\n",
       "      <td>NaN</td>\n",
       "      <td>iEnergy Wind Farms</td>\n",
       "      <td>CDM</td>\n",
       "      <td>NaN</td>\n",
       "      <td>NaN</td>\n",
       "      <td>NaN</td>\n",
       "      <td>NaN</td>\n",
       "      <td>NaN</td>\n",
       "      <td>NaN</td>\n",
       "      <td>NaN</td>\n",
       "    </tr>\n",
       "  </tbody>\n",
       "</table>\n",
       "</div>"
      ],
      "text/plain": [
       "                             name  capacity_mw  latitude  longitude  \\\n",
       "903                  YERMARUS TPP       1600.0   16.2949    77.3568   \n",
       "904  Yelesandra Solar Power Plant          3.0   12.8932    78.1654   \n",
       "905  Yelisirur wind power project         25.5   15.2758    75.5811   \n",
       "906                   ZAWAR MINES         80.0   24.3500    73.7477   \n",
       "907       iEnergy Theni Wind Farm         16.5    9.9344    77.4768   \n",
       "\n",
       "    primary_fuel  commissioning_year                                owner  \\\n",
       "903         Coal              2016.0                                  NaN   \n",
       "904        Solar                 NaN  Karnataka Power Corporation Limited   \n",
       "905         Wind                 NaN                                  NaN   \n",
       "906         Coal                 NaN                   Hindustan Zinc ltd   \n",
       "907         Wind                 NaN                   iEnergy Wind Farms   \n",
       "\n",
       "                                  source  year_of_capacity_data  \\\n",
       "903        Central Electricity Authority                 2018.0   \n",
       "904  Karnataka Power Corporation Limited                    NaN   \n",
       "905                                  CDM                    NaN   \n",
       "906                   Hindustan Zinc ltd                    NaN   \n",
       "907                                  CDM                    NaN   \n",
       "\n",
       "     generation_gwh_2013  generation_gwh_2014  generation_gwh_2015  \\\n",
       "903                  NaN                  NaN             0.994875   \n",
       "904                  NaN                  NaN                  NaN   \n",
       "905                  NaN                  NaN                  NaN   \n",
       "906                  NaN                  NaN                  NaN   \n",
       "907                  NaN                  NaN                  NaN   \n",
       "\n",
       "     generation_gwh_2016  generation_gwh_2017         generation_data_source  \n",
       "903            233.59665                865.4  Central Electricity Authority  \n",
       "904                  NaN                  NaN                            NaN  \n",
       "905                  NaN                  NaN                            NaN  \n",
       "906                  NaN                  NaN                            NaN  \n",
       "907                  NaN                  NaN                            NaN  "
      ]
     },
     "execution_count": 361,
     "metadata": {},
     "output_type": "execute_result"
    }
   ],
   "source": [
    "#Dropping columns:\n",
    "df.drop(['country','country_long','gppd_idnr','other_fuel2','other_fuel3','other_fuel1','url','geolocation_source','wepp_id','estimated_generation_gwh'],axis=1,inplace=True)\n",
    "df.tail()"
   ]
  },
  {
   "cell_type": "markdown",
   "id": "a7d29601",
   "metadata": {},
   "source": [
    "Few columns dropped"
   ]
  },
  {
   "cell_type": "code",
   "execution_count": 362,
   "id": "4c2e9c59",
   "metadata": {},
   "outputs": [],
   "source": [
    "# Dropping year_of_capacity_data \n",
    "df.drop(['year_of_capacity_data'],axis=1,inplace=True)"
   ]
  },
  {
   "cell_type": "code",
   "execution_count": 356,
   "id": "28a1bc76",
   "metadata": {},
   "outputs": [
    {
     "data": {
      "text/html": [
       "<div>\n",
       "<style scoped>\n",
       "    .dataframe tbody tr th:only-of-type {\n",
       "        vertical-align: middle;\n",
       "    }\n",
       "\n",
       "    .dataframe tbody tr th {\n",
       "        vertical-align: top;\n",
       "    }\n",
       "\n",
       "    .dataframe thead th {\n",
       "        text-align: right;\n",
       "    }\n",
       "</style>\n",
       "<table border=\"1\" class=\"dataframe\">\n",
       "  <thead>\n",
       "    <tr style=\"text-align: right;\">\n",
       "      <th></th>\n",
       "      <th>name</th>\n",
       "      <th>capacity_mw</th>\n",
       "      <th>latitude</th>\n",
       "      <th>longitude</th>\n",
       "      <th>primary_fuel</th>\n",
       "      <th>commissioning_year</th>\n",
       "      <th>owner</th>\n",
       "      <th>source</th>\n",
       "      <th>generation_gwh_2013</th>\n",
       "      <th>generation_gwh_2014</th>\n",
       "      <th>generation_gwh_2015</th>\n",
       "      <th>generation_gwh_2016</th>\n",
       "      <th>generation_gwh_2017</th>\n",
       "      <th>generation_data_source</th>\n",
       "    </tr>\n",
       "  </thead>\n",
       "  <tbody>\n",
       "    <tr>\n",
       "      <th>0</th>\n",
       "      <td>ACME Solar Tower</td>\n",
       "      <td>2.5</td>\n",
       "      <td>28.1839</td>\n",
       "      <td>73.2407</td>\n",
       "      <td>Solar</td>\n",
       "      <td>2011.0</td>\n",
       "      <td>Solar Paces</td>\n",
       "      <td>National Renewable Energy Laboratory</td>\n",
       "      <td>NaN</td>\n",
       "      <td>NaN</td>\n",
       "      <td>NaN</td>\n",
       "      <td>NaN</td>\n",
       "      <td>NaN</td>\n",
       "      <td>NaN</td>\n",
       "    </tr>\n",
       "    <tr>\n",
       "      <th>1</th>\n",
       "      <td>ADITYA CEMENT WORKS</td>\n",
       "      <td>98.0</td>\n",
       "      <td>24.7663</td>\n",
       "      <td>74.6090</td>\n",
       "      <td>Coal</td>\n",
       "      <td>NaN</td>\n",
       "      <td>Ultratech Cement ltd</td>\n",
       "      <td>Ultratech Cement ltd</td>\n",
       "      <td>NaN</td>\n",
       "      <td>NaN</td>\n",
       "      <td>NaN</td>\n",
       "      <td>NaN</td>\n",
       "      <td>NaN</td>\n",
       "      <td>NaN</td>\n",
       "    </tr>\n",
       "    <tr>\n",
       "      <th>2</th>\n",
       "      <td>AES Saurashtra Windfarms</td>\n",
       "      <td>39.2</td>\n",
       "      <td>21.9038</td>\n",
       "      <td>69.3732</td>\n",
       "      <td>Wind</td>\n",
       "      <td>NaN</td>\n",
       "      <td>AES</td>\n",
       "      <td>CDM</td>\n",
       "      <td>NaN</td>\n",
       "      <td>NaN</td>\n",
       "      <td>NaN</td>\n",
       "      <td>NaN</td>\n",
       "      <td>NaN</td>\n",
       "      <td>NaN</td>\n",
       "    </tr>\n",
       "    <tr>\n",
       "      <th>3</th>\n",
       "      <td>AGARTALA GT</td>\n",
       "      <td>135.0</td>\n",
       "      <td>23.8712</td>\n",
       "      <td>91.3602</td>\n",
       "      <td>Gas</td>\n",
       "      <td>2004.0</td>\n",
       "      <td>NaN</td>\n",
       "      <td>Central Electricity Authority</td>\n",
       "      <td>631.777928</td>\n",
       "      <td>617.789264</td>\n",
       "      <td>843.747</td>\n",
       "      <td>886.004428</td>\n",
       "      <td>663.774500</td>\n",
       "      <td>Central Electricity Authority</td>\n",
       "    </tr>\n",
       "    <tr>\n",
       "      <th>4</th>\n",
       "      <td>AKALTARA TPP</td>\n",
       "      <td>1800.0</td>\n",
       "      <td>21.9603</td>\n",
       "      <td>82.4091</td>\n",
       "      <td>Coal</td>\n",
       "      <td>2015.0</td>\n",
       "      <td>NaN</td>\n",
       "      <td>Central Electricity Authority</td>\n",
       "      <td>1668.290000</td>\n",
       "      <td>3035.550000</td>\n",
       "      <td>5916.370</td>\n",
       "      <td>6243.000000</td>\n",
       "      <td>5385.579736</td>\n",
       "      <td>Central Electricity Authority</td>\n",
       "    </tr>\n",
       "  </tbody>\n",
       "</table>\n",
       "</div>"
      ],
      "text/plain": [
       "                       name  capacity_mw  latitude  longitude primary_fuel  \\\n",
       "0          ACME Solar Tower          2.5   28.1839    73.2407        Solar   \n",
       "1       ADITYA CEMENT WORKS         98.0   24.7663    74.6090         Coal   \n",
       "2  AES Saurashtra Windfarms         39.2   21.9038    69.3732         Wind   \n",
       "3               AGARTALA GT        135.0   23.8712    91.3602          Gas   \n",
       "4              AKALTARA TPP       1800.0   21.9603    82.4091         Coal   \n",
       "\n",
       "   commissioning_year                 owner  \\\n",
       "0              2011.0           Solar Paces   \n",
       "1                 NaN  Ultratech Cement ltd   \n",
       "2                 NaN                   AES   \n",
       "3              2004.0                   NaN   \n",
       "4              2015.0                   NaN   \n",
       "\n",
       "                                 source  generation_gwh_2013  \\\n",
       "0  National Renewable Energy Laboratory                  NaN   \n",
       "1                  Ultratech Cement ltd                  NaN   \n",
       "2                                   CDM                  NaN   \n",
       "3         Central Electricity Authority           631.777928   \n",
       "4         Central Electricity Authority          1668.290000   \n",
       "\n",
       "   generation_gwh_2014  generation_gwh_2015  generation_gwh_2016  \\\n",
       "0                  NaN                  NaN                  NaN   \n",
       "1                  NaN                  NaN                  NaN   \n",
       "2                  NaN                  NaN                  NaN   \n",
       "3           617.789264              843.747           886.004428   \n",
       "4          3035.550000             5916.370          6243.000000   \n",
       "\n",
       "   generation_gwh_2017         generation_data_source  \n",
       "0                  NaN                            NaN  \n",
       "1                  NaN                            NaN  \n",
       "2                  NaN                            NaN  \n",
       "3           663.774500  Central Electricity Authority  \n",
       "4          5385.579736  Central Electricity Authority  "
      ]
     },
     "execution_count": 356,
     "metadata": {},
     "output_type": "execute_result"
    }
   ],
   "source": [
    "df.head()"
   ]
  },
  {
   "cell_type": "markdown",
   "id": "600be2c5",
   "metadata": {},
   "source": [
    "year_of_capacity_data column dropped."
   ]
  },
  {
   "cell_type": "markdown",
   "id": "281c5ede",
   "metadata": {},
   "source": [
    "# Checking Outliers:"
   ]
  },
  {
   "cell_type": "code",
   "execution_count": 357,
   "id": "559a16b8",
   "metadata": {},
   "outputs": [
    {
     "data": {
      "text/plain": [
       "<AxesSubplot:>"
      ]
     },
     "execution_count": 357,
     "metadata": {},
     "output_type": "execute_result"
    },
    {
     "data": {
      "image/png": "[encoded data removed]",
      "text/plain": [
       "<Figure size 432x288 with 1 Axes>"
      ]
     },
     "metadata": {
      "needs_background": "light"
     },
     "output_type": "display_data"
    }
   ],
   "source": [
    "df['generation_gwh_2013'].plot.box()"
   ]
  },
  {
   "cell_type": "markdown",
   "id": "66ee173f",
   "metadata": {},
   "source": [
    "Outliers present."
   ]
  },
  {
   "cell_type": "code",
   "execution_count": 238,
   "id": "e524129f",
   "metadata": {},
   "outputs": [
    {
     "data": {
      "text/plain": [
       "<AxesSubplot:>"
      ]
     },
     "execution_count": 238,
     "metadata": {},
     "output_type": "execute_result"
    },
    {
     "data": {
      "image/png": "[encoded data removed]",
      "text/plain": [
       "<Figure size 432x288 with 1 Axes>"
      ]
     },
     "metadata": {
      "needs_background": "light"
     },
     "output_type": "display_data"
    }
   ],
   "source": [
    "df['generation_gwh_2014'].plot.box()"
   ]
  },
  {
   "cell_type": "markdown",
   "id": "a05377a4",
   "metadata": {},
   "source": [
    "Outliers present."
   ]
  },
  {
   "cell_type": "code",
   "execution_count": 239,
   "id": "d0c7a191",
   "metadata": {},
   "outputs": [
    {
     "data": {
      "text/plain": [
       "<AxesSubplot:>"
      ]
     },
     "execution_count": 239,
     "metadata": {},
     "output_type": "execute_result"
    },
    {
     "data": {
      "image/png": "[encoded data removed]",
      "text/plain": [
       "<Figure size 432x288 with 1 Axes>"
      ]
     },
     "metadata": {
      "needs_background": "light"
     },
     "output_type": "display_data"
    }
   ],
   "source": [
    "df['generation_gwh_2015'].plot.box()"
   ]
  },
  {
   "cell_type": "markdown",
   "id": "326ef1a0",
   "metadata": {},
   "source": [
    "Outliers present."
   ]
  },
  {
   "cell_type": "code",
   "execution_count": 199,
   "id": "36628e77",
   "metadata": {},
   "outputs": [
    {
     "data": {
      "text/plain": [
       "<AxesSubplot:>"
      ]
     },
     "execution_count": 199,
     "metadata": {},
     "output_type": "execute_result"
    },
    {
     "data": {
      "image/png": "[encoded data removed]",
      "text/plain": [
       "<Figure size 432x288 with 1 Axes>"
      ]
     },
     "metadata": {
      "needs_background": "light"
     },
     "output_type": "display_data"
    }
   ],
   "source": [
    "df['generation_gwh_2016'].plot.box()"
   ]
  },
  {
   "cell_type": "markdown",
   "id": "cb2093bc",
   "metadata": {},
   "source": [
    "Outliers present."
   ]
  },
  {
   "cell_type": "code",
   "execution_count": 108,
   "id": "af552860",
   "metadata": {},
   "outputs": [
    {
     "data": {
      "text/plain": [
       "<AxesSubplot:>"
      ]
     },
     "execution_count": 108,
     "metadata": {},
     "output_type": "execute_result"
    },
    {
     "data": {
      "image/png": "[encoded data removed]",
      "text/plain": [
       "<Figure size 432x288 with 1 Axes>"
      ]
     },
     "metadata": {
      "needs_background": "light"
     },
     "output_type": "display_data"
    }
   ],
   "source": [
    "df['generation_gwh_2017'].plot.box()"
   ]
  },
  {
   "cell_type": "markdown",
   "id": "d30a1ed1",
   "metadata": {},
   "source": [
    "Outliers present."
   ]
  },
  {
   "cell_type": "code",
   "execution_count": 109,
   "id": "a8d8b05d",
   "metadata": {},
   "outputs": [
    {
     "data": {
      "text/plain": [
       "<AxesSubplot:>"
      ]
     },
     "execution_count": 109,
     "metadata": {},
     "output_type": "execute_result"
    },
    {
     "data": {
      "image/png": "[encoded data removed]",
      "text/plain": [
       "<Figure size 432x288 with 1 Axes>"
      ]
     },
     "metadata": {
      "needs_background": "light"
     },
     "output_type": "display_data"
    }
   ],
   "source": [
    "df['commissioning_year'].plot.box()"
   ]
  },
  {
   "cell_type": "markdown",
   "id": "5da9b142",
   "metadata": {},
   "source": [
    "Outliers present."
   ]
  },
  {
   "cell_type": "code",
   "execution_count": 363,
   "id": "2d6b5708",
   "metadata": {},
   "outputs": [],
   "source": [
    "# dropping generation_data_source column as its not affecting target variable.\n",
    "df.drop(['generation_data_source'],axis=1,inplace=True)"
   ]
  },
  {
   "cell_type": "markdown",
   "id": "b97261ed",
   "metadata": {},
   "source": [
    "generation_data_source column dropped"
   ]
  },
  {
   "cell_type": "markdown",
   "id": "056313a8",
   "metadata": {},
   "source": [
    "Using Median Imputation for fillig nan values."
   ]
  },
  {
   "cell_type": "code",
   "execution_count": 364,
   "id": "6ce47c64",
   "metadata": {},
   "outputs": [],
   "source": [
    "df['generation_gwh_2013'].fillna(df['generation_gwh_2013'].median(),inplace=True)\n",
    "df['generation_gwh_2014'].fillna(df['generation_gwh_2014'].median(),inplace=True)\n",
    "df['generation_gwh_2015'].fillna(df['generation_gwh_2015'].median(),inplace=True)\n",
    "df['generation_gwh_2016'].fillna(df['generation_gwh_2016'].median(),inplace=True)\n",
    "df['generation_gwh_2017'].fillna(df['generation_gwh_2017'].median(),inplace=True)\n",
    "df['latitude'].fillna(df['latitude'].median(),inplace=True)\n",
    "df['commissioning_year'].fillna(df['commissioning_year'].median(),inplace=True)"
   ]
  },
  {
   "cell_type": "markdown",
   "id": "a31c3c4f",
   "metadata": {},
   "source": [
    "nan values filled with median"
   ]
  },
  {
   "cell_type": "markdown",
   "id": "a5391174",
   "metadata": {},
   "source": [
    "## Mean Imputation for longitude as it doesnt have outliers"
   ]
  },
  {
   "cell_type": "code",
   "execution_count": 365,
   "id": "411fd7c1",
   "metadata": {},
   "outputs": [],
   "source": [
    "df['longitude'].fillna(df['longitude'].mean(),inplace=True)"
   ]
  },
  {
   "cell_type": "markdown",
   "id": "204228fc",
   "metadata": {},
   "source": [
    "nan values filled with mean"
   ]
  },
  {
   "cell_type": "code",
   "execution_count": 366,
   "id": "51934d87",
   "metadata": {},
   "outputs": [
    {
     "data": {
      "text/plain": [
       "name                     0\n",
       "capacity_mw              0\n",
       "latitude                 0\n",
       "longitude                0\n",
       "primary_fuel             0\n",
       "commissioning_year       0\n",
       "owner                  566\n",
       "source                   0\n",
       "generation_gwh_2013      0\n",
       "generation_gwh_2014      0\n",
       "generation_gwh_2015      0\n",
       "generation_gwh_2016      0\n",
       "generation_gwh_2017      0\n",
       "dtype: int64"
      ]
     },
     "execution_count": 366,
     "metadata": {},
     "output_type": "execute_result"
    }
   ],
   "source": [
    "df.isnull().sum()"
   ]
  },
  {
   "cell_type": "markdown",
   "id": "5f5123fa",
   "metadata": {},
   "source": [
    "Only 'owner' has nan values so doing mode imputaion for it."
   ]
  },
  {
   "cell_type": "markdown",
   "id": "bd51da10",
   "metadata": {},
   "source": [
    "## Mode Imputation for Object datatype"
   ]
  },
  {
   "cell_type": "code",
   "execution_count": 367,
   "id": "438b144b",
   "metadata": {},
   "outputs": [],
   "source": [
    "# Filling train dataset with mode\n",
    "df['owner'].fillna(df['owner'].mode()[0],inplace=True)\n"
   ]
  },
  {
   "cell_type": "markdown",
   "id": "baf0c672",
   "metadata": {},
   "source": [
    "owner column null value filled."
   ]
  },
  {
   "cell_type": "code",
   "execution_count": 368,
   "id": "06a6672e",
   "metadata": {},
   "outputs": [
    {
     "data": {
      "text/plain": [
       "name                   0\n",
       "capacity_mw            0\n",
       "latitude               0\n",
       "longitude              0\n",
       "primary_fuel           0\n",
       "commissioning_year     0\n",
       "owner                  0\n",
       "source                 0\n",
       "generation_gwh_2013    0\n",
       "generation_gwh_2014    0\n",
       "generation_gwh_2015    0\n",
       "generation_gwh_2016    0\n",
       "generation_gwh_2017    0\n",
       "dtype: int64"
      ]
     },
     "execution_count": 368,
     "metadata": {},
     "output_type": "execute_result"
    }
   ],
   "source": [
    "df.isnull().sum()"
   ]
  },
  {
   "cell_type": "markdown",
   "id": "a10df012",
   "metadata": {},
   "source": [
    "No null values"
   ]
  },
  {
   "cell_type": "markdown",
   "id": "2e7b4b49",
   "metadata": {},
   "source": [
    "# EDA:"
   ]
  },
  {
   "cell_type": "code",
   "execution_count": 369,
   "id": "b1daaaa6",
   "metadata": {},
   "outputs": [],
   "source": [
    "import seaborn as sns\n",
    "import matplotlib.pyplot as plt\n",
    "import warnings\n",
    "warnings.filterwarnings('ignore')"
   ]
  },
  {
   "cell_type": "code",
   "execution_count": 141,
   "id": "1101d4ca",
   "metadata": {},
   "outputs": [
    {
     "name": "stdout",
     "output_type": "stream",
     "text": [
      "Coal       259\n",
      "Hydro      250\n",
      "Solar      127\n",
      "Wind       123\n",
      "Gas         69\n",
      "Biomass     50\n",
      "Oil         21\n",
      "Nuclear      9\n",
      "Name: primary_fuel, dtype: int64\n"
     ]
    },
    {
     "data": {
      "image/png": "[encoded data removed]",
      "text/plain": [
       "<Figure size 432x288 with 1 Axes>"
      ]
     },
     "metadata": {
      "needs_background": "light"
     },
     "output_type": "display_data"
    }
   ],
   "source": [
    "#Target 1 label\n",
    "\n",
    "ax=sns.countplot(x=\"primary_fuel\", data=df)\n",
    "print(df[\"primary_fuel\"].value_counts())"
   ]
  },
  {
   "cell_type": "markdown",
   "id": "7a631667",
   "metadata": {},
   "source": [
    "There is class imbalance "
   ]
  },
  {
   "cell_type": "code",
   "execution_count": 142,
   "id": "5117efd5",
   "metadata": {},
   "outputs": [
    {
     "data": {
      "text/plain": [
       "country                 object\n",
       "country_long            object\n",
       "name                    object\n",
       "gppd_idnr               object\n",
       "capacity_mw            float64\n",
       "latitude               float64\n",
       "longitude              float64\n",
       "primary_fuel            object\n",
       "commissioning_year     float64\n",
       "owner                   object\n",
       "source                  object\n",
       "generation_gwh_2013    float64\n",
       "generation_gwh_2014    float64\n",
       "generation_gwh_2015    float64\n",
       "generation_gwh_2016    float64\n",
       "generation_gwh_2017    float64\n",
       "dtype: object"
      ]
     },
     "execution_count": 142,
     "metadata": {},
     "output_type": "execute_result"
    }
   ],
   "source": [
    "df.dtypes"
   ]
  },
  {
   "cell_type": "markdown",
   "id": "83487e49",
   "metadata": {},
   "source": [
    "## Plotting of Numeric Datatype:"
   ]
  },
  {
   "cell_type": "code",
   "execution_count": 119,
   "id": "df021230",
   "metadata": {},
   "outputs": [
    {
     "data": {
      "text/plain": [
       "<AxesSubplot:xlabel='capacity_mw', ylabel='Density'>"
      ]
     },
     "execution_count": 119,
     "metadata": {},
     "output_type": "execute_result"
    },
    {
     "data": {
      "image/png": "[encoded data removed]",
      "text/plain": [
       "<Figure size 432x288 with 1 Axes>"
      ]
     },
     "metadata": {
      "needs_background": "light"
     },
     "output_type": "display_data"
    }
   ],
   "source": [
    "#Target label 2\n",
    "\n",
    "sns.distplot(df['capacity_mw'], kde=True)"
   ]
  },
  {
   "cell_type": "markdown",
   "id": "df64f6a3",
   "metadata": {},
   "source": [
    "Data is not equally distributed and has skewness"
   ]
  },
  {
   "cell_type": "code",
   "execution_count": 120,
   "id": "6a3640b8",
   "metadata": {},
   "outputs": [
    {
     "data": {
      "text/plain": [
       "<AxesSubplot:xlabel='latitude', ylabel='Density'>"
      ]
     },
     "execution_count": 120,
     "metadata": {},
     "output_type": "execute_result"
    },
    {
     "data": {
      "image/png": "[encoded data removed]",
      "text/plain": [
       "<Figure size 432x288 with 1 Axes>"
      ]
     },
     "metadata": {
      "needs_background": "light"
     },
     "output_type": "display_data"
    }
   ],
   "source": [
    "sns.distplot(df['latitude'], kde=True)"
   ]
  },
  {
   "cell_type": "markdown",
   "id": "1dcedac9",
   "metadata": {},
   "source": [
    "Data is not equally distributed and has skewness"
   ]
  },
  {
   "cell_type": "code",
   "execution_count": 121,
   "id": "926208c4",
   "metadata": {},
   "outputs": [
    {
     "data": {
      "text/plain": [
       "<AxesSubplot:xlabel='longitude', ylabel='Density'>"
      ]
     },
     "execution_count": 121,
     "metadata": {},
     "output_type": "execute_result"
    },
    {
     "data": {
      "image/png": "[encoded data removed]",
      "text/plain": [
       "<Figure size 432x288 with 1 Axes>"
      ]
     },
     "metadata": {
      "needs_background": "light"
     },
     "output_type": "display_data"
    }
   ],
   "source": [
    "sns.distplot(df['longitude'], kde=True)"
   ]
  },
  {
   "cell_type": "markdown",
   "id": "541d6b0a",
   "metadata": {},
   "source": [
    "Data is not equally distributed and has skewness"
   ]
  },
  {
   "cell_type": "code",
   "execution_count": 122,
   "id": "5dd94fcb",
   "metadata": {},
   "outputs": [
    {
     "data": {
      "text/plain": [
       "<AxesSubplot:xlabel='commissioning_year', ylabel='Density'>"
      ]
     },
     "execution_count": 122,
     "metadata": {},
     "output_type": "execute_result"
    },
    {
     "data": {
      "image/png": "[encoded data removed]",
      "text/plain": [
       "<Figure size 432x288 with 1 Axes>"
      ]
     },
     "metadata": {
      "needs_background": "light"
     },
     "output_type": "display_data"
    }
   ],
   "source": [
    "sns.distplot(df['commissioning_year'], kde=True)"
   ]
  },
  {
   "cell_type": "markdown",
   "id": "a5d4af09",
   "metadata": {},
   "source": [
    "Data is not equally distributed and has skewness"
   ]
  },
  {
   "cell_type": "code",
   "execution_count": 128,
   "id": "70e120ce",
   "metadata": {},
   "outputs": [
    {
     "data": {
      "text/plain": [
       "<AxesSubplot:xlabel='generation_gwh_2013', ylabel='Density'>"
      ]
     },
     "execution_count": 128,
     "metadata": {},
     "output_type": "execute_result"
    },
    {
     "data": {
      "image/png": "[encoded data removed]",
      "text/plain": [
       "<Figure size 432x288 with 1 Axes>"
      ]
     },
     "metadata": {
      "needs_background": "light"
     },
     "output_type": "display_data"
    }
   ],
   "source": [
    "sns.distplot(df['generation_gwh_2013'], kde=True)"
   ]
  },
  {
   "cell_type": "markdown",
   "id": "d162cacf",
   "metadata": {},
   "source": [
    "Data is not equally distributed and has skewness"
   ]
  },
  {
   "cell_type": "code",
   "execution_count": 127,
   "id": "9da766e3",
   "metadata": {},
   "outputs": [
    {
     "data": {
      "text/plain": [
       "<AxesSubplot:xlabel='generation_gwh_2014', ylabel='Density'>"
      ]
     },
     "execution_count": 127,
     "metadata": {},
     "output_type": "execute_result"
    },
    {
     "data": {
      "image/png": "[encoded data removed]",
      "text/plain": [
       "<Figure size 432x288 with 1 Axes>"
      ]
     },
     "metadata": {
      "needs_background": "light"
     },
     "output_type": "display_data"
    }
   ],
   "source": [
    "sns.distplot(df['generation_gwh_2014'], kde=True)"
   ]
  },
  {
   "cell_type": "markdown",
   "id": "8533af43",
   "metadata": {},
   "source": [
    "Data is not equally distributed and has skewness"
   ]
  },
  {
   "cell_type": "code",
   "execution_count": 124,
   "id": "c404c221",
   "metadata": {},
   "outputs": [
    {
     "data": {
      "text/plain": [
       "<AxesSubplot:xlabel='generation_gwh_2015', ylabel='Density'>"
      ]
     },
     "execution_count": 124,
     "metadata": {},
     "output_type": "execute_result"
    },
    {
     "data": {
      "image/png": "[encoded data removed]",
      "text/plain": [
       "<Figure size 432x288 with 1 Axes>"
      ]
     },
     "metadata": {
      "needs_background": "light"
     },
     "output_type": "display_data"
    }
   ],
   "source": [
    "sns.distplot(df['generation_gwh_2015'], kde=True)"
   ]
  },
  {
   "cell_type": "markdown",
   "id": "ce6cf762",
   "metadata": {},
   "source": [
    "Data is not equally distributed and has skewness"
   ]
  },
  {
   "cell_type": "code",
   "execution_count": 125,
   "id": "f2c2b29c",
   "metadata": {},
   "outputs": [
    {
     "data": {
      "text/plain": [
       "<AxesSubplot:xlabel='generation_gwh_2016', ylabel='Density'>"
      ]
     },
     "execution_count": 125,
     "metadata": {},
     "output_type": "execute_result"
    },
    {
     "data": {
      "image/png": "[encoded data removed]",
      "text/plain": [
       "<Figure size 432x288 with 1 Axes>"
      ]
     },
     "metadata": {
      "needs_background": "light"
     },
     "output_type": "display_data"
    }
   ],
   "source": [
    "sns.distplot(df['generation_gwh_2016'], kde=True)"
   ]
  },
  {
   "cell_type": "markdown",
   "id": "fded3892",
   "metadata": {},
   "source": [
    "Data is not equally distributed and has skewness"
   ]
  },
  {
   "cell_type": "code",
   "execution_count": 126,
   "id": "3a4d11e0",
   "metadata": {},
   "outputs": [
    {
     "data": {
      "text/plain": [
       "<AxesSubplot:xlabel='generation_gwh_2017', ylabel='Density'>"
      ]
     },
     "execution_count": 126,
     "metadata": {},
     "output_type": "execute_result"
    },
    {
     "data": {
      "image/png": "[encoded data removed]",
      "text/plain": [
       "<Figure size 432x288 with 1 Axes>"
      ]
     },
     "metadata": {
      "needs_background": "light"
     },
     "output_type": "display_data"
    }
   ],
   "source": [
    "sns.distplot(df['generation_gwh_2017'], kde=True)"
   ]
  },
  {
   "cell_type": "markdown",
   "id": "bbff9a23",
   "metadata": {},
   "source": [
    "Data is not equally distributed and has skewness"
   ]
  },
  {
   "cell_type": "markdown",
   "id": "3509f2a7",
   "metadata": {},
   "source": [
    "## Countplot for Categorical data"
   ]
  },
  {
   "cell_type": "code",
   "execution_count": 131,
   "id": "292acf10",
   "metadata": {},
   "outputs": [
    {
     "name": "stdout",
     "output_type": "stream",
     "text": [
      "PORINGALKUTTU L              1\n",
      "Jangi village wind farm      1\n",
      "Kamuthi Solar Power Plant    1\n",
      "LOWER PERIYAR                1\n",
      "RANGANADI                    1\n",
      "                            ..\n",
      "RAMGARH GT                   1\n",
      "SEIONI TPP                   1\n",
      "YELHANKA (DG)                1\n",
      "TILLARI                      1\n",
      "MACHKUND                     1\n",
      "Name: name, Length: 908, dtype: int64\n"
     ]
    },
    {
     "data": {
      "image/png": "[encoded data removed]",
      "text/plain": [
       "<Figure size 1296x288 with 1 Axes>"
      ]
     },
     "metadata": {
      "needs_background": "light"
     },
     "output_type": "display_data"
    }
   ],
   "source": [
    "plt.figure(figsize=(18,4))\n",
    "ax=sns.countplot(x=\"name\", data=df)\n",
    "print(df[\"name\"].value_counts())"
   ]
  },
  {
   "cell_type": "markdown",
   "id": "2815fa09",
   "metadata": {},
   "source": [
    "Every data has same count."
   ]
  },
  {
   "cell_type": "code",
   "execution_count": 132,
   "id": "92113b1f",
   "metadata": {},
   "outputs": [
    {
     "name": "stdout",
     "output_type": "stream",
     "text": [
      "Coal       259\n",
      "Hydro      250\n",
      "Solar      127\n",
      "Wind       123\n",
      "Gas         69\n",
      "Biomass     50\n",
      "Oil         21\n",
      "Nuclear      9\n",
      "Name: primary_fuel, dtype: int64\n"
     ]
    },
    {
     "data": {
      "image/png": "[encoded data removed]",
      "text/plain": [
       "<Figure size 1296x288 with 1 Axes>"
      ]
     },
     "metadata": {
      "needs_background": "light"
     },
     "output_type": "display_data"
    }
   ],
   "source": [
    "plt.figure(figsize=(18,4))\n",
    "ax=sns.countplot(x=\"primary_fuel\", data=df)\n",
    "print(df[\"primary_fuel\"].value_counts())"
   ]
  },
  {
   "cell_type": "markdown",
   "id": "e6897b25",
   "metadata": {},
   "source": [
    "Coal and Hydro are the major primary fuel"
   ]
  },
  {
   "cell_type": "code",
   "execution_count": 134,
   "id": "9d58b66c",
   "metadata": {},
   "outputs": [
    {
     "name": "stdout",
     "output_type": "stream",
     "text": [
      "Acc Acc ltd                                              570\n",
      "Sterling Agro Industries ltd.                              4\n",
      "Jk Cement ltd                                              4\n",
      "SWPPL                                                      3\n",
      "Maharashtra State Power Generation Co Ltd (MAHAGENCO)      3\n",
      "                                                        ... \n",
      "NMDC                                                       1\n",
      "Nocil Nocil rubber                                         1\n",
      "Mytrah Energy (India) Limited                              1\n",
      "Godawari Energy ltd                                        1\n",
      "Godwari Green Energy Limited                               1\n",
      "Name: owner, Length: 280, dtype: int64\n"
     ]
    },
    {
     "data": {
      "image/png": "[encoded data removed]",
      "text/plain": [
       "<Figure size 720x288 with 1 Axes>"
      ]
     },
     "metadata": {
      "needs_background": "light"
     },
     "output_type": "display_data"
    }
   ],
   "source": [
    "plt.figure(figsize=(10,4))\n",
    "ax=sns.countplot(x=\"owner\", data=df)\n",
    "print(df[\"owner\"].value_counts())"
   ]
  },
  {
   "cell_type": "markdown",
   "id": "24b9b24a",
   "metadata": {},
   "source": [
    "Acc Acc ltd have larger count "
   ]
  },
  {
   "cell_type": "code",
   "execution_count": 24,
   "id": "854bc587",
   "metadata": {},
   "outputs": [
    {
     "data": {
      "image/png": "[encoded data removed]",
      "text/plain": [
       "<Figure size 432x288 with 1 Axes>"
      ]
     },
     "metadata": {
      "needs_background": "light"
     },
     "output_type": "display_data"
    }
   ],
   "source": [
    "g=sns.scatterplot(x=\"primary_fuel\",y=\"capacity_mw\",data=df,color='g')"
   ]
  },
  {
   "cell_type": "markdown",
   "id": "8ba24f86",
   "metadata": {},
   "source": [
    "Coal has higher capacity _mw count "
   ]
  },
  {
   "cell_type": "code",
   "execution_count": 29,
   "id": "6568015c",
   "metadata": {},
   "outputs": [
    {
     "data": {
      "image/png": "[encoded data removed]",
      "text/plain": [
       "<Figure size 432x288 with 1 Axes>"
      ]
     },
     "metadata": {
      "needs_background": "light"
     },
     "output_type": "display_data"
    }
   ],
   "source": [
    "g=sns.scatterplot(x=\"primary_fuel\",y=\"latitude\",data=df,color='g')"
   ]
  },
  {
   "cell_type": "markdown",
   "id": "6daa3bba",
   "metadata": {},
   "source": [
    "Hydro fuel has higher count in latitude "
   ]
  },
  {
   "cell_type": "code",
   "execution_count": 27,
   "id": "17c914d2",
   "metadata": {},
   "outputs": [
    {
     "data": {
      "image/png": "[encoded data removed]",
      "text/plain": [
       "<Figure size 432x288 with 1 Axes>"
      ]
     },
     "metadata": {
      "needs_background": "light"
     },
     "output_type": "display_data"
    }
   ],
   "source": [
    "g=sns.scatterplot(x=\"commissioning_year\",y=\"primary_fuel\",data=df,color='g')"
   ]
  },
  {
   "cell_type": "markdown",
   "id": "b365911a",
   "metadata": {},
   "source": [
    "Hydro fuel has been used for the longest time "
   ]
  },
  {
   "cell_type": "code",
   "execution_count": 30,
   "id": "55f8b5ea",
   "metadata": {},
   "outputs": [
    {
     "data": {
      "image/png": "[encoded data removed]",
      "text/plain": [
       "<Figure size 432x288 with 1 Axes>"
      ]
     },
     "metadata": {
      "needs_background": "light"
     },
     "output_type": "display_data"
    }
   ],
   "source": [
    "g=sns.scatterplot(x=\"generation_gwh_2013\",y=\"primary_fuel\",data=df,color='g')"
   ]
  },
  {
   "cell_type": "markdown",
   "id": "0c59b4e9",
   "metadata": {},
   "source": [
    "Coal has been used majorly in 2013"
   ]
  },
  {
   "cell_type": "code",
   "execution_count": 32,
   "id": "85ae5a6c",
   "metadata": {},
   "outputs": [
    {
     "data": {
      "image/png": "[encoded data removed]",
      "text/plain": [
       "<Figure size 432x288 with 1 Axes>"
      ]
     },
     "metadata": {
      "needs_background": "light"
     },
     "output_type": "display_data"
    }
   ],
   "source": [
    "g=sns.scatterplot(x=\"generation_gwh_2014\",y=\"primary_fuel\",data=df,color='g')"
   ]
  },
  {
   "cell_type": "markdown",
   "id": "b1f14f5d",
   "metadata": {},
   "source": [
    "Coal has higher generation gwh value "
   ]
  },
  {
   "cell_type": "code",
   "execution_count": 33,
   "id": "706cd746",
   "metadata": {},
   "outputs": [
    {
     "data": {
      "image/png": "[encoded data removed]",
      "text/plain": [
       "<Figure size 432x288 with 1 Axes>"
      ]
     },
     "metadata": {
      "needs_background": "light"
     },
     "output_type": "display_data"
    }
   ],
   "source": [
    "g=sns.scatterplot(x=\"generation_gwh_2015\",y=\"primary_fuel\",data=df,color='g')"
   ]
  },
  {
   "cell_type": "markdown",
   "id": "21737783",
   "metadata": {},
   "source": [
    "Coal has higher generation gwh value "
   ]
  },
  {
   "cell_type": "code",
   "execution_count": 34,
   "id": "cd5c0a76",
   "metadata": {},
   "outputs": [
    {
     "data": {
      "image/png": "[encoded data removed]",
      "text/plain": [
       "<Figure size 432x288 with 1 Axes>"
      ]
     },
     "metadata": {
      "needs_background": "light"
     },
     "output_type": "display_data"
    }
   ],
   "source": [
    "g=sns.scatterplot(x=\"generation_gwh_2016\",y=\"primary_fuel\",data=df,color='g')"
   ]
  },
  {
   "cell_type": "markdown",
   "id": "89acab6a",
   "metadata": {},
   "source": [
    "Coal has higher generation gwh value "
   ]
  },
  {
   "cell_type": "code",
   "execution_count": 35,
   "id": "5129df0b",
   "metadata": {},
   "outputs": [
    {
     "data": {
      "image/png": "[encoded data removed]",
      "text/plain": [
       "<Figure size 432x288 with 1 Axes>"
      ]
     },
     "metadata": {
      "needs_background": "light"
     },
     "output_type": "display_data"
    }
   ],
   "source": [
    "g=sns.scatterplot(x=\"generation_gwh_2017\",y=\"primary_fuel\",data=df,color='g')"
   ]
  },
  {
   "cell_type": "markdown",
   "id": "5e6ae462",
   "metadata": {},
   "source": [
    "Coal has higher generation gwh value "
   ]
  },
  {
   "cell_type": "markdown",
   "id": "c7721dc8",
   "metadata": {},
   "source": [
    "## Label Encoding:"
   ]
  },
  {
   "cell_type": "code",
   "execution_count": 370,
   "id": "924ff291",
   "metadata": {},
   "outputs": [],
   "source": [
    "from sklearn.preprocessing import LabelEncoder\n",
    "en= LabelEncoder()\n",
    "\n",
    "df['name'] = en.fit_transform(df['name'])\n",
    "df['primary_fuel'] = en.fit_transform(df['primary_fuel'])\n",
    "df['owner'] = en.fit_transform(df['owner'])\n",
    "df['source'] = en.fit_transform(df['source'])"
   ]
  },
  {
   "cell_type": "markdown",
   "id": "fb42c8ba",
   "metadata": {},
   "source": [
    "Encoded object to numeric datatype"
   ]
  },
  {
   "cell_type": "code",
   "execution_count": 371,
   "id": "5fe6a5ed",
   "metadata": {},
   "outputs": [
    {
     "data": {
      "text/html": [
       "<div>\n",
       "<style scoped>\n",
       "    .dataframe tbody tr th:only-of-type {\n",
       "        vertical-align: middle;\n",
       "    }\n",
       "\n",
       "    .dataframe tbody tr th {\n",
       "        vertical-align: top;\n",
       "    }\n",
       "\n",
       "    .dataframe thead th {\n",
       "        text-align: right;\n",
       "    }\n",
       "</style>\n",
       "<table border=\"1\" class=\"dataframe\">\n",
       "  <thead>\n",
       "    <tr style=\"text-align: right;\">\n",
       "      <th></th>\n",
       "      <th>name</th>\n",
       "      <th>capacity_mw</th>\n",
       "      <th>latitude</th>\n",
       "      <th>longitude</th>\n",
       "      <th>primary_fuel</th>\n",
       "      <th>commissioning_year</th>\n",
       "      <th>owner</th>\n",
       "      <th>source</th>\n",
       "      <th>generation_gwh_2013</th>\n",
       "      <th>generation_gwh_2014</th>\n",
       "      <th>generation_gwh_2015</th>\n",
       "      <th>generation_gwh_2016</th>\n",
       "      <th>generation_gwh_2017</th>\n",
       "    </tr>\n",
       "  </thead>\n",
       "  <tbody>\n",
       "    <tr>\n",
       "      <th>0</th>\n",
       "      <td>0</td>\n",
       "      <td>2.5</td>\n",
       "      <td>28.1839</td>\n",
       "      <td>73.2407</td>\n",
       "      <td>6</td>\n",
       "      <td>2011.0</td>\n",
       "      <td>229</td>\n",
       "      <td>109</td>\n",
       "      <td>797.063475</td>\n",
       "      <td>805.760000</td>\n",
       "      <td>701.02725</td>\n",
       "      <td>716.728350</td>\n",
       "      <td>807.601700</td>\n",
       "    </tr>\n",
       "    <tr>\n",
       "      <th>1</th>\n",
       "      <td>1</td>\n",
       "      <td>98.0</td>\n",
       "      <td>24.7663</td>\n",
       "      <td>74.6090</td>\n",
       "      <td>1</td>\n",
       "      <td>2000.0</td>\n",
       "      <td>258</td>\n",
       "      <td>174</td>\n",
       "      <td>797.063475</td>\n",
       "      <td>805.760000</td>\n",
       "      <td>701.02725</td>\n",
       "      <td>716.728350</td>\n",
       "      <td>807.601700</td>\n",
       "    </tr>\n",
       "    <tr>\n",
       "      <th>2</th>\n",
       "      <td>2</td>\n",
       "      <td>39.2</td>\n",
       "      <td>21.9038</td>\n",
       "      <td>69.3732</td>\n",
       "      <td>7</td>\n",
       "      <td>2000.0</td>\n",
       "      <td>2</td>\n",
       "      <td>21</td>\n",
       "      <td>797.063475</td>\n",
       "      <td>805.760000</td>\n",
       "      <td>701.02725</td>\n",
       "      <td>716.728350</td>\n",
       "      <td>807.601700</td>\n",
       "    </tr>\n",
       "    <tr>\n",
       "      <th>3</th>\n",
       "      <td>3</td>\n",
       "      <td>135.0</td>\n",
       "      <td>23.8712</td>\n",
       "      <td>91.3602</td>\n",
       "      <td>2</td>\n",
       "      <td>2004.0</td>\n",
       "      <td>5</td>\n",
       "      <td>22</td>\n",
       "      <td>631.777928</td>\n",
       "      <td>617.789264</td>\n",
       "      <td>843.74700</td>\n",
       "      <td>886.004428</td>\n",
       "      <td>663.774500</td>\n",
       "    </tr>\n",
       "    <tr>\n",
       "      <th>4</th>\n",
       "      <td>4</td>\n",
       "      <td>1800.0</td>\n",
       "      <td>21.9603</td>\n",
       "      <td>82.4091</td>\n",
       "      <td>1</td>\n",
       "      <td>2015.0</td>\n",
       "      <td>5</td>\n",
       "      <td>22</td>\n",
       "      <td>1668.290000</td>\n",
       "      <td>3035.550000</td>\n",
       "      <td>5916.37000</td>\n",
       "      <td>6243.000000</td>\n",
       "      <td>5385.579736</td>\n",
       "    </tr>\n",
       "  </tbody>\n",
       "</table>\n",
       "</div>"
      ],
      "text/plain": [
       "   name  capacity_mw  latitude  longitude  primary_fuel  commissioning_year  \\\n",
       "0     0          2.5   28.1839    73.2407             6              2011.0   \n",
       "1     1         98.0   24.7663    74.6090             1              2000.0   \n",
       "2     2         39.2   21.9038    69.3732             7              2000.0   \n",
       "3     3        135.0   23.8712    91.3602             2              2004.0   \n",
       "4     4       1800.0   21.9603    82.4091             1              2015.0   \n",
       "\n",
       "   owner  source  generation_gwh_2013  generation_gwh_2014  \\\n",
       "0    229     109           797.063475           805.760000   \n",
       "1    258     174           797.063475           805.760000   \n",
       "2      2      21           797.063475           805.760000   \n",
       "3      5      22           631.777928           617.789264   \n",
       "4      5      22          1668.290000          3035.550000   \n",
       "\n",
       "   generation_gwh_2015  generation_gwh_2016  generation_gwh_2017  \n",
       "0            701.02725           716.728350           807.601700  \n",
       "1            701.02725           716.728350           807.601700  \n",
       "2            701.02725           716.728350           807.601700  \n",
       "3            843.74700           886.004428           663.774500  \n",
       "4           5916.37000          6243.000000          5385.579736  "
      ]
     },
     "execution_count": 371,
     "metadata": {},
     "output_type": "execute_result"
    }
   ],
   "source": [
    "df.head()"
   ]
  },
  {
   "cell_type": "markdown",
   "id": "f53c6b28",
   "metadata": {},
   "source": [
    "Encoded object to numeric datatype"
   ]
  },
  {
   "cell_type": "markdown",
   "id": "9c0aa263",
   "metadata": {},
   "source": [
    "## SMOTE for Imbalance Class:"
   ]
  },
  {
   "cell_type": "code",
   "execution_count": 372,
   "id": "65a5d1a9",
   "metadata": {},
   "outputs": [
    {
     "name": "stdout",
     "output_type": "stream",
     "text": [
      "Requirement already satisfied: scikit-learn in d:\\anaconda\\lib\\site-packages (0.24.1)\n",
      "Requirement already satisfied: numpy>=1.13.3 in d:\\anaconda\\lib\\site-packages (from scikit-learn) (1.20.1)\n",
      "Requirement already satisfied: scipy>=0.19.1 in d:\\anaconda\\lib\\site-packages (from scikit-learn) (1.6.2)\n",
      "Requirement already satisfied: threadpoolctl>=2.0.0 in d:\\anaconda\\lib\\site-packages (from scikit-learn) (2.1.0)\n",
      "Requirement already satisfied: joblib>=0.11 in d:\\anaconda\\lib\\site-packages (from scikit-learn) (1.0.1)\n"
     ]
    }
   ],
   "source": [
    "#Imported Libraries\n",
    "import sklearn\n",
    "sklearn.__version__\n",
    "!pip install scikit-learn\n"
   ]
  },
  {
   "cell_type": "code",
   "execution_count": 373,
   "id": "1b731db3",
   "metadata": {},
   "outputs": [
    {
     "name": "stdout",
     "output_type": "stream",
     "text": [
      "Requirement already satisfied: imbalanced-learn in d:\\anaconda\\lib\\site-packages (0.8.1)\n",
      "Requirement already satisfied: scikit-learn>=0.24 in d:\\anaconda\\lib\\site-packages (from imbalanced-learn) (0.24.1)\n",
      "Requirement already satisfied: numpy>=1.13.3 in d:\\anaconda\\lib\\site-packages (from imbalanced-learn) (1.20.1)\n",
      "Requirement already satisfied: joblib>=0.11 in d:\\anaconda\\lib\\site-packages (from imbalanced-learn) (1.0.1)\n",
      "Requirement already satisfied: scipy>=0.19.1 in d:\\anaconda\\lib\\site-packages (from imbalanced-learn) (1.6.2)\n",
      "Requirement already satisfied: threadpoolctl>=2.0.0 in d:\\anaconda\\lib\\site-packages (from scikit-learn>=0.24->imbalanced-learn) (2.1.0)\n"
     ]
    }
   ],
   "source": [
    "# Library for imbalanced dataset:\n",
    "\n",
    "!pip install -U imbalanced-learn"
   ]
  },
  {
   "cell_type": "code",
   "execution_count": 374,
   "id": "7f672331",
   "metadata": {},
   "outputs": [],
   "source": [
    "from imblearn.over_sampling import SMOTE\n",
    "dfx=df.drop(['primary_fuel'], axis=1)\n",
    "dfy=df['primary_fuel'].values\n",
    "smt=SMOTE()\n",
    "trainx,trainy=smt.fit_resample(dfx,dfy)"
   ]
  },
  {
   "cell_type": "markdown",
   "id": "c7a364f4",
   "metadata": {},
   "source": [
    "SMOTE Technique helped to balance the target class."
   ]
  },
  {
   "cell_type": "code",
   "execution_count": 375,
   "id": "26177fc7",
   "metadata": {},
   "outputs": [
    {
     "data": {
      "image/png": "[encoded data removed]",
      "text/plain": [
       "<Figure size 432x288 with 1 Axes>"
      ]
     },
     "metadata": {
      "needs_background": "light"
     },
     "output_type": "display_data"
    }
   ],
   "source": [
    "ax=sns.countplot(trainy)"
   ]
  },
  {
   "cell_type": "markdown",
   "id": "8cd59657",
   "metadata": {},
   "source": [
    "Class Imbalance is corrected."
   ]
  },
  {
   "cell_type": "code",
   "execution_count": 376,
   "id": "11a69254",
   "metadata": {},
   "outputs": [
    {
     "data": {
      "text/plain": [
       "0    259\n",
       "1    259\n",
       "2    259\n",
       "3    259\n",
       "4    259\n",
       "5    259\n",
       "6    259\n",
       "7    259\n",
       "dtype: int64"
      ]
     },
     "execution_count": 376,
     "metadata": {},
     "output_type": "execute_result"
    }
   ],
   "source": [
    "primary_fuel=pd.DataFrame(trainy)\n",
    "primary_fuel.value_counts()"
   ]
  },
  {
   "cell_type": "markdown",
   "id": "c1c550be",
   "metadata": {},
   "source": [
    "Now count is 259 for the value of 0 to 7."
   ]
  },
  {
   "cell_type": "code",
   "execution_count": 377,
   "id": "8df44f09",
   "metadata": {},
   "outputs": [
    {
     "data": {
      "text/html": [
       "<div>\n",
       "<style scoped>\n",
       "    .dataframe tbody tr th:only-of-type {\n",
       "        vertical-align: middle;\n",
       "    }\n",
       "\n",
       "    .dataframe tbody tr th {\n",
       "        vertical-align: top;\n",
       "    }\n",
       "\n",
       "    .dataframe thead th {\n",
       "        text-align: right;\n",
       "    }\n",
       "</style>\n",
       "<table border=\"1\" class=\"dataframe\">\n",
       "  <thead>\n",
       "    <tr style=\"text-align: right;\">\n",
       "      <th></th>\n",
       "      <th>name</th>\n",
       "      <th>capacity_mw</th>\n",
       "      <th>latitude</th>\n",
       "      <th>longitude</th>\n",
       "      <th>primary_fuel</th>\n",
       "      <th>commissioning_year</th>\n",
       "      <th>owner</th>\n",
       "      <th>source</th>\n",
       "      <th>generation_gwh_2013</th>\n",
       "      <th>generation_gwh_2014</th>\n",
       "      <th>generation_gwh_2015</th>\n",
       "      <th>generation_gwh_2016</th>\n",
       "      <th>generation_gwh_2017</th>\n",
       "      <th>primary_fuels</th>\n",
       "    </tr>\n",
       "  </thead>\n",
       "  <tbody>\n",
       "    <tr>\n",
       "      <th>0</th>\n",
       "      <td>0</td>\n",
       "      <td>2.5</td>\n",
       "      <td>28.1839</td>\n",
       "      <td>73.2407</td>\n",
       "      <td>6</td>\n",
       "      <td>2011.0</td>\n",
       "      <td>229</td>\n",
       "      <td>109</td>\n",
       "      <td>797.063475</td>\n",
       "      <td>805.760000</td>\n",
       "      <td>701.02725</td>\n",
       "      <td>716.728350</td>\n",
       "      <td>807.601700</td>\n",
       "      <td>6</td>\n",
       "    </tr>\n",
       "    <tr>\n",
       "      <th>1</th>\n",
       "      <td>1</td>\n",
       "      <td>98.0</td>\n",
       "      <td>24.7663</td>\n",
       "      <td>74.6090</td>\n",
       "      <td>1</td>\n",
       "      <td>2000.0</td>\n",
       "      <td>258</td>\n",
       "      <td>174</td>\n",
       "      <td>797.063475</td>\n",
       "      <td>805.760000</td>\n",
       "      <td>701.02725</td>\n",
       "      <td>716.728350</td>\n",
       "      <td>807.601700</td>\n",
       "      <td>1</td>\n",
       "    </tr>\n",
       "    <tr>\n",
       "      <th>2</th>\n",
       "      <td>2</td>\n",
       "      <td>39.2</td>\n",
       "      <td>21.9038</td>\n",
       "      <td>69.3732</td>\n",
       "      <td>7</td>\n",
       "      <td>2000.0</td>\n",
       "      <td>2</td>\n",
       "      <td>21</td>\n",
       "      <td>797.063475</td>\n",
       "      <td>805.760000</td>\n",
       "      <td>701.02725</td>\n",
       "      <td>716.728350</td>\n",
       "      <td>807.601700</td>\n",
       "      <td>7</td>\n",
       "    </tr>\n",
       "    <tr>\n",
       "      <th>3</th>\n",
       "      <td>3</td>\n",
       "      <td>135.0</td>\n",
       "      <td>23.8712</td>\n",
       "      <td>91.3602</td>\n",
       "      <td>2</td>\n",
       "      <td>2004.0</td>\n",
       "      <td>5</td>\n",
       "      <td>22</td>\n",
       "      <td>631.777928</td>\n",
       "      <td>617.789264</td>\n",
       "      <td>843.74700</td>\n",
       "      <td>886.004428</td>\n",
       "      <td>663.774500</td>\n",
       "      <td>2</td>\n",
       "    </tr>\n",
       "    <tr>\n",
       "      <th>4</th>\n",
       "      <td>4</td>\n",
       "      <td>1800.0</td>\n",
       "      <td>21.9603</td>\n",
       "      <td>82.4091</td>\n",
       "      <td>1</td>\n",
       "      <td>2015.0</td>\n",
       "      <td>5</td>\n",
       "      <td>22</td>\n",
       "      <td>1668.290000</td>\n",
       "      <td>3035.550000</td>\n",
       "      <td>5916.37000</td>\n",
       "      <td>6243.000000</td>\n",
       "      <td>5385.579736</td>\n",
       "      <td>1</td>\n",
       "    </tr>\n",
       "  </tbody>\n",
       "</table>\n",
       "</div>"
      ],
      "text/plain": [
       "   name  capacity_mw  latitude  longitude  primary_fuel  commissioning_year  \\\n",
       "0     0          2.5   28.1839    73.2407             6              2011.0   \n",
       "1     1         98.0   24.7663    74.6090             1              2000.0   \n",
       "2     2         39.2   21.9038    69.3732             7              2000.0   \n",
       "3     3        135.0   23.8712    91.3602             2              2004.0   \n",
       "4     4       1800.0   21.9603    82.4091             1              2015.0   \n",
       "\n",
       "   owner  source  generation_gwh_2013  generation_gwh_2014  \\\n",
       "0    229     109           797.063475           805.760000   \n",
       "1    258     174           797.063475           805.760000   \n",
       "2      2      21           797.063475           805.760000   \n",
       "3      5      22           631.777928           617.789264   \n",
       "4      5      22          1668.290000          3035.550000   \n",
       "\n",
       "   generation_gwh_2015  generation_gwh_2016  generation_gwh_2017  \\\n",
       "0            701.02725           716.728350           807.601700   \n",
       "1            701.02725           716.728350           807.601700   \n",
       "2            701.02725           716.728350           807.601700   \n",
       "3            843.74700           886.004428           663.774500   \n",
       "4           5916.37000          6243.000000          5385.579736   \n",
       "\n",
       "   primary_fuels  \n",
       "0              6  \n",
       "1              1  \n",
       "2              7  \n",
       "3              2  \n",
       "4              1  "
      ]
     },
     "execution_count": 377,
     "metadata": {},
     "output_type": "execute_result"
    }
   ],
   "source": [
    "# Adding New value of primary_fuel in the df dataset \n",
    "\n",
    "df['primary_fuels']=primary_fuel\n",
    "df.head()"
   ]
  },
  {
   "cell_type": "markdown",
   "id": "fb80a515",
   "metadata": {},
   "source": [
    "New column named primary_fuels is added."
   ]
  },
  {
   "cell_type": "markdown",
   "id": "8117565a",
   "metadata": {},
   "source": [
    "## Dropping old value of primary_fuel"
   ]
  },
  {
   "cell_type": "code",
   "execution_count": 378,
   "id": "c6e2b79a",
   "metadata": {},
   "outputs": [
    {
     "data": {
      "text/html": [
       "<div>\n",
       "<style scoped>\n",
       "    .dataframe tbody tr th:only-of-type {\n",
       "        vertical-align: middle;\n",
       "    }\n",
       "\n",
       "    .dataframe tbody tr th {\n",
       "        vertical-align: top;\n",
       "    }\n",
       "\n",
       "    .dataframe thead th {\n",
       "        text-align: right;\n",
       "    }\n",
       "</style>\n",
       "<table border=\"1\" class=\"dataframe\">\n",
       "  <thead>\n",
       "    <tr style=\"text-align: right;\">\n",
       "      <th></th>\n",
       "      <th>name</th>\n",
       "      <th>capacity_mw</th>\n",
       "      <th>latitude</th>\n",
       "      <th>longitude</th>\n",
       "      <th>commissioning_year</th>\n",
       "      <th>owner</th>\n",
       "      <th>source</th>\n",
       "      <th>generation_gwh_2013</th>\n",
       "      <th>generation_gwh_2014</th>\n",
       "      <th>generation_gwh_2015</th>\n",
       "      <th>generation_gwh_2016</th>\n",
       "      <th>generation_gwh_2017</th>\n",
       "      <th>primary_fuels</th>\n",
       "    </tr>\n",
       "  </thead>\n",
       "  <tbody>\n",
       "    <tr>\n",
       "      <th>0</th>\n",
       "      <td>0</td>\n",
       "      <td>2.5</td>\n",
       "      <td>28.1839</td>\n",
       "      <td>73.2407</td>\n",
       "      <td>2011.0</td>\n",
       "      <td>229</td>\n",
       "      <td>109</td>\n",
       "      <td>797.063475</td>\n",
       "      <td>805.760000</td>\n",
       "      <td>701.02725</td>\n",
       "      <td>716.728350</td>\n",
       "      <td>807.601700</td>\n",
       "      <td>6</td>\n",
       "    </tr>\n",
       "    <tr>\n",
       "      <th>1</th>\n",
       "      <td>1</td>\n",
       "      <td>98.0</td>\n",
       "      <td>24.7663</td>\n",
       "      <td>74.6090</td>\n",
       "      <td>2000.0</td>\n",
       "      <td>258</td>\n",
       "      <td>174</td>\n",
       "      <td>797.063475</td>\n",
       "      <td>805.760000</td>\n",
       "      <td>701.02725</td>\n",
       "      <td>716.728350</td>\n",
       "      <td>807.601700</td>\n",
       "      <td>1</td>\n",
       "    </tr>\n",
       "    <tr>\n",
       "      <th>2</th>\n",
       "      <td>2</td>\n",
       "      <td>39.2</td>\n",
       "      <td>21.9038</td>\n",
       "      <td>69.3732</td>\n",
       "      <td>2000.0</td>\n",
       "      <td>2</td>\n",
       "      <td>21</td>\n",
       "      <td>797.063475</td>\n",
       "      <td>805.760000</td>\n",
       "      <td>701.02725</td>\n",
       "      <td>716.728350</td>\n",
       "      <td>807.601700</td>\n",
       "      <td>7</td>\n",
       "    </tr>\n",
       "    <tr>\n",
       "      <th>3</th>\n",
       "      <td>3</td>\n",
       "      <td>135.0</td>\n",
       "      <td>23.8712</td>\n",
       "      <td>91.3602</td>\n",
       "      <td>2004.0</td>\n",
       "      <td>5</td>\n",
       "      <td>22</td>\n",
       "      <td>631.777928</td>\n",
       "      <td>617.789264</td>\n",
       "      <td>843.74700</td>\n",
       "      <td>886.004428</td>\n",
       "      <td>663.774500</td>\n",
       "      <td>2</td>\n",
       "    </tr>\n",
       "    <tr>\n",
       "      <th>4</th>\n",
       "      <td>4</td>\n",
       "      <td>1800.0</td>\n",
       "      <td>21.9603</td>\n",
       "      <td>82.4091</td>\n",
       "      <td>2015.0</td>\n",
       "      <td>5</td>\n",
       "      <td>22</td>\n",
       "      <td>1668.290000</td>\n",
       "      <td>3035.550000</td>\n",
       "      <td>5916.37000</td>\n",
       "      <td>6243.000000</td>\n",
       "      <td>5385.579736</td>\n",
       "      <td>1</td>\n",
       "    </tr>\n",
       "  </tbody>\n",
       "</table>\n",
       "</div>"
      ],
      "text/plain": [
       "   name  capacity_mw  latitude  longitude  commissioning_year  owner  source  \\\n",
       "0     0          2.5   28.1839    73.2407              2011.0    229     109   \n",
       "1     1         98.0   24.7663    74.6090              2000.0    258     174   \n",
       "2     2         39.2   21.9038    69.3732              2000.0      2      21   \n",
       "3     3        135.0   23.8712    91.3602              2004.0      5      22   \n",
       "4     4       1800.0   21.9603    82.4091              2015.0      5      22   \n",
       "\n",
       "   generation_gwh_2013  generation_gwh_2014  generation_gwh_2015  \\\n",
       "0           797.063475           805.760000            701.02725   \n",
       "1           797.063475           805.760000            701.02725   \n",
       "2           797.063475           805.760000            701.02725   \n",
       "3           631.777928           617.789264            843.74700   \n",
       "4          1668.290000          3035.550000           5916.37000   \n",
       "\n",
       "   generation_gwh_2016  generation_gwh_2017  primary_fuels  \n",
       "0           716.728350           807.601700              6  \n",
       "1           716.728350           807.601700              1  \n",
       "2           716.728350           807.601700              7  \n",
       "3           886.004428           663.774500              2  \n",
       "4          6243.000000          5385.579736              1  "
      ]
     },
     "execution_count": 378,
     "metadata": {},
     "output_type": "execute_result"
    }
   ],
   "source": [
    "df.drop(['primary_fuel'],axis=1,inplace=True)\n",
    "df.head()"
   ]
  },
  {
   "cell_type": "markdown",
   "id": "82ec50b2",
   "metadata": {},
   "source": [
    "primary_fuels column dropped"
   ]
  },
  {
   "cell_type": "markdown",
   "id": "7170254f",
   "metadata": {},
   "source": [
    "## Describing the dataset"
   ]
  },
  {
   "cell_type": "code",
   "execution_count": 379,
   "id": "22d8c062",
   "metadata": {},
   "outputs": [
    {
     "data": {
      "text/html": [
       "<div>\n",
       "<style scoped>\n",
       "    .dataframe tbody tr th:only-of-type {\n",
       "        vertical-align: middle;\n",
       "    }\n",
       "\n",
       "    .dataframe tbody tr th {\n",
       "        vertical-align: top;\n",
       "    }\n",
       "\n",
       "    .dataframe thead th {\n",
       "        text-align: right;\n",
       "    }\n",
       "</style>\n",
       "<table border=\"1\" class=\"dataframe\">\n",
       "  <thead>\n",
       "    <tr style=\"text-align: right;\">\n",
       "      <th></th>\n",
       "      <th>name</th>\n",
       "      <th>capacity_mw</th>\n",
       "      <th>latitude</th>\n",
       "      <th>longitude</th>\n",
       "      <th>commissioning_year</th>\n",
       "      <th>owner</th>\n",
       "      <th>source</th>\n",
       "      <th>generation_gwh_2013</th>\n",
       "      <th>generation_gwh_2014</th>\n",
       "      <th>generation_gwh_2015</th>\n",
       "      <th>generation_gwh_2016</th>\n",
       "      <th>generation_gwh_2017</th>\n",
       "      <th>primary_fuels</th>\n",
       "    </tr>\n",
       "  </thead>\n",
       "  <tbody>\n",
       "    <tr>\n",
       "      <th>count</th>\n",
       "      <td>908.00000</td>\n",
       "      <td>908.000000</td>\n",
       "      <td>908.000000</td>\n",
       "      <td>908.000000</td>\n",
       "      <td>908.000000</td>\n",
       "      <td>908.000000</td>\n",
       "      <td>908.000000</td>\n",
       "      <td>908.000000</td>\n",
       "      <td>908.000000</td>\n",
       "      <td>908.000000</td>\n",
       "      <td>908.000000</td>\n",
       "      <td>908.000000</td>\n",
       "      <td>908.000000</td>\n",
       "    </tr>\n",
       "    <tr>\n",
       "      <th>mean</th>\n",
       "      <td>453.50000</td>\n",
       "      <td>321.046378</td>\n",
       "      <td>21.225679</td>\n",
       "      <td>77.447848</td>\n",
       "      <td>1998.183921</td>\n",
       "      <td>56.113436</td>\n",
       "      <td>43.823789</td>\n",
       "      <td>1434.383254</td>\n",
       "      <td>1518.830440</td>\n",
       "      <td>1502.838018</td>\n",
       "      <td>1552.807503</td>\n",
       "      <td>1648.790766</td>\n",
       "      <td>3.205947</td>\n",
       "    </tr>\n",
       "    <tr>\n",
       "      <th>std</th>\n",
       "      <td>262.26132</td>\n",
       "      <td>580.221767</td>\n",
       "      <td>6.089450</td>\n",
       "      <td>4.781201</td>\n",
       "      <td>13.085938</td>\n",
       "      <td>82.501086</td>\n",
       "      <td>44.624092</td>\n",
       "      <td>2575.982982</td>\n",
       "      <td>2783.474774</td>\n",
       "      <td>2985.277178</td>\n",
       "      <td>3006.880849</td>\n",
       "      <td>3047.577626</td>\n",
       "      <td>2.281339</td>\n",
       "    </tr>\n",
       "    <tr>\n",
       "      <th>min</th>\n",
       "      <td>0.00000</td>\n",
       "      <td>0.000000</td>\n",
       "      <td>8.168900</td>\n",
       "      <td>68.644700</td>\n",
       "      <td>1927.000000</td>\n",
       "      <td>0.000000</td>\n",
       "      <td>0.000000</td>\n",
       "      <td>0.000000</td>\n",
       "      <td>0.000000</td>\n",
       "      <td>0.000000</td>\n",
       "      <td>0.000000</td>\n",
       "      <td>0.000000</td>\n",
       "      <td>0.000000</td>\n",
       "    </tr>\n",
       "    <tr>\n",
       "      <th>25%</th>\n",
       "      <td>226.75000</td>\n",
       "      <td>16.837500</td>\n",
       "      <td>17.057825</td>\n",
       "      <td>74.390250</td>\n",
       "      <td>1997.000000</td>\n",
       "      <td>5.000000</td>\n",
       "      <td>22.000000</td>\n",
       "      <td>797.063475</td>\n",
       "      <td>805.760000</td>\n",
       "      <td>701.027250</td>\n",
       "      <td>716.728350</td>\n",
       "      <td>807.601700</td>\n",
       "      <td>1.000000</td>\n",
       "    </tr>\n",
       "    <tr>\n",
       "      <th>50%</th>\n",
       "      <td>453.50000</td>\n",
       "      <td>60.000000</td>\n",
       "      <td>21.778300</td>\n",
       "      <td>76.978950</td>\n",
       "      <td>2000.000000</td>\n",
       "      <td>5.000000</td>\n",
       "      <td>22.000000</td>\n",
       "      <td>797.063475</td>\n",
       "      <td>805.760000</td>\n",
       "      <td>701.027250</td>\n",
       "      <td>716.728350</td>\n",
       "      <td>807.601700</td>\n",
       "      <td>3.000000</td>\n",
       "    </tr>\n",
       "    <tr>\n",
       "      <th>75%</th>\n",
       "      <td>680.25000</td>\n",
       "      <td>388.125000</td>\n",
       "      <td>25.183775</td>\n",
       "      <td>79.211600</td>\n",
       "      <td>2003.000000</td>\n",
       "      <td>95.250000</td>\n",
       "      <td>29.250000</td>\n",
       "      <td>797.063475</td>\n",
       "      <td>805.760000</td>\n",
       "      <td>701.027250</td>\n",
       "      <td>716.728350</td>\n",
       "      <td>807.601700</td>\n",
       "      <td>6.000000</td>\n",
       "    </tr>\n",
       "    <tr>\n",
       "      <th>max</th>\n",
       "      <td>907.00000</td>\n",
       "      <td>4760.000000</td>\n",
       "      <td>34.649000</td>\n",
       "      <td>95.408000</td>\n",
       "      <td>2018.000000</td>\n",
       "      <td>279.000000</td>\n",
       "      <td>190.000000</td>\n",
       "      <td>27586.200000</td>\n",
       "      <td>28127.000000</td>\n",
       "      <td>30539.000000</td>\n",
       "      <td>30015.000000</td>\n",
       "      <td>35116.000000</td>\n",
       "      <td>7.000000</td>\n",
       "    </tr>\n",
       "  </tbody>\n",
       "</table>\n",
       "</div>"
      ],
      "text/plain": [
       "            name  capacity_mw    latitude   longitude  commissioning_year  \\\n",
       "count  908.00000   908.000000  908.000000  908.000000          908.000000   \n",
       "mean   453.50000   321.046378   21.225679   77.447848         1998.183921   \n",
       "std    262.26132   580.221767    6.089450    4.781201           13.085938   \n",
       "min      0.00000     0.000000    8.168900   68.644700         1927.000000   \n",
       "25%    226.75000    16.837500   17.057825   74.390250         1997.000000   \n",
       "50%    453.50000    60.000000   21.778300   76.978950         2000.000000   \n",
       "75%    680.25000   388.125000   25.183775   79.211600         2003.000000   \n",
       "max    907.00000  4760.000000   34.649000   95.408000         2018.000000   \n",
       "\n",
       "            owner      source  generation_gwh_2013  generation_gwh_2014  \\\n",
       "count  908.000000  908.000000           908.000000           908.000000   \n",
       "mean    56.113436   43.823789          1434.383254          1518.830440   \n",
       "std     82.501086   44.624092          2575.982982          2783.474774   \n",
       "min      0.000000    0.000000             0.000000             0.000000   \n",
       "25%      5.000000   22.000000           797.063475           805.760000   \n",
       "50%      5.000000   22.000000           797.063475           805.760000   \n",
       "75%     95.250000   29.250000           797.063475           805.760000   \n",
       "max    279.000000  190.000000         27586.200000         28127.000000   \n",
       "\n",
       "       generation_gwh_2015  generation_gwh_2016  generation_gwh_2017  \\\n",
       "count           908.000000           908.000000           908.000000   \n",
       "mean           1502.838018          1552.807503          1648.790766   \n",
       "std            2985.277178          3006.880849          3047.577626   \n",
       "min               0.000000             0.000000             0.000000   \n",
       "25%             701.027250           716.728350           807.601700   \n",
       "50%             701.027250           716.728350           807.601700   \n",
       "75%             701.027250           716.728350           807.601700   \n",
       "max           30539.000000         30015.000000         35116.000000   \n",
       "\n",
       "       primary_fuels  \n",
       "count     908.000000  \n",
       "mean        3.205947  \n",
       "std         2.281339  \n",
       "min         0.000000  \n",
       "25%         1.000000  \n",
       "50%         3.000000  \n",
       "75%         6.000000  \n",
       "max         7.000000  "
      ]
     },
     "execution_count": 379,
     "metadata": {},
     "output_type": "execute_result"
    }
   ],
   "source": [
    "df.describe()"
   ]
  },
  {
   "cell_type": "markdown",
   "id": "c5921f07",
   "metadata": {},
   "source": [
    "Key Observations:\n",
    "\n",
    "    1. Mean and Median: Values of mean and median have small differences\n",
    "    2. 75% percentile and max: capacity_mw,generation_gwh_2013, generation_gwh_2014, generation_gwh_2015, generation_gwh_2016 and generation_gwh_2013 have large difference so Outliers are present.\n",
    "    3. Standard deviation is less than mean  in name, capacity_mw, primary_fuel, so high peak data in here\n",
    "    4. Standard deviation is more than mean  in name, capacity_mw, primary_fuel, so spreaded data in here\n"
   ]
  },
  {
   "cell_type": "code",
   "execution_count": 380,
   "id": "899c6708",
   "metadata": {
    "scrolled": true
   },
   "outputs": [
    {
     "data": {
      "text/plain": [
       "<AxesSubplot:>"
      ]
     },
     "execution_count": 380,
     "metadata": {},
     "output_type": "execute_result"
    },
    {
     "data": {
      "image/png": "[encoded data removed]",
      "text/plain": [
       "<Figure size 720x504 with 2 Axes>"
      ]
     },
     "metadata": {
      "needs_background": "light"
     },
     "output_type": "display_data"
    }
   ],
   "source": [
    "import matplotlib.pyplot as plt\n",
    "plt.figure(figsize=(10,7))\n",
    "sns.heatmap(df.describe(),annot=True,linewidths=0.1,linecolor=\"Green\",fmt=\"0.2f\")"
   ]
  },
  {
   "cell_type": "markdown",
   "id": "9c37e5b8",
   "metadata": {},
   "source": [
    "Heatmap representation of dataset description"
   ]
  },
  {
   "cell_type": "markdown",
   "id": "07453855",
   "metadata": {},
   "source": [
    "## Outliers:"
   ]
  },
  {
   "cell_type": "code",
   "execution_count": 381,
   "id": "82d73f20",
   "metadata": {},
   "outputs": [
    {
     "data": {
      "text/plain": [
       "name                       AxesSubplot(0.125,0.71587;0.110714x0.16413)\n",
       "capacity_mw             AxesSubplot(0.257857,0.71587;0.110714x0.16413)\n",
       "latitude                AxesSubplot(0.390714,0.71587;0.110714x0.16413)\n",
       "longitude               AxesSubplot(0.523571,0.71587;0.110714x0.16413)\n",
       "commissioning_year      AxesSubplot(0.656429,0.71587;0.110714x0.16413)\n",
       "owner                   AxesSubplot(0.789286,0.71587;0.110714x0.16413)\n",
       "source                    AxesSubplot(0.125,0.518913;0.110714x0.16413)\n",
       "generation_gwh_2013    AxesSubplot(0.257857,0.518913;0.110714x0.16413)\n",
       "generation_gwh_2014    AxesSubplot(0.390714,0.518913;0.110714x0.16413)\n",
       "generation_gwh_2015    AxesSubplot(0.523571,0.518913;0.110714x0.16413)\n",
       "generation_gwh_2016    AxesSubplot(0.656429,0.518913;0.110714x0.16413)\n",
       "generation_gwh_2017    AxesSubplot(0.789286,0.518913;0.110714x0.16413)\n",
       "primary_fuels             AxesSubplot(0.125,0.321957;0.110714x0.16413)\n",
       "dtype: object"
      ]
     },
     "execution_count": 381,
     "metadata": {},
     "output_type": "execute_result"
    },
    {
     "data": {
      "image/png": "[encoded data removed]",
      "text/plain": [
       "<Figure size 864x864 with 24 Axes>"
      ]
     },
     "metadata": {
      "needs_background": "light"
     },
     "output_type": "display_data"
    }
   ],
   "source": [
    "#Outliers:\n",
    "\n",
    "df.plot(kind='box',subplots=True,layout=(4,6),figsize=(12,12))"
   ]
  },
  {
   "cell_type": "markdown",
   "id": "a8ab7049",
   "metadata": {},
   "source": [
    "Except for name, latitude and primary_fuel rest all columns have outliers."
   ]
  },
  {
   "cell_type": "code",
   "execution_count": 382,
   "id": "3f233041",
   "metadata": {},
   "outputs": [
    {
     "data": {
      "text/plain": [
       "(array([ 15,  15,  15,  15,  72,  81, 144, 144, 144, 144, 144, 144, 159,\n",
       "        159, 180, 184, 192, 210, 210, 210, 210, 210, 210, 222, 240, 245,\n",
       "        300, 309, 309, 309, 309, 309, 309, 322, 324, 334, 341, 343, 346,\n",
       "        361, 364, 365, 365, 365, 365, 365, 365, 372, 376, 389, 417, 428,\n",
       "        445, 455, 479, 483, 485, 494, 494, 494, 494, 494, 494, 495, 495,\n",
       "        495, 495, 495, 495, 500, 520, 530, 533, 533, 539, 542, 547, 575,\n",
       "        584, 593, 602, 622, 624, 639, 649, 649, 649, 649, 649, 649, 658,\n",
       "        658, 658, 658, 658, 658, 662, 670, 690, 696, 696, 696, 696, 696,\n",
       "        707, 710, 722, 722, 722, 722, 722, 725, 725, 725, 725, 725, 727,\n",
       "        727, 727, 727, 727, 727, 729, 787, 787, 787, 787, 787, 787, 789,\n",
       "        808, 809, 809, 809, 809, 809, 809, 819, 833, 848, 849, 849, 871,\n",
       "        872, 880, 881, 881, 881, 881, 881, 881, 896, 901], dtype=int64),\n",
       " array([ 1,  9, 10, 11,  6,  6,  1,  7,  8,  9, 10, 11,  7,  8,  3,  3,  6,\n",
       "         1,  7,  8,  9, 10, 11,  4,  3,  3,  6,  1,  7,  8,  9, 10, 11,  6,\n",
       "         3,  3,  3,  4,  6,  3,  1,  1,  7,  8,  9, 10, 11,  4,  1,  3,  3,\n",
       "         3,  4,  4,  4,  1,  4,  1,  7,  8,  9, 10, 11,  1,  7,  8,  9, 10,\n",
       "        11,  3,  3,  3,  7,  8,  4,  4,  3,  4,  4,  4,  4,  4,  8,  3,  1,\n",
       "         7,  8,  9, 10, 11,  1,  7,  8,  9, 10, 11,  6,  6,  6,  1,  8,  9,\n",
       "        10, 11,  4,  4,  7,  8,  9, 10, 11,  7,  8,  9, 10, 11,  1,  7,  8,\n",
       "         9, 10, 11,  4,  1,  7,  8,  9, 10, 11,  1,  4,  1,  7,  8,  9, 10,\n",
       "        11,  3,  6,  3,  3,  4,  6,  6,  6,  1,  7,  8,  9, 10, 11,  6,  6],\n",
       "       dtype=int64))"
      ]
     },
     "execution_count": 382,
     "metadata": {},
     "output_type": "execute_result"
    }
   ],
   "source": [
    "#zscore for outlier removal\n",
    "\n",
    "from scipy.stats import zscore\n",
    "import numpy as np\n",
    "z = np.abs(zscore(df))\n",
    "threshold=3\n",
    "np.where(z>3)"
   ]
  },
  {
   "cell_type": "code",
   "execution_count": 383,
   "id": "8de0b4c9",
   "metadata": {},
   "outputs": [],
   "source": [
    "#removing value greater than threshold value \n",
    "\n",
    "df_new=df[(z<3).all(axis=1)]\n",
    "df= df_new"
   ]
  },
  {
   "cell_type": "markdown",
   "id": "1af5f9a1",
   "metadata": {},
   "source": [
    "Outliers removed."
   ]
  },
  {
   "cell_type": "code",
   "execution_count": 384,
   "id": "e451b875",
   "metadata": {},
   "outputs": [],
   "source": [
    "df=df_new"
   ]
  },
  {
   "cell_type": "code",
   "execution_count": 385,
   "id": "47f104f3",
   "metadata": {},
   "outputs": [
    {
     "data": {
      "text/plain": [
       "(833, 13)"
      ]
     },
     "execution_count": 385,
     "metadata": {},
     "output_type": "execute_result"
    }
   ],
   "source": [
    "df.shape"
   ]
  },
  {
   "cell_type": "markdown",
   "id": "27378048",
   "metadata": {},
   "source": [
    "Dataset has 833 Rows and 13 Columns"
   ]
  },
  {
   "cell_type": "markdown",
   "id": "dc792dc0",
   "metadata": {},
   "source": [
    "#### Percentage Loss of data"
   ]
  },
  {
   "cell_type": "code",
   "execution_count": 386,
   "id": "26ce6708",
   "metadata": {},
   "outputs": [
    {
     "data": {
      "text/plain": [
       "8.259911894273127"
      ]
     },
     "execution_count": 386,
     "metadata": {},
     "output_type": "execute_result"
    }
   ],
   "source": [
    "Data_loss=((908-833)/908)*100\n",
    "Data_loss"
   ]
  },
  {
   "cell_type": "markdown",
   "id": "91062951",
   "metadata": {},
   "source": [
    "8.25% data lost"
   ]
  },
  {
   "cell_type": "markdown",
   "id": "e3c38154",
   "metadata": {},
   "source": [
    "## Correlation of the columns with the target columns:"
   ]
  },
  {
   "cell_type": "code",
   "execution_count": 387,
   "id": "6b7f897f",
   "metadata": {},
   "outputs": [
    {
     "data": {
      "text/html": [
       "<div>\n",
       "<style scoped>\n",
       "    .dataframe tbody tr th:only-of-type {\n",
       "        vertical-align: middle;\n",
       "    }\n",
       "\n",
       "    .dataframe tbody tr th {\n",
       "        vertical-align: top;\n",
       "    }\n",
       "\n",
       "    .dataframe thead th {\n",
       "        text-align: right;\n",
       "    }\n",
       "</style>\n",
       "<table border=\"1\" class=\"dataframe\">\n",
       "  <thead>\n",
       "    <tr style=\"text-align: right;\">\n",
       "      <th></th>\n",
       "      <th>name</th>\n",
       "      <th>capacity_mw</th>\n",
       "      <th>latitude</th>\n",
       "      <th>longitude</th>\n",
       "      <th>commissioning_year</th>\n",
       "      <th>owner</th>\n",
       "      <th>source</th>\n",
       "      <th>generation_gwh_2013</th>\n",
       "      <th>generation_gwh_2014</th>\n",
       "      <th>generation_gwh_2015</th>\n",
       "      <th>generation_gwh_2016</th>\n",
       "      <th>generation_gwh_2017</th>\n",
       "      <th>primary_fuels</th>\n",
       "    </tr>\n",
       "  </thead>\n",
       "  <tbody>\n",
       "    <tr>\n",
       "      <th>name</th>\n",
       "      <td>1.000000</td>\n",
       "      <td>0.040700</td>\n",
       "      <td>-0.142994</td>\n",
       "      <td>0.017175</td>\n",
       "      <td>-0.019305</td>\n",
       "      <td>0.100294</td>\n",
       "      <td>-0.033480</td>\n",
       "      <td>0.072298</td>\n",
       "      <td>0.066375</td>\n",
       "      <td>0.033846</td>\n",
       "      <td>0.029092</td>\n",
       "      <td>0.038267</td>\n",
       "      <td>0.047316</td>\n",
       "    </tr>\n",
       "    <tr>\n",
       "      <th>capacity_mw</th>\n",
       "      <td>0.040700</td>\n",
       "      <td>1.000000</td>\n",
       "      <td>0.052559</td>\n",
       "      <td>0.268581</td>\n",
       "      <td>0.235206</td>\n",
       "      <td>-0.362026</td>\n",
       "      <td>-0.275222</td>\n",
       "      <td>0.614205</td>\n",
       "      <td>0.654857</td>\n",
       "      <td>0.709726</td>\n",
       "      <td>0.780728</td>\n",
       "      <td>0.796019</td>\n",
       "      <td>-0.409925</td>\n",
       "    </tr>\n",
       "    <tr>\n",
       "      <th>latitude</th>\n",
       "      <td>-0.142994</td>\n",
       "      <td>0.052559</td>\n",
       "      <td>1.000000</td>\n",
       "      <td>-0.025765</td>\n",
       "      <td>0.087554</td>\n",
       "      <td>-0.069320</td>\n",
       "      <td>0.070210</td>\n",
       "      <td>0.073655</td>\n",
       "      <td>0.080874</td>\n",
       "      <td>0.070209</td>\n",
       "      <td>0.055997</td>\n",
       "      <td>0.071932</td>\n",
       "      <td>-0.014003</td>\n",
       "    </tr>\n",
       "    <tr>\n",
       "      <th>longitude</th>\n",
       "      <td>0.017175</td>\n",
       "      <td>0.268581</td>\n",
       "      <td>-0.025765</td>\n",
       "      <td>1.000000</td>\n",
       "      <td>0.108148</td>\n",
       "      <td>-0.306095</td>\n",
       "      <td>-0.247724</td>\n",
       "      <td>0.121098</td>\n",
       "      <td>0.121869</td>\n",
       "      <td>0.156906</td>\n",
       "      <td>0.200125</td>\n",
       "      <td>0.201602</td>\n",
       "      <td>-0.395029</td>\n",
       "    </tr>\n",
       "    <tr>\n",
       "      <th>commissioning_year</th>\n",
       "      <td>-0.019305</td>\n",
       "      <td>0.235206</td>\n",
       "      <td>0.087554</td>\n",
       "      <td>0.108148</td>\n",
       "      <td>1.000000</td>\n",
       "      <td>0.064125</td>\n",
       "      <td>0.060977</td>\n",
       "      <td>0.014840</td>\n",
       "      <td>0.067899</td>\n",
       "      <td>0.139036</td>\n",
       "      <td>0.208011</td>\n",
       "      <td>0.227769</td>\n",
       "      <td>-0.082634</td>\n",
       "    </tr>\n",
       "    <tr>\n",
       "      <th>owner</th>\n",
       "      <td>0.100294</td>\n",
       "      <td>-0.362026</td>\n",
       "      <td>-0.069320</td>\n",
       "      <td>-0.306095</td>\n",
       "      <td>0.064125</td>\n",
       "      <td>1.000000</td>\n",
       "      <td>0.730382</td>\n",
       "      <td>-0.170952</td>\n",
       "      <td>-0.177423</td>\n",
       "      <td>-0.197095</td>\n",
       "      <td>-0.201502</td>\n",
       "      <td>-0.195127</td>\n",
       "      <td>0.307902</td>\n",
       "    </tr>\n",
       "    <tr>\n",
       "      <th>source</th>\n",
       "      <td>-0.033480</td>\n",
       "      <td>-0.275222</td>\n",
       "      <td>0.070210</td>\n",
       "      <td>-0.247724</td>\n",
       "      <td>0.060977</td>\n",
       "      <td>0.730382</td>\n",
       "      <td>1.000000</td>\n",
       "      <td>-0.132757</td>\n",
       "      <td>-0.137782</td>\n",
       "      <td>-0.153058</td>\n",
       "      <td>-0.156481</td>\n",
       "      <td>-0.151530</td>\n",
       "      <td>0.063228</td>\n",
       "    </tr>\n",
       "    <tr>\n",
       "      <th>generation_gwh_2013</th>\n",
       "      <td>0.072298</td>\n",
       "      <td>0.614205</td>\n",
       "      <td>0.073655</td>\n",
       "      <td>0.121098</td>\n",
       "      <td>0.014840</td>\n",
       "      <td>-0.170952</td>\n",
       "      <td>-0.132757</td>\n",
       "      <td>1.000000</td>\n",
       "      <td>0.946462</td>\n",
       "      <td>0.849760</td>\n",
       "      <td>0.736449</td>\n",
       "      <td>0.678691</td>\n",
       "      <td>-0.238827</td>\n",
       "    </tr>\n",
       "    <tr>\n",
       "      <th>generation_gwh_2014</th>\n",
       "      <td>0.066375</td>\n",
       "      <td>0.654857</td>\n",
       "      <td>0.080874</td>\n",
       "      <td>0.121869</td>\n",
       "      <td>0.067899</td>\n",
       "      <td>-0.177423</td>\n",
       "      <td>-0.137782</td>\n",
       "      <td>0.946462</td>\n",
       "      <td>1.000000</td>\n",
       "      <td>0.912394</td>\n",
       "      <td>0.802405</td>\n",
       "      <td>0.753993</td>\n",
       "      <td>-0.254671</td>\n",
       "    </tr>\n",
       "    <tr>\n",
       "      <th>generation_gwh_2015</th>\n",
       "      <td>0.033846</td>\n",
       "      <td>0.709726</td>\n",
       "      <td>0.070209</td>\n",
       "      <td>0.156906</td>\n",
       "      <td>0.139036</td>\n",
       "      <td>-0.197095</td>\n",
       "      <td>-0.153058</td>\n",
       "      <td>0.849760</td>\n",
       "      <td>0.912394</td>\n",
       "      <td>1.000000</td>\n",
       "      <td>0.908372</td>\n",
       "      <td>0.835927</td>\n",
       "      <td>-0.281603</td>\n",
       "    </tr>\n",
       "    <tr>\n",
       "      <th>generation_gwh_2016</th>\n",
       "      <td>0.029092</td>\n",
       "      <td>0.780728</td>\n",
       "      <td>0.055997</td>\n",
       "      <td>0.200125</td>\n",
       "      <td>0.208011</td>\n",
       "      <td>-0.201502</td>\n",
       "      <td>-0.156481</td>\n",
       "      <td>0.736449</td>\n",
       "      <td>0.802405</td>\n",
       "      <td>0.908372</td>\n",
       "      <td>1.000000</td>\n",
       "      <td>0.936753</td>\n",
       "      <td>-0.293071</td>\n",
       "    </tr>\n",
       "    <tr>\n",
       "      <th>generation_gwh_2017</th>\n",
       "      <td>0.038267</td>\n",
       "      <td>0.796019</td>\n",
       "      <td>0.071932</td>\n",
       "      <td>0.201602</td>\n",
       "      <td>0.227769</td>\n",
       "      <td>-0.195127</td>\n",
       "      <td>-0.151530</td>\n",
       "      <td>0.678691</td>\n",
       "      <td>0.753993</td>\n",
       "      <td>0.835927</td>\n",
       "      <td>0.936753</td>\n",
       "      <td>1.000000</td>\n",
       "      <td>-0.291508</td>\n",
       "    </tr>\n",
       "    <tr>\n",
       "      <th>primary_fuels</th>\n",
       "      <td>0.047316</td>\n",
       "      <td>-0.409925</td>\n",
       "      <td>-0.014003</td>\n",
       "      <td>-0.395029</td>\n",
       "      <td>-0.082634</td>\n",
       "      <td>0.307902</td>\n",
       "      <td>0.063228</td>\n",
       "      <td>-0.238827</td>\n",
       "      <td>-0.254671</td>\n",
       "      <td>-0.281603</td>\n",
       "      <td>-0.293071</td>\n",
       "      <td>-0.291508</td>\n",
       "      <td>1.000000</td>\n",
       "    </tr>\n",
       "  </tbody>\n",
       "</table>\n",
       "</div>"
      ],
      "text/plain": [
       "                         name  capacity_mw  latitude  longitude  \\\n",
       "name                 1.000000     0.040700 -0.142994   0.017175   \n",
       "capacity_mw          0.040700     1.000000  0.052559   0.268581   \n",
       "latitude            -0.142994     0.052559  1.000000  -0.025765   \n",
       "longitude            0.017175     0.268581 -0.025765   1.000000   \n",
       "commissioning_year  -0.019305     0.235206  0.087554   0.108148   \n",
       "owner                0.100294    -0.362026 -0.069320  -0.306095   \n",
       "source              -0.033480    -0.275222  0.070210  -0.247724   \n",
       "generation_gwh_2013  0.072298     0.614205  0.073655   0.121098   \n",
       "generation_gwh_2014  0.066375     0.654857  0.080874   0.121869   \n",
       "generation_gwh_2015  0.033846     0.709726  0.070209   0.156906   \n",
       "generation_gwh_2016  0.029092     0.780728  0.055997   0.200125   \n",
       "generation_gwh_2017  0.038267     0.796019  0.071932   0.201602   \n",
       "primary_fuels        0.047316    -0.409925 -0.014003  -0.395029   \n",
       "\n",
       "                     commissioning_year     owner    source  \\\n",
       "name                          -0.019305  0.100294 -0.033480   \n",
       "capacity_mw                    0.235206 -0.362026 -0.275222   \n",
       "latitude                       0.087554 -0.069320  0.070210   \n",
       "longitude                      0.108148 -0.306095 -0.247724   \n",
       "commissioning_year             1.000000  0.064125  0.060977   \n",
       "owner                          0.064125  1.000000  0.730382   \n",
       "source                         0.060977  0.730382  1.000000   \n",
       "generation_gwh_2013            0.014840 -0.170952 -0.132757   \n",
       "generation_gwh_2014            0.067899 -0.177423 -0.137782   \n",
       "generation_gwh_2015            0.139036 -0.197095 -0.153058   \n",
       "generation_gwh_2016            0.208011 -0.201502 -0.156481   \n",
       "generation_gwh_2017            0.227769 -0.195127 -0.151530   \n",
       "primary_fuels                 -0.082634  0.307902  0.063228   \n",
       "\n",
       "                     generation_gwh_2013  generation_gwh_2014  \\\n",
       "name                            0.072298             0.066375   \n",
       "capacity_mw                     0.614205             0.654857   \n",
       "latitude                        0.073655             0.080874   \n",
       "longitude                       0.121098             0.121869   \n",
       "commissioning_year              0.014840             0.067899   \n",
       "owner                          -0.170952            -0.177423   \n",
       "source                         -0.132757            -0.137782   \n",
       "generation_gwh_2013             1.000000             0.946462   \n",
       "generation_gwh_2014             0.946462             1.000000   \n",
       "generation_gwh_2015             0.849760             0.912394   \n",
       "generation_gwh_2016             0.736449             0.802405   \n",
       "generation_gwh_2017             0.678691             0.753993   \n",
       "primary_fuels                  -0.238827            -0.254671   \n",
       "\n",
       "                     generation_gwh_2015  generation_gwh_2016  \\\n",
       "name                            0.033846             0.029092   \n",
       "capacity_mw                     0.709726             0.780728   \n",
       "latitude                        0.070209             0.055997   \n",
       "longitude                       0.156906             0.200125   \n",
       "commissioning_year              0.139036             0.208011   \n",
       "owner                          -0.197095            -0.201502   \n",
       "source                         -0.153058            -0.156481   \n",
       "generation_gwh_2013             0.849760             0.736449   \n",
       "generation_gwh_2014             0.912394             0.802405   \n",
       "generation_gwh_2015             1.000000             0.908372   \n",
       "generation_gwh_2016             0.908372             1.000000   \n",
       "generation_gwh_2017             0.835927             0.936753   \n",
       "primary_fuels                  -0.281603            -0.293071   \n",
       "\n",
       "                     generation_gwh_2017  primary_fuels  \n",
       "name                            0.038267       0.047316  \n",
       "capacity_mw                     0.796019      -0.409925  \n",
       "latitude                        0.071932      -0.014003  \n",
       "longitude                       0.201602      -0.395029  \n",
       "commissioning_year              0.227769      -0.082634  \n",
       "owner                          -0.195127       0.307902  \n",
       "source                         -0.151530       0.063228  \n",
       "generation_gwh_2013             0.678691      -0.238827  \n",
       "generation_gwh_2014             0.753993      -0.254671  \n",
       "generation_gwh_2015             0.835927      -0.281603  \n",
       "generation_gwh_2016             0.936753      -0.293071  \n",
       "generation_gwh_2017             1.000000      -0.291508  \n",
       "primary_fuels                  -0.291508       1.000000  "
      ]
     },
     "execution_count": 387,
     "metadata": {},
     "output_type": "execute_result"
    }
   ],
   "source": [
    "df.corr()"
   ]
  },
  {
   "cell_type": "markdown",
   "id": "adc2eff4",
   "metadata": {},
   "source": [
    "correlation of input with target variables"
   ]
  },
  {
   "cell_type": "code",
   "execution_count": 388,
   "id": "ab69d268",
   "metadata": {},
   "outputs": [
    {
     "data": {
      "text/plain": [
       "<AxesSubplot:>"
      ]
     },
     "execution_count": 388,
     "metadata": {},
     "output_type": "execute_result"
    },
    {
     "data": {
      "image/png": "[encoded data removed]",
      "text/plain": [
       "<Figure size 1152x576 with 2 Axes>"
      ]
     },
     "metadata": {
      "needs_background": "light"
     },
     "output_type": "display_data"
    }
   ],
   "source": [
    "plt.figure(figsize=(16,8))\n",
    "sns.heatmap(df.corr(),annot=True,linewidths=0.1,linecolor=\"Black\",fmt=\"0.2f\")"
   ]
  },
  {
   "cell_type": "markdown",
   "id": "e037ccd0",
   "metadata": {},
   "source": [
    "Key Observation:\n",
    " 1. primary_fuels have positive correlation with owner and negative correlation with capacity_mw.\n",
    " 2. owner has negative correlation with capacity_mw and positive correlation with source.\n",
    " 3. capacity_mw have positive correlation with generation_gwh_2017 and negative correlation with owner.\n",
    " 4. generation_gwh_2017 has negative correlation with primary_fuels and positive correlation with Income.\n",
    " 5. Multicollinearity exist"
   ]
  },
  {
   "cell_type": "markdown",
   "id": "67086366",
   "metadata": {},
   "source": [
    "## Separating Target and feature variables"
   ]
  },
  {
   "cell_type": "code",
   "execution_count": 389,
   "id": "7e2cb125",
   "metadata": {},
   "outputs": [],
   "source": [
    "x1 = df.drop(\"capacity_mw\",axis=1)\n",
    "y1 = df[\"capacity_mw\"]\n",
    "\n",
    "x2 = df.drop(\"primary_fuels\",axis=1)\n",
    "y2 = df[\"primary_fuels\"]"
   ]
  },
  {
   "cell_type": "markdown",
   "id": "54a464ba",
   "metadata": {},
   "source": [
    "x1 and y1 : regression\n",
    "x2 and yr: Classification"
   ]
  },
  {
   "cell_type": "markdown",
   "id": "127d35ed",
   "metadata": {},
   "source": [
    "### Multicollinearity removal using VIF"
   ]
  },
  {
   "cell_type": "code",
   "execution_count": 390,
   "id": "445114b7",
   "metadata": {},
   "outputs": [],
   "source": [
    "from statsmodels.stats.outliers_influence import variance_inflation_factor"
   ]
  },
  {
   "cell_type": "code",
   "execution_count": 391,
   "id": "3f04744e",
   "metadata": {},
   "outputs": [],
   "source": [
    "def vif_calc1():\n",
    "    vif1=pd.DataFrame()\n",
    "    vif1[\"VIF Factor\"]=[variance_inflation_factor(x1.values,i) for i in range(x1.shape[1])]\n",
    "    vif1[\"features\"]=x1.columns\n",
    "    print(vif1)\n",
    "    \n",
    "def vif_calc2():\n",
    "    vif2=pd.DataFrame()\n",
    "    vif2[\"VIF Factor\"]=[variance_inflation_factor(x2.values,i) for i in range(x2.shape[1])]\n",
    "    vif2[\"features\"]=x2.columns\n",
    "    print(vif2)"
   ]
  },
  {
   "cell_type": "markdown",
   "id": "dc7090d7",
   "metadata": {},
   "source": [
    "VIF technique is used to remove Multicollinearity."
   ]
  },
  {
   "cell_type": "code",
   "execution_count": 392,
   "id": "6283130b",
   "metadata": {},
   "outputs": [
    {
     "name": "stdout",
     "output_type": "stream",
     "text": [
      "    VIF Factor             features\n",
      "0     4.128847                 name\n",
      "1    13.788222             latitude\n",
      "2   431.582867            longitude\n",
      "3   486.571551   commissioning_year\n",
      "4     3.982046                owner\n",
      "5     4.996419               source\n",
      "6    16.838273  generation_gwh_2013\n",
      "7    27.894238  generation_gwh_2014\n",
      "8    20.336301  generation_gwh_2015\n",
      "9    23.506469  generation_gwh_2016\n",
      "10   13.977170  generation_gwh_2017\n",
      "11    4.293958        primary_fuels\n"
     ]
    }
   ],
   "source": [
    "vif_calc1()"
   ]
  },
  {
   "cell_type": "markdown",
   "id": "0f1cee99",
   "metadata": {},
   "source": [
    "longitude, commissioning_year,generation_gwh_2014,generation_gwh_2016,latitude,generation_gwh_2013 have high vif value"
   ]
  },
  {
   "cell_type": "code",
   "execution_count": 393,
   "id": "253e3526",
   "metadata": {},
   "outputs": [
    {
     "name": "stdout",
     "output_type": "stream",
     "text": [
      "    VIF Factor             features\n",
      "0     4.136001                 name\n",
      "1     4.620558          capacity_mw\n",
      "2    13.743810             latitude\n",
      "3   388.238155            longitude\n",
      "4   415.817627   commissioning_year\n",
      "5     3.761150                owner\n",
      "6     4.582828               source\n",
      "7    16.961957  generation_gwh_2013\n",
      "8    27.900881  generation_gwh_2014\n",
      "9    20.342576  generation_gwh_2015\n",
      "10   23.795501  generation_gwh_2016\n",
      "11   15.364645  generation_gwh_2017\n"
     ]
    }
   ],
   "source": [
    "vif_calc2()"
   ]
  },
  {
   "cell_type": "markdown",
   "id": "011a4d59",
   "metadata": {},
   "source": [
    "longitude, commissioning_year,generation_gwh_2014,generation_gwh_2016,latitude,generation_gwh_2013 have high vif value"
   ]
  },
  {
   "cell_type": "markdown",
   "id": "acda00e7",
   "metadata": {},
   "source": [
    "### Dropping longitude from x2"
   ]
  },
  {
   "cell_type": "code",
   "execution_count": 394,
   "id": "4447e20c",
   "metadata": {},
   "outputs": [
    {
     "data": {
      "text/html": [
       "<div>\n",
       "<style scoped>\n",
       "    .dataframe tbody tr th:only-of-type {\n",
       "        vertical-align: middle;\n",
       "    }\n",
       "\n",
       "    .dataframe tbody tr th {\n",
       "        vertical-align: top;\n",
       "    }\n",
       "\n",
       "    .dataframe thead th {\n",
       "        text-align: right;\n",
       "    }\n",
       "</style>\n",
       "<table border=\"1\" class=\"dataframe\">\n",
       "  <thead>\n",
       "    <tr style=\"text-align: right;\">\n",
       "      <th></th>\n",
       "      <th>name</th>\n",
       "      <th>capacity_mw</th>\n",
       "      <th>latitude</th>\n",
       "      <th>commissioning_year</th>\n",
       "      <th>owner</th>\n",
       "      <th>source</th>\n",
       "      <th>generation_gwh_2013</th>\n",
       "      <th>generation_gwh_2014</th>\n",
       "      <th>generation_gwh_2015</th>\n",
       "      <th>generation_gwh_2016</th>\n",
       "      <th>generation_gwh_2017</th>\n",
       "    </tr>\n",
       "  </thead>\n",
       "  <tbody>\n",
       "    <tr>\n",
       "      <th>0</th>\n",
       "      <td>0</td>\n",
       "      <td>2.5</td>\n",
       "      <td>28.1839</td>\n",
       "      <td>2011.0</td>\n",
       "      <td>229</td>\n",
       "      <td>109</td>\n",
       "      <td>797.063475</td>\n",
       "      <td>805.760000</td>\n",
       "      <td>701.02725</td>\n",
       "      <td>716.728350</td>\n",
       "      <td>807.601700</td>\n",
       "    </tr>\n",
       "    <tr>\n",
       "      <th>1</th>\n",
       "      <td>1</td>\n",
       "      <td>98.0</td>\n",
       "      <td>24.7663</td>\n",
       "      <td>2000.0</td>\n",
       "      <td>258</td>\n",
       "      <td>174</td>\n",
       "      <td>797.063475</td>\n",
       "      <td>805.760000</td>\n",
       "      <td>701.02725</td>\n",
       "      <td>716.728350</td>\n",
       "      <td>807.601700</td>\n",
       "    </tr>\n",
       "    <tr>\n",
       "      <th>2</th>\n",
       "      <td>2</td>\n",
       "      <td>39.2</td>\n",
       "      <td>21.9038</td>\n",
       "      <td>2000.0</td>\n",
       "      <td>2</td>\n",
       "      <td>21</td>\n",
       "      <td>797.063475</td>\n",
       "      <td>805.760000</td>\n",
       "      <td>701.02725</td>\n",
       "      <td>716.728350</td>\n",
       "      <td>807.601700</td>\n",
       "    </tr>\n",
       "    <tr>\n",
       "      <th>3</th>\n",
       "      <td>3</td>\n",
       "      <td>135.0</td>\n",
       "      <td>23.8712</td>\n",
       "      <td>2004.0</td>\n",
       "      <td>5</td>\n",
       "      <td>22</td>\n",
       "      <td>631.777928</td>\n",
       "      <td>617.789264</td>\n",
       "      <td>843.74700</td>\n",
       "      <td>886.004428</td>\n",
       "      <td>663.774500</td>\n",
       "    </tr>\n",
       "    <tr>\n",
       "      <th>4</th>\n",
       "      <td>4</td>\n",
       "      <td>1800.0</td>\n",
       "      <td>21.9603</td>\n",
       "      <td>2015.0</td>\n",
       "      <td>5</td>\n",
       "      <td>22</td>\n",
       "      <td>1668.290000</td>\n",
       "      <td>3035.550000</td>\n",
       "      <td>5916.37000</td>\n",
       "      <td>6243.000000</td>\n",
       "      <td>5385.579736</td>\n",
       "    </tr>\n",
       "  </tbody>\n",
       "</table>\n",
       "</div>"
      ],
      "text/plain": [
       "   name  capacity_mw  latitude  commissioning_year  owner  source  \\\n",
       "0     0          2.5   28.1839              2011.0    229     109   \n",
       "1     1         98.0   24.7663              2000.0    258     174   \n",
       "2     2         39.2   21.9038              2000.0      2      21   \n",
       "3     3        135.0   23.8712              2004.0      5      22   \n",
       "4     4       1800.0   21.9603              2015.0      5      22   \n",
       "\n",
       "   generation_gwh_2013  generation_gwh_2014  generation_gwh_2015  \\\n",
       "0           797.063475           805.760000            701.02725   \n",
       "1           797.063475           805.760000            701.02725   \n",
       "2           797.063475           805.760000            701.02725   \n",
       "3           631.777928           617.789264            843.74700   \n",
       "4          1668.290000          3035.550000           5916.37000   \n",
       "\n",
       "   generation_gwh_2016  generation_gwh_2017  \n",
       "0           716.728350           807.601700  \n",
       "1           716.728350           807.601700  \n",
       "2           716.728350           807.601700  \n",
       "3           886.004428           663.774500  \n",
       "4          6243.000000          5385.579736  "
      ]
     },
     "execution_count": 394,
     "metadata": {},
     "output_type": "execute_result"
    }
   ],
   "source": [
    "x2.drop(['longitude'],axis=1,inplace=True)\n",
    "x2.head()"
   ]
  },
  {
   "cell_type": "markdown",
   "id": "b946cd50",
   "metadata": {},
   "source": [
    "longitude column dropped from x2"
   ]
  },
  {
   "cell_type": "markdown",
   "id": "2ec0b6b2",
   "metadata": {},
   "source": [
    "## Skewness:"
   ]
  },
  {
   "cell_type": "code",
   "execution_count": 395,
   "id": "dd40df13",
   "metadata": {},
   "outputs": [
    {
     "data": {
      "text/plain": [
       "name                   0.023554\n",
       "latitude              -0.126512\n",
       "longitude              0.855928\n",
       "commissioning_year    -1.199857\n",
       "owner                  1.320280\n",
       "source                 1.782665\n",
       "generation_gwh_2013    3.058127\n",
       "generation_gwh_2014    2.910898\n",
       "generation_gwh_2015    2.699657\n",
       "generation_gwh_2016    2.645103\n",
       "generation_gwh_2017    2.540739\n",
       "primary_fuels          0.409668\n",
       "dtype: float64"
      ]
     },
     "execution_count": 395,
     "metadata": {},
     "output_type": "execute_result"
    }
   ],
   "source": [
    "#Regression:\n",
    "x1.skew()"
   ]
  },
  {
   "cell_type": "markdown",
   "id": "48195d87",
   "metadata": {},
   "source": [
    "generation_gwh_2013, generation_gwh_2014,generation_gwh_2015,generation_gwh_2016 and generation_gwh_2017 have higher skewness."
   ]
  },
  {
   "cell_type": "code",
   "execution_count": 396,
   "id": "549203ff",
   "metadata": {},
   "outputs": [
    {
     "data": {
      "text/plain": [
       "name                   0.023554\n",
       "capacity_mw            1.961847\n",
       "latitude              -0.126512\n",
       "commissioning_year    -1.199857\n",
       "owner                  1.320280\n",
       "source                 1.782665\n",
       "generation_gwh_2013    3.058127\n",
       "generation_gwh_2014    2.910898\n",
       "generation_gwh_2015    2.699657\n",
       "generation_gwh_2016    2.645103\n",
       "generation_gwh_2017    2.540739\n",
       "dtype: float64"
      ]
     },
     "execution_count": 396,
     "metadata": {},
     "output_type": "execute_result"
    }
   ],
   "source": [
    "#Regression:\n",
    "x2.skew()"
   ]
  },
  {
   "cell_type": "markdown",
   "id": "5c0509b1",
   "metadata": {},
   "source": [
    "generation_gwh_2013, generation_gwh_2014,generation_gwh_2015,generation_gwh_2016 and generation_gwh_2017 have higher skewness."
   ]
  },
  {
   "cell_type": "markdown",
   "id": "129220de",
   "metadata": {},
   "source": [
    "## Using power_transform to remove skewness."
   ]
  },
  {
   "cell_type": "code",
   "execution_count": 397,
   "id": "cd69af7f",
   "metadata": {},
   "outputs": [],
   "source": [
    "# Using power_transform to remove skewness.\n",
    "\n",
    "from sklearn.preprocessing import power_transform\n",
    "x1=power_transform(x1,method='yeo-johnson')\n",
    "\n",
    "x2=power_transform(x2,method='yeo-johnson')"
   ]
  },
  {
   "cell_type": "markdown",
   "id": "4cd75a2c",
   "metadata": {},
   "source": [
    "Using 'power_transform' method for removing skewness"
   ]
  },
  {
   "cell_type": "code",
   "execution_count": 398,
   "id": "d11e3a71",
   "metadata": {},
   "outputs": [],
   "source": [
    "# converting ndarray to dataframe\n",
    "x1=pd.DataFrame(x1)\n",
    "x2=pd.DataFrame(x2)"
   ]
  },
  {
   "cell_type": "markdown",
   "id": "1cbc78f2",
   "metadata": {},
   "source": [
    "Skewness removed"
   ]
  },
  {
   "cell_type": "markdown",
   "id": "00938b8a",
   "metadata": {},
   "source": [
    "# Scaling Data"
   ]
  },
  {
   "cell_type": "code",
   "execution_count": 399,
   "id": "0927d48d",
   "metadata": {},
   "outputs": [
    {
     "name": "stdout",
     "output_type": "stream",
     "text": [
      "x1 [[-2.16447436  1.15319341 -0.92996645 ... -0.05113625 -0.03131614\n",
      "   1.12911476]\n",
      " [-2.14328016  0.58424809 -0.51215636 ... -0.05113625 -0.03131614\n",
      "  -1.01785785]\n",
      " [-2.12530688  0.11251293 -2.34835704 ... -0.05113625 -0.03131614\n",
      "   1.40256892]\n",
      " ...\n",
      " [ 1.5441929  -0.95982768 -0.23777557 ... -0.05113625 -0.03131614\n",
      "   1.40256892]\n",
      " [ 1.54703244  0.51535822 -0.77063005 ... -0.05113625 -0.03131614\n",
      "  -1.01785785]\n",
      " [ 1.549871   -1.79800453  0.24933209 ... -0.05113625 -0.03131614\n",
      "   1.40256892]]\n",
      "x2 [[-2.16447436 -1.66920164  1.15319341 ... -0.04823198 -0.05113625\n",
      "  -0.03131614]\n",
      " [-2.14328016  0.20480647  0.58424809 ... -0.04823198 -0.05113625\n",
      "  -0.03131614]\n",
      " [-2.12530688 -0.29144714  0.11251293 ... -0.04823198 -0.05113625\n",
      "  -0.03131614]\n",
      " ...\n",
      " [ 1.5441929  -0.52314592 -0.95982768 ... -0.04823198 -0.05113625\n",
      "  -0.03131614]\n",
      " [ 1.54703244  0.09488224  0.51535822 ... -0.04823198 -0.05113625\n",
      "  -0.03131614]\n",
      " [ 1.549871   -0.7552757  -1.79800453 ... -0.04823198 -0.05113625\n",
      "  -0.03131614]]\n"
     ]
    }
   ],
   "source": [
    "from sklearn.preprocessing import StandardScaler\n",
    "sc = StandardScaler()\n",
    "x1=sc.fit_transform(x1)\n",
    "x2=sc.fit_transform(x2)\n",
    "print('x1',x1)\n",
    "print('x2',x2)"
   ]
  },
  {
   "cell_type": "markdown",
   "id": "51403da4",
   "metadata": {},
   "source": [
    "Scaling of feature label done."
   ]
  },
  {
   "cell_type": "markdown",
   "id": "d305490c",
   "metadata": {},
   "source": [
    "# Model Selection:"
   ]
  },
  {
   "cell_type": "markdown",
   "id": "dc4083ec",
   "metadata": {},
   "source": [
    "# I. Regression:"
   ]
  },
  {
   "cell_type": "code",
   "execution_count": 400,
   "id": "ec5cfc90",
   "metadata": {},
   "outputs": [],
   "source": [
    "from sklearn.metrics import r2_score \n",
    "from sklearn.linear_model import LinearRegression\n",
    "lr=LinearRegression()\n",
    "from sklearn.metrics import mean_squared_error,mean_absolute_error\n",
    "from sklearn.metrics import accuracy_score\n",
    "from sklearn.model_selection import train_test_split\n",
    "\n",
    "import warnings\n",
    "warnings.filterwarnings('ignore')"
   ]
  },
  {
   "cell_type": "code",
   "execution_count": 401,
   "id": "2d4441ef",
   "metadata": {},
   "outputs": [
    {
     "name": "stdout",
     "output_type": "stream",
     "text": [
      "At random state 0,the training accuracy is:- 0.6134618757508752\n",
      "At random state 0,the testing accuracy is:- 0.6131990354772427\n",
      "\n",
      "\n",
      "At random state 1,the training accuracy is:- 0.6129154074090721\n",
      "At random state 1,the testing accuracy is:- 0.6258061308396197\n",
      "\n",
      "\n",
      "At random state 2,the training accuracy is:- 0.6403905706697701\n",
      "At random state 2,the testing accuracy is:- 0.5029635637413117\n",
      "\n",
      "\n",
      "At random state 3,the training accuracy is:- 0.6232719769620811\n",
      "At random state 3,the testing accuracy is:- 0.5855748220285669\n",
      "\n",
      "\n",
      "At random state 4,the training accuracy is:- 0.6462019662914997\n",
      "At random state 4,the testing accuracy is:- 0.44309847127344293\n",
      "\n",
      "\n",
      "At random state 5,the training accuracy is:- 0.6270605950166181\n",
      "At random state 5,the testing accuracy is:- 0.5425336773237581\n",
      "\n",
      "\n",
      "At random state 6,the training accuracy is:- 0.6249756562987787\n",
      "At random state 6,the testing accuracy is:- 0.5722311991683844\n",
      "\n",
      "\n",
      "At random state 7,the training accuracy is:- 0.6452931520867451\n",
      "At random state 7,the testing accuracy is:- 0.4342794209400155\n",
      "\n",
      "\n",
      "At random state 8,the training accuracy is:- 0.6090628092246757\n",
      "At random state 8,the testing accuracy is:- 0.6458409989231135\n",
      "\n",
      "\n",
      "At random state 9,the training accuracy is:- 0.6281645782182892\n",
      "At random state 9,the testing accuracy is:- 0.549929446769306\n",
      "\n",
      "\n",
      "At random state 10,the training accuracy is:- 0.6097426963504154\n",
      "At random state 10,the testing accuracy is:- 0.6282044450272668\n",
      "\n",
      "\n",
      "At random state 11,the training accuracy is:- 0.6126727130165432\n",
      "At random state 11,the testing accuracy is:- 0.6196577675885739\n",
      "\n",
      "\n",
      "At random state 12,the training accuracy is:- 0.6170809833598916\n",
      "At random state 12,the testing accuracy is:- 0.5972059369661897\n",
      "\n",
      "\n",
      "At random state 13,the training accuracy is:- 0.5943621646595025\n",
      "At random state 13,the testing accuracy is:- 0.6755598256150097\n",
      "\n",
      "\n",
      "At random state 14,the training accuracy is:- 0.6312415863899746\n",
      "At random state 14,the testing accuracy is:- 0.5504016555779656\n",
      "\n",
      "\n",
      "At random state 15,the training accuracy is:- 0.616170203925315\n",
      "At random state 15,the testing accuracy is:- 0.6103148643866038\n",
      "\n",
      "\n",
      "At random state 16,the training accuracy is:- 0.6189154484745405\n",
      "At random state 16,the testing accuracy is:- 0.5957665600699568\n",
      "\n",
      "\n",
      "At random state 17,the training accuracy is:- 0.6245505638462242\n",
      "At random state 17,the testing accuracy is:- 0.5661393482197034\n",
      "\n",
      "\n",
      "At random state 18,the training accuracy is:- 0.6274985774723836\n",
      "At random state 18,the testing accuracy is:- 0.5555614845099393\n",
      "\n",
      "\n",
      "At random state 19,the training accuracy is:- 0.647149155225737\n",
      "At random state 19,the testing accuracy is:- 0.47413008956616354\n",
      "\n",
      "\n",
      "At random state 20,the training accuracy is:- 0.642570560261928\n",
      "At random state 20,the testing accuracy is:- 0.5059511049973506\n",
      "\n",
      "\n",
      "At random state 21,the training accuracy is:- 0.6155303002392407\n",
      "At random state 21,the testing accuracy is:- 0.60913968278597\n",
      "\n",
      "\n",
      "At random state 22,the training accuracy is:- 0.6135738833384767\n",
      "At random state 22,the testing accuracy is:- 0.6252105390648193\n",
      "\n",
      "\n",
      "At random state 23,the training accuracy is:- 0.6177800742077609\n",
      "At random state 23,the testing accuracy is:- 0.6003741039753266\n",
      "\n",
      "\n",
      "At random state 24,the training accuracy is:- 0.6248084903680106\n",
      "At random state 24,the testing accuracy is:- 0.5533695794514124\n",
      "\n",
      "\n",
      "At random state 25,the training accuracy is:- 0.5821847688794503\n",
      "At random state 25,the testing accuracy is:- 0.7031907610071255\n",
      "\n",
      "\n",
      "At random state 26,the training accuracy is:- 0.5857063319836278\n",
      "At random state 26,the testing accuracy is:- 0.71765422271497\n",
      "\n",
      "\n",
      "At random state 27,the training accuracy is:- 0.6238779280990023\n",
      "At random state 27,the testing accuracy is:- 0.5706290844379553\n",
      "\n",
      "\n",
      "At random state 28,the training accuracy is:- 0.6152085284265205\n",
      "At random state 28,the testing accuracy is:- 0.609430677447887\n",
      "\n",
      "\n",
      "At random state 29,the training accuracy is:- 0.6335212548244062\n",
      "At random state 29,the testing accuracy is:- 0.5227062486947878\n",
      "\n",
      "\n",
      "At random state 30,the training accuracy is:- 0.6067873673799369\n",
      "At random state 30,the testing accuracy is:- 0.6351141557722051\n",
      "\n",
      "\n",
      "At random state 31,the training accuracy is:- 0.6021633039286465\n",
      "At random state 31,the testing accuracy is:- 0.6492543572455641\n",
      "\n",
      "\n",
      "At random state 32,the training accuracy is:- 0.6082673236641385\n",
      "At random state 32,the testing accuracy is:- 0.6308783013978608\n",
      "\n",
      "\n",
      "At random state 33,the training accuracy is:- 0.5797411742741574\n",
      "At random state 33,the testing accuracy is:- 0.736280063461568\n",
      "\n",
      "\n",
      "At random state 34,the training accuracy is:- 0.6276245141686899\n",
      "At random state 34,the testing accuracy is:- 0.5373964189688102\n",
      "\n",
      "\n",
      "At random state 35,the training accuracy is:- 0.6262062385845936\n",
      "At random state 35,the testing accuracy is:- 0.560780498193001\n",
      "\n",
      "\n",
      "At random state 36,the training accuracy is:- 0.6035423190053013\n",
      "At random state 36,the testing accuracy is:- 0.6610669197449147\n",
      "\n",
      "\n",
      "At random state 37,the training accuracy is:- 0.6164426915798621\n",
      "At random state 37,the testing accuracy is:- 0.60274948333468\n",
      "\n",
      "\n",
      "At random state 38,the training accuracy is:- 0.6091110729892291\n",
      "At random state 38,the testing accuracy is:- 0.624744928526278\n",
      "\n",
      "\n",
      "At random state 39,the training accuracy is:- 0.6127670923645594\n",
      "At random state 39,the testing accuracy is:- 0.624311492426137\n",
      "\n",
      "\n",
      "At random state 40,the training accuracy is:- 0.6054075459271997\n",
      "At random state 40,the testing accuracy is:- 0.6544802118204267\n",
      "\n",
      "\n",
      "At random state 41,the training accuracy is:- 0.6220894191807812\n",
      "At random state 41,the testing accuracy is:- 0.5899508893215559\n",
      "\n",
      "\n",
      "At random state 42,the training accuracy is:- 0.6085769543509185\n",
      "At random state 42,the testing accuracy is:- 0.6348757876332214\n",
      "\n",
      "\n",
      "At random state 43,the training accuracy is:- 0.5901890627712769\n",
      "At random state 43,the testing accuracy is:- 0.6740619501285177\n",
      "\n",
      "\n",
      "At random state 44,the training accuracy is:- 0.6079012029947206\n",
      "At random state 44,the testing accuracy is:- 0.6367499833706843\n",
      "\n",
      "\n",
      "At random state 45,the training accuracy is:- 0.6531766163642667\n",
      "At random state 45,the testing accuracy is:- 0.4354762909404174\n",
      "\n",
      "\n",
      "At random state 46,the training accuracy is:- 0.6211090159135239\n",
      "At random state 46,the testing accuracy is:- 0.5615401850043185\n",
      "\n",
      "\n",
      "At random state 47,the training accuracy is:- 0.6240715796482188\n",
      "At random state 47,the testing accuracy is:- 0.5557571185526111\n",
      "\n",
      "\n",
      "At random state 48,the training accuracy is:- 0.6220825694312451\n",
      "At random state 48,the testing accuracy is:- 0.5646621455501909\n",
      "\n",
      "\n",
      "At random state 49,the training accuracy is:- 0.6052310498094056\n",
      "At random state 49,the testing accuracy is:- 0.6217028123029574\n",
      "\n",
      "\n",
      "At random state 50,the training accuracy is:- 0.6044684118238739\n",
      "At random state 50,the testing accuracy is:- 0.6439323259652163\n",
      "\n",
      "\n",
      "At random state 51,the training accuracy is:- 0.5881728456693642\n",
      "At random state 51,the testing accuracy is:- 0.6841905664288525\n",
      "\n",
      "\n",
      "At random state 52,the training accuracy is:- 0.6283045309102885\n",
      "At random state 52,the testing accuracy is:- 0.5566434113202914\n",
      "\n",
      "\n",
      "At random state 53,the training accuracy is:- 0.6030010577933\n",
      "At random state 53,the testing accuracy is:- 0.6726896923681353\n",
      "\n",
      "\n",
      "At random state 54,the training accuracy is:- 0.5997052078194729\n",
      "At random state 54,the testing accuracy is:- 0.6517049568041589\n",
      "\n",
      "\n",
      "At random state 55,the training accuracy is:- 0.6194721470514238\n",
      "At random state 55,the testing accuracy is:- 0.590014508006558\n",
      "\n",
      "\n",
      "At random state 56,the training accuracy is:- 0.6339120973348988\n",
      "At random state 56,the testing accuracy is:- 0.45962027519079374\n",
      "\n",
      "\n",
      "At random state 57,the training accuracy is:- 0.6030643286520885\n",
      "At random state 57,the testing accuracy is:- 0.6345009645325324\n",
      "\n",
      "\n",
      "At random state 58,the training accuracy is:- 0.6125427007981002\n",
      "At random state 58,the testing accuracy is:- 0.6176945039613284\n",
      "\n",
      "\n",
      "At random state 59,the training accuracy is:- 0.6191055953447957\n",
      "At random state 59,the testing accuracy is:- 0.5630886196513707\n",
      "\n",
      "\n",
      "At random state 60,the training accuracy is:- 0.6372168578387557\n",
      "At random state 60,the testing accuracy is:- 0.5351338388440127\n",
      "\n",
      "\n",
      "At random state 61,the training accuracy is:- 0.6050944107174514\n",
      "At random state 61,the testing accuracy is:- 0.6447607266672561\n",
      "\n",
      "\n",
      "At random state 62,the training accuracy is:- 0.6355242304235756\n",
      "At random state 62,the testing accuracy is:- 0.5333150445188558\n",
      "\n",
      "\n",
      "At random state 63,the training accuracy is:- 0.61994720100485\n",
      "At random state 63,the testing accuracy is:- 0.5962622146280208\n",
      "\n",
      "\n",
      "At random state 64,the training accuracy is:- 0.6045902890379254\n",
      "At random state 64,the testing accuracy is:- 0.6434368948297906\n",
      "\n",
      "\n",
      "At random state 65,the training accuracy is:- 0.6213912305148097\n",
      "At random state 65,the testing accuracy is:- 0.5725455227827558\n",
      "\n",
      "\n",
      "At random state 66,the training accuracy is:- 0.6062543056962725\n",
      "At random state 66,the testing accuracy is:- 0.6445562601936867\n",
      "\n",
      "\n",
      "At random state 67,the training accuracy is:- 0.5813301293682981\n",
      "At random state 67,the testing accuracy is:- 0.712451825833794\n",
      "\n",
      "\n",
      "At random state 68,the training accuracy is:- 0.6072460183783535\n",
      "At random state 68,the testing accuracy is:- 0.6434040909430672\n",
      "\n",
      "\n"
     ]
    },
    {
     "name": "stdout",
     "output_type": "stream",
     "text": [
      "At random state 69,the training accuracy is:- 0.629265476293703\n",
      "At random state 69,the testing accuracy is:- 0.5456030836823083\n",
      "\n",
      "\n",
      "At random state 70,the training accuracy is:- 0.6054478665908195\n",
      "At random state 70,the testing accuracy is:- 0.6437125219799126\n",
      "\n",
      "\n",
      "At random state 71,the training accuracy is:- 0.6058285582916112\n",
      "At random state 71,the testing accuracy is:- 0.6491697314040412\n",
      "\n",
      "\n",
      "At random state 72,the training accuracy is:- 0.6213179107509896\n",
      "At random state 72,the testing accuracy is:- 0.5855930389137634\n",
      "\n",
      "\n",
      "At random state 73,the training accuracy is:- 0.614483074784\n",
      "At random state 73,the testing accuracy is:- 0.6156442635001049\n",
      "\n",
      "\n",
      "At random state 74,the training accuracy is:- 0.6262317031469513\n",
      "At random state 74,the testing accuracy is:- 0.5566257562105272\n",
      "\n",
      "\n",
      "At random state 75,the training accuracy is:- 0.5882450698795072\n",
      "At random state 75,the testing accuracy is:- 0.6772637638135466\n",
      "\n",
      "\n",
      "At random state 76,the training accuracy is:- 0.6059796871732449\n",
      "At random state 76,the testing accuracy is:- 0.6384588859826728\n",
      "\n",
      "\n",
      "At random state 77,the training accuracy is:- 0.6364013608027075\n",
      "At random state 77,the testing accuracy is:- 0.5009969701404522\n",
      "\n",
      "\n",
      "At random state 78,the training accuracy is:- 0.614836723894134\n",
      "At random state 78,the testing accuracy is:- 0.6123793795043473\n",
      "\n",
      "\n",
      "At random state 79,the training accuracy is:- 0.6261365777924477\n",
      "At random state 79,the testing accuracy is:- 0.5413372765988359\n",
      "\n",
      "\n",
      "At random state 80,the training accuracy is:- 0.6102722237781706\n",
      "At random state 80,the testing accuracy is:- 0.6325279936104122\n",
      "\n",
      "\n",
      "At random state 81,the training accuracy is:- 0.6040391828390383\n",
      "At random state 81,the testing accuracy is:- 0.6519932756404743\n",
      "\n",
      "\n",
      "At random state 82,the training accuracy is:- 0.6093887723729035\n",
      "At random state 82,the testing accuracy is:- 0.6261266951738808\n",
      "\n",
      "\n",
      "At random state 83,the training accuracy is:- 0.6172887173288618\n",
      "At random state 83,the testing accuracy is:- 0.587587365459842\n",
      "\n",
      "\n",
      "At random state 84,the training accuracy is:- 0.6300904496264588\n",
      "At random state 84,the testing accuracy is:- 0.5551000155846118\n",
      "\n",
      "\n",
      "At random state 85,the training accuracy is:- 0.6160362030504589\n",
      "At random state 85,the testing accuracy is:- 0.6123907719963462\n",
      "\n",
      "\n",
      "At random state 86,the training accuracy is:- 0.6275777914860713\n",
      "At random state 86,the testing accuracy is:- 0.537287713792874\n",
      "\n",
      "\n",
      "At random state 87,the training accuracy is:- 0.6151296861447755\n",
      "At random state 87,the testing accuracy is:- 0.6049461032157007\n",
      "\n",
      "\n",
      "At random state 88,the training accuracy is:- 0.6306569115275277\n",
      "At random state 88,the testing accuracy is:- 0.5490563616243642\n",
      "\n",
      "\n",
      "At random state 89,the training accuracy is:- 0.6198544976248599\n",
      "At random state 89,the testing accuracy is:- 0.5984844407555029\n",
      "\n",
      "\n",
      "At random state 90,the training accuracy is:- 0.6268814746012259\n",
      "At random state 90,the testing accuracy is:- 0.5680422871745641\n",
      "\n",
      "\n",
      "At random state 91,the training accuracy is:- 0.6100530882902784\n",
      "At random state 91,the testing accuracy is:- 0.6322940802447572\n",
      "\n",
      "\n",
      "At random state 92,the training accuracy is:- 0.6035511516988292\n",
      "At random state 92,the testing accuracy is:- 0.6564752974412507\n",
      "\n",
      "\n",
      "At random state 93,the training accuracy is:- 0.6141642073036091\n",
      "At random state 93,the testing accuracy is:- 0.6168120670050254\n",
      "\n",
      "\n",
      "At random state 94,the training accuracy is:- 0.6221807100051946\n",
      "At random state 94,the testing accuracy is:- 0.5659774538042115\n",
      "\n",
      "\n",
      "At random state 95,the training accuracy is:- 0.6457132693979726\n",
      "At random state 95,the testing accuracy is:- 0.47795395349950165\n",
      "\n",
      "\n",
      "At random state 96,the training accuracy is:- 0.6038829624769855\n",
      "At random state 96,the testing accuracy is:- 0.6505817925875481\n",
      "\n",
      "\n",
      "At random state 97,the training accuracy is:- 0.6262228913962227\n",
      "At random state 97,the testing accuracy is:- 0.5531373333826398\n",
      "\n",
      "\n",
      "At random state 98,the training accuracy is:- 0.615197207331827\n",
      "At random state 98,the testing accuracy is:- 0.5907498435832855\n",
      "\n",
      "\n",
      "At random state 99,the training accuracy is:- 0.6230918499504858\n",
      "At random state 99,the testing accuracy is:- 0.5260549117267552\n",
      "\n",
      "\n"
     ]
    }
   ],
   "source": [
    "for i in range(0,100):\n",
    "    train_x,test_x,train_y,test_y=train_test_split(x1,y1,test_size=0.2,random_state=i)\n",
    "    lr.fit(train_x,train_y)\n",
    "    pred_train=lr.predict(train_x)\n",
    "    pred_test=lr.predict(test_x)\n",
    "    print(f\"At random state {i},the training accuracy is:- {r2_score(train_y,pred_train)}\")\n",
    "    print(f\"At random state {i},the testing accuracy is:- {r2_score(test_y,pred_test)}\")\n",
    "    print(\"\\n\")"
   ]
  },
  {
   "cell_type": "code",
   "execution_count": 402,
   "id": "e0fc249c",
   "metadata": {},
   "outputs": [
    {
     "data": {
      "text/plain": [
       "0.5260549117267552"
      ]
     },
     "execution_count": 402,
     "metadata": {},
     "output_type": "execute_result"
    }
   ],
   "source": [
    "lr.fit(train_x,train_y)\n",
    "lr.score(test_x,test_y)"
   ]
  },
  {
   "cell_type": "markdown",
   "id": "4e948a1e",
   "metadata": {},
   "source": [
    "52% is Linear regression score"
   ]
  },
  {
   "cell_type": "code",
   "execution_count": 403,
   "id": "e12430d4",
   "metadata": {},
   "outputs": [
    {
     "data": {
      "text/plain": [
       "array([  31.26164328,  197.24611728,  199.32514119,  350.67107296,\n",
       "       1033.2791411 ,  448.34523711,  424.40211646,  167.93582784,\n",
       "        369.64383389,   -7.74345428,  271.42001064,  988.06065646,\n",
       "        158.42399302,  206.57257432,  174.97727088,   36.11846728,\n",
       "        236.58558144,  380.17413392,  471.42574302,   92.84129734,\n",
       "         70.91131242,  245.28149128,    9.20140126,  911.91640245,\n",
       "        -44.29702115,   16.97023059,  347.26662628,  308.19026747,\n",
       "        -31.18468593,  303.27991749, -178.17958312,  133.29381513,\n",
       "         13.42734217,  342.31891927,  -63.09638985,  -34.42003832,\n",
       "         75.3904058 ,  721.01153075,   -8.81527038,  220.39881311,\n",
       "        330.13772205,  -63.9240101 , -129.57864912,  385.62239736,\n",
       "       -111.2555483 ,  384.4134981 ,  926.16557978, -109.16928831,\n",
       "        -54.30236262,  255.61827637,  781.04094595,  608.37382274,\n",
       "        127.77988177, 1017.80340244,    5.06300879,  -10.69152145,\n",
       "        273.74916006,  -92.8619133 ,  -11.45654736,  211.49533332,\n",
       "        220.14609815,   86.40143785,  -36.72659331, -125.6228733 ,\n",
       "        327.73586004,  308.65395946,  128.65572059,  864.76684621,\n",
       "        126.98472816,  -57.37633771,  252.1238395 ,  251.21710335,\n",
       "        -79.39216982,  216.98426396,  151.25317174,  753.42742576,\n",
       "        133.11616449,  102.16332516,  -46.20627046,  123.34180455,\n",
       "        286.97739788,    2.37284967,  136.91580799,  243.03606531,\n",
       "        417.33236972,    2.67016182,  314.30013388,  373.7589965 ,\n",
       "        957.19760308, -153.68561345,  348.6388243 ,   12.25035971,\n",
       "        143.38781338,  860.19047265,  404.43364223,  183.54789504,\n",
       "        212.11487218,  340.30715258,  512.61254924,  -83.203618  ,\n",
       "        334.29503364,  273.53951267,   -4.66546416,  222.50311625,\n",
       "       -106.15508067,  368.78701979, -134.6308329 ,  176.6941562 ,\n",
       "        272.13366283,  -46.73873131,   -3.30283542,  179.20058947,\n",
       "        -79.68293312,  480.23932663,  771.96065136,  348.94619346,\n",
       "        365.23839849,  -45.96828199,  496.44503998,  877.59258802,\n",
       "        232.82225314, 1029.79117903,  267.85930459,  225.77691165,\n",
       "        -90.81990653,  175.4982375 ,  413.56506617,  187.3077367 ,\n",
       "        -75.55098884,  264.45400582,  333.79569965,  128.62177174,\n",
       "        -31.62565723,  332.33266297,   -7.16554979,  354.80893806,\n",
       "        -13.29411211,  532.13832738,  305.89060339,  -97.55168433,\n",
       "        598.13156997,  -90.5500995 ,  -46.00805411,   87.32124887,\n",
       "        488.77050705,    5.61221652,  311.2738826 ,  -25.44760168,\n",
       "         52.95139281, 1012.64305543,  921.9424776 ,  860.50532415,\n",
       "          7.38973419,  426.20429856,  360.40098263,    5.29569892,\n",
       "        290.63802625,  286.02372921,  285.2151976 ,  902.95465627,\n",
       "        -46.2868702 ,  547.64534063,  -52.26035678,  203.91655934,\n",
       "        448.50848503,  639.71946693,  288.06507326])"
      ]
     },
     "execution_count": 403,
     "metadata": {},
     "output_type": "execute_result"
    }
   ],
   "source": [
    "#Predicted data\n",
    "pred=lr.predict(test_x)\n",
    "pred"
   ]
  },
  {
   "cell_type": "markdown",
   "id": "306d51c6",
   "metadata": {},
   "source": [
    "Predicted Data in array form"
   ]
  },
  {
   "cell_type": "code",
   "execution_count": 404,
   "id": "aa2694a7",
   "metadata": {},
   "outputs": [
    {
     "name": "stdout",
     "output_type": "stream",
     "text": [
      "Mean squared error: 48300.067153307\n",
      "Mean absolute error: 176.76558202962892\n",
      "R2Score: 0.5260549117267552\n"
     ]
    }
   ],
   "source": [
    "print(\"Mean squared error:\",mean_squared_error(test_y,pred))\n",
    "print(\"Mean absolute error:\",mean_absolute_error(test_y,pred))\n",
    "print(\"R2Score:\",r2_score(test_y,pred))"
   ]
  },
  {
   "cell_type": "markdown",
   "id": "1be5bda6",
   "metadata": {},
   "source": [
    "R2Score = 52.6%\n",
    "Mean squared error is higher"
   ]
  },
  {
   "cell_type": "markdown",
   "id": "1c33e001",
   "metadata": {},
   "source": [
    "### Cross-Validation of the model:"
   ]
  },
  {
   "cell_type": "code",
   "execution_count": 405,
   "id": "60e05f6b",
   "metadata": {},
   "outputs": [
    {
     "name": "stdout",
     "output_type": "stream",
     "text": [
      "At cross fold 2 the cv score is 0.5651881268879897 and accuracy score for training is 0.6230918499504858 and accuracy for the testing is 0.5260549117267552\n",
      "\n",
      "\n",
      "At cross fold 3 the cv score is 0.5764632852394791 and accuracy score for training is 0.6230918499504858 and accuracy for the testing is 0.5260549117267552\n",
      "\n",
      "\n",
      "At cross fold 4 the cv score is 0.5657780890029227 and accuracy score for training is 0.6230918499504858 and accuracy for the testing is 0.5260549117267552\n",
      "\n",
      "\n",
      "At cross fold 5 the cv score is 0.5767046585775499 and accuracy score for training is 0.6230918499504858 and accuracy for the testing is 0.5260549117267552\n",
      "\n",
      "\n",
      "At cross fold 6 the cv score is 0.5765656051949154 and accuracy score for training is 0.6230918499504858 and accuracy for the testing is 0.5260549117267552\n",
      "\n",
      "\n",
      "At cross fold 7 the cv score is 0.5705854096447417 and accuracy score for training is 0.6230918499504858 and accuracy for the testing is 0.5260549117267552\n",
      "\n",
      "\n",
      "At cross fold 8 the cv score is 0.5757738044413598 and accuracy score for training is 0.6230918499504858 and accuracy for the testing is 0.5260549117267552\n",
      "\n",
      "\n",
      "At cross fold 9 the cv score is 0.5652544445387575 and accuracy score for training is 0.6230918499504858 and accuracy for the testing is 0.5260549117267552\n",
      "\n",
      "\n"
     ]
    }
   ],
   "source": [
    "Train_accuracy=r2_score(train_y,pred_train)\n",
    "Test_accuracy=r2_score(test_y,pred_test)\n",
    "\n",
    "from sklearn.model_selection import cross_val_score\n",
    "for j in range(2,10):\n",
    "    cv_score=cross_val_score(lr,x1,y1,cv=j)\n",
    "    cv_mean=cv_score.mean()\n",
    "    print(f\"At cross fold {j} the cv score is {cv_mean} and accuracy score for training is {Train_accuracy} and accuracy for the testing is {Test_accuracy}\")\n",
    "    print(\"\\n\")"
   ]
  },
  {
   "cell_type": "markdown",
   "id": "3474ffa6",
   "metadata": {},
   "source": [
    "cv score is calculated."
   ]
  },
  {
   "cell_type": "code",
   "execution_count": 406,
   "id": "56e9cee0",
   "metadata": {},
   "outputs": [
    {
     "data": {
      "image/png": "[encoded data removed]",
      "text/plain": [
       "<Figure size 576x432 with 1 Axes>"
      ]
     },
     "metadata": {
      "needs_background": "light"
     },
     "output_type": "display_data"
    }
   ],
   "source": [
    "import matplotlib.pyplot as plt\n",
    "plt.figure(figsize=(8,6))\n",
    "plt.scatter(x=test_y, y=pred_test, color='r')\n",
    "plt.plot(test_y,test_y, color='b')\n",
    "plt.xlabel('Actual data',fontsize=14)\n",
    "plt.ylabel('Predicted data',fontsize=14)\n",
    "plt.title('Linear Regression',fontsize=18)\n",
    "plt.show()"
   ]
  },
  {
   "cell_type": "markdown",
   "id": "897b23f1",
   "metadata": {},
   "source": [
    "Plotting of Predicted and actual data"
   ]
  },
  {
   "cell_type": "markdown",
   "id": "907f63ac",
   "metadata": {},
   "source": [
    "### Regularization"
   ]
  },
  {
   "cell_type": "code",
   "execution_count": 407,
   "id": "c3c116fb",
   "metadata": {},
   "outputs": [],
   "source": [
    "# Importing Libraries and Hyper parameter tuning:\n",
    "from sklearn.model_selection import GridSearchCV\n",
    "from sklearn.model_selection import cross_val_score\n",
    "import warnings\n",
    "warnings.filterwarnings('ignore')"
   ]
  },
  {
   "cell_type": "code",
   "execution_count": 408,
   "id": "40e3d998",
   "metadata": {},
   "outputs": [
    {
     "name": "stdout",
     "output_type": "stream",
     "text": [
      "{'alpha': 1, 'random_state': 0}\n"
     ]
    }
   ],
   "source": [
    "from sklearn.linear_model import Lasso\n",
    "\n",
    "parameters = {'alpha':[.0001, .001, .01, .1, 1,10],'random_state':list(range(0,10))}\n",
    "ls = Lasso()\n",
    "clf = GridSearchCV(ls,parameters)\n",
    "clf.fit(train_x,train_y)\n",
    "\n",
    "print(clf.best_params_)"
   ]
  },
  {
   "cell_type": "markdown",
   "id": "69d65644",
   "metadata": {},
   "source": [
    "Best parameters for Linear Regression"
   ]
  },
  {
   "cell_type": "code",
   "execution_count": 409,
   "id": "47a1de10",
   "metadata": {},
   "outputs": [
    {
     "name": "stdout",
     "output_type": "stream",
     "text": [
      "ls score 0.6229032737080844\n",
      "r2 score 52.757689825370605\n"
     ]
    }
   ],
   "source": [
    "ls = Lasso(alpha=1,random_state=0)\n",
    "ls.fit(train_x,train_y)\n",
    "ls.score(train_x,train_y)\n",
    "print('ls score',ls.score(train_x,train_y))\n",
    "pred_ls = ls.predict(test_x)\n",
    "\n",
    "r2s = r2_score(test_y,pred_ls)\n",
    "print('r2 score',r2s*100)"
   ]
  },
  {
   "cell_type": "markdown",
   "id": "25852e11",
   "metadata": {},
   "source": [
    "Ls score is 62% and r2score is 52%"
   ]
  },
  {
   "cell_type": "code",
   "execution_count": 410,
   "id": "397cedb9",
   "metadata": {},
   "outputs": [
    {
     "data": {
      "text/plain": [
       "0.5811447054151542"
      ]
     },
     "execution_count": 410,
     "metadata": {},
     "output_type": "execute_result"
    }
   ],
   "source": [
    "cv_score=cross_val_score(ls,x1,y1,cv=5)\n",
    "cv_mean=cv_score.mean()\n",
    "cv_mean"
   ]
  },
  {
   "cell_type": "markdown",
   "id": "3126a092",
   "metadata": {},
   "source": [
    "CV_mean value is 58.1%"
   ]
  },
  {
   "cell_type": "markdown",
   "id": "59f3db85",
   "metadata": {},
   "source": [
    "## 1. Random Forest Regressor"
   ]
  },
  {
   "cell_type": "code",
   "execution_count": 411,
   "id": "b79cb2dc",
   "metadata": {},
   "outputs": [
    {
     "name": "stdout",
     "output_type": "stream",
     "text": [
      "{'criterion': 'mse', 'max_features': 'log2'}\n"
     ]
    }
   ],
   "source": [
    "# Importing Libraries and Hyper parameter tuning:\n",
    "from sklearn.model_selection import GridSearchCV\n",
    "from sklearn.ensemble import RandomForestRegressor\n",
    "\n",
    "parameters = {'criterion':['mse', 'mae'],'max_features':[\"auto\", \"sqrt\", \"log2\"]}\n",
    "rf =RandomForestRegressor()\n",
    "clf = GridSearchCV(rf,parameters)\n",
    "clf.fit(train_x,train_y)\n",
    "\n",
    "print(clf.best_params_)"
   ]
  },
  {
   "cell_type": "markdown",
   "id": "90931598",
   "metadata": {},
   "source": [
    "Best parameters for Random Forest Regressor"
   ]
  },
  {
   "cell_type": "code",
   "execution_count": 412,
   "id": "e011467f",
   "metadata": {},
   "outputs": [
    {
     "name": "stdout",
     "output_type": "stream",
     "text": [
      "rf score 0.9698354379313101\n",
      "R2 Score: 77.73210009489407\n",
      "Cross Val Score: 79.67640826656628\n",
      "Mean squared error: 22693.36864948478\n",
      "Mean absolute error: 85.86615826347305\n"
     ]
    }
   ],
   "source": [
    "rf= RandomForestRegressor(criterion=\"mse\",max_features=\"log2\")\n",
    "rf.fit(train_x,train_y)\n",
    "rf.score(train_x,train_y)\n",
    "pred_decision = rf.predict(test_x)\n",
    "print('rf score',rf.score(train_x,train_y))\n",
    "rfs = r2_score(test_y,pred_decision)\n",
    "print('R2 Score:',rfs*100)\n",
    "\n",
    "rfscore = cross_val_score(rf,x1,y1,cv=9)\n",
    "rfc = rfscore.mean()\n",
    "print('Cross Val Score:',rfc*100)\n",
    "print(\"Mean squared error:\",mean_squared_error(test_y,pred_decision))\n",
    "print(\"Mean absolute error:\",mean_absolute_error(test_y,pred_decision))"
   ]
  },
  {
   "cell_type": "markdown",
   "id": "393c798f",
   "metadata": {},
   "source": [
    "rf score 96.9% R2 Score: 77% Cross Val Score: 79%"
   ]
  },
  {
   "cell_type": "code",
   "execution_count": 413,
   "id": "67b4d8c6",
   "metadata": {},
   "outputs": [
    {
     "data": {
      "image/png": "[encoded data removed]",
      "text/plain": [
       "<Figure size 576x432 with 1 Axes>"
      ]
     },
     "metadata": {
      "needs_background": "light"
     },
     "output_type": "display_data"
    }
   ],
   "source": [
    "import matplotlib.pyplot as plt\n",
    "plt.figure(figsize=(8,6))\n",
    "plt.scatter(x=test_y, y=pred_decision, color='r')\n",
    "plt.plot(test_y,test_y, color='b')\n",
    "plt.xlabel('Actual data',fontsize=14)\n",
    "plt.ylabel('Predicted data',fontsize=14)\n",
    "plt.title('Random Forest Regressor',fontsize=18)\n",
    "plt.show()"
   ]
  },
  {
   "cell_type": "markdown",
   "id": "6e54559a",
   "metadata": {},
   "source": [
    "## 2. Decision Tree Regressor\n"
   ]
  },
  {
   "cell_type": "code",
   "execution_count": 414,
   "id": "b25352ac",
   "metadata": {},
   "outputs": [
    {
     "name": "stdout",
     "output_type": "stream",
     "text": [
      "{'criterion': 'mse', 'max_depth': None, 'max_features': 'sqrt', 'min_samples_split': 0.5}\n"
     ]
    }
   ],
   "source": [
    "# Importing Libraries and Hyper parameter tuning:\n",
    "from sklearn.model_selection import GridSearchCV\n",
    "from sklearn.tree import DecisionTreeRegressor\n",
    "\n",
    "parameters = {'criterion':['mse', 'mae'],\n",
    "              'max_features':[\"auto\",\"sqrt\", \"log2\"],\n",
    "              'max_depth':[2,4,8,10,None],\n",
    "            'min_samples_split':[0.25,0.5,1.0]}\n",
    "dt =DecisionTreeRegressor()\n",
    "clf = GridSearchCV(dt,parameters)\n",
    "clf.fit(train_x,train_y)\n",
    "\n",
    "print(clf.best_params_)"
   ]
  },
  {
   "cell_type": "markdown",
   "id": "722dc26f",
   "metadata": {},
   "source": [
    "Best parameters for DecisionTreeRegressor"
   ]
  },
  {
   "cell_type": "code",
   "execution_count": 415,
   "id": "249fe261",
   "metadata": {},
   "outputs": [
    {
     "name": "stdout",
     "output_type": "stream",
     "text": [
      "dt score 0.42278741107202544\n",
      "R2 Score: 43.54710952428346\n",
      "Cross Val Score: 52.925300724156564\n",
      "Mean squared error: 57531.525664917855\n",
      "Mean absolute error: 163.41243683872767\n"
     ]
    }
   ],
   "source": [
    "dt =DecisionTreeRegressor(criterion=\"mse\",max_features=\"sqrt\",max_depth=None,min_samples_split=0.5)\n",
    "dt.fit(train_x,train_y)\n",
    "dt.score(train_x,train_y)\n",
    "pred_decision = dt.predict(test_x)\n",
    "print('dt score',dt.score(train_x,train_y))\n",
    "dts = r2_score(test_y,pred_decision)\n",
    "print('R2 Score:',dts*100)\n",
    "\n",
    "dtscore = cross_val_score(dt,x1,y1,cv=9)\n",
    "dtc = dtscore.mean()\n",
    "print('Cross Val Score:',dtc*100)\n",
    "print(\"Mean squared error:\",mean_squared_error(test_y,pred_decision))\n",
    "print(\"Mean absolute error:\",mean_absolute_error(test_y,pred_decision))"
   ]
  },
  {
   "cell_type": "markdown",
   "id": "f7d9ee3e",
   "metadata": {},
   "source": [
    "dt score is 42% , r2score is 43.5% and cross val score is 52.9%"
   ]
  },
  {
   "cell_type": "code",
   "execution_count": 416,
   "id": "d57d5fec",
   "metadata": {},
   "outputs": [
    {
     "data": {
      "image/png": "[encoded data removed]",
      "text/plain": [
       "<Figure size 576x432 with 1 Axes>"
      ]
     },
     "metadata": {
      "needs_background": "light"
     },
     "output_type": "display_data"
    }
   ],
   "source": [
    "import matplotlib.pyplot as plt\n",
    "plt.figure(figsize=(8,6))\n",
    "plt.scatter(x=test_y, y=pred_decision, color='r')\n",
    "plt.plot(test_y,test_y, color='b')\n",
    "plt.xlabel('Actual data',fontsize=14)\n",
    "plt.ylabel('Predicted data',fontsize=14)\n",
    "plt.title('Decision Tree Regressor',fontsize=18)\n",
    "plt.show()"
   ]
  },
  {
   "cell_type": "markdown",
   "id": "e09afc28",
   "metadata": {},
   "source": [
    "# KNeighborsRegressor"
   ]
  },
  {
   "cell_type": "code",
   "execution_count": 417,
   "id": "6868b00d",
   "metadata": {},
   "outputs": [
    {
     "name": "stdout",
     "output_type": "stream",
     "text": [
      "{'algorithm': 'auto', 'n_neighbors': 9, 'weights': 'distance'}\n"
     ]
    }
   ],
   "source": [
    "# Importing Libraries and Hyper parameter tuning:\n",
    "from sklearn.neighbors import KNeighborsRegressor\n",
    "from sklearn.model_selection import GridSearchCV\n",
    "from sklearn.metrics import mean_squared_error,mean_absolute_error\n",
    "\n",
    "parameters = {'n_neighbors':list(range(0,10)),\n",
    "              'weights':['uniform', 'distance'],\n",
    "              'algorithm':['auto', 'ball_tree', 'kd_tree', 'brute']\n",
    "              }\n",
    "kn =KNeighborsRegressor()\n",
    "clf = GridSearchCV(kn,parameters)\n",
    "clf.fit(train_x,train_y)\n",
    "\n",
    "print(clf.best_params_)"
   ]
  },
  {
   "cell_type": "markdown",
   "id": "8443de2b",
   "metadata": {},
   "source": [
    "Best parameters for KNeighborsRegressor "
   ]
  },
  {
   "cell_type": "code",
   "execution_count": 418,
   "id": "54b9fd85",
   "metadata": {},
   "outputs": [
    {
     "name": "stdout",
     "output_type": "stream",
     "text": [
      "kn score 1.0\n",
      "R2 Score: 81.80179562399684\n",
      "Cross Val Score: 74.91593670858417\n",
      "Mean squared error: 18545.91418244218\n",
      "Mean absolute error: 79.15374699185482\n"
     ]
    }
   ],
   "source": [
    "kn =KNeighborsRegressor(n_neighbors=9,algorithm=\"auto\",weights='distance')\n",
    "kn.fit(train_x,train_y)\n",
    "kn.score(train_x,train_y)\n",
    "pred_decision = kn.predict(test_x)\n",
    "print('kn score',kn.score(train_x,train_y))\n",
    "kns = r2_score(test_y,pred_decision)\n",
    "print('R2 Score:',kns*100)\n",
    "\n",
    "knscore = cross_val_score(kn,x1,y1,cv=9)\n",
    "knc = knscore.mean()\n",
    "print('Cross Val Score:',knc*100)\n",
    "print(\"Mean squared error:\",mean_squared_error(test_y,pred_decision))\n",
    "print(\"Mean absolute error:\",mean_absolute_error(test_y,pred_decision))"
   ]
  },
  {
   "cell_type": "markdown",
   "id": "4024fe1b",
   "metadata": {},
   "source": [
    "kn score 100%\n",
    "R2 Score: 81.8%\n",
    "Cross Val Score: 74.9%"
   ]
  },
  {
   "cell_type": "code",
   "execution_count": 419,
   "id": "d10afdc4",
   "metadata": {},
   "outputs": [
    {
     "data": {
      "image/png": "[encoded data removed]",
      "text/plain": [
       "<Figure size 576x432 with 1 Axes>"
      ]
     },
     "metadata": {
      "needs_background": "light"
     },
     "output_type": "display_data"
    }
   ],
   "source": [
    "import matplotlib.pyplot as plt\n",
    "plt.figure(figsize=(8,6))\n",
    "plt.scatter(x=test_y, y=pred_decision, color='r')\n",
    "plt.plot(test_y,test_y, color='b')\n",
    "plt.xlabel('Actual data',fontsize=14)\n",
    "plt.ylabel('Predicted data',fontsize=14)\n",
    "plt.title('KNeighbors Regressor',fontsize=18)\n",
    "plt.show()"
   ]
  },
  {
   "cell_type": "markdown",
   "id": "3e030bd1",
   "metadata": {},
   "source": [
    "# SVRegressor"
   ]
  },
  {
   "cell_type": "code",
   "execution_count": 420,
   "id": "779b442c",
   "metadata": {},
   "outputs": [
    {
     "name": "stdout",
     "output_type": "stream",
     "text": [
      "{'C': 1000, 'gamma': 0.1, 'kernel': 'rbf'}\n"
     ]
    }
   ],
   "source": [
    "# Importing Libraries and Hyper parameter tuning:\n",
    "from sklearn.svm import SVR\n",
    "from sklearn.model_selection import GridSearchCV\n",
    "from sklearn.metrics import mean_squared_error,mean_absolute_error\n",
    "svr =SVR()\n",
    "parameters = [{'kernel': ['rbf'], 'gamma': [1e-4, 1e-3, 0.01, 0.1, 0.2, 0.5, 0.6, 0.9],'C': [1, 10, 100, 1000, 10000]}]\n",
    "\n",
    "clf = GridSearchCV(svr,parameters)\n",
    "clf.fit(train_x,train_y)\n",
    "\n",
    "print(clf.best_params_)"
   ]
  },
  {
   "cell_type": "markdown",
   "id": "32070b76",
   "metadata": {},
   "source": [
    "Best parameters for SV Regressor"
   ]
  },
  {
   "cell_type": "code",
   "execution_count": 421,
   "id": "a6aca2d2",
   "metadata": {},
   "outputs": [
    {
     "name": "stdout",
     "output_type": "stream",
     "text": [
      "svr score 0.8881977080965786\n",
      "R2 Score: 81.53872589697644\n",
      "Cross Val Score: 75.70305660101178\n",
      "Mean squared error: 18814.010335255585\n",
      "Mean absolute error: 80.21081633761533\n"
     ]
    }
   ],
   "source": [
    "svr =SVR(C=1000,gamma=0.1,kernel='rbf')\n",
    "svr.fit(train_x,train_y)\n",
    "svr.score(train_x,train_y)\n",
    "pred_decision = svr.predict(test_x)\n",
    "print('svr score',svr.score(train_x,train_y))\n",
    "svrs = r2_score(test_y,pred_decision)\n",
    "print('R2 Score:',svrs*100)\n",
    "\n",
    "svrscore = cross_val_score(svr,x1,y1,cv=9)\n",
    "svrc = svrscore.mean()\n",
    "print('Cross Val Score:',svrc*100)\n",
    "print(\"Mean squared error:\",mean_squared_error(test_y,pred_decision))\n",
    "print(\"Mean absolute error:\",mean_absolute_error(test_y,pred_decision))"
   ]
  },
  {
   "cell_type": "markdown",
   "id": "9c216c69",
   "metadata": {},
   "source": [
    "svr score = 88.8%\n",
    "r2score = 81.5%\n",
    "cross val score = 75.7%"
   ]
  },
  {
   "cell_type": "code",
   "execution_count": null,
   "id": "29c51de5",
   "metadata": {},
   "outputs": [],
   "source": [
    "Best Model is SVR as the difference between r2score and cross val score is less and has less mse"
   ]
  },
  {
   "cell_type": "markdown",
   "id": "c52b0b9a",
   "metadata": {},
   "source": [
    "# Model saving:"
   ]
  },
  {
   "cell_type": "code",
   "execution_count": 435,
   "id": "40c3ce3a",
   "metadata": {},
   "outputs": [],
   "source": [
    "import pickle\n",
    "filename = 'capacity_mw.pkl'\n",
    "pickle.dump(svr, open(filename, 'wb'))"
   ]
  },
  {
   "cell_type": "markdown",
   "id": "bdaacd63",
   "metadata": {},
   "source": [
    "## Accuracy"
   ]
  },
  {
   "cell_type": "code",
   "execution_count": 436,
   "id": "8f705404",
   "metadata": {},
   "outputs": [
    {
     "name": "stdout",
     "output_type": "stream",
     "text": [
      "0.8153872589697645\n"
     ]
    }
   ],
   "source": [
    "loaded_model = pickle.load(open('capacity_mw.pkl','rb'))\n",
    "result = loaded_model.score(test_x, test_y)\n",
    "print(result)"
   ]
  },
  {
   "cell_type": "markdown",
   "id": "47e020a4",
   "metadata": {},
   "source": [
    "Accuracy of 81.5% so model performing well"
   ]
  },
  {
   "cell_type": "markdown",
   "id": "159c3b33",
   "metadata": {},
   "source": [
    "## Conclusion:"
   ]
  },
  {
   "cell_type": "code",
   "execution_count": 437,
   "id": "c5897298",
   "metadata": {},
   "outputs": [
    {
     "data": {
      "text/html": [
       "<div>\n",
       "<style scoped>\n",
       "    .dataframe tbody tr th:only-of-type {\n",
       "        vertical-align: middle;\n",
       "    }\n",
       "\n",
       "    .dataframe tbody tr th {\n",
       "        vertical-align: top;\n",
       "    }\n",
       "\n",
       "    .dataframe thead th {\n",
       "        text-align: right;\n",
       "    }\n",
       "</style>\n",
       "<table border=\"1\" class=\"dataframe\">\n",
       "  <thead>\n",
       "    <tr style=\"text-align: right;\">\n",
       "      <th></th>\n",
       "      <th>original</th>\n",
       "      <th>predicted</th>\n",
       "    </tr>\n",
       "  </thead>\n",
       "  <tbody>\n",
       "    <tr>\n",
       "      <th>0</th>\n",
       "      <td>78.90</td>\n",
       "      <td>32.464781</td>\n",
       "    </tr>\n",
       "    <tr>\n",
       "      <th>1</th>\n",
       "      <td>18.90</td>\n",
       "      <td>19.866776</td>\n",
       "    </tr>\n",
       "    <tr>\n",
       "      <th>2</th>\n",
       "      <td>240.00</td>\n",
       "      <td>197.931421</td>\n",
       "    </tr>\n",
       "    <tr>\n",
       "      <th>3</th>\n",
       "      <td>37.60</td>\n",
       "      <td>40.875189</td>\n",
       "    </tr>\n",
       "    <tr>\n",
       "      <th>4</th>\n",
       "      <td>1340.00</td>\n",
       "      <td>1086.059567</td>\n",
       "    </tr>\n",
       "    <tr>\n",
       "      <th>...</th>\n",
       "      <td>...</td>\n",
       "      <td>...</td>\n",
       "    </tr>\n",
       "    <tr>\n",
       "      <th>162</th>\n",
       "      <td>9.35</td>\n",
       "      <td>13.264192</td>\n",
       "    </tr>\n",
       "    <tr>\n",
       "      <th>163</th>\n",
       "      <td>125.00</td>\n",
       "      <td>136.536663</td>\n",
       "    </tr>\n",
       "    <tr>\n",
       "      <th>164</th>\n",
       "      <td>225.00</td>\n",
       "      <td>219.091002</td>\n",
       "    </tr>\n",
       "    <tr>\n",
       "      <th>165</th>\n",
       "      <td>500.00</td>\n",
       "      <td>361.208792</td>\n",
       "    </tr>\n",
       "    <tr>\n",
       "      <th>166</th>\n",
       "      <td>25.50</td>\n",
       "      <td>40.121713</td>\n",
       "    </tr>\n",
       "  </tbody>\n",
       "</table>\n",
       "<p>167 rows × 2 columns</p>\n",
       "</div>"
      ],
      "text/plain": [
       "     original    predicted\n",
       "0       78.90    32.464781\n",
       "1       18.90    19.866776\n",
       "2      240.00   197.931421\n",
       "3       37.60    40.875189\n",
       "4     1340.00  1086.059567\n",
       "..        ...          ...\n",
       "162      9.35    13.264192\n",
       "163    125.00   136.536663\n",
       "164    225.00   219.091002\n",
       "165    500.00   361.208792\n",
       "166     25.50    40.121713\n",
       "\n",
       "[167 rows x 2 columns]"
      ]
     },
     "execution_count": 437,
     "metadata": {},
     "output_type": "execute_result"
    }
   ],
   "source": [
    "import numpy as np\n",
    "a=np.array(test_y)\n",
    "pred_decision =np.array(svr.predict(test_x))\n",
    "df_com=pd.DataFrame({\"original\":a, \"predicted\": pred_decision},index=range(len(a)))\n",
    "df_com"
   ]
  },
  {
   "cell_type": "markdown",
   "id": "b73ebbc2",
   "metadata": {},
   "source": [
    "Model is predicting values quiet well as it has 81% accuracy."
   ]
  },
  {
   "cell_type": "markdown",
   "id": "e204d9bb",
   "metadata": {},
   "source": [
    "## II. Classification:"
   ]
  },
  {
   "cell_type": "markdown",
   "id": "d0d14232",
   "metadata": {},
   "source": [
    "## Logistic Regression:"
   ]
  },
  {
   "cell_type": "code",
   "execution_count": 438,
   "id": "2757d5b8",
   "metadata": {},
   "outputs": [],
   "source": [
    "from sklearn.model_selection import train_test_split\n",
    "from sklearn.linear_model import LogisticRegression\n",
    "lr=LogisticRegression()\n",
    "from sklearn.metrics import r2_score\n",
    "from sklearn.metrics import accuracy_score\n",
    "from sklearn.metrics import classification_report"
   ]
  },
  {
   "cell_type": "code",
   "execution_count": 439,
   "id": "0aeb33b0",
   "metadata": {},
   "outputs": [
    {
     "name": "stdout",
     "output_type": "stream",
     "text": [
      "At random state 17 The model performs very well\n",
      "At random state:- 17\n",
      "Training r2_score is:- 63.51351351351351\n",
      "Testing r2_score is:- 63.47305389221557\n",
      "At random state 44 The model performs very well\n",
      "At random state:- 44\n",
      "Training r2_score is:- 65.31531531531532\n",
      "Testing r2_score is:- 65.26946107784431\n",
      "At random state 68 The model performs very well\n",
      "At random state:- 68\n",
      "Training r2_score is:- 63.51351351351351\n",
      "Testing r2_score is:- 63.47305389221557\n",
      "At random state 101 The model performs very well\n",
      "At random state:- 101\n",
      "Training r2_score is:- 64.11411411411412\n",
      "Testing r2_score is:- 64.07185628742515\n",
      "At random state 117 The model performs very well\n",
      "At random state:- 117\n",
      "Training r2_score is:- 65.31531531531532\n",
      "Testing r2_score is:- 65.26946107784431\n",
      "At random state 246 The model performs very well\n",
      "At random state:- 246\n",
      "Training r2_score is:- 64.11411411411412\n",
      "Testing r2_score is:- 64.07185628742515\n",
      "At random state 275 The model performs very well\n",
      "At random state:- 275\n",
      "Training r2_score is:- 64.11411411411412\n",
      "Testing r2_score is:- 64.07185628742515\n",
      "At random state 294 The model performs very well\n",
      "At random state:- 294\n",
      "Training r2_score is:- 64.11411411411412\n",
      "Testing r2_score is:- 64.07185628742515\n",
      "At random state 305 The model performs very well\n",
      "At random state:- 305\n",
      "Training r2_score is:- 63.51351351351351\n",
      "Testing r2_score is:- 63.47305389221557\n",
      "At random state 313 The model performs very well\n",
      "At random state:- 313\n",
      "Training r2_score is:- 64.11411411411412\n",
      "Testing r2_score is:- 64.07185628742515\n",
      "At random state 335 The model performs very well\n",
      "At random state:- 335\n",
      "Training r2_score is:- 64.71471471471472\n",
      "Testing r2_score is:- 64.67065868263472\n",
      "At random state 614 The model performs very well\n",
      "At random state:- 614\n",
      "Training r2_score is:- 64.11411411411412\n",
      "Testing r2_score is:- 64.07185628742515\n",
      "At random state 669 The model performs very well\n",
      "At random state:- 669\n",
      "Training r2_score is:- 62.91291291291291\n",
      "Testing r2_score is:- 62.874251497005986\n",
      "At random state 681 The model performs very well\n",
      "At random state:- 681\n",
      "Training r2_score is:- 64.71471471471472\n",
      "Testing r2_score is:- 64.67065868263472\n",
      "At random state 689 The model performs very well\n",
      "At random state:- 689\n",
      "Training r2_score is:- 64.11411411411412\n",
      "Testing r2_score is:- 64.07185628742515\n",
      "At random state 692 The model performs very well\n",
      "At random state:- 692\n",
      "Training r2_score is:- 64.71471471471472\n",
      "Testing r2_score is:- 64.67065868263472\n",
      "At random state 734 The model performs very well\n",
      "At random state:- 734\n",
      "Training r2_score is:- 65.31531531531532\n",
      "Testing r2_score is:- 65.26946107784431\n",
      "At random state 757 The model performs very well\n",
      "At random state:- 757\n",
      "Training r2_score is:- 65.91591591591592\n",
      "Testing r2_score is:- 65.86826347305389\n",
      "At random state 799 The model performs very well\n",
      "At random state:- 799\n",
      "Training r2_score is:- 64.71471471471472\n",
      "Testing r2_score is:- 64.67065868263472\n"
     ]
    }
   ],
   "source": [
    "l=[]\n",
    "for i in range(0,1000):\n",
    "    train_x,test_x,train_y,test_y=train_test_split(x2,y2,test_size=0.20,random_state=i)\n",
    "    lr.fit(train_x,train_y)\n",
    "    pred_train=lr.predict(train_x)\n",
    "    pred_test=lr.predict(test_x)\n",
    "    # \n",
    "    if round(accuracy_score(train_y,pred_train)*100,1)==round(accuracy_score(test_y,pred_test)*100,1):\n",
    "        print(\"At random state\",i,\"The model performs very well\")\n",
    "        print(\"At random state:-\",i)\n",
    "        print(\"Training r2_score is:-\",accuracy_score(train_y,pred_train)*100)\n",
    "        print(\"Testing r2_score is:-\",accuracy_score(test_y,pred_test)*100)\n",
    "        l.append(i)"
   ]
  },
  {
   "cell_type": "code",
   "execution_count": 440,
   "id": "5cbaaee6",
   "metadata": {},
   "outputs": [],
   "source": [
    "train_x,test_x,train_y,test_y=train_test_split(x2,y2,test_size=0.20,random_state=757)"
   ]
  },
  {
   "cell_type": "code",
   "execution_count": 441,
   "id": "5988c4f1",
   "metadata": {},
   "outputs": [
    {
     "name": "stdout",
     "output_type": "stream",
     "text": [
      "              precision    recall  f1-score   support\n",
      "\n",
      "           0       0.00      0.00      0.00         6\n",
      "           1       0.43      0.39      0.41        54\n",
      "           2       0.00      0.00      0.00         8\n",
      "           3       0.24      0.29      0.26        38\n",
      "           4       0.00      0.00      0.00         3\n",
      "           5       0.00      0.00      0.00         4\n",
      "           6       0.10      0.13      0.11        23\n",
      "           7       0.27      0.23      0.25        31\n",
      "\n",
      "    accuracy                           0.25       167\n",
      "   macro avg       0.13      0.13      0.13       167\n",
      "weighted avg       0.26      0.25      0.25       167\n",
      "\n"
     ]
    }
   ],
   "source": [
    "print(classification_report(test_y,pred_test))"
   ]
  },
  {
   "cell_type": "markdown",
   "id": "489e969a",
   "metadata": {},
   "source": [
    "Classification report is printed"
   ]
  },
  {
   "cell_type": "code",
   "execution_count": 442,
   "id": "0143f749",
   "metadata": {},
   "outputs": [
    {
     "name": "stdout",
     "output_type": "stream",
     "text": [
      "At cv:- 2\n",
      "Cross validation score is:- 57.864381571665746\n",
      "Accuracy score is:- 68.26347305389223\n",
      "At cv:- 3\n",
      "Cross validation score is:- 61.94712100355816\n",
      "Accuracy score is:- 68.26347305389223\n",
      "At cv:- 4\n",
      "Cross validation score is:- 62.310222672064775\n",
      "Accuracy score is:- 68.26347305389223\n",
      "At cv:- 5\n",
      "Cross validation score is:- 62.432003462953624\n",
      "Accuracy score is:- 68.26347305389223\n",
      "At cv:- 6\n",
      "Cross validation score is:- 62.549091161853134\n",
      "Accuracy score is:- 68.26347305389223\n",
      "At cv:- 7\n",
      "Cross validation score is:- 62.184873949579845\n",
      "Accuracy score is:- 68.26347305389223\n",
      "At cv:- 8\n",
      "Cross validation score is:- 62.19207875457875\n",
      "Accuracy score is:- 68.26347305389223\n",
      "At cv:- 9\n",
      "Cross validation score is:- 62.796737831800954\n",
      "Accuracy score is:- 68.26347305389223\n"
     ]
    }
   ],
   "source": [
    "pred_lr=lr.predict(test_x)\n",
    "from sklearn.model_selection import cross_val_score\n",
    "lss= accuracy_score(test_y,pred_lr)\n",
    "\n",
    "for j in range(2,10):\n",
    "    lsscore= cross_val_score(lr,x2,y2,cv=j)\n",
    "    lsc=lsscore.mean()\n",
    "    print(\"At cv:-\",j)\n",
    "    print(\"Cross validation score is:-\", lsc*100)\n",
    "    print(\"Accuracy score is:-\", lss*100)"
   ]
  },
  {
   "cell_type": "code",
   "execution_count": 443,
   "id": "029a9bb2",
   "metadata": {},
   "outputs": [],
   "source": [
    "# Finding y_pred_proba value\n",
    "y_pred_proba=lr.predict_proba(test_x)"
   ]
  },
  {
   "cell_type": "code",
   "execution_count": 444,
   "id": "a8b839ef",
   "metadata": {},
   "outputs": [
    {
     "data": {
      "text/plain": [
       "0.9083835311594962"
      ]
     },
     "execution_count": 444,
     "metadata": {},
     "output_type": "execute_result"
    }
   ],
   "source": [
    "#Finding ROC_AUC_SCORE:\n",
    "\n",
    "from sklearn.metrics import roc_auc_score\n",
    "roc_auc_score(test_y,y_pred_proba,multi_class ='ovr')"
   ]
  },
  {
   "cell_type": "markdown",
   "id": "9c380321",
   "metadata": {},
   "source": [
    "Roc Auc Score is 90.8%"
   ]
  },
  {
   "cell_type": "code",
   "execution_count": 445,
   "id": "7c774430",
   "metadata": {},
   "outputs": [
    {
     "name": "stdout",
     "output_type": "stream",
     "text": [
      "GridSearchCV(estimator=Ridge(),\n",
      "             param_grid={'alpha': [1, 0.1, 0.01, 0.001, 0.0001, 0]})\n",
      "0.3212211450078155\n",
      "1\n",
      "{'alpha': 1}\n"
     ]
    }
   ],
   "source": [
    "# GridsearchCV\n",
    "from sklearn.model_selection import GridSearchCV\n",
    "from sklearn.model_selection import cross_val_score\n",
    "from sklearn.linear_model import Ridge\n",
    "import warnings\n",
    "warnings.filterwarnings('ignore')\n",
    "alphav= {'alpha':[1,0.1,0.01,0.001,0.0001,0]}\n",
    "model=Ridge()\n",
    "grid= GridSearchCV(estimator=model,param_grid=alphav)\n",
    "grid.fit(train_x,train_y)\n",
    "print(grid)\n",
    "print(grid.best_score_)\n",
    "print(grid.best_estimator_.alpha)\n",
    "print(grid.best_params_)"
   ]
  },
  {
   "cell_type": "code",
   "execution_count": 446,
   "id": "77966f2e",
   "metadata": {},
   "outputs": [
    {
     "name": "stdout",
     "output_type": "stream",
     "text": [
      "lr score: 0.6591591591591591\n",
      "Score: 0.3456106184344927\n",
      "[ 0.0811919  -1.16423553  0.19162364 -0.01572776  0.59202727 -0.76361474\n",
      " -0.0840947   0.0910273  -0.01716189 -0.07307493  0.09418993]\n",
      "Score: 0.3456106184344927\n"
     ]
    }
   ],
   "source": [
    "from sklearn.linear_model import LogisticRegression\n",
    "lr=LogisticRegression()\n",
    "lr.fit(train_x,train_y)\n",
    "print('lr score:',lr.score(train_x,train_y))\n",
    "rd=Ridge(alpha=1)\n",
    "rd.fit(train_x,train_y)\n",
    "print('Score:', rd.score(train_x,train_y))\n",
    "print(rd.coef_)\n",
    "print('Score:', rd.score(train_x,train_y))"
   ]
  },
  {
   "cell_type": "markdown",
   "id": "795aab9e",
   "metadata": {},
   "source": [
    "lr score is 65%"
   ]
  },
  {
   "cell_type": "markdown",
   "id": "af1bf5b6",
   "metadata": {},
   "source": [
    "## 1. Decision Tree classifier"
   ]
  },
  {
   "cell_type": "code",
   "execution_count": 447,
   "id": "77e474cc",
   "metadata": {},
   "outputs": [
    {
     "name": "stdout",
     "output_type": "stream",
     "text": [
      "{'criterion': 'gini'}\n",
      "0.729693637077769\n",
      "0.73\n"
     ]
    }
   ],
   "source": [
    "from sklearn.model_selection import GridSearchCV\n",
    "from sklearn.tree import DecisionTreeClassifier\n",
    "\n",
    "dtc=DecisionTreeClassifier()\n",
    "grid_param={\n",
    "    'criterion':['gini','entropy']\n",
    "  }\n",
    "gd_sr=GridSearchCV(estimator=dtc,\n",
    "                  param_grid=grid_param,\n",
    "                  scoring='accuracy',\n",
    "                  cv=5)\n",
    "gd_sr.fit(train_x,train_y)\n",
    "best_parameters=gd_sr.best_params_\n",
    "print(best_parameters)\n",
    "best_result=gd_sr.best_score_\n",
    "print(best_result)\n",
    "\n",
    "print(round(best_result,2))"
   ]
  },
  {
   "cell_type": "markdown",
   "id": "26f01f28",
   "metadata": {},
   "source": [
    "Best parameters for DecisionTreeClassifier"
   ]
  },
  {
   "cell_type": "code",
   "execution_count": 448,
   "id": "88fe102b",
   "metadata": {},
   "outputs": [
    {
     "data": {
      "text/plain": [
       "1.0"
      ]
     },
     "execution_count": 448,
     "metadata": {},
     "output_type": "execute_result"
    }
   ],
   "source": [
    "dtc= DecisionTreeClassifier(criterion='gini')\n",
    "dtc.fit(train_x,train_y)\n",
    "dtc.score(train_x,train_y)"
   ]
  },
  {
   "cell_type": "code",
   "execution_count": 453,
   "id": "1e4266ce",
   "metadata": {},
   "outputs": [
    {
     "name": "stdout",
     "output_type": "stream",
     "text": [
      "Cross Val Score: 75.51167582417581\n"
     ]
    }
   ],
   "source": [
    "dtscore = cross_val_score(dtc,x2,y2,cv=8)\n",
    "dts = dtscore.mean()\n",
    "print('Cross Val Score:',dts*100)"
   ]
  },
  {
   "cell_type": "markdown",
   "id": "e36cc1b4",
   "metadata": {},
   "source": [
    "Cross Val Score: 75.5%"
   ]
  },
  {
   "cell_type": "code",
   "execution_count": 454,
   "id": "87616434",
   "metadata": {},
   "outputs": [],
   "source": [
    "# Finding y_pred_proba value\n",
    "y_pred_proba=dtc.predict_proba(test_x)"
   ]
  },
  {
   "cell_type": "code",
   "execution_count": 455,
   "id": "31143453",
   "metadata": {},
   "outputs": [
    {
     "data": {
      "text/plain": [
       "0.7564673661630376"
      ]
     },
     "execution_count": 455,
     "metadata": {},
     "output_type": "execute_result"
    }
   ],
   "source": [
    "#Finding ROC_AUC_SCORE:\n",
    "\n",
    "from sklearn.metrics import roc_auc_score\n",
    "roc_auc_score(test_y,y_pred_proba,multi_class ='ovr')"
   ]
  },
  {
   "cell_type": "markdown",
   "id": "6d6c75df",
   "metadata": {},
   "source": [
    "roc_auc_score is 75%"
   ]
  },
  {
   "cell_type": "code",
   "execution_count": 456,
   "id": "60dfa3ca",
   "metadata": {},
   "outputs": [
    {
     "name": "stdout",
     "output_type": "stream",
     "text": [
      "Accuracy of the model is:  0.7604790419161677\n",
      "Confusion Matrix:  [[ 4  2  0  0  0  0  0  0]\n",
      " [ 2 38  5  3  3  0  2  1]\n",
      " [ 0  1  3  4  0  0  0  0]\n",
      " [ 0  2  3 33  0  0  0  0]\n",
      " [ 0  2  1  0  0  0  0  0]\n",
      " [ 0  1  2  1  0  0  0  0]\n",
      " [ 2  3  0  0  0  0 18  0]\n",
      " [ 0  0  0  0  0  0  0 31]]\n"
     ]
    }
   ],
   "source": [
    "#Predicted value\n",
    "pred = dtc.predict(test_x)\n",
    "from sklearn.metrics import accuracy_score, confusion_matrix\n",
    "accuracy=accuracy_score(test_y,pred)\n",
    "confusion= confusion_matrix(test_y,pred)\n",
    "print(\"Accuracy of the model is: \",accuracy)\n",
    "print(\"Confusion Matrix: \", confusion)"
   ]
  },
  {
   "cell_type": "markdown",
   "id": "26be74d5",
   "metadata": {},
   "source": [
    "Accuracy of Decision Tree Classifier model is 76%"
   ]
  },
  {
   "cell_type": "code",
   "execution_count": 457,
   "id": "fd1349ff",
   "metadata": {},
   "outputs": [
    {
     "name": "stdout",
     "output_type": "stream",
     "text": [
      "              precision    recall  f1-score   support\n",
      "\n",
      "           0       0.50      0.67      0.57         6\n",
      "           1       0.78      0.70      0.74        54\n",
      "           2       0.21      0.38      0.27         8\n",
      "           3       0.80      0.87      0.84        38\n",
      "           4       0.00      0.00      0.00         3\n",
      "           5       0.00      0.00      0.00         4\n",
      "           6       0.90      0.78      0.84        23\n",
      "           7       0.97      1.00      0.98        31\n",
      "\n",
      "    accuracy                           0.76       167\n",
      "   macro avg       0.52      0.55      0.53       167\n",
      "weighted avg       0.77      0.76      0.76       167\n",
      "\n"
     ]
    }
   ],
   "source": [
    "print(classification_report(test_y,pred))"
   ]
  },
  {
   "cell_type": "markdown",
   "id": "3388d8b9",
   "metadata": {},
   "source": [
    "Classification report is printed for Decision Tree Classifier"
   ]
  },
  {
   "cell_type": "markdown",
   "id": "8b989afe",
   "metadata": {},
   "source": [
    "## 2. SVM(SVC)"
   ]
  },
  {
   "cell_type": "code",
   "execution_count": 458,
   "id": "1e55a6f7",
   "metadata": {},
   "outputs": [
    {
     "name": "stdout",
     "output_type": "stream",
     "text": [
      "{'C': 10, 'kernel': 'rbf'}\n"
     ]
    }
   ],
   "source": [
    "from sklearn.model_selection import GridSearchCV\n",
    "from sklearn import svm\n",
    "parameters={'kernel':['linear','rbf'],'C':[1,10]}\n",
    "svc=svm.SVC()\n",
    "clf= GridSearchCV(svc,parameters)\n",
    "clf.fit(train_x,train_y)\n",
    "print(clf.best_params_)"
   ]
  },
  {
   "cell_type": "markdown",
   "id": "1baa0872",
   "metadata": {},
   "source": [
    "Best parameters for SVC"
   ]
  },
  {
   "cell_type": "code",
   "execution_count": 459,
   "id": "16ece8b4",
   "metadata": {},
   "outputs": [
    {
     "data": {
      "text/plain": [
       "0.8618618618618619"
      ]
     },
     "execution_count": 459,
     "metadata": {},
     "output_type": "execute_result"
    }
   ],
   "source": [
    "svc=svm.SVC(kernel='rbf',C=10)\n",
    "svc.fit(train_x,train_y)\n",
    "svc.score(train_x,train_y)"
   ]
  },
  {
   "cell_type": "markdown",
   "id": "f1af8875",
   "metadata": {},
   "source": [
    "SV Score: 86.1%"
   ]
  },
  {
   "cell_type": "code",
   "execution_count": 460,
   "id": "4f3cf761",
   "metadata": {},
   "outputs": [
    {
     "name": "stdout",
     "output_type": "stream",
     "text": [
      "Accuracy of the model is:  0.7844311377245509\n",
      "Confusion Matrix:  [[ 4  0  0  0  0  0  2  0]\n",
      " [ 5 42  1  1  0  0  4  1]\n",
      " [ 0  3  2  3  0  0  0  0]\n",
      " [ 0  3  0 35  0  0  0  0]\n",
      " [ 0  2  1  0  0  0  0  0]\n",
      " [ 0  2  0  0  0  1  0  1]\n",
      " [ 0  4  0  0  0  0 18  1]\n",
      " [ 0  0  0  2  0  0  0 29]]\n"
     ]
    }
   ],
   "source": [
    "#Predicted value\n",
    "pred = svc.predict(test_x)\n",
    "from sklearn.metrics import accuracy_score, confusion_matrix\n",
    "accuracy=accuracy_score(test_y,pred)\n",
    "confusion=confusion_matrix(test_y,pred)\n",
    "print(\"Accuracy of the model is: \",accuracy)\n",
    "print(\"Confusion Matrix: \", confusion)"
   ]
  },
  {
   "cell_type": "markdown",
   "id": "64b73a71",
   "metadata": {},
   "source": [
    "Accuracy of the model is: 78.4%"
   ]
  },
  {
   "cell_type": "code",
   "execution_count": 461,
   "id": "f39e162c",
   "metadata": {},
   "outputs": [
    {
     "ename": "AttributeError",
     "evalue": "predict_proba is not available when  probability=False",
     "output_type": "error",
     "traceback": [
      "\u001b[1;31m---------------------------------------------------------------------------\u001b[0m",
      "\u001b[1;31mAttributeError\u001b[0m                            Traceback (most recent call last)",
      "\u001b[1;32m<ipython-input-461-ba38b39daf07>\u001b[0m in \u001b[0;36m<module>\u001b[1;34m\u001b[0m\n\u001b[1;32m----> 1\u001b[1;33m \u001b[0my_pred_proba\u001b[0m\u001b[1;33m=\u001b[0m\u001b[0msvc\u001b[0m\u001b[1;33m.\u001b[0m\u001b[0mpredict_proba\u001b[0m\u001b[1;33m(\u001b[0m\u001b[0mtest_x\u001b[0m\u001b[1;33m)\u001b[0m\u001b[1;33m\u001b[0m\u001b[1;33m\u001b[0m\u001b[0m\n\u001b[0m",
      "\u001b[1;32mD:\\Anaconda\\lib\\site-packages\\sklearn\\svm\\_base.py\u001b[0m in \u001b[0;36mpredict_proba\u001b[1;34m(self)\u001b[0m\n\u001b[0;32m    664\u001b[0m         \u001b[0mdatasets\u001b[0m\u001b[1;33m.\u001b[0m\u001b[1;33m\u001b[0m\u001b[1;33m\u001b[0m\u001b[0m\n\u001b[0;32m    665\u001b[0m         \"\"\"\n\u001b[1;32m--> 666\u001b[1;33m         \u001b[0mself\u001b[0m\u001b[1;33m.\u001b[0m\u001b[0m_check_proba\u001b[0m\u001b[1;33m(\u001b[0m\u001b[1;33m)\u001b[0m\u001b[1;33m\u001b[0m\u001b[1;33m\u001b[0m\u001b[0m\n\u001b[0m\u001b[0;32m    667\u001b[0m         \u001b[1;32mreturn\u001b[0m \u001b[0mself\u001b[0m\u001b[1;33m.\u001b[0m\u001b[0m_predict_proba\u001b[0m\u001b[1;33m\u001b[0m\u001b[1;33m\u001b[0m\u001b[0m\n\u001b[0;32m    668\u001b[0m \u001b[1;33m\u001b[0m\u001b[0m\n",
      "\u001b[1;32mD:\\Anaconda\\lib\\site-packages\\sklearn\\svm\\_base.py\u001b[0m in \u001b[0;36m_check_proba\u001b[1;34m(self)\u001b[0m\n\u001b[0;32m    631\u001b[0m     \u001b[1;32mdef\u001b[0m \u001b[0m_check_proba\u001b[0m\u001b[1;33m(\u001b[0m\u001b[0mself\u001b[0m\u001b[1;33m)\u001b[0m\u001b[1;33m:\u001b[0m\u001b[1;33m\u001b[0m\u001b[1;33m\u001b[0m\u001b[0m\n\u001b[0;32m    632\u001b[0m         \u001b[1;32mif\u001b[0m \u001b[1;32mnot\u001b[0m \u001b[0mself\u001b[0m\u001b[1;33m.\u001b[0m\u001b[0mprobability\u001b[0m\u001b[1;33m:\u001b[0m\u001b[1;33m\u001b[0m\u001b[1;33m\u001b[0m\u001b[0m\n\u001b[1;32m--> 633\u001b[1;33m             raise AttributeError(\"predict_proba is not available when \"\n\u001b[0m\u001b[0;32m    634\u001b[0m                                  \" probability=False\")\n\u001b[0;32m    635\u001b[0m         \u001b[1;32mif\u001b[0m \u001b[0mself\u001b[0m\u001b[1;33m.\u001b[0m\u001b[0m_impl\u001b[0m \u001b[1;32mnot\u001b[0m \u001b[1;32min\u001b[0m \u001b[1;33m(\u001b[0m\u001b[1;34m'c_svc'\u001b[0m\u001b[1;33m,\u001b[0m \u001b[1;34m'nu_svc'\u001b[0m\u001b[1;33m)\u001b[0m\u001b[1;33m:\u001b[0m\u001b[1;33m\u001b[0m\u001b[1;33m\u001b[0m\u001b[0m\n",
      "\u001b[1;31mAttributeError\u001b[0m: predict_proba is not available when  probability=False"
     ]
    }
   ],
   "source": [
    "y_pred_proba=svc.predict_proba(test_x)"
   ]
  },
  {
   "cell_type": "code",
   "execution_count": 462,
   "id": "cb644ec6",
   "metadata": {},
   "outputs": [
    {
     "data": {
      "text/plain": [
       "0.7564673661630376"
      ]
     },
     "execution_count": 462,
     "metadata": {},
     "output_type": "execute_result"
    }
   ],
   "source": [
    "from sklearn.metrics import roc_auc_score\n",
    "roc_auc_score(test_y,y_pred_proba,multi_class ='ovr')"
   ]
  },
  {
   "cell_type": "markdown",
   "id": "3170baa6",
   "metadata": {},
   "source": [
    "roc_auc_score is 75%"
   ]
  },
  {
   "cell_type": "code",
   "execution_count": 463,
   "id": "bc4f382d",
   "metadata": {},
   "outputs": [
    {
     "name": "stdout",
     "output_type": "stream",
     "text": [
      "Cross Val Score: 72.26507713884993\n"
     ]
    }
   ],
   "source": [
    "svscore = cross_val_score(svc,x2,y2,cv=9)\n",
    "svs = svscore.mean()\n",
    "print('Cross Val Score:',svs*100)"
   ]
  },
  {
   "cell_type": "markdown",
   "id": "aea07106",
   "metadata": {},
   "source": [
    "Cross Val Score: 72.2%"
   ]
  },
  {
   "cell_type": "code",
   "execution_count": 464,
   "id": "dc8d3047",
   "metadata": {},
   "outputs": [
    {
     "name": "stdout",
     "output_type": "stream",
     "text": [
      "              precision    recall  f1-score   support\n",
      "\n",
      "           0       0.44      0.67      0.53         6\n",
      "           1       0.75      0.78      0.76        54\n",
      "           2       0.50      0.25      0.33         8\n",
      "           3       0.85      0.92      0.89        38\n",
      "           4       0.00      0.00      0.00         3\n",
      "           5       1.00      0.25      0.40         4\n",
      "           6       0.75      0.78      0.77        23\n",
      "           7       0.91      0.94      0.92        31\n",
      "\n",
      "    accuracy                           0.78       167\n",
      "   macro avg       0.65      0.57      0.58       167\n",
      "weighted avg       0.77      0.78      0.77       167\n",
      "\n"
     ]
    }
   ],
   "source": [
    "print(classification_report(test_y,pred))"
   ]
  },
  {
   "cell_type": "markdown",
   "id": "5c725327",
   "metadata": {},
   "source": [
    "Classification report is printed for SVC"
   ]
  },
  {
   "cell_type": "markdown",
   "id": "8dd154b7",
   "metadata": {},
   "source": [
    "## RandomForestClassifier"
   ]
  },
  {
   "cell_type": "code",
   "execution_count": 465,
   "id": "4be025a4",
   "metadata": {},
   "outputs": [
    {
     "name": "stdout",
     "output_type": "stream",
     "text": [
      "{'max_depth': 12, 'max_features': 5}\n"
     ]
    }
   ],
   "source": [
    "from sklearn.model_selection import GridSearchCV\n",
    "from sklearn.datasets import make_classification\n",
    "from sklearn.ensemble import RandomForestClassifier\n",
    "rfc=RandomForestClassifier()\n",
    "\n",
    "forest_params = [{'max_depth': list(range(10, 15)), 'max_features': list(range(0,14))}]\n",
    "\n",
    "clf = GridSearchCV(rfc, forest_params, cv = 10, scoring='accuracy')\n",
    "\n",
    "clf.fit(train_x,train_y)\n",
    "    \n",
    "print(clf.best_params_)"
   ]
  },
  {
   "cell_type": "markdown",
   "id": "94cf8abd",
   "metadata": {},
   "source": [
    "Best parameters for RandomForestClassifier "
   ]
  },
  {
   "cell_type": "code",
   "execution_count": 466,
   "id": "6b36ed65",
   "metadata": {},
   "outputs": [
    {
     "data": {
      "text/plain": [
       "0.9984984984984985"
      ]
     },
     "execution_count": 466,
     "metadata": {},
     "output_type": "execute_result"
    }
   ],
   "source": [
    "rfc= RandomForestClassifier(max_depth=12,max_features=5)\n",
    "rfc.fit(train_x,train_y)\n",
    "rfc.score(train_x,train_y)"
   ]
  },
  {
   "cell_type": "code",
   "execution_count": 467,
   "id": "cef7f4d9",
   "metadata": {},
   "outputs": [
    {
     "name": "stdout",
     "output_type": "stream",
     "text": [
      "Accuracy of the model is:  0.7544910179640718\n",
      "Confusion Matrix:  [[ 2  2  0  0  0  0  2  0]\n",
      " [ 2 39  3  4  0  1  4  1]\n",
      " [ 0  2  1  5  0  0  0  0]\n",
      " [ 0  5  0 33  0  0  0  0]\n",
      " [ 0  0  1  1  0  1  0  0]\n",
      " [ 0  2  1  0  0  1  0  0]\n",
      " [ 0  4  0  0  0  0 19  0]\n",
      " [ 0  0  0  0  0  0  0 31]]\n"
     ]
    }
   ],
   "source": [
    "#Predicted value\n",
    "pred = rfc.predict(test_x)\n",
    "from sklearn.metrics import accuracy_score, confusion_matrix\n",
    "accuracy=accuracy_score(test_y,pred)\n",
    "confusion=confusion_matrix(test_y,pred)\n",
    "print(\"Accuracy of the model is: \",accuracy)\n",
    "print(\"Confusion Matrix: \", confusion)"
   ]
  },
  {
   "cell_type": "markdown",
   "id": "4a269576",
   "metadata": {},
   "source": [
    "Accuracy of the model is: 75%"
   ]
  },
  {
   "cell_type": "code",
   "execution_count": 483,
   "id": "3cf2e370",
   "metadata": {},
   "outputs": [
    {
     "name": "stdout",
     "output_type": "stream",
     "text": [
      "Cross Val Score: 78.74785725416861\n"
     ]
    }
   ],
   "source": [
    "rfscore = cross_val_score(rfc,x2,y2,cv=9)\n",
    "rfs = rfscore.mean()\n",
    "print('Cross Val Score:',rfs*100)"
   ]
  },
  {
   "cell_type": "markdown",
   "id": "92a825bf",
   "metadata": {},
   "source": [
    "Cross Val Score: 78.7%"
   ]
  },
  {
   "cell_type": "markdown",
   "id": "71d2688c",
   "metadata": {},
   "source": [
    "## 4. KNeighbors Classifier"
   ]
  },
  {
   "cell_type": "code",
   "execution_count": 471,
   "id": "5bf89634",
   "metadata": {},
   "outputs": [
    {
     "name": "stdout",
     "output_type": "stream",
     "text": [
      "{'algorithm': 'auto', 'n_neighbors': 3, 'weights': 'distance'}\n"
     ]
    }
   ],
   "source": [
    "from sklearn.neighbors import KNeighborsClassifier\n",
    "from sklearn.model_selection import GridSearchCV\n",
    "from sklearn.datasets import make_classification\n",
    "\n",
    "knc=KNeighborsClassifier()\n",
    "\n",
    "parameters = {'n_neighbors':list(range(0,10)),\n",
    "              'weights':['uniform', 'distance'],\n",
    "             'algorithm':['auto', 'ball_tree', 'kd_tree', 'brute']\n",
    "              }\n",
    "\n",
    "clf = GridSearchCV(knc, parameters, cv=9, scoring='accuracy')\n",
    "\n",
    "clf.fit(train_x,train_y)\n",
    "    \n",
    "print(clf.best_params_)"
   ]
  },
  {
   "cell_type": "markdown",
   "id": "bc263d76",
   "metadata": {},
   "source": [
    "Best parameters for KNeighborsClassifier"
   ]
  },
  {
   "cell_type": "code",
   "execution_count": 472,
   "id": "de97c3c9",
   "metadata": {},
   "outputs": [
    {
     "data": {
      "text/plain": [
       "1.0"
      ]
     },
     "execution_count": 472,
     "metadata": {},
     "output_type": "execute_result"
    }
   ],
   "source": [
    "knc= KNeighborsClassifier(algorithm='auto',n_neighbors=3,weights='distance')\n",
    "knc.fit(train_x,train_y)\n",
    "knc.score(train_x,train_y)"
   ]
  },
  {
   "cell_type": "code",
   "execution_count": 473,
   "id": "e56d97b4",
   "metadata": {},
   "outputs": [
    {
     "name": "stdout",
     "output_type": "stream",
     "text": [
      "Accuracy of the model is:  0.6706586826347305\n",
      "Confusion Matrix:  [[ 3  0  0  0  0  1  2  0]\n",
      " [ 2 36  4  3  0  2  6  1]\n",
      " [ 0  0  0  5  0  1  0  2]\n",
      " [ 0  4  1 33  0  0  0  0]\n",
      " [ 0  1  1  1  0  0  0  0]\n",
      " [ 0  2  1  0  0  1  0  0]\n",
      " [ 2  5  0  0  0  0 15  1]\n",
      " [ 0  1  0  6  0  0  0 24]]\n"
     ]
    }
   ],
   "source": [
    "#Predicted value\n",
    "pred = knc.predict(test_x)\n",
    "from sklearn.metrics import accuracy_score, confusion_matrix\n",
    "accuracy=accuracy_score(test_y,pred)\n",
    "confusion=confusion_matrix(test_y,pred)\n",
    "print(\"Accuracy of the model is: \",accuracy)\n",
    "print(\"Confusion Matrix: \", confusion)"
   ]
  },
  {
   "cell_type": "markdown",
   "id": "058c3e8b",
   "metadata": {},
   "source": [
    "Accuracy of the model is: 67%"
   ]
  },
  {
   "cell_type": "code",
   "execution_count": 475,
   "id": "dc5f78cb",
   "metadata": {},
   "outputs": [
    {
     "name": "stdout",
     "output_type": "stream",
     "text": [
      "Cross Val Score: 69.04056932107422\n"
     ]
    }
   ],
   "source": [
    "knscore = cross_val_score(knc,x2,y2,cv=9)\n",
    "kns = knscore.mean()\n",
    "print('Cross Val Score:',kns*100)"
   ]
  },
  {
   "cell_type": "markdown",
   "id": "964de975",
   "metadata": {},
   "source": [
    "Cross Val Score: 69%"
   ]
  },
  {
   "cell_type": "markdown",
   "id": "3f1a4b2c",
   "metadata": {},
   "source": [
    "Best Model is Random Forest Classifier "
   ]
  },
  {
   "cell_type": "markdown",
   "id": "94e3b5c1",
   "metadata": {},
   "source": [
    "# Model saving:"
   ]
  },
  {
   "cell_type": "code",
   "execution_count": 479,
   "id": "f8234a90",
   "metadata": {},
   "outputs": [],
   "source": [
    "import pickle\n",
    "filename = 'primary_fuel.pkl'\n",
    "pickle.dump(rfc, open(filename, 'wb'))"
   ]
  },
  {
   "cell_type": "markdown",
   "id": "5220f7db",
   "metadata": {},
   "source": [
    "## Accuracy:"
   ]
  },
  {
   "cell_type": "code",
   "execution_count": 484,
   "id": "4a4b59cc",
   "metadata": {},
   "outputs": [
    {
     "name": "stdout",
     "output_type": "stream",
     "text": [
      "0.7544910179640718\n"
     ]
    }
   ],
   "source": [
    "loaded_model = pickle.load(open('primary_fuel.pkl', 'rb'))\n",
    "result = loaded_model.score(test_x, test_y)\n",
    "print(result)"
   ]
  },
  {
   "cell_type": "markdown",
   "id": "60ec2dd8",
   "metadata": {},
   "source": [
    "Accuracy of 75.4% so model performing well"
   ]
  },
  {
   "cell_type": "code",
   "execution_count": 481,
   "id": "127102e7",
   "metadata": {},
   "outputs": [
    {
     "data": {
      "text/html": [
       "<div>\n",
       "<style scoped>\n",
       "    .dataframe tbody tr th:only-of-type {\n",
       "        vertical-align: middle;\n",
       "    }\n",
       "\n",
       "    .dataframe tbody tr th {\n",
       "        vertical-align: top;\n",
       "    }\n",
       "\n",
       "    .dataframe thead th {\n",
       "        text-align: right;\n",
       "    }\n",
       "</style>\n",
       "<table border=\"1\" class=\"dataframe\">\n",
       "  <thead>\n",
       "    <tr style=\"text-align: right;\">\n",
       "      <th></th>\n",
       "      <th>original</th>\n",
       "      <th>predicted</th>\n",
       "    </tr>\n",
       "  </thead>\n",
       "  <tbody>\n",
       "    <tr>\n",
       "      <th>0</th>\n",
       "      <td>3</td>\n",
       "      <td>3</td>\n",
       "    </tr>\n",
       "    <tr>\n",
       "      <th>1</th>\n",
       "      <td>0</td>\n",
       "      <td>5</td>\n",
       "    </tr>\n",
       "    <tr>\n",
       "      <th>2</th>\n",
       "      <td>1</td>\n",
       "      <td>1</td>\n",
       "    </tr>\n",
       "    <tr>\n",
       "      <th>3</th>\n",
       "      <td>0</td>\n",
       "      <td>6</td>\n",
       "    </tr>\n",
       "    <tr>\n",
       "      <th>4</th>\n",
       "      <td>3</td>\n",
       "      <td>1</td>\n",
       "    </tr>\n",
       "    <tr>\n",
       "      <th>...</th>\n",
       "      <td>...</td>\n",
       "      <td>...</td>\n",
       "    </tr>\n",
       "    <tr>\n",
       "      <th>162</th>\n",
       "      <td>6</td>\n",
       "      <td>6</td>\n",
       "    </tr>\n",
       "    <tr>\n",
       "      <th>163</th>\n",
       "      <td>2</td>\n",
       "      <td>7</td>\n",
       "    </tr>\n",
       "    <tr>\n",
       "      <th>164</th>\n",
       "      <td>1</td>\n",
       "      <td>3</td>\n",
       "    </tr>\n",
       "    <tr>\n",
       "      <th>165</th>\n",
       "      <td>0</td>\n",
       "      <td>0</td>\n",
       "    </tr>\n",
       "    <tr>\n",
       "      <th>166</th>\n",
       "      <td>5</td>\n",
       "      <td>1</td>\n",
       "    </tr>\n",
       "  </tbody>\n",
       "</table>\n",
       "<p>167 rows × 2 columns</p>\n",
       "</div>"
      ],
      "text/plain": [
       "     original  predicted\n",
       "0           3          3\n",
       "1           0          5\n",
       "2           1          1\n",
       "3           0          6\n",
       "4           3          1\n",
       "..        ...        ...\n",
       "162         6          6\n",
       "163         2          7\n",
       "164         1          3\n",
       "165         0          0\n",
       "166         5          1\n",
       "\n",
       "[167 rows x 2 columns]"
      ]
     },
     "execution_count": 481,
     "metadata": {},
     "output_type": "execute_result"
    }
   ],
   "source": [
    "import numpy as np\n",
    "a=np.array(test_y)\n",
    "pred_decision =np.array(rfc.predict(test_x))\n",
    "df_com=pd.DataFrame({\"original\":a, \"predicted\": pred},index=range(len(a)))\n",
    "df_com"
   ]
  },
  {
   "cell_type": "markdown",
   "id": "41dbfa8a",
   "metadata": {},
   "source": [
    "Model is predicting values but not much accurate"
   ]
  }
 ],
 "metadata": {
  "kernelspec": {
   "display_name": "Python 3",
   "language": "python",
   "name": "python3"
  },
  "language_info": {
   "codemirror_mode": {
    "name": "ipython",
    "version": 3
   },
   "file_extension": ".py",
   "mimetype": "text/x-python",
   "name": "python",
   "nbconvert_exporter": "python",
   "pygments_lexer": "ipython3",
   "version": "3.8.8"
  }
 },
 "nbformat": 4,
 "nbformat_minor": 5
}
